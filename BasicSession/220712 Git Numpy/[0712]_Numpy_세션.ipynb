{
  "nbformat": 4,
  "nbformat_minor": 0,
  "metadata": {
    "colab": {
      "name": "[0712] Numpy 세션.ipynb",
      "provenance": [],
      "collapsed_sections": []
    },
    "kernelspec": {
      "name": "python3",
      "display_name": "Python 3"
    },
    "language_info": {
      "name": "python"
    }
  },
  "cells": [
    {
      "cell_type": "markdown",
      "source": [
        "# Numpy"
      ],
      "metadata": {
        "id": "IgWy3M1qqSBS"
      }
    },
    {
      "cell_type": "code",
      "source": [
        "import numpy as np\n",
        "np.__version__"
      ],
      "metadata": {
        "colab": {
          "base_uri": "https://localhost:8080/",
          "height": 35
        },
        "id": "e1F0fc9zTNT-",
        "outputId": "7534f562-d5fd-4544-9b87-04b5a00e40a5"
      },
      "execution_count": 1,
      "outputs": [
        {
          "output_type": "execute_result",
          "data": {
            "text/plain": [
              "'1.21.6'"
            ],
            "application/vnd.google.colaboratory.intrinsic+json": {
              "type": "string"
            }
          },
          "metadata": {},
          "execution_count": 1
        }
      ]
    },
    {
      "cell_type": "markdown",
      "source": [
        "### (0) Array정의, list, pandas와의 차이 "
      ],
      "metadata": {
        "id": "z7rW5f6-qUfx"
      }
    },
    {
      "cell_type": "markdown",
      "source": [
        "#### Array vs list\n",
        "\n",
        "공통점  \n",
        "- 아이템들의 컬렉션이다.\n",
        "- 아이템들의 순서가 있다.\n",
        "\n",
        "차이점  \n",
        "- 리스트는 여러가지 자료형 허용, 내부 배열에서 원소 개수 달라도 ok\n",
        "- 배열은 한 가지 자료형만 허용, 내부 배열 내 원소 개수가 모두 같아야 함\n",
        "- 리스트는 덧셈 시 항목을 이어 붙이는 concatenate를 수행\n",
        "- 배열은 덧셈 시 항목 간 덧셈을 수행\n",
        "- 자료형 종류가 다르기 때문에 자료형에서 지원하는 메소드의 종류에도 차이 존재  \n",
        "(ex. 리스트에서는 mean, argmax, round 등 어레이 메소드를 지원하지 않고, 배열에서는 append, remove, extend 등 리스트 메소드를 지원하지 않음.)\n",
        "- 배열이 연산이 더 빠름"
      ],
      "metadata": {
        "id": "QbFUJZkdKYBN"
      }
    },
    {
      "cell_type": "code",
      "execution_count": 2,
      "metadata": {
        "colab": {
          "base_uri": "https://localhost:8080/"
        },
        "id": "hxvnBKRRqKQl",
        "outputId": "6f701a2d-94da-4ecc-93f9-6553c2df0309"
      },
      "outputs": [
        {
          "output_type": "stream",
          "name": "stdout",
          "text": [
            "<U21\n"
          ]
        }
      ],
      "source": [
        "l1 = [1, 3, 5, 'a', 'b'] # 1, 3, 5는 숫자형, 'a', 'b'는 문자열\n",
        "a1 = np.array([1, 3, 5, 'a', 'b']) # '1', '3', '5', 'a', 'b'의 문자열로 전환\n",
        "print(a1.dtype)"
      ]
    },
    {
      "cell_type": "code",
      "source": [
        "l1 = [[1], [3, 5], [2, 4, 6]] # 문제 X\n",
        "a1 = np.array([[1], [3, 5], [2, 4, 6]]) # 개수가 달라서 array 선언 불가능\n",
        "# array([list([1]), list([3, 5]), list([2, 4, 6])], dtype=object)\n",
        "print(l1)\n",
        "print(a1)"
      ],
      "metadata": {
        "colab": {
          "base_uri": "https://localhost:8080/"
        },
        "id": "ni8b5O7XNrmG",
        "outputId": "b6e4469d-9798-4782-bad3-0a0cf187d46a"
      },
      "execution_count": 3,
      "outputs": [
        {
          "output_type": "stream",
          "name": "stdout",
          "text": [
            "[[1], [3, 5], [2, 4, 6]]\n",
            "[list([1]) list([3, 5]) list([2, 4, 6])]\n"
          ]
        },
        {
          "output_type": "stream",
          "name": "stderr",
          "text": [
            "/usr/local/lib/python3.7/dist-packages/ipykernel_launcher.py:2: VisibleDeprecationWarning: Creating an ndarray from ragged nested sequences (which is a list-or-tuple of lists-or-tuples-or ndarrays with different lengths or shapes) is deprecated. If you meant to do this, you must specify 'dtype=object' when creating the ndarray.\n",
            "  \n"
          ]
        }
      ]
    },
    {
      "cell_type": "code",
      "source": [
        "# 리스트 연산\n",
        "l1 = [1, 3, 5]\n",
        "l2 = [2, 4, 6]\n",
        "\n",
        "print(l1 + l2) \n",
        "print(l1 * 3) "
      ],
      "metadata": {
        "colab": {
          "base_uri": "https://localhost:8080/"
        },
        "id": "TmfWc9ZINzfK",
        "outputId": "e51082f8-b124-40ab-cba5-28da119469fa"
      },
      "execution_count": 4,
      "outputs": [
        {
          "output_type": "stream",
          "name": "stdout",
          "text": [
            "[1, 3, 5, 2, 4, 6]\n",
            "[1, 3, 5, 1, 3, 5, 1, 3, 5]\n"
          ]
        }
      ]
    },
    {
      "cell_type": "code",
      "source": [
        "# 넘파이 어레이 연산\n",
        "a1 = np.array([1, 3, 5])\n",
        "a2 = np.array([2, 4, 6])\n",
        "\n",
        "print(a1 + a2 )\n",
        "print(a1 * a2 )\n",
        "print(a1 + 2)\n",
        "print(a1 * 3 )"
      ],
      "metadata": {
        "colab": {
          "base_uri": "https://localhost:8080/"
        },
        "id": "B15etkoFOCKq",
        "outputId": "dadab6b1-3231-49a9-8b2a-53ac0784dc0e"
      },
      "execution_count": 5,
      "outputs": [
        {
          "output_type": "stream",
          "name": "stdout",
          "text": [
            "[ 3  7 11]\n",
            "[ 2 12 30]\n",
            "[3 5 7]\n",
            "[ 3  9 15]\n"
          ]
        }
      ]
    },
    {
      "cell_type": "code",
      "source": [
        "import time\n",
        "\n",
        "# 리스트 연산 속도\n",
        "a = list(range(10 ** 8))\n",
        "\n",
        "start = time.time()\n",
        "for i in range(10 ** 8):\n",
        "    a[i] *= 2\n",
        "end = time.time()\n",
        "print(end - start) # 약 18.41초\n",
        "\n",
        "# 어레이 연산 속도\n",
        "a = np.array(range(10 ** 8))\n",
        "\n",
        "start = time.time()\n",
        "a = a * 2\n",
        "end = time.time()\n",
        "print(end - start) # 약 1.14초"
      ],
      "metadata": {
        "colab": {
          "base_uri": "https://localhost:8080/"
        },
        "id": "j_TEcHexLwan",
        "outputId": "234a872f-c07e-4b2d-e06f-e4a621d82e48"
      },
      "execution_count": 6,
      "outputs": [
        {
          "output_type": "stream",
          "name": "stdout",
          "text": [
            "18.414382934570312\n",
            "1.1420695781707764\n"
          ]
        }
      ]
    },
    {
      "cell_type": "markdown",
      "source": [
        "#### Array vs pandas"
      ],
      "metadata": {
        "id": "a_pNoAs3OfiE"
      }
    },
    {
      "cell_type": "markdown",
      "source": [
        "- Pandas는 여러 복합적인 데이터를 보고(시각화) 분석할때 도움\n",
        "- Numpy는 values들을 연산을 통해 다룰 때"
      ],
      "metadata": {
        "id": "EdTQbak9OkaC"
      }
    },
    {
      "cell_type": "markdown",
      "source": [
        "### (1) Array "
      ],
      "metadata": {
        "id": "0_Rx2jq5qc9x"
      }
    },
    {
      "cell_type": "markdown",
      "source": [
        "#### 배열 생성"
      ],
      "metadata": {
        "id": "0cmO_7Ir7SfA"
      }
    },
    {
      "cell_type": "code",
      "source": [
        "a1 = np.array([1,2,3,4,5])\n",
        "print(a1)\n",
        "print(type(a1)) #nd = n dimensional n차원\n",
        "print(a1.shape) # 5개의 element 존재하는 1차원 배열\n",
        "print(a1[0], a1[1], a1[2]) # list와 같이 인덱스로 접근 가능\n",
        "a1[0] = 4\n",
        "print(a1)"
      ],
      "metadata": {
        "colab": {
          "base_uri": "https://localhost:8080/"
        },
        "id": "blluc9phqK0S",
        "outputId": "d221575a-4ca1-49fc-f8a2-63fd193ba0b7"
      },
      "execution_count": 7,
      "outputs": [
        {
          "output_type": "stream",
          "name": "stdout",
          "text": [
            "[1 2 3 4 5]\n",
            "<class 'numpy.ndarray'>\n",
            "(5,)\n",
            "1 2 3\n",
            "[4 2 3 4 5]\n"
          ]
        }
      ]
    },
    {
      "cell_type": "code",
      "source": [
        "a2 = np.array([[1,2,3],[4,5,6],[7,8,9]])\n",
        "print(a2)\n",
        "print(a2.shape) # 3 by 3의 array\n",
        "print(a2[0,0], a2[0,1]) # 인덱스로 접근 가능"
      ],
      "metadata": {
        "colab": {
          "base_uri": "https://localhost:8080/"
        },
        "id": "SQLeorJ57b3o",
        "outputId": "1132ae0e-21b2-4bb7-afc6-c8eddfe9a607"
      },
      "execution_count": 8,
      "outputs": [
        {
          "output_type": "stream",
          "name": "stdout",
          "text": [
            "[[1 2 3]\n",
            " [4 5 6]\n",
            " [7 8 9]]\n",
            "(3, 3)\n",
            "1 2\n"
          ]
        }
      ]
    },
    {
      "cell_type": "code",
      "source": [
        "a3 = np.array([[[1,2,3],[4,5,6],[7,8,9]],\n",
        "              [[1,2,3],[4,5,6],[7,8,9]],\n",
        "              [[1,2,3],[4,5,6],[7,8,9]]])\n",
        "print(a3)\n",
        "print(a3.shape)"
      ],
      "metadata": {
        "colab": {
          "base_uri": "https://localhost:8080/"
        },
        "id": "O15uP1LP7dMZ",
        "outputId": "9f53976b-622a-487e-8b23-8fc7de7f5fa7"
      },
      "execution_count": 9,
      "outputs": [
        {
          "output_type": "stream",
          "name": "stdout",
          "text": [
            "[[[1 2 3]\n",
            "  [4 5 6]\n",
            "  [7 8 9]]\n",
            "\n",
            " [[1 2 3]\n",
            "  [4 5 6]\n",
            "  [7 8 9]]\n",
            "\n",
            " [[1 2 3]\n",
            "  [4 5 6]\n",
            "  [7 8 9]]]\n",
            "(3, 3, 3)\n"
          ]
        }
      ]
    },
    {
      "cell_type": "markdown",
      "source": [
        "- `ndim()`, `shape()`\n",
        "    - ndim: 배열의 차원 수\n",
        "    - shape: 배열의 차원을 튜플로 표시"
      ],
      "metadata": {
        "id": "9LFhrQbLOz73"
      }
    },
    {
      "cell_type": "code",
      "source": [
        "print(a1.ndim)\n",
        "print(a1.shape)"
      ],
      "metadata": {
        "colab": {
          "base_uri": "https://localhost:8080/"
        },
        "id": "2u7qm-16RAEF",
        "outputId": "3f960189-2e0b-4e21-92d6-c44567187c37"
      },
      "execution_count": 104,
      "outputs": [
        {
          "output_type": "stream",
          "name": "stdout",
          "text": [
            "1\n",
            "(10,)\n"
          ]
        }
      ]
    },
    {
      "cell_type": "code",
      "source": [
        "print(a2.ndim)\n",
        "print(a2.shape)"
      ],
      "metadata": {
        "colab": {
          "base_uri": "https://localhost:8080/"
        },
        "id": "lleYIPTpPBOc",
        "outputId": "5259a486-c13e-4d07-b94d-b2db75efa6bb"
      },
      "execution_count": 10,
      "outputs": [
        {
          "output_type": "stream",
          "name": "stdout",
          "text": [
            "2\n",
            "(3, 3)\n"
          ]
        }
      ]
    },
    {
      "cell_type": "code",
      "source": [
        "print(a3.ndim)\n",
        "print(a3.shape)"
      ],
      "metadata": {
        "colab": {
          "base_uri": "https://localhost:8080/"
        },
        "id": "Ager5TAxQ9j-",
        "outputId": "2a79b265-3028-4b01-f063-dfc1afc071e7"
      },
      "execution_count": 103,
      "outputs": [
        {
          "output_type": "stream",
          "name": "stdout",
          "text": [
            "3\n",
            "(3, 3, 3)\n"
          ]
        }
      ]
    },
    {
      "cell_type": "markdown",
      "source": [
        "#### 배열 생성 및 초기화 함수"
      ],
      "metadata": {
        "id": "OZR1CiSe7itQ"
      }
    },
    {
      "cell_type": "markdown",
      "source": [
        "* `zeros()`: 모든 요소를 0으로 초기화"
      ],
      "metadata": {
        "id": "gjr4vHzN7sue"
      }
    },
    {
      "cell_type": "code",
      "source": [
        "# np.zeros(10)\n",
        "np.zeros([2,2])"
      ],
      "metadata": {
        "colab": {
          "base_uri": "https://localhost:8080/"
        },
        "id": "DOzXHCKY7rYg",
        "outputId": "044b88a9-3df2-4f11-a140-2e55678c7d5a"
      },
      "execution_count": 11,
      "outputs": [
        {
          "output_type": "execute_result",
          "data": {
            "text/plain": [
              "array([[0., 0.],\n",
              "       [0., 0.]])"
            ]
          },
          "metadata": {},
          "execution_count": 11
        }
      ]
    },
    {
      "cell_type": "code",
      "source": [
        "np.zeros(10)"
      ],
      "metadata": {
        "colab": {
          "base_uri": "https://localhost:8080/"
        },
        "id": "K3jJiWx4S2_e",
        "outputId": "0725f7c8-0f9b-4ee8-8460-48aec0085262"
      },
      "execution_count": 105,
      "outputs": [
        {
          "output_type": "execute_result",
          "data": {
            "text/plain": [
              "array([0., 0., 0., 0., 0., 0., 0., 0., 0., 0.])"
            ]
          },
          "metadata": {},
          "execution_count": 105
        }
      ]
    },
    {
      "cell_type": "markdown",
      "source": [
        "* `ones()`: 모든 요소를 1로 초기화"
      ],
      "metadata": {
        "id": "4TtK7pJP7ucH"
      }
    },
    {
      "cell_type": "code",
      "source": [
        "np.ones(10)"
      ],
      "metadata": {
        "colab": {
          "base_uri": "https://localhost:8080/"
        },
        "id": "odW3IgXV7wFY",
        "outputId": "3c0a030b-139f-46e9-8d0a-c0d4d226a87a"
      },
      "execution_count": 12,
      "outputs": [
        {
          "output_type": "execute_result",
          "data": {
            "text/plain": [
              "array([1., 1., 1., 1., 1., 1., 1., 1., 1., 1.])"
            ]
          },
          "metadata": {},
          "execution_count": 12
        }
      ]
    },
    {
      "cell_type": "markdown",
      "source": [
        "* `full()`: 모든 요소를 지정한 값으로 초기화"
      ],
      "metadata": {
        "id": "Cy2Rcigr7yWo"
      }
    },
    {
      "cell_type": "code",
      "source": [
        "np.full((3,3), 1.5)"
      ],
      "metadata": {
        "colab": {
          "base_uri": "https://localhost:8080/"
        },
        "id": "kd1ib6Yb70J4",
        "outputId": "0ba0d04c-82ad-44b3-c79d-20c4f5806a80"
      },
      "execution_count": 13,
      "outputs": [
        {
          "output_type": "execute_result",
          "data": {
            "text/plain": [
              "array([[1.5, 1.5, 1.5],\n",
              "       [1.5, 1.5, 1.5],\n",
              "       [1.5, 1.5, 1.5]])"
            ]
          },
          "metadata": {},
          "execution_count": 13
        }
      ]
    },
    {
      "cell_type": "markdown",
      "source": [
        "* `eye()`: 단위행렬(identity matrix) 생성\n",
        "  + 주대각선의 원소가 모두 1이고 나머지 원소는 모두 0인 정사각 행렬"
      ],
      "metadata": {
        "id": "r4yu7duR7156"
      }
    },
    {
      "cell_type": "code",
      "source": [
        "np.eye(3)\n",
        "# 정사각행렬이므로 size만 지정"
      ],
      "metadata": {
        "colab": {
          "base_uri": "https://localhost:8080/"
        },
        "id": "1fEtvAi574An",
        "outputId": "c7c60ae6-9437-419c-abc8-9a2f9be2ad95"
      },
      "execution_count": 14,
      "outputs": [
        {
          "output_type": "execute_result",
          "data": {
            "text/plain": [
              "array([[1., 0., 0.],\n",
              "       [0., 1., 0.],\n",
              "       [0., 0., 1.]])"
            ]
          },
          "metadata": {},
          "execution_count": 14
        }
      ]
    },
    {
      "cell_type": "markdown",
      "source": [
        "* `empty()`: 초기화되지 않은 배열 생성\n",
        "  + 초기화가 없어서 배열 생성비용 저렴하고 빠름\n",
        "  + 초기화되지 않아서 기존 메모리 위치에 존재하는 값이 있음"
      ],
      "metadata": {
        "id": "hdmRf7dP79D4"
      }
    },
    {
      "cell_type": "code",
      "source": [
        "np.empty(10) # 이미 메모리에서 차지하고 있던 값이 들어가 있는 것 (어떤 값이 올지 모름)"
      ],
      "metadata": {
        "colab": {
          "base_uri": "https://localhost:8080/"
        },
        "id": "KMGUskTe7_r5",
        "outputId": "475ce25b-49c9-4a1e-9e73-2e323c014077"
      },
      "execution_count": 15,
      "outputs": [
        {
          "output_type": "execute_result",
          "data": {
            "text/plain": [
              "array([1., 1., 1., 1., 1., 1., 1., 1., 1., 1.])"
            ]
          },
          "metadata": {},
          "execution_count": 15
        }
      ]
    },
    {
      "cell_type": "markdown",
      "source": [
        "* `_like()`: 지정된 배열과 shape가 같은 행렬 생성\n",
        "  + `np.zeros_like()`\n",
        "  + `np.ones_like()`\n",
        "  + `np.full_like()`\n",
        "  + `np.empty_like()`"
      ],
      "metadata": {
        "id": "fzua5omz8ECQ"
      }
    },
    {
      "cell_type": "code",
      "source": [
        "print(a1)\n",
        "np.zeros_like(a1) #a1과 같은 shape의 배열 생성"
      ],
      "metadata": {
        "colab": {
          "base_uri": "https://localhost:8080/"
        },
        "id": "r0qa3JGK8Fqe",
        "outputId": "330e60c4-410f-4cce-821c-7fcb866e3f31"
      },
      "execution_count": 16,
      "outputs": [
        {
          "output_type": "stream",
          "name": "stdout",
          "text": [
            "[4 2 3 4 5]\n"
          ]
        },
        {
          "output_type": "execute_result",
          "data": {
            "text/plain": [
              "array([0, 0, 0, 0, 0])"
            ]
          },
          "metadata": {},
          "execution_count": 16
        }
      ]
    },
    {
      "cell_type": "code",
      "source": [
        "print(a2)\n",
        "np.ones_like(a2)"
      ],
      "metadata": {
        "colab": {
          "base_uri": "https://localhost:8080/"
        },
        "id": "FzY3Y0ze8HRn",
        "outputId": "1bd04195-ac5c-4d34-b43b-de99fc880228"
      },
      "execution_count": 17,
      "outputs": [
        {
          "output_type": "stream",
          "name": "stdout",
          "text": [
            "[[1 2 3]\n",
            " [4 5 6]\n",
            " [7 8 9]]\n"
          ]
        },
        {
          "output_type": "execute_result",
          "data": {
            "text/plain": [
              "array([[1, 1, 1],\n",
              "       [1, 1, 1],\n",
              "       [1, 1, 1]])"
            ]
          },
          "metadata": {},
          "execution_count": 17
        }
      ]
    },
    {
      "cell_type": "code",
      "source": [
        "print(a3)\n",
        "np.full_like(a3, 10)"
      ],
      "metadata": {
        "colab": {
          "base_uri": "https://localhost:8080/"
        },
        "id": "8Lb6xszG8IfI",
        "outputId": "7a46be83-552e-4a27-9a37-01228581d3a9"
      },
      "execution_count": 18,
      "outputs": [
        {
          "output_type": "stream",
          "name": "stdout",
          "text": [
            "[[[1 2 3]\n",
            "  [4 5 6]\n",
            "  [7 8 9]]\n",
            "\n",
            " [[1 2 3]\n",
            "  [4 5 6]\n",
            "  [7 8 9]]\n",
            "\n",
            " [[1 2 3]\n",
            "  [4 5 6]\n",
            "  [7 8 9]]]\n"
          ]
        },
        {
          "output_type": "execute_result",
          "data": {
            "text/plain": [
              "array([[[10, 10, 10],\n",
              "        [10, 10, 10],\n",
              "        [10, 10, 10]],\n",
              "\n",
              "       [[10, 10, 10],\n",
              "        [10, 10, 10],\n",
              "        [10, 10, 10]],\n",
              "\n",
              "       [[10, 10, 10],\n",
              "        [10, 10, 10],\n",
              "        [10, 10, 10]]])"
            ]
          },
          "metadata": {},
          "execution_count": 18
        }
      ]
    },
    {
      "cell_type": "markdown",
      "source": [
        "* `arange()`: 정수 범위로 배열 생성"
      ],
      "metadata": {
        "id": "rC2DL4N28fLw"
      }
    },
    {
      "cell_type": "code",
      "source": [
        "np.arange(0,30,2)\n",
        "#np.arange(0,30,2).reshape(3,5)"
      ],
      "metadata": {
        "colab": {
          "base_uri": "https://localhost:8080/"
        },
        "id": "LEK9eNED8eLg",
        "outputId": "1c1ab3b6-9fed-4c9c-bb28-7ff05ca6dc64"
      },
      "execution_count": 19,
      "outputs": [
        {
          "output_type": "execute_result",
          "data": {
            "text/plain": [
              "array([ 0,  2,  4,  6,  8, 10, 12, 14, 16, 18, 20, 22, 24, 26, 28])"
            ]
          },
          "metadata": {},
          "execution_count": 19
        }
      ]
    },
    {
      "cell_type": "markdown",
      "source": [
        "* `linspace()`: 범위 내에서 균등 간격의 배열 생성"
      ],
      "metadata": {
        "id": "K1xIEpGQ8hV5"
      }
    },
    {
      "cell_type": "code",
      "source": [
        "np.linspace(0,1,5) # 0부터 1까지 균등하게 5개로 나눠줘"
      ],
      "metadata": {
        "colab": {
          "base_uri": "https://localhost:8080/"
        },
        "id": "fbxdYuni8lfS",
        "outputId": "b0cabba6-f21c-4ae3-cc3f-2a6bd13962a0"
      },
      "execution_count": 20,
      "outputs": [
        {
          "output_type": "execute_result",
          "data": {
            "text/plain": [
              "array([0.  , 0.25, 0.5 , 0.75, 1.  ])"
            ]
          },
          "metadata": {},
          "execution_count": 20
        }
      ]
    },
    {
      "cell_type": "markdown",
      "source": [
        "* `logspace()`: 범위 내에서 균등간격으로 로그 스케일로 배열 생성"
      ],
      "metadata": {
        "id": "xWJnE9nY8mWS"
      }
    },
    {
      "cell_type": "code",
      "source": [
        "np.logspace(0.1,1,20)"
      ],
      "metadata": {
        "colab": {
          "base_uri": "https://localhost:8080/"
        },
        "id": "-NCKv0cm8oE2",
        "outputId": "d0d65702-3532-4078-e5be-5e941ab667ae"
      },
      "execution_count": 21,
      "outputs": [
        {
          "output_type": "execute_result",
          "data": {
            "text/plain": [
              "array([ 1.25892541,  1.40400425,  1.565802  ,  1.74624535,  1.94748304,\n",
              "        2.1719114 ,  2.42220294,  2.70133812,  3.0126409 ,  3.35981829,\n",
              "        3.74700446,  4.17881006,  4.66037703,  5.19743987,  5.79639395,\n",
              "        6.46437163,  7.2093272 ,  8.04013161,  8.9666781 , 10.        ])"
            ]
          },
          "metadata": {},
          "execution_count": 21
        }
      ]
    },
    {
      "cell_type": "markdown",
      "source": [
        "#### 랜덤값 이용하는 배열 생성 함수"
      ],
      "metadata": {
        "id": "vfsGEChb8x8w"
      }
    },
    {
      "cell_type": "markdown",
      "source": [
        "* `random.random()`: 랜덤한 수의 배열 생성"
      ],
      "metadata": {
        "id": "igu3J38X9H7w"
      }
    },
    {
      "cell_type": "code",
      "source": [
        "np.random.random((3,3)) # 실수값 반환"
      ],
      "metadata": {
        "colab": {
          "base_uri": "https://localhost:8080/"
        },
        "id": "E4055apD8yI4",
        "outputId": "15b48512-f288-4ce7-b290-f0442c555fff"
      },
      "execution_count": 22,
      "outputs": [
        {
          "output_type": "execute_result",
          "data": {
            "text/plain": [
              "array([[0.04732586, 0.83772451, 0.22877097],\n",
              "       [0.15577746, 0.95388896, 0.6658491 ],\n",
              "       [0.3898443 , 0.98612763, 0.53938792]])"
            ]
          },
          "metadata": {},
          "execution_count": 22
        }
      ]
    },
    {
      "cell_type": "markdown",
      "source": [
        "* `random.randint()`: 일정 구간의 랜덤 정수의 배열 생성"
      ],
      "metadata": {
        "id": "y5YHmTkD8yUo"
      }
    },
    {
      "cell_type": "code",
      "source": [
        "np.random.randint(0,10,(3,3))"
      ],
      "metadata": {
        "colab": {
          "base_uri": "https://localhost:8080/"
        },
        "id": "mIecXHZM8ydw",
        "outputId": "44043667-518e-4c5d-e856-43588f717b60"
      },
      "execution_count": 23,
      "outputs": [
        {
          "output_type": "execute_result",
          "data": {
            "text/plain": [
              "array([[7, 9, 1],\n",
              "       [3, 5, 4],\n",
              "       [1, 8, 0]])"
            ]
          },
          "metadata": {},
          "execution_count": 23
        }
      ]
    },
    {
      "cell_type": "markdown",
      "source": [
        "* `random.normal()`: 정규분포(normal distribution)를 고려한 랜덤한 수의 배열 생성\n",
        "* 평균=0, 표준편차=1, 3 x 3 배열"
      ],
      "metadata": {
        "id": "y83jBryi8yqf"
      }
    },
    {
      "cell_type": "code",
      "source": [
        "np.random.normal(0,1, size = (3,3))"
      ],
      "metadata": {
        "colab": {
          "base_uri": "https://localhost:8080/"
        },
        "id": "hU7lt3Ew8y6Y",
        "outputId": "f565669e-1ad8-4d71-9b9f-b6aaa86b2d22"
      },
      "execution_count": 24,
      "outputs": [
        {
          "output_type": "execute_result",
          "data": {
            "text/plain": [
              "array([[-0.21487574, -0.4839892 ,  1.38124562],\n",
              "       [ 1.14280215, -1.30456212,  0.31445083],\n",
              "       [-0.6503469 , -1.07499843, -0.02582802]])"
            ]
          },
          "metadata": {},
          "execution_count": 24
        }
      ]
    },
    {
      "cell_type": "markdown",
      "source": [
        "#### 날짜/시간 배열 생성"
      ],
      "metadata": {
        "id": "NEoz23WCJ01H"
      }
    },
    {
      "cell_type": "code",
      "source": [
        "date = np.array('2020-01-01', dtype = np.datetime64)\n",
        "date"
      ],
      "metadata": {
        "colab": {
          "base_uri": "https://localhost:8080/"
        },
        "id": "GskAaKTLJ5Q5",
        "outputId": "7587d1d3-1842-4dd2-e51a-bdce7b8718e7"
      },
      "execution_count": 25,
      "outputs": [
        {
          "output_type": "execute_result",
          "data": {
            "text/plain": [
              "array('2020-01-01', dtype='datetime64[D]')"
            ]
          },
          "metadata": {},
          "execution_count": 25
        }
      ]
    },
    {
      "cell_type": "code",
      "source": [
        "date + np.arange(12)"
      ],
      "metadata": {
        "colab": {
          "base_uri": "https://localhost:8080/"
        },
        "id": "gZMbrfwwJ6N1",
        "outputId": "632f92b0-eab4-4638-fe28-b9f84cfe99f5"
      },
      "execution_count": 26,
      "outputs": [
        {
          "output_type": "execute_result",
          "data": {
            "text/plain": [
              "array(['2020-01-01', '2020-01-02', '2020-01-03', '2020-01-04',\n",
              "       '2020-01-05', '2020-01-06', '2020-01-07', '2020-01-08',\n",
              "       '2020-01-09', '2020-01-10', '2020-01-11', '2020-01-12'],\n",
              "      dtype='datetime64[D]')"
            ]
          },
          "metadata": {},
          "execution_count": 26
        }
      ]
    },
    {
      "cell_type": "code",
      "source": [
        "datetime = np.datetime64('2020-06-01 12:00')\n",
        "datetime"
      ],
      "metadata": {
        "colab": {
          "base_uri": "https://localhost:8080/"
        },
        "id": "Ko2gp47aJ8FM",
        "outputId": "b646570b-fd13-43bc-a4a9-0b6b3df564f8"
      },
      "execution_count": 27,
      "outputs": [
        {
          "output_type": "execute_result",
          "data": {
            "text/plain": [
              "numpy.datetime64('2020-06-01T12:00')"
            ]
          },
          "metadata": {},
          "execution_count": 27
        }
      ]
    },
    {
      "cell_type": "markdown",
      "source": [
        "### (2) 연산 (산술연산, 논리연산) "
      ],
      "metadata": {
        "id": "SWE_CSrvqh1B"
      }
    },
    {
      "cell_type": "markdown",
      "source": [
        "#### 브로드캐스팅(Broadcasting)\n",
        "* 모양이 다른 배열들 간의 연산이 어떤 조건을 만족했을 때 가능해지도록 배열 자동 변환"
      ],
      "metadata": {
        "id": "NeOq5XsPQhfs"
      }
    },
    {
      "cell_type": "code",
      "source": [
        "a1 = np.array([1,2,3])\n",
        "print(a1)\n",
        "print(a1+5)\n",
        "\n",
        "a2 = np.arange(1,10).reshape(3,3)\n",
        "print(a2)\n",
        "print(a1+a2)"
      ],
      "metadata": {
        "colab": {
          "base_uri": "https://localhost:8080/"
        },
        "id": "PQxFSTDAqh86",
        "outputId": "a7d14aa0-2108-4767-c2f5-e1d95b15ce57"
      },
      "execution_count": 28,
      "outputs": [
        {
          "output_type": "stream",
          "name": "stdout",
          "text": [
            "[1 2 3]\n",
            "[6 7 8]\n",
            "[[1 2 3]\n",
            " [4 5 6]\n",
            " [7 8 9]]\n",
            "[[ 2  4  6]\n",
            " [ 5  7  9]\n",
            " [ 8 10 12]]\n"
          ]
        }
      ]
    },
    {
      "cell_type": "code",
      "source": [
        "b2 = np.array([1,2,3]).reshape(3,1)\n",
        "print(b2)\n",
        "print(a1+b2)"
      ],
      "metadata": {
        "colab": {
          "base_uri": "https://localhost:8080/"
        },
        "id": "QTLERKWlQmn2",
        "outputId": "b526099c-76b0-4101-a6af-d76999b27e15"
      },
      "execution_count": 29,
      "outputs": [
        {
          "output_type": "stream",
          "name": "stdout",
          "text": [
            "[[1]\n",
            " [2]\n",
            " [3]]\n",
            "[[2 3 4]\n",
            " [3 4 5]\n",
            " [4 5 6]]\n"
          ]
        }
      ]
    },
    {
      "cell_type": "markdown",
      "source": [
        "#### 산술 연산(Arithmetic Operators)"
      ],
      "metadata": {
        "id": "4XezNZu3QnqV"
      }
    },
    {
      "cell_type": "code",
      "source": [
        "a1 = np.arange(1,10)\n",
        "print(a1)\n",
        "print(a1+1)\n",
        "print(np.add(a1,1)) # 연산자와 동일한 역할을 하는 범용 함수 존재\n",
        "print(a1-2)\n",
        "print(np.subtract(a1,2))\n",
        "print(-a1)\n",
        "print(np.negative(a1))\n",
        "print(a1 * 2)\n",
        "print(np.multiply(a1,2))\n",
        "print(a1 / 2)\n",
        "print(np.divide(a1, 2))\n",
        "print(a1 // 2)\n",
        "print(np.floor_divide(a1, 2))\n",
        "print(a1 ** 2)\n",
        "print(np.power(a1, 2))\n",
        "print(a1 % 2)\n",
        "print(np.mod(a1, 2))"
      ],
      "metadata": {
        "colab": {
          "base_uri": "https://localhost:8080/"
        },
        "id": "l46vRE3aQ7VE",
        "outputId": "c60ccda4-a11f-42f0-91c0-6a0af7af2938"
      },
      "execution_count": 30,
      "outputs": [
        {
          "output_type": "stream",
          "name": "stdout",
          "text": [
            "[1 2 3 4 5 6 7 8 9]\n",
            "[ 2  3  4  5  6  7  8  9 10]\n",
            "[ 2  3  4  5  6  7  8  9 10]\n",
            "[-1  0  1  2  3  4  5  6  7]\n",
            "[-1  0  1  2  3  4  5  6  7]\n",
            "[-1 -2 -3 -4 -5 -6 -7 -8 -9]\n",
            "[-1 -2 -3 -4 -5 -6 -7 -8 -9]\n",
            "[ 2  4  6  8 10 12 14 16 18]\n",
            "[ 2  4  6  8 10 12 14 16 18]\n",
            "[0.5 1.  1.5 2.  2.5 3.  3.5 4.  4.5]\n",
            "[0.5 1.  1.5 2.  2.5 3.  3.5 4.  4.5]\n",
            "[0 1 1 2 2 3 3 4 4]\n",
            "[0 1 1 2 2 3 3 4 4]\n",
            "[ 1  4  9 16 25 36 49 64 81]\n",
            "[ 1  4  9 16 25 36 49 64 81]\n",
            "[1 0 1 0 1 0 1 0 1]\n",
            "[1 0 1 0 1 0 1 0 1]\n"
          ]
        }
      ]
    },
    {
      "cell_type": "code",
      "source": [
        "a1 = np.arange(1,10)\n",
        "print(a1)\n",
        "b1 = np.random.randint(1,10, size = 9)\n",
        "print(b1)\n",
        "print(a1+b1)\n",
        "print(a1-b1)\n",
        "print(a1 * b1)\n",
        "print(a1 / b1)\n",
        "print(a1 // b1)\n",
        "print(a1 % b1)"
      ],
      "metadata": {
        "colab": {
          "base_uri": "https://localhost:8080/"
        },
        "id": "VjxoopJEQ82n",
        "outputId": "8f7d9bca-c7e3-4548-8015-f4599518c3d2"
      },
      "execution_count": 31,
      "outputs": [
        {
          "output_type": "stream",
          "name": "stdout",
          "text": [
            "[1 2 3 4 5 6 7 8 9]\n",
            "[7 9 4 9 3 5 5 7 4]\n",
            "[ 8 11  7 13  8 11 12 15 13]\n",
            "[-6 -7 -1 -5  2  1  2  1  5]\n",
            "[ 7 18 12 36 15 30 35 56 36]\n",
            "[0.14285714 0.22222222 0.75       0.44444444 1.66666667 1.2\n",
            " 1.4        1.14285714 2.25      ]\n",
            "[0 0 0 0 1 1 1 1 2]\n",
            "[1 2 3 4 2 1 2 1 1]\n"
          ]
        }
      ]
    },
    {
      "cell_type": "code",
      "source": [
        "a2 = np.arange(1, 10).reshape(3,3)\n",
        "print(a2)\n",
        "b2 = np.random.randint(1,10, size = (3,3))\n",
        "print(b2)"
      ],
      "metadata": {
        "colab": {
          "base_uri": "https://localhost:8080/"
        },
        "id": "GwL59SYNd7Xn",
        "outputId": "6912172e-90b7-41b1-ec80-2501e823eb3c"
      },
      "execution_count": 108,
      "outputs": [
        {
          "output_type": "stream",
          "name": "stdout",
          "text": [
            "[[1 2 3]\n",
            " [4 5 6]\n",
            " [7 8 9]]\n",
            "[[4 5 8]\n",
            " [5 6 2]\n",
            " [5 2 8]]\n"
          ]
        }
      ]
    },
    {
      "cell_type": "code",
      "source": [
        "a2 = np.arange(1, 10).reshape(3,3)\n",
        "print(a2)\n",
        "b2 = np.random.randint(1,10, size = (3,3))\n",
        "print(b2)\n",
        "print(a2+b2)\n",
        "print(a2-b2)\n",
        "print(a2 * b2)\n",
        "print(a2 / b2)\n",
        "print(a2 // b2)\n",
        "print(a2 % b2)"
      ],
      "metadata": {
        "colab": {
          "base_uri": "https://localhost:8080/"
        },
        "id": "6jWC6X08Q_C2",
        "outputId": "a948931d-fd94-4b89-f332-4a901c383348"
      },
      "execution_count": 106,
      "outputs": [
        {
          "output_type": "stream",
          "name": "stdout",
          "text": [
            "[[1 2 3]\n",
            " [4 5 6]\n",
            " [7 8 9]]\n",
            "[[9 6 6]\n",
            " [4 8 1]\n",
            " [8 1 9]]\n",
            "[[10  8  9]\n",
            " [ 8 13  7]\n",
            " [15  9 18]]\n",
            "[[-8 -4 -3]\n",
            " [ 0 -3  5]\n",
            " [-1  7  0]]\n",
            "[[ 9 12 18]\n",
            " [16 40  6]\n",
            " [56  8 81]]\n",
            "[[0.11111111 0.33333333 0.5       ]\n",
            " [1.         0.625      6.        ]\n",
            " [0.875      8.         1.        ]]\n",
            "[[0 0 0]\n",
            " [1 0 6]\n",
            " [0 8 1]]\n",
            "[[1 2 3]\n",
            " [0 5 0]\n",
            " [7 0 0]]\n"
          ]
        }
      ]
    },
    {
      "cell_type": "markdown",
      "source": [
        "##### 절대값 함수(Absolute Function)\n",
        "\n",
        "* `absolute()`, `abs()`: 내장된 절대값 함수"
      ],
      "metadata": {
        "id": "y4YEnPInRD_F"
      }
    },
    {
      "cell_type": "code",
      "source": [
        "a1 = np.random.randint(-10, 10, size = 5)\n",
        "print(a1)\n",
        "print(np.abs(a1))"
      ],
      "metadata": {
        "colab": {
          "base_uri": "https://localhost:8080/"
        },
        "id": "BzQEibfORCMl",
        "outputId": "afe33489-59c3-47cd-a191-0027d330bcad"
      },
      "execution_count": 33,
      "outputs": [
        {
          "output_type": "stream",
          "name": "stdout",
          "text": [
            "[ 9 -8 -3  0  7]\n",
            "[9 8 3 0 7]\n"
          ]
        }
      ]
    },
    {
      "cell_type": "markdown",
      "source": [
        "##### 제곱/제곱근 함수\n",
        "\n",
        "* `square`, `sqrt`: 제곱, 제곱근 함수"
      ],
      "metadata": {
        "id": "EKXZgu5LRJIe"
      }
    },
    {
      "cell_type": "code",
      "source": [
        "a1 = np.array([1,4,9,16,25])\n",
        "print(a1)\n",
        "print(np.square(a1))\n",
        "print(np.sqrt(a1))"
      ],
      "metadata": {
        "colab": {
          "base_uri": "https://localhost:8080/"
        },
        "id": "jn92PoC7RKxg",
        "outputId": "158221a3-1dc5-4cec-eb7a-e8e8e1127cf7"
      },
      "execution_count": 109,
      "outputs": [
        {
          "output_type": "stream",
          "name": "stdout",
          "text": [
            "[ 1  4  9 16 25]\n",
            "[  1  16  81 256 625]\n",
            "[1. 2. 3. 4. 5.]\n"
          ]
        }
      ]
    },
    {
      "cell_type": "markdown",
      "source": [
        "##### 지수와 로그 함수 (Exponential and Log Function)"
      ],
      "metadata": {
        "id": "93Na7DoYRMXU"
      }
    },
    {
      "cell_type": "code",
      "source": [
        "a1 = np.random.randint(1, 10, size = 5)\n",
        "print(a1)\n",
        "print(np.exp(a1))\n",
        "print(np.power(a1,2))"
      ],
      "metadata": {
        "colab": {
          "base_uri": "https://localhost:8080/"
        },
        "id": "WP8sj3J1RMfk",
        "outputId": "2edf3028-3773-48f5-e8f7-929c12eb8fc1"
      },
      "execution_count": 111,
      "outputs": [
        {
          "output_type": "stream",
          "name": "stdout",
          "text": [
            "[3 7 3 8 3]\n",
            "[  20.08553692 1096.63315843   20.08553692 2980.95798704   20.08553692]\n",
            "[ 9 49  9 64  9]\n"
          ]
        }
      ]
    },
    {
      "cell_type": "code",
      "source": [
        "print(a1)\n",
        "print(np.log(a1))\n",
        "print(np.log2(a1))"
      ],
      "metadata": {
        "colab": {
          "base_uri": "https://localhost:8080/"
        },
        "id": "r7Qqgag3RQ4l",
        "outputId": "453b1186-7376-401d-cd38-aeeb6912ad42"
      },
      "execution_count": 110,
      "outputs": [
        {
          "output_type": "stream",
          "name": "stdout",
          "text": [
            "[ 1  4  9 16 25]\n",
            "[0.         1.38629436 2.19722458 2.77258872 3.21887582]\n",
            "[0.         2.         3.169925   4.         4.64385619]\n"
          ]
        }
      ]
    },
    {
      "cell_type": "markdown",
      "source": [
        "##### 삼각 함수(Trigonometrical Function)"
      ],
      "metadata": {
        "id": "b0OLUPqKRSLF"
      }
    },
    {
      "cell_type": "code",
      "source": [
        "t = np.linspace(0, np.pi, 3)\n",
        "print(t)\n",
        "print(np.sin(t))\n",
        "print(np.cos(t))\n",
        "print(np.tan(t))"
      ],
      "metadata": {
        "colab": {
          "base_uri": "https://localhost:8080/"
        },
        "id": "JP_1q7VCRUP-",
        "outputId": "02361490-7a3b-4319-db61-416a3318e4d4"
      },
      "execution_count": 37,
      "outputs": [
        {
          "output_type": "stream",
          "name": "stdout",
          "text": [
            "[0.         1.57079633 3.14159265]\n",
            "[0.0000000e+00 1.0000000e+00 1.2246468e-16]\n",
            "[ 1.000000e+00  6.123234e-17 -1.000000e+00]\n",
            "[ 0.00000000e+00  1.63312394e+16 -1.22464680e-16]\n"
          ]
        }
      ]
    },
    {
      "cell_type": "code",
      "source": [
        "x = [-1, 0, 1]\n",
        "print(x)\n",
        "print(np.arcsin(x))\n",
        "print(np.arccos(x))\n",
        "print(np.arctan(x))"
      ],
      "metadata": {
        "colab": {
          "base_uri": "https://localhost:8080/"
        },
        "id": "SLAQ8Q6mRVc-",
        "outputId": "712067ec-5382-4f5c-d717-b18e38f1e9ad"
      },
      "execution_count": 38,
      "outputs": [
        {
          "output_type": "stream",
          "name": "stdout",
          "text": [
            "[-1, 0, 1]\n",
            "[-1.57079633  0.          1.57079633]\n",
            "[3.14159265 1.57079633 0.        ]\n",
            "[-0.78539816  0.          0.78539816]\n"
          ]
        }
      ]
    },
    {
      "cell_type": "markdown",
      "source": [
        "#### 집계 함수(Aggregate Functions)  \n",
        "* sum(): 합 계산\n",
        "* cumsum(): 누적합 계산"
      ],
      "metadata": {
        "id": "LtpgYhcfRXsc"
      }
    },
    {
      "cell_type": "code",
      "source": [
        "a2 = np.random.randint(1,10,size = (3,3))\n",
        "print(a2)\n",
        "print(a2.sum())\n",
        "print(a2.sum(axis = 0), np.sum(a2, axis = 0))\n",
        "print(a2.sum(axis = 1), np.sum(a2, axis = 1))"
      ],
      "metadata": {
        "colab": {
          "base_uri": "https://localhost:8080/"
        },
        "id": "yXAMNz19RXG8",
        "outputId": "4ae041b6-783c-4648-8c12-d120c815c855"
      },
      "execution_count": 39,
      "outputs": [
        {
          "output_type": "stream",
          "name": "stdout",
          "text": [
            "[[9 9 4]\n",
            " [6 7 2]\n",
            " [6 7 3]]\n",
            "53\n",
            "[21 23  9] [21 23  9]\n",
            "[22 15 16] [22 15 16]\n"
          ]
        }
      ]
    },
    {
      "cell_type": "code",
      "source": [
        "print(a2)\n",
        "print(np.cumsum(a2))\n",
        "print(np.cumsum(a2, axis = 0))\n",
        "print(np.cumsum(a2, axis = 1))"
      ],
      "metadata": {
        "colab": {
          "base_uri": "https://localhost:8080/"
        },
        "id": "wcpPrIAV3Sli",
        "outputId": "deed854a-0ab3-47f7-f8a1-8b65dc1d99b8"
      },
      "execution_count": 40,
      "outputs": [
        {
          "output_type": "stream",
          "name": "stdout",
          "text": [
            "[[9 9 4]\n",
            " [6 7 2]\n",
            " [6 7 3]]\n",
            "[ 9 18 22 28 35 37 43 50 53]\n",
            "[[ 9  9  4]\n",
            " [15 16  6]\n",
            " [21 23  9]]\n",
            "[[ 9 18 22]\n",
            " [ 6 13 15]\n",
            " [ 6 13 16]]\n"
          ]
        }
      ]
    },
    {
      "cell_type": "markdown",
      "source": [
        "* diff(): 차분 계산"
      ],
      "metadata": {
        "id": "y08ayCuLSBc9"
      }
    },
    {
      "cell_type": "code",
      "source": [
        "print(a2)\n",
        "print(np.diff(a2))\n",
        "print(np.diff(a2, axis = 0))\n",
        "print(np.diff(a2, axis = 1))"
      ],
      "metadata": {
        "colab": {
          "base_uri": "https://localhost:8080/"
        },
        "id": "7FHIrKxCSA-s",
        "outputId": "64627658-1cc6-4dd0-c215-547570554241"
      },
      "execution_count": 41,
      "outputs": [
        {
          "output_type": "stream",
          "name": "stdout",
          "text": [
            "[[9 9 4]\n",
            " [6 7 2]\n",
            " [6 7 3]]\n",
            "[[ 0 -5]\n",
            " [ 1 -5]\n",
            " [ 1 -4]]\n",
            "[[-3 -2 -2]\n",
            " [ 0  0  1]]\n",
            "[[ 0 -5]\n",
            " [ 1 -5]\n",
            " [ 1 -4]]\n"
          ]
        }
      ]
    },
    {
      "cell_type": "markdown",
      "source": [
        "* prod(): 곱 계산\n",
        "* cumprod(): 누적곱 계산\n",
        "* dot()/matmul(): 점곱/행렬곱 계산\n",
        "* tensordot(): 텐서곱 계산\n",
        "* cross(): 벡터곱"
      ],
      "metadata": {
        "id": "OBQw_WvsSLO0"
      }
    },
    {
      "cell_type": "code",
      "source": [
        "# prod\n",
        "print(a2)\n",
        "print(np.prod(a2))\n",
        "print(np.prod(a2, axis = 0))\n",
        "print(np.prod(a2, axis = 1))"
      ],
      "metadata": {
        "colab": {
          "base_uri": "https://localhost:8080/"
        },
        "id": "wBW57cW2SN8r",
        "outputId": "2f143e19-3e20-4cb4-f4ed-203627324bf1"
      },
      "execution_count": 42,
      "outputs": [
        {
          "output_type": "stream",
          "name": "stdout",
          "text": [
            "[[9 9 4]\n",
            " [6 7 2]\n",
            " [6 7 3]]\n",
            "3429216\n",
            "[324 441  24]\n",
            "[324  84 126]\n"
          ]
        }
      ]
    },
    {
      "cell_type": "code",
      "source": [
        "# cumprod\n",
        "print(a2)\n",
        "print(np.cumprod(a2))\n",
        "print(np.cumprod(a2, axis = 0))\n",
        "print(np.cumprod(a2, axis = 1))"
      ],
      "metadata": {
        "colab": {
          "base_uri": "https://localhost:8080/"
        },
        "id": "VK-tonnK3Vx4",
        "outputId": "331a666a-0443-48a0-9395-95bb9effb1c5"
      },
      "execution_count": 43,
      "outputs": [
        {
          "output_type": "stream",
          "name": "stdout",
          "text": [
            "[[9 9 4]\n",
            " [6 7 2]\n",
            " [6 7 3]]\n",
            "[      9      81     324    1944   13608   27216  163296 1143072 3429216]\n",
            "[[  9   9   4]\n",
            " [ 54  63   8]\n",
            " [324 441  24]]\n",
            "[[  9  81 324]\n",
            " [  6  42  84]\n",
            " [  6  42 126]]\n"
          ]
        }
      ]
    },
    {
      "cell_type": "code",
      "source": [
        "# dot, matmul\n",
        "print(a2)\n",
        "b2 = np.ones_like(a2)\n",
        "print(b2)\n",
        "print(np.dot(a2, b2))\n",
        "print(np.matmul(a2, b2))"
      ],
      "metadata": {
        "colab": {
          "base_uri": "https://localhost:8080/"
        },
        "id": "Y5iOrkrq3XKa",
        "outputId": "f43cbe1c-c777-4ed3-aea7-7e3bd184857f"
      },
      "execution_count": 44,
      "outputs": [
        {
          "output_type": "stream",
          "name": "stdout",
          "text": [
            "[[9 9 4]\n",
            " [6 7 2]\n",
            " [6 7 3]]\n",
            "[[1 1 1]\n",
            " [1 1 1]\n",
            " [1 1 1]]\n",
            "[[22 22 22]\n",
            " [15 15 15]\n",
            " [16 16 16]]\n",
            "[[22 22 22]\n",
            " [15 15 15]\n",
            " [16 16 16]]\n"
          ]
        }
      ]
    },
    {
      "cell_type": "code",
      "source": [
        "# tensordot\n",
        "print(a2)\n",
        "print(b2)\n",
        "print(np.tensordot(a2, b2))\n",
        "print(np.tensordot(a2, b2, axes = 0))\n",
        "print(np.tensordot(a2, b2, axes = 1))"
      ],
      "metadata": {
        "colab": {
          "base_uri": "https://localhost:8080/"
        },
        "id": "byJ499fn3Y7P",
        "outputId": "1aa2c12d-9f56-45fd-f51c-a6455d38e3ea"
      },
      "execution_count": 45,
      "outputs": [
        {
          "output_type": "stream",
          "name": "stdout",
          "text": [
            "[[9 9 4]\n",
            " [6 7 2]\n",
            " [6 7 3]]\n",
            "[[1 1 1]\n",
            " [1 1 1]\n",
            " [1 1 1]]\n",
            "53\n",
            "[[[[9 9 9]\n",
            "   [9 9 9]\n",
            "   [9 9 9]]\n",
            "\n",
            "  [[9 9 9]\n",
            "   [9 9 9]\n",
            "   [9 9 9]]\n",
            "\n",
            "  [[4 4 4]\n",
            "   [4 4 4]\n",
            "   [4 4 4]]]\n",
            "\n",
            "\n",
            " [[[6 6 6]\n",
            "   [6 6 6]\n",
            "   [6 6 6]]\n",
            "\n",
            "  [[7 7 7]\n",
            "   [7 7 7]\n",
            "   [7 7 7]]\n",
            "\n",
            "  [[2 2 2]\n",
            "   [2 2 2]\n",
            "   [2 2 2]]]\n",
            "\n",
            "\n",
            " [[[6 6 6]\n",
            "   [6 6 6]\n",
            "   [6 6 6]]\n",
            "\n",
            "  [[7 7 7]\n",
            "   [7 7 7]\n",
            "   [7 7 7]]\n",
            "\n",
            "  [[3 3 3]\n",
            "   [3 3 3]\n",
            "   [3 3 3]]]]\n",
            "[[22 22 22]\n",
            " [15 15 15]\n",
            " [16 16 16]]\n"
          ]
        }
      ]
    },
    {
      "cell_type": "code",
      "source": [
        "# cross\n",
        "x = [1,2,3]\n",
        "y = [4,5,6]\n",
        "print(np.cross(x,y))"
      ],
      "metadata": {
        "colab": {
          "base_uri": "https://localhost:8080/"
        },
        "id": "IYTq8j1q3bGv",
        "outputId": "72f9f752-7743-401c-8bb0-4ef93aec1c81"
      },
      "execution_count": 46,
      "outputs": [
        {
          "output_type": "stream",
          "name": "stdout",
          "text": [
            "[-3  6 -3]\n"
          ]
        }
      ]
    },
    {
      "cell_type": "markdown",
      "source": [
        "* inner()/outer(): 내적/외적"
      ],
      "metadata": {
        "id": "N8gJnqTnSack"
      }
    },
    {
      "cell_type": "code",
      "source": [
        "print(a2)\n",
        "print(b2)\n",
        "print(np.inner(a2,b2))\n",
        "print(np.outer(a2,b2))"
      ],
      "metadata": {
        "colab": {
          "base_uri": "https://localhost:8080/"
        },
        "id": "Ho39JiGaSZNO",
        "outputId": "f2a3ee7f-9e63-4b1f-a34f-66803c14d5b7"
      },
      "execution_count": 47,
      "outputs": [
        {
          "output_type": "stream",
          "name": "stdout",
          "text": [
            "[[9 9 4]\n",
            " [6 7 2]\n",
            " [6 7 3]]\n",
            "[[1 1 1]\n",
            " [1 1 1]\n",
            " [1 1 1]]\n",
            "[[22 22 22]\n",
            " [15 15 15]\n",
            " [16 16 16]]\n",
            "[[9 9 9 9 9 9 9 9 9]\n",
            " [9 9 9 9 9 9 9 9 9]\n",
            " [4 4 4 4 4 4 4 4 4]\n",
            " [6 6 6 6 6 6 6 6 6]\n",
            " [7 7 7 7 7 7 7 7 7]\n",
            " [2 2 2 2 2 2 2 2 2]\n",
            " [6 6 6 6 6 6 6 6 6]\n",
            " [7 7 7 7 7 7 7 7 7]\n",
            " [3 3 3 3 3 3 3 3 3]]\n"
          ]
        }
      ]
    },
    {
      "cell_type": "markdown",
      "source": [
        "* mean(): 평균 계산\n",
        "* var(): 분산 계산\n",
        "* std(): 표준 편차 계산"
      ],
      "metadata": {
        "id": "SQnjYwb5ScgJ"
      }
    },
    {
      "cell_type": "code",
      "source": [
        "print(a2)\n",
        "print(np.mean(a2))\n",
        "print(np.mean(a2, axis = 0))\n",
        "print(np.mean(a2, axis = 1))"
      ],
      "metadata": {
        "colab": {
          "base_uri": "https://localhost:8080/"
        },
        "id": "0d_fPxC_ScmX",
        "outputId": "4e575f0d-0d57-42e0-c96c-4b5af410ba3f"
      },
      "execution_count": 48,
      "outputs": [
        {
          "output_type": "stream",
          "name": "stdout",
          "text": [
            "[[9 9 4]\n",
            " [6 7 2]\n",
            " [6 7 3]]\n",
            "5.888888888888889\n",
            "[7.         7.66666667 3.        ]\n",
            "[7.33333333 5.         5.33333333]\n"
          ]
        }
      ]
    },
    {
      "cell_type": "code",
      "source": [
        "print(a2)\n",
        "print(np.var(a2))\n",
        "print(np.var(a2, axis = 0))\n",
        "print(np.var(a2, axis = 1))"
      ],
      "metadata": {
        "colab": {
          "base_uri": "https://localhost:8080/"
        },
        "id": "zSu98loa3p_f",
        "outputId": "fe5e0d5d-a449-4f30-b3e1-5abc1e094f2a"
      },
      "execution_count": 49,
      "outputs": [
        {
          "output_type": "stream",
          "name": "stdout",
          "text": [
            "[[9 9 4]\n",
            " [6 7 2]\n",
            " [6 7 3]]\n",
            "5.432098765432098\n",
            "[2.         0.88888889 0.66666667]\n",
            "[5.55555556 4.66666667 2.88888889]\n"
          ]
        }
      ]
    },
    {
      "cell_type": "code",
      "source": [
        "print(a2)\n",
        "print(np.std(a2))\n",
        "print(np.std(a2, axis = 0))\n",
        "print(np.std(a2, axis = 1))"
      ],
      "metadata": {
        "colab": {
          "base_uri": "https://localhost:8080/"
        },
        "id": "lWcxHd9h3nxA",
        "outputId": "9d20c8e8-e55c-4f07-87da-47c404c52e85"
      },
      "execution_count": 50,
      "outputs": [
        {
          "output_type": "stream",
          "name": "stdout",
          "text": [
            "[[9 9 4]\n",
            " [6 7 2]\n",
            " [6 7 3]]\n",
            "2.3306863292670035\n",
            "[1.41421356 0.94280904 0.81649658]\n",
            "[2.3570226  2.1602469  1.69967317]\n"
          ]
        }
      ]
    },
    {
      "cell_type": "markdown",
      "source": [
        "* min(): 최소값\n",
        "* max(): 최대값\n",
        "* argmin(): 최소값 인덱스\n",
        "* argmax(): 최대값 인덱스\n"
      ],
      "metadata": {
        "id": "aqUq88dfSk3K"
      }
    },
    {
      "cell_type": "code",
      "source": [
        "# min\n",
        "print(a2)\n",
        "print(np.min(a2))\n",
        "print(np.min(a2, axis = 0))\n",
        "print(np.min(a2, axis = 1))"
      ],
      "metadata": {
        "colab": {
          "base_uri": "https://localhost:8080/"
        },
        "id": "a8zwCL4NSkbq",
        "outputId": "d0f27333-35cc-4257-d0a0-7ff1a5c73481"
      },
      "execution_count": 51,
      "outputs": [
        {
          "output_type": "stream",
          "name": "stdout",
          "text": [
            "[[9 9 4]\n",
            " [6 7 2]\n",
            " [6 7 3]]\n",
            "2\n",
            "[6 7 2]\n",
            "[4 2 3]\n"
          ]
        }
      ]
    },
    {
      "cell_type": "code",
      "source": [
        "# max\n",
        "print(a2)\n",
        "print(np.max(a2))\n",
        "print(np.max(a2, axis = 0))\n",
        "print(np.max(a2, axis = 1))"
      ],
      "metadata": {
        "colab": {
          "base_uri": "https://localhost:8080/"
        },
        "id": "XII9u9mW3rqG",
        "outputId": "aedc1587-5ed3-4c78-bd24-bb53e6256770"
      },
      "execution_count": 52,
      "outputs": [
        {
          "output_type": "stream",
          "name": "stdout",
          "text": [
            "[[9 9 4]\n",
            " [6 7 2]\n",
            " [6 7 3]]\n",
            "9\n",
            "[9 9 4]\n",
            "[9 7 7]\n"
          ]
        }
      ]
    },
    {
      "cell_type": "code",
      "source": [
        "# argmin\n",
        "print(a2)\n",
        "print(np.argmin(a2))\n",
        "print(np.argmin(a2, axis = 0))\n",
        "print(np.argmin(a2, axis = 1))"
      ],
      "metadata": {
        "colab": {
          "base_uri": "https://localhost:8080/"
        },
        "id": "9mUhXoJQ3sUi",
        "outputId": "2d6498b7-4dd6-4ebf-eb2a-1ce9f46014b8"
      },
      "execution_count": 53,
      "outputs": [
        {
          "output_type": "stream",
          "name": "stdout",
          "text": [
            "[[9 9 4]\n",
            " [6 7 2]\n",
            " [6 7 3]]\n",
            "5\n",
            "[1 1 1]\n",
            "[2 2 2]\n"
          ]
        }
      ]
    },
    {
      "cell_type": "code",
      "source": [
        "# argmax\n",
        "print(a2)\n",
        "print(np.argmax(a2))\n",
        "print(np.argmax(a2, axis = 0))\n",
        "print(np.argmax(a2, axis = 1))"
      ],
      "metadata": {
        "colab": {
          "base_uri": "https://localhost:8080/"
        },
        "id": "TtIaxrFP3trs",
        "outputId": "48454a71-ceb4-47c2-b5c1-0295741bbf30"
      },
      "execution_count": 54,
      "outputs": [
        {
          "output_type": "stream",
          "name": "stdout",
          "text": [
            "[[9 9 4]\n",
            " [6 7 2]\n",
            " [6 7 3]]\n",
            "0\n",
            "[0 0 0]\n",
            "[0 1 1]\n"
          ]
        }
      ]
    },
    {
      "cell_type": "markdown",
      "source": [
        "* median(): 중앙값"
      ],
      "metadata": {
        "id": "FmU6pnRpSsXd"
      }
    },
    {
      "cell_type": "code",
      "source": [
        "print(a2)\n",
        "print(np.median(a2))\n",
        "print(np.median(a2, axis = 0))\n",
        "print(np.median(a2, axis = 1))"
      ],
      "metadata": {
        "colab": {
          "base_uri": "https://localhost:8080/"
        },
        "id": "9TOWn_bcSsia",
        "outputId": "45d72863-de31-4d20-a8ee-1d203550f8a9"
      },
      "execution_count": 55,
      "outputs": [
        {
          "output_type": "stream",
          "name": "stdout",
          "text": [
            "[[9 9 4]\n",
            " [6 7 2]\n",
            " [6 7 3]]\n",
            "6.0\n",
            "[6. 7. 3.]\n",
            "[9. 6. 6.]\n"
          ]
        }
      ]
    },
    {
      "cell_type": "markdown",
      "source": [
        "* percentile(): 백분위 수"
      ],
      "metadata": {
        "id": "qhGFAHxHSyPN"
      }
    },
    {
      "cell_type": "code",
      "source": [
        "a1 = np.array([0,1,2,3,])\n",
        "print(a1)\n",
        "print(np.percentile(a1, [0,20,40,60,80,100], interpolation='linear'))\n",
        "print(np.percentile(a1, [0,20,40,60,80,100], interpolation='higher'))\n",
        "print(np.percentile(a1, [0,20,40,60,80,100], interpolation='lower'))\n",
        "print(np.percentile(a1, [0,20,40,60,80,100], interpolation='nearest'))\n",
        "print(np.percentile(a1, [0,20,40,60,80,100], interpolation='midpoint'))"
      ],
      "metadata": {
        "colab": {
          "base_uri": "https://localhost:8080/"
        },
        "id": "x4WpNR0GSxw-",
        "outputId": "0766e686-4b9e-4f8c-8224-28f863659674"
      },
      "execution_count": 56,
      "outputs": [
        {
          "output_type": "stream",
          "name": "stdout",
          "text": [
            "[0 1 2 3]\n",
            "[0.  0.6 1.2 1.8 2.4 3. ]\n",
            "[0 1 2 2 3 3]\n",
            "[0 0 1 1 2 3]\n",
            "[0 1 1 2 2 3]\n",
            "[0.  0.5 1.5 1.5 2.5 3. ]\n"
          ]
        }
      ]
    },
    {
      "cell_type": "markdown",
      "source": [
        "* any(): 하나라도 True이면 True\n",
        "* all(): 하나라도 False이면 False"
      ],
      "metadata": {
        "id": "8shXAz9lS27K"
      }
    },
    {
      "cell_type": "code",
      "source": [
        "# any\n",
        "a2 = np.array([[False, False, False],\n",
        "               [False, True, True],\n",
        "               [False, True, True]])\n",
        "print(a2)\n",
        "print(np.any(a2))\n",
        "print(np.any(a2, axis=0))\n",
        "print(np.any(a2, axis=1))"
      ],
      "metadata": {
        "colab": {
          "base_uri": "https://localhost:8080/"
        },
        "id": "65zA6eSMS7Hk",
        "outputId": "aeb6341c-f022-4c9b-d670-5d5546d7a8f6"
      },
      "execution_count": 57,
      "outputs": [
        {
          "output_type": "stream",
          "name": "stdout",
          "text": [
            "[[False False False]\n",
            " [False  True  True]\n",
            " [False  True  True]]\n",
            "True\n",
            "[False  True  True]\n",
            "[False  True  True]\n"
          ]
        }
      ]
    },
    {
      "cell_type": "code",
      "source": [
        "# all\n",
        "a2 = np.array([[False, False, True],\n",
        "               [False, True, True],\n",
        "               [False, True, True]])\n",
        "print(a2)\n",
        "print(np.all(a2))\n",
        "print(np.all(a2, axis=0))\n",
        "print(np.all(a2, axis=1))"
      ],
      "metadata": {
        "colab": {
          "base_uri": "https://localhost:8080/"
        },
        "id": "J9yRCqoP38DJ",
        "outputId": "7352a461-e1fb-4bc6-e1ea-5e517ee67865"
      },
      "execution_count": 58,
      "outputs": [
        {
          "output_type": "stream",
          "name": "stdout",
          "text": [
            "[[False False  True]\n",
            " [False  True  True]\n",
            " [False  True  True]]\n",
            "False\n",
            "[False False  True]\n",
            "[False False False]\n"
          ]
        }
      ]
    },
    {
      "cell_type": "markdown",
      "source": [
        "#### 비교 연산(Comparison Operators)"
      ],
      "metadata": {
        "id": "bUb2IeZiS7Oq"
      }
    },
    {
      "cell_type": "code",
      "source": [
        "a1 = np.arange(1,10)\n",
        "print(a1)\n",
        "print(a1 == 5)\n",
        "print(a1 != 5)\n",
        "print(a1 < 5)\n",
        "print(a1 <= 5)\n",
        "print(a1 > 5)\n",
        "print(a1 >= 5)"
      ],
      "metadata": {
        "colab": {
          "base_uri": "https://localhost:8080/"
        },
        "id": "sGXODbssS_Hj",
        "outputId": "209c41ad-5047-405b-a444-8eb8edf860d8"
      },
      "execution_count": 59,
      "outputs": [
        {
          "output_type": "stream",
          "name": "stdout",
          "text": [
            "[1 2 3 4 5 6 7 8 9]\n",
            "[False False False False  True False False False False]\n",
            "[ True  True  True  True False  True  True  True  True]\n",
            "[ True  True  True  True False False False False False]\n",
            "[ True  True  True  True  True False False False False]\n",
            "[False False False False False  True  True  True  True]\n",
            "[False False False False  True  True  True  True  True]\n"
          ]
        }
      ]
    },
    {
      "cell_type": "code",
      "source": [
        "a2 = np.arange(1, 10).reshape(3,3)\n",
        "print(a2)\n",
        "print(np.sum(a2))\n",
        "print(np.count_nonzero(a2 > 5))\n",
        "print(np.sum(a2 > 5))\n",
        "print(np.sum(a2 > 5, axis = 0))\n",
        "print(np.sum(a2 > 5, axis = 1))\n",
        "print(np.any(a2>5))\n",
        "print(np.any(a2>5, axis = 0))\n",
        "print(np.any(a2>5, axis = 1))\n",
        "print(np.all(a2>5))\n",
        "print(np.any(a2>5, axis = 0))\n",
        "print(np.all(a2>5, axis = 1))"
      ],
      "metadata": {
        "colab": {
          "base_uri": "https://localhost:8080/"
        },
        "id": "D2czyjoJTAF7",
        "outputId": "cbfd2c67-9129-4240-8115-bbf552fcb5c7"
      },
      "execution_count": 60,
      "outputs": [
        {
          "output_type": "stream",
          "name": "stdout",
          "text": [
            "[[1 2 3]\n",
            " [4 5 6]\n",
            " [7 8 9]]\n",
            "45\n",
            "4\n",
            "4\n",
            "[1 1 2]\n",
            "[0 1 3]\n",
            "True\n",
            "[ True  True  True]\n",
            "[False  True  True]\n",
            "False\n",
            "[ True  True  True]\n",
            "[False False  True]\n"
          ]
        }
      ]
    },
    {
      "cell_type": "code",
      "source": [
        "# isclose()\n",
        "a1 = np.array([1,2,3,4,5])\n",
        "print(a1)\n",
        "b1 = np.array([1,2,3,3,4])\n",
        "print(b1)\n",
        "print(np.isclose(a1, b1))"
      ],
      "metadata": {
        "colab": {
          "base_uri": "https://localhost:8080/"
        },
        "id": "L89A1kom4DWX",
        "outputId": "844ad409-d363-4201-9a41-18775ccfd7d2"
      },
      "execution_count": 61,
      "outputs": [
        {
          "output_type": "stream",
          "name": "stdout",
          "text": [
            "[1 2 3 4 5]\n",
            "[1 2 3 3 4]\n",
            "[ True  True  True False False]\n"
          ]
        }
      ]
    },
    {
      "cell_type": "code",
      "source": [
        "# inf, nan, NINF\n",
        "a1 = np.array([np.nan, 2, np.inf, 4, np.NINF])\n",
        "print(a1)\n",
        "print(np.isnan(a1))\n",
        "print(np.isinf(a1))\n",
        "print(np.isfinite(a1))"
      ],
      "metadata": {
        "colab": {
          "base_uri": "https://localhost:8080/"
        },
        "id": "6UHKmybx4Gkn",
        "outputId": "017f37e9-cdd2-4363-cd82-aea135bf4666"
      },
      "execution_count": 62,
      "outputs": [
        {
          "output_type": "stream",
          "name": "stdout",
          "text": [
            "[ nan   2.  inf   4. -inf]\n",
            "[ True False False False False]\n",
            "[False False  True False  True]\n",
            "[False  True False  True False]\n"
          ]
        }
      ]
    },
    {
      "cell_type": "markdown",
      "source": [
        "* 불리언 연산자(Boolean Operators)"
      ],
      "metadata": {
        "id": "dmTc7NFpS_lA"
      }
    },
    {
      "cell_type": "code",
      "source": [
        "a2 = np.arange(1,10).reshape(3,3)\n",
        "print(a2)\n",
        "\n",
        "print((a2 > 5)&( a2 < 8))\n",
        "print(a2[(a2 > 5)&( a2 < 8)])\n",
        "\n",
        "print((a2 > 5) | ( a2 < 8))\n",
        "print(a2[(a2 > 5) | ( a2 < 8)])\n",
        "\n",
        "print((a2 > 5)^( a2 < 8))\n",
        "print(a2[(a2 > 5)^( a2 < 8)])\n",
        "\n",
        "print(~(a2 > 5))\n",
        "print(a2[~(a2 > 5)])"
      ],
      "metadata": {
        "colab": {
          "base_uri": "https://localhost:8080/"
        },
        "id": "uDpW1jaFTEDz",
        "outputId": "3f61f8a9-a58e-4109-c0cd-6569c0b3652a"
      },
      "execution_count": 63,
      "outputs": [
        {
          "output_type": "stream",
          "name": "stdout",
          "text": [
            "[[1 2 3]\n",
            " [4 5 6]\n",
            " [7 8 9]]\n",
            "[[False False False]\n",
            " [False False  True]\n",
            " [ True False False]]\n",
            "[6 7]\n",
            "[[ True  True  True]\n",
            " [ True  True  True]\n",
            " [ True  True  True]]\n",
            "[1 2 3 4 5 6 7 8 9]\n",
            "[[ True  True  True]\n",
            " [ True  True False]\n",
            " [False  True  True]]\n",
            "[1 2 3 4 5 8 9]\n",
            "[[ True  True  True]\n",
            " [ True  True False]\n",
            " [False False False]]\n",
            "[1 2 3 4 5]\n"
          ]
        }
      ]
    },
    {
      "cell_type": "markdown",
      "source": [
        "### (3) Slicing & Indexing "
      ],
      "metadata": {
        "id": "ApgxTfTOqqY6"
      }
    },
    {
      "cell_type": "markdown",
      "source": [
        "#### 인덱싱(Indexing)"
      ],
      "metadata": {
        "id": "m9Dqz1gh7EdX"
      }
    },
    {
      "cell_type": "code",
      "source": [
        "print(a1)\n",
        "print(a1[0])\n",
        "print(a1[-1])"
      ],
      "metadata": {
        "colab": {
          "base_uri": "https://localhost:8080/"
        },
        "id": "avjoUpSprNgI",
        "outputId": "85c594ff-a845-4fcf-c4cc-681d0c2fda63"
      },
      "execution_count": 64,
      "outputs": [
        {
          "output_type": "stream",
          "name": "stdout",
          "text": [
            "[ nan   2.  inf   4. -inf]\n",
            "nan\n",
            "-inf\n"
          ]
        }
      ]
    },
    {
      "cell_type": "code",
      "source": [
        "print(a2)\n",
        "print(a2[0, 0])\n",
        "print(a2[0, 2])\n",
        "print(a2[-1, -1])"
      ],
      "metadata": {
        "colab": {
          "base_uri": "https://localhost:8080/"
        },
        "id": "EA7QLliN7I1o",
        "outputId": "96a7840e-ab01-49c5-fced-8391d7d684da"
      },
      "execution_count": 65,
      "outputs": [
        {
          "output_type": "stream",
          "name": "stdout",
          "text": [
            "[[1 2 3]\n",
            " [4 5 6]\n",
            " [7 8 9]]\n",
            "1\n",
            "3\n",
            "9\n"
          ]
        }
      ]
    },
    {
      "cell_type": "code",
      "source": [
        "print(a3)\n",
        "print(a3[0, 0, 0])\n",
        "print(a3[1, 0, 2])\n",
        "print(a3[-1, -1, -1])"
      ],
      "metadata": {
        "colab": {
          "base_uri": "https://localhost:8080/"
        },
        "id": "ikSjRqHt7Kzo",
        "outputId": "133fa2b4-18d4-44db-e71b-6b6e3a38284a"
      },
      "execution_count": 66,
      "outputs": [
        {
          "output_type": "stream",
          "name": "stdout",
          "text": [
            "[[[1 2 3]\n",
            "  [4 5 6]\n",
            "  [7 8 9]]\n",
            "\n",
            " [[1 2 3]\n",
            "  [4 5 6]\n",
            "  [7 8 9]]\n",
            "\n",
            " [[1 2 3]\n",
            "  [4 5 6]\n",
            "  [7 8 9]]]\n",
            "1\n",
            "3\n",
            "9\n"
          ]
        }
      ]
    },
    {
      "cell_type": "markdown",
      "source": [
        "#### 슬라이싱(Slicing)  \n",
        "* 슬라이싱 구문: `a[start:stop:step]`\n",
        "* 기본값: start=0, stop=ndim, step=1"
      ],
      "metadata": {
        "id": "D7Bttvno9SEE"
      }
    },
    {
      "cell_type": "code",
      "source": [
        "print(a1)\n",
        "print(a1[0:2])\n",
        "print(a1[0:])\n",
        "print(a1[:1]) # 0부터 1 전까지\n",
        "print(a1[::2])\n",
        "print(a1[::-1]) # 역으로 접근"
      ],
      "metadata": {
        "colab": {
          "base_uri": "https://localhost:8080/"
        },
        "id": "B7F6ey479YhY",
        "outputId": "9fb35b21-eef0-42e1-f3ec-a3d0df96c849"
      },
      "execution_count": 67,
      "outputs": [
        {
          "output_type": "stream",
          "name": "stdout",
          "text": [
            "[ nan   2.  inf   4. -inf]\n",
            "[nan  2.]\n",
            "[ nan   2.  inf   4. -inf]\n",
            "[nan]\n",
            "[ nan  inf -inf]\n",
            "[-inf   4.  inf   2.  nan]\n"
          ]
        }
      ]
    },
    {
      "cell_type": "code",
      "source": [
        "print(a2)\n",
        "print(a2[1]) # 1행 출력\n",
        "print(a2[1, :]) # 1행 출력\n",
        "print(a2[:2, :2]) # 0,1 출력\n",
        "print(a2[1:, ::-1])\n",
        "print(a2[::-1, ::-1])"
      ],
      "metadata": {
        "colab": {
          "base_uri": "https://localhost:8080/"
        },
        "id": "bqYSEb-A9eGY",
        "outputId": "d9c9f884-e574-4014-ae82-2afd03dacb1b"
      },
      "execution_count": 68,
      "outputs": [
        {
          "output_type": "stream",
          "name": "stdout",
          "text": [
            "[[1 2 3]\n",
            " [4 5 6]\n",
            " [7 8 9]]\n",
            "[4 5 6]\n",
            "[4 5 6]\n",
            "[[1 2]\n",
            " [4 5]]\n",
            "[[6 5 4]\n",
            " [9 8 7]]\n",
            "[[9 8 7]\n",
            " [6 5 4]\n",
            " [3 2 1]]\n"
          ]
        }
      ]
    },
    {
      "cell_type": "markdown",
      "source": [
        "#### 불리언 인덱싱(Boolean Indexing)\n",
        "\n",
        "* 배열 각 요소의 선택 여부를 불리언(True or False)로 지정\n",
        "* True 값인 인덱스의 값만 조회"
      ],
      "metadata": {
        "id": "tdVtdL9z9g-p"
      }
    },
    {
      "cell_type": "code",
      "source": [
        "print(a1)\n",
        "bi = [False, False, True, False, True]\n",
        "print(a1[bi])"
      ],
      "metadata": {
        "colab": {
          "base_uri": "https://localhost:8080/"
        },
        "id": "Iar6UoLY9fZo",
        "outputId": "00027b1f-80ab-42ff-ef8b-3a0fe9dea8c5"
      },
      "execution_count": 69,
      "outputs": [
        {
          "output_type": "stream",
          "name": "stdout",
          "text": [
            "[ nan   2.  inf   4. -inf]\n",
            "[ inf -inf]\n"
          ]
        }
      ]
    },
    {
      "cell_type": "code",
      "source": [
        "print(a2)\n",
        "bi = np.random.randint(0,2,(3,3), dtype = bool)\n",
        "print(bi)\n",
        "print(a2[bi])"
      ],
      "metadata": {
        "colab": {
          "base_uri": "https://localhost:8080/"
        },
        "id": "dI8gZGXT9kjW",
        "outputId": "b8b31c30-e8a5-40ba-deae-ff698de67c0c"
      },
      "execution_count": 70,
      "outputs": [
        {
          "output_type": "stream",
          "name": "stdout",
          "text": [
            "[[1 2 3]\n",
            " [4 5 6]\n",
            " [7 8 9]]\n",
            "[[ True False  True]\n",
            " [False  True  True]\n",
            " [False False False]]\n",
            "[1 3 5 6]\n"
          ]
        }
      ]
    },
    {
      "cell_type": "markdown",
      "source": [
        "#### 팬시 인덱싱(Fancy Indedxing)"
      ],
      "metadata": {
        "id": "QCg9XRkR9mFo"
      }
    },
    {
      "cell_type": "code",
      "source": [
        "print(a1)\n",
        "print([a1[0], a1[2]])\n",
        "ind = [0,2]\n",
        "print(a1[ind])\n",
        "ind = np.array([[0,1],\n",
        "               [2,0]])\n",
        "print(a1[ind])"
      ],
      "metadata": {
        "colab": {
          "base_uri": "https://localhost:8080/"
        },
        "id": "JExIvccX9oWg",
        "outputId": "241b3367-5ac3-48e9-c562-fc8210cfe5fa"
      },
      "execution_count": 71,
      "outputs": [
        {
          "output_type": "stream",
          "name": "stdout",
          "text": [
            "[ nan   2.  inf   4. -inf]\n",
            "[nan, inf]\n",
            "[nan inf]\n",
            "[[nan  2.]\n",
            " [inf nan]]\n"
          ]
        }
      ]
    },
    {
      "cell_type": "code",
      "source": [
        "print(a2)\n",
        "row = np.array([0,2])\n",
        "col = np.array([1,2])\n",
        "print(a2[row,col])\n",
        "print(a2[row,:])\n",
        "print(a2[:, col])\n",
        "print(a2[row,1:])\n",
        "print(a2[1:, col])"
      ],
      "metadata": {
        "colab": {
          "base_uri": "https://localhost:8080/"
        },
        "id": "Qk2Orkyn9qgX",
        "outputId": "fadb996b-c7e3-4efc-99a0-d0f1a56c6776"
      },
      "execution_count": 72,
      "outputs": [
        {
          "output_type": "stream",
          "name": "stdout",
          "text": [
            "[[1 2 3]\n",
            " [4 5 6]\n",
            " [7 8 9]]\n",
            "[2 9]\n",
            "[[1 2 3]\n",
            " [7 8 9]]\n",
            "[[2 3]\n",
            " [5 6]\n",
            " [8 9]]\n",
            "[[2 3]\n",
            " [8 9]]\n",
            "[[5 6]\n",
            " [8 9]]\n"
          ]
        }
      ]
    },
    {
      "cell_type": "markdown",
      "source": [
        "#### 배열 값 수정  \n",
        "* 배열의 인덱싱으로 접근하여 값 수정"
      ],
      "metadata": {
        "id": "saoklnC29yCA"
      }
    },
    {
      "cell_type": "code",
      "source": [
        "print(a1)\n",
        "a1[0] = 1\n",
        "a1[1] = 2\n",
        "a1[2] = 3\n",
        "print(a1)\n",
        "a1[:1] = 9\n",
        "print(a1)\n",
        "i = np.array([1,3,4])\n",
        "a1[i] = 0\n",
        "print(a1)\n",
        "a1[i] += 4\n",
        "print(a1)"
      ],
      "metadata": {
        "colab": {
          "base_uri": "https://localhost:8080/"
        },
        "id": "-GEaxycq93Rw",
        "outputId": "e215267d-2cdd-4beb-9b09-4779a0cdadba"
      },
      "execution_count": 73,
      "outputs": [
        {
          "output_type": "stream",
          "name": "stdout",
          "text": [
            "[ nan   2.  inf   4. -inf]\n",
            "[  1.   2.   3.   4. -inf]\n",
            "[  9.   2.   3.   4. -inf]\n",
            "[9. 0. 3. 0. 0.]\n",
            "[9. 4. 3. 4. 4.]\n"
          ]
        }
      ]
    },
    {
      "cell_type": "code",
      "source": [
        "print(a2)\n",
        "a2[0,0] = 1\n",
        "a2[0] = 1\n",
        "print(a2)\n",
        "a2[1:,2] = 9\n",
        "print(a2)\n",
        "row = np.array([0,2])\n",
        "col = np.array([0,1])\n",
        "a2[row, col] = 0\n",
        "print(a2)"
      ],
      "metadata": {
        "colab": {
          "base_uri": "https://localhost:8080/"
        },
        "id": "p0C1gsDz95C_",
        "outputId": "aa92b69f-b8ab-4532-b028-f95c4f626584"
      },
      "execution_count": 74,
      "outputs": [
        {
          "output_type": "stream",
          "name": "stdout",
          "text": [
            "[[1 2 3]\n",
            " [4 5 6]\n",
            " [7 8 9]]\n",
            "[[1 1 1]\n",
            " [4 5 6]\n",
            " [7 8 9]]\n",
            "[[1 1 1]\n",
            " [4 5 9]\n",
            " [7 8 9]]\n",
            "[[0 1 1]\n",
            " [4 5 9]\n",
            " [7 0 9]]\n"
          ]
        }
      ]
    },
    {
      "cell_type": "markdown",
      "source": [
        "### (4) 함수 "
      ],
      "metadata": {
        "id": "z9UT3TzcrNrB"
      }
    },
    {
      "cell_type": "markdown",
      "source": [
        "#### 배열 값 삽입  \n",
        "* `insert()`: 배열의 특정 위치에 값 삽입\n",
        "* axis를 지정하지 않으면 1차원 배열로 변환\n",
        "* 추가할 방향을 axis로 지정\n",
        "* 원본 배열 변경없이 새로운 배열 반환"
      ],
      "metadata": {
        "id": "t5AB1AME-IBS"
      }
    },
    {
      "cell_type": "code",
      "source": [
        "print(a1)\n",
        "b1 = np.insert(a1, 0, 10)\n",
        "print(b1)\n",
        "print(a1)\n",
        "c1 = np.insert(a1, 2, 10)\n",
        "print(c1)"
      ],
      "metadata": {
        "colab": {
          "base_uri": "https://localhost:8080/"
        },
        "id": "GhaAOtWNrRig",
        "outputId": "2e1e4016-c46b-4bed-e97e-96bfb0357261"
      },
      "execution_count": 75,
      "outputs": [
        {
          "output_type": "stream",
          "name": "stdout",
          "text": [
            "[9. 4. 3. 4. 4.]\n",
            "[10.  9.  4.  3.  4.  4.]\n",
            "[9. 4. 3. 4. 4.]\n",
            "[ 9.  4. 10.  3.  4.  4.]\n"
          ]
        }
      ]
    },
    {
      "cell_type": "code",
      "source": [
        "print(a2)\n",
        "b2 = np.insert(a2, 1, 10, axis = 0)\n",
        "print(b2)\n",
        "c2 = np.insert(a2, 1, [1,2,10], axis = 1)\n",
        "print(c2)"
      ],
      "metadata": {
        "colab": {
          "base_uri": "https://localhost:8080/"
        },
        "id": "CEmWkEOC-U6O",
        "outputId": "d272dc0c-4841-4c89-cb91-133163f02ab0"
      },
      "execution_count": 76,
      "outputs": [
        {
          "output_type": "stream",
          "name": "stdout",
          "text": [
            "[[0 1 1]\n",
            " [4 5 9]\n",
            " [7 0 9]]\n",
            "[[ 0  1  1]\n",
            " [10 10 10]\n",
            " [ 4  5  9]\n",
            " [ 7  0  9]]\n",
            "[[ 0  1  1  1]\n",
            " [ 4  2  5  9]\n",
            " [ 7 10  0  9]]\n"
          ]
        }
      ]
    },
    {
      "cell_type": "markdown",
      "source": [
        "#### 배열 값 삭제\n",
        "\n",
        "* `delete()`: 배열의 특정 위치에 값 삭제\n",
        "* axis를 지정하지 않으면 1차원 배열로 변환\n",
        "* 삭제할 방향을 axis로 지정\n",
        "* 원본 배열 변경없이 새로운 배열 반환"
      ],
      "metadata": {
        "id": "ALi4aFTS-T_m"
      }
    },
    {
      "cell_type": "code",
      "source": [
        "print(a1)\n",
        "b1 = np.delete(a1,1)\n",
        "print(b1)\n",
        "print(a1)"
      ],
      "metadata": {
        "colab": {
          "base_uri": "https://localhost:8080/"
        },
        "id": "8lCvab9J-dtj",
        "outputId": "0f7ea074-8b15-42f8-f58e-1e91393e5f7d"
      },
      "execution_count": 77,
      "outputs": [
        {
          "output_type": "stream",
          "name": "stdout",
          "text": [
            "[9. 4. 3. 4. 4.]\n",
            "[9. 3. 4. 4.]\n",
            "[9. 4. 3. 4. 4.]\n"
          ]
        }
      ]
    },
    {
      "cell_type": "code",
      "source": [
        "print(a2)\n",
        "b2 = np.delete(a2, 1, axis = 0)\n",
        "print(b2)\n",
        "c2 = np.delete(a2, 1, axis = 1)\n",
        "print(c2)\n",
        "# 원본 배열 변경 없음 -> 속도 면에서 장점"
      ],
      "metadata": {
        "colab": {
          "base_uri": "https://localhost:8080/"
        },
        "id": "8zpJV_EN-h1e",
        "outputId": "684a4010-8e67-482e-bd8a-c9f74a1c7015"
      },
      "execution_count": 78,
      "outputs": [
        {
          "output_type": "stream",
          "name": "stdout",
          "text": [
            "[[0 1 1]\n",
            " [4 5 9]\n",
            " [7 0 9]]\n",
            "[[0 1 1]\n",
            " [7 0 9]]\n",
            "[[0 1]\n",
            " [4 9]\n",
            " [7 9]]\n"
          ]
        }
      ]
    },
    {
      "cell_type": "markdown",
      "source": [
        "#### 배열 복사\n",
        "\n",
        "* `copy()`: 배열이나 하위 배열 내의 값을 명시적으로 복사"
      ],
      "metadata": {
        "id": "0tblyT-c-kCe"
      }
    },
    {
      "cell_type": "code",
      "source": [
        "print(a2)\n",
        "print(a2[:2, :2])\n",
        "a2_sub = a2[:2, :2]\n",
        "print(a2_sub)\n",
        "a2_sub[:, 1] = 0 \n",
        "# 받아온 배열도 원본 배열에 영향을 줌 -> 동일한 메모리 위치 사용\n",
        "# 영향 안주고 싶으면 copy해야 함\n",
        "print(a2_sub)\n",
        "print(a2)"
      ],
      "metadata": {
        "colab": {
          "base_uri": "https://localhost:8080/"
        },
        "id": "nCHVxzDU-mIO",
        "outputId": "1c9ee9bd-86d6-4412-e879-47c369c4e180"
      },
      "execution_count": 79,
      "outputs": [
        {
          "output_type": "stream",
          "name": "stdout",
          "text": [
            "[[0 1 1]\n",
            " [4 5 9]\n",
            " [7 0 9]]\n",
            "[[0 1]\n",
            " [4 5]]\n",
            "[[0 1]\n",
            " [4 5]]\n",
            "[[0 0]\n",
            " [4 0]]\n",
            "[[0 0 1]\n",
            " [4 0 9]\n",
            " [7 0 9]]\n"
          ]
        }
      ]
    },
    {
      "cell_type": "code",
      "source": [
        "print(a2)\n",
        "a2_sub_copy = a2[:2, :2].copy()\n",
        "print(a2_sub_copy)\n",
        "a2_sub_copy[:, 1] = 1\n",
        "print(a2_sub_copy)\n",
        "print(a2)"
      ],
      "metadata": {
        "colab": {
          "base_uri": "https://localhost:8080/"
        },
        "id": "w0CrQ5z5-o-I",
        "outputId": "308dc349-f32b-49eb-f8d8-f78ff476f3aa"
      },
      "execution_count": 80,
      "outputs": [
        {
          "output_type": "stream",
          "name": "stdout",
          "text": [
            "[[0 0 1]\n",
            " [4 0 9]\n",
            " [7 0 9]]\n",
            "[[0 0]\n",
            " [4 0]]\n",
            "[[0 1]\n",
            " [4 1]]\n",
            "[[0 0 1]\n",
            " [4 0 9]\n",
            " [7 0 9]]\n"
          ]
        }
      ]
    },
    {
      "cell_type": "markdown",
      "source": [
        "#### 배열 재구조화  \n",
        "* `reshape()`: 배열의 형상을 변경"
      ],
      "metadata": {
        "id": "lY5fpMBgDxpN"
      }
    },
    {
      "cell_type": "code",
      "source": [
        "n1 = np.arange(1,10)\n",
        "print(n1)\n",
        "print(n1.reshape(3,3))"
      ],
      "metadata": {
        "colab": {
          "base_uri": "https://localhost:8080/"
        },
        "id": "Zl0wn2o6D0zP",
        "outputId": "13a7b7da-db53-4c5b-c648-7024c1c29c6f"
      },
      "execution_count": 190,
      "outputs": [
        {
          "output_type": "stream",
          "name": "stdout",
          "text": [
            "[1 2 3 4 5 6 7 8 9]\n",
            "[[1 2 3]\n",
            " [4 5 6]\n",
            " [7 8 9]]\n"
          ]
        }
      ]
    },
    {
      "cell_type": "markdown",
      "source": [
        "* `newaxis()`: 새로운 축 추가"
      ],
      "metadata": {
        "id": "BpzFZgm-D3CG"
      }
    },
    {
      "cell_type": "code",
      "source": [
        "print(n1)\n",
        "print(n1[np.newaxis, :5]) \n",
        "print(n1[:5, np.newaxis]) "
      ],
      "metadata": {
        "colab": {
          "base_uri": "https://localhost:8080/"
        },
        "id": "uke9_HFaD3JL",
        "outputId": "20cb5595-89ca-45c3-9441-7ec25926bcc7"
      },
      "execution_count": 191,
      "outputs": [
        {
          "output_type": "stream",
          "name": "stdout",
          "text": [
            "[1 2 3 4 5 6 7 8 9]\n",
            "[[1 2 3 4 5]]\n",
            "[[1]\n",
            " [2]\n",
            " [3]\n",
            " [4]\n",
            " [5]]\n"
          ]
        }
      ]
    },
    {
      "cell_type": "code",
      "source": [
        "print(n1[np.newaxis, :5].shape) \n",
        "print(n1[:5, np.newaxis].shape) "
      ],
      "metadata": {
        "colab": {
          "base_uri": "https://localhost:8080/"
        },
        "id": "m8muJvsSS43T",
        "outputId": "af6c6dd0-e9bf-4d0b-e92e-169f8df6881c"
      },
      "execution_count": 192,
      "outputs": [
        {
          "output_type": "stream",
          "name": "stdout",
          "text": [
            "(1, 5)\n",
            "(5, 1)\n"
          ]
        }
      ]
    },
    {
      "cell_type": "markdown",
      "source": [
        "#### 배열 크기 변경  \n",
        "* `resize()`: 배열의 크기를 변경"
      ],
      "metadata": {
        "id": "kcNzgbkIECHW"
      }
    },
    {
      "cell_type": "code",
      "source": [
        "n2 = np.random.randint(0,10, (2,5))\n",
        "print(n2)\n",
        "n2.resize((5,2))\n",
        "print(n2)"
      ],
      "metadata": {
        "colab": {
          "base_uri": "https://localhost:8080/"
        },
        "id": "n7SQf2HwEBVC",
        "outputId": "ded842fa-00e8-46d3-c53f-a3a6463a5db4"
      },
      "execution_count": 83,
      "outputs": [
        {
          "output_type": "stream",
          "name": "stdout",
          "text": [
            "[[0 6 7 8 0]\n",
            " [1 0 0 2 2]]\n",
            "[[0 6]\n",
            " [7 8]\n",
            " [0 1]\n",
            " [0 0]\n",
            " [2 2]]\n"
          ]
        }
      ]
    },
    {
      "cell_type": "code",
      "source": [
        "n2.resize((5,5),refcheck=False)\n",
        "print(n2)\n",
        "# 남은 공간 0으로 채워짐"
      ],
      "metadata": {
        "colab": {
          "base_uri": "https://localhost:8080/"
        },
        "id": "mHA5gKDXEiNA",
        "outputId": "11ad3549-f53f-4811-c725-f70387eb18aa"
      },
      "execution_count": 84,
      "outputs": [
        {
          "output_type": "stream",
          "name": "stdout",
          "text": [
            "[[0 6 7 8 0]\n",
            " [1 0 0 2 2]\n",
            " [0 0 0 0 0]\n",
            " [0 0 0 0 0]\n",
            " [0 0 0 0 0]]\n"
          ]
        }
      ]
    },
    {
      "cell_type": "code",
      "source": [
        "n2.resize((3,3),refcheck=False)\n",
        "print(n2)\n",
        "# 포함되지 않은 값은 삭제됨"
      ],
      "metadata": {
        "colab": {
          "base_uri": "https://localhost:8080/"
        },
        "id": "Pa44_IS0Elu7",
        "outputId": "21a830f6-4b20-4659-87ae-995492483e85"
      },
      "execution_count": 85,
      "outputs": [
        {
          "output_type": "stream",
          "name": "stdout",
          "text": [
            "[[0 6 7]\n",
            " [8 0 1]\n",
            " [0 0 2]]\n"
          ]
        }
      ]
    },
    {
      "cell_type": "markdown",
      "source": [
        "#### 배열 추가  \n",
        "* `append()`: 배열의 끝에 값 추가"
      ],
      "metadata": {
        "id": "rFBiExrQEq8K"
      }
    },
    {
      "cell_type": "code",
      "source": [
        "a2 = np.arange(1,10).reshape(3,3)\n",
        "print(a2)\n",
        "b2 = np.arange(10,19).reshape(3,3)\n",
        "print(b2)"
      ],
      "metadata": {
        "colab": {
          "base_uri": "https://localhost:8080/"
        },
        "id": "zi2IM009Eu4e",
        "outputId": "eaff36aa-52e7-4feb-8ae8-cac6406819f2"
      },
      "execution_count": 86,
      "outputs": [
        {
          "output_type": "stream",
          "name": "stdout",
          "text": [
            "[[1 2 3]\n",
            " [4 5 6]\n",
            " [7 8 9]]\n",
            "[[10 11 12]\n",
            " [13 14 15]\n",
            " [16 17 18]]\n"
          ]
        }
      ]
    },
    {
      "cell_type": "code",
      "source": [
        "c2 = np.append(a2, b2)\n",
        "print(c2)"
      ],
      "metadata": {
        "colab": {
          "base_uri": "https://localhost:8080/"
        },
        "id": "Lyx8PhYwEwFA",
        "outputId": "75fb3fe7-ff2c-44d3-ef22-525ce5b7bd4a"
      },
      "execution_count": 87,
      "outputs": [
        {
          "output_type": "stream",
          "name": "stdout",
          "text": [
            "[ 1  2  3  4  5  6  7  8  9 10 11 12 13 14 15 16 17 18]\n"
          ]
        }
      ]
    },
    {
      "cell_type": "code",
      "source": [
        "# axis = 0으로 지정\n",
        "c2 = np.append(a2, b2, axis = 0)\n",
        "print(c2)"
      ],
      "metadata": {
        "colab": {
          "base_uri": "https://localhost:8080/"
        },
        "id": "IdpU6sk_EyOJ",
        "outputId": "e19e3503-1195-44db-d699-1a11a0482155"
      },
      "execution_count": 88,
      "outputs": [
        {
          "output_type": "stream",
          "name": "stdout",
          "text": [
            "[[ 1  2  3]\n",
            " [ 4  5  6]\n",
            " [ 7  8  9]\n",
            " [10 11 12]\n",
            " [13 14 15]\n",
            " [16 17 18]]\n"
          ]
        }
      ]
    },
    {
      "cell_type": "code",
      "source": [
        "# axis = 1로 지정\n",
        "c2 = np.append(a2, b2, axis = 1)\n",
        "print(c2)"
      ],
      "metadata": {
        "colab": {
          "base_uri": "https://localhost:8080/"
        },
        "id": "I6ajUtymE0yi",
        "outputId": "5a8089d4-bbbf-4c92-c56a-c9364655a291"
      },
      "execution_count": 89,
      "outputs": [
        {
          "output_type": "stream",
          "name": "stdout",
          "text": [
            "[[ 1  2  3 10 11 12]\n",
            " [ 4  5  6 13 14 15]\n",
            " [ 7  8  9 16 17 18]]\n"
          ]
        }
      ]
    },
    {
      "cell_type": "markdown",
      "source": [
        "#### 배열 값 확인\n",
        "* `np.where()`: 조건 만족 인덱스 반환 \n",
        "* `np.unique()`: 주어진 배열에서 모든 고유 값을 검색하고 이러한 고유 값을 정렬"
      ],
      "metadata": {
        "id": "6OhFM0h5edNR"
      }
    },
    {
      "cell_type": "code",
      "source": [
        "a1 = np.arange(5, 15) \n",
        "print(a1)\n",
        "print(np.where(a > 10)) "
      ],
      "metadata": {
        "colab": {
          "base_uri": "https://localhost:8080/"
        },
        "id": "6q-kZtaeexqg",
        "outputId": "84fb70d6-e9c6-4313-d829-6e0de454ebdf"
      },
      "execution_count": 182,
      "outputs": [
        {
          "output_type": "stream",
          "name": "stdout",
          "text": [
            "[ 5  6  7  8  9 10 11 12 13 14]\n",
            "(array([6, 7, 8, 9]),)\n"
          ]
        }
      ]
    },
    {
      "cell_type": "code",
      "source": [
        "a2 = np.array([[2,3,4],\n",
        "              [5,4,7],\n",
        "              [4,2,3]])\n",
        "unique_array=np.unique(a2, return_counts=True)\n",
        "print(unique_array)"
      ],
      "metadata": {
        "colab": {
          "base_uri": "https://localhost:8080/"
        },
        "id": "1Dl88JO6fH2I",
        "outputId": "e5fda37e-e4e1-4cbc-efd9-4adb8f14bf2e"
      },
      "execution_count": 185,
      "outputs": [
        {
          "output_type": "stream",
          "name": "stdout",
          "text": [
            "(array([2, 3, 4, 5, 7]), array([2, 2, 3, 1, 1]))\n"
          ]
        }
      ]
    },
    {
      "cell_type": "markdown",
      "source": [
        "### (5) 병합 & 분할 (stack, split) "
      ],
      "metadata": {
        "id": "BHUc0Xx2rRwh"
      }
    },
    {
      "cell_type": "markdown",
      "source": [
        "#### 배열 병합  \n",
        "* `concatenate()`: 튜플이나 배열의 리스트를 인수로 사용해 배열 연결"
      ],
      "metadata": {
        "id": "wVYVqhFxE6O0"
      }
    },
    {
      "cell_type": "code",
      "source": [
        "a1 = np.array([1,3,5])\n",
        "b1 = np.array([2,4,6])\n",
        "np.concatenate([a1, b1])"
      ],
      "metadata": {
        "colab": {
          "base_uri": "https://localhost:8080/"
        },
        "id": "y4vJIaxmrYtZ",
        "outputId": "97ec20e3-3b7b-4a9e-9d3d-15821510976f"
      },
      "execution_count": 90,
      "outputs": [
        {
          "output_type": "execute_result",
          "data": {
            "text/plain": [
              "array([1, 3, 5, 2, 4, 6])"
            ]
          },
          "metadata": {},
          "execution_count": 90
        }
      ]
    },
    {
      "cell_type": "code",
      "source": [
        "c1 = np.array([7,8,9])\n",
        "np.concatenate([a1,b1,c1])"
      ],
      "metadata": {
        "colab": {
          "base_uri": "https://localhost:8080/"
        },
        "id": "ij-4wEcdE_Oy",
        "outputId": "15318d1f-888a-4710-a866-15f3a59f934e"
      },
      "execution_count": 91,
      "outputs": [
        {
          "output_type": "execute_result",
          "data": {
            "text/plain": [
              "array([1, 3, 5, 2, 4, 6, 7, 8, 9])"
            ]
          },
          "metadata": {},
          "execution_count": 91
        }
      ]
    },
    {
      "cell_type": "code",
      "source": [
        "a2 = np.array([[1,2,3],\n",
        "               [4,5,6]])\n",
        "np.concatenate([a2,a2])"
      ],
      "metadata": {
        "colab": {
          "base_uri": "https://localhost:8080/"
        },
        "id": "JhsaRqcoFAQz",
        "outputId": "5abff9cb-3e5b-44e4-d49e-5ef36a4a69cf"
      },
      "execution_count": 92,
      "outputs": [
        {
          "output_type": "execute_result",
          "data": {
            "text/plain": [
              "array([[1, 2, 3],\n",
              "       [4, 5, 6],\n",
              "       [1, 2, 3],\n",
              "       [4, 5, 6]])"
            ]
          },
          "metadata": {},
          "execution_count": 92
        }
      ]
    },
    {
      "cell_type": "code",
      "source": [
        "a2 = np.array([[1,2,3],\n",
        "               [4,5,6]])\n",
        "np.concatenate([a2,a2], axis = 1)"
      ],
      "metadata": {
        "colab": {
          "base_uri": "https://localhost:8080/"
        },
        "id": "d1LaFtBFFBML",
        "outputId": "6d49f68f-ea4c-4647-db4b-ec21b2d1b44f"
      },
      "execution_count": 93,
      "outputs": [
        {
          "output_type": "execute_result",
          "data": {
            "text/plain": [
              "array([[1, 2, 3, 1, 2, 3],\n",
              "       [4, 5, 6, 4, 5, 6]])"
            ]
          },
          "metadata": {},
          "execution_count": 93
        }
      ]
    },
    {
      "cell_type": "markdown",
      "source": [
        "* `vstack()`: 수직 스택(vertical stack)"
      ],
      "metadata": {
        "id": "7ugcrr7aFEAV"
      }
    },
    {
      "cell_type": "code",
      "source": [
        "np.vstack([a2,a2])"
      ],
      "metadata": {
        "colab": {
          "base_uri": "https://localhost:8080/"
        },
        "id": "u9xYPbaTFGrM",
        "outputId": "b646c7c6-6728-4b1e-979a-759c9678376d"
      },
      "execution_count": 94,
      "outputs": [
        {
          "output_type": "execute_result",
          "data": {
            "text/plain": [
              "array([[1, 2, 3],\n",
              "       [4, 5, 6],\n",
              "       [1, 2, 3],\n",
              "       [4, 5, 6]])"
            ]
          },
          "metadata": {},
          "execution_count": 94
        }
      ]
    },
    {
      "cell_type": "code",
      "source": [
        "np.vstack([a2,a2]).shape"
      ],
      "metadata": {
        "colab": {
          "base_uri": "https://localhost:8080/"
        },
        "id": "lWWCaR9YU1un",
        "outputId": "554d9604-288e-4115-ef07-f7c939a9c883"
      },
      "execution_count": 194,
      "outputs": [
        {
          "output_type": "execute_result",
          "data": {
            "text/plain": [
              "(6, 3)"
            ]
          },
          "metadata": {},
          "execution_count": 194
        }
      ]
    },
    {
      "cell_type": "markdown",
      "source": [
        "* `hstack()`: 수평 스택(horizontal stack)"
      ],
      "metadata": {
        "id": "MCtMfUprFHBd"
      }
    },
    {
      "cell_type": "code",
      "source": [
        "np.hstack([a2,a2])"
      ],
      "metadata": {
        "colab": {
          "base_uri": "https://localhost:8080/"
        },
        "id": "zA2V3YPnFHK5",
        "outputId": "40ecc0b1-4679-4379-b288-729d50127b92"
      },
      "execution_count": 95,
      "outputs": [
        {
          "output_type": "execute_result",
          "data": {
            "text/plain": [
              "array([[1, 2, 3, 1, 2, 3],\n",
              "       [4, 5, 6, 4, 5, 6]])"
            ]
          },
          "metadata": {},
          "execution_count": 95
        }
      ]
    },
    {
      "cell_type": "markdown",
      "source": [
        "* `dstack()`: 깊이 스택(depth stack)"
      ],
      "metadata": {
        "id": "B4IgJvbQFHS1"
      }
    },
    {
      "cell_type": "code",
      "source": [
        "np.dstack([a2,a2])"
      ],
      "metadata": {
        "colab": {
          "base_uri": "https://localhost:8080/"
        },
        "id": "dVIYB4EQFHa-",
        "outputId": "f470e2f0-97d8-44f6-90f5-1c72ceaf5132"
      },
      "execution_count": 96,
      "outputs": [
        {
          "output_type": "execute_result",
          "data": {
            "text/plain": [
              "array([[[1, 1],\n",
              "        [2, 2],\n",
              "        [3, 3]],\n",
              "\n",
              "       [[4, 4],\n",
              "        [5, 5],\n",
              "        [6, 6]]])"
            ]
          },
          "metadata": {},
          "execution_count": 96
        }
      ]
    },
    {
      "cell_type": "markdown",
      "source": [
        "* `stack()`: 새로운 차원으로 연결"
      ],
      "metadata": {
        "id": "4CJi9_99FHp8"
      }
    },
    {
      "cell_type": "code",
      "source": [
        "np.stack([a2,a2])"
      ],
      "metadata": {
        "colab": {
          "base_uri": "https://localhost:8080/"
        },
        "id": "OPAWRUbAFHyD",
        "outputId": "86f2349c-a68f-470e-dccd-4b39b98af4b6"
      },
      "execution_count": 97,
      "outputs": [
        {
          "output_type": "execute_result",
          "data": {
            "text/plain": [
              "array([[[1, 2, 3],\n",
              "        [4, 5, 6]],\n",
              "\n",
              "       [[1, 2, 3],\n",
              "        [4, 5, 6]]])"
            ]
          },
          "metadata": {},
          "execution_count": 97
        }
      ]
    },
    {
      "cell_type": "markdown",
      "source": [
        "#### 배열 분할  \n",
        "* `split()`: 배열 분할"
      ],
      "metadata": {
        "id": "knGLjOP8FRkM"
      }
    },
    {
      "cell_type": "code",
      "source": [
        "a1 = np.arange(0,10)\n",
        "print(a1)\n",
        "b1, c1 = np.split(a1, [5]) # 인덱스 5 기준으로 split\n",
        "print(b1, c1)\n",
        "b1, c1, d1, e1, f1 = np.split(a1, [2,4,6,8])\n",
        "print(b1, c1, d1, e1, f1)"
      ],
      "metadata": {
        "colab": {
          "base_uri": "https://localhost:8080/"
        },
        "id": "Ukz5dyB2FUCo",
        "outputId": "b3644429-f0c7-4c7f-98dd-6b71c56d6c53"
      },
      "execution_count": 98,
      "outputs": [
        {
          "output_type": "stream",
          "name": "stdout",
          "text": [
            "[0 1 2 3 4 5 6 7 8 9]\n",
            "[0 1 2 3 4] [5 6 7 8 9]\n",
            "[0 1] [2 3] [4 5] [6 7] [8 9]\n"
          ]
        }
      ]
    },
    {
      "cell_type": "markdown",
      "source": [
        "* `vsplit()`: 수직 분할"
      ],
      "metadata": {
        "id": "Rev1NbplHGn5"
      }
    },
    {
      "cell_type": "code",
      "source": [
        "a2 = np.arange(1,10).reshape(3,3)\n",
        "print(a2)\n",
        "b2, c2 = np.vsplit(a2, [2])\n",
        "print(b2)\n",
        "print(c2)"
      ],
      "metadata": {
        "colab": {
          "base_uri": "https://localhost:8080/"
        },
        "id": "x9BghaE6HIRA",
        "outputId": "53c81641-678b-4cdd-b917-ccd44d059645"
      },
      "execution_count": 99,
      "outputs": [
        {
          "output_type": "stream",
          "name": "stdout",
          "text": [
            "[[1 2 3]\n",
            " [4 5 6]\n",
            " [7 8 9]]\n",
            "[[1 2 3]\n",
            " [4 5 6]]\n",
            "[[7 8 9]]\n"
          ]
        }
      ]
    },
    {
      "cell_type": "markdown",
      "source": [
        "* `hsplit()`: 수평 분할"
      ],
      "metadata": {
        "id": "ekGmNN_uHKCp"
      }
    },
    {
      "cell_type": "code",
      "source": [
        "a2 = np.arange(1,10).reshape(3,3)\n",
        "print(a2)\n",
        "b2, c2 = np.hsplit(a2, [2])\n",
        "print(b2)\n",
        "print(c2)"
      ],
      "metadata": {
        "colab": {
          "base_uri": "https://localhost:8080/"
        },
        "id": "4sFGs94KHLzX",
        "outputId": "8df11f74-8f56-4142-c0d7-a557e0211b3c"
      },
      "execution_count": 100,
      "outputs": [
        {
          "output_type": "stream",
          "name": "stdout",
          "text": [
            "[[1 2 3]\n",
            " [4 5 6]\n",
            " [7 8 9]]\n",
            "[[1 2]\n",
            " [4 5]\n",
            " [7 8]]\n",
            "[[3]\n",
            " [6]\n",
            " [9]]\n"
          ]
        }
      ]
    },
    {
      "cell_type": "markdown",
      "source": [
        "* `dsplit()`: 깊이 분할"
      ],
      "metadata": {
        "id": "JmHyIxUmHNOS"
      }
    },
    {
      "cell_type": "code",
      "source": [
        "a3 = np.arange(1,28).reshape(3,3,3)\n",
        "print(a3)\n",
        "b3, c3 = np.hsplit(a3, [2])\n",
        "print(b3)\n",
        "print(c3)"
      ],
      "metadata": {
        "colab": {
          "base_uri": "https://localhost:8080/"
        },
        "id": "DRuJWCocHOyq",
        "outputId": "d4be1a0a-e71f-4259-ec7a-d9f8973e72c4"
      },
      "execution_count": 101,
      "outputs": [
        {
          "output_type": "stream",
          "name": "stdout",
          "text": [
            "[[[ 1  2  3]\n",
            "  [ 4  5  6]\n",
            "  [ 7  8  9]]\n",
            "\n",
            " [[10 11 12]\n",
            "  [13 14 15]\n",
            "  [16 17 18]]\n",
            "\n",
            " [[19 20 21]\n",
            "  [22 23 24]\n",
            "  [25 26 27]]]\n",
            "[[[ 1  2  3]\n",
            "  [ 4  5  6]]\n",
            "\n",
            " [[10 11 12]\n",
            "  [13 14 15]]\n",
            "\n",
            " [[19 20 21]\n",
            "  [22 23 24]]]\n",
            "[[[ 7  8  9]]\n",
            "\n",
            " [[16 17 18]]\n",
            "\n",
            " [[25 26 27]]]\n"
          ]
        }
      ]
    },
    {
      "cell_type": "markdown",
      "source": [
        "### (6) QUIZ"
      ],
      "metadata": {
        "id": "TKc6M5nqrXDJ"
      }
    },
    {
      "cell_type": "code",
      "source": [
        "# (1)에 포함"
      ],
      "metadata": {
        "id": "cMaA2s1orW3Z"
      },
      "execution_count": 102,
      "outputs": []
    },
    {
      "cell_type": "code",
      "source": [
        "q1 = np.arange(10,31)\n",
        "print(q1)"
      ],
      "metadata": {
        "colab": {
          "base_uri": "https://localhost:8080/"
        },
        "id": "zTtK3yI6-CmA",
        "outputId": "971c911c-c101-436b-b622-82eea6a95604"
      },
      "execution_count": 113,
      "outputs": [
        {
          "output_type": "stream",
          "name": "stdout",
          "text": [
            "[10 11 12 13 14 15 16 17 18 19 20 21 22 23 24 25 26 27 28 29 30]\n"
          ]
        }
      ]
    },
    {
      "cell_type": "code",
      "source": [
        "q2 = np.random.random(5)\n",
        "print(q2)\n",
        "q2[q2.argmax()] = 0\n",
        "print(q2)"
      ],
      "metadata": {
        "colab": {
          "base_uri": "https://localhost:8080/"
        },
        "id": "BzgTUo1z-NWy",
        "outputId": "a8457721-fe7b-4001-d0f3-dbb18147cc63"
      },
      "execution_count": 117,
      "outputs": [
        {
          "output_type": "stream",
          "name": "stdout",
          "text": [
            "[0.74477615 0.29900594 0.39137998 0.91495816 0.35923376]\n",
            "[0.74477615 0.29900594 0.39137998 0.         0.35923376]\n"
          ]
        }
      ]
    },
    {
      "cell_type": "code",
      "source": [
        "q3 = np.random.randint(0,5,(3,3))\n",
        "print(q3)\n",
        "# solution 1\n",
        "E = np.all(q3[:,1:] == q3[:,:-1], axis =1)\n",
        "print(E)\n",
        "U = q3[~E]\n",
        "print(U)\n",
        "# solution 2\n",
        "U = q3[q3.max(axis=1) != q3.min(axis=1), :]\n",
        "print(U)"
      ],
      "metadata": {
        "colab": {
          "base_uri": "https://localhost:8080/"
        },
        "id": "pwGK8ARt-aqQ",
        "outputId": "439e084a-b638-49f7-ba4f-13a159e0ee37"
      },
      "execution_count": 120,
      "outputs": [
        {
          "output_type": "stream",
          "name": "stdout",
          "text": [
            "[[3 4 3]\n",
            " [3 2 1]\n",
            " [4 4 4]]\n",
            "[False False  True]\n",
            "[[3 4 3]\n",
            " [3 2 1]]\n",
            "[[3 4 3]\n",
            " [3 2 1]]\n"
          ]
        }
      ]
    },
    {
      "cell_type": "markdown",
      "source": [
        "### (7) 과제 설명"
      ],
      "metadata": {
        "id": "ZoeMklTiRF-W"
      }
    },
    {
      "cell_type": "code",
      "source": [
        "/content/drive/MyDrive/문서/archive (12)/users.csv"
      ],
      "metadata": {
        "id": "fFBov5dERE0f"
      },
      "execution_count": null,
      "outputs": []
    },
    {
      "cell_type": "code",
      "source": [
        "import numpy as np # linear algebra\n",
        "import pandas as pd # data processing, CSV file I/O (e.g. pd.read_csv)\n",
        "\n",
        "import matplotlib.pyplot as plt # plotting\n",
        "import seaborn as sns # more plotting"
      ],
      "metadata": {
        "id": "lSN7lD7HTkUY"
      },
      "execution_count": 121,
      "outputs": []
    },
    {
      "cell_type": "code",
      "source": [
        "# flights.csv\n",
        "dfFlight = pd.read_csv('/content/drive/MyDrive/문서/archive (12)/flights.csv', delimiter=',')\n",
        "dfFlight.dataframeName = 'flights.csv'\n",
        "nRow, nCol = dfFlight.shape\n",
        "print(f'There are {nRow} rows and {nCol} columns')\n",
        "# hotels.csv\n",
        "dfHotel = pd.read_csv('/content/drive/MyDrive/문서/archive (12)/hotels.csv', delimiter=',')\n",
        "dfHotel.dataframeName = 'hotels.csv'\n",
        "nRow, nCol = dfHotel.shape\n",
        "print(f'There are {nRow} rows and {nCol} columns')\n",
        "# user.csv\n",
        "dfUser = pd.read_csv('/content/drive/MyDrive/문서/archive (12)/users.csv', delimiter=',')\n",
        "dfUser.dataframeName = 'users.csv'\n",
        "nRow, nCol = dfUser.shape\n",
        "print(f'There are {nRow} rows and {nCol} columns')"
      ],
      "metadata": {
        "colab": {
          "base_uri": "https://localhost:8080/"
        },
        "id": "ANiwzMHQTl2d",
        "outputId": "3ae9216b-9a66-47fd-98fa-7ea943206d60"
      },
      "execution_count": 127,
      "outputs": [
        {
          "output_type": "stream",
          "name": "stdout",
          "text": [
            "There are 271888 rows and 10 columns\n",
            "There are 40552 rows and 8 columns\n",
            "There are 1340 rows and 5 columns\n"
          ]
        }
      ]
    },
    {
      "cell_type": "code",
      "source": [
        "# Viewing the first 3 rows\n",
        "dfFlight.head(3)"
      ],
      "metadata": {
        "colab": {
          "base_uri": "https://localhost:8080/",
          "height": 143
        },
        "id": "cLMh8wX7UhYO",
        "outputId": "fd310f99-2f8a-4d6e-bfbc-41a2270b12ee"
      },
      "execution_count": 129,
      "outputs": [
        {
          "output_type": "execute_result",
          "data": {
            "text/plain": [
              "   travelCode  userCode                from                  to  flightType  \\\n",
              "0           0         0         Recife (PE)  Florianopolis (SC)  firstClass   \n",
              "1           0         0  Florianopolis (SC)         Recife (PE)  firstClass   \n",
              "2           1         0       Brasilia (DF)  Florianopolis (SC)  firstClass   \n",
              "\n",
              "     price  time  distance       agency        date  \n",
              "0  1434.38  1.76    676.53  FlyingDrops  09/26/2019  \n",
              "1  1292.29  1.76    676.53  FlyingDrops  09/30/2019  \n",
              "2  1487.52  1.66    637.56      CloudFy  10/03/2019  "
            ],
            "text/html": [
              "\n",
              "  <div id=\"df-f2c84819-51ab-4078-9439-9f2a01bfa056\">\n",
              "    <div class=\"colab-df-container\">\n",
              "      <div>\n",
              "<style scoped>\n",
              "    .dataframe tbody tr th:only-of-type {\n",
              "        vertical-align: middle;\n",
              "    }\n",
              "\n",
              "    .dataframe tbody tr th {\n",
              "        vertical-align: top;\n",
              "    }\n",
              "\n",
              "    .dataframe thead th {\n",
              "        text-align: right;\n",
              "    }\n",
              "</style>\n",
              "<table border=\"1\" class=\"dataframe\">\n",
              "  <thead>\n",
              "    <tr style=\"text-align: right;\">\n",
              "      <th></th>\n",
              "      <th>travelCode</th>\n",
              "      <th>userCode</th>\n",
              "      <th>from</th>\n",
              "      <th>to</th>\n",
              "      <th>flightType</th>\n",
              "      <th>price</th>\n",
              "      <th>time</th>\n",
              "      <th>distance</th>\n",
              "      <th>agency</th>\n",
              "      <th>date</th>\n",
              "    </tr>\n",
              "  </thead>\n",
              "  <tbody>\n",
              "    <tr>\n",
              "      <th>0</th>\n",
              "      <td>0</td>\n",
              "      <td>0</td>\n",
              "      <td>Recife (PE)</td>\n",
              "      <td>Florianopolis (SC)</td>\n",
              "      <td>firstClass</td>\n",
              "      <td>1434.38</td>\n",
              "      <td>1.76</td>\n",
              "      <td>676.53</td>\n",
              "      <td>FlyingDrops</td>\n",
              "      <td>09/26/2019</td>\n",
              "    </tr>\n",
              "    <tr>\n",
              "      <th>1</th>\n",
              "      <td>0</td>\n",
              "      <td>0</td>\n",
              "      <td>Florianopolis (SC)</td>\n",
              "      <td>Recife (PE)</td>\n",
              "      <td>firstClass</td>\n",
              "      <td>1292.29</td>\n",
              "      <td>1.76</td>\n",
              "      <td>676.53</td>\n",
              "      <td>FlyingDrops</td>\n",
              "      <td>09/30/2019</td>\n",
              "    </tr>\n",
              "    <tr>\n",
              "      <th>2</th>\n",
              "      <td>1</td>\n",
              "      <td>0</td>\n",
              "      <td>Brasilia (DF)</td>\n",
              "      <td>Florianopolis (SC)</td>\n",
              "      <td>firstClass</td>\n",
              "      <td>1487.52</td>\n",
              "      <td>1.66</td>\n",
              "      <td>637.56</td>\n",
              "      <td>CloudFy</td>\n",
              "      <td>10/03/2019</td>\n",
              "    </tr>\n",
              "  </tbody>\n",
              "</table>\n",
              "</div>\n",
              "      <button class=\"colab-df-convert\" onclick=\"convertToInteractive('df-f2c84819-51ab-4078-9439-9f2a01bfa056')\"\n",
              "              title=\"Convert this dataframe to an interactive table.\"\n",
              "              style=\"display:none;\">\n",
              "        \n",
              "  <svg xmlns=\"http://www.w3.org/2000/svg\" height=\"24px\"viewBox=\"0 0 24 24\"\n",
              "       width=\"24px\">\n",
              "    <path d=\"M0 0h24v24H0V0z\" fill=\"none\"/>\n",
              "    <path d=\"M18.56 5.44l.94 2.06.94-2.06 2.06-.94-2.06-.94-.94-2.06-.94 2.06-2.06.94zm-11 1L8.5 8.5l.94-2.06 2.06-.94-2.06-.94L8.5 2.5l-.94 2.06-2.06.94zm10 10l.94 2.06.94-2.06 2.06-.94-2.06-.94-.94-2.06-.94 2.06-2.06.94z\"/><path d=\"M17.41 7.96l-1.37-1.37c-.4-.4-.92-.59-1.43-.59-.52 0-1.04.2-1.43.59L10.3 9.45l-7.72 7.72c-.78.78-.78 2.05 0 2.83L4 21.41c.39.39.9.59 1.41.59.51 0 1.02-.2 1.41-.59l7.78-7.78 2.81-2.81c.8-.78.8-2.07 0-2.86zM5.41 20L4 18.59l7.72-7.72 1.47 1.35L5.41 20z\"/>\n",
              "  </svg>\n",
              "      </button>\n",
              "      \n",
              "  <style>\n",
              "    .colab-df-container {\n",
              "      display:flex;\n",
              "      flex-wrap:wrap;\n",
              "      gap: 12px;\n",
              "    }\n",
              "\n",
              "    .colab-df-convert {\n",
              "      background-color: #E8F0FE;\n",
              "      border: none;\n",
              "      border-radius: 50%;\n",
              "      cursor: pointer;\n",
              "      display: none;\n",
              "      fill: #1967D2;\n",
              "      height: 32px;\n",
              "      padding: 0 0 0 0;\n",
              "      width: 32px;\n",
              "    }\n",
              "\n",
              "    .colab-df-convert:hover {\n",
              "      background-color: #E2EBFA;\n",
              "      box-shadow: 0px 1px 2px rgba(60, 64, 67, 0.3), 0px 1px 3px 1px rgba(60, 64, 67, 0.15);\n",
              "      fill: #174EA6;\n",
              "    }\n",
              "\n",
              "    [theme=dark] .colab-df-convert {\n",
              "      background-color: #3B4455;\n",
              "      fill: #D2E3FC;\n",
              "    }\n",
              "\n",
              "    [theme=dark] .colab-df-convert:hover {\n",
              "      background-color: #434B5C;\n",
              "      box-shadow: 0px 1px 3px 1px rgba(0, 0, 0, 0.15);\n",
              "      filter: drop-shadow(0px 1px 2px rgba(0, 0, 0, 0.3));\n",
              "      fill: #FFFFFF;\n",
              "    }\n",
              "  </style>\n",
              "\n",
              "      <script>\n",
              "        const buttonEl =\n",
              "          document.querySelector('#df-f2c84819-51ab-4078-9439-9f2a01bfa056 button.colab-df-convert');\n",
              "        buttonEl.style.display =\n",
              "          google.colab.kernel.accessAllowed ? 'block' : 'none';\n",
              "\n",
              "        async function convertToInteractive(key) {\n",
              "          const element = document.querySelector('#df-f2c84819-51ab-4078-9439-9f2a01bfa056');\n",
              "          const dataTable =\n",
              "            await google.colab.kernel.invokeFunction('convertToInteractive',\n",
              "                                                     [key], {});\n",
              "          if (!dataTable) return;\n",
              "\n",
              "          const docLinkHtml = 'Like what you see? Visit the ' +\n",
              "            '<a target=\"_blank\" href=https://colab.research.google.com/notebooks/data_table.ipynb>data table notebook</a>'\n",
              "            + ' to learn more about interactive tables.';\n",
              "          element.innerHTML = '';\n",
              "          dataTable['output_type'] = 'display_data';\n",
              "          await google.colab.output.renderOutput(dataTable, element);\n",
              "          const docLink = document.createElement('div');\n",
              "          docLink.innerHTML = docLinkHtml;\n",
              "          element.appendChild(docLink);\n",
              "        }\n",
              "      </script>\n",
              "    </div>\n",
              "  </div>\n",
              "  "
            ]
          },
          "metadata": {},
          "execution_count": 129
        }
      ]
    },
    {
      "cell_type": "code",
      "source": [
        "# Viewing the first 3 rows\n",
        "dfHotel.head(3)"
      ],
      "metadata": {
        "colab": {
          "base_uri": "https://localhost:8080/",
          "height": 143
        },
        "id": "ODPKD-kaUeoJ",
        "outputId": "d62b9b3e-790c-4076-9f79-810f44771d50"
      },
      "execution_count": 126,
      "outputs": [
        {
          "output_type": "execute_result",
          "data": {
            "text/plain": [
              "   travelCode  userCode     name               place  days   price    total  \\\n",
              "0           0         0  Hotel A  Florianopolis (SC)     4  313.02  1252.08   \n",
              "1           2         0  Hotel K       Salvador (BH)     2  263.41   526.82   \n",
              "2           7         0  Hotel K       Salvador (BH)     3  263.41   790.23   \n",
              "\n",
              "         date  \n",
              "0  09/26/2019  \n",
              "1  10/10/2019  \n",
              "2  11/14/2019  "
            ],
            "text/html": [
              "\n",
              "  <div id=\"df-dd4f10b2-f768-4c7b-a095-20e87ce99ad7\">\n",
              "    <div class=\"colab-df-container\">\n",
              "      <div>\n",
              "<style scoped>\n",
              "    .dataframe tbody tr th:only-of-type {\n",
              "        vertical-align: middle;\n",
              "    }\n",
              "\n",
              "    .dataframe tbody tr th {\n",
              "        vertical-align: top;\n",
              "    }\n",
              "\n",
              "    .dataframe thead th {\n",
              "        text-align: right;\n",
              "    }\n",
              "</style>\n",
              "<table border=\"1\" class=\"dataframe\">\n",
              "  <thead>\n",
              "    <tr style=\"text-align: right;\">\n",
              "      <th></th>\n",
              "      <th>travelCode</th>\n",
              "      <th>userCode</th>\n",
              "      <th>name</th>\n",
              "      <th>place</th>\n",
              "      <th>days</th>\n",
              "      <th>price</th>\n",
              "      <th>total</th>\n",
              "      <th>date</th>\n",
              "    </tr>\n",
              "  </thead>\n",
              "  <tbody>\n",
              "    <tr>\n",
              "      <th>0</th>\n",
              "      <td>0</td>\n",
              "      <td>0</td>\n",
              "      <td>Hotel A</td>\n",
              "      <td>Florianopolis (SC)</td>\n",
              "      <td>4</td>\n",
              "      <td>313.02</td>\n",
              "      <td>1252.08</td>\n",
              "      <td>09/26/2019</td>\n",
              "    </tr>\n",
              "    <tr>\n",
              "      <th>1</th>\n",
              "      <td>2</td>\n",
              "      <td>0</td>\n",
              "      <td>Hotel K</td>\n",
              "      <td>Salvador (BH)</td>\n",
              "      <td>2</td>\n",
              "      <td>263.41</td>\n",
              "      <td>526.82</td>\n",
              "      <td>10/10/2019</td>\n",
              "    </tr>\n",
              "    <tr>\n",
              "      <th>2</th>\n",
              "      <td>7</td>\n",
              "      <td>0</td>\n",
              "      <td>Hotel K</td>\n",
              "      <td>Salvador (BH)</td>\n",
              "      <td>3</td>\n",
              "      <td>263.41</td>\n",
              "      <td>790.23</td>\n",
              "      <td>11/14/2019</td>\n",
              "    </tr>\n",
              "  </tbody>\n",
              "</table>\n",
              "</div>\n",
              "      <button class=\"colab-df-convert\" onclick=\"convertToInteractive('df-dd4f10b2-f768-4c7b-a095-20e87ce99ad7')\"\n",
              "              title=\"Convert this dataframe to an interactive table.\"\n",
              "              style=\"display:none;\">\n",
              "        \n",
              "  <svg xmlns=\"http://www.w3.org/2000/svg\" height=\"24px\"viewBox=\"0 0 24 24\"\n",
              "       width=\"24px\">\n",
              "    <path d=\"M0 0h24v24H0V0z\" fill=\"none\"/>\n",
              "    <path d=\"M18.56 5.44l.94 2.06.94-2.06 2.06-.94-2.06-.94-.94-2.06-.94 2.06-2.06.94zm-11 1L8.5 8.5l.94-2.06 2.06-.94-2.06-.94L8.5 2.5l-.94 2.06-2.06.94zm10 10l.94 2.06.94-2.06 2.06-.94-2.06-.94-.94-2.06-.94 2.06-2.06.94z\"/><path d=\"M17.41 7.96l-1.37-1.37c-.4-.4-.92-.59-1.43-.59-.52 0-1.04.2-1.43.59L10.3 9.45l-7.72 7.72c-.78.78-.78 2.05 0 2.83L4 21.41c.39.39.9.59 1.41.59.51 0 1.02-.2 1.41-.59l7.78-7.78 2.81-2.81c.8-.78.8-2.07 0-2.86zM5.41 20L4 18.59l7.72-7.72 1.47 1.35L5.41 20z\"/>\n",
              "  </svg>\n",
              "      </button>\n",
              "      \n",
              "  <style>\n",
              "    .colab-df-container {\n",
              "      display:flex;\n",
              "      flex-wrap:wrap;\n",
              "      gap: 12px;\n",
              "    }\n",
              "\n",
              "    .colab-df-convert {\n",
              "      background-color: #E8F0FE;\n",
              "      border: none;\n",
              "      border-radius: 50%;\n",
              "      cursor: pointer;\n",
              "      display: none;\n",
              "      fill: #1967D2;\n",
              "      height: 32px;\n",
              "      padding: 0 0 0 0;\n",
              "      width: 32px;\n",
              "    }\n",
              "\n",
              "    .colab-df-convert:hover {\n",
              "      background-color: #E2EBFA;\n",
              "      box-shadow: 0px 1px 2px rgba(60, 64, 67, 0.3), 0px 1px 3px 1px rgba(60, 64, 67, 0.15);\n",
              "      fill: #174EA6;\n",
              "    }\n",
              "\n",
              "    [theme=dark] .colab-df-convert {\n",
              "      background-color: #3B4455;\n",
              "      fill: #D2E3FC;\n",
              "    }\n",
              "\n",
              "    [theme=dark] .colab-df-convert:hover {\n",
              "      background-color: #434B5C;\n",
              "      box-shadow: 0px 1px 3px 1px rgba(0, 0, 0, 0.15);\n",
              "      filter: drop-shadow(0px 1px 2px rgba(0, 0, 0, 0.3));\n",
              "      fill: #FFFFFF;\n",
              "    }\n",
              "  </style>\n",
              "\n",
              "      <script>\n",
              "        const buttonEl =\n",
              "          document.querySelector('#df-dd4f10b2-f768-4c7b-a095-20e87ce99ad7 button.colab-df-convert');\n",
              "        buttonEl.style.display =\n",
              "          google.colab.kernel.accessAllowed ? 'block' : 'none';\n",
              "\n",
              "        async function convertToInteractive(key) {\n",
              "          const element = document.querySelector('#df-dd4f10b2-f768-4c7b-a095-20e87ce99ad7');\n",
              "          const dataTable =\n",
              "            await google.colab.kernel.invokeFunction('convertToInteractive',\n",
              "                                                     [key], {});\n",
              "          if (!dataTable) return;\n",
              "\n",
              "          const docLinkHtml = 'Like what you see? Visit the ' +\n",
              "            '<a target=\"_blank\" href=https://colab.research.google.com/notebooks/data_table.ipynb>data table notebook</a>'\n",
              "            + ' to learn more about interactive tables.';\n",
              "          element.innerHTML = '';\n",
              "          dataTable['output_type'] = 'display_data';\n",
              "          await google.colab.output.renderOutput(dataTable, element);\n",
              "          const docLink = document.createElement('div');\n",
              "          docLink.innerHTML = docLinkHtml;\n",
              "          element.appendChild(docLink);\n",
              "        }\n",
              "      </script>\n",
              "    </div>\n",
              "  </div>\n",
              "  "
            ]
          },
          "metadata": {},
          "execution_count": 126
        }
      ]
    },
    {
      "cell_type": "code",
      "source": [
        "# Viewing the first 3 rows\n",
        "dfUser.head(3)"
      ],
      "metadata": {
        "colab": {
          "base_uri": "https://localhost:8080/",
          "height": 143
        },
        "id": "OG8G5Td_Tq2w",
        "outputId": "b2a60719-e218-4ca2-c9e2-e47581d4a901"
      },
      "execution_count": 123,
      "outputs": [
        {
          "output_type": "execute_result",
          "data": {
            "text/plain": [
              "   code company            name  gender  age\n",
              "0     0    4You       Roy Braun    male   21\n",
              "1     1    4You  Joseph Holsten    male   37\n",
              "2     2    4You   Wilma Mcinnis  female   48"
            ],
            "text/html": [
              "\n",
              "  <div id=\"df-9e20adec-eacc-4175-a812-345d0d653c52\">\n",
              "    <div class=\"colab-df-container\">\n",
              "      <div>\n",
              "<style scoped>\n",
              "    .dataframe tbody tr th:only-of-type {\n",
              "        vertical-align: middle;\n",
              "    }\n",
              "\n",
              "    .dataframe tbody tr th {\n",
              "        vertical-align: top;\n",
              "    }\n",
              "\n",
              "    .dataframe thead th {\n",
              "        text-align: right;\n",
              "    }\n",
              "</style>\n",
              "<table border=\"1\" class=\"dataframe\">\n",
              "  <thead>\n",
              "    <tr style=\"text-align: right;\">\n",
              "      <th></th>\n",
              "      <th>code</th>\n",
              "      <th>company</th>\n",
              "      <th>name</th>\n",
              "      <th>gender</th>\n",
              "      <th>age</th>\n",
              "    </tr>\n",
              "  </thead>\n",
              "  <tbody>\n",
              "    <tr>\n",
              "      <th>0</th>\n",
              "      <td>0</td>\n",
              "      <td>4You</td>\n",
              "      <td>Roy Braun</td>\n",
              "      <td>male</td>\n",
              "      <td>21</td>\n",
              "    </tr>\n",
              "    <tr>\n",
              "      <th>1</th>\n",
              "      <td>1</td>\n",
              "      <td>4You</td>\n",
              "      <td>Joseph Holsten</td>\n",
              "      <td>male</td>\n",
              "      <td>37</td>\n",
              "    </tr>\n",
              "    <tr>\n",
              "      <th>2</th>\n",
              "      <td>2</td>\n",
              "      <td>4You</td>\n",
              "      <td>Wilma Mcinnis</td>\n",
              "      <td>female</td>\n",
              "      <td>48</td>\n",
              "    </tr>\n",
              "  </tbody>\n",
              "</table>\n",
              "</div>\n",
              "      <button class=\"colab-df-convert\" onclick=\"convertToInteractive('df-9e20adec-eacc-4175-a812-345d0d653c52')\"\n",
              "              title=\"Convert this dataframe to an interactive table.\"\n",
              "              style=\"display:none;\">\n",
              "        \n",
              "  <svg xmlns=\"http://www.w3.org/2000/svg\" height=\"24px\"viewBox=\"0 0 24 24\"\n",
              "       width=\"24px\">\n",
              "    <path d=\"M0 0h24v24H0V0z\" fill=\"none\"/>\n",
              "    <path d=\"M18.56 5.44l.94 2.06.94-2.06 2.06-.94-2.06-.94-.94-2.06-.94 2.06-2.06.94zm-11 1L8.5 8.5l.94-2.06 2.06-.94-2.06-.94L8.5 2.5l-.94 2.06-2.06.94zm10 10l.94 2.06.94-2.06 2.06-.94-2.06-.94-.94-2.06-.94 2.06-2.06.94z\"/><path d=\"M17.41 7.96l-1.37-1.37c-.4-.4-.92-.59-1.43-.59-.52 0-1.04.2-1.43.59L10.3 9.45l-7.72 7.72c-.78.78-.78 2.05 0 2.83L4 21.41c.39.39.9.59 1.41.59.51 0 1.02-.2 1.41-.59l7.78-7.78 2.81-2.81c.8-.78.8-2.07 0-2.86zM5.41 20L4 18.59l7.72-7.72 1.47 1.35L5.41 20z\"/>\n",
              "  </svg>\n",
              "      </button>\n",
              "      \n",
              "  <style>\n",
              "    .colab-df-container {\n",
              "      display:flex;\n",
              "      flex-wrap:wrap;\n",
              "      gap: 12px;\n",
              "    }\n",
              "\n",
              "    .colab-df-convert {\n",
              "      background-color: #E8F0FE;\n",
              "      border: none;\n",
              "      border-radius: 50%;\n",
              "      cursor: pointer;\n",
              "      display: none;\n",
              "      fill: #1967D2;\n",
              "      height: 32px;\n",
              "      padding: 0 0 0 0;\n",
              "      width: 32px;\n",
              "    }\n",
              "\n",
              "    .colab-df-convert:hover {\n",
              "      background-color: #E2EBFA;\n",
              "      box-shadow: 0px 1px 2px rgba(60, 64, 67, 0.3), 0px 1px 3px 1px rgba(60, 64, 67, 0.15);\n",
              "      fill: #174EA6;\n",
              "    }\n",
              "\n",
              "    [theme=dark] .colab-df-convert {\n",
              "      background-color: #3B4455;\n",
              "      fill: #D2E3FC;\n",
              "    }\n",
              "\n",
              "    [theme=dark] .colab-df-convert:hover {\n",
              "      background-color: #434B5C;\n",
              "      box-shadow: 0px 1px 3px 1px rgba(0, 0, 0, 0.15);\n",
              "      filter: drop-shadow(0px 1px 2px rgba(0, 0, 0, 0.3));\n",
              "      fill: #FFFFFF;\n",
              "    }\n",
              "  </style>\n",
              "\n",
              "      <script>\n",
              "        const buttonEl =\n",
              "          document.querySelector('#df-9e20adec-eacc-4175-a812-345d0d653c52 button.colab-df-convert');\n",
              "        buttonEl.style.display =\n",
              "          google.colab.kernel.accessAllowed ? 'block' : 'none';\n",
              "\n",
              "        async function convertToInteractive(key) {\n",
              "          const element = document.querySelector('#df-9e20adec-eacc-4175-a812-345d0d653c52');\n",
              "          const dataTable =\n",
              "            await google.colab.kernel.invokeFunction('convertToInteractive',\n",
              "                                                     [key], {});\n",
              "          if (!dataTable) return;\n",
              "\n",
              "          const docLinkHtml = 'Like what you see? Visit the ' +\n",
              "            '<a target=\"_blank\" href=https://colab.research.google.com/notebooks/data_table.ipynb>data table notebook</a>'\n",
              "            + ' to learn more about interactive tables.';\n",
              "          element.innerHTML = '';\n",
              "          dataTable['output_type'] = 'display_data';\n",
              "          await google.colab.output.renderOutput(dataTable, element);\n",
              "          const docLink = document.createElement('div');\n",
              "          docLink.innerHTML = docLinkHtml;\n",
              "          element.appendChild(docLink);\n",
              "        }\n",
              "      </script>\n",
              "    </div>\n",
              "  </div>\n",
              "  "
            ]
          },
          "metadata": {},
          "execution_count": 123
        }
      ]
    },
    {
      "cell_type": "code",
      "source": [
        "print(dfFlight[\"date\"].to_numpy())\n",
        "print(dfFlight[\"distance\"].to_numpy())\n",
        "print(dfHotel[\"days\"].to_numpy())\n",
        "print(dfHotel[\"price\"].to_numpy())\n",
        "print(dfUser[\"age\"].to_numpy())"
      ],
      "metadata": {
        "colab": {
          "base_uri": "https://localhost:8080/"
        },
        "id": "uWDkNhfqVQDd",
        "outputId": "b6110cbb-01c2-4761-deeb-61310407c58d"
      },
      "execution_count": 137,
      "outputs": [
        {
          "output_type": "stream",
          "name": "stdout",
          "text": [
            "['09/26/2019' '09/30/2019' '10/03/2019' ... '07/20/2020' '07/23/2020'\n",
            " '07/26/2020']\n",
            "[676.53 676.53 637.56 ... 709.37 466.3  466.3 ]\n",
            "[4 2 3 ... 3 3 4]\n",
            "[313.02 263.41 263.41 ...  60.39  60.39 242.88]\n",
            "[21 37 48 ... 28 52 35]\n"
          ]
        }
      ]
    },
    {
      "cell_type": "code",
      "source": [
        "date = dfFlight[\"date\"].to_numpy()\n",
        "distance = dfFlight[\"distance\"].to_numpy()\n",
        "days = dfHotel[\"days\"].to_numpy()\n",
        "price = dfHotel[\"price\"].to_numpy()\n",
        "name = dfHotel[\"name\"].to_numpy()\n",
        "place = dfHotel[\"place\"].to_numpy()\n",
        "age = dfUser[\"age\"].to_numpy()"
      ],
      "metadata": {
        "id": "xGL7zeaZVgNf"
      },
      "execution_count": 148,
      "outputs": []
    },
    {
      "cell_type": "code",
      "source": [
        "# np.min & np.max\n",
        "print(\"The dataset ranges from \",np.min(date),\"to\", np.max(date))"
      ],
      "metadata": {
        "colab": {
          "base_uri": "https://localhost:8080/"
        },
        "id": "cFfeiWs5WBBS",
        "outputId": "4312e7df-85f3-4857-c410-980c60aa9359"
      },
      "execution_count": 139,
      "outputs": [
        {
          "output_type": "stream",
          "name": "stdout",
          "text": [
            "The dataset ranges from  01/01/2021 to 12/31/2022\n"
          ]
        }
      ]
    },
    {
      "cell_type": "code",
      "source": [
        "# np.mean\n",
        "print(\"The average age of travelers\" , np.mean(age))"
      ],
      "metadata": {
        "colab": {
          "base_uri": "https://localhost:8080/"
        },
        "id": "kpWIbHqYWVJP",
        "outputId": "a4c97e1f-d15f-4c4d-9bf0-05236b21d5f4"
      },
      "execution_count": 140,
      "outputs": [
        {
          "output_type": "stream",
          "name": "stdout",
          "text": [
            "The average age of travelers 42.742537313432834\n"
          ]
        }
      ]
    },
    {
      "cell_type": "code",
      "source": [
        "print(\"The most expensive hotel is\", name[np.argmax(price)] ,\"and the price is\", price[np.argmax(price)])\n",
        "print(\"The cheapest hotel is\", name[np.argmin(price)] ,\"and the price is\", price[np.argmin(price)])"
      ],
      "metadata": {
        "colab": {
          "base_uri": "https://localhost:8080/"
        },
        "id": "eFiF_2oyXNvP",
        "outputId": "6dec66b0-2eed-4893-a190-1a920ae3ca79"
      },
      "execution_count": 154,
      "outputs": [
        {
          "output_type": "stream",
          "name": "stdout",
          "text": [
            "The most expensive hotel is Hotel A and the price is 313.02\n",
            "The cheapest hotel is Hotel BW and the price is 60.39\n"
          ]
        }
      ]
    },
    {
      "cell_type": "code",
      "source": [
        "# np.unique\n",
        "unique, counts = np.unique(name, return_counts=True)\n",
        "dict(zip(unique, counts))"
      ],
      "metadata": {
        "colab": {
          "base_uri": "https://localhost:8080/"
        },
        "id": "SJQpY1ctZbG7",
        "outputId": "70a225d1-879f-4d60-9346-4697ddc8da2d"
      },
      "execution_count": 152,
      "outputs": [
        {
          "output_type": "execute_result",
          "data": {
            "text/plain": [
              "{'Hotel A': 3330,\n",
              " 'Hotel AF': 4828,\n",
              " 'Hotel AU': 4467,\n",
              " 'Hotel BD': 4829,\n",
              " 'Hotel BP': 4437,\n",
              " 'Hotel BW': 4333,\n",
              " 'Hotel CB': 5029,\n",
              " 'Hotel K': 5094,\n",
              " 'Hotel Z': 4205}"
            ]
          },
          "metadata": {},
          "execution_count": 152
        }
      ]
    },
    {
      "cell_type": "code",
      "source": [
        "# np.where\n",
        "idx_A = np.where(name == 'Hotel A')\n",
        "idx_BW = np.where(name == 'Hotel BW')"
      ],
      "metadata": {
        "id": "WVB_Rgc6YVIB"
      },
      "execution_count": 159,
      "outputs": []
    },
    {
      "cell_type": "code",
      "source": [
        "#fancy indexing\n",
        "print(np.mean(days[idx_A]))\n",
        "print(np.mean(days[idx_BW]))"
      ],
      "metadata": {
        "colab": {
          "base_uri": "https://localhost:8080/"
        },
        "id": "oksDI427cx11",
        "outputId": "3c101fc8-f7f4-4c43-cc6f-bebbca1f8eb5"
      },
      "execution_count": 165,
      "outputs": [
        {
          "output_type": "stream",
          "name": "stdout",
          "text": [
            "2.483183183183183\n",
            "2.4954996538195244\n"
          ]
        }
      ]
    },
    {
      "cell_type": "code",
      "source": [
        "print(\"The most visited hotel is the\", unique[np.argmax(counts)])"
      ],
      "metadata": {
        "colab": {
          "base_uri": "https://localhost:8080/"
        },
        "id": "9EaH40K9dQwe",
        "outputId": "1f7bfbe1-afcb-47da-bb2e-441cb975cc78"
      },
      "execution_count": 172,
      "outputs": [
        {
          "output_type": "stream",
          "name": "stdout",
          "text": [
            "The most visited hotel is the Hotel K\n"
          ]
        }
      ]
    },
    {
      "cell_type": "code",
      "source": [
        "# np.where\n",
        "idx_K = np.where(name == 'Hotel K')"
      ],
      "metadata": {
        "id": "z17lCIZueFis"
      },
      "execution_count": 173,
      "outputs": []
    },
    {
      "cell_type": "code",
      "source": [
        "print(np.max(price[idx_K]))\n",
        "print(np.mean(days[idx_K]))"
      ],
      "metadata": {
        "colab": {
          "base_uri": "https://localhost:8080/"
        },
        "id": "FSbf5yuYeJYf",
        "outputId": "efa5246d-578e-4fbc-ee1a-33ac93653a89"
      },
      "execution_count": 178,
      "outputs": [
        {
          "output_type": "stream",
          "name": "stdout",
          "text": [
            "263.41\n",
            "2.516489988221437\n"
          ]
        }
      ]
    }
  ]
}