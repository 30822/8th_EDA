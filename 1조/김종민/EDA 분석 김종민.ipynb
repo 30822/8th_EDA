{
 "cells": [
  {
   "cell_type": "code",
   "execution_count": 97,
   "metadata": {},
   "outputs": [],
   "source": [
    "# thanks to 준혁!!!!"
   ]
  },
  {
   "cell_type": "code",
   "execution_count": 60,
   "metadata": {},
   "outputs": [],
   "source": [
    "import numpy as np\n",
    "import pandas as pd\n",
    "import seaborn as sns\n",
    "import matplotlib.pyplot as plt\n",
    "from matplotlib import rc"
   ]
  },
  {
   "cell_type": "code",
   "execution_count": 61,
   "metadata": {},
   "outputs": [
    {
     "data": {
      "text/html": [
       "<div>\n",
       "<style scoped>\n",
       "    .dataframe tbody tr th:only-of-type {\n",
       "        vertical-align: middle;\n",
       "    }\n",
       "\n",
       "    .dataframe tbody tr th {\n",
       "        vertical-align: top;\n",
       "    }\n",
       "\n",
       "    .dataframe thead th {\n",
       "        text-align: right;\n",
       "    }\n",
       "</style>\n",
       "<table border=\"1\" class=\"dataframe\">\n",
       "  <thead>\n",
       "    <tr style=\"text-align: right;\">\n",
       "      <th></th>\n",
       "      <th>QaA</th>\n",
       "      <th>QaE</th>\n",
       "      <th>QbA</th>\n",
       "      <th>QbE</th>\n",
       "      <th>QcA</th>\n",
       "      <th>QcE</th>\n",
       "      <th>QdA</th>\n",
       "      <th>QdE</th>\n",
       "      <th>QeA</th>\n",
       "      <th>QeE</th>\n",
       "      <th>...</th>\n",
       "      <th>wr_04</th>\n",
       "      <th>wr_05</th>\n",
       "      <th>wr_06</th>\n",
       "      <th>wr_07</th>\n",
       "      <th>wr_08</th>\n",
       "      <th>wr_09</th>\n",
       "      <th>wr_10</th>\n",
       "      <th>wr_11</th>\n",
       "      <th>wr_12</th>\n",
       "      <th>wr_13</th>\n",
       "    </tr>\n",
       "    <tr>\n",
       "      <th>index</th>\n",
       "      <th></th>\n",
       "      <th></th>\n",
       "      <th></th>\n",
       "      <th></th>\n",
       "      <th></th>\n",
       "      <th></th>\n",
       "      <th></th>\n",
       "      <th></th>\n",
       "      <th></th>\n",
       "      <th></th>\n",
       "      <th></th>\n",
       "      <th></th>\n",
       "      <th></th>\n",
       "      <th></th>\n",
       "      <th></th>\n",
       "      <th></th>\n",
       "      <th></th>\n",
       "      <th></th>\n",
       "      <th></th>\n",
       "      <th></th>\n",
       "      <th></th>\n",
       "    </tr>\n",
       "  </thead>\n",
       "  <tbody>\n",
       "    <tr>\n",
       "      <th>0</th>\n",
       "      <td>3.0</td>\n",
       "      <td>363</td>\n",
       "      <td>4.0</td>\n",
       "      <td>1370</td>\n",
       "      <td>5.0</td>\n",
       "      <td>997</td>\n",
       "      <td>1.0</td>\n",
       "      <td>1024</td>\n",
       "      <td>2.0</td>\n",
       "      <td>1577</td>\n",
       "      <td>...</td>\n",
       "      <td>0</td>\n",
       "      <td>1</td>\n",
       "      <td>0</td>\n",
       "      <td>1</td>\n",
       "      <td>1</td>\n",
       "      <td>0</td>\n",
       "      <td>1</td>\n",
       "      <td>0</td>\n",
       "      <td>1</td>\n",
       "      <td>1</td>\n",
       "    </tr>\n",
       "    <tr>\n",
       "      <th>1</th>\n",
       "      <td>5.0</td>\n",
       "      <td>647</td>\n",
       "      <td>5.0</td>\n",
       "      <td>1313</td>\n",
       "      <td>3.0</td>\n",
       "      <td>3387</td>\n",
       "      <td>5.0</td>\n",
       "      <td>2969</td>\n",
       "      <td>1.0</td>\n",
       "      <td>4320</td>\n",
       "      <td>...</td>\n",
       "      <td>1</td>\n",
       "      <td>1</td>\n",
       "      <td>0</td>\n",
       "      <td>1</td>\n",
       "      <td>1</td>\n",
       "      <td>0</td>\n",
       "      <td>1</td>\n",
       "      <td>0</td>\n",
       "      <td>1</td>\n",
       "      <td>1</td>\n",
       "    </tr>\n",
       "    <tr>\n",
       "      <th>2</th>\n",
       "      <td>4.0</td>\n",
       "      <td>1623</td>\n",
       "      <td>1.0</td>\n",
       "      <td>1480</td>\n",
       "      <td>1.0</td>\n",
       "      <td>1021</td>\n",
       "      <td>4.0</td>\n",
       "      <td>3374</td>\n",
       "      <td>5.0</td>\n",
       "      <td>1333</td>\n",
       "      <td>...</td>\n",
       "      <td>1</td>\n",
       "      <td>1</td>\n",
       "      <td>0</td>\n",
       "      <td>1</td>\n",
       "      <td>1</td>\n",
       "      <td>1</td>\n",
       "      <td>1</td>\n",
       "      <td>0</td>\n",
       "      <td>1</td>\n",
       "      <td>1</td>\n",
       "    </tr>\n",
       "  </tbody>\n",
       "</table>\n",
       "<p>3 rows × 77 columns</p>\n",
       "</div>"
      ],
      "text/plain": [
       "       QaA   QaE  QbA   QbE  QcA   QcE  QdA   QdE  QeA   QeE  ...  wr_04  \\\n",
       "index                                                         ...          \n",
       "0      3.0   363  4.0  1370  5.0   997  1.0  1024  2.0  1577  ...      0   \n",
       "1      5.0   647  5.0  1313  3.0  3387  5.0  2969  1.0  4320  ...      1   \n",
       "2      4.0  1623  1.0  1480  1.0  1021  4.0  3374  5.0  1333  ...      1   \n",
       "\n",
       "       wr_05  wr_06  wr_07  wr_08  wr_09  wr_10  wr_11  wr_12  wr_13  \n",
       "index                                                                 \n",
       "0          1      0      1      1      0      1      0      1      1  \n",
       "1          1      0      1      1      0      1      0      1      1  \n",
       "2          1      0      1      1      1      1      0      1      1  \n",
       "\n",
       "[3 rows x 77 columns]"
      ]
     },
     "execution_count": 61,
     "metadata": {},
     "output_type": "execute_result"
    }
   ],
   "source": [
    "data=pd.read_csv('data.csv', index_col=0)\n",
    "data.head(3)"
   ]
  },
  {
   "cell_type": "code",
   "execution_count": 62,
   "metadata": {},
   "outputs": [],
   "source": [
    "#필요한 열만으로 편집\n",
    "data = data[['age_group','education','familysize', 'married','urban','tp05', 'tp06']]"
   ]
  },
  {
   "cell_type": "code",
   "execution_count": 63,
   "metadata": {},
   "outputs": [],
   "source": [
    "#점수 변환\n",
    "data['tp05']=7-data['tp05']\n",
    "data['tp06']=7-data['tp06']\n",
    "\n",
    "#50대 이상 합치기\n",
    "data['age_group'] = data['age_group'].apply(lambda x:'+50s' \n",
    "                                            if x in ['50s','60s','+70s'] else x)\n",
    "\n",
    "#가족 수가 6이상인걸 하나로 합치기\n",
    "data.familysize=data.familysize.apply(lambda x:'+6'if x >=6 else x)"
   ]
  },
  {
   "cell_type": "code",
   "execution_count": 64,
   "metadata": {},
   "outputs": [
    {
     "name": "stdout",
     "output_type": "stream",
     "text": [
      "0\n",
      "0\n"
     ]
    }
   ],
   "source": [
    "#무응답 제거\n",
    "tp05 = data[data['tp05']!=0]\n",
    "print((tp05['tp05']==0).sum())\n",
    "\n",
    "tp06 = data[data['tp06']!=0]\n",
    "print((tp06['tp06']==0).sum())"
   ]
  },
  {
   "cell_type": "code",
   "execution_count": 121,
   "metadata": {},
   "outputs": [],
   "source": [
    "#tp05 pivot table 생성\n",
    "tp05_education_pivot = pd.pivot_table(data=tp05, index='education', columns='tp05', aggfunc='size')\n",
    "tp05_education = tp05_education_pivot.div(tp05_education_pivot.sum(axis=1), axis=0) * 100\n",
    "\n",
    "tp05_married_pivot = pd.pivot_table(data=tp05, index='married', columns='tp05', aggfunc='size')\n",
    "tp05_married = tp05_married_pivot.div(tp05_married_pivot.sum(axis=1), axis=0) * 100\n",
    "\n",
    "tp05_familysize_pivot = pd.pivot_table(data=tp05, index='familysize', columns='tp05', aggfunc='size')\n",
    "tp05_familysize = tp05_familysize_pivot.div(tp05_familysize_pivot.sum(axis=1), axis=0) * 100\n",
    "\n",
    "tp05_urban_pivot = pd.pivot_table(data=tp05, index='urban', columns='tp05', aggfunc='size')\n",
    "tp05_urban = tp05_urban_pivot.div(tp05_urban_pivot.sum(axis=1), axis=0) * 100"
   ]
  },
  {
   "cell_type": "code",
   "execution_count": 122,
   "metadata": {},
   "outputs": [],
   "source": [
    "#tp06 pivot table 생성\n",
    "tp06_education_pivot = pd.pivot_table(data=tp06, index='education', columns='tp06', aggfunc='size')\n",
    "tp06_education = tp06_education_pivot.div(tp06_education_pivot.sum(axis=1), axis=0) * 100\n",
    "\n",
    "tp06_married_pivot = pd.pivot_table(data=tp06, index='married', columns='tp06', aggfunc='size')\n",
    "tp06_married = tp06_married_pivot.div(tp06_married_pivot.sum(axis=1), axis=0) * 100\n",
    "\n",
    "tp06_familysize_pivot = pd.pivot_table(data=tp06, index='familysize', columns='tp06', aggfunc='size')\n",
    "tp06_familysize = tp06_familysize_pivot.div(tp06_familysize_pivot.sum(axis=1), axis=0) * 100\n",
    "\n",
    "tp06_urban_pivot = pd.pivot_table(data=tp06, index='urban', columns='tp06', aggfunc='size')\n",
    "tp06_urban = tp06_urban_pivot.div(tp06_urban_pivot.sum(axis=1), axis=0) * 100"
   ]
  },
  {
   "cell_type": "code",
   "execution_count": 123,
   "metadata": {},
   "outputs": [],
   "source": [
    "# 교육수준, 유년기배경 무응답 삭제\n",
    "tp05_education.drop([0], inplace=True)\n",
    "tp06_education.drop([0], inplace=True)\n",
    "tp05_urban.drop([0], inplace=True)\n",
    "tp06_urban.drop([0], inplace=True)\n",
    "tp05_married.drop([0], inplace=True)\n",
    "tp06_married.drop([0], inplace=True)"
   ]
  },
  {
   "cell_type": "code",
   "execution_count": 68,
   "metadata": {},
   "outputs": [],
   "source": [
    "#한글 안깨지게\n",
    "rc('font', family='NanumGothic')\n",
    "\n",
    "plt.rcParams['axes.unicode_minus'] = False"
   ]
  },
  {
   "cell_type": "code",
   "execution_count": 69,
   "metadata": {},
   "outputs": [
    {
     "name": "stdout",
     "output_type": "stream",
     "text": [
      "# 설정 되어있는 폰트 사이즈\n",
      "10.0\n",
      "# 설정 되어있는 폰트 글꼴\n",
      "['NanumGothic']\n"
     ]
    }
   ],
   "source": [
    "print('# 설정 되어있는 폰트 사이즈')\n",
    "print (plt.rcParams['font.size'] ) \n",
    "print('# 설정 되어있는 폰트 글꼴')\n",
    "print (plt.rcParams['font.family'] )"
   ]
  },
  {
   "cell_type": "code",
   "execution_count": 70,
   "metadata": {},
   "outputs": [],
   "source": [
    "col=['#2913E8','#5789F7','#A0CBFF','#5271FF','#57A2F7','#2ECBFF','#7214FF','#8771FF','#892EE8']"
   ]
  },
  {
   "cell_type": "markdown",
   "metadata": {},
   "source": [
    "# 교육수준\n",
    "## tp05"
   ]
  },
  {
   "cell_type": "code",
   "execution_count": 102,
   "metadata": {},
   "outputs": [
    {
     "data": {
      "image/png": "[encoded data removed]",
      "text/plain": [
       "<Figure size 720x432 with 1 Axes>"
      ]
     },
     "metadata": {
      "needs_background": "light"
     },
     "output_type": "display_data"
    }
   ],
   "source": [
    "tp05_education.plot(kind='barh', figsize=(10,6),stacked=True, color=col,alpha = 0.7)\n",
    "plt.xlabel('Percentage')\n",
    "plt.ylabel('Education')\n",
    "plt.title('새롭고 복잡한 경험을 하고싶은')\n",
    "plt.show()"
   ]
  },
  {
   "cell_type": "code",
   "execution_count": 72,
   "metadata": {},
   "outputs": [
    {
     "data": {
      "image/png": "[encoded data removed]",
      "text/plain": [
       "<Figure size 432x288 with 1 Axes>"
      ]
     },
     "metadata": {
      "needs_background": "light"
     },
     "output_type": "display_data"
    }
   ],
   "source": [
    "data_tp05_edu = data[data['education']!=0]\n",
    "sns.barplot(data = data_tp05_edu, x='education', y='tp05', estimator=np.mean, palette=col)\n",
    "plt.xlabel('Education')\n",
    "plt.ylabel('평균점수')\n",
    "plt.title('새롭고 복잡한 경험을 하고싶은')\n",
    "plt.show()"
   ]
  },
  {
   "cell_type": "markdown",
   "metadata": {},
   "source": [
    "## tp06"
   ]
  },
  {
   "cell_type": "code",
   "execution_count": 99,
   "metadata": {},
   "outputs": [
    {
     "data": {
      "image/png": "[encoded data removed]",
      "text/plain": [
       "<Figure size 720x432 with 1 Axes>"
      ]
     },
     "metadata": {
      "needs_background": "light"
     },
     "output_type": "display_data"
    },
    {
     "data": {
      "text/plain": [
       "<Figure size 432x288 with 0 Axes>"
      ]
     },
     "metadata": {},
     "output_type": "display_data"
    }
   ],
   "source": [
    "tp06_education.plot(kind='barh', figsize=(10,6),stacked=True, color=col,alpha = 0.7)\n",
    "plt.xlabel('Percentage')\n",
    "plt.ylabel('Education')\n",
    "plt.title('말수가 적고 조용한')\n",
    "\n",
    "plt.show()"
   ]
  },
  {
   "cell_type": "code",
   "execution_count": 74,
   "metadata": {},
   "outputs": [
    {
     "data": {
      "image/png": "[encoded data removed]",
      "text/plain": [
       "<Figure size 432x288 with 1 Axes>"
      ]
     },
     "metadata": {
      "needs_background": "light"
     },
     "output_type": "display_data"
    }
   ],
   "source": [
    "data_tp06_edu = data[data['education']!=0]\n",
    "sns.barplot(data = data_tp06_edu, x='education', y='tp06', estimator=np.mean, palette=col)\n",
    "plt.xlabel('Education')\n",
    "plt.ylabel('평균점수')\n",
    "plt.title('말수가 적고 조용한')\n",
    "plt.show()"
   ]
  },
  {
   "cell_type": "markdown",
   "metadata": {},
   "source": [
    "# 결혼유무\n",
    "## tp05"
   ]
  },
  {
   "cell_type": "markdown",
   "metadata": {},
   "source": [
    "* 0을 넣을지 말지 내일 고민"
   ]
  },
  {
   "cell_type": "code",
   "execution_count": 124,
   "metadata": {},
   "outputs": [
    {
     "data": {
      "text/plain": [
       "1    31550\n",
       "2    10059\n",
       "3     3830\n",
       "0       93\n",
       "Name: married, dtype: int64"
      ]
     },
     "execution_count": 124,
     "metadata": {},
     "output_type": "execute_result"
    }
   ],
   "source": [
    "data.married.value_counts()"
   ]
  },
  {
   "cell_type": "code",
   "execution_count": 125,
   "metadata": {},
   "outputs": [
    {
     "data": {
      "text/html": [
       "<div>\n",
       "<style scoped>\n",
       "    .dataframe tbody tr th:only-of-type {\n",
       "        vertical-align: middle;\n",
       "    }\n",
       "\n",
       "    .dataframe tbody tr th {\n",
       "        vertical-align: top;\n",
       "    }\n",
       "\n",
       "    .dataframe thead th {\n",
       "        text-align: right;\n",
       "    }\n",
       "</style>\n",
       "<table border=\"1\" class=\"dataframe\">\n",
       "  <thead>\n",
       "    <tr style=\"text-align: right;\">\n",
       "      <th>tp05</th>\n",
       "      <th>1</th>\n",
       "      <th>2</th>\n",
       "      <th>3</th>\n",
       "      <th>4</th>\n",
       "      <th>5</th>\n",
       "      <th>6</th>\n",
       "      <th>7</th>\n",
       "    </tr>\n",
       "    <tr>\n",
       "      <th>married</th>\n",
       "      <th></th>\n",
       "      <th></th>\n",
       "      <th></th>\n",
       "      <th></th>\n",
       "      <th></th>\n",
       "      <th></th>\n",
       "      <th></th>\n",
       "    </tr>\n",
       "  </thead>\n",
       "  <tbody>\n",
       "    <tr>\n",
       "      <th>1</th>\n",
       "      <td>1.174561</td>\n",
       "      <td>2.747008</td>\n",
       "      <td>5.735931</td>\n",
       "      <td>6.471225</td>\n",
       "      <td>20.126687</td>\n",
       "      <td>29.160300</td>\n",
       "      <td>34.584288</td>\n",
       "    </tr>\n",
       "    <tr>\n",
       "      <th>2</th>\n",
       "      <td>0.953145</td>\n",
       "      <td>2.829337</td>\n",
       "      <td>5.548309</td>\n",
       "      <td>5.668707</td>\n",
       "      <td>18.109762</td>\n",
       "      <td>32.657771</td>\n",
       "      <td>34.232969</td>\n",
       "    </tr>\n",
       "    <tr>\n",
       "      <th>3</th>\n",
       "      <td>1.115242</td>\n",
       "      <td>2.602230</td>\n",
       "      <td>4.062666</td>\n",
       "      <td>3.956452</td>\n",
       "      <td>16.728625</td>\n",
       "      <td>32.766861</td>\n",
       "      <td>38.767924</td>\n",
       "    </tr>\n",
       "  </tbody>\n",
       "</table>\n",
       "</div>"
      ],
      "text/plain": [
       "tp05            1         2         3         4          5          6  \\\n",
       "married                                                                 \n",
       "1        1.174561  2.747008  5.735931  6.471225  20.126687  29.160300   \n",
       "2        0.953145  2.829337  5.548309  5.668707  18.109762  32.657771   \n",
       "3        1.115242  2.602230  4.062666  3.956452  16.728625  32.766861   \n",
       "\n",
       "tp05             7  \n",
       "married             \n",
       "1        34.584288  \n",
       "2        34.232969  \n",
       "3        38.767924  "
      ]
     },
     "execution_count": 125,
     "metadata": {},
     "output_type": "execute_result"
    }
   ],
   "source": [
    "tp05_married"
   ]
  },
  {
   "cell_type": "code",
   "execution_count": 128,
   "metadata": {
    "scrolled": false
   },
   "outputs": [
    {
     "data": {
      "image/png": "[encoded data removed]",
      "text/plain": [
       "<Figure size 720x432 with 1 Axes>"
      ]
     },
     "metadata": {
      "needs_background": "light"
     },
     "output_type": "display_data"
    }
   ],
   "source": [
    "tp05_married.plot(kind='barh', figsize=(10,6),stacked=True, color=col,alpha = 0.7)\n",
    "plt.xlabel('Percentage')\n",
    "plt.ylabel('Married')\n",
    "plt.title('새롭고 복잡한 경험을 하고싶은')\n",
    "plt.show()"
   ]
  },
  {
   "cell_type": "code",
   "execution_count": 129,
   "metadata": {},
   "outputs": [
    {
     "data": {
      "image/png": "[encoded data removed]",
      "text/plain": [
       "<Figure size 432x288 with 1 Axes>"
      ]
     },
     "metadata": {
      "needs_background": "light"
     },
     "output_type": "display_data"
    }
   ],
   "source": [
    "data_tp05_married = data[data['married']!=0]\n",
    "sns.barplot(data = data_tp05_married, x='married', y='tp05', estimator=np.mean, palette=col)\n",
    "plt.xlabel('Married')\n",
    "plt.ylabel('평균점수')\n",
    "plt.title('새롭고 복잡한 경험을 하고싶은')\n",
    "plt.show()"
   ]
  },
  {
   "cell_type": "markdown",
   "metadata": {},
   "source": [
    "## tp06"
   ]
  },
  {
   "cell_type": "code",
   "execution_count": 131,
   "metadata": {},
   "outputs": [
    {
     "data": {
      "image/png": "[encoded data removed]",
      "text/plain": [
       "<Figure size 720x432 with 1 Axes>"
      ]
     },
     "metadata": {
      "needs_background": "light"
     },
     "output_type": "display_data"
    }
   ],
   "source": [
    "tp06_married.plot(kind='barh', figsize=(10,6),stacked=True, color=col,alpha = 0.7)\n",
    "plt.xlabel('Percentage')\n",
    "plt.ylabel('Married')\n",
    "plt.title('말수가 적고 조용한')\n",
    "plt.show()"
   ]
  },
  {
   "cell_type": "code",
   "execution_count": 130,
   "metadata": {},
   "outputs": [
    {
     "data": {
      "image/png": "[encoded data removed]",
      "text/plain": [
       "<Figure size 432x288 with 1 Axes>"
      ]
     },
     "metadata": {
      "needs_background": "light"
     },
     "output_type": "display_data"
    }
   ],
   "source": [
    "data_tp06_married = data[data['married']!=0]\n",
    "sns.barplot(data = data_tp06_married, x='married', y='tp06', estimator=np.mean, palette=col)\n",
    "plt.xlabel('Married')\n",
    "plt.ylabel('평균점수')\n",
    "plt.title('말수가 적고 조용한')\n",
    "plt.show()"
   ]
  },
  {
   "cell_type": "markdown",
   "metadata": {},
   "source": [
    "# 유년기 배경\n",
    "## tp05"
   ]
  },
  {
   "cell_type": "code",
   "execution_count": 79,
   "metadata": {},
   "outputs": [
    {
     "data": {
      "image/png": "[encoded data removed]",
      "text/plain": [
       "<Figure size 720x432 with 1 Axes>"
      ]
     },
     "metadata": {
      "needs_background": "light"
     },
     "output_type": "display_data"
    }
   ],
   "source": [
    "tp05_urban.plot(kind='barh', figsize=(10,6),stacked=True, color=col,alpha = 0.7)\n",
    "plt.xlabel('Percentage')\n",
    "plt.ylabel('Urban')\n",
    "plt.title('새롭고 복잡한 경험을 하고싶은')\n",
    "plt.show()"
   ]
  },
  {
   "cell_type": "code",
   "execution_count": 80,
   "metadata": {},
   "outputs": [
    {
     "data": {
      "image/png": "[encoded data removed]",
      "text/plain": [
       "<Figure size 432x288 with 1 Axes>"
      ]
     },
     "metadata": {
      "needs_background": "light"
     },
     "output_type": "display_data"
    }
   ],
   "source": [
    "data_tp05_urban = data[data['urban']!=0]\n",
    "sns.barplot(data = data_tp05_urban, x='urban', y='tp05', estimator=np.mean, palette=col)\n",
    "plt.xlabel('Urban')\n",
    "plt.ylabel('평균점수')\n",
    "plt.title('새롭고 복잡한 경험을 하고싶은')\n",
    "plt.show()"
   ]
  },
  {
   "cell_type": "markdown",
   "metadata": {},
   "source": [
    "## tp06"
   ]
  },
  {
   "cell_type": "code",
   "execution_count": 81,
   "metadata": {},
   "outputs": [
    {
     "data": {
      "image/png": "[encoded data removed]",
      "text/plain": [
       "<Figure size 720x432 with 1 Axes>"
      ]
     },
     "metadata": {
      "needs_background": "light"
     },
     "output_type": "display_data"
    }
   ],
   "source": [
    "tp06_urban.plot(kind='barh', figsize=(10,6),stacked=True, color=col,alpha = 0.7)\n",
    "plt.xlabel('Percentage')\n",
    "plt.ylabel('Urban')\n",
    "plt.title('말수가 적고 조용한')\n",
    "plt.show()"
   ]
  },
  {
   "cell_type": "code",
   "execution_count": 82,
   "metadata": {},
   "outputs": [
    {
     "data": {
      "image/png": "[encoded data removed]",
      "text/plain": [
       "<Figure size 432x288 with 1 Axes>"
      ]
     },
     "metadata": {
      "needs_background": "light"
     },
     "output_type": "display_data"
    }
   ],
   "source": [
    "data_tp06_urban = data[data['urban']!=0]\n",
    "sns.barplot(data = data_tp06_urban, x='urban', y='tp06', estimator=np.mean,palette=col)\n",
    "plt.xlabel('Urban')\n",
    "plt.ylabel('평균점수')\n",
    "plt.title('말수가 적고 조용한')\n",
    "plt.show()"
   ]
  },
  {
   "cell_type": "markdown",
   "metadata": {},
   "source": [
    "# 가족구성원 수\n",
    "## tp05"
   ]
  },
  {
   "cell_type": "code",
   "execution_count": 83,
   "metadata": {},
   "outputs": [
    {
     "data": {
      "image/png": "[encoded data removed]",
      "text/plain": [
       "<Figure size 720x432 with 1 Axes>"
      ]
     },
     "metadata": {
      "needs_background": "light"
     },
     "output_type": "display_data"
    }
   ],
   "source": [
    "tp05_familysize.plot(kind='barh', figsize=(10,6),stacked=True, alpha = 0.7, color=col)\n",
    "plt.xlabel('Percentage')\n",
    "plt.ylabel('Familysize')\n",
    "plt.title('새롭고 복잡한 경험을 하고싶은')\n",
    "plt.show()"
   ]
  },
  {
   "cell_type": "code",
   "execution_count": 84,
   "metadata": {},
   "outputs": [],
   "source": [
    "mean_score = data.groupby(['familysize'])['tp05'].mean().to_frame().sort_values(by='tp05')"
   ]
  },
  {
   "cell_type": "code",
   "execution_count": 85,
   "metadata": {},
   "outputs": [
    {
     "data": {
      "image/png": "[encoded data removed]",
      "text/plain": [
       "<Figure size 432x288 with 1 Axes>"
      ]
     },
     "metadata": {
      "needs_background": "light"
     },
     "output_type": "display_data"
    }
   ],
   "source": [
    "sns.barplot(data = mean_score, x=mean_score.index, y='tp05', palette=col)\n",
    "plt.xlabel('Familysize')\n",
    "plt.ylabel('평균점수')\n",
    "plt.title('새롭고 복잡한 경험을 하고싶은')\n",
    "plt.show()"
   ]
  },
  {
   "cell_type": "markdown",
   "metadata": {},
   "source": [
    "## tp06"
   ]
  },
  {
   "cell_type": "code",
   "execution_count": 86,
   "metadata": {},
   "outputs": [
    {
     "data": {
      "image/png": "[encoded data removed]",
      "text/plain": [
       "<Figure size 720x432 with 1 Axes>"
      ]
     },
     "metadata": {
      "needs_background": "light"
     },
     "output_type": "display_data"
    }
   ],
   "source": [
    "tp06_familysize.plot(kind='barh', figsize=(10,6),stacked=True, alpha = 0.7, color=col)\n",
    "plt.xlabel('Percentage')\n",
    "plt.ylabel('Familysize')\n",
    "plt.title('말수가 적고 조용한')\n",
    "plt.show()"
   ]
  },
  {
   "cell_type": "code",
   "execution_count": 87,
   "metadata": {},
   "outputs": [],
   "source": [
    "mean_score = data.groupby(['familysize'])['tp06'].mean().to_frame().sort_values(by='tp06')"
   ]
  },
  {
   "cell_type": "code",
   "execution_count": 88,
   "metadata": {},
   "outputs": [
    {
     "data": {
      "image/png": "[encoded data removed]",
      "text/plain": [
       "<Figure size 432x288 with 1 Axes>"
      ]
     },
     "metadata": {
      "needs_background": "light"
     },
     "output_type": "display_data"
    }
   ],
   "source": [
    "sns.barplot(data = mean_score, x=mean_score.index, y='tp06', palette=col)\n",
    "plt.xlabel('Familysize')\n",
    "plt.ylabel('평균점수')\n",
    "plt.title('말수가 적고 조용한')\n",
    "plt.show()"
   ]
  },
  {
   "cell_type": "markdown",
   "metadata": {},
   "source": [
    "# 연령대별 질문 응답 분포\n",
    "# tp05"
   ]
  },
  {
   "cell_type": "code",
   "execution_count": 89,
   "metadata": {},
   "outputs": [],
   "source": [
    "age = ['10s','20s','30s','40s','+50s']"
   ]
  },
  {
   "cell_type": "code",
   "execution_count": 90,
   "metadata": {},
   "outputs": [],
   "source": [
    "tp05_pivot = pd.pivot_table(data=tp05, index='age_group', columns='tp05',\n",
    "              aggfunc='size')"
   ]
  },
  {
   "cell_type": "code",
   "execution_count": 91,
   "metadata": {},
   "outputs": [],
   "source": [
    "tp05_pivot = tp05_pivot.div(tp05_pivot.sum(axis=1), axis=0) * 100"
   ]
  },
  {
   "cell_type": "code",
   "execution_count": 92,
   "metadata": {},
   "outputs": [],
   "source": [
    "tp05_pivot = tp05_pivot.reindex(age)"
   ]
  },
  {
   "cell_type": "code",
   "execution_count": 93,
   "metadata": {},
   "outputs": [
    {
     "data": {
      "image/png": "[encoded data removed]",
      "text/plain": [
       "<Figure size 720x432 with 1 Axes>"
      ]
     },
     "metadata": {
      "needs_background": "light"
     },
     "output_type": "display_data"
    }
   ],
   "source": [
    "tp05_pivot.plot(kind='barh', figsize=(10,6), stacked=True, \n",
    "                color=col,alpha =0.7)\n",
    "\n",
    "plt.xlabel('Percentage')\n",
    "plt.ylabel('연령대')\n",
    "plt.title('새롭고 복잡한 경험을 하고싶은')\n",
    "plt.show()"
   ]
  },
  {
   "cell_type": "code",
   "execution_count": 94,
   "metadata": {},
   "outputs": [
    {
     "data": {
      "image/png": "[encoded data removed]",
      "text/plain": [
       "<Figure size 432x288 with 1 Axes>"
      ]
     },
     "metadata": {
      "needs_background": "light"
     },
     "output_type": "display_data"
    }
   ],
   "source": [
    "sns.barplot(data = tp05, x='age_group', y='tp05', estimator=np.mean,palette=col)\n",
    "plt.xlabel('연령대')\n",
    "plt.ylabel('평균점수')\n",
    "plt.title('새롭고 복잡한 경험을 하고싶은')\n",
    "plt.show()"
   ]
  },
  {
   "cell_type": "markdown",
   "metadata": {},
   "source": [
    "## tp06"
   ]
  },
  {
   "cell_type": "code",
   "execution_count": 95,
   "metadata": {},
   "outputs": [
    {
     "data": {
      "image/png": "[encoded data removed]",
      "text/plain": [
       "<Figure size 720x432 with 1 Axes>"
      ]
     },
     "metadata": {
      "needs_background": "light"
     },
     "output_type": "display_data"
    }
   ],
   "source": [
    "tp06_pivot = pd.pivot_table(data=tp06, index='age_group', columns='tp06',\n",
    "              aggfunc='size')\n",
    "\n",
    "tp06_pivot = tp06_pivot.div(tp06_pivot.sum(axis=1), axis=0) * 100\n",
    "\n",
    "tp06_pivot = tp06_pivot.reindex(age)\n",
    "\n",
    "tp06_pivot.plot(kind='barh', figsize=(10,6), stacked=True, \n",
    "                color=col,alpha =0.7)\n",
    "\n",
    "plt.xlabel('Percentage')\n",
    "plt.ylabel('연령대')\n",
    "plt.title('말수가 적고 조용한')\n",
    "plt.show()"
   ]
  },
  {
   "cell_type": "code",
   "execution_count": 96,
   "metadata": {},
   "outputs": [
    {
     "data": {
      "image/png": "[encoded data removed]",
      "text/plain": [
       "<Figure size 432x288 with 1 Axes>"
      ]
     },
     "metadata": {
      "needs_background": "light"
     },
     "output_type": "display_data"
    }
   ],
   "source": [
    "sns.barplot(data = tp06, x='age_group', y='tp06', estimator=np.mean,palette=col)\n",
    "plt.xlabel('연령대')\n",
    "plt.ylabel('평균점수')\n",
    "plt.title('말수가 적고 조용한')\n",
    "plt.show()"
   ]
  },
  {
   "cell_type": "code",
   "execution_count": null,
   "metadata": {},
   "outputs": [],
   "source": []
  }
 ],
 "metadata": {
  "kernelspec": {
   "display_name": "Python 3",
   "language": "python",
   "name": "python3"
  },
  "language_info": {
   "codemirror_mode": {
    "name": "ipython",
    "version": 3
   },
   "file_extension": ".py",
   "mimetype": "text/x-python",
   "name": "python",
   "nbconvert_exporter": "python",
   "pygments_lexer": "ipython3",
   "version": "3.8.5"
  },
  "toc": {
   "base_numbering": 1,
   "nav_menu": {},
   "number_sections": true,
   "sideBar": true,
   "skip_h1_title": false,
   "title_cell": "Table of Contents",
   "title_sidebar": "Contents",
   "toc_cell": false,
   "toc_position": {
    "height": "calc(100% - 180px)",
    "left": "10px",
    "top": "150px",
    "width": "303.837px"
   },
   "toc_section_display": true,
   "toc_window_display": true
  }
 },
 "nbformat": 4,
 "nbformat_minor": 4
}
