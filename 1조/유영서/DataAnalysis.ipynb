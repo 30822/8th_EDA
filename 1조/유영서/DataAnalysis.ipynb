{
 "cells": [
  {
   "cell_type": "markdown",
   "metadata": {},
   "source": [
    "# 연령대 별 특성 분석\n",
    "연령대 별로 어떠한 특성을 가지고 있는지 분석해보았다.\n",
    "심리데이터에서 분석한 항목은 다음과 같다.\n",
    "* Qh_  : 사람들은 재산을 잃는 것보다 부모의 죽음을 더 쉽게 잊는다.\n",
    "* Qj_  : 사람들은 악랄하며 기회가 주어지면 그 악랄함이 드러난다.\n",
    "* tp05 : 나는 새롭고 복잡한 경험을 할 준비가 되어있다.\n",
    "* tp06 : 나는 말수가 적고 조용하다."
   ]
  },
  {
   "cell_type": "code",
   "execution_count": 116,
   "metadata": {},
   "outputs": [],
   "source": [
    "# import libraries\n",
    "import pandas as pd\n",
    "import matplotlib.pyplot as plt"
   ]
  },
  {
   "cell_type": "code",
   "execution_count": 117,
   "metadata": {},
   "outputs": [
    {
     "data": {
      "text/html": [
       "<div>\n",
       "<style scoped>\n",
       "    .dataframe tbody tr th:only-of-type {\n",
       "        vertical-align: middle;\n",
       "    }\n",
       "\n",
       "    .dataframe tbody tr th {\n",
       "        vertical-align: top;\n",
       "    }\n",
       "\n",
       "    .dataframe thead th {\n",
       "        text-align: right;\n",
       "    }\n",
       "</style>\n",
       "<table border=\"1\" class=\"dataframe\">\n",
       "  <thead>\n",
       "    <tr style=\"text-align: right;\">\n",
       "      <th></th>\n",
       "      <th>index</th>\n",
       "      <th>QaA</th>\n",
       "      <th>QaE</th>\n",
       "      <th>QbA</th>\n",
       "      <th>QbE</th>\n",
       "      <th>QcA</th>\n",
       "      <th>QcE</th>\n",
       "      <th>QdA</th>\n",
       "      <th>QdE</th>\n",
       "      <th>QeA</th>\n",
       "      <th>...</th>\n",
       "      <th>wr_04</th>\n",
       "      <th>wr_05</th>\n",
       "      <th>wr_06</th>\n",
       "      <th>wr_07</th>\n",
       "      <th>wr_08</th>\n",
       "      <th>wr_09</th>\n",
       "      <th>wr_10</th>\n",
       "      <th>wr_11</th>\n",
       "      <th>wr_12</th>\n",
       "      <th>wr_13</th>\n",
       "    </tr>\n",
       "  </thead>\n",
       "  <tbody>\n",
       "    <tr>\n",
       "      <th>0</th>\n",
       "      <td>0</td>\n",
       "      <td>3.0</td>\n",
       "      <td>363</td>\n",
       "      <td>4.0</td>\n",
       "      <td>1370</td>\n",
       "      <td>5.0</td>\n",
       "      <td>997</td>\n",
       "      <td>1.0</td>\n",
       "      <td>1024</td>\n",
       "      <td>2.0</td>\n",
       "      <td>...</td>\n",
       "      <td>0</td>\n",
       "      <td>1</td>\n",
       "      <td>0</td>\n",
       "      <td>1</td>\n",
       "      <td>1</td>\n",
       "      <td>0</td>\n",
       "      <td>1</td>\n",
       "      <td>0</td>\n",
       "      <td>1</td>\n",
       "      <td>1</td>\n",
       "    </tr>\n",
       "    <tr>\n",
       "      <th>1</th>\n",
       "      <td>1</td>\n",
       "      <td>5.0</td>\n",
       "      <td>647</td>\n",
       "      <td>5.0</td>\n",
       "      <td>1313</td>\n",
       "      <td>3.0</td>\n",
       "      <td>3387</td>\n",
       "      <td>5.0</td>\n",
       "      <td>2969</td>\n",
       "      <td>1.0</td>\n",
       "      <td>...</td>\n",
       "      <td>1</td>\n",
       "      <td>1</td>\n",
       "      <td>0</td>\n",
       "      <td>1</td>\n",
       "      <td>1</td>\n",
       "      <td>0</td>\n",
       "      <td>1</td>\n",
       "      <td>0</td>\n",
       "      <td>1</td>\n",
       "      <td>1</td>\n",
       "    </tr>\n",
       "    <tr>\n",
       "      <th>2</th>\n",
       "      <td>2</td>\n",
       "      <td>4.0</td>\n",
       "      <td>1623</td>\n",
       "      <td>1.0</td>\n",
       "      <td>1480</td>\n",
       "      <td>1.0</td>\n",
       "      <td>1021</td>\n",
       "      <td>4.0</td>\n",
       "      <td>3374</td>\n",
       "      <td>5.0</td>\n",
       "      <td>...</td>\n",
       "      <td>1</td>\n",
       "      <td>1</td>\n",
       "      <td>0</td>\n",
       "      <td>1</td>\n",
       "      <td>1</td>\n",
       "      <td>1</td>\n",
       "      <td>1</td>\n",
       "      <td>0</td>\n",
       "      <td>1</td>\n",
       "      <td>1</td>\n",
       "    </tr>\n",
       "    <tr>\n",
       "      <th>3</th>\n",
       "      <td>3</td>\n",
       "      <td>3.0</td>\n",
       "      <td>504</td>\n",
       "      <td>3.0</td>\n",
       "      <td>2311</td>\n",
       "      <td>4.0</td>\n",
       "      <td>992</td>\n",
       "      <td>3.0</td>\n",
       "      <td>3245</td>\n",
       "      <td>1.0</td>\n",
       "      <td>...</td>\n",
       "      <td>0</td>\n",
       "      <td>0</td>\n",
       "      <td>0</td>\n",
       "      <td>0</td>\n",
       "      <td>1</td>\n",
       "      <td>0</td>\n",
       "      <td>1</td>\n",
       "      <td>0</td>\n",
       "      <td>1</td>\n",
       "      <td>1</td>\n",
       "    </tr>\n",
       "    <tr>\n",
       "      <th>4</th>\n",
       "      <td>4</td>\n",
       "      <td>1.0</td>\n",
       "      <td>927</td>\n",
       "      <td>1.0</td>\n",
       "      <td>707</td>\n",
       "      <td>5.0</td>\n",
       "      <td>556</td>\n",
       "      <td>2.0</td>\n",
       "      <td>1062</td>\n",
       "      <td>1.0</td>\n",
       "      <td>...</td>\n",
       "      <td>1</td>\n",
       "      <td>1</td>\n",
       "      <td>1</td>\n",
       "      <td>1</td>\n",
       "      <td>1</td>\n",
       "      <td>0</td>\n",
       "      <td>1</td>\n",
       "      <td>1</td>\n",
       "      <td>1</td>\n",
       "      <td>1</td>\n",
       "    </tr>\n",
       "  </tbody>\n",
       "</table>\n",
       "<p>5 rows × 78 columns</p>\n",
       "</div>"
      ],
      "text/plain": [
       "   index  QaA   QaE  QbA   QbE  QcA   QcE  QdA   QdE  QeA  ...  wr_04  wr_05  \\\n",
       "0      0  3.0   363  4.0  1370  5.0   997  1.0  1024  2.0  ...      0      1   \n",
       "1      1  5.0   647  5.0  1313  3.0  3387  5.0  2969  1.0  ...      1      1   \n",
       "2      2  4.0  1623  1.0  1480  1.0  1021  4.0  3374  5.0  ...      1      1   \n",
       "3      3  3.0   504  3.0  2311  4.0   992  3.0  3245  1.0  ...      0      0   \n",
       "4      4  1.0   927  1.0   707  5.0   556  2.0  1062  1.0  ...      1      1   \n",
       "\n",
       "   wr_06  wr_07  wr_08  wr_09  wr_10  wr_11  wr_12  wr_13  \n",
       "0      0      1      1      0      1      0      1      1  \n",
       "1      0      1      1      0      1      0      1      1  \n",
       "2      0      1      1      1      1      0      1      1  \n",
       "3      0      0      1      0      1      0      1      1  \n",
       "4      1      1      1      0      1      1      1      1  \n",
       "\n",
       "[5 rows x 78 columns]"
      ]
     },
     "execution_count": 117,
     "metadata": {},
     "output_type": "execute_result"
    }
   ],
   "source": [
    "# read data\n",
    "data = pd.read_csv(\"data.csv\")\n",
    "data.head()"
   ]
  },
  {
   "cell_type": "code",
   "execution_count": 118,
   "metadata": {},
   "outputs": [
    {
     "name": "stdout",
     "output_type": "stream",
     "text": [
      "<class 'pandas.core.frame.DataFrame'>\n",
      "RangeIndex: 45532 entries, 0 to 45531\n",
      "Data columns (total 78 columns):\n",
      " #   Column      Non-Null Count  Dtype  \n",
      "---  ------      --------------  -----  \n",
      " 0   index       45532 non-null  int64  \n",
      " 1   QaA         45532 non-null  float64\n",
      " 2   QaE         45532 non-null  int64  \n",
      " 3   QbA         45532 non-null  float64\n",
      " 4   QbE         45532 non-null  int64  \n",
      " 5   QcA         45532 non-null  float64\n",
      " 6   QcE         45532 non-null  int64  \n",
      " 7   QdA         45532 non-null  float64\n",
      " 8   QdE         45532 non-null  int64  \n",
      " 9   QeA         45532 non-null  float64\n",
      " 10  QeE         45532 non-null  int64  \n",
      " 11  QfA         45532 non-null  float64\n",
      " 12  QfE         45532 non-null  int64  \n",
      " 13  QgA         45532 non-null  float64\n",
      " 14  QgE         45532 non-null  int64  \n",
      " 15  QhA         45532 non-null  float64\n",
      " 16  QhE         45532 non-null  int64  \n",
      " 17  QiA         45532 non-null  float64\n",
      " 18  QiE         45532 non-null  int64  \n",
      " 19  QjA         45532 non-null  float64\n",
      " 20  QjE         45532 non-null  int64  \n",
      " 21  QkA         45532 non-null  float64\n",
      " 22  QkE         45532 non-null  int64  \n",
      " 23  QlA         45532 non-null  float64\n",
      " 24  QlE         45532 non-null  int64  \n",
      " 25  QmA         45532 non-null  float64\n",
      " 26  QmE         45532 non-null  int64  \n",
      " 27  QnA         45532 non-null  float64\n",
      " 28  QnE         45532 non-null  int64  \n",
      " 29  QoA         45532 non-null  float64\n",
      " 30  QoE         45532 non-null  int64  \n",
      " 31  QpA         45532 non-null  float64\n",
      " 32  QpE         45532 non-null  int64  \n",
      " 33  QqA         45532 non-null  float64\n",
      " 34  QqE         45532 non-null  int64  \n",
      " 35  QrA         45532 non-null  float64\n",
      " 36  QrE         45532 non-null  int64  \n",
      " 37  QsA         45532 non-null  float64\n",
      " 38  QsE         45532 non-null  int64  \n",
      " 39  QtA         45532 non-null  float64\n",
      " 40  QtE         45532 non-null  int64  \n",
      " 41  age_group   45532 non-null  object \n",
      " 42  education   45532 non-null  int64  \n",
      " 43  engnat      45532 non-null  int64  \n",
      " 44  familysize  45532 non-null  int64  \n",
      " 45  gender      45532 non-null  object \n",
      " 46  hand        45532 non-null  int64  \n",
      " 47  married     45532 non-null  int64  \n",
      " 48  race        45532 non-null  object \n",
      " 49  religion    45532 non-null  object \n",
      " 50  tp01        45532 non-null  int64  \n",
      " 51  tp02        45532 non-null  int64  \n",
      " 52  tp03        45532 non-null  int64  \n",
      " 53  tp04        45532 non-null  int64  \n",
      " 54  tp05        45532 non-null  int64  \n",
      " 55  tp06        45532 non-null  int64  \n",
      " 56  tp07        45532 non-null  int64  \n",
      " 57  tp08        45532 non-null  int64  \n",
      " 58  tp09        45532 non-null  int64  \n",
      " 59  tp10        45532 non-null  int64  \n",
      " 60  urban       45532 non-null  int64  \n",
      " 61  voted       45532 non-null  int64  \n",
      " 62  wf_01       45532 non-null  int64  \n",
      " 63  wf_02       45532 non-null  int64  \n",
      " 64  wf_03       45532 non-null  int64  \n",
      " 65  wr_01       45532 non-null  int64  \n",
      " 66  wr_02       45532 non-null  int64  \n",
      " 67  wr_03       45532 non-null  int64  \n",
      " 68  wr_04       45532 non-null  int64  \n",
      " 69  wr_05       45532 non-null  int64  \n",
      " 70  wr_06       45532 non-null  int64  \n",
      " 71  wr_07       45532 non-null  int64  \n",
      " 72  wr_08       45532 non-null  int64  \n",
      " 73  wr_09       45532 non-null  int64  \n",
      " 74  wr_10       45532 non-null  int64  \n",
      " 75  wr_11       45532 non-null  int64  \n",
      " 76  wr_12       45532 non-null  int64  \n",
      " 77  wr_13       45532 non-null  int64  \n",
      "dtypes: float64(20), int64(54), object(4)\n",
      "memory usage: 27.1+ MB\n"
     ]
    },
    {
     "data": {
      "text/plain": [
       "index    0\n",
       "QaA      0\n",
       "QaE      0\n",
       "QbA      0\n",
       "QbE      0\n",
       "        ..\n",
       "wr_09    0\n",
       "wr_10    0\n",
       "wr_11    0\n",
       "wr_12    0\n",
       "wr_13    0\n",
       "Length: 78, dtype: int64"
      ]
     },
     "execution_count": 118,
     "metadata": {},
     "output_type": "execute_result"
    }
   ],
   "source": [
    "# check null data\n",
    "data.info()\n",
    "data.isnull().sum()"
   ]
  },
  {
   "cell_type": "code",
   "execution_count": 119,
   "metadata": {},
   "outputs": [],
   "source": [
    "# change tp score\n",
    "for i in range(1, 10):\n",
    "    data[f'tp0{i}'] = 7 - data[f'tp0{i}']\n",
    "data['tp10'] = 7 - data['tp10']"
   ]
  },
  {
   "cell_type": "code",
   "execution_count": 120,
   "metadata": {},
   "outputs": [],
   "source": [
    "# merge 50s, 60s, and +70s as 50s\n",
    "data.age_group = data.age_group.apply(lambda x: '50s' if x in ['50s', '60s', '+70s'] else x)"
   ]
  },
  {
   "cell_type": "markdown",
   "metadata": {},
   "source": [
    "## 주어진 문항에 대한 연령대 별 분석  "
   ]
  },
  {
   "cell_type": "markdown",
   "metadata": {},
   "source": [
    "---"
   ]
  },
  {
   "cell_type": "markdown",
   "metadata": {},
   "source": [
    "### Q1: 사람들은 재산을 잃는 것보다 부모의 죽음을 더 쉽게 잊는다.\n",
    "* 1: Disagree ~ 5: Agree\n",
    "* 50s는 50대 이상의 데이터를 포함"
   ]
  },
  {
   "cell_type": "code",
   "execution_count": 121,
   "metadata": {},
   "outputs": [
    {
     "data": {
      "text/html": [
       "<div>\n",
       "<style scoped>\n",
       "    .dataframe tbody tr th:only-of-type {\n",
       "        vertical-align: middle;\n",
       "    }\n",
       "\n",
       "    .dataframe tbody tr th {\n",
       "        vertical-align: top;\n",
       "    }\n",
       "\n",
       "    .dataframe thead th {\n",
       "        text-align: right;\n",
       "    }\n",
       "</style>\n",
       "<table border=\"1\" class=\"dataframe\">\n",
       "  <thead>\n",
       "    <tr style=\"text-align: right;\">\n",
       "      <th>QhA</th>\n",
       "      <th>1.0</th>\n",
       "      <th>2.0</th>\n",
       "      <th>3.0</th>\n",
       "      <th>4.0</th>\n",
       "      <th>5.0</th>\n",
       "      <th>Total</th>\n",
       "    </tr>\n",
       "    <tr>\n",
       "      <th>age_group</th>\n",
       "      <th></th>\n",
       "      <th></th>\n",
       "      <th></th>\n",
       "      <th></th>\n",
       "      <th></th>\n",
       "      <th></th>\n",
       "    </tr>\n",
       "  </thead>\n",
       "  <tbody>\n",
       "    <tr>\n",
       "      <th>10s</th>\n",
       "      <td>0.397890</td>\n",
       "      <td>0.175167</td>\n",
       "      <td>0.149138</td>\n",
       "      <td>0.149279</td>\n",
       "      <td>0.128526</td>\n",
       "      <td>1</td>\n",
       "    </tr>\n",
       "    <tr>\n",
       "      <th>20s</th>\n",
       "      <td>0.428784</td>\n",
       "      <td>0.164257</td>\n",
       "      <td>0.140448</td>\n",
       "      <td>0.135133</td>\n",
       "      <td>0.131378</td>\n",
       "      <td>1</td>\n",
       "    </tr>\n",
       "    <tr>\n",
       "      <th>30s</th>\n",
       "      <td>0.485707</td>\n",
       "      <td>0.146376</td>\n",
       "      <td>0.124553</td>\n",
       "      <td>0.120470</td>\n",
       "      <td>0.122894</td>\n",
       "      <td>1</td>\n",
       "    </tr>\n",
       "    <tr>\n",
       "      <th>40s</th>\n",
       "      <td>0.547020</td>\n",
       "      <td>0.129281</td>\n",
       "      <td>0.109087</td>\n",
       "      <td>0.112057</td>\n",
       "      <td>0.102554</td>\n",
       "      <td>1</td>\n",
       "    </tr>\n",
       "    <tr>\n",
       "      <th>50s</th>\n",
       "      <td>0.543075</td>\n",
       "      <td>0.129921</td>\n",
       "      <td>0.098194</td>\n",
       "      <td>0.111857</td>\n",
       "      <td>0.116952</td>\n",
       "      <td>1</td>\n",
       "    </tr>\n",
       "  </tbody>\n",
       "</table>\n",
       "</div>"
      ],
      "text/plain": [
       "QhA             1.0       2.0       3.0       4.0       5.0  Total\n",
       "age_group                                                         \n",
       "10s        0.397890  0.175167  0.149138  0.149279  0.128526      1\n",
       "20s        0.428784  0.164257  0.140448  0.135133  0.131378      1\n",
       "30s        0.485707  0.146376  0.124553  0.120470  0.122894      1\n",
       "40s        0.547020  0.129281  0.109087  0.112057  0.102554      1\n",
       "50s        0.543075  0.129921  0.098194  0.111857  0.116952      1"
      ]
     },
     "execution_count": 121,
     "metadata": {},
     "output_type": "execute_result"
    }
   ],
   "source": [
    "pivot = pd.pivot_table(data = data, index = \"age_group\", columns = \"QhA\", aggfunc = \"size\", fill_value = 0)\n",
    "pivot['Total'] = pivot.sum(axis=1)\n",
    "for i in range(1, 6):\n",
    "    pivot.loc[f'{i}0s'] = pivot.loc[f'{i}0s']/pivot['Total'][f'{i}0s']\n",
    "pivot"
   ]
  },
  {
   "cell_type": "code",
   "execution_count": 122,
   "metadata": {},
   "outputs": [
    {
     "data": {
      "text/plain": [
       "Text(0.5, 1.0, 'QhA')"
      ]
     },
     "execution_count": 122,
     "metadata": {},
     "output_type": "execute_result"
    },
    {
     "data": {
      "image/png": "[encoded data removed]",
      "text/plain": [
       "<Figure size 720x432 with 1 Axes>"
      ]
     },
     "metadata": {
      "needs_background": "light"
     },
     "output_type": "display_data"
    }
   ],
   "source": [
    "pivot.drop(['Total'], axis=1, inplace=True)\n",
    "pivot.plot(kind='barh', figsize=(10,6), stacked=True, alpha=0.7)\n",
    "plt.xlabel('Percentage')\n",
    "plt.ylabel('Age Group')\n",
    "plt.title('QhA')"
   ]
  },
  {
   "cell_type": "markdown",
   "metadata": {},
   "source": [
    "* 연령대가 올라갈수록 돈보다 부모의 안위를 생각함을 알 수 있다.\n",
    "* 10대, 20대는 돈을 더 중요시하는 경향이 있다."
   ]
  },
  {
   "cell_type": "markdown",
   "metadata": {},
   "source": [
    "---"
   ]
  },
  {
   "cell_type": "markdown",
   "metadata": {},
   "source": [
    "### Q2: 사람들은 악랄하며 기회가 주어지면 그 악랄함이 드러난다.\n",
    "* 1: Disagree ~ 5: Agree\n",
    "* 50s는 50대 이상의 데이터를 포함"
   ]
  },
  {
   "cell_type": "code",
   "execution_count": 123,
   "metadata": {},
   "outputs": [
    {
     "data": {
      "text/html": [
       "<div>\n",
       "<style scoped>\n",
       "    .dataframe tbody tr th:only-of-type {\n",
       "        vertical-align: middle;\n",
       "    }\n",
       "\n",
       "    .dataframe tbody tr th {\n",
       "        vertical-align: top;\n",
       "    }\n",
       "\n",
       "    .dataframe thead th {\n",
       "        text-align: right;\n",
       "    }\n",
       "</style>\n",
       "<table border=\"1\" class=\"dataframe\">\n",
       "  <thead>\n",
       "    <tr style=\"text-align: right;\">\n",
       "      <th>QjA</th>\n",
       "      <th>1.0</th>\n",
       "      <th>2.0</th>\n",
       "      <th>3.0</th>\n",
       "      <th>4.0</th>\n",
       "      <th>5.0</th>\n",
       "      <th>Total</th>\n",
       "    </tr>\n",
       "    <tr>\n",
       "      <th>age_group</th>\n",
       "      <th></th>\n",
       "      <th></th>\n",
       "      <th></th>\n",
       "      <th></th>\n",
       "      <th></th>\n",
       "      <th></th>\n",
       "    </tr>\n",
       "  </thead>\n",
       "  <tbody>\n",
       "    <tr>\n",
       "      <th>10s</th>\n",
       "      <td>0.073233</td>\n",
       "      <td>0.127119</td>\n",
       "      <td>0.127612</td>\n",
       "      <td>0.312065</td>\n",
       "      <td>0.359972</td>\n",
       "      <td>1</td>\n",
       "    </tr>\n",
       "    <tr>\n",
       "      <th>20s</th>\n",
       "      <td>0.083050</td>\n",
       "      <td>0.140873</td>\n",
       "      <td>0.110899</td>\n",
       "      <td>0.321925</td>\n",
       "      <td>0.343254</td>\n",
       "      <td>1</td>\n",
       "    </tr>\n",
       "    <tr>\n",
       "      <th>30s</th>\n",
       "      <td>0.119193</td>\n",
       "      <td>0.159775</td>\n",
       "      <td>0.107580</td>\n",
       "      <td>0.307427</td>\n",
       "      <td>0.306023</td>\n",
       "      <td>1</td>\n",
       "    </tr>\n",
       "    <tr>\n",
       "      <th>40s</th>\n",
       "      <td>0.171253</td>\n",
       "      <td>0.174619</td>\n",
       "      <td>0.093843</td>\n",
       "      <td>0.306276</td>\n",
       "      <td>0.254009</td>\n",
       "      <td>1</td>\n",
       "    </tr>\n",
       "    <tr>\n",
       "      <th>50s</th>\n",
       "      <td>0.258916</td>\n",
       "      <td>0.177629</td>\n",
       "      <td>0.088930</td>\n",
       "      <td>0.267717</td>\n",
       "      <td>0.206809</td>\n",
       "      <td>1</td>\n",
       "    </tr>\n",
       "  </tbody>\n",
       "</table>\n",
       "</div>"
      ],
      "text/plain": [
       "QjA             1.0       2.0       3.0       4.0       5.0  Total\n",
       "age_group                                                         \n",
       "10s        0.073233  0.127119  0.127612  0.312065  0.359972      1\n",
       "20s        0.083050  0.140873  0.110899  0.321925  0.343254      1\n",
       "30s        0.119193  0.159775  0.107580  0.307427  0.306023      1\n",
       "40s        0.171253  0.174619  0.093843  0.306276  0.254009      1\n",
       "50s        0.258916  0.177629  0.088930  0.267717  0.206809      1"
      ]
     },
     "execution_count": 123,
     "metadata": {},
     "output_type": "execute_result"
    }
   ],
   "source": [
    "pivot = pd.pivot_table(data = data, index = \"age_group\", columns = \"QjA\", aggfunc = \"size\", fill_value = 0)\n",
    "pivot['Total'] = pivot.sum(axis=1)\n",
    "for i in range(1, 6):\n",
    "    pivot.loc[f'{i}0s'] = pivot.loc[f'{i}0s']/pivot['Total'][f'{i}0s']\n",
    "pivot"
   ]
  },
  {
   "cell_type": "code",
   "execution_count": 124,
   "metadata": {},
   "outputs": [
    {
     "data": {
      "text/plain": [
       "Text(0.5, 1.0, 'QjA')"
      ]
     },
     "execution_count": 124,
     "metadata": {},
     "output_type": "execute_result"
    },
    {
     "data": {
      "image/png": "[encoded data removed]",
      "text/plain": [
       "<Figure size 720x432 with 1 Axes>"
      ]
     },
     "metadata": {
      "needs_background": "light"
     },
     "output_type": "display_data"
    }
   ],
   "source": [
    "pivot.drop(['Total'], axis=1, inplace=True)\n",
    "pivot.plot(kind='barh', figsize=(10,6), stacked=True, alpha=0.7)\n",
    "plt.xlabel('Percentage')\n",
    "plt.ylabel('Age Group')\n",
    "plt.title('QjA')"
   ]
  },
  {
   "cell_type": "markdown",
   "metadata": {},
   "source": [
    "* 연령대가 올라갈수록 사람의 본성은 선하다고 보는 경향이 있다.\n",
    "* 10대, 20대는 기회만 된다면 사람의 악한 본성이 나온다고 보는 비율이 높다."
   ]
  },
  {
   "cell_type": "markdown",
   "metadata": {},
   "source": [
    "---"
   ]
  },
  {
   "cell_type": "markdown",
   "metadata": {},
   "source": [
    "### Q3: 나는 새롭고 복잡한 경험을 할 준비가 되어있다.\n",
    "* 0: No response\n",
    "* 1: Disagree ~ 7: Agree\n",
    "* 50s는 50대 이상의 데이터를 포함"
   ]
  },
  {
   "cell_type": "code",
   "execution_count": 125,
   "metadata": {},
   "outputs": [
    {
     "data": {
      "text/html": [
       "<div>\n",
       "<style scoped>\n",
       "    .dataframe tbody tr th:only-of-type {\n",
       "        vertical-align: middle;\n",
       "    }\n",
       "\n",
       "    .dataframe tbody tr th {\n",
       "        vertical-align: top;\n",
       "    }\n",
       "\n",
       "    .dataframe thead th {\n",
       "        text-align: right;\n",
       "    }\n",
       "</style>\n",
       "<table border=\"1\" class=\"dataframe\">\n",
       "  <thead>\n",
       "    <tr style=\"text-align: right;\">\n",
       "      <th>tp05</th>\n",
       "      <th>0</th>\n",
       "      <th>1</th>\n",
       "      <th>2</th>\n",
       "      <th>3</th>\n",
       "      <th>4</th>\n",
       "      <th>5</th>\n",
       "      <th>6</th>\n",
       "      <th>7</th>\n",
       "      <th>Total</th>\n",
       "    </tr>\n",
       "    <tr>\n",
       "      <th>age_group</th>\n",
       "      <th></th>\n",
       "      <th></th>\n",
       "      <th></th>\n",
       "      <th></th>\n",
       "      <th></th>\n",
       "      <th></th>\n",
       "      <th></th>\n",
       "      <th></th>\n",
       "      <th></th>\n",
       "    </tr>\n",
       "  </thead>\n",
       "  <tbody>\n",
       "    <tr>\n",
       "      <th>10s</th>\n",
       "      <td>0.004784</td>\n",
       "      <td>0.013718</td>\n",
       "      <td>0.029757</td>\n",
       "      <td>0.063384</td>\n",
       "      <td>0.072529</td>\n",
       "      <td>0.209216</td>\n",
       "      <td>0.281182</td>\n",
       "      <td>0.325431</td>\n",
       "      <td>1</td>\n",
       "    </tr>\n",
       "    <tr>\n",
       "      <th>20s</th>\n",
       "      <td>0.003614</td>\n",
       "      <td>0.010558</td>\n",
       "      <td>0.023030</td>\n",
       "      <td>0.051871</td>\n",
       "      <td>0.056831</td>\n",
       "      <td>0.198696</td>\n",
       "      <td>0.294076</td>\n",
       "      <td>0.361324</td>\n",
       "      <td>1</td>\n",
       "    </tr>\n",
       "    <tr>\n",
       "      <th>30s</th>\n",
       "      <td>0.003828</td>\n",
       "      <td>0.008423</td>\n",
       "      <td>0.027565</td>\n",
       "      <td>0.051940</td>\n",
       "      <td>0.056151</td>\n",
       "      <td>0.190658</td>\n",
       "      <td>0.305641</td>\n",
       "      <td>0.355794</td>\n",
       "      <td>1</td>\n",
       "    </tr>\n",
       "    <tr>\n",
       "      <th>40s</th>\n",
       "      <td>0.009503</td>\n",
       "      <td>0.008513</td>\n",
       "      <td>0.028509</td>\n",
       "      <td>0.054445</td>\n",
       "      <td>0.050089</td>\n",
       "      <td>0.173629</td>\n",
       "      <td>0.322114</td>\n",
       "      <td>0.353197</td>\n",
       "      <td>1</td>\n",
       "    </tr>\n",
       "    <tr>\n",
       "      <th>50s</th>\n",
       "      <td>0.021769</td>\n",
       "      <td>0.012506</td>\n",
       "      <td>0.031264</td>\n",
       "      <td>0.045855</td>\n",
       "      <td>0.051876</td>\n",
       "      <td>0.144975</td>\n",
       "      <td>0.350162</td>\n",
       "      <td>0.341593</td>\n",
       "      <td>1</td>\n",
       "    </tr>\n",
       "  </tbody>\n",
       "</table>\n",
       "</div>"
      ],
      "text/plain": [
       "tp05              0         1         2         3         4         5  \\\n",
       "age_group                                                               \n",
       "10s        0.004784  0.013718  0.029757  0.063384  0.072529  0.209216   \n",
       "20s        0.003614  0.010558  0.023030  0.051871  0.056831  0.198696   \n",
       "30s        0.003828  0.008423  0.027565  0.051940  0.056151  0.190658   \n",
       "40s        0.009503  0.008513  0.028509  0.054445  0.050089  0.173629   \n",
       "50s        0.021769  0.012506  0.031264  0.045855  0.051876  0.144975   \n",
       "\n",
       "tp05              6         7  Total  \n",
       "age_group                             \n",
       "10s        0.281182  0.325431      1  \n",
       "20s        0.294076  0.361324      1  \n",
       "30s        0.305641  0.355794      1  \n",
       "40s        0.322114  0.353197      1  \n",
       "50s        0.350162  0.341593      1  "
      ]
     },
     "execution_count": 125,
     "metadata": {},
     "output_type": "execute_result"
    }
   ],
   "source": [
    "pivot = pd.pivot_table(data = data, index = \"age_group\", columns = \"tp05\", aggfunc = \"size\", fill_value = 0)\n",
    "pivot['Total'] = pivot.sum(axis=1)\n",
    "for i in range(1, 6):\n",
    "    pivot.loc[f'{i}0s'] = pivot.loc[f'{i}0s']/pivot['Total'][f'{i}0s']\n",
    "pivot"
   ]
  },
  {
   "cell_type": "code",
   "execution_count": 126,
   "metadata": {},
   "outputs": [
    {
     "data": {
      "text/plain": [
       "Text(0.5, 1.0, 'tp05')"
      ]
     },
     "execution_count": 126,
     "metadata": {},
     "output_type": "execute_result"
    },
    {
     "data": {
      "image/png": "[encoded data removed]",
      "text/plain": [
       "<Figure size 720x432 with 1 Axes>"
      ]
     },
     "metadata": {
      "needs_background": "light"
     },
     "output_type": "display_data"
    }
   ],
   "source": [
    "pivot.drop(['Total'], axis=1, inplace=True)\n",
    "pivot.plot(kind='barh', figsize=(10,6), stacked=True, alpha=0.7)\n",
    "plt.xlabel('Percentage')\n",
    "plt.ylabel('Age Group')\n",
    "plt.title('tp05')"
   ]
  },
  {
   "cell_type": "markdown",
   "metadata": {},
   "source": [
    "* 새롭고 복잡한 경험을 할 준비가 되었는지에 대한 질문에, 연령대 별 유의미한 차이는 발견할 수 없었다."
   ]
  },
  {
   "cell_type": "markdown",
   "metadata": {},
   "source": [
    "---"
   ]
  },
  {
   "cell_type": "markdown",
   "metadata": {},
   "source": [
    "### Q4: 나는 말수가 적고 조용하다.\n",
    "* 0: No response\n",
    "* 1: Disagree ~ 7: Agree\n",
    "* 50s는 50대 이상의 데이터를 포함"
   ]
  },
  {
   "cell_type": "code",
   "execution_count": 127,
   "metadata": {},
   "outputs": [
    {
     "data": {
      "text/html": [
       "<div>\n",
       "<style scoped>\n",
       "    .dataframe tbody tr th:only-of-type {\n",
       "        vertical-align: middle;\n",
       "    }\n",
       "\n",
       "    .dataframe tbody tr th {\n",
       "        vertical-align: top;\n",
       "    }\n",
       "\n",
       "    .dataframe thead th {\n",
       "        text-align: right;\n",
       "    }\n",
       "</style>\n",
       "<table border=\"1\" class=\"dataframe\">\n",
       "  <thead>\n",
       "    <tr style=\"text-align: right;\">\n",
       "      <th>tp06</th>\n",
       "      <th>0</th>\n",
       "      <th>1</th>\n",
       "      <th>2</th>\n",
       "      <th>3</th>\n",
       "      <th>4</th>\n",
       "      <th>5</th>\n",
       "      <th>6</th>\n",
       "      <th>7</th>\n",
       "      <th>Total</th>\n",
       "    </tr>\n",
       "    <tr>\n",
       "      <th>age_group</th>\n",
       "      <th></th>\n",
       "      <th></th>\n",
       "      <th></th>\n",
       "      <th></th>\n",
       "      <th></th>\n",
       "      <th></th>\n",
       "      <th></th>\n",
       "      <th></th>\n",
       "      <th></th>\n",
       "    </tr>\n",
       "  </thead>\n",
       "  <tbody>\n",
       "    <tr>\n",
       "      <th>10s</th>\n",
       "      <td>0.005065</td>\n",
       "      <td>0.093915</td>\n",
       "      <td>0.095181</td>\n",
       "      <td>0.096096</td>\n",
       "      <td>0.090257</td>\n",
       "      <td>0.208301</td>\n",
       "      <td>0.193247</td>\n",
       "      <td>0.217939</td>\n",
       "      <td>1</td>\n",
       "    </tr>\n",
       "    <tr>\n",
       "      <th>20s</th>\n",
       "      <td>0.004039</td>\n",
       "      <td>0.091199</td>\n",
       "      <td>0.089782</td>\n",
       "      <td>0.103104</td>\n",
       "      <td>0.089923</td>\n",
       "      <td>0.209821</td>\n",
       "      <td>0.192885</td>\n",
       "      <td>0.219246</td>\n",
       "      <td>1</td>\n",
       "    </tr>\n",
       "    <tr>\n",
       "      <th>30s</th>\n",
       "      <td>0.004084</td>\n",
       "      <td>0.111409</td>\n",
       "      <td>0.108984</td>\n",
       "      <td>0.114982</td>\n",
       "      <td>0.094308</td>\n",
       "      <td>0.212098</td>\n",
       "      <td>0.183257</td>\n",
       "      <td>0.170878</td>\n",
       "      <td>1</td>\n",
       "    </tr>\n",
       "    <tr>\n",
       "      <th>40s</th>\n",
       "      <td>0.007919</td>\n",
       "      <td>0.129281</td>\n",
       "      <td>0.126114</td>\n",
       "      <td>0.113839</td>\n",
       "      <td>0.089685</td>\n",
       "      <td>0.204514</td>\n",
       "      <td>0.175807</td>\n",
       "      <td>0.152841</td>\n",
       "      <td>1</td>\n",
       "    </tr>\n",
       "    <tr>\n",
       "      <th>50s</th>\n",
       "      <td>0.021769</td>\n",
       "      <td>0.136174</td>\n",
       "      <td>0.128069</td>\n",
       "      <td>0.096572</td>\n",
       "      <td>0.088467</td>\n",
       "      <td>0.191755</td>\n",
       "      <td>0.196156</td>\n",
       "      <td>0.141038</td>\n",
       "      <td>1</td>\n",
       "    </tr>\n",
       "  </tbody>\n",
       "</table>\n",
       "</div>"
      ],
      "text/plain": [
       "tp06              0         1         2         3         4         5  \\\n",
       "age_group                                                               \n",
       "10s        0.005065  0.093915  0.095181  0.096096  0.090257  0.208301   \n",
       "20s        0.004039  0.091199  0.089782  0.103104  0.089923  0.209821   \n",
       "30s        0.004084  0.111409  0.108984  0.114982  0.094308  0.212098   \n",
       "40s        0.007919  0.129281  0.126114  0.113839  0.089685  0.204514   \n",
       "50s        0.021769  0.136174  0.128069  0.096572  0.088467  0.191755   \n",
       "\n",
       "tp06              6         7  Total  \n",
       "age_group                             \n",
       "10s        0.193247  0.217939      1  \n",
       "20s        0.192885  0.219246      1  \n",
       "30s        0.183257  0.170878      1  \n",
       "40s        0.175807  0.152841      1  \n",
       "50s        0.196156  0.141038      1  "
      ]
     },
     "execution_count": 127,
     "metadata": {},
     "output_type": "execute_result"
    }
   ],
   "source": [
    "pivot = pd.pivot_table(data = data, index = \"age_group\", columns = \"tp06\", aggfunc = \"size\", fill_value = 0)\n",
    "pivot['Total'] = pivot.sum(axis=1)\n",
    "for i in range(1, 6):\n",
    "    pivot.loc[f'{i}0s'] = pivot.loc[f'{i}0s']/pivot['Total'][f'{i}0s']\n",
    "pivot"
   ]
  },
  {
   "cell_type": "code",
   "execution_count": 128,
   "metadata": {},
   "outputs": [
    {
     "data": {
      "text/plain": [
       "Text(0.5, 1.0, 'tp06')"
      ]
     },
     "execution_count": 128,
     "metadata": {},
     "output_type": "execute_result"
    },
    {
     "data": {
      "image/png": "[encoded data removed]",
      "text/plain": [
       "<Figure size 720x432 with 1 Axes>"
      ]
     },
     "metadata": {
      "needs_background": "light"
     },
     "output_type": "display_data"
    }
   ],
   "source": [
    "pivot.drop(['Total'], axis=1, inplace=True)\n",
    "pivot.plot(kind='barh', figsize=(10,6), stacked=True, alpha=0.7)\n",
    "plt.xlabel('Percentage')\n",
    "plt.ylabel('Age Group')\n",
    "plt.title('tp06')"
   ]
  },
  {
   "cell_type": "markdown",
   "metadata": {},
   "source": [
    "* 연령대가 올라갈수록 자기 자신이 말수가 많아지고 조용하지 않다고 생각하는 경향이 있다.\n",
    "* 10대, 20대는 자기 자신이 말수가 적고 조용하지 않다고 생각하는 경향이 있다."
   ]
  },
  {
   "cell_type": "markdown",
   "metadata": {},
   "source": [
    "---"
   ]
  },
  {
   "cell_type": "markdown",
   "metadata": {},
   "source": [
    "## 연령대 별 분석 결과\n",
    "* 나이가 적을수록 부모의 안위보다 돈을 더 우선시하는 경향이 있다.\n",
    "* 나이가 적을수록 인간의 악한 본성이 나온다고 생각하는 경향이 있다.\n",
    "* 나이가 적을수록 자기 자신이 말수가 적고 조용하다고 생각하는 경향이 있다.\n",
    "* 복잡하고 새로운 경험을 하는 데에 있어선 나이에 상관이 없었다.\n",
    "\n",
    "그렇다면, 연령에 따른 경향성을 보이는 경우에는  \n",
    "어떠한 환경적/유전적 요인이 영향을 미쳤을까?"
   ]
  },
  {
   "cell_type": "markdown",
   "metadata": {},
   "source": [
    "---"
   ]
  },
  {
   "cell_type": "markdown",
   "metadata": {},
   "source": [
    "## 연령대 별 경향성에 영향을 미치는 요인은?\n",
    "연령대 별 경향성에 영향을 미치는 요인이 무엇인지 알아보자.  \n",
    "우선, 환경적 요인으로는 다음 사항들을 알아볼 수 있다.\n",
    "* 교육수준\n",
    "* 형제자매 수\n",
    "* 결혼유무\n",
    "* 유년기 거주지역\n",
    "* 영어를 모국어로 사용(미국)  \n",
    "\n",
    "유전적 요인으로는 다음 사항들을 알아볼 수 있다.\n",
    "* 성별\n",
    "* 오른손잡이/왼손잡이\n",
    "\n",
    "연령대 별 경향성을 보인 QjA, QhA, tp06 데이터에 대해서 알아보자."
   ]
  },
  {
   "cell_type": "markdown",
   "metadata": {},
   "source": [
    "---"
   ]
  },
  {
   "cell_type": "markdown",
   "metadata": {},
   "source": [
    "### 1. 나이가 많을수록 돈보다 부모의 안위를 걱정하는 이유는?"
   ]
  },
  {
   "cell_type": "markdown",
   "metadata": {},
   "source": [
    "#### 1-1) 교육수준이 영향을 미쳤을까?\n",
    "* 0: 무응답\n",
    "* 1: 저학력 ~ 4: 고학력"
   ]
  },
  {
   "cell_type": "code",
   "execution_count": 129,
   "metadata": {},
   "outputs": [
    {
     "data": {
      "text/html": [
       "<div>\n",
       "<style scoped>\n",
       "    .dataframe tbody tr th:only-of-type {\n",
       "        vertical-align: middle;\n",
       "    }\n",
       "\n",
       "    .dataframe tbody tr th {\n",
       "        vertical-align: top;\n",
       "    }\n",
       "\n",
       "    .dataframe thead th {\n",
       "        text-align: right;\n",
       "    }\n",
       "</style>\n",
       "<table border=\"1\" class=\"dataframe\">\n",
       "  <thead>\n",
       "    <tr style=\"text-align: right;\">\n",
       "      <th>education</th>\n",
       "      <th>0</th>\n",
       "      <th>1</th>\n",
       "      <th>2</th>\n",
       "      <th>3</th>\n",
       "      <th>4</th>\n",
       "      <th>Total</th>\n",
       "    </tr>\n",
       "    <tr>\n",
       "      <th>age_group</th>\n",
       "      <th></th>\n",
       "      <th></th>\n",
       "      <th></th>\n",
       "      <th></th>\n",
       "      <th></th>\n",
       "      <th></th>\n",
       "    </tr>\n",
       "  </thead>\n",
       "  <tbody>\n",
       "    <tr>\n",
       "      <th>10s</th>\n",
       "      <td>0.008090</td>\n",
       "      <td>0.321702</td>\n",
       "      <td>0.579599</td>\n",
       "      <td>0.078368</td>\n",
       "      <td>0.012241</td>\n",
       "      <td>1</td>\n",
       "    </tr>\n",
       "    <tr>\n",
       "      <th>20s</th>\n",
       "      <td>0.009495</td>\n",
       "      <td>0.014668</td>\n",
       "      <td>0.295139</td>\n",
       "      <td>0.495465</td>\n",
       "      <td>0.185232</td>\n",
       "      <td>1</td>\n",
       "    </tr>\n",
       "    <tr>\n",
       "      <th>30s</th>\n",
       "      <td>0.014165</td>\n",
       "      <td>0.020036</td>\n",
       "      <td>0.245661</td>\n",
       "      <td>0.434022</td>\n",
       "      <td>0.286115</td>\n",
       "      <td>1</td>\n",
       "    </tr>\n",
       "    <tr>\n",
       "      <th>40s</th>\n",
       "      <td>0.015442</td>\n",
       "      <td>0.015838</td>\n",
       "      <td>0.253811</td>\n",
       "      <td>0.418927</td>\n",
       "      <td>0.295981</td>\n",
       "      <td>1</td>\n",
       "    </tr>\n",
       "    <tr>\n",
       "      <th>50s</th>\n",
       "      <td>0.020843</td>\n",
       "      <td>0.016443</td>\n",
       "      <td>0.283465</td>\n",
       "      <td>0.371468</td>\n",
       "      <td>0.307781</td>\n",
       "      <td>1</td>\n",
       "    </tr>\n",
       "  </tbody>\n",
       "</table>\n",
       "</div>"
      ],
      "text/plain": [
       "education         0         1         2         3         4  Total\n",
       "age_group                                                         \n",
       "10s        0.008090  0.321702  0.579599  0.078368  0.012241      1\n",
       "20s        0.009495  0.014668  0.295139  0.495465  0.185232      1\n",
       "30s        0.014165  0.020036  0.245661  0.434022  0.286115      1\n",
       "40s        0.015442  0.015838  0.253811  0.418927  0.295981      1\n",
       "50s        0.020843  0.016443  0.283465  0.371468  0.307781      1"
      ]
     },
     "execution_count": 129,
     "metadata": {},
     "output_type": "execute_result"
    }
   ],
   "source": [
    "pivot = pd.pivot_table(data = data, index = \"age_group\", columns = \"education\", aggfunc = \"size\", fill_value = 0)\n",
    "pivot['Total'] = pivot.sum(axis=1)\n",
    "for i in range(1, 6):\n",
    "    pivot.loc[f'{i}0s'] = pivot.loc[f'{i}0s']/pivot['Total'][f'{i}0s']\n",
    "pivot"
   ]
  },
  {
   "cell_type": "code",
   "execution_count": 130,
   "metadata": {},
   "outputs": [
    {
     "data": {
      "text/plain": [
       "Text(0.5, 1.0, 'education')"
      ]
     },
     "execution_count": 130,
     "metadata": {},
     "output_type": "execute_result"
    },
    {
     "data": {
      "image/png": "[encoded data removed]",
      "text/plain": [
       "<Figure size 720x432 with 1 Axes>"
      ]
     },
     "metadata": {
      "needs_background": "light"
     },
     "output_type": "display_data"
    }
   ],
   "source": [
    "pivot.drop(['Total'], axis=1, inplace=True)\n",
    "pivot.plot(kind='barh', figsize=(10,6), stacked=True, alpha=0.7)\n",
    "plt.xlabel('Percentage')\n",
    "plt.ylabel('Age Group')\n",
    "plt.title('education')"
   ]
  },
  {
   "cell_type": "markdown",
   "metadata": {},
   "source": [
    "* 교육 수준이 영향을 미친 것은 아닌 것으로 보인다."
   ]
  },
  {
   "cell_type": "markdown",
   "metadata": {},
   "source": [
    "#### 1-2) 형제자매 수가 영향을 미쳤을까?\n",
    "* 형제자매의 수가 7명 이상인 경우는 비율이 매우 적어서 제외"
   ]
  },
  {
   "cell_type": "code",
   "execution_count": 131,
   "metadata": {},
   "outputs": [
    {
     "data": {
      "text/html": [
       "<div>\n",
       "<style scoped>\n",
       "    .dataframe tbody tr th:only-of-type {\n",
       "        vertical-align: middle;\n",
       "    }\n",
       "\n",
       "    .dataframe tbody tr th {\n",
       "        vertical-align: top;\n",
       "    }\n",
       "\n",
       "    .dataframe thead th {\n",
       "        text-align: right;\n",
       "    }\n",
       "</style>\n",
       "<table border=\"1\" class=\"dataframe\">\n",
       "  <thead>\n",
       "    <tr style=\"text-align: right;\">\n",
       "      <th>familysize</th>\n",
       "      <th>0</th>\n",
       "      <th>1</th>\n",
       "      <th>2</th>\n",
       "      <th>3</th>\n",
       "      <th>4</th>\n",
       "      <th>5</th>\n",
       "      <th>6</th>\n",
       "      <th>Total</th>\n",
       "    </tr>\n",
       "    <tr>\n",
       "      <th>age_group</th>\n",
       "      <th></th>\n",
       "      <th></th>\n",
       "      <th></th>\n",
       "      <th></th>\n",
       "      <th></th>\n",
       "      <th></th>\n",
       "      <th></th>\n",
       "      <th></th>\n",
       "    </tr>\n",
       "  </thead>\n",
       "  <tbody>\n",
       "    <tr>\n",
       "      <th>10s</th>\n",
       "      <td>0.029783</td>\n",
       "      <td>0.149127</td>\n",
       "      <td>0.422729</td>\n",
       "      <td>0.252654</td>\n",
       "      <td>0.098397</td>\n",
       "      <td>0.034485</td>\n",
       "      <td>0.012825</td>\n",
       "      <td>1</td>\n",
       "    </tr>\n",
       "    <tr>\n",
       "      <th>20s</th>\n",
       "      <td>0.033194</td>\n",
       "      <td>0.166475</td>\n",
       "      <td>0.412631</td>\n",
       "      <td>0.241270</td>\n",
       "      <td>0.097356</td>\n",
       "      <td>0.035781</td>\n",
       "      <td>0.013292</td>\n",
       "      <td>1</td>\n",
       "    </tr>\n",
       "    <tr>\n",
       "      <th>30s</th>\n",
       "      <td>0.024653</td>\n",
       "      <td>0.145582</td>\n",
       "      <td>0.416115</td>\n",
       "      <td>0.255612</td>\n",
       "      <td>0.100817</td>\n",
       "      <td>0.041261</td>\n",
       "      <td>0.015960</td>\n",
       "      <td>1</td>\n",
       "    </tr>\n",
       "    <tr>\n",
       "      <th>40s</th>\n",
       "      <td>0.018285</td>\n",
       "      <td>0.127997</td>\n",
       "      <td>0.394352</td>\n",
       "      <td>0.257619</td>\n",
       "      <td>0.126168</td>\n",
       "      <td>0.052011</td>\n",
       "      <td>0.023568</td>\n",
       "      <td>1</td>\n",
       "    </tr>\n",
       "    <tr>\n",
       "      <th>50s</th>\n",
       "      <td>0.014071</td>\n",
       "      <td>0.092076</td>\n",
       "      <td>0.270057</td>\n",
       "      <td>0.274994</td>\n",
       "      <td>0.190817</td>\n",
       "      <td>0.100222</td>\n",
       "      <td>0.057764</td>\n",
       "      <td>1</td>\n",
       "    </tr>\n",
       "  </tbody>\n",
       "</table>\n",
       "</div>"
      ],
      "text/plain": [
       "familysize         0         1         2         3         4         5  \\\n",
       "age_group                                                                \n",
       "10s         0.029783  0.149127  0.422729  0.252654  0.098397  0.034485   \n",
       "20s         0.033194  0.166475  0.412631  0.241270  0.097356  0.035781   \n",
       "30s         0.024653  0.145582  0.416115  0.255612  0.100817  0.041261   \n",
       "40s         0.018285  0.127997  0.394352  0.257619  0.126168  0.052011   \n",
       "50s         0.014071  0.092076  0.270057  0.274994  0.190817  0.100222   \n",
       "\n",
       "familysize         6  Total  \n",
       "age_group                    \n",
       "10s         0.012825      1  \n",
       "20s         0.013292      1  \n",
       "30s         0.015960      1  \n",
       "40s         0.023568      1  \n",
       "50s         0.057764      1  "
      ]
     },
     "execution_count": 131,
     "metadata": {},
     "output_type": "execute_result"
    }
   ],
   "source": [
    "pivot = pd.pivot_table(data = data, index = \"age_group\", columns = \"familysize\", aggfunc = \"size\", fill_value = 0)\n",
    "pivot = pivot.loc[:, [0, 1, 2, 3, 4, 5, 6]]\n",
    "pivot['Total'] = pivot.sum(axis=1)\n",
    "for i in range(1, 6):\n",
    "    pivot.loc[f'{i}0s'] = pivot.loc[f'{i}0s']/pivot['Total'][f'{i}0s']\n",
    "pivot"
   ]
  },
  {
   "cell_type": "code",
   "execution_count": 132,
   "metadata": {},
   "outputs": [
    {
     "data": {
      "text/plain": [
       "Text(0.5, 1.0, 'familysize')"
      ]
     },
     "execution_count": 132,
     "metadata": {},
     "output_type": "execute_result"
    },
    {
     "data": {
      "image/png": "[encoded data removed]",
      "text/plain": [
       "<Figure size 720x432 with 1 Axes>"
      ]
     },
     "metadata": {
      "needs_background": "light"
     },
     "output_type": "display_data"
    }
   ],
   "source": [
    "pivot.drop(['Total'], axis=1, inplace=True)\n",
    "pivot.plot(kind='barh', figsize=(10,6), stacked=True, alpha=0.7)\n",
    "plt.xlabel('Percentage')\n",
    "plt.ylabel('Age Group')\n",
    "plt.title('familysize')"
   ]
  },
  {
   "cell_type": "markdown",
   "metadata": {},
   "source": [
    "* 연령이 높을수록 형제자매의 수가 많아지는 경향을 보인다.\n",
    "* 그렇다면, 형제자매의 수와 부모를 생각하는 마음 사이에는 인과관계가 있을까?"
   ]
  },
  {
   "cell_type": "code",
   "execution_count": 137,
   "metadata": {},
   "outputs": [
    {
     "data": {
      "text/html": [
       "<div>\n",
       "<style scoped>\n",
       "    .dataframe tbody tr th:only-of-type {\n",
       "        vertical-align: middle;\n",
       "    }\n",
       "\n",
       "    .dataframe tbody tr th {\n",
       "        vertical-align: top;\n",
       "    }\n",
       "\n",
       "    .dataframe thead th {\n",
       "        text-align: right;\n",
       "    }\n",
       "</style>\n",
       "<table border=\"1\" class=\"dataframe\">\n",
       "  <thead>\n",
       "    <tr style=\"text-align: right;\">\n",
       "      <th>familysize</th>\n",
       "      <th>0</th>\n",
       "      <th>1</th>\n",
       "      <th>2</th>\n",
       "      <th>3</th>\n",
       "      <th>4</th>\n",
       "      <th>5</th>\n",
       "      <th>6</th>\n",
       "      <th>Total</th>\n",
       "    </tr>\n",
       "    <tr>\n",
       "      <th>QhA</th>\n",
       "      <th></th>\n",
       "      <th></th>\n",
       "      <th></th>\n",
       "      <th></th>\n",
       "      <th></th>\n",
       "      <th></th>\n",
       "      <th></th>\n",
       "      <th></th>\n",
       "    </tr>\n",
       "  </thead>\n",
       "  <tbody>\n",
       "    <tr>\n",
       "      <th>1.0</th>\n",
       "      <td>0.022728</td>\n",
       "      <td>0.131518</td>\n",
       "      <td>0.399703</td>\n",
       "      <td>0.261599</td>\n",
       "      <td>0.117158</td>\n",
       "      <td>0.046843</td>\n",
       "      <td>0.020451</td>\n",
       "      <td>1</td>\n",
       "    </tr>\n",
       "    <tr>\n",
       "      <th>2.0</th>\n",
       "      <td>0.026555</td>\n",
       "      <td>0.153934</td>\n",
       "      <td>0.408691</td>\n",
       "      <td>0.248083</td>\n",
       "      <td>0.108208</td>\n",
       "      <td>0.038341</td>\n",
       "      <td>0.016189</td>\n",
       "      <td>1</td>\n",
       "    </tr>\n",
       "    <tr>\n",
       "      <th>3.0</th>\n",
       "      <td>0.032941</td>\n",
       "      <td>0.150924</td>\n",
       "      <td>0.406723</td>\n",
       "      <td>0.250588</td>\n",
       "      <td>0.106723</td>\n",
       "      <td>0.037311</td>\n",
       "      <td>0.014790</td>\n",
       "      <td>1</td>\n",
       "    </tr>\n",
       "    <tr>\n",
       "      <th>4.0</th>\n",
       "      <td>0.026890</td>\n",
       "      <td>0.166751</td>\n",
       "      <td>0.397599</td>\n",
       "      <td>0.247083</td>\n",
       "      <td>0.100288</td>\n",
       "      <td>0.043633</td>\n",
       "      <td>0.017757</td>\n",
       "      <td>1</td>\n",
       "    </tr>\n",
       "    <tr>\n",
       "      <th>5.0</th>\n",
       "      <td>0.039038</td>\n",
       "      <td>0.164648</td>\n",
       "      <td>0.397072</td>\n",
       "      <td>0.230255</td>\n",
       "      <td>0.099584</td>\n",
       "      <td>0.048075</td>\n",
       "      <td>0.021327</td>\n",
       "      <td>1</td>\n",
       "    </tr>\n",
       "  </tbody>\n",
       "</table>\n",
       "</div>"
      ],
      "text/plain": [
       "familysize         0         1         2         3         4         5  \\\n",
       "QhA                                                                      \n",
       "1.0         0.022728  0.131518  0.399703  0.261599  0.117158  0.046843   \n",
       "2.0         0.026555  0.153934  0.408691  0.248083  0.108208  0.038341   \n",
       "3.0         0.032941  0.150924  0.406723  0.250588  0.106723  0.037311   \n",
       "4.0         0.026890  0.166751  0.397599  0.247083  0.100288  0.043633   \n",
       "5.0         0.039038  0.164648  0.397072  0.230255  0.099584  0.048075   \n",
       "\n",
       "familysize         6  Total  \n",
       "QhA                          \n",
       "1.0         0.020451      1  \n",
       "2.0         0.016189      1  \n",
       "3.0         0.014790      1  \n",
       "4.0         0.017757      1  \n",
       "5.0         0.021327      1  "
      ]
     },
     "execution_count": 137,
     "metadata": {},
     "output_type": "execute_result"
    }
   ],
   "source": [
    "pivot = pd.pivot_table(data = data, index = \"QhA\", columns = \"familysize\", aggfunc = \"size\", fill_value = 0)\n",
    "pivot = pivot.loc[:, [0, 1, 2, 3, 4, 5, 6]]\n",
    "pivot['Total'] = pivot.sum(axis=1)\n",
    "pivot.loc[1.0] = pivot.loc[1.0]/pivot['Total'][1.0]\n",
    "pivot.loc[2.0] = pivot.loc[2.0]/pivot['Total'][2.0]\n",
    "pivot.loc[3.0] = pivot.loc[3.0]/pivot['Total'][3.0]\n",
    "pivot.loc[4.0] = pivot.loc[4.0]/pivot['Total'][4.0]\n",
    "pivot.loc[5.0] = pivot.loc[5.0]/pivot['Total'][5.0]\n",
    "pivot"
   ]
  },
  {
   "cell_type": "code",
   "execution_count": 138,
   "metadata": {},
   "outputs": [
    {
     "data": {
      "text/plain": [
       "Text(0.5, 1.0, 'familysize')"
      ]
     },
     "execution_count": 138,
     "metadata": {},
     "output_type": "execute_result"
    },
    {
     "data": {
      "image/png": "[encoded data removed]",
      "text/plain": [
       "<Figure size 720x432 with 1 Axes>"
      ]
     },
     "metadata": {
      "needs_background": "light"
     },
     "output_type": "display_data"
    }
   ],
   "source": [
    "pivot.drop(['Total'], axis=1, inplace=True)\n",
    "pivot.plot(kind='barh', figsize=(10,6), stacked=True, alpha=0.7)\n",
    "plt.xlabel('Percentage')\n",
    "plt.ylabel('QhA')\n",
    "plt.title('familysize')"
   ]
  },
  {
   "cell_type": "markdown",
   "metadata": {},
   "source": [
    "* 형제자매의 수와, 부모를 생각하는 마음 사이에 유의미한 수준의 인과관계는 없는 것으로 보인다."
   ]
  },
  {
   "cell_type": "markdown",
   "metadata": {},
   "source": [
    "#### 1-3) 결혼 유무가 영향을 미쳤을까?"
   ]
  },
  {
   "cell_type": "code",
   "execution_count": 139,
   "metadata": {},
   "outputs": [
    {
     "data": {
      "text/html": [
       "<div>\n",
       "<style scoped>\n",
       "    .dataframe tbody tr th:only-of-type {\n",
       "        vertical-align: middle;\n",
       "    }\n",
       "\n",
       "    .dataframe tbody tr th {\n",
       "        vertical-align: top;\n",
       "    }\n",
       "\n",
       "    .dataframe thead th {\n",
       "        text-align: right;\n",
       "    }\n",
       "</style>\n",
       "<table border=\"1\" class=\"dataframe\">\n",
       "  <thead>\n",
       "    <tr style=\"text-align: right;\">\n",
       "      <th>married</th>\n",
       "      <th>0</th>\n",
       "      <th>1</th>\n",
       "      <th>2</th>\n",
       "      <th>3</th>\n",
       "      <th>Total</th>\n",
       "    </tr>\n",
       "    <tr>\n",
       "      <th>age_group</th>\n",
       "      <th></th>\n",
       "      <th></th>\n",
       "      <th></th>\n",
       "      <th></th>\n",
       "      <th></th>\n",
       "    </tr>\n",
       "  </thead>\n",
       "  <tbody>\n",
       "    <tr>\n",
       "      <th>10s</th>\n",
       "      <td>0.002814</td>\n",
       "      <td>0.990151</td>\n",
       "      <td>0.005135</td>\n",
       "      <td>0.001899</td>\n",
       "      <td>1</td>\n",
       "    </tr>\n",
       "    <tr>\n",
       "      <th>20s</th>\n",
       "      <td>0.001346</td>\n",
       "      <td>0.872803</td>\n",
       "      <td>0.105938</td>\n",
       "      <td>0.019912</td>\n",
       "      <td>1</td>\n",
       "    </tr>\n",
       "    <tr>\n",
       "      <th>30s</th>\n",
       "      <td>0.001276</td>\n",
       "      <td>0.451633</td>\n",
       "      <td>0.420623</td>\n",
       "      <td>0.126468</td>\n",
       "      <td>1</td>\n",
       "    </tr>\n",
       "    <tr>\n",
       "      <th>40s</th>\n",
       "      <td>0.003168</td>\n",
       "      <td>0.215007</td>\n",
       "      <td>0.546822</td>\n",
       "      <td>0.235003</td>\n",
       "      <td>1</td>\n",
       "    </tr>\n",
       "    <tr>\n",
       "      <th>50s</th>\n",
       "      <td>0.001853</td>\n",
       "      <td>0.123437</td>\n",
       "      <td>0.563455</td>\n",
       "      <td>0.311255</td>\n",
       "      <td>1</td>\n",
       "    </tr>\n",
       "  </tbody>\n",
       "</table>\n",
       "</div>"
      ],
      "text/plain": [
       "married           0         1         2         3  Total\n",
       "age_group                                               \n",
       "10s        0.002814  0.990151  0.005135  0.001899      1\n",
       "20s        0.001346  0.872803  0.105938  0.019912      1\n",
       "30s        0.001276  0.451633  0.420623  0.126468      1\n",
       "40s        0.003168  0.215007  0.546822  0.235003      1\n",
       "50s        0.001853  0.123437  0.563455  0.311255      1"
      ]
     },
     "execution_count": 139,
     "metadata": {},
     "output_type": "execute_result"
    }
   ],
   "source": [
    "pivot = pd.pivot_table(data = data, index = \"age_group\", columns = \"married\", aggfunc = \"size\", fill_value = 0)\n",
    "pivot['Total'] = pivot.sum(axis=1)\n",
    "for i in range(1, 6):\n",
    "    pivot.loc[f'{i}0s'] = pivot.loc[f'{i}0s']/pivot['Total'][f'{i}0s']\n",
    "pivot"
   ]
  },
  {
   "cell_type": "code",
   "execution_count": 140,
   "metadata": {},
   "outputs": [
    {
     "data": {
      "text/plain": [
       "Text(0.5, 1.0, 'married')"
      ]
     },
     "execution_count": 140,
     "metadata": {},
     "output_type": "execute_result"
    },
    {
     "data": {
      "image/png": "[encoded data removed]",
      "text/plain": [
       "<Figure size 720x432 with 1 Axes>"
      ]
     },
     "metadata": {
      "needs_background": "light"
     },
     "output_type": "display_data"
    }
   ],
   "source": [
    "pivot.drop(['Total'], axis=1, inplace=True)\n",
    "pivot.plot(kind='barh', figsize=(10,6), stacked=True, alpha=0.7)\n",
    "plt.xlabel('Percentage')\n",
    "plt.ylabel('Age Group')\n",
    "plt.title('married')"
   ]
  },
  {
   "cell_type": "markdown",
   "metadata": {},
   "source": [
    "* 나이가 들 수록 혼인률과 이혼률이 높아진다.\n",
    "* 혼인률과 이혼률이 부모를 생각하는 마음에 영향을 줄 수 있을까?"
   ]
  },
  {
   "cell_type": "code",
   "execution_count": 141,
   "metadata": {},
   "outputs": [
    {
     "data": {
      "text/html": [
       "<div>\n",
       "<style scoped>\n",
       "    .dataframe tbody tr th:only-of-type {\n",
       "        vertical-align: middle;\n",
       "    }\n",
       "\n",
       "    .dataframe tbody tr th {\n",
       "        vertical-align: top;\n",
       "    }\n",
       "\n",
       "    .dataframe thead th {\n",
       "        text-align: right;\n",
       "    }\n",
       "</style>\n",
       "<table border=\"1\" class=\"dataframe\">\n",
       "  <thead>\n",
       "    <tr style=\"text-align: right;\">\n",
       "      <th>married</th>\n",
       "      <th>0</th>\n",
       "      <th>1</th>\n",
       "      <th>2</th>\n",
       "      <th>3</th>\n",
       "      <th>Total</th>\n",
       "    </tr>\n",
       "    <tr>\n",
       "      <th>QhA</th>\n",
       "      <th></th>\n",
       "      <th></th>\n",
       "      <th></th>\n",
       "      <th></th>\n",
       "      <th></th>\n",
       "    </tr>\n",
       "  </thead>\n",
       "  <tbody>\n",
       "    <tr>\n",
       "      <th>1.0</th>\n",
       "      <td>0.001940</td>\n",
       "      <td>0.647447</td>\n",
       "      <td>0.250521</td>\n",
       "      <td>0.100092</td>\n",
       "      <td>1</td>\n",
       "    </tr>\n",
       "    <tr>\n",
       "      <th>2.0</th>\n",
       "      <td>0.001674</td>\n",
       "      <td>0.727717</td>\n",
       "      <td>0.200028</td>\n",
       "      <td>0.070582</td>\n",
       "      <td>1</td>\n",
       "    </tr>\n",
       "    <tr>\n",
       "      <th>3.0</th>\n",
       "      <td>0.002974</td>\n",
       "      <td>0.749876</td>\n",
       "      <td>0.181067</td>\n",
       "      <td>0.066083</td>\n",
       "      <td>1</td>\n",
       "    </tr>\n",
       "    <tr>\n",
       "      <th>4.0</th>\n",
       "      <td>0.000996</td>\n",
       "      <td>0.731485</td>\n",
       "      <td>0.200930</td>\n",
       "      <td>0.066589</td>\n",
       "      <td>1</td>\n",
       "    </tr>\n",
       "    <tr>\n",
       "      <th>5.0</th>\n",
       "      <td>0.003000</td>\n",
       "      <td>0.712546</td>\n",
       "      <td>0.203459</td>\n",
       "      <td>0.080995</td>\n",
       "      <td>1</td>\n",
       "    </tr>\n",
       "  </tbody>\n",
       "</table>\n",
       "</div>"
      ],
      "text/plain": [
       "married         0         1         2         3  Total\n",
       "QhA                                                   \n",
       "1.0      0.001940  0.647447  0.250521  0.100092      1\n",
       "2.0      0.001674  0.727717  0.200028  0.070582      1\n",
       "3.0      0.002974  0.749876  0.181067  0.066083      1\n",
       "4.0      0.000996  0.731485  0.200930  0.066589      1\n",
       "5.0      0.003000  0.712546  0.203459  0.080995      1"
      ]
     },
     "execution_count": 141,
     "metadata": {},
     "output_type": "execute_result"
    }
   ],
   "source": [
    "pivot = pd.pivot_table(data = data, index = \"QhA\", columns = \"married\", aggfunc = \"size\", fill_value = 0)\n",
    "pivot['Total'] = pivot.sum(axis=1)\n",
    "pivot.loc[1.0] = pivot.loc[1.0]/pivot['Total'][1.0]\n",
    "pivot.loc[2.0] = pivot.loc[2.0]/pivot['Total'][2.0]\n",
    "pivot.loc[3.0] = pivot.loc[3.0]/pivot['Total'][3.0]\n",
    "pivot.loc[4.0] = pivot.loc[4.0]/pivot['Total'][4.0]\n",
    "pivot.loc[5.0] = pivot.loc[5.0]/pivot['Total'][5.0]\n",
    "pivot"
   ]
  },
  {
   "cell_type": "code",
   "execution_count": 142,
   "metadata": {},
   "outputs": [
    {
     "data": {
      "text/plain": [
       "Text(0.5, 1.0, 'married')"
      ]
     },
     "execution_count": 142,
     "metadata": {},
     "output_type": "execute_result"
    },
    {
     "data": {
      "image/png": "[encoded data removed]",
      "text/plain": [
       "<Figure size 720x432 with 1 Axes>"
      ]
     },
     "metadata": {
      "needs_background": "light"
     },
     "output_type": "display_data"
    }
   ],
   "source": [
    "pivot.drop(['Total'], axis=1, inplace=True)\n",
    "pivot.plot(kind='barh', figsize=(10,6), stacked=True, alpha=0.7)\n",
    "plt.xlabel('Percentage')\n",
    "plt.ylabel('QhA')\n",
    "plt.title('married')"
   ]
  },
  {
   "cell_type": "markdown",
   "metadata": {},
   "source": [
    "* 결혼/이혼 여부와 부모를 생각하는 마음 사이에 유의미한 인과관계는 없는 것으로 보인다."
   ]
  },
  {
   "cell_type": "markdown",
   "metadata": {},
   "source": [
    "#### 1-4) 유년기 거주 지역이 영향을 미쳤을까?"
   ]
  },
  {
   "cell_type": "code",
   "execution_count": 143,
   "metadata": {},
   "outputs": [
    {
     "data": {
      "text/html": [
       "<div>\n",
       "<style scoped>\n",
       "    .dataframe tbody tr th:only-of-type {\n",
       "        vertical-align: middle;\n",
       "    }\n",
       "\n",
       "    .dataframe tbody tr th {\n",
       "        vertical-align: top;\n",
       "    }\n",
       "\n",
       "    .dataframe thead th {\n",
       "        text-align: right;\n",
       "    }\n",
       "</style>\n",
       "<table border=\"1\" class=\"dataframe\">\n",
       "  <thead>\n",
       "    <tr style=\"text-align: right;\">\n",
       "      <th>urban</th>\n",
       "      <th>0</th>\n",
       "      <th>1</th>\n",
       "      <th>2</th>\n",
       "      <th>3</th>\n",
       "      <th>Total</th>\n",
       "    </tr>\n",
       "    <tr>\n",
       "      <th>age_group</th>\n",
       "      <th></th>\n",
       "      <th></th>\n",
       "      <th></th>\n",
       "      <th></th>\n",
       "      <th></th>\n",
       "    </tr>\n",
       "  </thead>\n",
       "  <tbody>\n",
       "    <tr>\n",
       "      <th>10s</th>\n",
       "      <td>0.006191</td>\n",
       "      <td>0.150827</td>\n",
       "      <td>0.441505</td>\n",
       "      <td>0.401477</td>\n",
       "      <td>1</td>\n",
       "    </tr>\n",
       "    <tr>\n",
       "      <th>20s</th>\n",
       "      <td>0.005527</td>\n",
       "      <td>0.198484</td>\n",
       "      <td>0.392432</td>\n",
       "      <td>0.403557</td>\n",
       "      <td>1</td>\n",
       "    </tr>\n",
       "    <tr>\n",
       "      <th>30s</th>\n",
       "      <td>0.007019</td>\n",
       "      <td>0.235069</td>\n",
       "      <td>0.377361</td>\n",
       "      <td>0.380551</td>\n",
       "      <td>1</td>\n",
       "    </tr>\n",
       "    <tr>\n",
       "      <th>40s</th>\n",
       "      <td>0.009503</td>\n",
       "      <td>0.236785</td>\n",
       "      <td>0.387646</td>\n",
       "      <td>0.366066</td>\n",
       "      <td>1</td>\n",
       "    </tr>\n",
       "    <tr>\n",
       "      <th>50s</th>\n",
       "      <td>0.012274</td>\n",
       "      <td>0.214451</td>\n",
       "      <td>0.418018</td>\n",
       "      <td>0.355257</td>\n",
       "      <td>1</td>\n",
       "    </tr>\n",
       "  </tbody>\n",
       "</table>\n",
       "</div>"
      ],
      "text/plain": [
       "urban             0         1         2         3  Total\n",
       "age_group                                               \n",
       "10s        0.006191  0.150827  0.441505  0.401477      1\n",
       "20s        0.005527  0.198484  0.392432  0.403557      1\n",
       "30s        0.007019  0.235069  0.377361  0.380551      1\n",
       "40s        0.009503  0.236785  0.387646  0.366066      1\n",
       "50s        0.012274  0.214451  0.418018  0.355257      1"
      ]
     },
     "execution_count": 143,
     "metadata": {},
     "output_type": "execute_result"
    }
   ],
   "source": [
    "pivot = pd.pivot_table(data = data, index = \"age_group\", columns = \"urban\", aggfunc = \"size\", fill_value = 0)\n",
    "pivot['Total'] = pivot.sum(axis=1)\n",
    "for i in range(1, 6):\n",
    "    pivot.loc[f'{i}0s'] = pivot.loc[f'{i}0s']/pivot['Total'][f'{i}0s']\n",
    "pivot"
   ]
  },
  {
   "cell_type": "code",
   "execution_count": 144,
   "metadata": {},
   "outputs": [
    {
     "data": {
      "text/plain": [
       "Text(0.5, 1.0, 'urban')"
      ]
     },
     "execution_count": 144,
     "metadata": {},
     "output_type": "execute_result"
    },
    {
     "data": {
      "image/png": "[encoded data removed]",
      "text/plain": [
       "<Figure size 720x432 with 1 Axes>"
      ]
     },
     "metadata": {
      "needs_background": "light"
     },
     "output_type": "display_data"
    }
   ],
   "source": [
    "# pivot.drop(['Total'], axis=1, inplace=True)\n",
    "pivot.plot(kind='barh', figsize=(10,6), stacked=True, alpha=0.7)\n",
    "plt.xlabel('Percentage')\n",
    "plt.ylabel('Age Group')\n",
    "plt.title('urban')"
   ]
  },
  {
   "cell_type": "markdown",
   "metadata": {},
   "source": [
    "* 유년기 거주 지역과 부모를 생각하는 마음 사이에 유의미한 인과관계는 없었다."
   ]
  },
  {
   "cell_type": "markdown",
   "metadata": {},
   "source": [
    "#### 1-5) 미국에서 모국어가 영어인 것이 영향을 주었을까?\n",
    "* 부모에 대한 마음과 사용하는 언어 간에는 인과성이 없을 것으로 생각"
   ]
  },
  {
   "cell_type": "markdown",
   "metadata": {},
   "source": [
    "#### 1-6) 성별이 영향을 주었을까?\n",
    "* 연령에 따라 성별 비율이 유의미하게 다르다고 생각하지 않음"
   ]
  },
  {
   "cell_type": "markdown",
   "metadata": {},
   "source": [
    "#### 1-7) 오른손잡이/왼손잡이가 영향을 주었을까?"
   ]
  },
  {
   "cell_type": "code",
   "execution_count": 145,
   "metadata": {},
   "outputs": [
    {
     "data": {
      "text/html": [
       "<div>\n",
       "<style scoped>\n",
       "    .dataframe tbody tr th:only-of-type {\n",
       "        vertical-align: middle;\n",
       "    }\n",
       "\n",
       "    .dataframe tbody tr th {\n",
       "        vertical-align: top;\n",
       "    }\n",
       "\n",
       "    .dataframe thead th {\n",
       "        text-align: right;\n",
       "    }\n",
       "</style>\n",
       "<table border=\"1\" class=\"dataframe\">\n",
       "  <thead>\n",
       "    <tr style=\"text-align: right;\">\n",
       "      <th>hand</th>\n",
       "      <th>0</th>\n",
       "      <th>1</th>\n",
       "      <th>2</th>\n",
       "      <th>3</th>\n",
       "      <th>Total</th>\n",
       "    </tr>\n",
       "    <tr>\n",
       "      <th>age_group</th>\n",
       "      <th></th>\n",
       "      <th></th>\n",
       "      <th></th>\n",
       "      <th></th>\n",
       "      <th></th>\n",
       "    </tr>\n",
       "  </thead>\n",
       "  <tbody>\n",
       "    <tr>\n",
       "      <th>10s</th>\n",
       "      <td>0.002955</td>\n",
       "      <td>0.845234</td>\n",
       "      <td>0.106226</td>\n",
       "      <td>0.045586</td>\n",
       "      <td>1</td>\n",
       "    </tr>\n",
       "    <tr>\n",
       "      <th>20s</th>\n",
       "      <td>0.003968</td>\n",
       "      <td>0.864016</td>\n",
       "      <td>0.100411</td>\n",
       "      <td>0.031604</td>\n",
       "      <td>1</td>\n",
       "    </tr>\n",
       "    <tr>\n",
       "      <th>30s</th>\n",
       "      <td>0.002808</td>\n",
       "      <td>0.863451</td>\n",
       "      <td>0.103241</td>\n",
       "      <td>0.030500</td>\n",
       "      <td>1</td>\n",
       "    </tr>\n",
       "    <tr>\n",
       "      <th>40s</th>\n",
       "      <td>0.002970</td>\n",
       "      <td>0.861612</td>\n",
       "      <td>0.101960</td>\n",
       "      <td>0.033459</td>\n",
       "      <td>1</td>\n",
       "    </tr>\n",
       "    <tr>\n",
       "      <th>50s</th>\n",
       "      <td>0.006021</td>\n",
       "      <td>0.864289</td>\n",
       "      <td>0.102131</td>\n",
       "      <td>0.027559</td>\n",
       "      <td>1</td>\n",
       "    </tr>\n",
       "  </tbody>\n",
       "</table>\n",
       "</div>"
      ],
      "text/plain": [
       "hand              0         1         2         3  Total\n",
       "age_group                                               \n",
       "10s        0.002955  0.845234  0.106226  0.045586      1\n",
       "20s        0.003968  0.864016  0.100411  0.031604      1\n",
       "30s        0.002808  0.863451  0.103241  0.030500      1\n",
       "40s        0.002970  0.861612  0.101960  0.033459      1\n",
       "50s        0.006021  0.864289  0.102131  0.027559      1"
      ]
     },
     "execution_count": 145,
     "metadata": {},
     "output_type": "execute_result"
    }
   ],
   "source": [
    "pivot = pd.pivot_table(data = data, index = \"age_group\", columns = \"hand\", aggfunc = \"size\", fill_value = 0)\n",
    "pivot['Total'] = pivot.sum(axis=1)\n",
    "for i in range(1, 6):\n",
    "    pivot.loc[f'{i}0s'] = pivot.loc[f'{i}0s']/pivot['Total'][f'{i}0s']\n",
    "pivot"
   ]
  },
  {
   "cell_type": "code",
   "execution_count": 146,
   "metadata": {},
   "outputs": [
    {
     "data": {
      "text/plain": [
       "Text(0.5, 1.0, 'hand')"
      ]
     },
     "execution_count": 146,
     "metadata": {},
     "output_type": "execute_result"
    },
    {
     "data": {
      "image/png": "[encoded data removed]",
      "text/plain": [
       "<Figure size 720x432 with 1 Axes>"
      ]
     },
     "metadata": {
      "needs_background": "light"
     },
     "output_type": "display_data"
    }
   ],
   "source": [
    "pivot.drop(['Total'], axis=1, inplace=True)\n",
    "pivot.plot(kind='barh', figsize=(10,6), stacked=True, alpha=0.7)\n",
    "plt.xlabel('Percentage')\n",
    "plt.ylabel('Age Group')\n",
    "plt.title('hand')"
   ]
  },
  {
   "cell_type": "markdown",
   "metadata": {},
   "source": [
    "* 주로 사용하는 손 또한 유의미한 연관성을 찾을 수 없다."
   ]
  },
  {
   "cell_type": "markdown",
   "metadata": {},
   "source": [
    "---"
   ]
  },
  {
   "cell_type": "markdown",
   "metadata": {},
   "source": [
    "## 1번문항 분석 결과\n",
    "* 유의미한 인과관계를 보이는 요인을 찾을 수 없었음\n",
    "* 다른 문항에서도 유의미한 결과가 나올 것 같지 않음\n",
    "* 다른 문항(QjA, tp05, tp06)에 대한 분석 여부는 추후 회의 후 판단해야 할 것으로 보임"
   ]
  },
  {
   "cell_type": "markdown",
   "metadata": {},
   "source": [
    "---"
   ]
  },
  {
   "cell_type": "markdown",
   "metadata": {},
   "source": [
    "## To do\n",
    "TBD"
   ]
  }
 ],
 "metadata": {
  "kernelspec": {
   "display_name": "Python 3.8.13 ('dsl')",
   "language": "python",
   "name": "python3"
  },
  "language_info": {
   "codemirror_mode": {
    "name": "ipython",
    "version": 3
   },
   "file_extension": ".py",
   "mimetype": "text/x-python",
   "name": "python",
   "nbconvert_exporter": "python",
   "pygments_lexer": "ipython3",
   "version": "3.8.13"
  },
  "orig_nbformat": 4,
  "vscode": {
   "interpreter": {
    "hash": "c63b82bda4a59cf6ca173a5561c11d395741e2dc788a905fb35d4e95d98277a6"
   }
  }
 },
 "nbformat": 4,
 "nbformat_minor": 2
}
