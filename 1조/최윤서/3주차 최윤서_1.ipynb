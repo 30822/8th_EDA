{
 "cells": [
  {
   "cell_type": "markdown",
   "id": "fd8629a8",
   "metadata": {},
   "source": [
    "### 목표: 2,30대의 심리 특성 알아보기(마키아벨리, 성격유형)\n",
    "- 10/20/30/40/50~\n",
    "- 다른 연령대에 비해 두드러지는 특성 찾아보기"
   ]
  },
  {
   "cell_type": "code",
   "execution_count": 1,
   "id": "6fd7334b",
   "metadata": {},
   "outputs": [],
   "source": [
    "import numpy as np\n",
    "import pandas as pd\n",
    "import matplotlib.pyplot as plt\n",
    "import seaborn as sns"
   ]
  },
  {
   "cell_type": "code",
   "execution_count": 7,
   "id": "a43bbc7d",
   "metadata": {},
   "outputs": [
    {
     "data": {
      "text/html": [
       "<div>\n",
       "<style scoped>\n",
       "    .dataframe tbody tr th:only-of-type {\n",
       "        vertical-align: middle;\n",
       "    }\n",
       "\n",
       "    .dataframe tbody tr th {\n",
       "        vertical-align: top;\n",
       "    }\n",
       "\n",
       "    .dataframe thead th {\n",
       "        text-align: right;\n",
       "    }\n",
       "</style>\n",
       "<table border=\"1\" class=\"dataframe\">\n",
       "  <thead>\n",
       "    <tr style=\"text-align: right;\">\n",
       "      <th></th>\n",
       "      <th>index</th>\n",
       "      <th>QaA</th>\n",
       "      <th>QaE</th>\n",
       "      <th>QbA</th>\n",
       "      <th>QbE</th>\n",
       "      <th>QcA</th>\n",
       "      <th>QcE</th>\n",
       "      <th>QdA</th>\n",
       "      <th>QdE</th>\n",
       "      <th>QeA</th>\n",
       "      <th>...</th>\n",
       "      <th>wr_04</th>\n",
       "      <th>wr_05</th>\n",
       "      <th>wr_06</th>\n",
       "      <th>wr_07</th>\n",
       "      <th>wr_08</th>\n",
       "      <th>wr_09</th>\n",
       "      <th>wr_10</th>\n",
       "      <th>wr_11</th>\n",
       "      <th>wr_12</th>\n",
       "      <th>wr_13</th>\n",
       "    </tr>\n",
       "  </thead>\n",
       "  <tbody>\n",
       "    <tr>\n",
       "      <th>0</th>\n",
       "      <td>0</td>\n",
       "      <td>3.0</td>\n",
       "      <td>363</td>\n",
       "      <td>4.0</td>\n",
       "      <td>1370</td>\n",
       "      <td>5.0</td>\n",
       "      <td>997</td>\n",
       "      <td>1.0</td>\n",
       "      <td>1024</td>\n",
       "      <td>2.0</td>\n",
       "      <td>...</td>\n",
       "      <td>0</td>\n",
       "      <td>1</td>\n",
       "      <td>0</td>\n",
       "      <td>1</td>\n",
       "      <td>1</td>\n",
       "      <td>0</td>\n",
       "      <td>1</td>\n",
       "      <td>0</td>\n",
       "      <td>1</td>\n",
       "      <td>1</td>\n",
       "    </tr>\n",
       "    <tr>\n",
       "      <th>1</th>\n",
       "      <td>1</td>\n",
       "      <td>5.0</td>\n",
       "      <td>647</td>\n",
       "      <td>5.0</td>\n",
       "      <td>1313</td>\n",
       "      <td>3.0</td>\n",
       "      <td>3387</td>\n",
       "      <td>5.0</td>\n",
       "      <td>2969</td>\n",
       "      <td>1.0</td>\n",
       "      <td>...</td>\n",
       "      <td>1</td>\n",
       "      <td>1</td>\n",
       "      <td>0</td>\n",
       "      <td>1</td>\n",
       "      <td>1</td>\n",
       "      <td>0</td>\n",
       "      <td>1</td>\n",
       "      <td>0</td>\n",
       "      <td>1</td>\n",
       "      <td>1</td>\n",
       "    </tr>\n",
       "    <tr>\n",
       "      <th>2</th>\n",
       "      <td>2</td>\n",
       "      <td>4.0</td>\n",
       "      <td>1623</td>\n",
       "      <td>1.0</td>\n",
       "      <td>1480</td>\n",
       "      <td>1.0</td>\n",
       "      <td>1021</td>\n",
       "      <td>4.0</td>\n",
       "      <td>3374</td>\n",
       "      <td>5.0</td>\n",
       "      <td>...</td>\n",
       "      <td>1</td>\n",
       "      <td>1</td>\n",
       "      <td>0</td>\n",
       "      <td>1</td>\n",
       "      <td>1</td>\n",
       "      <td>1</td>\n",
       "      <td>1</td>\n",
       "      <td>0</td>\n",
       "      <td>1</td>\n",
       "      <td>1</td>\n",
       "    </tr>\n",
       "  </tbody>\n",
       "</table>\n",
       "<p>3 rows × 78 columns</p>\n",
       "</div>"
      ],
      "text/plain": [
       "   index  QaA   QaE  QbA   QbE  QcA   QcE  QdA   QdE  QeA  ...  wr_04  wr_05  \\\n",
       "0      0  3.0   363  4.0  1370  5.0   997  1.0  1024  2.0  ...      0      1   \n",
       "1      1  5.0   647  5.0  1313  3.0  3387  5.0  2969  1.0  ...      1      1   \n",
       "2      2  4.0  1623  1.0  1480  1.0  1021  4.0  3374  5.0  ...      1      1   \n",
       "\n",
       "   wr_06  wr_07  wr_08  wr_09  wr_10  wr_11  wr_12  wr_13  \n",
       "0      0      1      1      0      1      0      1      1  \n",
       "1      0      1      1      0      1      0      1      1  \n",
       "2      0      1      1      1      1      0      1      1  \n",
       "\n",
       "[3 rows x 78 columns]"
      ]
     },
     "execution_count": 7,
     "metadata": {},
     "output_type": "execute_result"
    }
   ],
   "source": [
    "df=pd.read_csv('data.csv')\n",
    "df.head(3)"
   ]
  },
  {
   "cell_type": "code",
   "execution_count": 9,
   "id": "18104646",
   "metadata": {},
   "outputs": [
    {
     "data": {
      "text/plain": [
       "<AxesSubplot:xlabel='age_group', ylabel='count'>"
      ]
     },
     "execution_count": 9,
     "metadata": {},
     "output_type": "execute_result"
    },
    {
     "data": {
      "image/png": "[encoded data removed]",
      "text/plain": [
       "<Figure size 432x288 with 1 Axes>"
      ]
     },
     "metadata": {
      "needs_background": "light"
     },
     "output_type": "display_data"
    }
   ],
   "source": [
    "df.age_group=df.age_group.apply(lambda x:'+50s'if x in ['50s','60s','70s'] else x)\n",
    "sns.countplot(x='age_group',data=df,order=['10s','20s','30s','40s','+50s'])"
   ]
  },
  {
   "cell_type": "markdown",
   "id": "0de50298",
   "metadata": {},
   "source": [
    "### Qb: 범죄자와 일반 사람들의 가장 큰 차이점은 범죄자들이 잡힐만큼 멍청하다는 것이다.(V+) "
   ]
  },
  {
   "cell_type": "code",
   "execution_count": 77,
   "id": "fc11b57f",
   "metadata": {},
   "outputs": [
    {
     "data": {
      "text/html": [
       "<div>\n",
       "<style scoped>\n",
       "    .dataframe tbody tr th:only-of-type {\n",
       "        vertical-align: middle;\n",
       "    }\n",
       "\n",
       "    .dataframe tbody tr th {\n",
       "        vertical-align: top;\n",
       "    }\n",
       "\n",
       "    .dataframe thead th {\n",
       "        text-align: right;\n",
       "    }\n",
       "</style>\n",
       "<table border=\"1\" class=\"dataframe\">\n",
       "  <thead>\n",
       "    <tr style=\"text-align: right;\">\n",
       "      <th>age_group</th>\n",
       "      <th>10s</th>\n",
       "      <th>20s</th>\n",
       "      <th>30s</th>\n",
       "      <th>40s</th>\n",
       "      <th>+50s</th>\n",
       "    </tr>\n",
       "    <tr>\n",
       "      <th>QbA</th>\n",
       "      <th></th>\n",
       "      <th></th>\n",
       "      <th></th>\n",
       "      <th></th>\n",
       "      <th></th>\n",
       "    </tr>\n",
       "  </thead>\n",
       "  <tbody>\n",
       "    <tr>\n",
       "      <th>1.0</th>\n",
       "      <td>2753</td>\n",
       "      <td>3854</td>\n",
       "      <td>2639</td>\n",
       "      <td>2044</td>\n",
       "      <td>2014</td>\n",
       "    </tr>\n",
       "    <tr>\n",
       "      <th>2.0</th>\n",
       "      <td>2275</td>\n",
       "      <td>2513</td>\n",
       "      <td>1540</td>\n",
       "      <td>875</td>\n",
       "      <td>604</td>\n",
       "    </tr>\n",
       "    <tr>\n",
       "      <th>3.0</th>\n",
       "      <td>1300</td>\n",
       "      <td>1399</td>\n",
       "      <td>687</td>\n",
       "      <td>391</td>\n",
       "      <td>265</td>\n",
       "    </tr>\n",
       "    <tr>\n",
       "      <th>4.0</th>\n",
       "      <td>3536</td>\n",
       "      <td>3201</td>\n",
       "      <td>1623</td>\n",
       "      <td>1032</td>\n",
       "      <td>682</td>\n",
       "    </tr>\n",
       "    <tr>\n",
       "      <th>5.0</th>\n",
       "      <td>4351</td>\n",
       "      <td>3145</td>\n",
       "      <td>1347</td>\n",
       "      <td>709</td>\n",
       "      <td>518</td>\n",
       "    </tr>\n",
       "    <tr>\n",
       "      <th>All</th>\n",
       "      <td>14215</td>\n",
       "      <td>14112</td>\n",
       "      <td>7836</td>\n",
       "      <td>5051</td>\n",
       "      <td>4083</td>\n",
       "    </tr>\n",
       "  </tbody>\n",
       "</table>\n",
       "</div>"
      ],
      "text/plain": [
       "age_group    10s    20s   30s   40s  +50s\n",
       "QbA                                      \n",
       "1.0         2753   3854  2639  2044  2014\n",
       "2.0         2275   2513  1540   875   604\n",
       "3.0         1300   1399   687   391   265\n",
       "4.0         3536   3201  1623  1032   682\n",
       "5.0         4351   3145  1347   709   518\n",
       "All        14215  14112  7836  5051  4083"
      ]
     },
     "execution_count": 77,
     "metadata": {},
     "output_type": "execute_result"
    }
   ],
   "source": [
    "pivot1=pd.pivot_table(df,values='index',index='QbA',columns='age_group',aggfunc='count',margins=True)\n",
    "pivot1=pivot1.reindex(['10s','20s','30s','40s','+50s'],axis=1)\n",
    "pivot1"
   ]
  },
  {
   "cell_type": "code",
   "execution_count": 78,
   "id": "adf7dd8b",
   "metadata": {},
   "outputs": [
    {
     "data": {
      "text/html": [
       "<div>\n",
       "<style scoped>\n",
       "    .dataframe tbody tr th:only-of-type {\n",
       "        vertical-align: middle;\n",
       "    }\n",
       "\n",
       "    .dataframe tbody tr th {\n",
       "        vertical-align: top;\n",
       "    }\n",
       "\n",
       "    .dataframe thead th {\n",
       "        text-align: right;\n",
       "    }\n",
       "</style>\n",
       "<table border=\"1\" class=\"dataframe\">\n",
       "  <thead>\n",
       "    <tr style=\"text-align: right;\">\n",
       "      <th>age_group</th>\n",
       "      <th>10s</th>\n",
       "      <th>20s</th>\n",
       "      <th>30s</th>\n",
       "      <th>40s</th>\n",
       "      <th>+50s</th>\n",
       "    </tr>\n",
       "    <tr>\n",
       "      <th>QbA</th>\n",
       "      <th></th>\n",
       "      <th></th>\n",
       "      <th></th>\n",
       "      <th></th>\n",
       "      <th></th>\n",
       "    </tr>\n",
       "  </thead>\n",
       "  <tbody>\n",
       "    <tr>\n",
       "      <th>1.0</th>\n",
       "      <td>19.366866</td>\n",
       "      <td>27.310091</td>\n",
       "      <td>33.677897</td>\n",
       "      <td>40.467234</td>\n",
       "      <td>49.326476</td>\n",
       "    </tr>\n",
       "    <tr>\n",
       "      <th>2.0</th>\n",
       "      <td>16.004221</td>\n",
       "      <td>17.807540</td>\n",
       "      <td>19.652884</td>\n",
       "      <td>17.323302</td>\n",
       "      <td>14.793044</td>\n",
       "    </tr>\n",
       "    <tr>\n",
       "      <th>3.0</th>\n",
       "      <td>9.145269</td>\n",
       "      <td>9.913549</td>\n",
       "      <td>8.767228</td>\n",
       "      <td>7.741041</td>\n",
       "      <td>6.490326</td>\n",
       "    </tr>\n",
       "    <tr>\n",
       "      <th>4.0</th>\n",
       "      <td>24.875132</td>\n",
       "      <td>22.682823</td>\n",
       "      <td>20.712098</td>\n",
       "      <td>20.431598</td>\n",
       "      <td>16.703404</td>\n",
       "    </tr>\n",
       "    <tr>\n",
       "      <th>5.0</th>\n",
       "      <td>30.608512</td>\n",
       "      <td>22.285998</td>\n",
       "      <td>17.189893</td>\n",
       "      <td>14.036824</td>\n",
       "      <td>12.686750</td>\n",
       "    </tr>\n",
       "    <tr>\n",
       "      <th>All</th>\n",
       "      <td>100.000000</td>\n",
       "      <td>100.000000</td>\n",
       "      <td>100.000000</td>\n",
       "      <td>100.000000</td>\n",
       "      <td>100.000000</td>\n",
       "    </tr>\n",
       "  </tbody>\n",
       "</table>\n",
       "</div>"
      ],
      "text/plain": [
       "age_group         10s         20s         30s         40s        +50s\n",
       "QbA                                                                  \n",
       "1.0         19.366866   27.310091   33.677897   40.467234   49.326476\n",
       "2.0         16.004221   17.807540   19.652884   17.323302   14.793044\n",
       "3.0          9.145269    9.913549    8.767228    7.741041    6.490326\n",
       "4.0         24.875132   22.682823   20.712098   20.431598   16.703404\n",
       "5.0         30.608512   22.285998   17.189893   14.036824   12.686750\n",
       "All        100.000000  100.000000  100.000000  100.000000  100.000000"
      ]
     },
     "execution_count": 78,
     "metadata": {},
     "output_type": "execute_result"
    }
   ],
   "source": [
    "pivot2=pivot1/pivot1.loc['All']*100\n",
    "pivot2"
   ]
  },
  {
   "cell_type": "code",
   "execution_count": 84,
   "id": "2b32a3f5",
   "metadata": {},
   "outputs": [
    {
     "data": {
      "image/png": "[encoded data removed]",
      "text/plain": [
       "<Figure size 432x288 with 1 Axes>"
      ]
     },
     "metadata": {
      "needs_background": "light"
     },
     "output_type": "display_data"
    }
   ],
   "source": [
    "x=range(1,6)\n",
    "for c in ['10s','20s','30s','40s','+50s']:\n",
    "    y=pivot2.iloc[:5,:][c].values\n",
    "    plt.plot(x,y,label=c)\n",
    "    \n",
    "plt.legend()\n",
    "plt.xticks([1,2,3,4,5],['disagree','','','','agree'])\n",
    "plt.show()"
   ]
  },
  {
   "cell_type": "markdown",
   "id": "eca7af65",
   "metadata": {},
   "source": [
    "<strong> 연령대별로 무엇을 답했는지 분포</strong>\n",
    "- 연령대가 높아질수록 해당 질문에 동의하지 않는 비율이 높아진다.\n",
    "- 즉, 연령대가 높아질수록 범죄자들이 일반 사람들에 비해 멍청해서 잡히는 것이 아니라고 생각한다.\n",
    "- 연령별 격차가 크다."
   ]
  },
  {
   "cell_type": "code",
   "execution_count": 20,
   "id": "a33e7d4e",
   "metadata": {},
   "outputs": [
    {
     "data": {
      "text/html": [
       "<div>\n",
       "<style scoped>\n",
       "    .dataframe tbody tr th:only-of-type {\n",
       "        vertical-align: middle;\n",
       "    }\n",
       "\n",
       "    .dataframe tbody tr th {\n",
       "        vertical-align: top;\n",
       "    }\n",
       "\n",
       "    .dataframe thead th {\n",
       "        text-align: right;\n",
       "    }\n",
       "</style>\n",
       "<table border=\"1\" class=\"dataframe\">\n",
       "  <thead>\n",
       "    <tr style=\"text-align: right;\">\n",
       "      <th></th>\n",
       "      <th>QbA</th>\n",
       "    </tr>\n",
       "    <tr>\n",
       "      <th>age_group</th>\n",
       "      <th></th>\n",
       "    </tr>\n",
       "  </thead>\n",
       "  <tbody>\n",
       "    <tr>\n",
       "      <th>10s</th>\n",
       "      <td>3.313542</td>\n",
       "    </tr>\n",
       "    <tr>\n",
       "      <th>20s</th>\n",
       "      <td>2.948271</td>\n",
       "    </tr>\n",
       "    <tr>\n",
       "      <th>30s</th>\n",
       "      <td>2.680832</td>\n",
       "    </tr>\n",
       "    <tr>\n",
       "      <th>40s</th>\n",
       "      <td>2.502475</td>\n",
       "    </tr>\n",
       "    <tr>\n",
       "      <th>+50s</th>\n",
       "      <td>2.286309</td>\n",
       "    </tr>\n",
       "  </tbody>\n",
       "</table>\n",
       "</div>"
      ],
      "text/plain": [
       "                QbA\n",
       "age_group          \n",
       "10s        3.313542\n",
       "20s        2.948271\n",
       "30s        2.680832\n",
       "40s        2.502475\n",
       "+50s       2.286309"
      ]
     },
     "execution_count": 20,
     "metadata": {},
     "output_type": "execute_result"
    }
   ],
   "source": [
    "pivot3=pd.pivot_table(data=df,values='QbA',index='age_group',aggfunc=np.mean)\n",
    "pivot3=pivot3.reindex(['10s','20s','30s','40s','+50s'],axis=0)\n",
    "pivot3"
   ]
  },
  {
   "cell_type": "code",
   "execution_count": 21,
   "id": "2395f052",
   "metadata": {},
   "outputs": [
    {
     "data": {
      "text/plain": [
       "<AxesSubplot:xlabel='age_group', ylabel='QbA'>"
      ]
     },
     "execution_count": 21,
     "metadata": {},
     "output_type": "execute_result"
    },
    {
     "data": {
      "image/png": "[encoded data removed]",
      "text/plain": [
       "<Figure size 432x288 with 1 Axes>"
      ]
     },
     "metadata": {
      "needs_background": "light"
     },
     "output_type": "display_data"
    }
   ],
   "source": [
    "sns.barplot(x='age_group',y='QbA',data=df,order=['10s','20s','30s','40s','+50s'])"
   ]
  },
  {
   "cell_type": "markdown",
   "id": "97f610ce",
   "metadata": {},
   "source": [
    "<strong>연령별 응답 평균 점수</strong>\n",
    "- 연령대가 증가할수록 해당 질문의 평균 응답점수가 낮아진다.\n",
    "- 연령대 증가할수록 해당 질문에 동의하지 않는다."
   ]
  },
  {
   "cell_type": "code",
   "execution_count": 39,
   "id": "72cdf5f4",
   "metadata": {},
   "outputs": [],
   "source": [
    "# 응답시간 데이터 편차 매우 크기 때문에 로그 변환\n",
    "df['log_QbE']=np.log(df['QbE'])"
   ]
  },
  {
   "cell_type": "code",
   "execution_count": 40,
   "id": "68c562e6",
   "metadata": {},
   "outputs": [
    {
     "data": {
      "text/plain": [
       "count    45532.000000\n",
       "mean         7.180652\n",
       "std          0.696401\n",
       "min          3.218876\n",
       "25%          6.774224\n",
       "50%          7.104965\n",
       "75%          7.516433\n",
       "max         15.534770\n",
       "Name: log_QbE, dtype: float64"
      ]
     },
     "execution_count": 40,
     "metadata": {},
     "output_type": "execute_result"
    }
   ],
   "source": [
    "df['log_QbE'].describe()"
   ]
  },
  {
   "cell_type": "code",
   "execution_count": 44,
   "id": "19179dc2",
   "metadata": {},
   "outputs": [
    {
     "data": {
      "text/plain": [
       "<AxesSubplot:xlabel='log_QbE', ylabel='Count'>"
      ]
     },
     "execution_count": 44,
     "metadata": {},
     "output_type": "execute_result"
    },
    {
     "data": {
      "image/png": "[encoded data removed]",
      "text/plain": [
       "<Figure size 432x288 with 1 Axes>"
      ]
     },
     "metadata": {
      "needs_background": "light"
     },
     "output_type": "display_data"
    }
   ],
   "source": [
    "sns.histplot(df['log_QbE'])"
   ]
  },
  {
   "cell_type": "code",
   "execution_count": 42,
   "id": "d2b59ce6",
   "metadata": {},
   "outputs": [
    {
     "data": {
      "text/plain": [
       "<AxesSubplot:xlabel='QbA', ylabel='log_QbE'>"
      ]
     },
     "execution_count": 42,
     "metadata": {},
     "output_type": "execute_result"
    },
    {
     "data": {
      "image/png": "[encoded data removed]",
      "text/plain": [
       "<Figure size 432x288 with 1 Axes>"
      ]
     },
     "metadata": {
      "needs_background": "light"
     },
     "output_type": "display_data"
    }
   ],
   "source": [
    "#무엇을 응답했는지에 따라 응답시간 차이가 있을까?\n",
    "sns.boxplot(y='log_QbE',x='QbA',data=df)"
   ]
  },
  {
   "cell_type": "code",
   "execution_count": 43,
   "id": "f77c8d67",
   "metadata": {},
   "outputs": [
    {
     "data": {
      "text/plain": [
       "<AxesSubplot:xlabel='age_group', ylabel='log_QbE'>"
      ]
     },
     "execution_count": 43,
     "metadata": {},
     "output_type": "execute_result"
    },
    {
     "data": {
      "image/png": "[encoded data removed]",
      "text/plain": [
       "<Figure size 432x288 with 1 Axes>"
      ]
     },
     "metadata": {
      "needs_background": "light"
     },
     "output_type": "display_data"
    }
   ],
   "source": [
    "#연령대에 따라 응답시간 차이가 있을까? \n",
    "sns.boxplot(y='log_QbE',x='age_group',data=df)"
   ]
  },
  {
   "cell_type": "markdown",
   "id": "9c35e7a4",
   "metadata": {},
   "source": [
    "<strong>연령별 평균 응답 시간</strong>\n",
    "- 연령대에 따라 응답 시간에 큰 차이를 보이지 않는다"
   ]
  },
  {
   "cell_type": "markdown",
   "id": "e015eac5",
   "metadata": {},
   "source": [
    "### Qc: 누군가를 완전히 믿는 사람은 고생을 자처하는 것이다.(T+)"
   ]
  },
  {
   "cell_type": "code",
   "execution_count": 23,
   "id": "e92ff11e",
   "metadata": {},
   "outputs": [
    {
     "data": {
      "text/html": [
       "<div>\n",
       "<style scoped>\n",
       "    .dataframe tbody tr th:only-of-type {\n",
       "        vertical-align: middle;\n",
       "    }\n",
       "\n",
       "    .dataframe tbody tr th {\n",
       "        vertical-align: top;\n",
       "    }\n",
       "\n",
       "    .dataframe thead th {\n",
       "        text-align: right;\n",
       "    }\n",
       "</style>\n",
       "<table border=\"1\" class=\"dataframe\">\n",
       "  <thead>\n",
       "    <tr style=\"text-align: right;\">\n",
       "      <th>age_group</th>\n",
       "      <th>10s</th>\n",
       "      <th>20s</th>\n",
       "      <th>30s</th>\n",
       "      <th>40s</th>\n",
       "      <th>+50s</th>\n",
       "    </tr>\n",
       "    <tr>\n",
       "      <th>QcA</th>\n",
       "      <th></th>\n",
       "      <th></th>\n",
       "      <th></th>\n",
       "      <th></th>\n",
       "      <th></th>\n",
       "    </tr>\n",
       "  </thead>\n",
       "  <tbody>\n",
       "    <tr>\n",
       "      <th>1.0</th>\n",
       "      <td>1597</td>\n",
       "      <td>1535</td>\n",
       "      <td>1023</td>\n",
       "      <td>851</td>\n",
       "      <td>756</td>\n",
       "    </tr>\n",
       "    <tr>\n",
       "      <th>2.0</th>\n",
       "      <td>1943</td>\n",
       "      <td>1807</td>\n",
       "      <td>1108</td>\n",
       "      <td>703</td>\n",
       "      <td>568</td>\n",
       "    </tr>\n",
       "    <tr>\n",
       "      <th>3.0</th>\n",
       "      <td>1278</td>\n",
       "      <td>1137</td>\n",
       "      <td>575</td>\n",
       "      <td>331</td>\n",
       "      <td>261</td>\n",
       "    </tr>\n",
       "    <tr>\n",
       "      <th>4.0</th>\n",
       "      <td>3575</td>\n",
       "      <td>3697</td>\n",
       "      <td>2136</td>\n",
       "      <td>1382</td>\n",
       "      <td>1148</td>\n",
       "    </tr>\n",
       "    <tr>\n",
       "      <th>5.0</th>\n",
       "      <td>5822</td>\n",
       "      <td>5936</td>\n",
       "      <td>2994</td>\n",
       "      <td>1784</td>\n",
       "      <td>1350</td>\n",
       "    </tr>\n",
       "    <tr>\n",
       "      <th>All</th>\n",
       "      <td>14215</td>\n",
       "      <td>14112</td>\n",
       "      <td>7836</td>\n",
       "      <td>5051</td>\n",
       "      <td>4083</td>\n",
       "    </tr>\n",
       "  </tbody>\n",
       "</table>\n",
       "</div>"
      ],
      "text/plain": [
       "age_group    10s    20s   30s   40s  +50s\n",
       "QcA                                      \n",
       "1.0         1597   1535  1023   851   756\n",
       "2.0         1943   1807  1108   703   568\n",
       "3.0         1278   1137   575   331   261\n",
       "4.0         3575   3697  2136  1382  1148\n",
       "5.0         5822   5936  2994  1784  1350\n",
       "All        14215  14112  7836  5051  4083"
      ]
     },
     "execution_count": 23,
     "metadata": {},
     "output_type": "execute_result"
    }
   ],
   "source": [
    "pivot4=pd.pivot_table(df,values='index',index='QcA',columns='age_group',aggfunc='count',margins=True)\n",
    "pivot4=pivot1.reindex(['10s','20s','30s','40s','+50s'],axis=1)\n",
    "pivot4"
   ]
  },
  {
   "cell_type": "code",
   "execution_count": 24,
   "id": "65a5b7a3",
   "metadata": {},
   "outputs": [
    {
     "data": {
      "text/html": [
       "<div>\n",
       "<style scoped>\n",
       "    .dataframe tbody tr th:only-of-type {\n",
       "        vertical-align: middle;\n",
       "    }\n",
       "\n",
       "    .dataframe tbody tr th {\n",
       "        vertical-align: top;\n",
       "    }\n",
       "\n",
       "    .dataframe thead th {\n",
       "        text-align: right;\n",
       "    }\n",
       "</style>\n",
       "<table border=\"1\" class=\"dataframe\">\n",
       "  <thead>\n",
       "    <tr style=\"text-align: right;\">\n",
       "      <th>age_group</th>\n",
       "      <th>10s</th>\n",
       "      <th>20s</th>\n",
       "      <th>30s</th>\n",
       "      <th>40s</th>\n",
       "      <th>+50s</th>\n",
       "    </tr>\n",
       "    <tr>\n",
       "      <th>QcA</th>\n",
       "      <th></th>\n",
       "      <th></th>\n",
       "      <th></th>\n",
       "      <th></th>\n",
       "      <th></th>\n",
       "    </tr>\n",
       "  </thead>\n",
       "  <tbody>\n",
       "    <tr>\n",
       "      <th>1.0</th>\n",
       "      <td>11.234611</td>\n",
       "      <td>10.877268</td>\n",
       "      <td>13.055130</td>\n",
       "      <td>16.848149</td>\n",
       "      <td>18.515797</td>\n",
       "    </tr>\n",
       "    <tr>\n",
       "      <th>2.0</th>\n",
       "      <td>13.668660</td>\n",
       "      <td>12.804705</td>\n",
       "      <td>14.139867</td>\n",
       "      <td>13.918036</td>\n",
       "      <td>13.911340</td>\n",
       "    </tr>\n",
       "    <tr>\n",
       "      <th>3.0</th>\n",
       "      <td>8.990503</td>\n",
       "      <td>8.056973</td>\n",
       "      <td>7.337928</td>\n",
       "      <td>6.553158</td>\n",
       "      <td>6.392359</td>\n",
       "    </tr>\n",
       "    <tr>\n",
       "      <th>4.0</th>\n",
       "      <td>25.149490</td>\n",
       "      <td>26.197562</td>\n",
       "      <td>27.258806</td>\n",
       "      <td>27.360919</td>\n",
       "      <td>28.116581</td>\n",
       "    </tr>\n",
       "    <tr>\n",
       "      <th>5.0</th>\n",
       "      <td>40.956736</td>\n",
       "      <td>42.063492</td>\n",
       "      <td>38.208270</td>\n",
       "      <td>35.319739</td>\n",
       "      <td>33.063924</td>\n",
       "    </tr>\n",
       "    <tr>\n",
       "      <th>All</th>\n",
       "      <td>100.000000</td>\n",
       "      <td>100.000000</td>\n",
       "      <td>100.000000</td>\n",
       "      <td>100.000000</td>\n",
       "      <td>100.000000</td>\n",
       "    </tr>\n",
       "  </tbody>\n",
       "</table>\n",
       "</div>"
      ],
      "text/plain": [
       "age_group         10s         20s         30s         40s        +50s\n",
       "QcA                                                                  \n",
       "1.0         11.234611   10.877268   13.055130   16.848149   18.515797\n",
       "2.0         13.668660   12.804705   14.139867   13.918036   13.911340\n",
       "3.0          8.990503    8.056973    7.337928    6.553158    6.392359\n",
       "4.0         25.149490   26.197562   27.258806   27.360919   28.116581\n",
       "5.0         40.956736   42.063492   38.208270   35.319739   33.063924\n",
       "All        100.000000  100.000000  100.000000  100.000000  100.000000"
      ]
     },
     "execution_count": 24,
     "metadata": {},
     "output_type": "execute_result"
    }
   ],
   "source": [
    "pivot5=pivot4/pivot4.loc['All']*100\n",
    "pivot5"
   ]
  },
  {
   "cell_type": "code",
   "execution_count": 85,
   "id": "105e4808",
   "metadata": {},
   "outputs": [
    {
     "data": {
      "image/png": "[encoded data removed]",
      "text/plain": [
       "<Figure size 432x288 with 1 Axes>"
      ]
     },
     "metadata": {
      "needs_background": "light"
     },
     "output_type": "display_data"
    }
   ],
   "source": [
    "x=range(1,6)\n",
    "for c in ['10s','20s','30s','40s','+50s']:\n",
    "    y=pivot5.iloc[:5,:][c].values\n",
    "    plt.plot(x,y,label=c)\n",
    "    \n",
    "plt.legend()\n",
    "plt.xticks([1,2,3,4,5],['disagree','','','','agree'])\n",
    "plt.show()"
   ]
  },
  {
   "cell_type": "markdown",
   "id": "26ec3349",
   "metadata": {},
   "source": [
    "<strong> 연령대별로 무엇을 답했는지 분포</strong>\n",
    "- 연령대가 높아질수록 해당 질문에 동의하지 않는다.\n",
    "- 즉, 연령대가 높아질수록 완전히 신뢰하는 것이 고생을 자처한다고 보지 않는다.\n",
    "- 위의 b질문보다는 연령별 편차가 작긴하지만, 1020/30/4050이 확실히 차이를 보이긴 한다. "
   ]
  },
  {
   "cell_type": "code",
   "execution_count": 68,
   "id": "5e8eff2a",
   "metadata": {},
   "outputs": [
    {
     "data": {
      "text/html": [
       "<div>\n",
       "<style scoped>\n",
       "    .dataframe tbody tr th:only-of-type {\n",
       "        vertical-align: middle;\n",
       "    }\n",
       "\n",
       "    .dataframe tbody tr th {\n",
       "        vertical-align: top;\n",
       "    }\n",
       "\n",
       "    .dataframe thead th {\n",
       "        text-align: right;\n",
       "    }\n",
       "</style>\n",
       "<table border=\"1\" class=\"dataframe\">\n",
       "  <thead>\n",
       "    <tr style=\"text-align: right;\">\n",
       "      <th></th>\n",
       "      <th>QbA</th>\n",
       "    </tr>\n",
       "    <tr>\n",
       "      <th>age_group</th>\n",
       "      <th></th>\n",
       "    </tr>\n",
       "  </thead>\n",
       "  <tbody>\n",
       "    <tr>\n",
       "      <th>10s</th>\n",
       "      <td>3.313542</td>\n",
       "    </tr>\n",
       "    <tr>\n",
       "      <th>20s</th>\n",
       "      <td>2.948271</td>\n",
       "    </tr>\n",
       "    <tr>\n",
       "      <th>30s</th>\n",
       "      <td>2.680832</td>\n",
       "    </tr>\n",
       "    <tr>\n",
       "      <th>40s</th>\n",
       "      <td>2.502475</td>\n",
       "    </tr>\n",
       "    <tr>\n",
       "      <th>+50s</th>\n",
       "      <td>2.286309</td>\n",
       "    </tr>\n",
       "  </tbody>\n",
       "</table>\n",
       "</div>"
      ],
      "text/plain": [
       "                QbA\n",
       "age_group          \n",
       "10s        3.313542\n",
       "20s        2.948271\n",
       "30s        2.680832\n",
       "40s        2.502475\n",
       "+50s       2.286309"
      ]
     },
     "execution_count": 68,
     "metadata": {},
     "output_type": "execute_result"
    }
   ],
   "source": [
    "pivot6=pd.pivot_table(data=df,values='QbA',index='age_group',aggfunc=np.mean)\n",
    "pivot6=pivot6.reindex(['10s','20s','30s','40s','+50s'],axis=0)\n",
    "pivot6"
   ]
  },
  {
   "cell_type": "code",
   "execution_count": 27,
   "id": "5d419446",
   "metadata": {},
   "outputs": [
    {
     "data": {
      "text/plain": [
       "<AxesSubplot:xlabel='age_group', ylabel='QcA'>"
      ]
     },
     "execution_count": 27,
     "metadata": {},
     "output_type": "execute_result"
    },
    {
     "data": {
      "image/png": "[encoded data removed]",
      "text/plain": [
       "<Figure size 432x288 with 1 Axes>"
      ]
     },
     "metadata": {
      "needs_background": "light"
     },
     "output_type": "display_data"
    }
   ],
   "source": [
    "sns.barplot(x='age_group',y='QcA',data=df,order=['10s','20s','30s','40s','+50s'])"
   ]
  },
  {
   "cell_type": "markdown",
   "id": "2dc6dc86",
   "metadata": {},
   "source": [
    "<strong>연령별 응답 평균 점수</strong>\n",
    "- 연령대가 증가할수록 해당 질문의 평균 응답점수가 낮아진다.\n",
    "- 연령대 증가할수록 해당 질문에 동의하지 않는다."
   ]
  },
  {
   "cell_type": "code",
   "execution_count": 45,
   "id": "e5bb8c97",
   "metadata": {},
   "outputs": [],
   "source": [
    "df['log_QcE']=np.log(df['QcE'])"
   ]
  },
  {
   "cell_type": "code",
   "execution_count": 46,
   "id": "5f68253c",
   "metadata": {},
   "outputs": [
    {
     "data": {
      "text/plain": [
       "count    45532.000000\n",
       "mean         6.881806\n",
       "std          0.671171\n",
       "min          3.218876\n",
       "25%          6.478510\n",
       "50%          6.801283\n",
       "75%          7.196687\n",
       "max         13.678037\n",
       "Name: log_QcE, dtype: float64"
      ]
     },
     "execution_count": 46,
     "metadata": {},
     "output_type": "execute_result"
    }
   ],
   "source": [
    "df['log_QcE'].describe()"
   ]
  },
  {
   "cell_type": "code",
   "execution_count": 47,
   "id": "360c4e49",
   "metadata": {},
   "outputs": [
    {
     "data": {
      "text/plain": [
       "<AxesSubplot:xlabel='log_QcE', ylabel='Count'>"
      ]
     },
     "execution_count": 47,
     "metadata": {},
     "output_type": "execute_result"
    },
    {
     "data": {
      "image/png": "[encoded data removed]",
      "text/plain": [
       "<Figure size 432x288 with 1 Axes>"
      ]
     },
     "metadata": {
      "needs_background": "light"
     },
     "output_type": "display_data"
    }
   ],
   "source": [
    "sns.histplot(df['log_QcE'])"
   ]
  },
  {
   "cell_type": "code",
   "execution_count": 48,
   "id": "8f7821f7",
   "metadata": {},
   "outputs": [
    {
     "data": {
      "text/plain": [
       "<AxesSubplot:xlabel='QcA', ylabel='log_QcE'>"
      ]
     },
     "execution_count": 48,
     "metadata": {},
     "output_type": "execute_result"
    },
    {
     "data": {
      "image/png": "[encoded data removed]",
      "text/plain": [
       "<Figure size 432x288 with 1 Axes>"
      ]
     },
     "metadata": {
      "needs_background": "light"
     },
     "output_type": "display_data"
    }
   ],
   "source": [
    "#무엇을 응답했는지에 따라 응답시간 차이가 있을까?\n",
    "sns.boxplot(y='log_QcE',x='QcA',data=df)"
   ]
  },
  {
   "cell_type": "code",
   "execution_count": 49,
   "id": "b9032b1a",
   "metadata": {},
   "outputs": [
    {
     "data": {
      "text/plain": [
       "<AxesSubplot:xlabel='age_group', ylabel='log_QcE'>"
      ]
     },
     "execution_count": 49,
     "metadata": {},
     "output_type": "execute_result"
    },
    {
     "data": {
      "image/png": "[encoded data removed]",
      "text/plain": [
       "<Figure size 432x288 with 1 Axes>"
      ]
     },
     "metadata": {
      "needs_background": "light"
     },
     "output_type": "display_data"
    }
   ],
   "source": [
    "#연령대에 따라 응답시간 차이가 있을까? \n",
    "sns.boxplot(y='log_QcE',x='age_group',data=df)"
   ]
  },
  {
   "cell_type": "markdown",
   "id": "cf4d34ef",
   "metadata": {},
   "source": [
    "<strong>연령별 평균 응답 시간</strong>\n",
    "- 연령대에 따라 응답 시간에 큰 차이를 보이지 않는다"
   ]
  },
  {
   "cell_type": "code",
   "execution_count": 51,
   "id": "5a500a1a",
   "metadata": {},
   "outputs": [],
   "source": [
    "#7에 가까울수록 agree strongly, 0이 무응답으로 변환\n",
    "df['tp01']=7-df['tp01']\n",
    "df['tp02']=7-df['tp02']\n",
    "df['tp03']=7-df['tp03']\n",
    "df['tp04']=7-df['tp04']\n",
    "df['tp05']=7-df['tp05']\n",
    "df['tp06']=7-df['tp06']\n",
    "df['tp07']=7-df['tp07']\n",
    "df['tp08']=7-df['tp08']\n",
    "df['tp09']=7-df['tp09']\n",
    "df['tp10']=7-df['tp10']"
   ]
  },
  {
   "cell_type": "markdown",
   "id": "2ffad619",
   "metadata": {},
   "source": [
    "### tp01: 외향적인, 열정적인"
   ]
  },
  {
   "cell_type": "code",
   "execution_count": 54,
   "id": "c853c758",
   "metadata": {},
   "outputs": [
    {
     "data": {
      "text/html": [
       "<div>\n",
       "<style scoped>\n",
       "    .dataframe tbody tr th:only-of-type {\n",
       "        vertical-align: middle;\n",
       "    }\n",
       "\n",
       "    .dataframe tbody tr th {\n",
       "        vertical-align: top;\n",
       "    }\n",
       "\n",
       "    .dataframe thead th {\n",
       "        text-align: right;\n",
       "    }\n",
       "</style>\n",
       "<table border=\"1\" class=\"dataframe\">\n",
       "  <thead>\n",
       "    <tr style=\"text-align: right;\">\n",
       "      <th>age_group</th>\n",
       "      <th>10s</th>\n",
       "      <th>20s</th>\n",
       "      <th>30s</th>\n",
       "      <th>40s</th>\n",
       "      <th>+50s</th>\n",
       "    </tr>\n",
       "    <tr>\n",
       "      <th>tp01</th>\n",
       "      <th></th>\n",
       "      <th></th>\n",
       "      <th></th>\n",
       "      <th></th>\n",
       "      <th></th>\n",
       "    </tr>\n",
       "  </thead>\n",
       "  <tbody>\n",
       "    <tr>\n",
       "      <th>0</th>\n",
       "      <td>54</td>\n",
       "      <td>44</td>\n",
       "      <td>33</td>\n",
       "      <td>49</td>\n",
       "      <td>83</td>\n",
       "    </tr>\n",
       "    <tr>\n",
       "      <th>1</th>\n",
       "      <td>1896</td>\n",
       "      <td>1901</td>\n",
       "      <td>1095</td>\n",
       "      <td>673</td>\n",
       "      <td>457</td>\n",
       "    </tr>\n",
       "    <tr>\n",
       "      <th>2</th>\n",
       "      <td>2478</td>\n",
       "      <td>2539</td>\n",
       "      <td>1392</td>\n",
       "      <td>820</td>\n",
       "      <td>674</td>\n",
       "    </tr>\n",
       "    <tr>\n",
       "      <th>3</th>\n",
       "      <td>1861</td>\n",
       "      <td>1935</td>\n",
       "      <td>1045</td>\n",
       "      <td>583</td>\n",
       "      <td>460</td>\n",
       "    </tr>\n",
       "    <tr>\n",
       "      <th>4</th>\n",
       "      <td>1155</td>\n",
       "      <td>1136</td>\n",
       "      <td>687</td>\n",
       "      <td>400</td>\n",
       "      <td>299</td>\n",
       "    </tr>\n",
       "    <tr>\n",
       "      <th>5</th>\n",
       "      <td>2504</td>\n",
       "      <td>2436</td>\n",
       "      <td>1332</td>\n",
       "      <td>908</td>\n",
       "      <td>662</td>\n",
       "    </tr>\n",
       "    <tr>\n",
       "      <th>6</th>\n",
       "      <td>2771</td>\n",
       "      <td>2699</td>\n",
       "      <td>1455</td>\n",
       "      <td>1087</td>\n",
       "      <td>953</td>\n",
       "    </tr>\n",
       "    <tr>\n",
       "      <th>7</th>\n",
       "      <td>1496</td>\n",
       "      <td>1422</td>\n",
       "      <td>797</td>\n",
       "      <td>531</td>\n",
       "      <td>495</td>\n",
       "    </tr>\n",
       "    <tr>\n",
       "      <th>All</th>\n",
       "      <td>14215</td>\n",
       "      <td>14112</td>\n",
       "      <td>7836</td>\n",
       "      <td>5051</td>\n",
       "      <td>4083</td>\n",
       "    </tr>\n",
       "  </tbody>\n",
       "</table>\n",
       "</div>"
      ],
      "text/plain": [
       "age_group    10s    20s   30s   40s  +50s\n",
       "tp01                                     \n",
       "0             54     44    33    49    83\n",
       "1           1896   1901  1095   673   457\n",
       "2           2478   2539  1392   820   674\n",
       "3           1861   1935  1045   583   460\n",
       "4           1155   1136   687   400   299\n",
       "5           2504   2436  1332   908   662\n",
       "6           2771   2699  1455  1087   953\n",
       "7           1496   1422   797   531   495\n",
       "All        14215  14112  7836  5051  4083"
      ]
     },
     "execution_count": 54,
     "metadata": {},
     "output_type": "execute_result"
    }
   ],
   "source": [
    "pivot7=pd.pivot_table(df,values='index',index='tp01',columns='age_group',aggfunc='count',margins=True)\n",
    "pivot7=pivot7.reindex(['10s','20s','30s','40s','+50s'],axis=1)\n",
    "pivot7"
   ]
  },
  {
   "cell_type": "code",
   "execution_count": 62,
   "id": "411d8ad9",
   "metadata": {},
   "outputs": [
    {
     "data": {
      "text/html": [
       "<div>\n",
       "<style scoped>\n",
       "    .dataframe tbody tr th:only-of-type {\n",
       "        vertical-align: middle;\n",
       "    }\n",
       "\n",
       "    .dataframe tbody tr th {\n",
       "        vertical-align: top;\n",
       "    }\n",
       "\n",
       "    .dataframe thead th {\n",
       "        text-align: right;\n",
       "    }\n",
       "</style>\n",
       "<table border=\"1\" class=\"dataframe\">\n",
       "  <thead>\n",
       "    <tr style=\"text-align: right;\">\n",
       "      <th>age_group</th>\n",
       "      <th>10s</th>\n",
       "      <th>20s</th>\n",
       "      <th>30s</th>\n",
       "      <th>40s</th>\n",
       "      <th>+50s</th>\n",
       "    </tr>\n",
       "    <tr>\n",
       "      <th>tp01</th>\n",
       "      <th></th>\n",
       "      <th></th>\n",
       "      <th></th>\n",
       "      <th></th>\n",
       "      <th></th>\n",
       "    </tr>\n",
       "  </thead>\n",
       "  <tbody>\n",
       "    <tr>\n",
       "      <th>1</th>\n",
       "      <td>13.338023</td>\n",
       "      <td>13.470805</td>\n",
       "      <td>13.973966</td>\n",
       "      <td>13.324094</td>\n",
       "      <td>11.192750</td>\n",
       "    </tr>\n",
       "    <tr>\n",
       "      <th>2</th>\n",
       "      <td>17.432290</td>\n",
       "      <td>17.991780</td>\n",
       "      <td>17.764165</td>\n",
       "      <td>16.234409</td>\n",
       "      <td>16.507470</td>\n",
       "    </tr>\n",
       "    <tr>\n",
       "      <th>3</th>\n",
       "      <td>13.091804</td>\n",
       "      <td>13.711735</td>\n",
       "      <td>13.335886</td>\n",
       "      <td>11.542269</td>\n",
       "      <td>11.266226</td>\n",
       "    </tr>\n",
       "    <tr>\n",
       "      <th>4</th>\n",
       "      <td>8.125220</td>\n",
       "      <td>8.049887</td>\n",
       "      <td>8.767228</td>\n",
       "      <td>7.919224</td>\n",
       "      <td>7.323047</td>\n",
       "    </tr>\n",
       "    <tr>\n",
       "      <th>5</th>\n",
       "      <td>17.615195</td>\n",
       "      <td>17.261905</td>\n",
       "      <td>16.998469</td>\n",
       "      <td>17.976638</td>\n",
       "      <td>16.213568</td>\n",
       "    </tr>\n",
       "    <tr>\n",
       "      <th>6</th>\n",
       "      <td>19.493493</td>\n",
       "      <td>19.125567</td>\n",
       "      <td>18.568147</td>\n",
       "      <td>21.520491</td>\n",
       "      <td>23.340681</td>\n",
       "    </tr>\n",
       "    <tr>\n",
       "      <th>7</th>\n",
       "      <td>10.524094</td>\n",
       "      <td>10.076531</td>\n",
       "      <td>10.171006</td>\n",
       "      <td>10.512770</td>\n",
       "      <td>12.123439</td>\n",
       "    </tr>\n",
       "    <tr>\n",
       "      <th>All</th>\n",
       "      <td>100.000000</td>\n",
       "      <td>100.000000</td>\n",
       "      <td>100.000000</td>\n",
       "      <td>100.000000</td>\n",
       "      <td>100.000000</td>\n",
       "    </tr>\n",
       "  </tbody>\n",
       "</table>\n",
       "</div>"
      ],
      "text/plain": [
       "age_group         10s         20s         30s         40s        +50s\n",
       "tp01                                                                 \n",
       "1           13.338023   13.470805   13.973966   13.324094   11.192750\n",
       "2           17.432290   17.991780   17.764165   16.234409   16.507470\n",
       "3           13.091804   13.711735   13.335886   11.542269   11.266226\n",
       "4            8.125220    8.049887    8.767228    7.919224    7.323047\n",
       "5           17.615195   17.261905   16.998469   17.976638   16.213568\n",
       "6           19.493493   19.125567   18.568147   21.520491   23.340681\n",
       "7           10.524094   10.076531   10.171006   10.512770   12.123439\n",
       "All        100.000000  100.000000  100.000000  100.000000  100.000000"
      ]
     },
     "execution_count": 62,
     "metadata": {},
     "output_type": "execute_result"
    }
   ],
   "source": [
    "pivot8=pivot7/pivot7.loc['All']*100\n",
    "pivot8.drop([0],axis=0,inplace=True)\n",
    "pivot8"
   ]
  },
  {
   "cell_type": "code",
   "execution_count": 63,
   "id": "27f44544",
   "metadata": {},
   "outputs": [
    {
     "data": {
      "image/png": "[encoded data removed]",
      "text/plain": [
       "<Figure size 432x288 with 1 Axes>"
      ]
     },
     "metadata": {
      "needs_background": "light"
     },
     "output_type": "display_data"
    }
   ],
   "source": [
    "x=range(1,8)\n",
    "for c in ['10s','20s','30s','40s','+50s']:\n",
    "    y=pivot8.iloc[:7,:][c].values\n",
    "    plt.plot(x,y,label=c)\n",
    "    \n",
    "plt.legend()\n",
    "plt.show()"
   ]
  },
  {
   "cell_type": "markdown",
   "id": "e1b2c167",
   "metadata": {},
   "source": [
    "<strong> 연령대별로 성격 분포</strong>\n",
    "- 낮은 연령대일수록 외향성에 대해 낮은 점수, 높은 연령대일수록 높은 점수를 갖는다. \n",
    "- 차이가 크게 나타나진 않는다. "
   ]
  },
  {
   "cell_type": "code",
   "execution_count": 71,
   "id": "212f1337",
   "metadata": {},
   "outputs": [
    {
     "data": {
      "text/html": [
       "<div>\n",
       "<style scoped>\n",
       "    .dataframe tbody tr th:only-of-type {\n",
       "        vertical-align: middle;\n",
       "    }\n",
       "\n",
       "    .dataframe tbody tr th {\n",
       "        vertical-align: top;\n",
       "    }\n",
       "\n",
       "    .dataframe thead th {\n",
       "        text-align: right;\n",
       "    }\n",
       "</style>\n",
       "<table border=\"1\" class=\"dataframe\">\n",
       "  <thead>\n",
       "    <tr style=\"text-align: right;\">\n",
       "      <th></th>\n",
       "      <th>tp01</th>\n",
       "    </tr>\n",
       "    <tr>\n",
       "      <th>age_group</th>\n",
       "      <th></th>\n",
       "    </tr>\n",
       "  </thead>\n",
       "  <tbody>\n",
       "    <tr>\n",
       "      <th>10s</th>\n",
       "      <td>4.002048</td>\n",
       "    </tr>\n",
       "    <tr>\n",
       "      <th>20s</th>\n",
       "      <td>3.956213</td>\n",
       "    </tr>\n",
       "    <tr>\n",
       "      <th>30s</th>\n",
       "      <td>3.938357</td>\n",
       "    </tr>\n",
       "    <tr>\n",
       "      <th>40s</th>\n",
       "      <td>4.086565</td>\n",
       "    </tr>\n",
       "    <tr>\n",
       "      <th>+50s</th>\n",
       "      <td>4.218500</td>\n",
       "    </tr>\n",
       "  </tbody>\n",
       "</table>\n",
       "</div>"
      ],
      "text/plain": [
       "               tp01\n",
       "age_group          \n",
       "10s        4.002048\n",
       "20s        3.956213\n",
       "30s        3.938357\n",
       "40s        4.086565\n",
       "+50s       4.218500"
      ]
     },
     "execution_count": 71,
     "metadata": {},
     "output_type": "execute_result"
    }
   ],
   "source": [
    "#무응답제외\n",
    "df_01=df[df['tp01']!=0]\n",
    "pivot9=pd.pivot_table(data=df_01,values='tp01',index='age_group',aggfunc=np.mean)\n",
    "pivot9=pivot9.reindex(['10s','20s','30s','40s','+50s'],axis=0)\n",
    "pivot9"
   ]
  },
  {
   "cell_type": "code",
   "execution_count": 72,
   "id": "70f5645a",
   "metadata": {},
   "outputs": [
    {
     "data": {
      "text/plain": [
       "<AxesSubplot:xlabel='age_group', ylabel='tp01'>"
      ]
     },
     "execution_count": 72,
     "metadata": {},
     "output_type": "execute_result"
    },
    {
     "data": {
      "image/png": "[encoded data removed]",
      "text/plain": [
       "<Figure size 432x288 with 1 Axes>"
      ]
     },
     "metadata": {
      "needs_background": "light"
     },
     "output_type": "display_data"
    }
   ],
   "source": [
    "sns.barplot(x='age_group',y='tp01',data=df_01,order=['10s','20s','30s','40s','+50s'])"
   ]
  },
  {
   "cell_type": "markdown",
   "id": "d9f4cac9",
   "metadata": {},
   "source": [
    "<strong> 연령대별로 평균 성격 점수</strong>\n",
    "- 높은 연령대일수록 외향적이고 열정적이다. "
   ]
  },
  {
   "cell_type": "markdown",
   "id": "6ec8585f",
   "metadata": {},
   "source": [
    "### tp02: 비판적인, 싸우려 드는"
   ]
  },
  {
   "cell_type": "code",
   "execution_count": 60,
   "id": "07694c9f",
   "metadata": {},
   "outputs": [
    {
     "data": {
      "text/html": [
       "<div>\n",
       "<style scoped>\n",
       "    .dataframe tbody tr th:only-of-type {\n",
       "        vertical-align: middle;\n",
       "    }\n",
       "\n",
       "    .dataframe tbody tr th {\n",
       "        vertical-align: top;\n",
       "    }\n",
       "\n",
       "    .dataframe thead th {\n",
       "        text-align: right;\n",
       "    }\n",
       "</style>\n",
       "<table border=\"1\" class=\"dataframe\">\n",
       "  <thead>\n",
       "    <tr style=\"text-align: right;\">\n",
       "      <th>age_group</th>\n",
       "      <th>10s</th>\n",
       "      <th>20s</th>\n",
       "      <th>30s</th>\n",
       "      <th>40s</th>\n",
       "      <th>+50s</th>\n",
       "    </tr>\n",
       "    <tr>\n",
       "      <th>tp02</th>\n",
       "      <th></th>\n",
       "      <th></th>\n",
       "      <th></th>\n",
       "      <th></th>\n",
       "      <th></th>\n",
       "    </tr>\n",
       "  </thead>\n",
       "  <tbody>\n",
       "    <tr>\n",
       "      <th>0</th>\n",
       "      <td>74</td>\n",
       "      <td>56</td>\n",
       "      <td>30</td>\n",
       "      <td>48</td>\n",
       "      <td>86</td>\n",
       "    </tr>\n",
       "    <tr>\n",
       "      <th>1</th>\n",
       "      <td>814</td>\n",
       "      <td>1154</td>\n",
       "      <td>901</td>\n",
       "      <td>756</td>\n",
       "      <td>931</td>\n",
       "    </tr>\n",
       "    <tr>\n",
       "      <th>2</th>\n",
       "      <td>1250</td>\n",
       "      <td>1460</td>\n",
       "      <td>988</td>\n",
       "      <td>849</td>\n",
       "      <td>747</td>\n",
       "    </tr>\n",
       "    <tr>\n",
       "      <th>3</th>\n",
       "      <td>1231</td>\n",
       "      <td>1230</td>\n",
       "      <td>794</td>\n",
       "      <td>515</td>\n",
       "      <td>409</td>\n",
       "    </tr>\n",
       "    <tr>\n",
       "      <th>4</th>\n",
       "      <td>1472</td>\n",
       "      <td>1170</td>\n",
       "      <td>637</td>\n",
       "      <td>369</td>\n",
       "      <td>260</td>\n",
       "    </tr>\n",
       "    <tr>\n",
       "      <th>5</th>\n",
       "      <td>3963</td>\n",
       "      <td>3925</td>\n",
       "      <td>2179</td>\n",
       "      <td>1386</td>\n",
       "      <td>999</td>\n",
       "    </tr>\n",
       "    <tr>\n",
       "      <th>6</th>\n",
       "      <td>3223</td>\n",
       "      <td>3194</td>\n",
       "      <td>1486</td>\n",
       "      <td>798</td>\n",
       "      <td>481</td>\n",
       "    </tr>\n",
       "    <tr>\n",
       "      <th>7</th>\n",
       "      <td>2188</td>\n",
       "      <td>1923</td>\n",
       "      <td>821</td>\n",
       "      <td>330</td>\n",
       "      <td>170</td>\n",
       "    </tr>\n",
       "    <tr>\n",
       "      <th>All</th>\n",
       "      <td>14215</td>\n",
       "      <td>14112</td>\n",
       "      <td>7836</td>\n",
       "      <td>5051</td>\n",
       "      <td>4083</td>\n",
       "    </tr>\n",
       "  </tbody>\n",
       "</table>\n",
       "</div>"
      ],
      "text/plain": [
       "age_group    10s    20s   30s   40s  +50s\n",
       "tp02                                     \n",
       "0             74     56    30    48    86\n",
       "1            814   1154   901   756   931\n",
       "2           1250   1460   988   849   747\n",
       "3           1231   1230   794   515   409\n",
       "4           1472   1170   637   369   260\n",
       "5           3963   3925  2179  1386   999\n",
       "6           3223   3194  1486   798   481\n",
       "7           2188   1923   821   330   170\n",
       "All        14215  14112  7836  5051  4083"
      ]
     },
     "execution_count": 60,
     "metadata": {},
     "output_type": "execute_result"
    }
   ],
   "source": [
    "pivot10=pd.pivot_table(df,values='index',index='tp02',columns='age_group',aggfunc='count',margins=True)\n",
    "pivot10=pivot10.reindex(['10s','20s','30s','40s','+50s'],axis=1)\n",
    "pivot10"
   ]
  },
  {
   "cell_type": "code",
   "execution_count": 64,
   "id": "b1cd7c14",
   "metadata": {},
   "outputs": [
    {
     "data": {
      "text/html": [
       "<div>\n",
       "<style scoped>\n",
       "    .dataframe tbody tr th:only-of-type {\n",
       "        vertical-align: middle;\n",
       "    }\n",
       "\n",
       "    .dataframe tbody tr th {\n",
       "        vertical-align: top;\n",
       "    }\n",
       "\n",
       "    .dataframe thead th {\n",
       "        text-align: right;\n",
       "    }\n",
       "</style>\n",
       "<table border=\"1\" class=\"dataframe\">\n",
       "  <thead>\n",
       "    <tr style=\"text-align: right;\">\n",
       "      <th>age_group</th>\n",
       "      <th>10s</th>\n",
       "      <th>20s</th>\n",
       "      <th>30s</th>\n",
       "      <th>40s</th>\n",
       "      <th>+50s</th>\n",
       "    </tr>\n",
       "    <tr>\n",
       "      <th>tp02</th>\n",
       "      <th></th>\n",
       "      <th></th>\n",
       "      <th></th>\n",
       "      <th></th>\n",
       "      <th></th>\n",
       "    </tr>\n",
       "  </thead>\n",
       "  <tbody>\n",
       "    <tr>\n",
       "      <th>1</th>\n",
       "      <td>5.726345</td>\n",
       "      <td>8.177438</td>\n",
       "      <td>11.498213</td>\n",
       "      <td>14.967333</td>\n",
       "      <td>22.801861</td>\n",
       "    </tr>\n",
       "    <tr>\n",
       "      <th>2</th>\n",
       "      <td>8.793528</td>\n",
       "      <td>10.345805</td>\n",
       "      <td>12.608474</td>\n",
       "      <td>16.808553</td>\n",
       "      <td>18.295371</td>\n",
       "    </tr>\n",
       "    <tr>\n",
       "      <th>3</th>\n",
       "      <td>8.659866</td>\n",
       "      <td>8.715986</td>\n",
       "      <td>10.132721</td>\n",
       "      <td>10.196001</td>\n",
       "      <td>10.017144</td>\n",
       "    </tr>\n",
       "    <tr>\n",
       "      <th>4</th>\n",
       "      <td>10.355259</td>\n",
       "      <td>8.290816</td>\n",
       "      <td>8.129148</td>\n",
       "      <td>7.305484</td>\n",
       "      <td>6.367867</td>\n",
       "    </tr>\n",
       "    <tr>\n",
       "      <th>5</th>\n",
       "      <td>27.879001</td>\n",
       "      <td>27.813209</td>\n",
       "      <td>27.807555</td>\n",
       "      <td>27.440111</td>\n",
       "      <td>24.467303</td>\n",
       "    </tr>\n",
       "    <tr>\n",
       "      <th>6</th>\n",
       "      <td>22.673233</td>\n",
       "      <td>22.633220</td>\n",
       "      <td>18.963757</td>\n",
       "      <td>15.798852</td>\n",
       "      <td>11.780554</td>\n",
       "    </tr>\n",
       "    <tr>\n",
       "      <th>7</th>\n",
       "      <td>15.392191</td>\n",
       "      <td>13.626701</td>\n",
       "      <td>10.477284</td>\n",
       "      <td>6.533360</td>\n",
       "      <td>4.163605</td>\n",
       "    </tr>\n",
       "    <tr>\n",
       "      <th>All</th>\n",
       "      <td>100.000000</td>\n",
       "      <td>100.000000</td>\n",
       "      <td>100.000000</td>\n",
       "      <td>100.000000</td>\n",
       "      <td>100.000000</td>\n",
       "    </tr>\n",
       "  </tbody>\n",
       "</table>\n",
       "</div>"
      ],
      "text/plain": [
       "age_group         10s         20s         30s         40s        +50s\n",
       "tp02                                                                 \n",
       "1            5.726345    8.177438   11.498213   14.967333   22.801861\n",
       "2            8.793528   10.345805   12.608474   16.808553   18.295371\n",
       "3            8.659866    8.715986   10.132721   10.196001   10.017144\n",
       "4           10.355259    8.290816    8.129148    7.305484    6.367867\n",
       "5           27.879001   27.813209   27.807555   27.440111   24.467303\n",
       "6           22.673233   22.633220   18.963757   15.798852   11.780554\n",
       "7           15.392191   13.626701   10.477284    6.533360    4.163605\n",
       "All        100.000000  100.000000  100.000000  100.000000  100.000000"
      ]
     },
     "execution_count": 64,
     "metadata": {},
     "output_type": "execute_result"
    }
   ],
   "source": [
    "pivot11=pivot10/pivot10.loc['All']*100\n",
    "pivot11.drop([0],axis=0,inplace=True)\n",
    "pivot11"
   ]
  },
  {
   "cell_type": "code",
   "execution_count": 66,
   "id": "569d5a4d",
   "metadata": {},
   "outputs": [
    {
     "data": {
      "image/png": "[encoded data removed]",
      "text/plain": [
       "<Figure size 432x288 with 1 Axes>"
      ]
     },
     "metadata": {
      "needs_background": "light"
     },
     "output_type": "display_data"
    }
   ],
   "source": [
    "x=range(1,8)\n",
    "for c in ['10s','20s','30s','40s','+50s']:\n",
    "    y=pivot11.iloc[:7,:][c].values\n",
    "    plt.plot(x,y,label=c)\n",
    "    \n",
    "plt.legend()\n",
    "plt.show()"
   ]
  },
  {
   "cell_type": "markdown",
   "id": "50546b7c",
   "metadata": {},
   "source": [
    "<strong> 연령대별로 성격 분포</strong>\n",
    "- 낮은 연령대일수록 비판적이고, 싸우기 좋아하는 성격이다. \n",
    "- 연령별 격차가 확연하게 벌어진다."
   ]
  },
  {
   "cell_type": "code",
   "execution_count": 73,
   "id": "601a9997",
   "metadata": {},
   "outputs": [
    {
     "data": {
      "text/html": [
       "<div>\n",
       "<style scoped>\n",
       "    .dataframe tbody tr th:only-of-type {\n",
       "        vertical-align: middle;\n",
       "    }\n",
       "\n",
       "    .dataframe tbody tr th {\n",
       "        vertical-align: top;\n",
       "    }\n",
       "\n",
       "    .dataframe thead th {\n",
       "        text-align: right;\n",
       "    }\n",
       "</style>\n",
       "<table border=\"1\" class=\"dataframe\">\n",
       "  <thead>\n",
       "    <tr style=\"text-align: right;\">\n",
       "      <th></th>\n",
       "      <th>tp02</th>\n",
       "    </tr>\n",
       "    <tr>\n",
       "      <th>age_group</th>\n",
       "      <th></th>\n",
       "    </tr>\n",
       "  </thead>\n",
       "  <tbody>\n",
       "    <tr>\n",
       "      <th>10s</th>\n",
       "      <td>4.763737</td>\n",
       "    </tr>\n",
       "    <tr>\n",
       "      <th>20s</th>\n",
       "      <td>4.602590</td>\n",
       "    </tr>\n",
       "    <tr>\n",
       "      <th>30s</th>\n",
       "      <td>4.274276</td>\n",
       "    </tr>\n",
       "    <tr>\n",
       "      <th>40s</th>\n",
       "      <td>3.898261</td>\n",
       "    </tr>\n",
       "    <tr>\n",
       "      <th>+50s</th>\n",
       "      <td>3.443332</td>\n",
       "    </tr>\n",
       "  </tbody>\n",
       "</table>\n",
       "</div>"
      ],
      "text/plain": [
       "               tp02\n",
       "age_group          \n",
       "10s        4.763737\n",
       "20s        4.602590\n",
       "30s        4.274276\n",
       "40s        3.898261\n",
       "+50s       3.443332"
      ]
     },
     "execution_count": 73,
     "metadata": {},
     "output_type": "execute_result"
    }
   ],
   "source": [
    "#무응답제외\n",
    "df_02=df[df['tp02']!=0]\n",
    "pivot10=pd.pivot_table(data=df_02,values='tp02',index='age_group',aggfunc=np.mean)\n",
    "pivot10=pivot10.reindex(['10s','20s','30s','40s','+50s'],axis=0)\n",
    "pivot10"
   ]
  },
  {
   "cell_type": "code",
   "execution_count": 75,
   "id": "eb729399",
   "metadata": {},
   "outputs": [
    {
     "data": {
      "text/plain": [
       "<AxesSubplot:xlabel='age_group', ylabel='tp02'>"
      ]
     },
     "execution_count": 75,
     "metadata": {},
     "output_type": "execute_result"
    },
    {
     "data": {
      "image/png": "[encoded data removed]",
      "text/plain": [
       "<Figure size 432x288 with 1 Axes>"
      ]
     },
     "metadata": {
      "needs_background": "light"
     },
     "output_type": "display_data"
    }
   ],
   "source": [
    "sns.barplot(x='age_group',y='tp02',data=df_02,order=['10s','20s','30s','40s','+50s'])"
   ]
  },
  {
   "cell_type": "markdown",
   "id": "823a6912",
   "metadata": {},
   "source": [
    "<strong> 연령대별로 평균 성격 점수</strong>\n",
    "- 낮은 연령대일수록 비판적이고, 싸우기 좋아하는 성향이 두드러진다."
   ]
  },
  {
   "cell_type": "code",
   "execution_count": null,
   "id": "fc716e22",
   "metadata": {},
   "outputs": [],
   "source": [
    "#나이에 따라 유독 두드러지는 특성들에는 뭐가 있을까? \n",
    "#그래서 2030 심리는 어떨까? "
   ]
  },
  {
   "cell_type": "markdown",
   "id": "abafaa93",
   "metadata": {},
   "source": [
    "##### 주제에 대해 대강 생각해본 것들?\n",
    "- 각자 해온 것: 연령대에 비해 2,30대에서 두드러지는 심리성향에는 무엇이 있을까?\n",
    "- 2,30대에서 특히 높게 나타난다기 보다는 연령대가 높아짐에 따라 or 낮아짐에 따라\n",
    "- 해보니까 연령대에 따라 크게 응답이 달라지는 질문도 있고, 아닌 것도 있음.\n",
    "> <strong>어떤 특성의 성격이 더 환경적 요인의 영향을 받기 쉬운가?</strong> <br>\n",
    "> - 성격=생물학적 요소(유전적요인)+환경적 요소\n",
    "> 1. 성격 유형 중에 환경적 요인에 의해 변화하기 쉬운 유형은 무엇이 있을까?<br>\n",
    "> or 생물학적으로 내재되어 변하기 어려운 성격 특성은 무엇인가?\n",
    "> 2. 마키아벨리 성향은 환경적으로 영향을 얼마나 받는가?<br>\n",
    "> or 여러가지 마키아벨리 질문 중에 환경적으로 영향을 받는 질문들은 무엇이 있을까?\n",
    "\n",
    "<환경적요인> <br>\n",
    "-> 얘네에 따라 성격 특성이나 마키아벨리 성향이 다르게 유의한 차이를 보이는가? <br>\n",
    "if 유의한 차이 보인다면 그 성격 유형은 이러한 환경적 요인에 받는 영향이 크다\n",
    "- 교육수준\n",
    "- 형제자매수\n",
    "- 결혼유무\n",
    "- 종교\n",
    "- 유년기 거주지역\n",
    "\n",
    "<유전적>\n",
    "- 모국어가 영어\n",
    "- 성별\n",
    "- 오른손잡이, 왼손잡이..?\n",
    "- 인종..?"
   ]
  }
 ],
 "metadata": {
  "kernelspec": {
   "display_name": "Python 3",
   "language": "python",
   "name": "python3"
  },
  "language_info": {
   "codemirror_mode": {
    "name": "ipython",
    "version": 3
   },
   "file_extension": ".py",
   "mimetype": "text/x-python",
   "name": "python",
   "nbconvert_exporter": "python",
   "pygments_lexer": "ipython3",
   "version": "3.8.8"
  }
 },
 "nbformat": 4,
 "nbformat_minor": 5
}
