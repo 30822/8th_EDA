{
 "cells": [
  {
   "cell_type": "code",
   "execution_count": 46,
   "id": "c3bab52d",
   "metadata": {},
   "outputs": [],
   "source": [
    "import numpy as np\n",
    "import pandas as pd\n",
    "import matplotlib.pyplot as plt\n",
    "import seaborn as sns"
   ]
  },
  {
   "cell_type": "code",
   "execution_count": 149,
   "id": "55d62192",
   "metadata": {},
   "outputs": [
    {
     "data": {
      "text/html": [
       "<div>\n",
       "<style scoped>\n",
       "    .dataframe tbody tr th:only-of-type {\n",
       "        vertical-align: middle;\n",
       "    }\n",
       "\n",
       "    .dataframe tbody tr th {\n",
       "        vertical-align: top;\n",
       "    }\n",
       "\n",
       "    .dataframe thead th {\n",
       "        text-align: right;\n",
       "    }\n",
       "</style>\n",
       "<table border=\"1\" class=\"dataframe\">\n",
       "  <thead>\n",
       "    <tr style=\"text-align: right;\">\n",
       "      <th></th>\n",
       "      <th>index</th>\n",
       "      <th>QaA</th>\n",
       "      <th>QaE</th>\n",
       "      <th>QbA</th>\n",
       "      <th>QbE</th>\n",
       "      <th>QcA</th>\n",
       "      <th>QcE</th>\n",
       "      <th>QdA</th>\n",
       "      <th>QdE</th>\n",
       "      <th>QeA</th>\n",
       "      <th>...</th>\n",
       "      <th>wr_04</th>\n",
       "      <th>wr_05</th>\n",
       "      <th>wr_06</th>\n",
       "      <th>wr_07</th>\n",
       "      <th>wr_08</th>\n",
       "      <th>wr_09</th>\n",
       "      <th>wr_10</th>\n",
       "      <th>wr_11</th>\n",
       "      <th>wr_12</th>\n",
       "      <th>wr_13</th>\n",
       "    </tr>\n",
       "  </thead>\n",
       "  <tbody>\n",
       "    <tr>\n",
       "      <th>0</th>\n",
       "      <td>0</td>\n",
       "      <td>3.0</td>\n",
       "      <td>363</td>\n",
       "      <td>4.0</td>\n",
       "      <td>1370</td>\n",
       "      <td>5.0</td>\n",
       "      <td>997</td>\n",
       "      <td>1.0</td>\n",
       "      <td>1024</td>\n",
       "      <td>2.0</td>\n",
       "      <td>...</td>\n",
       "      <td>0</td>\n",
       "      <td>1</td>\n",
       "      <td>0</td>\n",
       "      <td>1</td>\n",
       "      <td>1</td>\n",
       "      <td>0</td>\n",
       "      <td>1</td>\n",
       "      <td>0</td>\n",
       "      <td>1</td>\n",
       "      <td>1</td>\n",
       "    </tr>\n",
       "    <tr>\n",
       "      <th>1</th>\n",
       "      <td>1</td>\n",
       "      <td>5.0</td>\n",
       "      <td>647</td>\n",
       "      <td>5.0</td>\n",
       "      <td>1313</td>\n",
       "      <td>3.0</td>\n",
       "      <td>3387</td>\n",
       "      <td>5.0</td>\n",
       "      <td>2969</td>\n",
       "      <td>1.0</td>\n",
       "      <td>...</td>\n",
       "      <td>1</td>\n",
       "      <td>1</td>\n",
       "      <td>0</td>\n",
       "      <td>1</td>\n",
       "      <td>1</td>\n",
       "      <td>0</td>\n",
       "      <td>1</td>\n",
       "      <td>0</td>\n",
       "      <td>1</td>\n",
       "      <td>1</td>\n",
       "    </tr>\n",
       "    <tr>\n",
       "      <th>2</th>\n",
       "      <td>2</td>\n",
       "      <td>4.0</td>\n",
       "      <td>1623</td>\n",
       "      <td>1.0</td>\n",
       "      <td>1480</td>\n",
       "      <td>1.0</td>\n",
       "      <td>1021</td>\n",
       "      <td>4.0</td>\n",
       "      <td>3374</td>\n",
       "      <td>5.0</td>\n",
       "      <td>...</td>\n",
       "      <td>1</td>\n",
       "      <td>1</td>\n",
       "      <td>0</td>\n",
       "      <td>1</td>\n",
       "      <td>1</td>\n",
       "      <td>1</td>\n",
       "      <td>1</td>\n",
       "      <td>0</td>\n",
       "      <td>1</td>\n",
       "      <td>1</td>\n",
       "    </tr>\n",
       "  </tbody>\n",
       "</table>\n",
       "<p>3 rows × 78 columns</p>\n",
       "</div>"
      ],
      "text/plain": [
       "   index  QaA   QaE  QbA   QbE  QcA   QcE  QdA   QdE  QeA  ...  wr_04  wr_05  \\\n",
       "0      0  3.0   363  4.0  1370  5.0   997  1.0  1024  2.0  ...      0      1   \n",
       "1      1  5.0   647  5.0  1313  3.0  3387  5.0  2969  1.0  ...      1      1   \n",
       "2      2  4.0  1623  1.0  1480  1.0  1021  4.0  3374  5.0  ...      1      1   \n",
       "\n",
       "   wr_06  wr_07  wr_08  wr_09  wr_10  wr_11  wr_12  wr_13  \n",
       "0      0      1      1      0      1      0      1      1  \n",
       "1      0      1      1      0      1      0      1      1  \n",
       "2      0      1      1      1      1      0      1      1  \n",
       "\n",
       "[3 rows x 78 columns]"
      ]
     },
     "execution_count": 149,
     "metadata": {},
     "output_type": "execute_result"
    }
   ],
   "source": [
    "df=pd.read_csv('data.csv')\n",
    "df.head(3)"
   ]
  },
  {
   "cell_type": "code",
   "execution_count": 150,
   "id": "80fcce01",
   "metadata": {},
   "outputs": [
    {
     "data": {
      "text/plain": [
       "<AxesSubplot:xlabel='age_group', ylabel='count'>"
      ]
     },
     "execution_count": 150,
     "metadata": {},
     "output_type": "execute_result"
    },
    {
     "data": {
      "image/png": "[encoded data removed]",
      "text/plain": [
       "<Figure size 432x288 with 1 Axes>"
      ]
     },
     "metadata": {
      "needs_background": "light"
     },
     "output_type": "display_data"
    }
   ],
   "source": [
    "sns.countplot(x='age_group',data=df,order=['10s','20s','30s','40s','50s','60s','+70s'],palette=col)"
   ]
  },
  {
   "cell_type": "code",
   "execution_count": 49,
   "id": "22250311",
   "metadata": {},
   "outputs": [
    {
     "data": {
      "text/plain": [
       "<AxesSubplot:xlabel='age_group', ylabel='count'>"
      ]
     },
     "execution_count": 49,
     "metadata": {},
     "output_type": "execute_result"
    },
    {
     "data": {
      "image/png": "[encoded data removed]",
      "text/plain": [
       "<Figure size 432x288 with 1 Axes>"
      ]
     },
     "metadata": {
      "needs_background": "light"
     },
     "output_type": "display_data"
    }
   ],
   "source": [
    "df.age_group=df.age_group.apply(lambda x:'+50s'if x in ['50s','60s','+70s'] else x)\n",
    "sns.countplot(x='age_group',data=df,order=['10s','20s','30s','40s','+50s'],palette=col)"
   ]
  },
  {
   "cell_type": "code",
   "execution_count": 50,
   "id": "b76616f5",
   "metadata": {},
   "outputs": [],
   "source": [
    "#7에 가까울수록 agree strongly, 0이 무응답으로 변환\n",
    "df['tp01']=7-df['tp01']\n",
    "df['tp02']=7-df['tp02']\n",
    "df['tp03']=7-df['tp03']\n",
    "df['tp04']=7-df['tp04']\n",
    "df['tp05']=7-df['tp05']\n",
    "df['tp06']=7-df['tp06']\n",
    "df['tp07']=7-df['tp07']\n",
    "df['tp08']=7-df['tp08']\n",
    "df['tp09']=7-df['tp09']\n",
    "df['tp10']=7-df['tp10']"
   ]
  },
  {
   "cell_type": "markdown",
   "id": "c2aae0f6",
   "metadata": {},
   "source": [
    "# 성격특성이 연령대에 따라 다른 분포를 보일까?"
   ]
  },
  {
   "cell_type": "markdown",
   "id": "ffc12e7c",
   "metadata": {},
   "source": [
    "## tp01: 외향적인, 열정적인 \n",
    "- 연령대가 증가할수록 자신이 외향적이고 열정적이라고 생각하는 비율이 미약하게 증가\n",
    "- 연령대에 따라 크게 달라지지는 않음"
   ]
  },
  {
   "cell_type": "code",
   "execution_count": 51,
   "id": "f3212e1b",
   "metadata": {},
   "outputs": [
    {
     "data": {
      "text/html": [
       "<div>\n",
       "<style scoped>\n",
       "    .dataframe tbody tr th:only-of-type {\n",
       "        vertical-align: middle;\n",
       "    }\n",
       "\n",
       "    .dataframe tbody tr th {\n",
       "        vertical-align: top;\n",
       "    }\n",
       "\n",
       "    .dataframe thead th {\n",
       "        text-align: right;\n",
       "    }\n",
       "</style>\n",
       "<table border=\"1\" class=\"dataframe\">\n",
       "  <thead>\n",
       "    <tr style=\"text-align: right;\">\n",
       "      <th>age_group</th>\n",
       "      <th>10s</th>\n",
       "      <th>20s</th>\n",
       "      <th>30s</th>\n",
       "      <th>40s</th>\n",
       "      <th>+50s</th>\n",
       "    </tr>\n",
       "    <tr>\n",
       "      <th>tp01</th>\n",
       "      <th></th>\n",
       "      <th></th>\n",
       "      <th></th>\n",
       "      <th></th>\n",
       "      <th></th>\n",
       "    </tr>\n",
       "  </thead>\n",
       "  <tbody>\n",
       "    <tr>\n",
       "      <th>1</th>\n",
       "      <td>1896</td>\n",
       "      <td>1901</td>\n",
       "      <td>1095</td>\n",
       "      <td>673</td>\n",
       "      <td>476</td>\n",
       "    </tr>\n",
       "    <tr>\n",
       "      <th>2</th>\n",
       "      <td>2478</td>\n",
       "      <td>2539</td>\n",
       "      <td>1392</td>\n",
       "      <td>820</td>\n",
       "      <td>713</td>\n",
       "    </tr>\n",
       "    <tr>\n",
       "      <th>3</th>\n",
       "      <td>1861</td>\n",
       "      <td>1935</td>\n",
       "      <td>1045</td>\n",
       "      <td>583</td>\n",
       "      <td>476</td>\n",
       "    </tr>\n",
       "    <tr>\n",
       "      <th>4</th>\n",
       "      <td>1155</td>\n",
       "      <td>1136</td>\n",
       "      <td>687</td>\n",
       "      <td>400</td>\n",
       "      <td>314</td>\n",
       "    </tr>\n",
       "    <tr>\n",
       "      <th>5</th>\n",
       "      <td>2504</td>\n",
       "      <td>2436</td>\n",
       "      <td>1332</td>\n",
       "      <td>908</td>\n",
       "      <td>697</td>\n",
       "    </tr>\n",
       "    <tr>\n",
       "      <th>6</th>\n",
       "      <td>2771</td>\n",
       "      <td>2699</td>\n",
       "      <td>1455</td>\n",
       "      <td>1087</td>\n",
       "      <td>1002</td>\n",
       "    </tr>\n",
       "    <tr>\n",
       "      <th>7</th>\n",
       "      <td>1496</td>\n",
       "      <td>1422</td>\n",
       "      <td>797</td>\n",
       "      <td>531</td>\n",
       "      <td>537</td>\n",
       "    </tr>\n",
       "    <tr>\n",
       "      <th>All</th>\n",
       "      <td>14161</td>\n",
       "      <td>14068</td>\n",
       "      <td>7803</td>\n",
       "      <td>5002</td>\n",
       "      <td>4215</td>\n",
       "    </tr>\n",
       "  </tbody>\n",
       "</table>\n",
       "</div>"
      ],
      "text/plain": [
       "age_group    10s    20s   30s   40s  +50s\n",
       "tp01                                     \n",
       "1           1896   1901  1095   673   476\n",
       "2           2478   2539  1392   820   713\n",
       "3           1861   1935  1045   583   476\n",
       "4           1155   1136   687   400   314\n",
       "5           2504   2436  1332   908   697\n",
       "6           2771   2699  1455  1087  1002\n",
       "7           1496   1422   797   531   537\n",
       "All        14161  14068  7803  5002  4215"
      ]
     },
     "execution_count": 51,
     "metadata": {},
     "output_type": "execute_result"
    }
   ],
   "source": [
    "#tp01 무응답한 사람들 제거\n",
    "tp01_df=df[df['tp01']!=0]\n",
    "pivot1=pd.pivot_table(tp01_df,values='index',index='tp01',columns='age_group',aggfunc='count',margins=True)\n",
    "pivot1=pivot1.reindex(['10s','20s','30s','40s','+50s'],axis=1)\n",
    "pivot1"
   ]
  },
  {
   "cell_type": "code",
   "execution_count": 52,
   "id": "518f8bd4",
   "metadata": {},
   "outputs": [
    {
     "data": {
      "text/html": [
       "<div>\n",
       "<style scoped>\n",
       "    .dataframe tbody tr th:only-of-type {\n",
       "        vertical-align: middle;\n",
       "    }\n",
       "\n",
       "    .dataframe tbody tr th {\n",
       "        vertical-align: top;\n",
       "    }\n",
       "\n",
       "    .dataframe thead th {\n",
       "        text-align: right;\n",
       "    }\n",
       "</style>\n",
       "<table border=\"1\" class=\"dataframe\">\n",
       "  <thead>\n",
       "    <tr style=\"text-align: right;\">\n",
       "      <th>tp01</th>\n",
       "      <th>1</th>\n",
       "      <th>2</th>\n",
       "      <th>3</th>\n",
       "      <th>4</th>\n",
       "      <th>5</th>\n",
       "      <th>6</th>\n",
       "      <th>7</th>\n",
       "      <th>All</th>\n",
       "    </tr>\n",
       "    <tr>\n",
       "      <th>age_group</th>\n",
       "      <th></th>\n",
       "      <th></th>\n",
       "      <th></th>\n",
       "      <th></th>\n",
       "      <th></th>\n",
       "      <th></th>\n",
       "      <th></th>\n",
       "      <th></th>\n",
       "    </tr>\n",
       "  </thead>\n",
       "  <tbody>\n",
       "    <tr>\n",
       "      <th>10s</th>\n",
       "      <td>13.388885</td>\n",
       "      <td>17.498764</td>\n",
       "      <td>13.141727</td>\n",
       "      <td>8.156204</td>\n",
       "      <td>17.682367</td>\n",
       "      <td>19.567827</td>\n",
       "      <td>10.564226</td>\n",
       "      <td>100.0</td>\n",
       "    </tr>\n",
       "    <tr>\n",
       "      <th>20s</th>\n",
       "      <td>13.512937</td>\n",
       "      <td>18.048052</td>\n",
       "      <td>13.754620</td>\n",
       "      <td>8.075064</td>\n",
       "      <td>17.315894</td>\n",
       "      <td>19.185385</td>\n",
       "      <td>10.108047</td>\n",
       "      <td>100.0</td>\n",
       "    </tr>\n",
       "    <tr>\n",
       "      <th>30s</th>\n",
       "      <td>14.033064</td>\n",
       "      <td>17.839293</td>\n",
       "      <td>13.392285</td>\n",
       "      <td>8.804306</td>\n",
       "      <td>17.070358</td>\n",
       "      <td>18.646674</td>\n",
       "      <td>10.214020</td>\n",
       "      <td>100.0</td>\n",
       "    </tr>\n",
       "    <tr>\n",
       "      <th>40s</th>\n",
       "      <td>13.454618</td>\n",
       "      <td>16.393443</td>\n",
       "      <td>11.655338</td>\n",
       "      <td>7.996801</td>\n",
       "      <td>18.152739</td>\n",
       "      <td>21.731307</td>\n",
       "      <td>10.615754</td>\n",
       "      <td>100.0</td>\n",
       "    </tr>\n",
       "    <tr>\n",
       "      <th>+50s</th>\n",
       "      <td>11.293001</td>\n",
       "      <td>16.915777</td>\n",
       "      <td>11.293001</td>\n",
       "      <td>7.449585</td>\n",
       "      <td>16.536180</td>\n",
       "      <td>23.772242</td>\n",
       "      <td>12.740214</td>\n",
       "      <td>100.0</td>\n",
       "    </tr>\n",
       "  </tbody>\n",
       "</table>\n",
       "</div>"
      ],
      "text/plain": [
       "tp01               1          2          3         4          5          6  \\\n",
       "age_group                                                                    \n",
       "10s        13.388885  17.498764  13.141727  8.156204  17.682367  19.567827   \n",
       "20s        13.512937  18.048052  13.754620  8.075064  17.315894  19.185385   \n",
       "30s        14.033064  17.839293  13.392285  8.804306  17.070358  18.646674   \n",
       "40s        13.454618  16.393443  11.655338  7.996801  18.152739  21.731307   \n",
       "+50s       11.293001  16.915777  11.293001  7.449585  16.536180  23.772242   \n",
       "\n",
       "tp01               7    All  \n",
       "age_group                    \n",
       "10s        10.564226  100.0  \n",
       "20s        10.108047  100.0  \n",
       "30s        10.214020  100.0  \n",
       "40s        10.615754  100.0  \n",
       "+50s       12.740214  100.0  "
      ]
     },
     "execution_count": 52,
     "metadata": {},
     "output_type": "execute_result"
    }
   ],
   "source": [
    "#비율\n",
    "pivot2=pivot1/pivot1.loc['All']*100\n",
    "pivot3=pivot2.transpose()\n",
    "pivot3"
   ]
  },
  {
   "cell_type": "code",
   "execution_count": 53,
   "id": "8027f30e",
   "metadata": {},
   "outputs": [],
   "source": [
    "plt.rcParams['font.family'] = 'NanumGothic'\n",
    "col=['#2913E8','#5789F7','#A0CBFF','#5271FF','#57A2F7','#2ECBFF','#7214FF','#8771FF','#892EE8']"
   ]
  },
  {
   "cell_type": "code",
   "execution_count": 54,
   "id": "5277d322",
   "metadata": {},
   "outputs": [
    {
     "data": {
      "text/plain": [
       "Text(0.5, 1.0, '활발하고 열정적인')"
      ]
     },
     "execution_count": 54,
     "metadata": {},
     "output_type": "execute_result"
    },
    {
     "data": {
      "image/png": "[encoded data removed]",
      "text/plain": [
       "<Figure size 720x432 with 1 Axes>"
      ]
     },
     "metadata": {
      "needs_background": "light"
     },
     "output_type": "display_data"
    }
   ],
   "source": [
    "#분포 그래프\n",
    "pivot3.iloc[:,0:7].plot(kind='barh',figsize=(10,6),stacked=True,alpha=0.7,color=col)\n",
    "plt.xlabel('Percentage')\n",
    "plt.ylabel('연령대')\n",
    "plt.title('활발하고 열정적인')"
   ]
  },
  {
   "cell_type": "code",
   "execution_count": 55,
   "id": "c36847d5",
   "metadata": {},
   "outputs": [
    {
     "data": {
      "text/plain": [
       "Text(0.5, 1.0, '활발하고 열정적인')"
      ]
     },
     "execution_count": 55,
     "metadata": {},
     "output_type": "execute_result"
    },
    {
     "data": {
      "image/png": "[encoded data removed]",
      "text/plain": [
       "<Figure size 432x288 with 1 Axes>"
      ]
     },
     "metadata": {
      "needs_background": "light"
     },
     "output_type": "display_data"
    }
   ],
   "source": [
    "#평균\n",
    "sns.barplot(data=tp01_df,x='age_group',y='tp01',order=['10s','20s','30s','40s','+50s'],palette=col)\n",
    "plt.ylabel('평균점수')\n",
    "plt.xlabel('연령대')\n",
    "plt.title('활발하고 열정적인')"
   ]
  },
  {
   "cell_type": "markdown",
   "id": "74ab927c",
   "metadata": {},
   "source": [
    "## tp02: 비판적인 싸우려드는\n",
    "- 연령대가 증가함에 따라 자신이 비판적이고 싸우기를 좋아하는 성격이 아니라고 답하는 비율이 현저하게 증가\n",
    "- 연령대별 차이가 뚜렷하게 나타남"
   ]
  },
  {
   "cell_type": "code",
   "execution_count": 56,
   "id": "0141ae1e",
   "metadata": {},
   "outputs": [
    {
     "data": {
      "text/html": [
       "<div>\n",
       "<style scoped>\n",
       "    .dataframe tbody tr th:only-of-type {\n",
       "        vertical-align: middle;\n",
       "    }\n",
       "\n",
       "    .dataframe tbody tr th {\n",
       "        vertical-align: top;\n",
       "    }\n",
       "\n",
       "    .dataframe thead th {\n",
       "        text-align: right;\n",
       "    }\n",
       "</style>\n",
       "<table border=\"1\" class=\"dataframe\">\n",
       "  <thead>\n",
       "    <tr style=\"text-align: right;\">\n",
       "      <th>age_group</th>\n",
       "      <th>10s</th>\n",
       "      <th>20s</th>\n",
       "      <th>30s</th>\n",
       "      <th>40s</th>\n",
       "      <th>+50s</th>\n",
       "    </tr>\n",
       "    <tr>\n",
       "      <th>tp02</th>\n",
       "      <th></th>\n",
       "      <th></th>\n",
       "      <th></th>\n",
       "      <th></th>\n",
       "      <th></th>\n",
       "    </tr>\n",
       "  </thead>\n",
       "  <tbody>\n",
       "    <tr>\n",
       "      <th>1</th>\n",
       "      <td>814</td>\n",
       "      <td>1154</td>\n",
       "      <td>901</td>\n",
       "      <td>756</td>\n",
       "      <td>989</td>\n",
       "    </tr>\n",
       "    <tr>\n",
       "      <th>2</th>\n",
       "      <td>1250</td>\n",
       "      <td>1460</td>\n",
       "      <td>988</td>\n",
       "      <td>849</td>\n",
       "      <td>793</td>\n",
       "    </tr>\n",
       "    <tr>\n",
       "      <th>3</th>\n",
       "      <td>1231</td>\n",
       "      <td>1230</td>\n",
       "      <td>794</td>\n",
       "      <td>515</td>\n",
       "      <td>428</td>\n",
       "    </tr>\n",
       "    <tr>\n",
       "      <th>4</th>\n",
       "      <td>1472</td>\n",
       "      <td>1170</td>\n",
       "      <td>637</td>\n",
       "      <td>369</td>\n",
       "      <td>273</td>\n",
       "    </tr>\n",
       "    <tr>\n",
       "      <th>5</th>\n",
       "      <td>3963</td>\n",
       "      <td>3925</td>\n",
       "      <td>2179</td>\n",
       "      <td>1386</td>\n",
       "      <td>1045</td>\n",
       "    </tr>\n",
       "    <tr>\n",
       "      <th>6</th>\n",
       "      <td>3223</td>\n",
       "      <td>3194</td>\n",
       "      <td>1486</td>\n",
       "      <td>798</td>\n",
       "      <td>507</td>\n",
       "    </tr>\n",
       "    <tr>\n",
       "      <th>7</th>\n",
       "      <td>2188</td>\n",
       "      <td>1923</td>\n",
       "      <td>821</td>\n",
       "      <td>330</td>\n",
       "      <td>176</td>\n",
       "    </tr>\n",
       "    <tr>\n",
       "      <th>All</th>\n",
       "      <td>14141</td>\n",
       "      <td>14056</td>\n",
       "      <td>7806</td>\n",
       "      <td>5003</td>\n",
       "      <td>4211</td>\n",
       "    </tr>\n",
       "  </tbody>\n",
       "</table>\n",
       "</div>"
      ],
      "text/plain": [
       "age_group    10s    20s   30s   40s  +50s\n",
       "tp02                                     \n",
       "1            814   1154   901   756   989\n",
       "2           1250   1460   988   849   793\n",
       "3           1231   1230   794   515   428\n",
       "4           1472   1170   637   369   273\n",
       "5           3963   3925  2179  1386  1045\n",
       "6           3223   3194  1486   798   507\n",
       "7           2188   1923   821   330   176\n",
       "All        14141  14056  7806  5003  4211"
      ]
     },
     "execution_count": 56,
     "metadata": {},
     "output_type": "execute_result"
    }
   ],
   "source": [
    "#tp02 무응답한 사람들 제거\n",
    "tp02_df=df[df['tp02']!=0]\n",
    "pivot4=pd.pivot_table(tp02_df,values='index',index='tp02',columns='age_group',aggfunc='count',margins=True)\n",
    "pivot4=pivot4.reindex(['10s','20s','30s','40s','+50s'],axis=1)\n",
    "pivot4"
   ]
  },
  {
   "cell_type": "code",
   "execution_count": 57,
   "id": "f7cec471",
   "metadata": {},
   "outputs": [
    {
     "data": {
      "text/html": [
       "<div>\n",
       "<style scoped>\n",
       "    .dataframe tbody tr th:only-of-type {\n",
       "        vertical-align: middle;\n",
       "    }\n",
       "\n",
       "    .dataframe tbody tr th {\n",
       "        vertical-align: top;\n",
       "    }\n",
       "\n",
       "    .dataframe thead th {\n",
       "        text-align: right;\n",
       "    }\n",
       "</style>\n",
       "<table border=\"1\" class=\"dataframe\">\n",
       "  <thead>\n",
       "    <tr style=\"text-align: right;\">\n",
       "      <th>tp02</th>\n",
       "      <th>1</th>\n",
       "      <th>2</th>\n",
       "      <th>3</th>\n",
       "      <th>4</th>\n",
       "      <th>5</th>\n",
       "      <th>6</th>\n",
       "      <th>7</th>\n",
       "      <th>All</th>\n",
       "    </tr>\n",
       "    <tr>\n",
       "      <th>age_group</th>\n",
       "      <th></th>\n",
       "      <th></th>\n",
       "      <th></th>\n",
       "      <th></th>\n",
       "      <th></th>\n",
       "      <th></th>\n",
       "      <th></th>\n",
       "      <th></th>\n",
       "    </tr>\n",
       "  </thead>\n",
       "  <tbody>\n",
       "    <tr>\n",
       "      <th>10s</th>\n",
       "      <td>5.756311</td>\n",
       "      <td>8.839545</td>\n",
       "      <td>8.705184</td>\n",
       "      <td>10.409448</td>\n",
       "      <td>28.024892</td>\n",
       "      <td>22.791882</td>\n",
       "      <td>15.472739</td>\n",
       "      <td>100.0</td>\n",
       "    </tr>\n",
       "    <tr>\n",
       "      <th>20s</th>\n",
       "      <td>8.210017</td>\n",
       "      <td>10.387023</td>\n",
       "      <td>8.750711</td>\n",
       "      <td>8.323847</td>\n",
       "      <td>27.924018</td>\n",
       "      <td>22.723392</td>\n",
       "      <td>13.680990</td>\n",
       "      <td>100.0</td>\n",
       "    </tr>\n",
       "    <tr>\n",
       "      <th>30s</th>\n",
       "      <td>11.542403</td>\n",
       "      <td>12.656931</td>\n",
       "      <td>10.171663</td>\n",
       "      <td>8.160389</td>\n",
       "      <td>27.914425</td>\n",
       "      <td>19.036638</td>\n",
       "      <td>10.517551</td>\n",
       "      <td>100.0</td>\n",
       "    </tr>\n",
       "    <tr>\n",
       "      <th>40s</th>\n",
       "      <td>15.110933</td>\n",
       "      <td>16.969818</td>\n",
       "      <td>10.293824</td>\n",
       "      <td>7.375575</td>\n",
       "      <td>27.703378</td>\n",
       "      <td>15.950430</td>\n",
       "      <td>6.596042</td>\n",
       "      <td>100.0</td>\n",
       "    </tr>\n",
       "    <tr>\n",
       "      <th>+50s</th>\n",
       "      <td>23.486108</td>\n",
       "      <td>18.831631</td>\n",
       "      <td>10.163857</td>\n",
       "      <td>6.483021</td>\n",
       "      <td>24.815958</td>\n",
       "      <td>12.039896</td>\n",
       "      <td>4.179530</td>\n",
       "      <td>100.0</td>\n",
       "    </tr>\n",
       "  </tbody>\n",
       "</table>\n",
       "</div>"
      ],
      "text/plain": [
       "tp02               1          2          3          4          5          6  \\\n",
       "age_group                                                                     \n",
       "10s         5.756311   8.839545   8.705184  10.409448  28.024892  22.791882   \n",
       "20s         8.210017  10.387023   8.750711   8.323847  27.924018  22.723392   \n",
       "30s        11.542403  12.656931  10.171663   8.160389  27.914425  19.036638   \n",
       "40s        15.110933  16.969818  10.293824   7.375575  27.703378  15.950430   \n",
       "+50s       23.486108  18.831631  10.163857   6.483021  24.815958  12.039896   \n",
       "\n",
       "tp02               7    All  \n",
       "age_group                    \n",
       "10s        15.472739  100.0  \n",
       "20s        13.680990  100.0  \n",
       "30s        10.517551  100.0  \n",
       "40s         6.596042  100.0  \n",
       "+50s        4.179530  100.0  "
      ]
     },
     "execution_count": 57,
     "metadata": {},
     "output_type": "execute_result"
    }
   ],
   "source": [
    "#비율\n",
    "pivot5=pivot4/pivot4.loc['All']*100\n",
    "pivot6=pivot5.transpose()\n",
    "pivot6"
   ]
  },
  {
   "cell_type": "code",
   "execution_count": 58,
   "id": "a54787db",
   "metadata": {},
   "outputs": [
    {
     "data": {
      "text/plain": [
       "Text(0.5, 1.0, '따지기를 좋아하고 다투기를 잘하는')"
      ]
     },
     "execution_count": 58,
     "metadata": {},
     "output_type": "execute_result"
    },
    {
     "data": {
      "image/png": "[encoded data removed]",
      "text/plain": [
       "<Figure size 720x432 with 1 Axes>"
      ]
     },
     "metadata": {
      "needs_background": "light"
     },
     "output_type": "display_data"
    }
   ],
   "source": [
    "#분포 그래프\n",
    "pivot6.iloc[:,0:7].plot(kind='barh',figsize=(10,6),stacked=True,alpha=0.7,color=col)\n",
    "plt.xlabel('Percentage')\n",
    "plt.ylabel('연령대')\n",
    "plt.title('따지기를 좋아하고 다투기를 잘하는')"
   ]
  },
  {
   "cell_type": "code",
   "execution_count": 59,
   "id": "f254685b",
   "metadata": {},
   "outputs": [
    {
     "data": {
      "text/plain": [
       "Text(0.5, 1.0, '따지기를 좋아하고 다투기를 잘하는')"
      ]
     },
     "execution_count": 59,
     "metadata": {},
     "output_type": "execute_result"
    },
    {
     "data": {
      "image/png": "[encoded data removed]",
      "text/plain": [
       "<Figure size 432x288 with 1 Axes>"
      ]
     },
     "metadata": {
      "needs_background": "light"
     },
     "output_type": "display_data"
    }
   ],
   "source": [
    "#평균\n",
    "sns.barplot(data=tp02_df,x='age_group',y='tp02',order=['10s','20s','30s','40s','+50s'],palette=col)\n",
    "plt.ylabel('평균점수')\n",
    "plt.xlabel('연령대')\n",
    "plt.title('따지기를 좋아하고 다투기를 잘하는')"
   ]
  },
  {
   "cell_type": "markdown",
   "id": "13a76f89",
   "metadata": {},
   "source": [
    "# 교육수준이 영향을 미치는가? \n",
    "- 교육수준에 따라서 성격 특성이 다르게 나타나는가?(tp01,tp02)\n",
    "> 1: 고등학교 미만<br>\n",
    "> 2: 고등학교 졸업<br>\n",
    "> 3: 학사 학위<br>\n",
    "> 4: 석박사 학위"
   ]
  },
  {
   "cell_type": "code",
   "execution_count": 60,
   "id": "6f07a184",
   "metadata": {},
   "outputs": [
    {
     "name": "stderr",
     "output_type": "stream",
     "text": [
      "C:\\Users\\rangc\\anaconda3\\lib\\site-packages\\seaborn\\_decorators.py:36: FutureWarning: Pass the following variable as a keyword arg: x. From version 0.12, the only valid positional argument will be `data`, and passing other arguments without an explicit keyword will result in an error or misinterpretation.\n",
      "  warnings.warn(\n"
     ]
    },
    {
     "data": {
      "text/plain": [
       "<AxesSubplot:xlabel='education', ylabel='count'>"
      ]
     },
     "execution_count": 60,
     "metadata": {},
     "output_type": "execute_result"
    },
    {
     "data": {
      "image/png": "[encoded data removed]",
      "text/plain": [
       "<Figure size 432x288 with 1 Axes>"
      ]
     },
     "metadata": {
      "needs_background": "light"
     },
     "output_type": "display_data"
    }
   ],
   "source": [
    "#교육수준 분포 보기\n",
    "sns.countplot(df['education'],palette=col)"
   ]
  },
  {
   "cell_type": "code",
   "execution_count": 18,
   "id": "c21cebe9",
   "metadata": {},
   "outputs": [],
   "source": [
    "#일단 교육수준 무응답 제거\n",
    "education_df=df[df['education']!=0]"
   ]
  },
  {
   "cell_type": "markdown",
   "id": "87f69cd2",
   "metadata": {},
   "source": [
    "## 교육수준이 외향적, 열정적 성격특성에 영향을 미치는가?"
   ]
  },
  {
   "cell_type": "code",
   "execution_count": 61,
   "id": "5f7c9b38",
   "metadata": {},
   "outputs": [
    {
     "data": {
      "text/html": [
       "<div>\n",
       "<style scoped>\n",
       "    .dataframe tbody tr th:only-of-type {\n",
       "        vertical-align: middle;\n",
       "    }\n",
       "\n",
       "    .dataframe tbody tr th {\n",
       "        vertical-align: top;\n",
       "    }\n",
       "\n",
       "    .dataframe thead th {\n",
       "        text-align: right;\n",
       "    }\n",
       "</style>\n",
       "<table border=\"1\" class=\"dataframe\">\n",
       "  <thead>\n",
       "    <tr style=\"text-align: right;\">\n",
       "      <th>education</th>\n",
       "      <th>1</th>\n",
       "      <th>2</th>\n",
       "      <th>3</th>\n",
       "      <th>4</th>\n",
       "      <th>All</th>\n",
       "    </tr>\n",
       "    <tr>\n",
       "      <th>tp01</th>\n",
       "      <th></th>\n",
       "      <th></th>\n",
       "      <th></th>\n",
       "      <th></th>\n",
       "      <th></th>\n",
       "    </tr>\n",
       "  </thead>\n",
       "  <tbody>\n",
       "    <tr>\n",
       "      <th>1</th>\n",
       "      <td>728</td>\n",
       "      <td>2410</td>\n",
       "      <td>1936</td>\n",
       "      <td>888</td>\n",
       "      <td>5962</td>\n",
       "    </tr>\n",
       "    <tr>\n",
       "      <th>2</th>\n",
       "      <td>868</td>\n",
       "      <td>3015</td>\n",
       "      <td>2716</td>\n",
       "      <td>1249</td>\n",
       "      <td>7848</td>\n",
       "    </tr>\n",
       "    <tr>\n",
       "      <th>3</th>\n",
       "      <td>613</td>\n",
       "      <td>2250</td>\n",
       "      <td>1955</td>\n",
       "      <td>1010</td>\n",
       "      <td>5828</td>\n",
       "    </tr>\n",
       "    <tr>\n",
       "      <th>4</th>\n",
       "      <td>451</td>\n",
       "      <td>1389</td>\n",
       "      <td>1169</td>\n",
       "      <td>643</td>\n",
       "      <td>3652</td>\n",
       "    </tr>\n",
       "    <tr>\n",
       "      <th>5</th>\n",
       "      <td>864</td>\n",
       "      <td>3006</td>\n",
       "      <td>2635</td>\n",
       "      <td>1289</td>\n",
       "      <td>7794</td>\n",
       "    </tr>\n",
       "    <tr>\n",
       "      <th>6</th>\n",
       "      <td>981</td>\n",
       "      <td>3123</td>\n",
       "      <td>3098</td>\n",
       "      <td>1714</td>\n",
       "      <td>8916</td>\n",
       "    </tr>\n",
       "    <tr>\n",
       "      <th>7</th>\n",
       "      <td>554</td>\n",
       "      <td>1536</td>\n",
       "      <td>1626</td>\n",
       "      <td>1013</td>\n",
       "      <td>4729</td>\n",
       "    </tr>\n",
       "    <tr>\n",
       "      <th>All</th>\n",
       "      <td>5059</td>\n",
       "      <td>16729</td>\n",
       "      <td>15135</td>\n",
       "      <td>7806</td>\n",
       "      <td>44729</td>\n",
       "    </tr>\n",
       "  </tbody>\n",
       "</table>\n",
       "</div>"
      ],
      "text/plain": [
       "education     1      2      3     4    All\n",
       "tp01                                      \n",
       "1           728   2410   1936   888   5962\n",
       "2           868   3015   2716  1249   7848\n",
       "3           613   2250   1955  1010   5828\n",
       "4           451   1389   1169   643   3652\n",
       "5           864   3006   2635  1289   7794\n",
       "6           981   3123   3098  1714   8916\n",
       "7           554   1536   1626  1013   4729\n",
       "All        5059  16729  15135  7806  44729"
      ]
     },
     "execution_count": 61,
     "metadata": {},
     "output_type": "execute_result"
    }
   ],
   "source": [
    "tp01_education_df=education_df[education_df['tp01']!=0] # tp01 무응답 제거\n",
    "pivot7=pd.pivot_table(tp01_education_df,values='index',index='tp01',columns='education',aggfunc='count',margins=True)\n",
    "pivot7"
   ]
  },
  {
   "cell_type": "code",
   "execution_count": 62,
   "id": "41f43bc8",
   "metadata": {},
   "outputs": [
    {
     "data": {
      "text/html": [
       "<div>\n",
       "<style scoped>\n",
       "    .dataframe tbody tr th:only-of-type {\n",
       "        vertical-align: middle;\n",
       "    }\n",
       "\n",
       "    .dataframe tbody tr th {\n",
       "        vertical-align: top;\n",
       "    }\n",
       "\n",
       "    .dataframe thead th {\n",
       "        text-align: right;\n",
       "    }\n",
       "</style>\n",
       "<table border=\"1\" class=\"dataframe\">\n",
       "  <thead>\n",
       "    <tr style=\"text-align: right;\">\n",
       "      <th>tp01</th>\n",
       "      <th>1</th>\n",
       "      <th>2</th>\n",
       "      <th>3</th>\n",
       "      <th>4</th>\n",
       "      <th>5</th>\n",
       "      <th>6</th>\n",
       "      <th>7</th>\n",
       "      <th>All</th>\n",
       "    </tr>\n",
       "    <tr>\n",
       "      <th>education</th>\n",
       "      <th></th>\n",
       "      <th></th>\n",
       "      <th></th>\n",
       "      <th></th>\n",
       "      <th></th>\n",
       "      <th></th>\n",
       "      <th></th>\n",
       "      <th></th>\n",
       "    </tr>\n",
       "  </thead>\n",
       "  <tbody>\n",
       "    <tr>\n",
       "      <th>1</th>\n",
       "      <td>14.390196</td>\n",
       "      <td>17.157541</td>\n",
       "      <td>12.117019</td>\n",
       "      <td>8.914805</td>\n",
       "      <td>17.078474</td>\n",
       "      <td>19.391184</td>\n",
       "      <td>10.950781</td>\n",
       "      <td>100.0</td>\n",
       "    </tr>\n",
       "    <tr>\n",
       "      <th>2</th>\n",
       "      <td>14.406121</td>\n",
       "      <td>18.022595</td>\n",
       "      <td>13.449698</td>\n",
       "      <td>8.302947</td>\n",
       "      <td>17.968797</td>\n",
       "      <td>18.668181</td>\n",
       "      <td>9.181661</td>\n",
       "      <td>100.0</td>\n",
       "    </tr>\n",
       "    <tr>\n",
       "      <th>3</th>\n",
       "      <td>12.791543</td>\n",
       "      <td>17.945160</td>\n",
       "      <td>12.917080</td>\n",
       "      <td>7.723819</td>\n",
       "      <td>17.409977</td>\n",
       "      <td>20.469111</td>\n",
       "      <td>10.743310</td>\n",
       "      <td>100.0</td>\n",
       "    </tr>\n",
       "    <tr>\n",
       "      <th>4</th>\n",
       "      <td>11.375865</td>\n",
       "      <td>16.000512</td>\n",
       "      <td>12.938765</td>\n",
       "      <td>8.237253</td>\n",
       "      <td>16.512939</td>\n",
       "      <td>21.957469</td>\n",
       "      <td>12.977197</td>\n",
       "      <td>100.0</td>\n",
       "    </tr>\n",
       "  </tbody>\n",
       "</table>\n",
       "</div>"
      ],
      "text/plain": [
       "tp01               1          2          3         4          5          6  \\\n",
       "education                                                                    \n",
       "1          14.390196  17.157541  12.117019  8.914805  17.078474  19.391184   \n",
       "2          14.406121  18.022595  13.449698  8.302947  17.968797  18.668181   \n",
       "3          12.791543  17.945160  12.917080  7.723819  17.409977  20.469111   \n",
       "4          11.375865  16.000512  12.938765  8.237253  16.512939  21.957469   \n",
       "\n",
       "tp01               7    All  \n",
       "education                    \n",
       "1          10.950781  100.0  \n",
       "2           9.181661  100.0  \n",
       "3          10.743310  100.0  \n",
       "4          12.977197  100.0  "
      ]
     },
     "execution_count": 62,
     "metadata": {},
     "output_type": "execute_result"
    }
   ],
   "source": [
    "#비율\n",
    "pivot8=pivot7/pivot7.loc['All']*100\n",
    "pivot9=pivot8.transpose()\n",
    "pivot9=pivot9.iloc[:4,:]\n",
    "pivot9"
   ]
  },
  {
   "cell_type": "code",
   "execution_count": 63,
   "id": "82742c10",
   "metadata": {},
   "outputs": [
    {
     "data": {
      "text/plain": [
       "Text(0.5, 1.0, '활발하고 열정적인')"
      ]
     },
     "execution_count": 63,
     "metadata": {},
     "output_type": "execute_result"
    },
    {
     "data": {
      "image/png": "[encoded data removed]",
      "text/plain": [
       "<Figure size 720x432 with 1 Axes>"
      ]
     },
     "metadata": {
      "needs_background": "light"
     },
     "output_type": "display_data"
    }
   ],
   "source": [
    "### 분포 그래프\n",
    "pivot9.iloc[:,0:7].plot(kind='barh',figsize=(10,6),stacked=True,alpha=0.7,color=col)\n",
    "plt.xlabel('Percentage')\n",
    "plt.ylabel('교육수준')\n",
    "plt.yticks([0,1,2,3,],['Less than high school','High school','University degree','Graduate degree'])\n",
    "plt.title('활발하고 열정적인')"
   ]
  },
  {
   "cell_type": "code",
   "execution_count": 64,
   "id": "19770c37",
   "metadata": {},
   "outputs": [
    {
     "data": {
      "text/plain": [
       "Text(0.5, 1.0, '활발하고 열정적인')"
      ]
     },
     "execution_count": 64,
     "metadata": {},
     "output_type": "execute_result"
    },
    {
     "data": {
      "image/png": "[encoded data removed]",
      "text/plain": [
       "<Figure size 432x288 with 1 Axes>"
      ]
     },
     "metadata": {
      "needs_background": "light"
     },
     "output_type": "display_data"
    }
   ],
   "source": [
    "sns.barplot(data=tp01_education_df,x='education',y='tp01',palette=col)\n",
    "plt.ylabel('평균점수')\n",
    "plt.xlabel('교육수준')\n",
    "plt.xticks([0,1,2,3,],['Less than high school','High school','University degree','Graduate degree'])\n",
    "plt.title('활발하고 열정적인')"
   ]
  },
  {
   "cell_type": "markdown",
   "id": "17bf1277",
   "metadata": {},
   "source": [
    "## 교육수준이 비판적, 싸우려드는 성격특성에 영향을 미치는가?"
   ]
  },
  {
   "cell_type": "code",
   "execution_count": 65,
   "id": "43de5856",
   "metadata": {},
   "outputs": [
    {
     "data": {
      "text/html": [
       "<div>\n",
       "<style scoped>\n",
       "    .dataframe tbody tr th:only-of-type {\n",
       "        vertical-align: middle;\n",
       "    }\n",
       "\n",
       "    .dataframe tbody tr th {\n",
       "        vertical-align: top;\n",
       "    }\n",
       "\n",
       "    .dataframe thead th {\n",
       "        text-align: right;\n",
       "    }\n",
       "</style>\n",
       "<table border=\"1\" class=\"dataframe\">\n",
       "  <thead>\n",
       "    <tr style=\"text-align: right;\">\n",
       "      <th>education</th>\n",
       "      <th>1</th>\n",
       "      <th>2</th>\n",
       "      <th>3</th>\n",
       "      <th>4</th>\n",
       "      <th>All</th>\n",
       "    </tr>\n",
       "    <tr>\n",
       "      <th>tp02</th>\n",
       "      <th></th>\n",
       "      <th></th>\n",
       "      <th></th>\n",
       "      <th></th>\n",
       "      <th></th>\n",
       "    </tr>\n",
       "  </thead>\n",
       "  <tbody>\n",
       "    <tr>\n",
       "      <th>1</th>\n",
       "      <td>312</td>\n",
       "      <td>1393</td>\n",
       "      <td>1726</td>\n",
       "      <td>1128</td>\n",
       "      <td>4559</td>\n",
       "    </tr>\n",
       "    <tr>\n",
       "      <th>2</th>\n",
       "      <td>462</td>\n",
       "      <td>1775</td>\n",
       "      <td>1894</td>\n",
       "      <td>1154</td>\n",
       "      <td>5285</td>\n",
       "    </tr>\n",
       "    <tr>\n",
       "      <th>3</th>\n",
       "      <td>431</td>\n",
       "      <td>1460</td>\n",
       "      <td>1472</td>\n",
       "      <td>788</td>\n",
       "      <td>4151</td>\n",
       "    </tr>\n",
       "    <tr>\n",
       "      <th>4</th>\n",
       "      <td>565</td>\n",
       "      <td>1543</td>\n",
       "      <td>1134</td>\n",
       "      <td>630</td>\n",
       "      <td>3872</td>\n",
       "    </tr>\n",
       "    <tr>\n",
       "      <th>5</th>\n",
       "      <td>1414</td>\n",
       "      <td>4774</td>\n",
       "      <td>4145</td>\n",
       "      <td>2004</td>\n",
       "      <td>12337</td>\n",
       "    </tr>\n",
       "    <tr>\n",
       "      <th>6</th>\n",
       "      <td>1095</td>\n",
       "      <td>3575</td>\n",
       "      <td>3092</td>\n",
       "      <td>1357</td>\n",
       "      <td>9119</td>\n",
       "    </tr>\n",
       "    <tr>\n",
       "      <th>7</th>\n",
       "      <td>777</td>\n",
       "      <td>2189</td>\n",
       "      <td>1669</td>\n",
       "      <td>739</td>\n",
       "      <td>5374</td>\n",
       "    </tr>\n",
       "    <tr>\n",
       "      <th>All</th>\n",
       "      <td>5056</td>\n",
       "      <td>16709</td>\n",
       "      <td>15132</td>\n",
       "      <td>7800</td>\n",
       "      <td>44697</td>\n",
       "    </tr>\n",
       "  </tbody>\n",
       "</table>\n",
       "</div>"
      ],
      "text/plain": [
       "education     1      2      3     4    All\n",
       "tp02                                      \n",
       "1           312   1393   1726  1128   4559\n",
       "2           462   1775   1894  1154   5285\n",
       "3           431   1460   1472   788   4151\n",
       "4           565   1543   1134   630   3872\n",
       "5          1414   4774   4145  2004  12337\n",
       "6          1095   3575   3092  1357   9119\n",
       "7           777   2189   1669   739   5374\n",
       "All        5056  16709  15132  7800  44697"
      ]
     },
     "execution_count": 65,
     "metadata": {},
     "output_type": "execute_result"
    }
   ],
   "source": [
    "tp02_education_df=education_df[education_df['tp02']!=0] # tp02 무응답 제거\n",
    "pivot10=pd.pivot_table(tp02_education_df,values='index',index='tp02',columns='education',aggfunc='count',margins=True)\n",
    "pivot10"
   ]
  },
  {
   "cell_type": "code",
   "execution_count": 66,
   "id": "e14e58bf",
   "metadata": {},
   "outputs": [
    {
     "data": {
      "text/html": [
       "<div>\n",
       "<style scoped>\n",
       "    .dataframe tbody tr th:only-of-type {\n",
       "        vertical-align: middle;\n",
       "    }\n",
       "\n",
       "    .dataframe tbody tr th {\n",
       "        vertical-align: top;\n",
       "    }\n",
       "\n",
       "    .dataframe thead th {\n",
       "        text-align: right;\n",
       "    }\n",
       "</style>\n",
       "<table border=\"1\" class=\"dataframe\">\n",
       "  <thead>\n",
       "    <tr style=\"text-align: right;\">\n",
       "      <th>tp02</th>\n",
       "      <th>1</th>\n",
       "      <th>2</th>\n",
       "      <th>3</th>\n",
       "      <th>4</th>\n",
       "      <th>5</th>\n",
       "      <th>6</th>\n",
       "      <th>7</th>\n",
       "      <th>All</th>\n",
       "    </tr>\n",
       "    <tr>\n",
       "      <th>education</th>\n",
       "      <th></th>\n",
       "      <th></th>\n",
       "      <th></th>\n",
       "      <th></th>\n",
       "      <th></th>\n",
       "      <th></th>\n",
       "      <th></th>\n",
       "      <th></th>\n",
       "    </tr>\n",
       "  </thead>\n",
       "  <tbody>\n",
       "    <tr>\n",
       "      <th>1</th>\n",
       "      <td>6.170886</td>\n",
       "      <td>9.137658</td>\n",
       "      <td>8.524525</td>\n",
       "      <td>11.174842</td>\n",
       "      <td>27.966772</td>\n",
       "      <td>21.657437</td>\n",
       "      <td>15.367880</td>\n",
       "      <td>100.0</td>\n",
       "    </tr>\n",
       "    <tr>\n",
       "      <th>2</th>\n",
       "      <td>8.336824</td>\n",
       "      <td>10.623018</td>\n",
       "      <td>8.737806</td>\n",
       "      <td>9.234544</td>\n",
       "      <td>28.571429</td>\n",
       "      <td>21.395655</td>\n",
       "      <td>13.100724</td>\n",
       "      <td>100.0</td>\n",
       "    </tr>\n",
       "    <tr>\n",
       "      <th>3</th>\n",
       "      <td>11.406291</td>\n",
       "      <td>12.516521</td>\n",
       "      <td>9.727729</td>\n",
       "      <td>7.494052</td>\n",
       "      <td>27.392281</td>\n",
       "      <td>20.433518</td>\n",
       "      <td>11.029606</td>\n",
       "      <td>100.0</td>\n",
       "    </tr>\n",
       "    <tr>\n",
       "      <th>4</th>\n",
       "      <td>14.461538</td>\n",
       "      <td>14.794872</td>\n",
       "      <td>10.102564</td>\n",
       "      <td>8.076923</td>\n",
       "      <td>25.692308</td>\n",
       "      <td>17.397436</td>\n",
       "      <td>9.474359</td>\n",
       "      <td>100.0</td>\n",
       "    </tr>\n",
       "  </tbody>\n",
       "</table>\n",
       "</div>"
      ],
      "text/plain": [
       "tp02               1          2          3          4          5          6  \\\n",
       "education                                                                     \n",
       "1           6.170886   9.137658   8.524525  11.174842  27.966772  21.657437   \n",
       "2           8.336824  10.623018   8.737806   9.234544  28.571429  21.395655   \n",
       "3          11.406291  12.516521   9.727729   7.494052  27.392281  20.433518   \n",
       "4          14.461538  14.794872  10.102564   8.076923  25.692308  17.397436   \n",
       "\n",
       "tp02               7    All  \n",
       "education                    \n",
       "1          15.367880  100.0  \n",
       "2          13.100724  100.0  \n",
       "3          11.029606  100.0  \n",
       "4           9.474359  100.0  "
      ]
     },
     "execution_count": 66,
     "metadata": {},
     "output_type": "execute_result"
    }
   ],
   "source": [
    "#비율\n",
    "pivot11=pivot10/pivot10.loc['All']*100\n",
    "pivot12=pivot11.transpose()\n",
    "pivot12=pivot12.iloc[:4,:]\n",
    "pivot12"
   ]
  },
  {
   "cell_type": "code",
   "execution_count": 67,
   "id": "e2983a99",
   "metadata": {},
   "outputs": [
    {
     "data": {
      "text/plain": [
       "Text(0.5, 1.0, '따지기를 좋아하고 다투기를 잘하는')"
      ]
     },
     "execution_count": 67,
     "metadata": {},
     "output_type": "execute_result"
    },
    {
     "data": {
      "image/png": "[encoded data removed]",
      "text/plain": [
       "<Figure size 720x432 with 1 Axes>"
      ]
     },
     "metadata": {
      "needs_background": "light"
     },
     "output_type": "display_data"
    }
   ],
   "source": [
    "#분포 그래프\n",
    "pivot12.iloc[:,0:7].plot(kind='barh',figsize=(10,6),stacked=True,alpha=0.7,color=col)\n",
    "plt.xlabel('Percentage')\n",
    "plt.ylabel('교육수준')\n",
    "plt.yticks([0,1,2,3,],['Less than high school','High school','University degree','Graduate degree'])\n",
    "plt.title('따지기를 좋아하고 다투기를 잘하는')"
   ]
  },
  {
   "cell_type": "code",
   "execution_count": 68,
   "id": "88d54369",
   "metadata": {},
   "outputs": [
    {
     "data": {
      "text/plain": [
       "Text(0.5, 1.0, '따지기를 좋아하고 다투기를 잘하는')"
      ]
     },
     "execution_count": 68,
     "metadata": {},
     "output_type": "execute_result"
    },
    {
     "data": {
      "image/png": "[encoded data removed]",
      "text/plain": [
       "<Figure size 432x288 with 1 Axes>"
      ]
     },
     "metadata": {
      "needs_background": "light"
     },
     "output_type": "display_data"
    }
   ],
   "source": [
    "sns.barplot(data=tp02_education_df,x='education',y='tp02',palette=col)\n",
    "plt.ylabel('평균점수')\n",
    "plt.xlabel('교육수준')\n",
    "plt.xticks([0,1,2,3,],['Less than high school','High school','University degree','Graduate degree'])\n",
    "plt.title('따지기를 좋아하고 다투기를 잘하는')"
   ]
  },
  {
   "cell_type": "markdown",
   "id": "eefa8038",
   "metadata": {},
   "source": [
    "# 형제자매수가 영향을 미치는가? \n",
    "- 형제자매수에 따라서 성격 특성이 다르게 나타나는가?(tp01,tp02)"
   ]
  },
  {
   "cell_type": "code",
   "execution_count": 88,
   "id": "4e2d2d50",
   "metadata": {},
   "outputs": [],
   "source": [
    "df=pd.read_csv('data.csv')"
   ]
  },
  {
   "cell_type": "code",
   "execution_count": 89,
   "id": "54f7a9f2",
   "metadata": {},
   "outputs": [
    {
     "name": "stderr",
     "output_type": "stream",
     "text": [
      "C:\\Users\\rangc\\anaconda3\\lib\\site-packages\\seaborn\\_decorators.py:36: FutureWarning: Pass the following variable as a keyword arg: x. From version 0.12, the only valid positional argument will be `data`, and passing other arguments without an explicit keyword will result in an error or misinterpretation.\n",
      "  warnings.warn(\n"
     ]
    },
    {
     "data": {
      "text/plain": [
       "<AxesSubplot:xlabel='familysize', ylabel='count'>"
      ]
     },
     "execution_count": 89,
     "metadata": {},
     "output_type": "execute_result"
    },
    {
     "data": {
      "image/png": "[encoded data removed]",
      "text/plain": [
       "<Figure size 432x288 with 1 Axes>"
      ]
     },
     "metadata": {
      "needs_background": "light"
     },
     "output_type": "display_data"
    }
   ],
   "source": [
    "#형제자매수 분포보기\n",
    "sns.countplot(df['familysize'],palette=col)"
   ]
  },
  {
   "cell_type": "code",
   "execution_count": 90,
   "id": "155bb6fd",
   "metadata": {},
   "outputs": [],
   "source": [
    "#13명이상의 이상치 제거\n",
    "familysize_df=df[df.familysize<13]"
   ]
  },
  {
   "cell_type": "code",
   "execution_count": 91,
   "id": "109b9b10",
   "metadata": {},
   "outputs": [
    {
     "name": "stderr",
     "output_type": "stream",
     "text": [
      "C:\\Users\\rangc\\anaconda3\\lib\\site-packages\\pandas\\core\\generic.py:5494: SettingWithCopyWarning: \n",
      "A value is trying to be set on a copy of a slice from a DataFrame.\n",
      "Try using .loc[row_indexer,col_indexer] = value instead\n",
      "\n",
      "See the caveats in the documentation: https://pandas.pydata.org/pandas-docs/stable/user_guide/indexing.html#returning-a-view-versus-a-copy\n",
      "  self[name] = value\n",
      "C:\\Users\\rangc\\anaconda3\\lib\\site-packages\\seaborn\\_decorators.py:36: FutureWarning: Pass the following variable as a keyword arg: x. From version 0.12, the only valid positional argument will be `data`, and passing other arguments without an explicit keyword will result in an error or misinterpretation.\n",
      "  warnings.warn(\n"
     ]
    },
    {
     "data": {
      "text/plain": [
       "<AxesSubplot:xlabel='familysize', ylabel='count'>"
      ]
     },
     "execution_count": 91,
     "metadata": {},
     "output_type": "execute_result"
    },
    {
     "data": {
      "image/png": "[encoded data removed]",
      "text/plain": [
       "<Figure size 432x288 with 1 Axes>"
      ]
     },
     "metadata": {
      "needs_background": "light"
     },
     "output_type": "display_data"
    }
   ],
   "source": [
    "#5명 이상은 통합\n",
    "familysize_df.familysize=familysize_df.familysize.apply(lambda x:'+6'if x>=6 else x)\n",
    "sns.countplot(familysize_df['familysize'],order=[0,1,2,3,4,5,'+6'],palette=col)"
   ]
  },
  {
   "cell_type": "markdown",
   "id": "be0ddea8",
   "metadata": {},
   "source": [
    "## 형제자매수가 외향적, 열정적 성격특성에 영향을 미치는가?"
   ]
  },
  {
   "cell_type": "code",
   "execution_count": 94,
   "id": "5610a795",
   "metadata": {},
   "outputs": [
    {
     "data": {
      "text/html": [
       "<div>\n",
       "<style scoped>\n",
       "    .dataframe tbody tr th:only-of-type {\n",
       "        vertical-align: middle;\n",
       "    }\n",
       "\n",
       "    .dataframe tbody tr th {\n",
       "        vertical-align: top;\n",
       "    }\n",
       "\n",
       "    .dataframe thead th {\n",
       "        text-align: right;\n",
       "    }\n",
       "</style>\n",
       "<table border=\"1\" class=\"dataframe\">\n",
       "  <thead>\n",
       "    <tr style=\"text-align: right;\">\n",
       "      <th>familysize</th>\n",
       "      <th>0</th>\n",
       "      <th>1</th>\n",
       "      <th>2</th>\n",
       "      <th>3</th>\n",
       "      <th>4</th>\n",
       "      <th>5</th>\n",
       "      <th>+6</th>\n",
       "      <th>All</th>\n",
       "    </tr>\n",
       "    <tr>\n",
       "      <th>tp01</th>\n",
       "      <th></th>\n",
       "      <th></th>\n",
       "      <th></th>\n",
       "      <th></th>\n",
       "      <th></th>\n",
       "      <th></th>\n",
       "      <th></th>\n",
       "      <th></th>\n",
       "    </tr>\n",
       "  </thead>\n",
       "  <tbody>\n",
       "    <tr>\n",
       "      <th>1</th>\n",
       "      <td>235</td>\n",
       "      <td>1280</td>\n",
       "      <td>3509</td>\n",
       "      <td>2232</td>\n",
       "      <td>1031</td>\n",
       "      <td>392</td>\n",
       "      <td>326</td>\n",
       "      <td>9005</td>\n",
       "    </tr>\n",
       "    <tr>\n",
       "      <th>2</th>\n",
       "      <td>212</td>\n",
       "      <td>1107</td>\n",
       "      <td>3045</td>\n",
       "      <td>1991</td>\n",
       "      <td>829</td>\n",
       "      <td>373</td>\n",
       "      <td>312</td>\n",
       "      <td>7869</td>\n",
       "    </tr>\n",
       "    <tr>\n",
       "      <th>3</th>\n",
       "      <td>110</td>\n",
       "      <td>540</td>\n",
       "      <td>1441</td>\n",
       "      <td>917</td>\n",
       "      <td>370</td>\n",
       "      <td>167</td>\n",
       "      <td>145</td>\n",
       "      <td>3690</td>\n",
       "    </tr>\n",
       "    <tr>\n",
       "      <th>4</th>\n",
       "      <td>146</td>\n",
       "      <td>834</td>\n",
       "      <td>2406</td>\n",
       "      <td>1456</td>\n",
       "      <td>623</td>\n",
       "      <td>229</td>\n",
       "      <td>200</td>\n",
       "      <td>5894</td>\n",
       "    </tr>\n",
       "    <tr>\n",
       "      <th>5</th>\n",
       "      <td>200</td>\n",
       "      <td>1173</td>\n",
       "      <td>3198</td>\n",
       "      <td>1928</td>\n",
       "      <td>842</td>\n",
       "      <td>343</td>\n",
       "      <td>252</td>\n",
       "      <td>7936</td>\n",
       "    </tr>\n",
       "    <tr>\n",
       "      <th>6</th>\n",
       "      <td>165</td>\n",
       "      <td>886</td>\n",
       "      <td>2396</td>\n",
       "      <td>1439</td>\n",
       "      <td>656</td>\n",
       "      <td>256</td>\n",
       "      <td>235</td>\n",
       "      <td>6033</td>\n",
       "    </tr>\n",
       "    <tr>\n",
       "      <th>7</th>\n",
       "      <td>12</td>\n",
       "      <td>38</td>\n",
       "      <td>88</td>\n",
       "      <td>70</td>\n",
       "      <td>33</td>\n",
       "      <td>18</td>\n",
       "      <td>23</td>\n",
       "      <td>282</td>\n",
       "    </tr>\n",
       "    <tr>\n",
       "      <th>All</th>\n",
       "      <td>1080</td>\n",
       "      <td>5858</td>\n",
       "      <td>16083</td>\n",
       "      <td>10033</td>\n",
       "      <td>4384</td>\n",
       "      <td>1778</td>\n",
       "      <td>1493</td>\n",
       "      <td>40709</td>\n",
       "    </tr>\n",
       "  </tbody>\n",
       "</table>\n",
       "</div>"
      ],
      "text/plain": [
       "familysize     0     1      2      3     4     5    +6    All\n",
       "tp01                                                         \n",
       "1            235  1280   3509   2232  1031   392   326   9005\n",
       "2            212  1107   3045   1991   829   373   312   7869\n",
       "3            110   540   1441    917   370   167   145   3690\n",
       "4            146   834   2406   1456   623   229   200   5894\n",
       "5            200  1173   3198   1928   842   343   252   7936\n",
       "6            165   886   2396   1439   656   256   235   6033\n",
       "7             12    38     88     70    33    18    23    282\n",
       "All         1080  5858  16083  10033  4384  1778  1493  40709"
      ]
     },
     "execution_count": 94,
     "metadata": {},
     "output_type": "execute_result"
    }
   ],
   "source": [
    "tp01_familysize_df=familysize_df[familysize_df['tp01']!=0] # tp01 무응답 제거\n",
    "pivot13=pd.pivot_table(data=tp01_familysize_df,values='index',index='tp01',columns='familysize',aggfunc='count',margins=True)\n",
    "pivot13"
   ]
  },
  {
   "cell_type": "code",
   "execution_count": 97,
   "id": "3c5c3e1b",
   "metadata": {},
   "outputs": [
    {
     "data": {
      "text/html": [
       "<div>\n",
       "<style scoped>\n",
       "    .dataframe tbody tr th:only-of-type {\n",
       "        vertical-align: middle;\n",
       "    }\n",
       "\n",
       "    .dataframe tbody tr th {\n",
       "        vertical-align: top;\n",
       "    }\n",
       "\n",
       "    .dataframe thead th {\n",
       "        text-align: right;\n",
       "    }\n",
       "</style>\n",
       "<table border=\"1\" class=\"dataframe\">\n",
       "  <thead>\n",
       "    <tr style=\"text-align: right;\">\n",
       "      <th>tp01</th>\n",
       "      <th>1</th>\n",
       "      <th>2</th>\n",
       "      <th>3</th>\n",
       "      <th>4</th>\n",
       "      <th>5</th>\n",
       "      <th>6</th>\n",
       "      <th>7</th>\n",
       "      <th>All</th>\n",
       "    </tr>\n",
       "    <tr>\n",
       "      <th>familysize</th>\n",
       "      <th></th>\n",
       "      <th></th>\n",
       "      <th></th>\n",
       "      <th></th>\n",
       "      <th></th>\n",
       "      <th></th>\n",
       "      <th></th>\n",
       "      <th></th>\n",
       "    </tr>\n",
       "  </thead>\n",
       "  <tbody>\n",
       "    <tr>\n",
       "      <th>0</th>\n",
       "      <td>21.759259</td>\n",
       "      <td>19.629630</td>\n",
       "      <td>10.185185</td>\n",
       "      <td>13.518519</td>\n",
       "      <td>18.518519</td>\n",
       "      <td>15.277778</td>\n",
       "      <td>1.111111</td>\n",
       "      <td>100.0</td>\n",
       "    </tr>\n",
       "    <tr>\n",
       "      <th>1</th>\n",
       "      <td>21.850461</td>\n",
       "      <td>18.897235</td>\n",
       "      <td>9.218163</td>\n",
       "      <td>14.236941</td>\n",
       "      <td>20.023899</td>\n",
       "      <td>15.124616</td>\n",
       "      <td>0.648686</td>\n",
       "      <td>100.0</td>\n",
       "    </tr>\n",
       "    <tr>\n",
       "      <th>2</th>\n",
       "      <td>21.818069</td>\n",
       "      <td>18.933035</td>\n",
       "      <td>8.959771</td>\n",
       "      <td>14.959896</td>\n",
       "      <td>19.884350</td>\n",
       "      <td>14.897718</td>\n",
       "      <td>0.547162</td>\n",
       "      <td>100.0</td>\n",
       "    </tr>\n",
       "    <tr>\n",
       "      <th>3</th>\n",
       "      <td>22.246586</td>\n",
       "      <td>19.844513</td>\n",
       "      <td>9.139839</td>\n",
       "      <td>14.512110</td>\n",
       "      <td>19.216585</td>\n",
       "      <td>14.342669</td>\n",
       "      <td>0.697698</td>\n",
       "      <td>100.0</td>\n",
       "    </tr>\n",
       "    <tr>\n",
       "      <th>4</th>\n",
       "      <td>23.517336</td>\n",
       "      <td>18.909672</td>\n",
       "      <td>8.439781</td>\n",
       "      <td>14.210766</td>\n",
       "      <td>19.206204</td>\n",
       "      <td>14.963504</td>\n",
       "      <td>0.752737</td>\n",
       "      <td>100.0</td>\n",
       "    </tr>\n",
       "    <tr>\n",
       "      <th>5</th>\n",
       "      <td>22.047244</td>\n",
       "      <td>20.978628</td>\n",
       "      <td>9.392576</td>\n",
       "      <td>12.879640</td>\n",
       "      <td>19.291339</td>\n",
       "      <td>14.398200</td>\n",
       "      <td>1.012373</td>\n",
       "      <td>100.0</td>\n",
       "    </tr>\n",
       "    <tr>\n",
       "      <th>+6</th>\n",
       "      <td>21.835231</td>\n",
       "      <td>20.897522</td>\n",
       "      <td>9.711989</td>\n",
       "      <td>13.395847</td>\n",
       "      <td>16.878768</td>\n",
       "      <td>15.740121</td>\n",
       "      <td>1.540522</td>\n",
       "      <td>100.0</td>\n",
       "    </tr>\n",
       "  </tbody>\n",
       "</table>\n",
       "</div>"
      ],
      "text/plain": [
       "tp01                1          2          3          4          5          6  \\\n",
       "familysize                                                                     \n",
       "0           21.759259  19.629630  10.185185  13.518519  18.518519  15.277778   \n",
       "1           21.850461  18.897235   9.218163  14.236941  20.023899  15.124616   \n",
       "2           21.818069  18.933035   8.959771  14.959896  19.884350  14.897718   \n",
       "3           22.246586  19.844513   9.139839  14.512110  19.216585  14.342669   \n",
       "4           23.517336  18.909672   8.439781  14.210766  19.206204  14.963504   \n",
       "5           22.047244  20.978628   9.392576  12.879640  19.291339  14.398200   \n",
       "+6          21.835231  20.897522   9.711989  13.395847  16.878768  15.740121   \n",
       "\n",
       "tp01               7    All  \n",
       "familysize                   \n",
       "0           1.111111  100.0  \n",
       "1           0.648686  100.0  \n",
       "2           0.547162  100.0  \n",
       "3           0.697698  100.0  \n",
       "4           0.752737  100.0  \n",
       "5           1.012373  100.0  \n",
       "+6          1.540522  100.0  "
      ]
     },
     "execution_count": 97,
     "metadata": {},
     "output_type": "execute_result"
    }
   ],
   "source": [
    "#비율\n",
    "pivot14=pivot13/pivot13.loc['All']*100\n",
    "pivot15=pivot14.transpose()\n",
    "pivot15=pivot15.iloc[:7,:]\n",
    "pivot15"
   ]
  },
  {
   "cell_type": "code",
   "execution_count": 98,
   "id": "6023864f",
   "metadata": {},
   "outputs": [
    {
     "data": {
      "text/plain": [
       "Text(0.5, 1.0, '활발하고 열정적인')"
      ]
     },
     "execution_count": 98,
     "metadata": {},
     "output_type": "execute_result"
    },
    {
     "data": {
      "image/png": "[encoded data removed]",
      "text/plain": [
       "<Figure size 720x432 with 1 Axes>"
      ]
     },
     "metadata": {
      "needs_background": "light"
     },
     "output_type": "display_data"
    }
   ],
   "source": [
    "#분포 그래프\n",
    "pivot15.iloc[:,0:7].plot(kind='barh',figsize=(10,6),stacked=True,alpha=0.7,color=col)\n",
    "plt.xlabel('Percentage')\n",
    "plt.ylabel('형제자매수')\n",
    "plt.title('활발하고 열정적인')"
   ]
  },
  {
   "cell_type": "code",
   "execution_count": 101,
   "id": "a22fc8f8",
   "metadata": {},
   "outputs": [
    {
     "data": {
      "text/plain": [
       "Text(0.5, 1.0, '활발하고 열정적인')"
      ]
     },
     "execution_count": 101,
     "metadata": {},
     "output_type": "execute_result"
    },
    {
     "data": {
      "image/png": "[encoded data removed]",
      "text/plain": [
       "<Figure size 432x288 with 1 Axes>"
      ]
     },
     "metadata": {
      "needs_background": "light"
     },
     "output_type": "display_data"
    }
   ],
   "source": [
    "#평균비교\n",
    "sns.barplot(data=tp01_familysize_df,x='familysize',y='tp01',order=[0,1,2,3,4,5,'+6'],palette=col)\n",
    "plt.ylabel('평균점수')\n",
    "plt.xlabel('형제자매수')\n",
    "plt.title('활발하고 열정적인')"
   ]
  },
  {
   "cell_type": "markdown",
   "id": "cb49afc1",
   "metadata": {},
   "source": [
    "## 형제자매수가 비판적, 싸우려드는 성격특성에 영향을 미치는가?\n"
   ]
  },
  {
   "cell_type": "code",
   "execution_count": 103,
   "id": "65d19593",
   "metadata": {},
   "outputs": [
    {
     "data": {
      "text/html": [
       "<div>\n",
       "<style scoped>\n",
       "    .dataframe tbody tr th:only-of-type {\n",
       "        vertical-align: middle;\n",
       "    }\n",
       "\n",
       "    .dataframe tbody tr th {\n",
       "        vertical-align: top;\n",
       "    }\n",
       "\n",
       "    .dataframe thead th {\n",
       "        text-align: right;\n",
       "    }\n",
       "</style>\n",
       "<table border=\"1\" class=\"dataframe\">\n",
       "  <thead>\n",
       "    <tr style=\"text-align: right;\">\n",
       "      <th>familysize</th>\n",
       "      <th>0</th>\n",
       "      <th>1</th>\n",
       "      <th>2</th>\n",
       "      <th>3</th>\n",
       "      <th>4</th>\n",
       "      <th>5</th>\n",
       "      <th>+6</th>\n",
       "      <th>All</th>\n",
       "    </tr>\n",
       "    <tr>\n",
       "      <th>tp02</th>\n",
       "      <th></th>\n",
       "      <th></th>\n",
       "      <th></th>\n",
       "      <th></th>\n",
       "      <th></th>\n",
       "      <th></th>\n",
       "      <th></th>\n",
       "      <th></th>\n",
       "    </tr>\n",
       "  </thead>\n",
       "  <tbody>\n",
       "    <tr>\n",
       "      <th>1</th>\n",
       "      <td>272</td>\n",
       "      <td>1431</td>\n",
       "      <td>3768</td>\n",
       "      <td>2231</td>\n",
       "      <td>899</td>\n",
       "      <td>348</td>\n",
       "      <td>256</td>\n",
       "      <td>9205</td>\n",
       "    </tr>\n",
       "    <tr>\n",
       "      <th>2</th>\n",
       "      <td>315</td>\n",
       "      <td>1749</td>\n",
       "      <td>4949</td>\n",
       "      <td>3153</td>\n",
       "      <td>1348</td>\n",
       "      <td>523</td>\n",
       "      <td>447</td>\n",
       "      <td>12484</td>\n",
       "    </tr>\n",
       "    <tr>\n",
       "      <th>3</th>\n",
       "      <td>124</td>\n",
       "      <td>538</td>\n",
       "      <td>1570</td>\n",
       "      <td>935</td>\n",
       "      <td>405</td>\n",
       "      <td>190</td>\n",
       "      <td>150</td>\n",
       "      <td>3912</td>\n",
       "    </tr>\n",
       "    <tr>\n",
       "      <th>4</th>\n",
       "      <td>105</td>\n",
       "      <td>538</td>\n",
       "      <td>1664</td>\n",
       "      <td>1084</td>\n",
       "      <td>467</td>\n",
       "      <td>183</td>\n",
       "      <td>154</td>\n",
       "      <td>4195</td>\n",
       "    </tr>\n",
       "    <tr>\n",
       "      <th>5</th>\n",
       "      <td>124</td>\n",
       "      <td>710</td>\n",
       "      <td>2039</td>\n",
       "      <td>1334</td>\n",
       "      <td>622</td>\n",
       "      <td>251</td>\n",
       "      <td>253</td>\n",
       "      <td>5333</td>\n",
       "    </tr>\n",
       "    <tr>\n",
       "      <th>6</th>\n",
       "      <td>94</td>\n",
       "      <td>635</td>\n",
       "      <td>1631</td>\n",
       "      <td>1142</td>\n",
       "      <td>600</td>\n",
       "      <td>259</td>\n",
       "      <td>246</td>\n",
       "      <td>4607</td>\n",
       "    </tr>\n",
       "    <tr>\n",
       "      <th>7</th>\n",
       "      <td>12</td>\n",
       "      <td>45</td>\n",
       "      <td>86</td>\n",
       "      <td>82</td>\n",
       "      <td>41</td>\n",
       "      <td>24</td>\n",
       "      <td>24</td>\n",
       "      <td>314</td>\n",
       "    </tr>\n",
       "    <tr>\n",
       "      <th>All</th>\n",
       "      <td>1046</td>\n",
       "      <td>5646</td>\n",
       "      <td>15707</td>\n",
       "      <td>9961</td>\n",
       "      <td>4382</td>\n",
       "      <td>1778</td>\n",
       "      <td>1530</td>\n",
       "      <td>40050</td>\n",
       "    </tr>\n",
       "  </tbody>\n",
       "</table>\n",
       "</div>"
      ],
      "text/plain": [
       "familysize     0     1      2     3     4     5    +6    All\n",
       "tp02                                                        \n",
       "1            272  1431   3768  2231   899   348   256   9205\n",
       "2            315  1749   4949  3153  1348   523   447  12484\n",
       "3            124   538   1570   935   405   190   150   3912\n",
       "4            105   538   1664  1084   467   183   154   4195\n",
       "5            124   710   2039  1334   622   251   253   5333\n",
       "6             94   635   1631  1142   600   259   246   4607\n",
       "7             12    45     86    82    41    24    24    314\n",
       "All         1046  5646  15707  9961  4382  1778  1530  40050"
      ]
     },
     "execution_count": 103,
     "metadata": {},
     "output_type": "execute_result"
    }
   ],
   "source": [
    "tp02_familysize_df=familysize_df[familysize_df['tp02']!=0] # tp02 무응답 제거\n",
    "pivot16=pd.pivot_table(tp02_familysize_df,values='index',index='tp02',columns='familysize',aggfunc='count',margins=True)\n",
    "pivot16"
   ]
  },
  {
   "cell_type": "code",
   "execution_count": 104,
   "id": "ed6c64cb",
   "metadata": {},
   "outputs": [
    {
     "data": {
      "text/html": [
       "<div>\n",
       "<style scoped>\n",
       "    .dataframe tbody tr th:only-of-type {\n",
       "        vertical-align: middle;\n",
       "    }\n",
       "\n",
       "    .dataframe tbody tr th {\n",
       "        vertical-align: top;\n",
       "    }\n",
       "\n",
       "    .dataframe thead th {\n",
       "        text-align: right;\n",
       "    }\n",
       "</style>\n",
       "<table border=\"1\" class=\"dataframe\">\n",
       "  <thead>\n",
       "    <tr style=\"text-align: right;\">\n",
       "      <th>tp02</th>\n",
       "      <th>1</th>\n",
       "      <th>2</th>\n",
       "      <th>3</th>\n",
       "      <th>4</th>\n",
       "      <th>5</th>\n",
       "      <th>6</th>\n",
       "      <th>7</th>\n",
       "      <th>All</th>\n",
       "    </tr>\n",
       "    <tr>\n",
       "      <th>familysize</th>\n",
       "      <th></th>\n",
       "      <th></th>\n",
       "      <th></th>\n",
       "      <th></th>\n",
       "      <th></th>\n",
       "      <th></th>\n",
       "      <th></th>\n",
       "      <th></th>\n",
       "    </tr>\n",
       "  </thead>\n",
       "  <tbody>\n",
       "    <tr>\n",
       "      <th>0</th>\n",
       "      <td>26.003824</td>\n",
       "      <td>30.114723</td>\n",
       "      <td>11.854685</td>\n",
       "      <td>10.038241</td>\n",
       "      <td>11.854685</td>\n",
       "      <td>8.986616</td>\n",
       "      <td>1.147228</td>\n",
       "      <td>100.0</td>\n",
       "    </tr>\n",
       "    <tr>\n",
       "      <th>1</th>\n",
       "      <td>25.345377</td>\n",
       "      <td>30.977683</td>\n",
       "      <td>9.528870</td>\n",
       "      <td>9.528870</td>\n",
       "      <td>12.575275</td>\n",
       "      <td>11.246900</td>\n",
       "      <td>0.797024</td>\n",
       "      <td>100.0</td>\n",
       "    </tr>\n",
       "    <tr>\n",
       "      <th>2</th>\n",
       "      <td>23.989304</td>\n",
       "      <td>31.508245</td>\n",
       "      <td>9.995543</td>\n",
       "      <td>10.594003</td>\n",
       "      <td>12.981473</td>\n",
       "      <td>10.383905</td>\n",
       "      <td>0.547527</td>\n",
       "      <td>100.0</td>\n",
       "    </tr>\n",
       "    <tr>\n",
       "      <th>3</th>\n",
       "      <td>22.397350</td>\n",
       "      <td>31.653448</td>\n",
       "      <td>9.386608</td>\n",
       "      <td>10.882442</td>\n",
       "      <td>13.392230</td>\n",
       "      <td>11.464712</td>\n",
       "      <td>0.823211</td>\n",
       "      <td>100.0</td>\n",
       "    </tr>\n",
       "    <tr>\n",
       "      <th>4</th>\n",
       "      <td>20.515746</td>\n",
       "      <td>30.762209</td>\n",
       "      <td>9.242355</td>\n",
       "      <td>10.657234</td>\n",
       "      <td>14.194432</td>\n",
       "      <td>13.692378</td>\n",
       "      <td>0.935646</td>\n",
       "      <td>100.0</td>\n",
       "    </tr>\n",
       "    <tr>\n",
       "      <th>5</th>\n",
       "      <td>19.572553</td>\n",
       "      <td>29.415073</td>\n",
       "      <td>10.686164</td>\n",
       "      <td>10.292463</td>\n",
       "      <td>14.116985</td>\n",
       "      <td>14.566929</td>\n",
       "      <td>1.349831</td>\n",
       "      <td>100.0</td>\n",
       "    </tr>\n",
       "    <tr>\n",
       "      <th>+6</th>\n",
       "      <td>16.732026</td>\n",
       "      <td>29.215686</td>\n",
       "      <td>9.803922</td>\n",
       "      <td>10.065359</td>\n",
       "      <td>16.535948</td>\n",
       "      <td>16.078431</td>\n",
       "      <td>1.568627</td>\n",
       "      <td>100.0</td>\n",
       "    </tr>\n",
       "  </tbody>\n",
       "</table>\n",
       "</div>"
      ],
      "text/plain": [
       "tp02                1          2          3          4          5          6  \\\n",
       "familysize                                                                     \n",
       "0           26.003824  30.114723  11.854685  10.038241  11.854685   8.986616   \n",
       "1           25.345377  30.977683   9.528870   9.528870  12.575275  11.246900   \n",
       "2           23.989304  31.508245   9.995543  10.594003  12.981473  10.383905   \n",
       "3           22.397350  31.653448   9.386608  10.882442  13.392230  11.464712   \n",
       "4           20.515746  30.762209   9.242355  10.657234  14.194432  13.692378   \n",
       "5           19.572553  29.415073  10.686164  10.292463  14.116985  14.566929   \n",
       "+6          16.732026  29.215686   9.803922  10.065359  16.535948  16.078431   \n",
       "\n",
       "tp02               7    All  \n",
       "familysize                   \n",
       "0           1.147228  100.0  \n",
       "1           0.797024  100.0  \n",
       "2           0.547527  100.0  \n",
       "3           0.823211  100.0  \n",
       "4           0.935646  100.0  \n",
       "5           1.349831  100.0  \n",
       "+6          1.568627  100.0  "
      ]
     },
     "execution_count": 104,
     "metadata": {},
     "output_type": "execute_result"
    }
   ],
   "source": [
    "#비율\n",
    "pivot17=pivot16/pivot16.loc['All']*100\n",
    "pivot18=pivot17.transpose()\n",
    "pivot18=pivot18.iloc[:7,:]\n",
    "pivot18"
   ]
  },
  {
   "cell_type": "code",
   "execution_count": 106,
   "id": "3da240b1",
   "metadata": {},
   "outputs": [
    {
     "data": {
      "text/plain": [
       "Text(0.5, 1.0, '따지기를 좋아하고 다투기를 잘하는')"
      ]
     },
     "execution_count": 106,
     "metadata": {},
     "output_type": "execute_result"
    },
    {
     "data": {
      "image/png": "[encoded data removed]",
      "text/plain": [
       "<Figure size 720x432 with 1 Axes>"
      ]
     },
     "metadata": {
      "needs_background": "light"
     },
     "output_type": "display_data"
    }
   ],
   "source": [
    "#분포 그래프\n",
    "pivot18.iloc[:,0:7].plot(kind='barh',figsize=(10,6),stacked=True,alpha=0.7,color=col)\n",
    "plt.xlabel('Percentage')\n",
    "plt.ylabel('형제자매수')\n",
    "plt.title('따지기를 좋아하고 다투기를 잘하는')"
   ]
  },
  {
   "cell_type": "code",
   "execution_count": 108,
   "id": "66bc1249",
   "metadata": {},
   "outputs": [
    {
     "data": {
      "text/plain": [
       "Text(0.5, 1.0, '따지기를 좋아하고 다투기를 잘하는')"
      ]
     },
     "execution_count": 108,
     "metadata": {},
     "output_type": "execute_result"
    },
    {
     "data": {
      "image/png": "[encoded data removed]",
      "text/plain": [
       "<Figure size 432x288 with 1 Axes>"
      ]
     },
     "metadata": {
      "needs_background": "light"
     },
     "output_type": "display_data"
    }
   ],
   "source": [
    "#평균\n",
    "sns.barplot(data=tp02_familysize_df,x='familysize',y='tp02',order=[0,1,2,3,4,5,'+6'],palette=col)\n",
    "plt.ylabel('평균점수')\n",
    "plt.xlabel('형제자매수')\n",
    "plt.title('따지기를 좋아하고 다투기를 잘하는')"
   ]
  },
  {
   "cell_type": "markdown",
   "id": "ea357005",
   "metadata": {},
   "source": [
    "# 혼인상태가 영향을 미치는가? \n",
    "- 혼인상태에 따라서 성격 특성이 다르게 나타나는가?(tp01,tp02)\n",
    "> 1: 미혼<br>\n",
    "> 2: 기혼(현재 결혼상태)<br>\n",
    "> 3: 이혼(이전에 결혼)<br>"
   ]
  },
  {
   "cell_type": "code",
   "execution_count": 109,
   "id": "fc77d895",
   "metadata": {},
   "outputs": [
    {
     "name": "stderr",
     "output_type": "stream",
     "text": [
      "C:\\Users\\rangc\\anaconda3\\lib\\site-packages\\seaborn\\_decorators.py:36: FutureWarning: Pass the following variable as a keyword arg: x. From version 0.12, the only valid positional argument will be `data`, and passing other arguments without an explicit keyword will result in an error or misinterpretation.\n",
      "  warnings.warn(\n"
     ]
    },
    {
     "data": {
      "text/plain": [
       "<AxesSubplot:xlabel='married', ylabel='count'>"
      ]
     },
     "execution_count": 109,
     "metadata": {},
     "output_type": "execute_result"
    },
    {
     "data": {
      "image/png": "[encoded data removed]",
      "text/plain": [
       "<Figure size 432x288 with 1 Axes>"
      ]
     },
     "metadata": {
      "needs_background": "light"
     },
     "output_type": "display_data"
    }
   ],
   "source": [
    "sns.countplot(df['married'],palette=col)"
   ]
  },
  {
   "cell_type": "code",
   "execution_count": 110,
   "id": "f653589a",
   "metadata": {},
   "outputs": [
    {
     "name": "stderr",
     "output_type": "stream",
     "text": [
      "C:\\Users\\rangc\\anaconda3\\lib\\site-packages\\seaborn\\_decorators.py:36: FutureWarning: Pass the following variable as a keyword arg: x. From version 0.12, the only valid positional argument will be `data`, and passing other arguments without an explicit keyword will result in an error or misinterpretation.\n",
      "  warnings.warn(\n"
     ]
    },
    {
     "data": {
      "text/plain": [
       "([<matplotlib.axis.XTick at 0x200b02032b0>,\n",
       "  <matplotlib.axis.XTick at 0x200b0203280>,\n",
       "  <matplotlib.axis.XTick at 0x200b01fc910>],\n",
       " [Text(0, 0, 'never'), Text(1, 0, 'currently'), Text(2, 0, 'previously')])"
      ]
     },
     "execution_count": 110,
     "metadata": {},
     "output_type": "execute_result"
    },
    {
     "data": {
      "image/png": "[encoded data removed]",
      "text/plain": [
       "<Figure size 432x288 with 1 Axes>"
      ]
     },
     "metadata": {
      "needs_background": "light"
     },
     "output_type": "display_data"
    }
   ],
   "source": [
    "married_df=df[df['married']!=0]\n",
    "a=sns.countplot(married_df['married'],palette=col)\n",
    "plt.xticks([0,1,2],['never','currently','previously'])"
   ]
  },
  {
   "cell_type": "markdown",
   "id": "78643591",
   "metadata": {},
   "source": [
    "## 혼인상태가 외향적, 열정적 성격특성에 영향을 미치는가?"
   ]
  },
  {
   "cell_type": "code",
   "execution_count": 111,
   "id": "53ea7a7d",
   "metadata": {},
   "outputs": [
    {
     "data": {
      "text/html": [
       "<div>\n",
       "<style scoped>\n",
       "    .dataframe tbody tr th:only-of-type {\n",
       "        vertical-align: middle;\n",
       "    }\n",
       "\n",
       "    .dataframe tbody tr th {\n",
       "        vertical-align: top;\n",
       "    }\n",
       "\n",
       "    .dataframe thead th {\n",
       "        text-align: right;\n",
       "    }\n",
       "</style>\n",
       "<table border=\"1\" class=\"dataframe\">\n",
       "  <thead>\n",
       "    <tr style=\"text-align: right;\">\n",
       "      <th>married</th>\n",
       "      <th>1</th>\n",
       "      <th>2</th>\n",
       "      <th>3</th>\n",
       "      <th>All</th>\n",
       "    </tr>\n",
       "    <tr>\n",
       "      <th>tp01</th>\n",
       "      <th></th>\n",
       "      <th></th>\n",
       "      <th></th>\n",
       "      <th></th>\n",
       "    </tr>\n",
       "  </thead>\n",
       "  <tbody>\n",
       "    <tr>\n",
       "      <th>1</th>\n",
       "      <td>5985</td>\n",
       "      <td>2209</td>\n",
       "      <td>801</td>\n",
       "      <td>8995</td>\n",
       "    </tr>\n",
       "    <tr>\n",
       "      <th>2</th>\n",
       "      <td>5440</td>\n",
       "      <td>1729</td>\n",
       "      <td>693</td>\n",
       "      <td>7862</td>\n",
       "    </tr>\n",
       "    <tr>\n",
       "      <th>3</th>\n",
       "      <td>2617</td>\n",
       "      <td>790</td>\n",
       "      <td>281</td>\n",
       "      <td>3688</td>\n",
       "    </tr>\n",
       "    <tr>\n",
       "      <th>4</th>\n",
       "      <td>4223</td>\n",
       "      <td>1233</td>\n",
       "      <td>431</td>\n",
       "      <td>5887</td>\n",
       "    </tr>\n",
       "    <tr>\n",
       "      <th>5</th>\n",
       "      <td>5674</td>\n",
       "      <td>1635</td>\n",
       "      <td>623</td>\n",
       "      <td>7932</td>\n",
       "    </tr>\n",
       "    <tr>\n",
       "      <th>6</th>\n",
       "      <td>4361</td>\n",
       "      <td>1193</td>\n",
       "      <td>474</td>\n",
       "      <td>6028</td>\n",
       "    </tr>\n",
       "    <tr>\n",
       "      <th>7</th>\n",
       "      <td>118</td>\n",
       "      <td>98</td>\n",
       "      <td>66</td>\n",
       "      <td>282</td>\n",
       "    </tr>\n",
       "    <tr>\n",
       "      <th>All</th>\n",
       "      <td>28418</td>\n",
       "      <td>8887</td>\n",
       "      <td>3369</td>\n",
       "      <td>40674</td>\n",
       "    </tr>\n",
       "  </tbody>\n",
       "</table>\n",
       "</div>"
      ],
      "text/plain": [
       "married      1     2     3    All\n",
       "tp01                             \n",
       "1         5985  2209   801   8995\n",
       "2         5440  1729   693   7862\n",
       "3         2617   790   281   3688\n",
       "4         4223  1233   431   5887\n",
       "5         5674  1635   623   7932\n",
       "6         4361  1193   474   6028\n",
       "7          118    98    66    282\n",
       "All      28418  8887  3369  40674"
      ]
     },
     "execution_count": 111,
     "metadata": {},
     "output_type": "execute_result"
    }
   ],
   "source": [
    "tp01_married_df=married_df[married_df['tp01']!=0] # tp01 무응답 제거\n",
    "pivot19=pd.pivot_table(tp01_married_df,values='index',index='tp01',columns='married',aggfunc='count',margins=True)\n",
    "pivot19"
   ]
  },
  {
   "cell_type": "code",
   "execution_count": 112,
   "id": "74f3278c",
   "metadata": {},
   "outputs": [
    {
     "data": {
      "text/html": [
       "<div>\n",
       "<style scoped>\n",
       "    .dataframe tbody tr th:only-of-type {\n",
       "        vertical-align: middle;\n",
       "    }\n",
       "\n",
       "    .dataframe tbody tr th {\n",
       "        vertical-align: top;\n",
       "    }\n",
       "\n",
       "    .dataframe thead th {\n",
       "        text-align: right;\n",
       "    }\n",
       "</style>\n",
       "<table border=\"1\" class=\"dataframe\">\n",
       "  <thead>\n",
       "    <tr style=\"text-align: right;\">\n",
       "      <th>tp01</th>\n",
       "      <th>1</th>\n",
       "      <th>2</th>\n",
       "      <th>3</th>\n",
       "      <th>4</th>\n",
       "      <th>5</th>\n",
       "      <th>6</th>\n",
       "      <th>7</th>\n",
       "      <th>All</th>\n",
       "    </tr>\n",
       "    <tr>\n",
       "      <th>married</th>\n",
       "      <th></th>\n",
       "      <th></th>\n",
       "      <th></th>\n",
       "      <th></th>\n",
       "      <th></th>\n",
       "      <th></th>\n",
       "      <th></th>\n",
       "      <th></th>\n",
       "    </tr>\n",
       "  </thead>\n",
       "  <tbody>\n",
       "    <tr>\n",
       "      <th>1</th>\n",
       "      <td>21.060595</td>\n",
       "      <td>19.142797</td>\n",
       "      <td>9.208952</td>\n",
       "      <td>14.860300</td>\n",
       "      <td>19.966219</td>\n",
       "      <td>15.345908</td>\n",
       "      <td>0.415230</td>\n",
       "      <td>100.0</td>\n",
       "    </tr>\n",
       "    <tr>\n",
       "      <th>2</th>\n",
       "      <td>24.856532</td>\n",
       "      <td>19.455384</td>\n",
       "      <td>8.889389</td>\n",
       "      <td>13.874198</td>\n",
       "      <td>18.397660</td>\n",
       "      <td>13.424103</td>\n",
       "      <td>1.102734</td>\n",
       "      <td>100.0</td>\n",
       "    </tr>\n",
       "    <tr>\n",
       "      <th>3</th>\n",
       "      <td>23.775601</td>\n",
       "      <td>20.569902</td>\n",
       "      <td>8.340754</td>\n",
       "      <td>12.793114</td>\n",
       "      <td>18.492134</td>\n",
       "      <td>14.069457</td>\n",
       "      <td>1.959038</td>\n",
       "      <td>100.0</td>\n",
       "    </tr>\n",
       "  </tbody>\n",
       "</table>\n",
       "</div>"
      ],
      "text/plain": [
       "tp01             1          2         3          4          5          6  \\\n",
       "married                                                                    \n",
       "1        21.060595  19.142797  9.208952  14.860300  19.966219  15.345908   \n",
       "2        24.856532  19.455384  8.889389  13.874198  18.397660  13.424103   \n",
       "3        23.775601  20.569902  8.340754  12.793114  18.492134  14.069457   \n",
       "\n",
       "tp01            7    All  \n",
       "married                   \n",
       "1        0.415230  100.0  \n",
       "2        1.102734  100.0  \n",
       "3        1.959038  100.0  "
      ]
     },
     "execution_count": 112,
     "metadata": {},
     "output_type": "execute_result"
    }
   ],
   "source": [
    "#비율\n",
    "pivot20=pivot19/pivot19.loc['All']*100\n",
    "pivot21=pivot20.transpose()\n",
    "pivot21=pivot21.iloc[:3,:]\n",
    "pivot21"
   ]
  },
  {
   "cell_type": "code",
   "execution_count": 126,
   "id": "e047f2b9",
   "metadata": {},
   "outputs": [
    {
     "data": {
      "text/plain": [
       "Text(0.5, 1.0, '활발하고 열정적인')"
      ]
     },
     "execution_count": 126,
     "metadata": {},
     "output_type": "execute_result"
    },
    {
     "data": {
      "image/png": "[encoded data removed]",
      "text/plain": [
       "<Figure size 720x432 with 1 Axes>"
      ]
     },
     "metadata": {
      "needs_background": "light"
     },
     "output_type": "display_data"
    }
   ],
   "source": [
    "#분포 그래프\n",
    "pivot21.iloc[:,0:7].plot(kind='barh',figsize=(10,6),stacked=True,alpha=0.7,color=col)\n",
    "plt.xlabel('Percentage')\n",
    "plt.ylabel('혼인상태')\n",
    "plt.yticks([0,1,2,],['미혼','기혼','이혼'])\n",
    "plt.title('활발하고 열정적인')"
   ]
  },
  {
   "cell_type": "code",
   "execution_count": 129,
   "id": "8339ec45",
   "metadata": {},
   "outputs": [
    {
     "data": {
      "text/plain": [
       "Text(0.5, 1.0, '활발하고 열정적인')"
      ]
     },
     "execution_count": 129,
     "metadata": {},
     "output_type": "execute_result"
    },
    {
     "data": {
      "image/png": "[encoded data removed]",
      "text/plain": [
       "<Figure size 432x288 with 1 Axes>"
      ]
     },
     "metadata": {
      "needs_background": "light"
     },
     "output_type": "display_data"
    }
   ],
   "source": [
    "#평균\n",
    "sns.barplot(data=tp01_married_df,x='married',y='tp01',order=[1,2,3],palette=col)\n",
    "plt.xticks([0,1,2,],['미혼',' 기혼', '이혼'])\n",
    "plt.ylabel('평균점수')\n",
    "plt.xlabel('혼인상태')\n",
    "plt.title('활발하고 열정적인')"
   ]
  },
  {
   "cell_type": "markdown",
   "id": "41ddf4ad",
   "metadata": {},
   "source": [
    "## 혼인상태가 비판적, 싸우려드는 성격특성에 영향을 미치는가?\n"
   ]
  },
  {
   "cell_type": "code",
   "execution_count": 130,
   "id": "681af76f",
   "metadata": {},
   "outputs": [
    {
     "data": {
      "text/html": [
       "<div>\n",
       "<style scoped>\n",
       "    .dataframe tbody tr th:only-of-type {\n",
       "        vertical-align: middle;\n",
       "    }\n",
       "\n",
       "    .dataframe tbody tr th {\n",
       "        vertical-align: top;\n",
       "    }\n",
       "\n",
       "    .dataframe thead th {\n",
       "        text-align: right;\n",
       "    }\n",
       "</style>\n",
       "<table border=\"1\" class=\"dataframe\">\n",
       "  <thead>\n",
       "    <tr style=\"text-align: right;\">\n",
       "      <th>married</th>\n",
       "      <th>1</th>\n",
       "      <th>2</th>\n",
       "      <th>3</th>\n",
       "      <th>All</th>\n",
       "    </tr>\n",
       "    <tr>\n",
       "      <th>tp02</th>\n",
       "      <th></th>\n",
       "      <th></th>\n",
       "      <th></th>\n",
       "      <th></th>\n",
       "    </tr>\n",
       "  </thead>\n",
       "  <tbody>\n",
       "    <tr>\n",
       "      <th>1</th>\n",
       "      <td>6988</td>\n",
       "      <td>1677</td>\n",
       "      <td>520</td>\n",
       "      <td>9185</td>\n",
       "    </tr>\n",
       "    <tr>\n",
       "      <th>2</th>\n",
       "      <td>8814</td>\n",
       "      <td>2686</td>\n",
       "      <td>968</td>\n",
       "      <td>12468</td>\n",
       "    </tr>\n",
       "    <tr>\n",
       "      <th>3</th>\n",
       "      <td>2892</td>\n",
       "      <td>755</td>\n",
       "      <td>265</td>\n",
       "      <td>3912</td>\n",
       "    </tr>\n",
       "    <tr>\n",
       "      <th>4</th>\n",
       "      <td>2775</td>\n",
       "      <td>1062</td>\n",
       "      <td>357</td>\n",
       "      <td>4194</td>\n",
       "    </tr>\n",
       "    <tr>\n",
       "      <th>5</th>\n",
       "      <td>3127</td>\n",
       "      <td>1496</td>\n",
       "      <td>707</td>\n",
       "      <td>5330</td>\n",
       "    </tr>\n",
       "    <tr>\n",
       "      <th>6</th>\n",
       "      <td>2395</td>\n",
       "      <td>1499</td>\n",
       "      <td>713</td>\n",
       "      <td>4607</td>\n",
       "    </tr>\n",
       "    <tr>\n",
       "      <th>7</th>\n",
       "      <td>143</td>\n",
       "      <td>101</td>\n",
       "      <td>69</td>\n",
       "      <td>313</td>\n",
       "    </tr>\n",
       "    <tr>\n",
       "      <th>All</th>\n",
       "      <td>27134</td>\n",
       "      <td>9276</td>\n",
       "      <td>3599</td>\n",
       "      <td>40009</td>\n",
       "    </tr>\n",
       "  </tbody>\n",
       "</table>\n",
       "</div>"
      ],
      "text/plain": [
       "married      1     2     3    All\n",
       "tp02                             \n",
       "1         6988  1677   520   9185\n",
       "2         8814  2686   968  12468\n",
       "3         2892   755   265   3912\n",
       "4         2775  1062   357   4194\n",
       "5         3127  1496   707   5330\n",
       "6         2395  1499   713   4607\n",
       "7          143   101    69    313\n",
       "All      27134  9276  3599  40009"
      ]
     },
     "execution_count": 130,
     "metadata": {},
     "output_type": "execute_result"
    }
   ],
   "source": [
    "tp02_married_df=married_df[married_df['tp02']!=0] # tp02 무응답 제거\n",
    "pivot22=pd.pivot_table(tp02_married_df,values='index',index='tp02',columns='married',aggfunc='count',margins=True)\n",
    "pivot22"
   ]
  },
  {
   "cell_type": "code",
   "execution_count": 131,
   "id": "8714b69f",
   "metadata": {},
   "outputs": [
    {
     "data": {
      "text/html": [
       "<div>\n",
       "<style scoped>\n",
       "    .dataframe tbody tr th:only-of-type {\n",
       "        vertical-align: middle;\n",
       "    }\n",
       "\n",
       "    .dataframe tbody tr th {\n",
       "        vertical-align: top;\n",
       "    }\n",
       "\n",
       "    .dataframe thead th {\n",
       "        text-align: right;\n",
       "    }\n",
       "</style>\n",
       "<table border=\"1\" class=\"dataframe\">\n",
       "  <thead>\n",
       "    <tr style=\"text-align: right;\">\n",
       "      <th>tp02</th>\n",
       "      <th>1</th>\n",
       "      <th>2</th>\n",
       "      <th>3</th>\n",
       "      <th>4</th>\n",
       "      <th>5</th>\n",
       "      <th>6</th>\n",
       "      <th>7</th>\n",
       "      <th>All</th>\n",
       "    </tr>\n",
       "    <tr>\n",
       "      <th>married</th>\n",
       "      <th></th>\n",
       "      <th></th>\n",
       "      <th></th>\n",
       "      <th></th>\n",
       "      <th></th>\n",
       "      <th></th>\n",
       "      <th></th>\n",
       "      <th></th>\n",
       "    </tr>\n",
       "  </thead>\n",
       "  <tbody>\n",
       "    <tr>\n",
       "      <th>1</th>\n",
       "      <td>25.753667</td>\n",
       "      <td>32.483231</td>\n",
       "      <td>10.658215</td>\n",
       "      <td>10.227021</td>\n",
       "      <td>11.524287</td>\n",
       "      <td>8.826564</td>\n",
       "      <td>0.527014</td>\n",
       "      <td>100.0</td>\n",
       "    </tr>\n",
       "    <tr>\n",
       "      <th>2</th>\n",
       "      <td>18.078913</td>\n",
       "      <td>28.956447</td>\n",
       "      <td>8.139284</td>\n",
       "      <td>11.448900</td>\n",
       "      <td>16.127641</td>\n",
       "      <td>16.159983</td>\n",
       "      <td>1.088831</td>\n",
       "      <td>100.0</td>\n",
       "    </tr>\n",
       "    <tr>\n",
       "      <th>3</th>\n",
       "      <td>14.448458</td>\n",
       "      <td>26.896360</td>\n",
       "      <td>7.363156</td>\n",
       "      <td>9.919422</td>\n",
       "      <td>19.644346</td>\n",
       "      <td>19.811059</td>\n",
       "      <td>1.917199</td>\n",
       "      <td>100.0</td>\n",
       "    </tr>\n",
       "  </tbody>\n",
       "</table>\n",
       "</div>"
      ],
      "text/plain": [
       "tp02             1          2          3          4          5          6  \\\n",
       "married                                                                     \n",
       "1        25.753667  32.483231  10.658215  10.227021  11.524287   8.826564   \n",
       "2        18.078913  28.956447   8.139284  11.448900  16.127641  16.159983   \n",
       "3        14.448458  26.896360   7.363156   9.919422  19.644346  19.811059   \n",
       "\n",
       "tp02            7    All  \n",
       "married                   \n",
       "1        0.527014  100.0  \n",
       "2        1.088831  100.0  \n",
       "3        1.917199  100.0  "
      ]
     },
     "execution_count": 131,
     "metadata": {},
     "output_type": "execute_result"
    }
   ],
   "source": [
    "#비율\n",
    "pivot23=pivot22/pivot22.loc['All']*100\n",
    "pivot24=pivot23.transpose()\n",
    "pivot24=pivot24.iloc[:3,:]\n",
    "pivot24"
   ]
  },
  {
   "cell_type": "code",
   "execution_count": 133,
   "id": "425be60f",
   "metadata": {},
   "outputs": [
    {
     "data": {
      "text/plain": [
       "Text(0.5, 1.0, '따지기를 좋아하고 다투기를 잘하는')"
      ]
     },
     "execution_count": 133,
     "metadata": {},
     "output_type": "execute_result"
    },
    {
     "data": {
      "image/png": "[encoded data removed]",
      "text/plain": [
       "<Figure size 720x432 with 1 Axes>"
      ]
     },
     "metadata": {
      "needs_background": "light"
     },
     "output_type": "display_data"
    }
   ],
   "source": [
    "#분포 그래프\n",
    "pivot24.iloc[:,0:7].plot(kind='barh',figsize=(10,6),stacked=True,alpha=0.7,color=col)\n",
    "plt.xlabel('Percentage')\n",
    "plt.ylabel('혼인상태')\n",
    "plt.yticks([0,1,2],['미혼','기혼','이혼'])\n",
    "plt.title('따지기를 좋아하고 다투기를 잘하는')"
   ]
  },
  {
   "cell_type": "code",
   "execution_count": 134,
   "id": "0c822d6e",
   "metadata": {},
   "outputs": [
    {
     "data": {
      "text/plain": [
       "Text(0.5, 1.0, '따지기를 좋아하고 다투기를 잘하는')"
      ]
     },
     "execution_count": 134,
     "metadata": {},
     "output_type": "execute_result"
    },
    {
     "data": {
      "image/png": "[encoded data removed]",
      "text/plain": [
       "<Figure size 432x288 with 1 Axes>"
      ]
     },
     "metadata": {
      "needs_background": "light"
     },
     "output_type": "display_data"
    }
   ],
   "source": [
    "#평균\n",
    "sns.barplot(data=tp02_married_df,x='married',y='tp02',order=[1,2,3],palette=col)\n",
    "plt.xticks([0,1,2,],['미혼',' 기혼', '이혼'])\n",
    "plt.ylabel('평균점수')\n",
    "plt.xlabel('혼인상태')\n",
    "plt.title('따지기를 좋아하고 다투기를 잘하는')"
   ]
  },
  {
   "cell_type": "markdown",
   "id": "bda4d12c",
   "metadata": {},
   "source": [
    "# 유년기 거주지역이 영향을 미치는가?\n",
    "- 유년기 거주지역에 따라서 성격 특성이 다르게 나타나는가?(tp01,tp02)\n",
    "> 1: rural<br>\n",
    "> 2: suburban<br>\n",
    "> 3: urban<br>"
   ]
  },
  {
   "cell_type": "code",
   "execution_count": 135,
   "id": "c5f33693",
   "metadata": {},
   "outputs": [
    {
     "name": "stderr",
     "output_type": "stream",
     "text": [
      "C:\\Users\\rangc\\anaconda3\\lib\\site-packages\\seaborn\\_decorators.py:36: FutureWarning: Pass the following variable as a keyword arg: x. From version 0.12, the only valid positional argument will be `data`, and passing other arguments without an explicit keyword will result in an error or misinterpretation.\n",
      "  warnings.warn(\n"
     ]
    },
    {
     "data": {
      "text/plain": [
       "<AxesSubplot:xlabel='urban', ylabel='count'>"
      ]
     },
     "execution_count": 135,
     "metadata": {},
     "output_type": "execute_result"
    },
    {
     "data": {
      "image/png": "[encoded data removed]",
      "text/plain": [
       "<Figure size 432x288 with 1 Axes>"
      ]
     },
     "metadata": {
      "needs_background": "light"
     },
     "output_type": "display_data"
    }
   ],
   "source": [
    "sns.countplot(df['urban'],palette=col)"
   ]
  },
  {
   "cell_type": "code",
   "execution_count": 136,
   "id": "96b55419",
   "metadata": {},
   "outputs": [
    {
     "name": "stderr",
     "output_type": "stream",
     "text": [
      "C:\\Users\\rangc\\anaconda3\\lib\\site-packages\\seaborn\\_decorators.py:36: FutureWarning: Pass the following variable as a keyword arg: x. From version 0.12, the only valid positional argument will be `data`, and passing other arguments without an explicit keyword will result in an error or misinterpretation.\n",
      "  warnings.warn(\n"
     ]
    },
    {
     "data": {
      "text/plain": [
       "([<matplotlib.axis.XTick at 0x200b5d7ffd0>,\n",
       "  <matplotlib.axis.XTick at 0x200b5d7ffa0>,\n",
       "  <matplotlib.axis.XTick at 0x200b5d7f670>],\n",
       " [Text(0, 0, 'rural'), Text(1, 0, 'suburban'), Text(2, 0, 'urban')])"
      ]
     },
     "execution_count": 136,
     "metadata": {},
     "output_type": "execute_result"
    },
    {
     "data": {
      "image/png": "[encoded data removed]",
      "text/plain": [
       "<Figure size 432x288 with 1 Axes>"
      ]
     },
     "metadata": {
      "needs_background": "light"
     },
     "output_type": "display_data"
    }
   ],
   "source": [
    "urban_df=df[df['urban']!=0]\n",
    "a=sns.countplot(urban_df['urban'],palette=col)\n",
    "plt.xticks([0,1,2],['rural','suburban','urban'])"
   ]
  },
  {
   "cell_type": "markdown",
   "id": "59644475",
   "metadata": {},
   "source": [
    "## 유년기 거주지역이 외향적, 열정적 성격특성에 영향을 미치는가"
   ]
  },
  {
   "cell_type": "code",
   "execution_count": 137,
   "id": "d9faa800",
   "metadata": {},
   "outputs": [
    {
     "data": {
      "text/html": [
       "<div>\n",
       "<style scoped>\n",
       "    .dataframe tbody tr th:only-of-type {\n",
       "        vertical-align: middle;\n",
       "    }\n",
       "\n",
       "    .dataframe tbody tr th {\n",
       "        vertical-align: top;\n",
       "    }\n",
       "\n",
       "    .dataframe thead th {\n",
       "        text-align: right;\n",
       "    }\n",
       "</style>\n",
       "<table border=\"1\" class=\"dataframe\">\n",
       "  <thead>\n",
       "    <tr style=\"text-align: right;\">\n",
       "      <th>urban</th>\n",
       "      <th>1</th>\n",
       "      <th>2</th>\n",
       "      <th>3</th>\n",
       "      <th>All</th>\n",
       "    </tr>\n",
       "    <tr>\n",
       "      <th>tp01</th>\n",
       "      <th></th>\n",
       "      <th></th>\n",
       "      <th></th>\n",
       "      <th></th>\n",
       "    </tr>\n",
       "  </thead>\n",
       "  <tbody>\n",
       "    <tr>\n",
       "      <th>1</th>\n",
       "      <td>1583</td>\n",
       "      <td>3589</td>\n",
       "      <td>3787</td>\n",
       "      <td>8959</td>\n",
       "    </tr>\n",
       "    <tr>\n",
       "      <th>2</th>\n",
       "      <td>1554</td>\n",
       "      <td>3124</td>\n",
       "      <td>3140</td>\n",
       "      <td>7818</td>\n",
       "    </tr>\n",
       "    <tr>\n",
       "      <th>3</th>\n",
       "      <td>754</td>\n",
       "      <td>1442</td>\n",
       "      <td>1464</td>\n",
       "      <td>3660</td>\n",
       "    </tr>\n",
       "    <tr>\n",
       "      <th>4</th>\n",
       "      <td>1192</td>\n",
       "      <td>2466</td>\n",
       "      <td>2202</td>\n",
       "      <td>5860</td>\n",
       "    </tr>\n",
       "    <tr>\n",
       "      <th>5</th>\n",
       "      <td>1575</td>\n",
       "      <td>3483</td>\n",
       "      <td>2835</td>\n",
       "      <td>7893</td>\n",
       "    </tr>\n",
       "    <tr>\n",
       "      <th>6</th>\n",
       "      <td>1292</td>\n",
       "      <td>2468</td>\n",
       "      <td>2247</td>\n",
       "      <td>6007</td>\n",
       "    </tr>\n",
       "    <tr>\n",
       "      <th>7</th>\n",
       "      <td>68</td>\n",
       "      <td>84</td>\n",
       "      <td>127</td>\n",
       "      <td>279</td>\n",
       "    </tr>\n",
       "    <tr>\n",
       "      <th>All</th>\n",
       "      <td>8018</td>\n",
       "      <td>16656</td>\n",
       "      <td>15802</td>\n",
       "      <td>40476</td>\n",
       "    </tr>\n",
       "  </tbody>\n",
       "</table>\n",
       "</div>"
      ],
      "text/plain": [
       "urban     1      2      3    All\n",
       "tp01                            \n",
       "1      1583   3589   3787   8959\n",
       "2      1554   3124   3140   7818\n",
       "3       754   1442   1464   3660\n",
       "4      1192   2466   2202   5860\n",
       "5      1575   3483   2835   7893\n",
       "6      1292   2468   2247   6007\n",
       "7        68     84    127    279\n",
       "All    8018  16656  15802  40476"
      ]
     },
     "execution_count": 137,
     "metadata": {},
     "output_type": "execute_result"
    }
   ],
   "source": [
    "tp01_urban_df=urban_df[urban_df['tp01']!=0] # tp01 무응답 제거\n",
    "pivot25=pd.pivot_table(tp01_urban_df,values='index',index='tp01',columns='urban',aggfunc='count',margins=True)\n",
    "pivot25"
   ]
  },
  {
   "cell_type": "code",
   "execution_count": 138,
   "id": "9a45a3af",
   "metadata": {},
   "outputs": [
    {
     "data": {
      "text/html": [
       "<div>\n",
       "<style scoped>\n",
       "    .dataframe tbody tr th:only-of-type {\n",
       "        vertical-align: middle;\n",
       "    }\n",
       "\n",
       "    .dataframe tbody tr th {\n",
       "        vertical-align: top;\n",
       "    }\n",
       "\n",
       "    .dataframe thead th {\n",
       "        text-align: right;\n",
       "    }\n",
       "</style>\n",
       "<table border=\"1\" class=\"dataframe\">\n",
       "  <thead>\n",
       "    <tr style=\"text-align: right;\">\n",
       "      <th>tp01</th>\n",
       "      <th>1</th>\n",
       "      <th>2</th>\n",
       "      <th>3</th>\n",
       "      <th>4</th>\n",
       "      <th>5</th>\n",
       "      <th>6</th>\n",
       "      <th>7</th>\n",
       "      <th>All</th>\n",
       "    </tr>\n",
       "    <tr>\n",
       "      <th>married</th>\n",
       "      <th></th>\n",
       "      <th></th>\n",
       "      <th></th>\n",
       "      <th></th>\n",
       "      <th></th>\n",
       "      <th></th>\n",
       "      <th></th>\n",
       "      <th></th>\n",
       "    </tr>\n",
       "  </thead>\n",
       "  <tbody>\n",
       "    <tr>\n",
       "      <th>1</th>\n",
       "      <td>21.060595</td>\n",
       "      <td>19.142797</td>\n",
       "      <td>9.208952</td>\n",
       "      <td>14.860300</td>\n",
       "      <td>19.966219</td>\n",
       "      <td>15.345908</td>\n",
       "      <td>0.415230</td>\n",
       "      <td>100.0</td>\n",
       "    </tr>\n",
       "    <tr>\n",
       "      <th>2</th>\n",
       "      <td>24.856532</td>\n",
       "      <td>19.455384</td>\n",
       "      <td>8.889389</td>\n",
       "      <td>13.874198</td>\n",
       "      <td>18.397660</td>\n",
       "      <td>13.424103</td>\n",
       "      <td>1.102734</td>\n",
       "      <td>100.0</td>\n",
       "    </tr>\n",
       "    <tr>\n",
       "      <th>3</th>\n",
       "      <td>23.775601</td>\n",
       "      <td>20.569902</td>\n",
       "      <td>8.340754</td>\n",
       "      <td>12.793114</td>\n",
       "      <td>18.492134</td>\n",
       "      <td>14.069457</td>\n",
       "      <td>1.959038</td>\n",
       "      <td>100.0</td>\n",
       "    </tr>\n",
       "  </tbody>\n",
       "</table>\n",
       "</div>"
      ],
      "text/plain": [
       "tp01             1          2         3          4          5          6  \\\n",
       "married                                                                    \n",
       "1        21.060595  19.142797  9.208952  14.860300  19.966219  15.345908   \n",
       "2        24.856532  19.455384  8.889389  13.874198  18.397660  13.424103   \n",
       "3        23.775601  20.569902  8.340754  12.793114  18.492134  14.069457   \n",
       "\n",
       "tp01            7    All  \n",
       "married                   \n",
       "1        0.415230  100.0  \n",
       "2        1.102734  100.0  \n",
       "3        1.959038  100.0  "
      ]
     },
     "execution_count": 138,
     "metadata": {},
     "output_type": "execute_result"
    }
   ],
   "source": [
    "#비율\n",
    "pivot26=pivot20/pivot20.loc['All']*100\n",
    "pivot27=pivot26.transpose()\n",
    "pivot27=pivot27.iloc[:3,:]\n",
    "pivot27"
   ]
  },
  {
   "cell_type": "code",
   "execution_count": 139,
   "id": "4f6fd201",
   "metadata": {},
   "outputs": [
    {
     "data": {
      "text/plain": [
       "Text(0.5, 1.0, '활발하고 열정적인')"
      ]
     },
     "execution_count": 139,
     "metadata": {},
     "output_type": "execute_result"
    },
    {
     "data": {
      "image/png": "[encoded data removed]",
      "text/plain": [
       "<Figure size 720x432 with 1 Axes>"
      ]
     },
     "metadata": {
      "needs_background": "light"
     },
     "output_type": "display_data"
    }
   ],
   "source": [
    "#분포 그래프\n",
    "pivot27.iloc[:,0:7].plot(kind='barh',figsize=(10,6),stacked=True,alpha=0.7,color=col)\n",
    "plt.xlabel('Percentage')\n",
    "plt.ylabel('유년기 거주지역')\n",
    "plt.yticks([0,1,2],['rural','suburban','urban'])\n",
    "plt.title('활발하고 열정적인')"
   ]
  },
  {
   "cell_type": "code",
   "execution_count": 145,
   "id": "9ec12edb",
   "metadata": {},
   "outputs": [
    {
     "data": {
      "text/plain": [
       "Text(0.5, 1.0, '활발하고 열정적인')"
      ]
     },
     "execution_count": 145,
     "metadata": {},
     "output_type": "execute_result"
    },
    {
     "data": {
      "image/png": "[encoded data removed]",
      "text/plain": [
       "<Figure size 432x288 with 1 Axes>"
      ]
     },
     "metadata": {
      "needs_background": "light"
     },
     "output_type": "display_data"
    }
   ],
   "source": [
    "#평균\n",
    "b=sns.barplot(data=tp01_urban_df,x='urban',y='tp01',order=[1,2,3],palette=col)\n",
    "plt.xticks([0,1,2],['rural','suburban','urban'])\n",
    "plt.ylabel('평균점수')\n",
    "plt.xlabel('유년기 거주지역')\n",
    "plt.title('활발하고 열정적인')"
   ]
  },
  {
   "cell_type": "markdown",
   "id": "aa7ba769",
   "metadata": {},
   "source": [
    "## 유년기 거주지역이 비판적, 싸우려드는 성격특성에 영향을 미치는가?"
   ]
  },
  {
   "cell_type": "code",
   "execution_count": 141,
   "id": "5d00e0d9",
   "metadata": {},
   "outputs": [
    {
     "data": {
      "text/html": [
       "<div>\n",
       "<style scoped>\n",
       "    .dataframe tbody tr th:only-of-type {\n",
       "        vertical-align: middle;\n",
       "    }\n",
       "\n",
       "    .dataframe tbody tr th {\n",
       "        vertical-align: top;\n",
       "    }\n",
       "\n",
       "    .dataframe thead th {\n",
       "        text-align: right;\n",
       "    }\n",
       "</style>\n",
       "<table border=\"1\" class=\"dataframe\">\n",
       "  <thead>\n",
       "    <tr style=\"text-align: right;\">\n",
       "      <th>tp02</th>\n",
       "      <th>1</th>\n",
       "      <th>2</th>\n",
       "      <th>3</th>\n",
       "      <th>4</th>\n",
       "      <th>5</th>\n",
       "      <th>6</th>\n",
       "      <th>7</th>\n",
       "      <th>All</th>\n",
       "    </tr>\n",
       "    <tr>\n",
       "      <th>urban</th>\n",
       "      <th></th>\n",
       "      <th></th>\n",
       "      <th></th>\n",
       "      <th></th>\n",
       "      <th></th>\n",
       "      <th></th>\n",
       "      <th></th>\n",
       "      <th></th>\n",
       "    </tr>\n",
       "  </thead>\n",
       "  <tbody>\n",
       "    <tr>\n",
       "      <th>1</th>\n",
       "      <td>22.005044</td>\n",
       "      <td>30.718789</td>\n",
       "      <td>9.785624</td>\n",
       "      <td>10.277427</td>\n",
       "      <td>14.060530</td>\n",
       "      <td>12.156368</td>\n",
       "      <td>0.996217</td>\n",
       "      <td>100.0</td>\n",
       "    </tr>\n",
       "    <tr>\n",
       "      <th>2</th>\n",
       "      <td>22.320180</td>\n",
       "      <td>31.981516</td>\n",
       "      <td>9.247887</td>\n",
       "      <td>11.400255</td>\n",
       "      <td>13.206056</td>\n",
       "      <td>11.296893</td>\n",
       "      <td>0.547212</td>\n",
       "      <td>100.0</td>\n",
       "    </tr>\n",
       "    <tr>\n",
       "      <th>3</th>\n",
       "      <td>24.233586</td>\n",
       "      <td>30.526930</td>\n",
       "      <td>10.311751</td>\n",
       "      <td>9.611770</td>\n",
       "      <td>13.014453</td>\n",
       "      <td>11.381165</td>\n",
       "      <td>0.920345</td>\n",
       "      <td>100.0</td>\n",
       "    </tr>\n",
       "  </tbody>\n",
       "</table>\n",
       "</div>"
      ],
      "text/plain": [
       "tp02           1          2          3          4          5          6  \\\n",
       "urban                                                                     \n",
       "1      22.005044  30.718789   9.785624  10.277427  14.060530  12.156368   \n",
       "2      22.320180  31.981516   9.247887  11.400255  13.206056  11.296893   \n",
       "3      24.233586  30.526930  10.311751   9.611770  13.014453  11.381165   \n",
       "\n",
       "tp02          7    All  \n",
       "urban                   \n",
       "1      0.996217  100.0  \n",
       "2      0.547212  100.0  \n",
       "3      0.920345  100.0  "
      ]
     },
     "execution_count": 141,
     "metadata": {},
     "output_type": "execute_result"
    }
   ],
   "source": [
    "tp02_urban_df=urban_df[urban_df['tp02']!=0] # tp02 무응답 제거\n",
    "pivot28=pd.pivot_table(tp02_urban_df,values='index',index='tp02',columns='urban',aggfunc='count',margins=True) #개수세기\n",
    "#비율\n",
    "pivot29=pivot28/pivot28.loc['All']*100\n",
    "pivot30=pivot29.transpose()\n",
    "pivot30=pivot30.iloc[:3,:]\n",
    "pivot30"
   ]
  },
  {
   "cell_type": "code",
   "execution_count": 143,
   "id": "f7b9d51a",
   "metadata": {},
   "outputs": [
    {
     "data": {
      "text/plain": [
       "Text(0.5, 1.0, '따지기를 좋아하고 다투기를 잘하는')"
      ]
     },
     "execution_count": 143,
     "metadata": {},
     "output_type": "execute_result"
    },
    {
     "data": {
      "image/png": "[encoded data removed]",
      "text/plain": [
       "<Figure size 720x432 with 1 Axes>"
      ]
     },
     "metadata": {
      "needs_background": "light"
     },
     "output_type": "display_data"
    }
   ],
   "source": [
    "#분포 그래프\n",
    "pivot30.iloc[:,0:7].plot(kind='barh',figsize=(10,6),stacked=True,alpha=0.7,color=col)\n",
    "plt.xlabel('Percentage')\n",
    "plt.ylabel('유년기 거주지역')\n",
    "plt.yticks([0,1,2],['rural','suburban','urban'])\n",
    "plt.title('따지기를 좋아하고 다투기를 잘하는')"
   ]
  },
  {
   "cell_type": "code",
   "execution_count": 146,
   "id": "ec441679",
   "metadata": {},
   "outputs": [
    {
     "data": {
      "text/plain": [
       "Text(0.5, 1.0, '따지기를 좋아하고 다투기를 잘하는')"
      ]
     },
     "execution_count": 146,
     "metadata": {},
     "output_type": "execute_result"
    },
    {
     "data": {
      "image/png": "[encoded data removed]",
      "text/plain": [
       "<Figure size 432x288 with 1 Axes>"
      ]
     },
     "metadata": {
      "needs_background": "light"
     },
     "output_type": "display_data"
    }
   ],
   "source": [
    "#평균\n",
    "b=sns.barplot(data=tp02_urban_df,x='urban',y='tp02',order=[1,2,3],palette=col)\n",
    "plt.xticks([0,1,2],['rural','suburban','urban'])\n",
    "plt.ylabel('평균점수')\n",
    "plt.xlabel('유년기 거주지역')\n",
    "plt.title('따지기를 좋아하고 다투기를 잘하는')"
   ]
  },
  {
   "cell_type": "code",
   "execution_count": null,
   "id": "bbb5b8ff",
   "metadata": {},
   "outputs": [],
   "source": [
    "#요인분석(성격특성에 어떤 요인이 영향을 많이 끼치는가?), ANOVA"
   ]
  }
 ],
 "metadata": {
  "kernelspec": {
   "display_name": "Python 3",
   "language": "python",
   "name": "python3"
  },
  "language_info": {
   "codemirror_mode": {
    "name": "ipython",
    "version": 3
   },
   "file_extension": ".py",
   "mimetype": "text/x-python",
   "name": "python",
   "nbconvert_exporter": "python",
   "pygments_lexer": "ipython3",
   "version": "3.8.8"
  },
  "toc": {
   "base_numbering": 1,
   "nav_menu": {},
   "number_sections": true,
   "sideBar": true,
   "skip_h1_title": false,
   "title_cell": "Table of Contents",
   "title_sidebar": "Contents",
   "toc_cell": false,
   "toc_position": {
    "height": "calc(100% - 180px)",
    "left": "10px",
    "top": "150px",
    "width": "341.328px"
   },
   "toc_section_display": true,
   "toc_window_display": false
  }
 },
 "nbformat": 4,
 "nbformat_minor": 5
}
