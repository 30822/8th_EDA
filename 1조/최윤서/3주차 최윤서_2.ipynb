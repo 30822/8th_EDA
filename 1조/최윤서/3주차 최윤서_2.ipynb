{
 "cells": [
  {
   "cell_type": "code",
   "execution_count": 248,
   "id": "c3bab52d",
   "metadata": {},
   "outputs": [],
   "source": [
    "import numpy as np\n",
    "import pandas as pd\n",
    "import matplotlib.pyplot as plt\n",
    "import seaborn as sns"
   ]
  },
  {
   "cell_type": "code",
   "execution_count": 249,
   "id": "55d62192",
   "metadata": {},
   "outputs": [
    {
     "data": {
      "text/html": [
       "<div>\n",
       "<style scoped>\n",
       "    .dataframe tbody tr th:only-of-type {\n",
       "        vertical-align: middle;\n",
       "    }\n",
       "\n",
       "    .dataframe tbody tr th {\n",
       "        vertical-align: top;\n",
       "    }\n",
       "\n",
       "    .dataframe thead th {\n",
       "        text-align: right;\n",
       "    }\n",
       "</style>\n",
       "<table border=\"1\" class=\"dataframe\">\n",
       "  <thead>\n",
       "    <tr style=\"text-align: right;\">\n",
       "      <th></th>\n",
       "      <th>index</th>\n",
       "      <th>QaA</th>\n",
       "      <th>QaE</th>\n",
       "      <th>QbA</th>\n",
       "      <th>QbE</th>\n",
       "      <th>QcA</th>\n",
       "      <th>QcE</th>\n",
       "      <th>QdA</th>\n",
       "      <th>QdE</th>\n",
       "      <th>QeA</th>\n",
       "      <th>...</th>\n",
       "      <th>wr_04</th>\n",
       "      <th>wr_05</th>\n",
       "      <th>wr_06</th>\n",
       "      <th>wr_07</th>\n",
       "      <th>wr_08</th>\n",
       "      <th>wr_09</th>\n",
       "      <th>wr_10</th>\n",
       "      <th>wr_11</th>\n",
       "      <th>wr_12</th>\n",
       "      <th>wr_13</th>\n",
       "    </tr>\n",
       "  </thead>\n",
       "  <tbody>\n",
       "    <tr>\n",
       "      <th>0</th>\n",
       "      <td>0</td>\n",
       "      <td>3.0</td>\n",
       "      <td>363</td>\n",
       "      <td>4.0</td>\n",
       "      <td>1370</td>\n",
       "      <td>5.0</td>\n",
       "      <td>997</td>\n",
       "      <td>1.0</td>\n",
       "      <td>1024</td>\n",
       "      <td>2.0</td>\n",
       "      <td>...</td>\n",
       "      <td>0</td>\n",
       "      <td>1</td>\n",
       "      <td>0</td>\n",
       "      <td>1</td>\n",
       "      <td>1</td>\n",
       "      <td>0</td>\n",
       "      <td>1</td>\n",
       "      <td>0</td>\n",
       "      <td>1</td>\n",
       "      <td>1</td>\n",
       "    </tr>\n",
       "    <tr>\n",
       "      <th>1</th>\n",
       "      <td>1</td>\n",
       "      <td>5.0</td>\n",
       "      <td>647</td>\n",
       "      <td>5.0</td>\n",
       "      <td>1313</td>\n",
       "      <td>3.0</td>\n",
       "      <td>3387</td>\n",
       "      <td>5.0</td>\n",
       "      <td>2969</td>\n",
       "      <td>1.0</td>\n",
       "      <td>...</td>\n",
       "      <td>1</td>\n",
       "      <td>1</td>\n",
       "      <td>0</td>\n",
       "      <td>1</td>\n",
       "      <td>1</td>\n",
       "      <td>0</td>\n",
       "      <td>1</td>\n",
       "      <td>0</td>\n",
       "      <td>1</td>\n",
       "      <td>1</td>\n",
       "    </tr>\n",
       "    <tr>\n",
       "      <th>2</th>\n",
       "      <td>2</td>\n",
       "      <td>4.0</td>\n",
       "      <td>1623</td>\n",
       "      <td>1.0</td>\n",
       "      <td>1480</td>\n",
       "      <td>1.0</td>\n",
       "      <td>1021</td>\n",
       "      <td>4.0</td>\n",
       "      <td>3374</td>\n",
       "      <td>5.0</td>\n",
       "      <td>...</td>\n",
       "      <td>1</td>\n",
       "      <td>1</td>\n",
       "      <td>0</td>\n",
       "      <td>1</td>\n",
       "      <td>1</td>\n",
       "      <td>1</td>\n",
       "      <td>1</td>\n",
       "      <td>0</td>\n",
       "      <td>1</td>\n",
       "      <td>1</td>\n",
       "    </tr>\n",
       "  </tbody>\n",
       "</table>\n",
       "<p>3 rows × 78 columns</p>\n",
       "</div>"
      ],
      "text/plain": [
       "   index  QaA   QaE  QbA   QbE  QcA   QcE  QdA   QdE  QeA  ...  wr_04  wr_05  \\\n",
       "0      0  3.0   363  4.0  1370  5.0   997  1.0  1024  2.0  ...      0      1   \n",
       "1      1  5.0   647  5.0  1313  3.0  3387  5.0  2969  1.0  ...      1      1   \n",
       "2      2  4.0  1623  1.0  1480  1.0  1021  4.0  3374  5.0  ...      1      1   \n",
       "\n",
       "   wr_06  wr_07  wr_08  wr_09  wr_10  wr_11  wr_12  wr_13  \n",
       "0      0      1      1      0      1      0      1      1  \n",
       "1      0      1      1      0      1      0      1      1  \n",
       "2      0      1      1      1      1      0      1      1  \n",
       "\n",
       "[3 rows x 78 columns]"
      ]
     },
     "execution_count": 249,
     "metadata": {},
     "output_type": "execute_result"
    }
   ],
   "source": [
    "df=pd.read_csv('data.csv')\n",
    "df.head(3)"
   ]
  },
  {
   "cell_type": "code",
   "execution_count": 250,
   "id": "22250311",
   "metadata": {},
   "outputs": [
    {
     "data": {
      "text/plain": [
       "<AxesSubplot:xlabel='age_group', ylabel='count'>"
      ]
     },
     "execution_count": 250,
     "metadata": {},
     "output_type": "execute_result"
    },
    {
     "data": {
      "image/png": "[encoded data removed]",
      "text/plain": [
       "<Figure size 432x288 with 1 Axes>"
      ]
     },
     "metadata": {
      "needs_background": "light"
     },
     "output_type": "display_data"
    }
   ],
   "source": [
    "df.age_group=df.age_group.apply(lambda x:'+50s'if x in ['50s','60s','+70s'] else x)\n",
    "sns.countplot(x='age_group',data=df,order=['10s','20s','30s','40s','+50s'])"
   ]
  },
  {
   "cell_type": "code",
   "execution_count": 251,
   "id": "b76616f5",
   "metadata": {},
   "outputs": [],
   "source": [
    "#7에 가까울수록 agree strongly, 0이 무응답으로 변환\n",
    "df['tp01']=7-df['tp01']\n",
    "df['tp02']=7-df['tp02']\n",
    "df['tp03']=7-df['tp03']\n",
    "df['tp04']=7-df['tp04']\n",
    "df['tp05']=7-df['tp05']\n",
    "df['tp06']=7-df['tp06']\n",
    "df['tp07']=7-df['tp07']\n",
    "df['tp08']=7-df['tp08']\n",
    "df['tp09']=7-df['tp09']\n",
    "df['tp10']=7-df['tp10']"
   ]
  },
  {
   "cell_type": "code",
   "execution_count": 201,
   "id": "5a623d87",
   "metadata": {},
   "outputs": [],
   "source": [
    "#나이와 관계없이 이런 분포로 대답했다? 이것도 해야할까..?\n",
    "#예를 들어 이 성격특성에 대해서는 무응답한 사람들이 많았다"
   ]
  },
  {
   "cell_type": "markdown",
   "id": "c2aae0f6",
   "metadata": {},
   "source": [
    "# 성격특성이 연령대에 따라 다른 분포를 보일까?"
   ]
  },
  {
   "cell_type": "markdown",
   "id": "ffc12e7c",
   "metadata": {},
   "source": [
    "## tp01: 외향적인, 열정적인 \n",
    "- 연령대가 증가할수록 자신이 외향적이고 열정적이라고 생각하는 비율이 미약하게 증가\n",
    "- 연령대에 따라 크게 달라지지는 않음"
   ]
  },
  {
   "cell_type": "code",
   "execution_count": 252,
   "id": "f3212e1b",
   "metadata": {},
   "outputs": [
    {
     "data": {
      "text/plain": [
       "0"
      ]
     },
     "execution_count": 252,
     "metadata": {},
     "output_type": "execute_result"
    }
   ],
   "source": [
    "#tp01 무응답한 사람들 제거\n",
    "tp01_df=df[df['tp01']!=0]\n",
    "(tp01_df['tp01']==0).sum()"
   ]
  },
  {
   "cell_type": "code",
   "execution_count": 253,
   "id": "2407041d",
   "metadata": {},
   "outputs": [
    {
     "data": {
      "text/html": [
       "<div>\n",
       "<style scoped>\n",
       "    .dataframe tbody tr th:only-of-type {\n",
       "        vertical-align: middle;\n",
       "    }\n",
       "\n",
       "    .dataframe tbody tr th {\n",
       "        vertical-align: top;\n",
       "    }\n",
       "\n",
       "    .dataframe thead th {\n",
       "        text-align: right;\n",
       "    }\n",
       "</style>\n",
       "<table border=\"1\" class=\"dataframe\">\n",
       "  <thead>\n",
       "    <tr style=\"text-align: right;\">\n",
       "      <th>age_group</th>\n",
       "      <th>10s</th>\n",
       "      <th>20s</th>\n",
       "      <th>30s</th>\n",
       "      <th>40s</th>\n",
       "      <th>+50s</th>\n",
       "    </tr>\n",
       "    <tr>\n",
       "      <th>tp01</th>\n",
       "      <th></th>\n",
       "      <th></th>\n",
       "      <th></th>\n",
       "      <th></th>\n",
       "      <th></th>\n",
       "    </tr>\n",
       "  </thead>\n",
       "  <tbody>\n",
       "    <tr>\n",
       "      <th>1</th>\n",
       "      <td>1896</td>\n",
       "      <td>1901</td>\n",
       "      <td>1095</td>\n",
       "      <td>673</td>\n",
       "      <td>476</td>\n",
       "    </tr>\n",
       "    <tr>\n",
       "      <th>2</th>\n",
       "      <td>2478</td>\n",
       "      <td>2539</td>\n",
       "      <td>1392</td>\n",
       "      <td>820</td>\n",
       "      <td>713</td>\n",
       "    </tr>\n",
       "    <tr>\n",
       "      <th>3</th>\n",
       "      <td>1861</td>\n",
       "      <td>1935</td>\n",
       "      <td>1045</td>\n",
       "      <td>583</td>\n",
       "      <td>476</td>\n",
       "    </tr>\n",
       "    <tr>\n",
       "      <th>4</th>\n",
       "      <td>1155</td>\n",
       "      <td>1136</td>\n",
       "      <td>687</td>\n",
       "      <td>400</td>\n",
       "      <td>314</td>\n",
       "    </tr>\n",
       "    <tr>\n",
       "      <th>5</th>\n",
       "      <td>2504</td>\n",
       "      <td>2436</td>\n",
       "      <td>1332</td>\n",
       "      <td>908</td>\n",
       "      <td>697</td>\n",
       "    </tr>\n",
       "    <tr>\n",
       "      <th>6</th>\n",
       "      <td>2771</td>\n",
       "      <td>2699</td>\n",
       "      <td>1455</td>\n",
       "      <td>1087</td>\n",
       "      <td>1002</td>\n",
       "    </tr>\n",
       "    <tr>\n",
       "      <th>7</th>\n",
       "      <td>1496</td>\n",
       "      <td>1422</td>\n",
       "      <td>797</td>\n",
       "      <td>531</td>\n",
       "      <td>537</td>\n",
       "    </tr>\n",
       "    <tr>\n",
       "      <th>All</th>\n",
       "      <td>14161</td>\n",
       "      <td>14068</td>\n",
       "      <td>7803</td>\n",
       "      <td>5002</td>\n",
       "      <td>4215</td>\n",
       "    </tr>\n",
       "  </tbody>\n",
       "</table>\n",
       "</div>"
      ],
      "text/plain": [
       "age_group    10s    20s   30s   40s  +50s\n",
       "tp01                                     \n",
       "1           1896   1901  1095   673   476\n",
       "2           2478   2539  1392   820   713\n",
       "3           1861   1935  1045   583   476\n",
       "4           1155   1136   687   400   314\n",
       "5           2504   2436  1332   908   697\n",
       "6           2771   2699  1455  1087  1002\n",
       "7           1496   1422   797   531   537\n",
       "All        14161  14068  7803  5002  4215"
      ]
     },
     "execution_count": 253,
     "metadata": {},
     "output_type": "execute_result"
    }
   ],
   "source": [
    "pivot1=pd.pivot_table(tp01_df,values='index',index='tp01',columns='age_group',aggfunc='count',margins=True)\n",
    "pivot1=pivot1.reindex(['10s','20s','30s','40s','+50s'],axis=1)\n",
    "pivot1"
   ]
  },
  {
   "cell_type": "code",
   "execution_count": 254,
   "id": "518f8bd4",
   "metadata": {},
   "outputs": [
    {
     "data": {
      "text/html": [
       "<div>\n",
       "<style scoped>\n",
       "    .dataframe tbody tr th:only-of-type {\n",
       "        vertical-align: middle;\n",
       "    }\n",
       "\n",
       "    .dataframe tbody tr th {\n",
       "        vertical-align: top;\n",
       "    }\n",
       "\n",
       "    .dataframe thead th {\n",
       "        text-align: right;\n",
       "    }\n",
       "</style>\n",
       "<table border=\"1\" class=\"dataframe\">\n",
       "  <thead>\n",
       "    <tr style=\"text-align: right;\">\n",
       "      <th>tp01</th>\n",
       "      <th>1</th>\n",
       "      <th>2</th>\n",
       "      <th>3</th>\n",
       "      <th>4</th>\n",
       "      <th>5</th>\n",
       "      <th>6</th>\n",
       "      <th>7</th>\n",
       "      <th>All</th>\n",
       "    </tr>\n",
       "    <tr>\n",
       "      <th>age_group</th>\n",
       "      <th></th>\n",
       "      <th></th>\n",
       "      <th></th>\n",
       "      <th></th>\n",
       "      <th></th>\n",
       "      <th></th>\n",
       "      <th></th>\n",
       "      <th></th>\n",
       "    </tr>\n",
       "  </thead>\n",
       "  <tbody>\n",
       "    <tr>\n",
       "      <th>10s</th>\n",
       "      <td>13.388885</td>\n",
       "      <td>17.498764</td>\n",
       "      <td>13.141727</td>\n",
       "      <td>8.156204</td>\n",
       "      <td>17.682367</td>\n",
       "      <td>19.567827</td>\n",
       "      <td>10.564226</td>\n",
       "      <td>100.0</td>\n",
       "    </tr>\n",
       "    <tr>\n",
       "      <th>20s</th>\n",
       "      <td>13.512937</td>\n",
       "      <td>18.048052</td>\n",
       "      <td>13.754620</td>\n",
       "      <td>8.075064</td>\n",
       "      <td>17.315894</td>\n",
       "      <td>19.185385</td>\n",
       "      <td>10.108047</td>\n",
       "      <td>100.0</td>\n",
       "    </tr>\n",
       "    <tr>\n",
       "      <th>30s</th>\n",
       "      <td>14.033064</td>\n",
       "      <td>17.839293</td>\n",
       "      <td>13.392285</td>\n",
       "      <td>8.804306</td>\n",
       "      <td>17.070358</td>\n",
       "      <td>18.646674</td>\n",
       "      <td>10.214020</td>\n",
       "      <td>100.0</td>\n",
       "    </tr>\n",
       "    <tr>\n",
       "      <th>40s</th>\n",
       "      <td>13.454618</td>\n",
       "      <td>16.393443</td>\n",
       "      <td>11.655338</td>\n",
       "      <td>7.996801</td>\n",
       "      <td>18.152739</td>\n",
       "      <td>21.731307</td>\n",
       "      <td>10.615754</td>\n",
       "      <td>100.0</td>\n",
       "    </tr>\n",
       "    <tr>\n",
       "      <th>+50s</th>\n",
       "      <td>11.293001</td>\n",
       "      <td>16.915777</td>\n",
       "      <td>11.293001</td>\n",
       "      <td>7.449585</td>\n",
       "      <td>16.536180</td>\n",
       "      <td>23.772242</td>\n",
       "      <td>12.740214</td>\n",
       "      <td>100.0</td>\n",
       "    </tr>\n",
       "  </tbody>\n",
       "</table>\n",
       "</div>"
      ],
      "text/plain": [
       "tp01               1          2          3         4          5          6  \\\n",
       "age_group                                                                    \n",
       "10s        13.388885  17.498764  13.141727  8.156204  17.682367  19.567827   \n",
       "20s        13.512937  18.048052  13.754620  8.075064  17.315894  19.185385   \n",
       "30s        14.033064  17.839293  13.392285  8.804306  17.070358  18.646674   \n",
       "40s        13.454618  16.393443  11.655338  7.996801  18.152739  21.731307   \n",
       "+50s       11.293001  16.915777  11.293001  7.449585  16.536180  23.772242   \n",
       "\n",
       "tp01               7    All  \n",
       "age_group                    \n",
       "10s        10.564226  100.0  \n",
       "20s        10.108047  100.0  \n",
       "30s        10.214020  100.0  \n",
       "40s        10.615754  100.0  \n",
       "+50s       12.740214  100.0  "
      ]
     },
     "execution_count": 254,
     "metadata": {},
     "output_type": "execute_result"
    }
   ],
   "source": [
    "#비율\n",
    "pivot2=pivot1/pivot1.loc['All']*100\n",
    "pivot3=pivot2.transpose()\n",
    "pivot3"
   ]
  },
  {
   "cell_type": "code",
   "execution_count": 255,
   "id": "5277d322",
   "metadata": {},
   "outputs": [
    {
     "data": {
      "text/plain": [
       "Text(0.5, 1.0, 'extraverted, enthusiastic')"
      ]
     },
     "execution_count": 255,
     "metadata": {},
     "output_type": "execute_result"
    },
    {
     "data": {
      "image/png": "[encoded data removed]",
      "text/plain": [
       "<Figure size 720x432 with 1 Axes>"
      ]
     },
     "metadata": {
      "needs_background": "light"
     },
     "output_type": "display_data"
    }
   ],
   "source": [
    "#분포 그래프\n",
    "pivot3.iloc[:,0:7].plot(kind='barh',figsize=(10,6),stacked=True,alpha=0.7)\n",
    "plt.xlabel('Percentage')\n",
    "plt.ylabel('Age Group')\n",
    "plt.title('extraverted, enthusiastic')"
   ]
  },
  {
   "cell_type": "code",
   "execution_count": 256,
   "id": "c36847d5",
   "metadata": {},
   "outputs": [
    {
     "data": {
      "text/plain": [
       "<AxesSubplot:xlabel='age_group', ylabel='tp01'>"
      ]
     },
     "execution_count": 256,
     "metadata": {},
     "output_type": "execute_result"
    },
    {
     "data": {
      "image/png": "[encoded data removed]",
      "text/plain": [
       "<Figure size 432x288 with 1 Axes>"
      ]
     },
     "metadata": {
      "needs_background": "light"
     },
     "output_type": "display_data"
    }
   ],
   "source": [
    "#평균\n",
    "sns.barplot(data=tp01_df,x='age_group',y='tp01',order=['10s','20s','30s','40s','+50s'])"
   ]
  },
  {
   "cell_type": "markdown",
   "id": "74ab927c",
   "metadata": {},
   "source": [
    "## tp02: 비판적인 싸우려드는\n",
    "- 연령대가 증가함에 따라 자신이 비판적이고 싸우기를 좋아하는 성격이 아니라고 답하는 비율이 현저하게 증가\n",
    "- 연령대별 차이가 뚜렷하게 나타남"
   ]
  },
  {
   "cell_type": "code",
   "execution_count": 257,
   "id": "0141ae1e",
   "metadata": {},
   "outputs": [
    {
     "data": {
      "text/html": [
       "<div>\n",
       "<style scoped>\n",
       "    .dataframe tbody tr th:only-of-type {\n",
       "        vertical-align: middle;\n",
       "    }\n",
       "\n",
       "    .dataframe tbody tr th {\n",
       "        vertical-align: top;\n",
       "    }\n",
       "\n",
       "    .dataframe thead th {\n",
       "        text-align: right;\n",
       "    }\n",
       "</style>\n",
       "<table border=\"1\" class=\"dataframe\">\n",
       "  <thead>\n",
       "    <tr style=\"text-align: right;\">\n",
       "      <th>age_group</th>\n",
       "      <th>10s</th>\n",
       "      <th>20s</th>\n",
       "      <th>30s</th>\n",
       "      <th>40s</th>\n",
       "      <th>+50s</th>\n",
       "    </tr>\n",
       "    <tr>\n",
       "      <th>tp02</th>\n",
       "      <th></th>\n",
       "      <th></th>\n",
       "      <th></th>\n",
       "      <th></th>\n",
       "      <th></th>\n",
       "    </tr>\n",
       "  </thead>\n",
       "  <tbody>\n",
       "    <tr>\n",
       "      <th>1</th>\n",
       "      <td>814</td>\n",
       "      <td>1154</td>\n",
       "      <td>901</td>\n",
       "      <td>756</td>\n",
       "      <td>989</td>\n",
       "    </tr>\n",
       "    <tr>\n",
       "      <th>2</th>\n",
       "      <td>1250</td>\n",
       "      <td>1460</td>\n",
       "      <td>988</td>\n",
       "      <td>849</td>\n",
       "      <td>793</td>\n",
       "    </tr>\n",
       "    <tr>\n",
       "      <th>3</th>\n",
       "      <td>1231</td>\n",
       "      <td>1230</td>\n",
       "      <td>794</td>\n",
       "      <td>515</td>\n",
       "      <td>428</td>\n",
       "    </tr>\n",
       "    <tr>\n",
       "      <th>4</th>\n",
       "      <td>1472</td>\n",
       "      <td>1170</td>\n",
       "      <td>637</td>\n",
       "      <td>369</td>\n",
       "      <td>273</td>\n",
       "    </tr>\n",
       "    <tr>\n",
       "      <th>5</th>\n",
       "      <td>3963</td>\n",
       "      <td>3925</td>\n",
       "      <td>2179</td>\n",
       "      <td>1386</td>\n",
       "      <td>1045</td>\n",
       "    </tr>\n",
       "    <tr>\n",
       "      <th>6</th>\n",
       "      <td>3223</td>\n",
       "      <td>3194</td>\n",
       "      <td>1486</td>\n",
       "      <td>798</td>\n",
       "      <td>507</td>\n",
       "    </tr>\n",
       "    <tr>\n",
       "      <th>7</th>\n",
       "      <td>2188</td>\n",
       "      <td>1923</td>\n",
       "      <td>821</td>\n",
       "      <td>330</td>\n",
       "      <td>176</td>\n",
       "    </tr>\n",
       "    <tr>\n",
       "      <th>All</th>\n",
       "      <td>14141</td>\n",
       "      <td>14056</td>\n",
       "      <td>7806</td>\n",
       "      <td>5003</td>\n",
       "      <td>4211</td>\n",
       "    </tr>\n",
       "  </tbody>\n",
       "</table>\n",
       "</div>"
      ],
      "text/plain": [
       "age_group    10s    20s   30s   40s  +50s\n",
       "tp02                                     \n",
       "1            814   1154   901   756   989\n",
       "2           1250   1460   988   849   793\n",
       "3           1231   1230   794   515   428\n",
       "4           1472   1170   637   369   273\n",
       "5           3963   3925  2179  1386  1045\n",
       "6           3223   3194  1486   798   507\n",
       "7           2188   1923   821   330   176\n",
       "All        14141  14056  7806  5003  4211"
      ]
     },
     "execution_count": 257,
     "metadata": {},
     "output_type": "execute_result"
    }
   ],
   "source": [
    "#tp02 무응답한 사람들 제거\n",
    "tp02_df=df[df['tp02']!=0]\n",
    "pivot4=pd.pivot_table(tp02_df,values='index',index='tp02',columns='age_group',aggfunc='count',margins=True)\n",
    "pivot4=pivot4.reindex(['10s','20s','30s','40s','+50s'],axis=1)\n",
    "pivot4"
   ]
  },
  {
   "cell_type": "code",
   "execution_count": 258,
   "id": "f7cec471",
   "metadata": {},
   "outputs": [
    {
     "data": {
      "text/html": [
       "<div>\n",
       "<style scoped>\n",
       "    .dataframe tbody tr th:only-of-type {\n",
       "        vertical-align: middle;\n",
       "    }\n",
       "\n",
       "    .dataframe tbody tr th {\n",
       "        vertical-align: top;\n",
       "    }\n",
       "\n",
       "    .dataframe thead th {\n",
       "        text-align: right;\n",
       "    }\n",
       "</style>\n",
       "<table border=\"1\" class=\"dataframe\">\n",
       "  <thead>\n",
       "    <tr style=\"text-align: right;\">\n",
       "      <th>tp02</th>\n",
       "      <th>1</th>\n",
       "      <th>2</th>\n",
       "      <th>3</th>\n",
       "      <th>4</th>\n",
       "      <th>5</th>\n",
       "      <th>6</th>\n",
       "      <th>7</th>\n",
       "      <th>All</th>\n",
       "    </tr>\n",
       "    <tr>\n",
       "      <th>age_group</th>\n",
       "      <th></th>\n",
       "      <th></th>\n",
       "      <th></th>\n",
       "      <th></th>\n",
       "      <th></th>\n",
       "      <th></th>\n",
       "      <th></th>\n",
       "      <th></th>\n",
       "    </tr>\n",
       "  </thead>\n",
       "  <tbody>\n",
       "    <tr>\n",
       "      <th>10s</th>\n",
       "      <td>5.756311</td>\n",
       "      <td>8.839545</td>\n",
       "      <td>8.705184</td>\n",
       "      <td>10.409448</td>\n",
       "      <td>28.024892</td>\n",
       "      <td>22.791882</td>\n",
       "      <td>15.472739</td>\n",
       "      <td>100.0</td>\n",
       "    </tr>\n",
       "    <tr>\n",
       "      <th>20s</th>\n",
       "      <td>8.210017</td>\n",
       "      <td>10.387023</td>\n",
       "      <td>8.750711</td>\n",
       "      <td>8.323847</td>\n",
       "      <td>27.924018</td>\n",
       "      <td>22.723392</td>\n",
       "      <td>13.680990</td>\n",
       "      <td>100.0</td>\n",
       "    </tr>\n",
       "    <tr>\n",
       "      <th>30s</th>\n",
       "      <td>11.542403</td>\n",
       "      <td>12.656931</td>\n",
       "      <td>10.171663</td>\n",
       "      <td>8.160389</td>\n",
       "      <td>27.914425</td>\n",
       "      <td>19.036638</td>\n",
       "      <td>10.517551</td>\n",
       "      <td>100.0</td>\n",
       "    </tr>\n",
       "    <tr>\n",
       "      <th>40s</th>\n",
       "      <td>15.110933</td>\n",
       "      <td>16.969818</td>\n",
       "      <td>10.293824</td>\n",
       "      <td>7.375575</td>\n",
       "      <td>27.703378</td>\n",
       "      <td>15.950430</td>\n",
       "      <td>6.596042</td>\n",
       "      <td>100.0</td>\n",
       "    </tr>\n",
       "    <tr>\n",
       "      <th>+50s</th>\n",
       "      <td>23.486108</td>\n",
       "      <td>18.831631</td>\n",
       "      <td>10.163857</td>\n",
       "      <td>6.483021</td>\n",
       "      <td>24.815958</td>\n",
       "      <td>12.039896</td>\n",
       "      <td>4.179530</td>\n",
       "      <td>100.0</td>\n",
       "    </tr>\n",
       "  </tbody>\n",
       "</table>\n",
       "</div>"
      ],
      "text/plain": [
       "tp02               1          2          3          4          5          6  \\\n",
       "age_group                                                                     \n",
       "10s         5.756311   8.839545   8.705184  10.409448  28.024892  22.791882   \n",
       "20s         8.210017  10.387023   8.750711   8.323847  27.924018  22.723392   \n",
       "30s        11.542403  12.656931  10.171663   8.160389  27.914425  19.036638   \n",
       "40s        15.110933  16.969818  10.293824   7.375575  27.703378  15.950430   \n",
       "+50s       23.486108  18.831631  10.163857   6.483021  24.815958  12.039896   \n",
       "\n",
       "tp02               7    All  \n",
       "age_group                    \n",
       "10s        15.472739  100.0  \n",
       "20s        13.680990  100.0  \n",
       "30s        10.517551  100.0  \n",
       "40s         6.596042  100.0  \n",
       "+50s        4.179530  100.0  "
      ]
     },
     "execution_count": 258,
     "metadata": {},
     "output_type": "execute_result"
    }
   ],
   "source": [
    "#비율\n",
    "pivot5=pivot4/pivot4.loc['All']*100\n",
    "pivot6=pivot5.transpose()\n",
    "pivot6"
   ]
  },
  {
   "cell_type": "code",
   "execution_count": 259,
   "id": "a54787db",
   "metadata": {},
   "outputs": [
    {
     "data": {
      "text/plain": [
       "Text(0.5, 1.0, 'critical,quarrelsome')"
      ]
     },
     "execution_count": 259,
     "metadata": {},
     "output_type": "execute_result"
    },
    {
     "data": {
      "image/png": "[encoded data removed]",
      "text/plain": [
       "<Figure size 720x432 with 1 Axes>"
      ]
     },
     "metadata": {
      "needs_background": "light"
     },
     "output_type": "display_data"
    }
   ],
   "source": [
    "#분포 그래프\n",
    "pivot6.iloc[:,0:7].plot(kind='barh',figsize=(10,6),stacked=True,alpha=0.7)\n",
    "plt.xlabel('Percentage')\n",
    "plt.ylabel('Age Group')\n",
    "plt.title('critical,quarrelsome')"
   ]
  },
  {
   "cell_type": "code",
   "execution_count": 260,
   "id": "f254685b",
   "metadata": {},
   "outputs": [
    {
     "data": {
      "text/plain": [
       "<AxesSubplot:xlabel='age_group', ylabel='tp02'>"
      ]
     },
     "execution_count": 260,
     "metadata": {},
     "output_type": "execute_result"
    },
    {
     "data": {
      "image/png": "[encoded data removed]",
      "text/plain": [
       "<Figure size 432x288 with 1 Axes>"
      ]
     },
     "metadata": {
      "needs_background": "light"
     },
     "output_type": "display_data"
    }
   ],
   "source": [
    "#평균\n",
    "sns.barplot(data=tp02_df,x='age_group',y='tp02',order=['10s','20s','30s','40s','+50s'])"
   ]
  },
  {
   "cell_type": "markdown",
   "id": "43fc7447",
   "metadata": {},
   "source": [
    "- 다음과 같이 연령대에 따라 큰 차이를 보이는 성격특성, 아닌 성격특성 존재\n",
    "- 연령대에 따라 성격특성이 달라진다 == 해당 성격특성은 각각의 사람이 생물학적으로 타고나는 것보다는 환경적으로 변화할 가능성이 크다\n",
    "- 왜 그럴까? 어떤 요인이 영향을 미치길래 이럴까?\n",
    "> <strong>우리가 가진 설문조사에서 찾을 수 있는 환경적 요인들이 영향을 미쳐서 그런건지 확인해보자!"
   ]
  },
  {
   "cell_type": "markdown",
   "id": "13a76f89",
   "metadata": {},
   "source": [
    "# 교육수준이 영향을 미치는가? \n",
    "- 교육수준에 따라서 성격 특성이 다르게 나타나는가?(tp01,tp02)\n",
    "> 1: 고등학교 미만<br>\n",
    "> 2: 고등학교 졸업<br>\n",
    "> 3: 학사 학위<br>\n",
    "> 4: 석박사 학위"
   ]
  },
  {
   "cell_type": "code",
   "execution_count": 261,
   "id": "6f07a184",
   "metadata": {},
   "outputs": [
    {
     "name": "stderr",
     "output_type": "stream",
     "text": [
      "C:\\Users\\rangc\\anaconda3\\lib\\site-packages\\seaborn\\_decorators.py:36: FutureWarning: Pass the following variable as a keyword arg: x. From version 0.12, the only valid positional argument will be `data`, and passing other arguments without an explicit keyword will result in an error or misinterpretation.\n",
      "  warnings.warn(\n"
     ]
    },
    {
     "data": {
      "text/plain": [
       "<AxesSubplot:xlabel='education', ylabel='count'>"
      ]
     },
     "execution_count": 261,
     "metadata": {},
     "output_type": "execute_result"
    },
    {
     "data": {
      "image/png": "[encoded data removed]",
      "text/plain": [
       "<Figure size 432x288 with 1 Axes>"
      ]
     },
     "metadata": {
      "needs_background": "light"
     },
     "output_type": "display_data"
    }
   ],
   "source": [
    "#교육수준 분포 보기\n",
    "sns.countplot(df['education'])"
   ]
  },
  {
   "cell_type": "code",
   "execution_count": 262,
   "id": "c21cebe9",
   "metadata": {},
   "outputs": [],
   "source": [
    "#일단 교육수준 무응답 제거\n",
    "education_df=df[df['education']!=0]"
   ]
  },
  {
   "cell_type": "markdown",
   "id": "87f69cd2",
   "metadata": {},
   "source": [
    "## 교육수준이 외향적, 열정적 성격특성에 영향을 미치는가?"
   ]
  },
  {
   "cell_type": "code",
   "execution_count": 263,
   "id": "5f7c9b38",
   "metadata": {},
   "outputs": [
    {
     "data": {
      "text/html": [
       "<div>\n",
       "<style scoped>\n",
       "    .dataframe tbody tr th:only-of-type {\n",
       "        vertical-align: middle;\n",
       "    }\n",
       "\n",
       "    .dataframe tbody tr th {\n",
       "        vertical-align: top;\n",
       "    }\n",
       "\n",
       "    .dataframe thead th {\n",
       "        text-align: right;\n",
       "    }\n",
       "</style>\n",
       "<table border=\"1\" class=\"dataframe\">\n",
       "  <thead>\n",
       "    <tr style=\"text-align: right;\">\n",
       "      <th>education</th>\n",
       "      <th>1</th>\n",
       "      <th>2</th>\n",
       "      <th>3</th>\n",
       "      <th>4</th>\n",
       "      <th>All</th>\n",
       "    </tr>\n",
       "    <tr>\n",
       "      <th>tp01</th>\n",
       "      <th></th>\n",
       "      <th></th>\n",
       "      <th></th>\n",
       "      <th></th>\n",
       "      <th></th>\n",
       "    </tr>\n",
       "  </thead>\n",
       "  <tbody>\n",
       "    <tr>\n",
       "      <th>1</th>\n",
       "      <td>728</td>\n",
       "      <td>2410</td>\n",
       "      <td>1936</td>\n",
       "      <td>888</td>\n",
       "      <td>5962</td>\n",
       "    </tr>\n",
       "    <tr>\n",
       "      <th>2</th>\n",
       "      <td>868</td>\n",
       "      <td>3015</td>\n",
       "      <td>2716</td>\n",
       "      <td>1249</td>\n",
       "      <td>7848</td>\n",
       "    </tr>\n",
       "    <tr>\n",
       "      <th>3</th>\n",
       "      <td>613</td>\n",
       "      <td>2250</td>\n",
       "      <td>1955</td>\n",
       "      <td>1010</td>\n",
       "      <td>5828</td>\n",
       "    </tr>\n",
       "    <tr>\n",
       "      <th>4</th>\n",
       "      <td>451</td>\n",
       "      <td>1389</td>\n",
       "      <td>1169</td>\n",
       "      <td>643</td>\n",
       "      <td>3652</td>\n",
       "    </tr>\n",
       "    <tr>\n",
       "      <th>5</th>\n",
       "      <td>864</td>\n",
       "      <td>3006</td>\n",
       "      <td>2635</td>\n",
       "      <td>1289</td>\n",
       "      <td>7794</td>\n",
       "    </tr>\n",
       "    <tr>\n",
       "      <th>6</th>\n",
       "      <td>981</td>\n",
       "      <td>3123</td>\n",
       "      <td>3098</td>\n",
       "      <td>1714</td>\n",
       "      <td>8916</td>\n",
       "    </tr>\n",
       "    <tr>\n",
       "      <th>7</th>\n",
       "      <td>554</td>\n",
       "      <td>1536</td>\n",
       "      <td>1626</td>\n",
       "      <td>1013</td>\n",
       "      <td>4729</td>\n",
       "    </tr>\n",
       "    <tr>\n",
       "      <th>All</th>\n",
       "      <td>5059</td>\n",
       "      <td>16729</td>\n",
       "      <td>15135</td>\n",
       "      <td>7806</td>\n",
       "      <td>44729</td>\n",
       "    </tr>\n",
       "  </tbody>\n",
       "</table>\n",
       "</div>"
      ],
      "text/plain": [
       "education     1      2      3     4    All\n",
       "tp01                                      \n",
       "1           728   2410   1936   888   5962\n",
       "2           868   3015   2716  1249   7848\n",
       "3           613   2250   1955  1010   5828\n",
       "4           451   1389   1169   643   3652\n",
       "5           864   3006   2635  1289   7794\n",
       "6           981   3123   3098  1714   8916\n",
       "7           554   1536   1626  1013   4729\n",
       "All        5059  16729  15135  7806  44729"
      ]
     },
     "execution_count": 263,
     "metadata": {},
     "output_type": "execute_result"
    }
   ],
   "source": [
    "tp01_education_df=education_df[education_df['tp01']!=0] # tp01 무응답 제거\n",
    "pivot7=pd.pivot_table(tp01_education_df,values='index',index='tp01',columns='education',aggfunc='count',margins=True)\n",
    "pivot7"
   ]
  },
  {
   "cell_type": "code",
   "execution_count": 264,
   "id": "41f43bc8",
   "metadata": {},
   "outputs": [
    {
     "data": {
      "text/html": [
       "<div>\n",
       "<style scoped>\n",
       "    .dataframe tbody tr th:only-of-type {\n",
       "        vertical-align: middle;\n",
       "    }\n",
       "\n",
       "    .dataframe tbody tr th {\n",
       "        vertical-align: top;\n",
       "    }\n",
       "\n",
       "    .dataframe thead th {\n",
       "        text-align: right;\n",
       "    }\n",
       "</style>\n",
       "<table border=\"1\" class=\"dataframe\">\n",
       "  <thead>\n",
       "    <tr style=\"text-align: right;\">\n",
       "      <th>tp01</th>\n",
       "      <th>1</th>\n",
       "      <th>2</th>\n",
       "      <th>3</th>\n",
       "      <th>4</th>\n",
       "      <th>5</th>\n",
       "      <th>6</th>\n",
       "      <th>7</th>\n",
       "      <th>All</th>\n",
       "    </tr>\n",
       "    <tr>\n",
       "      <th>education</th>\n",
       "      <th></th>\n",
       "      <th></th>\n",
       "      <th></th>\n",
       "      <th></th>\n",
       "      <th></th>\n",
       "      <th></th>\n",
       "      <th></th>\n",
       "      <th></th>\n",
       "    </tr>\n",
       "  </thead>\n",
       "  <tbody>\n",
       "    <tr>\n",
       "      <th>1</th>\n",
       "      <td>14.390196</td>\n",
       "      <td>17.157541</td>\n",
       "      <td>12.117019</td>\n",
       "      <td>8.914805</td>\n",
       "      <td>17.078474</td>\n",
       "      <td>19.391184</td>\n",
       "      <td>10.950781</td>\n",
       "      <td>100.0</td>\n",
       "    </tr>\n",
       "    <tr>\n",
       "      <th>2</th>\n",
       "      <td>14.406121</td>\n",
       "      <td>18.022595</td>\n",
       "      <td>13.449698</td>\n",
       "      <td>8.302947</td>\n",
       "      <td>17.968797</td>\n",
       "      <td>18.668181</td>\n",
       "      <td>9.181661</td>\n",
       "      <td>100.0</td>\n",
       "    </tr>\n",
       "    <tr>\n",
       "      <th>3</th>\n",
       "      <td>12.791543</td>\n",
       "      <td>17.945160</td>\n",
       "      <td>12.917080</td>\n",
       "      <td>7.723819</td>\n",
       "      <td>17.409977</td>\n",
       "      <td>20.469111</td>\n",
       "      <td>10.743310</td>\n",
       "      <td>100.0</td>\n",
       "    </tr>\n",
       "    <tr>\n",
       "      <th>4</th>\n",
       "      <td>11.375865</td>\n",
       "      <td>16.000512</td>\n",
       "      <td>12.938765</td>\n",
       "      <td>8.237253</td>\n",
       "      <td>16.512939</td>\n",
       "      <td>21.957469</td>\n",
       "      <td>12.977197</td>\n",
       "      <td>100.0</td>\n",
       "    </tr>\n",
       "  </tbody>\n",
       "</table>\n",
       "</div>"
      ],
      "text/plain": [
       "tp01               1          2          3         4          5          6  \\\n",
       "education                                                                    \n",
       "1          14.390196  17.157541  12.117019  8.914805  17.078474  19.391184   \n",
       "2          14.406121  18.022595  13.449698  8.302947  17.968797  18.668181   \n",
       "3          12.791543  17.945160  12.917080  7.723819  17.409977  20.469111   \n",
       "4          11.375865  16.000512  12.938765  8.237253  16.512939  21.957469   \n",
       "\n",
       "tp01               7    All  \n",
       "education                    \n",
       "1          10.950781  100.0  \n",
       "2           9.181661  100.0  \n",
       "3          10.743310  100.0  \n",
       "4          12.977197  100.0  "
      ]
     },
     "execution_count": 264,
     "metadata": {},
     "output_type": "execute_result"
    }
   ],
   "source": [
    "#비율\n",
    "pivot8=pivot7/pivot7.loc['All']*100\n",
    "pivot9=pivot8.transpose()\n",
    "pivot9=pivot9.iloc[:4,:]\n",
    "pivot9"
   ]
  },
  {
   "cell_type": "code",
   "execution_count": 265,
   "id": "8e781863",
   "metadata": {},
   "outputs": [
    {
     "data": {
      "text/plain": [
       "Text(0.5, 1.0, 'extraverted,enthusiastic')"
      ]
     },
     "execution_count": 265,
     "metadata": {},
     "output_type": "execute_result"
    },
    {
     "data": {
      "image/png": "[encoded data removed]",
      "text/plain": [
       "<Figure size 720x432 with 1 Axes>"
      ]
     },
     "metadata": {
      "needs_background": "light"
     },
     "output_type": "display_data"
    }
   ],
   "source": [
    "#분포 그래프\n",
    "pivot9.iloc[:,0:7].plot(kind='barh',figsize=(10,6),stacked=True,alpha=0.7)\n",
    "plt.xlabel('Percentage')\n",
    "plt.ylabel('education level')\n",
    "plt.title('extraverted,enthusiastic')"
   ]
  },
  {
   "cell_type": "code",
   "execution_count": 266,
   "id": "19770c37",
   "metadata": {},
   "outputs": [
    {
     "data": {
      "text/plain": [
       "<AxesSubplot:xlabel='education', ylabel='tp01'>"
      ]
     },
     "execution_count": 266,
     "metadata": {},
     "output_type": "execute_result"
    },
    {
     "data": {
      "image/png": "[encoded data removed]",
      "text/plain": [
       "<Figure size 432x288 with 1 Axes>"
      ]
     },
     "metadata": {
      "needs_background": "light"
     },
     "output_type": "display_data"
    }
   ],
   "source": [
    "sns.barplot(data=tp01_education_df,x='education',y='tp01')"
   ]
  },
  {
   "cell_type": "markdown",
   "id": "17bf1277",
   "metadata": {},
   "source": [
    "## 교육수준이 비판적, 싸우려드는 성격특성에 영향을 미치는가?"
   ]
  },
  {
   "cell_type": "code",
   "execution_count": 267,
   "id": "43de5856",
   "metadata": {},
   "outputs": [
    {
     "data": {
      "text/html": [
       "<div>\n",
       "<style scoped>\n",
       "    .dataframe tbody tr th:only-of-type {\n",
       "        vertical-align: middle;\n",
       "    }\n",
       "\n",
       "    .dataframe tbody tr th {\n",
       "        vertical-align: top;\n",
       "    }\n",
       "\n",
       "    .dataframe thead th {\n",
       "        text-align: right;\n",
       "    }\n",
       "</style>\n",
       "<table border=\"1\" class=\"dataframe\">\n",
       "  <thead>\n",
       "    <tr style=\"text-align: right;\">\n",
       "      <th>education</th>\n",
       "      <th>1</th>\n",
       "      <th>2</th>\n",
       "      <th>3</th>\n",
       "      <th>4</th>\n",
       "      <th>All</th>\n",
       "    </tr>\n",
       "    <tr>\n",
       "      <th>tp02</th>\n",
       "      <th></th>\n",
       "      <th></th>\n",
       "      <th></th>\n",
       "      <th></th>\n",
       "      <th></th>\n",
       "    </tr>\n",
       "  </thead>\n",
       "  <tbody>\n",
       "    <tr>\n",
       "      <th>1</th>\n",
       "      <td>312</td>\n",
       "      <td>1393</td>\n",
       "      <td>1726</td>\n",
       "      <td>1128</td>\n",
       "      <td>4559</td>\n",
       "    </tr>\n",
       "    <tr>\n",
       "      <th>2</th>\n",
       "      <td>462</td>\n",
       "      <td>1775</td>\n",
       "      <td>1894</td>\n",
       "      <td>1154</td>\n",
       "      <td>5285</td>\n",
       "    </tr>\n",
       "    <tr>\n",
       "      <th>3</th>\n",
       "      <td>431</td>\n",
       "      <td>1460</td>\n",
       "      <td>1472</td>\n",
       "      <td>788</td>\n",
       "      <td>4151</td>\n",
       "    </tr>\n",
       "    <tr>\n",
       "      <th>4</th>\n",
       "      <td>565</td>\n",
       "      <td>1543</td>\n",
       "      <td>1134</td>\n",
       "      <td>630</td>\n",
       "      <td>3872</td>\n",
       "    </tr>\n",
       "    <tr>\n",
       "      <th>5</th>\n",
       "      <td>1414</td>\n",
       "      <td>4774</td>\n",
       "      <td>4145</td>\n",
       "      <td>2004</td>\n",
       "      <td>12337</td>\n",
       "    </tr>\n",
       "    <tr>\n",
       "      <th>6</th>\n",
       "      <td>1095</td>\n",
       "      <td>3575</td>\n",
       "      <td>3092</td>\n",
       "      <td>1357</td>\n",
       "      <td>9119</td>\n",
       "    </tr>\n",
       "    <tr>\n",
       "      <th>7</th>\n",
       "      <td>777</td>\n",
       "      <td>2189</td>\n",
       "      <td>1669</td>\n",
       "      <td>739</td>\n",
       "      <td>5374</td>\n",
       "    </tr>\n",
       "    <tr>\n",
       "      <th>All</th>\n",
       "      <td>5056</td>\n",
       "      <td>16709</td>\n",
       "      <td>15132</td>\n",
       "      <td>7800</td>\n",
       "      <td>44697</td>\n",
       "    </tr>\n",
       "  </tbody>\n",
       "</table>\n",
       "</div>"
      ],
      "text/plain": [
       "education     1      2      3     4    All\n",
       "tp02                                      \n",
       "1           312   1393   1726  1128   4559\n",
       "2           462   1775   1894  1154   5285\n",
       "3           431   1460   1472   788   4151\n",
       "4           565   1543   1134   630   3872\n",
       "5          1414   4774   4145  2004  12337\n",
       "6          1095   3575   3092  1357   9119\n",
       "7           777   2189   1669   739   5374\n",
       "All        5056  16709  15132  7800  44697"
      ]
     },
     "execution_count": 267,
     "metadata": {},
     "output_type": "execute_result"
    }
   ],
   "source": [
    "tp02_education_df=education_df[education_df['tp02']!=0] # tp01 무응답 제거\n",
    "pivot10=pd.pivot_table(tp02_education_df,values='index',index='tp02',columns='education',aggfunc='count',margins=True)\n",
    "pivot10"
   ]
  },
  {
   "cell_type": "code",
   "execution_count": 268,
   "id": "e14e58bf",
   "metadata": {},
   "outputs": [
    {
     "data": {
      "text/html": [
       "<div>\n",
       "<style scoped>\n",
       "    .dataframe tbody tr th:only-of-type {\n",
       "        vertical-align: middle;\n",
       "    }\n",
       "\n",
       "    .dataframe tbody tr th {\n",
       "        vertical-align: top;\n",
       "    }\n",
       "\n",
       "    .dataframe thead th {\n",
       "        text-align: right;\n",
       "    }\n",
       "</style>\n",
       "<table border=\"1\" class=\"dataframe\">\n",
       "  <thead>\n",
       "    <tr style=\"text-align: right;\">\n",
       "      <th>tp02</th>\n",
       "      <th>1</th>\n",
       "      <th>2</th>\n",
       "      <th>3</th>\n",
       "      <th>4</th>\n",
       "      <th>5</th>\n",
       "      <th>6</th>\n",
       "      <th>7</th>\n",
       "      <th>All</th>\n",
       "    </tr>\n",
       "    <tr>\n",
       "      <th>education</th>\n",
       "      <th></th>\n",
       "      <th></th>\n",
       "      <th></th>\n",
       "      <th></th>\n",
       "      <th></th>\n",
       "      <th></th>\n",
       "      <th></th>\n",
       "      <th></th>\n",
       "    </tr>\n",
       "  </thead>\n",
       "  <tbody>\n",
       "    <tr>\n",
       "      <th>1</th>\n",
       "      <td>6.170886</td>\n",
       "      <td>9.137658</td>\n",
       "      <td>8.524525</td>\n",
       "      <td>11.174842</td>\n",
       "      <td>27.966772</td>\n",
       "      <td>21.657437</td>\n",
       "      <td>15.367880</td>\n",
       "      <td>100.0</td>\n",
       "    </tr>\n",
       "    <tr>\n",
       "      <th>2</th>\n",
       "      <td>8.336824</td>\n",
       "      <td>10.623018</td>\n",
       "      <td>8.737806</td>\n",
       "      <td>9.234544</td>\n",
       "      <td>28.571429</td>\n",
       "      <td>21.395655</td>\n",
       "      <td>13.100724</td>\n",
       "      <td>100.0</td>\n",
       "    </tr>\n",
       "    <tr>\n",
       "      <th>3</th>\n",
       "      <td>11.406291</td>\n",
       "      <td>12.516521</td>\n",
       "      <td>9.727729</td>\n",
       "      <td>7.494052</td>\n",
       "      <td>27.392281</td>\n",
       "      <td>20.433518</td>\n",
       "      <td>11.029606</td>\n",
       "      <td>100.0</td>\n",
       "    </tr>\n",
       "    <tr>\n",
       "      <th>4</th>\n",
       "      <td>14.461538</td>\n",
       "      <td>14.794872</td>\n",
       "      <td>10.102564</td>\n",
       "      <td>8.076923</td>\n",
       "      <td>25.692308</td>\n",
       "      <td>17.397436</td>\n",
       "      <td>9.474359</td>\n",
       "      <td>100.0</td>\n",
       "    </tr>\n",
       "  </tbody>\n",
       "</table>\n",
       "</div>"
      ],
      "text/plain": [
       "tp02               1          2          3          4          5          6  \\\n",
       "education                                                                     \n",
       "1           6.170886   9.137658   8.524525  11.174842  27.966772  21.657437   \n",
       "2           8.336824  10.623018   8.737806   9.234544  28.571429  21.395655   \n",
       "3          11.406291  12.516521   9.727729   7.494052  27.392281  20.433518   \n",
       "4          14.461538  14.794872  10.102564   8.076923  25.692308  17.397436   \n",
       "\n",
       "tp02               7    All  \n",
       "education                    \n",
       "1          15.367880  100.0  \n",
       "2          13.100724  100.0  \n",
       "3          11.029606  100.0  \n",
       "4           9.474359  100.0  "
      ]
     },
     "execution_count": 268,
     "metadata": {},
     "output_type": "execute_result"
    }
   ],
   "source": [
    "#비율\n",
    "pivot11=pivot10/pivot10.loc['All']*100\n",
    "pivot12=pivot11.transpose()\n",
    "pivot12=pivot12.iloc[:4,:]\n",
    "pivot12"
   ]
  },
  {
   "cell_type": "code",
   "execution_count": 269,
   "id": "e2983a99",
   "metadata": {},
   "outputs": [
    {
     "data": {
      "text/plain": [
       "Text(0.5, 1.0, 'critical,quarrelsome')"
      ]
     },
     "execution_count": 269,
     "metadata": {},
     "output_type": "execute_result"
    },
    {
     "data": {
      "image/png": "[encoded data removed]",
      "text/plain": [
       "<Figure size 720x432 with 1 Axes>"
      ]
     },
     "metadata": {
      "needs_background": "light"
     },
     "output_type": "display_data"
    }
   ],
   "source": [
    "#분포 그래프\n",
    "pivot12.iloc[:,0:7].plot(kind='barh',figsize=(10,6),stacked=True,alpha=0.7)\n",
    "plt.xlabel('Percentage')\n",
    "plt.ylabel('education level')\n",
    "plt.title('critical,quarrelsome')"
   ]
  },
  {
   "cell_type": "code",
   "execution_count": 270,
   "id": "88d54369",
   "metadata": {},
   "outputs": [
    {
     "data": {
      "text/plain": [
       "<AxesSubplot:xlabel='education', ylabel='tp02'>"
      ]
     },
     "execution_count": 270,
     "metadata": {},
     "output_type": "execute_result"
    },
    {
     "data": {
      "image/png": "[encoded data removed]",
      "text/plain": [
       "<Figure size 432x288 with 1 Axes>"
      ]
     },
     "metadata": {
      "needs_background": "light"
     },
     "output_type": "display_data"
    }
   ],
   "source": [
    "sns.barplot(data=tp02_education_df,x='education',y='tp02')"
   ]
  },
  {
   "cell_type": "markdown",
   "id": "eefa8038",
   "metadata": {},
   "source": [
    "# 형제자매수가 영향을 미치는가? \n",
    "- 형제자매수에 따라서 성격 특성이 다르게 나타나는가?(tp01,tp02)"
   ]
  },
  {
   "cell_type": "code",
   "execution_count": 271,
   "id": "54f7a9f2",
   "metadata": {},
   "outputs": [
    {
     "name": "stderr",
     "output_type": "stream",
     "text": [
      "C:\\Users\\rangc\\anaconda3\\lib\\site-packages\\seaborn\\_decorators.py:36: FutureWarning: Pass the following variable as a keyword arg: x. From version 0.12, the only valid positional argument will be `data`, and passing other arguments without an explicit keyword will result in an error or misinterpretation.\n",
      "  warnings.warn(\n"
     ]
    },
    {
     "data": {
      "text/plain": [
       "<AxesSubplot:xlabel='familysize', ylabel='count'>"
      ]
     },
     "execution_count": 271,
     "metadata": {},
     "output_type": "execute_result"
    },
    {
     "data": {
      "image/png": "[encoded data removed]",
      "text/plain": [
       "<Figure size 432x288 with 1 Axes>"
      ]
     },
     "metadata": {
      "needs_background": "light"
     },
     "output_type": "display_data"
    }
   ],
   "source": [
    "#형제자매수 분포보기\n",
    "sns.countplot(df['familysize'])"
   ]
  },
  {
   "cell_type": "code",
   "execution_count": 272,
   "id": "109b9b10",
   "metadata": {},
   "outputs": [
    {
     "name": "stderr",
     "output_type": "stream",
     "text": [
      "C:\\Users\\rangc\\anaconda3\\lib\\site-packages\\seaborn\\_decorators.py:36: FutureWarning: Pass the following variable as a keyword arg: x. From version 0.12, the only valid positional argument will be `data`, and passing other arguments without an explicit keyword will result in an error or misinterpretation.\n",
      "  warnings.warn(\n"
     ]
    },
    {
     "data": {
      "text/plain": [
       "<AxesSubplot:xlabel='familysize', ylabel='count'>"
      ]
     },
     "execution_count": 272,
     "metadata": {},
     "output_type": "execute_result"
    },
    {
     "data": {
      "image/png": "[encoded data removed]",
      "text/plain": [
       "<Figure size 432x288 with 1 Axes>"
      ]
     },
     "metadata": {
      "needs_background": "light"
     },
     "output_type": "display_data"
    }
   ],
   "source": [
    "#5명 이상은 통합\n",
    "df.familysize=df.familysize.apply(lambda x:'+5'if x >=5 else x)\n",
    "sns.countplot(df['familysize'],order=[0,1,2,3,4,'+5'])"
   ]
  },
  {
   "cell_type": "markdown",
   "id": "be0ddea8",
   "metadata": {},
   "source": [
    "## 형제자매수가 외향적, 열정적 성격특성에 영향을 미치는가?"
   ]
  },
  {
   "cell_type": "code",
   "execution_count": 273,
   "id": "5610a795",
   "metadata": {},
   "outputs": [
    {
     "data": {
      "text/html": [
       "<div>\n",
       "<style scoped>\n",
       "    .dataframe tbody tr th:only-of-type {\n",
       "        vertical-align: middle;\n",
       "    }\n",
       "\n",
       "    .dataframe tbody tr th {\n",
       "        vertical-align: top;\n",
       "    }\n",
       "\n",
       "    .dataframe thead th {\n",
       "        text-align: right;\n",
       "    }\n",
       "</style>\n",
       "<table border=\"1\" class=\"dataframe\">\n",
       "  <thead>\n",
       "    <tr style=\"text-align: right;\">\n",
       "      <th>familysize</th>\n",
       "      <th>0</th>\n",
       "      <th>1</th>\n",
       "      <th>2</th>\n",
       "      <th>3</th>\n",
       "      <th>4</th>\n",
       "      <th>+5</th>\n",
       "      <th>All</th>\n",
       "    </tr>\n",
       "    <tr>\n",
       "      <th>tp01</th>\n",
       "      <th></th>\n",
       "      <th></th>\n",
       "      <th></th>\n",
       "      <th></th>\n",
       "      <th></th>\n",
       "      <th></th>\n",
       "      <th></th>\n",
       "    </tr>\n",
       "  </thead>\n",
       "  <tbody>\n",
       "    <tr>\n",
       "      <th>1</th>\n",
       "      <td>165</td>\n",
       "      <td>886</td>\n",
       "      <td>2396</td>\n",
       "      <td>1439</td>\n",
       "      <td>656</td>\n",
       "      <td>499</td>\n",
       "      <td>6041</td>\n",
       "    </tr>\n",
       "    <tr>\n",
       "      <th>2</th>\n",
       "      <td>200</td>\n",
       "      <td>1173</td>\n",
       "      <td>3198</td>\n",
       "      <td>1928</td>\n",
       "      <td>842</td>\n",
       "      <td>601</td>\n",
       "      <td>7942</td>\n",
       "    </tr>\n",
       "    <tr>\n",
       "      <th>3</th>\n",
       "      <td>146</td>\n",
       "      <td>834</td>\n",
       "      <td>2406</td>\n",
       "      <td>1456</td>\n",
       "      <td>623</td>\n",
       "      <td>435</td>\n",
       "      <td>5900</td>\n",
       "    </tr>\n",
       "    <tr>\n",
       "      <th>4</th>\n",
       "      <td>110</td>\n",
       "      <td>540</td>\n",
       "      <td>1441</td>\n",
       "      <td>917</td>\n",
       "      <td>370</td>\n",
       "      <td>314</td>\n",
       "      <td>3692</td>\n",
       "    </tr>\n",
       "    <tr>\n",
       "      <th>5</th>\n",
       "      <td>212</td>\n",
       "      <td>1107</td>\n",
       "      <td>3045</td>\n",
       "      <td>1991</td>\n",
       "      <td>829</td>\n",
       "      <td>693</td>\n",
       "      <td>7877</td>\n",
       "    </tr>\n",
       "    <tr>\n",
       "      <th>6</th>\n",
       "      <td>235</td>\n",
       "      <td>1280</td>\n",
       "      <td>3509</td>\n",
       "      <td>2232</td>\n",
       "      <td>1031</td>\n",
       "      <td>727</td>\n",
       "      <td>9014</td>\n",
       "    </tr>\n",
       "    <tr>\n",
       "      <th>7</th>\n",
       "      <td>137</td>\n",
       "      <td>677</td>\n",
       "      <td>1835</td>\n",
       "      <td>1223</td>\n",
       "      <td>523</td>\n",
       "      <td>388</td>\n",
       "      <td>4783</td>\n",
       "    </tr>\n",
       "    <tr>\n",
       "      <th>All</th>\n",
       "      <td>1205</td>\n",
       "      <td>6497</td>\n",
       "      <td>17830</td>\n",
       "      <td>11186</td>\n",
       "      <td>4874</td>\n",
       "      <td>3657</td>\n",
       "      <td>45249</td>\n",
       "    </tr>\n",
       "  </tbody>\n",
       "</table>\n",
       "</div>"
      ],
      "text/plain": [
       "familysize     0     1      2      3     4    +5    All\n",
       "tp01                                                   \n",
       "1            165   886   2396   1439   656   499   6041\n",
       "2            200  1173   3198   1928   842   601   7942\n",
       "3            146   834   2406   1456   623   435   5900\n",
       "4            110   540   1441    917   370   314   3692\n",
       "5            212  1107   3045   1991   829   693   7877\n",
       "6            235  1280   3509   2232  1031   727   9014\n",
       "7            137   677   1835   1223   523   388   4783\n",
       "All         1205  6497  17830  11186  4874  3657  45249"
      ]
     },
     "execution_count": 273,
     "metadata": {},
     "output_type": "execute_result"
    }
   ],
   "source": [
    "tp01_df=df[df['tp01']!=0] # tp01 무응답 제거\n",
    "pivot13=pd.pivot_table(data=tp01_df,values='index',index='tp01',columns='familysize',aggfunc='count',margins=True)\n",
    "pivot13"
   ]
  },
  {
   "cell_type": "code",
   "execution_count": 274,
   "id": "3c5c3e1b",
   "metadata": {},
   "outputs": [
    {
     "data": {
      "text/html": [
       "<div>\n",
       "<style scoped>\n",
       "    .dataframe tbody tr th:only-of-type {\n",
       "        vertical-align: middle;\n",
       "    }\n",
       "\n",
       "    .dataframe tbody tr th {\n",
       "        vertical-align: top;\n",
       "    }\n",
       "\n",
       "    .dataframe thead th {\n",
       "        text-align: right;\n",
       "    }\n",
       "</style>\n",
       "<table border=\"1\" class=\"dataframe\">\n",
       "  <thead>\n",
       "    <tr style=\"text-align: right;\">\n",
       "      <th>tp01</th>\n",
       "      <th>1</th>\n",
       "      <th>2</th>\n",
       "      <th>3</th>\n",
       "      <th>4</th>\n",
       "      <th>5</th>\n",
       "      <th>6</th>\n",
       "      <th>7</th>\n",
       "      <th>All</th>\n",
       "    </tr>\n",
       "    <tr>\n",
       "      <th>familysize</th>\n",
       "      <th></th>\n",
       "      <th></th>\n",
       "      <th></th>\n",
       "      <th></th>\n",
       "      <th></th>\n",
       "      <th></th>\n",
       "      <th></th>\n",
       "      <th></th>\n",
       "    </tr>\n",
       "  </thead>\n",
       "  <tbody>\n",
       "    <tr>\n",
       "      <th>0</th>\n",
       "      <td>13.692946</td>\n",
       "      <td>16.597510</td>\n",
       "      <td>12.116183</td>\n",
       "      <td>9.128631</td>\n",
       "      <td>17.593361</td>\n",
       "      <td>19.502075</td>\n",
       "      <td>11.369295</td>\n",
       "      <td>100.0</td>\n",
       "    </tr>\n",
       "    <tr>\n",
       "      <th>1</th>\n",
       "      <td>13.637063</td>\n",
       "      <td>18.054487</td>\n",
       "      <td>12.836694</td>\n",
       "      <td>8.311528</td>\n",
       "      <td>17.038633</td>\n",
       "      <td>19.701401</td>\n",
       "      <td>10.420194</td>\n",
       "      <td>100.0</td>\n",
       "    </tr>\n",
       "    <tr>\n",
       "      <th>2</th>\n",
       "      <td>13.438026</td>\n",
       "      <td>17.936063</td>\n",
       "      <td>13.494111</td>\n",
       "      <td>8.081884</td>\n",
       "      <td>17.077958</td>\n",
       "      <td>19.680314</td>\n",
       "      <td>10.291643</td>\n",
       "      <td>100.0</td>\n",
       "    </tr>\n",
       "    <tr>\n",
       "      <th>3</th>\n",
       "      <td>12.864295</td>\n",
       "      <td>17.235831</td>\n",
       "      <td>13.016270</td>\n",
       "      <td>8.197747</td>\n",
       "      <td>17.799035</td>\n",
       "      <td>19.953513</td>\n",
       "      <td>10.933309</td>\n",
       "      <td>100.0</td>\n",
       "    </tr>\n",
       "    <tr>\n",
       "      <th>4</th>\n",
       "      <td>13.459171</td>\n",
       "      <td>17.275339</td>\n",
       "      <td>12.782109</td>\n",
       "      <td>7.591301</td>\n",
       "      <td>17.008617</td>\n",
       "      <td>21.153057</td>\n",
       "      <td>10.730406</td>\n",
       "      <td>100.0</td>\n",
       "    </tr>\n",
       "    <tr>\n",
       "      <th>+5</th>\n",
       "      <td>13.645064</td>\n",
       "      <td>16.434236</td>\n",
       "      <td>11.894996</td>\n",
       "      <td>8.586273</td>\n",
       "      <td>18.949959</td>\n",
       "      <td>19.879683</td>\n",
       "      <td>10.609789</td>\n",
       "      <td>100.0</td>\n",
       "    </tr>\n",
       "  </tbody>\n",
       "</table>\n",
       "</div>"
      ],
      "text/plain": [
       "tp01                1          2          3         4          5          6  \\\n",
       "familysize                                                                    \n",
       "0           13.692946  16.597510  12.116183  9.128631  17.593361  19.502075   \n",
       "1           13.637063  18.054487  12.836694  8.311528  17.038633  19.701401   \n",
       "2           13.438026  17.936063  13.494111  8.081884  17.077958  19.680314   \n",
       "3           12.864295  17.235831  13.016270  8.197747  17.799035  19.953513   \n",
       "4           13.459171  17.275339  12.782109  7.591301  17.008617  21.153057   \n",
       "+5          13.645064  16.434236  11.894996  8.586273  18.949959  19.879683   \n",
       "\n",
       "tp01                7    All  \n",
       "familysize                    \n",
       "0           11.369295  100.0  \n",
       "1           10.420194  100.0  \n",
       "2           10.291643  100.0  \n",
       "3           10.933309  100.0  \n",
       "4           10.730406  100.0  \n",
       "+5          10.609789  100.0  "
      ]
     },
     "execution_count": 274,
     "metadata": {},
     "output_type": "execute_result"
    }
   ],
   "source": [
    "#비율\n",
    "pivot14=pivot13/pivot13.loc['All']*100\n",
    "pivot15=pivot14.transpose()\n",
    "pivot15=pivot15.iloc[:6,:]\n",
    "pivot15"
   ]
  },
  {
   "cell_type": "code",
   "execution_count": 275,
   "id": "6023864f",
   "metadata": {},
   "outputs": [
    {
     "data": {
      "text/plain": [
       "Text(0.5, 1.0, 'extroverted,enthusiastic')"
      ]
     },
     "execution_count": 275,
     "metadata": {},
     "output_type": "execute_result"
    },
    {
     "data": {
      "image/png": "[encoded data removed]",
      "text/plain": [
       "<Figure size 720x432 with 1 Axes>"
      ]
     },
     "metadata": {
      "needs_background": "light"
     },
     "output_type": "display_data"
    }
   ],
   "source": [
    "#분포 그래프\n",
    "pivot15.iloc[:,0:7].plot(kind='barh',figsize=(10,6),stacked=True,alpha=0.7)\n",
    "plt.xlabel('Percentage')\n",
    "plt.ylabel('familysize')\n",
    "plt.title('extroverted,enthusiastic')"
   ]
  },
  {
   "cell_type": "code",
   "execution_count": 276,
   "id": "a22fc8f8",
   "metadata": {},
   "outputs": [
    {
     "data": {
      "text/plain": [
       "<AxesSubplot:xlabel='familysize', ylabel='tp01'>"
      ]
     },
     "execution_count": 276,
     "metadata": {},
     "output_type": "execute_result"
    },
    {
     "data": {
      "image/png": "[encoded data removed]",
      "text/plain": [
       "<Figure size 432x288 with 1 Axes>"
      ]
     },
     "metadata": {
      "needs_background": "light"
     },
     "output_type": "display_data"
    }
   ],
   "source": [
    "#평균비교\n",
    "sns.barplot(data=tp01_df,x='familysize',y='tp01',order=[0,1,2,3,4,'+5'])\n",
    "\n",
    "#이거 내가 5명이상부터 묶었는데 이거 묶는거에 대한 명확한 기준 필요하다면\n",
    "#boxplot 그려서 이상치 파악해보자!"
   ]
  },
  {
   "cell_type": "markdown",
   "id": "cb49afc1",
   "metadata": {},
   "source": [
    "## 형제자매수가 비판적, 싸우려드는 성격특성에 영향을 미치는가?\n"
   ]
  },
  {
   "cell_type": "code",
   "execution_count": 277,
   "id": "65d19593",
   "metadata": {},
   "outputs": [
    {
     "data": {
      "text/html": [
       "<div>\n",
       "<style scoped>\n",
       "    .dataframe tbody tr th:only-of-type {\n",
       "        vertical-align: middle;\n",
       "    }\n",
       "\n",
       "    .dataframe tbody tr th {\n",
       "        vertical-align: top;\n",
       "    }\n",
       "\n",
       "    .dataframe thead th {\n",
       "        text-align: right;\n",
       "    }\n",
       "</style>\n",
       "<table border=\"1\" class=\"dataframe\">\n",
       "  <thead>\n",
       "    <tr style=\"text-align: right;\">\n",
       "      <th>familysize</th>\n",
       "      <th>0</th>\n",
       "      <th>1</th>\n",
       "      <th>2</th>\n",
       "      <th>3</th>\n",
       "      <th>4</th>\n",
       "      <th>+5</th>\n",
       "      <th>All</th>\n",
       "    </tr>\n",
       "    <tr>\n",
       "      <th>tp02</th>\n",
       "      <th></th>\n",
       "      <th></th>\n",
       "      <th></th>\n",
       "      <th></th>\n",
       "      <th></th>\n",
       "      <th></th>\n",
       "      <th></th>\n",
       "    </tr>\n",
       "  </thead>\n",
       "  <tbody>\n",
       "    <tr>\n",
       "      <th>1</th>\n",
       "      <td>94</td>\n",
       "      <td>635</td>\n",
       "      <td>1631</td>\n",
       "      <td>1142</td>\n",
       "      <td>600</td>\n",
       "      <td>512</td>\n",
       "      <td>4614</td>\n",
       "    </tr>\n",
       "    <tr>\n",
       "      <th>2</th>\n",
       "      <td>124</td>\n",
       "      <td>710</td>\n",
       "      <td>2039</td>\n",
       "      <td>1334</td>\n",
       "      <td>622</td>\n",
       "      <td>511</td>\n",
       "      <td>5340</td>\n",
       "    </tr>\n",
       "    <tr>\n",
       "      <th>3</th>\n",
       "      <td>105</td>\n",
       "      <td>538</td>\n",
       "      <td>1664</td>\n",
       "      <td>1084</td>\n",
       "      <td>467</td>\n",
       "      <td>340</td>\n",
       "      <td>4198</td>\n",
       "    </tr>\n",
       "    <tr>\n",
       "      <th>4</th>\n",
       "      <td>124</td>\n",
       "      <td>538</td>\n",
       "      <td>1570</td>\n",
       "      <td>935</td>\n",
       "      <td>405</td>\n",
       "      <td>349</td>\n",
       "      <td>3921</td>\n",
       "    </tr>\n",
       "    <tr>\n",
       "      <th>5</th>\n",
       "      <td>315</td>\n",
       "      <td>1749</td>\n",
       "      <td>4949</td>\n",
       "      <td>3153</td>\n",
       "      <td>1348</td>\n",
       "      <td>984</td>\n",
       "      <td>12498</td>\n",
       "    </tr>\n",
       "    <tr>\n",
       "      <th>6</th>\n",
       "      <td>272</td>\n",
       "      <td>1431</td>\n",
       "      <td>3768</td>\n",
       "      <td>2231</td>\n",
       "      <td>899</td>\n",
       "      <td>607</td>\n",
       "      <td>9208</td>\n",
       "    </tr>\n",
       "    <tr>\n",
       "      <th>7</th>\n",
       "      <td>171</td>\n",
       "      <td>889</td>\n",
       "      <td>2211</td>\n",
       "      <td>1295</td>\n",
       "      <td>525</td>\n",
       "      <td>347</td>\n",
       "      <td>5438</td>\n",
       "    </tr>\n",
       "    <tr>\n",
       "      <th>All</th>\n",
       "      <td>1205</td>\n",
       "      <td>6490</td>\n",
       "      <td>17832</td>\n",
       "      <td>11174</td>\n",
       "      <td>4866</td>\n",
       "      <td>3650</td>\n",
       "      <td>45217</td>\n",
       "    </tr>\n",
       "  </tbody>\n",
       "</table>\n",
       "</div>"
      ],
      "text/plain": [
       "familysize     0     1      2      3     4    +5    All\n",
       "tp02                                                   \n",
       "1             94   635   1631   1142   600   512   4614\n",
       "2            124   710   2039   1334   622   511   5340\n",
       "3            105   538   1664   1084   467   340   4198\n",
       "4            124   538   1570    935   405   349   3921\n",
       "5            315  1749   4949   3153  1348   984  12498\n",
       "6            272  1431   3768   2231   899   607   9208\n",
       "7            171   889   2211   1295   525   347   5438\n",
       "All         1205  6490  17832  11174  4866  3650  45217"
      ]
     },
     "execution_count": 277,
     "metadata": {},
     "output_type": "execute_result"
    }
   ],
   "source": [
    "tp02_df=df[df['tp02']!=0] # tp02 무응답 제거\n",
    "pivot16=pd.pivot_table(tp02_df,values='index',index='tp02',columns='familysize',aggfunc='count',margins=True)\n",
    "pivot16"
   ]
  },
  {
   "cell_type": "code",
   "execution_count": 278,
   "id": "ed6c64cb",
   "metadata": {},
   "outputs": [
    {
     "data": {
      "text/html": [
       "<div>\n",
       "<style scoped>\n",
       "    .dataframe tbody tr th:only-of-type {\n",
       "        vertical-align: middle;\n",
       "    }\n",
       "\n",
       "    .dataframe tbody tr th {\n",
       "        vertical-align: top;\n",
       "    }\n",
       "\n",
       "    .dataframe thead th {\n",
       "        text-align: right;\n",
       "    }\n",
       "</style>\n",
       "<table border=\"1\" class=\"dataframe\">\n",
       "  <thead>\n",
       "    <tr style=\"text-align: right;\">\n",
       "      <th>tp02</th>\n",
       "      <th>1</th>\n",
       "      <th>2</th>\n",
       "      <th>3</th>\n",
       "      <th>4</th>\n",
       "      <th>5</th>\n",
       "      <th>6</th>\n",
       "      <th>7</th>\n",
       "      <th>All</th>\n",
       "    </tr>\n",
       "    <tr>\n",
       "      <th>familysize</th>\n",
       "      <th></th>\n",
       "      <th></th>\n",
       "      <th></th>\n",
       "      <th></th>\n",
       "      <th></th>\n",
       "      <th></th>\n",
       "      <th></th>\n",
       "      <th></th>\n",
       "    </tr>\n",
       "  </thead>\n",
       "  <tbody>\n",
       "    <tr>\n",
       "      <th>0</th>\n",
       "      <td>7.800830</td>\n",
       "      <td>10.290456</td>\n",
       "      <td>8.713693</td>\n",
       "      <td>10.290456</td>\n",
       "      <td>26.141079</td>\n",
       "      <td>22.572614</td>\n",
       "      <td>14.190871</td>\n",
       "      <td>100.0</td>\n",
       "    </tr>\n",
       "    <tr>\n",
       "      <th>1</th>\n",
       "      <td>9.784284</td>\n",
       "      <td>10.939908</td>\n",
       "      <td>8.289676</td>\n",
       "      <td>8.289676</td>\n",
       "      <td>26.949153</td>\n",
       "      <td>22.049307</td>\n",
       "      <td>13.697997</td>\n",
       "      <td>100.0</td>\n",
       "    </tr>\n",
       "    <tr>\n",
       "      <th>2</th>\n",
       "      <td>9.146478</td>\n",
       "      <td>11.434500</td>\n",
       "      <td>9.331539</td>\n",
       "      <td>8.804397</td>\n",
       "      <td>27.753477</td>\n",
       "      <td>21.130552</td>\n",
       "      <td>12.399058</td>\n",
       "      <td>100.0</td>\n",
       "    </tr>\n",
       "    <tr>\n",
       "      <th>3</th>\n",
       "      <td>10.220154</td>\n",
       "      <td>11.938428</td>\n",
       "      <td>9.701092</td>\n",
       "      <td>8.367639</td>\n",
       "      <td>28.217290</td>\n",
       "      <td>19.965992</td>\n",
       "      <td>11.589404</td>\n",
       "      <td>100.0</td>\n",
       "    </tr>\n",
       "    <tr>\n",
       "      <th>4</th>\n",
       "      <td>12.330456</td>\n",
       "      <td>12.782573</td>\n",
       "      <td>9.597205</td>\n",
       "      <td>8.323058</td>\n",
       "      <td>27.702425</td>\n",
       "      <td>18.475134</td>\n",
       "      <td>10.789149</td>\n",
       "      <td>100.0</td>\n",
       "    </tr>\n",
       "    <tr>\n",
       "      <th>+5</th>\n",
       "      <td>14.027397</td>\n",
       "      <td>14.000000</td>\n",
       "      <td>9.315068</td>\n",
       "      <td>9.561644</td>\n",
       "      <td>26.958904</td>\n",
       "      <td>16.630137</td>\n",
       "      <td>9.506849</td>\n",
       "      <td>100.0</td>\n",
       "    </tr>\n",
       "  </tbody>\n",
       "</table>\n",
       "</div>"
      ],
      "text/plain": [
       "tp02                1          2         3          4          5          6  \\\n",
       "familysize                                                                    \n",
       "0            7.800830  10.290456  8.713693  10.290456  26.141079  22.572614   \n",
       "1            9.784284  10.939908  8.289676   8.289676  26.949153  22.049307   \n",
       "2            9.146478  11.434500  9.331539   8.804397  27.753477  21.130552   \n",
       "3           10.220154  11.938428  9.701092   8.367639  28.217290  19.965992   \n",
       "4           12.330456  12.782573  9.597205   8.323058  27.702425  18.475134   \n",
       "+5          14.027397  14.000000  9.315068   9.561644  26.958904  16.630137   \n",
       "\n",
       "tp02                7    All  \n",
       "familysize                    \n",
       "0           14.190871  100.0  \n",
       "1           13.697997  100.0  \n",
       "2           12.399058  100.0  \n",
       "3           11.589404  100.0  \n",
       "4           10.789149  100.0  \n",
       "+5           9.506849  100.0  "
      ]
     },
     "execution_count": 278,
     "metadata": {},
     "output_type": "execute_result"
    }
   ],
   "source": [
    "#비율\n",
    "pivot17=pivot16/pivot16.loc['All']*100\n",
    "pivot18=pivot17.transpose()\n",
    "pivot18=pivot18.iloc[:6,:]\n",
    "pivot18"
   ]
  },
  {
   "cell_type": "code",
   "execution_count": 279,
   "id": "3da240b1",
   "metadata": {},
   "outputs": [
    {
     "data": {
      "text/plain": [
       "Text(0.5, 1.0, 'critical,quarrelsome')"
      ]
     },
     "execution_count": 279,
     "metadata": {},
     "output_type": "execute_result"
    },
    {
     "data": {
      "image/png": "[encoded data removed]",
      "text/plain": [
       "<Figure size 720x432 with 1 Axes>"
      ]
     },
     "metadata": {
      "needs_background": "light"
     },
     "output_type": "display_data"
    }
   ],
   "source": [
    "#분포 그래프\n",
    "pivot18.iloc[:,0:7].plot(kind='barh',figsize=(10,6),stacked=True,alpha=0.7)\n",
    "plt.xlabel('Percentage')\n",
    "plt.ylabel('familysize')\n",
    "plt.title('critical,quarrelsome')"
   ]
  },
  {
   "cell_type": "code",
   "execution_count": 280,
   "id": "66bc1249",
   "metadata": {},
   "outputs": [
    {
     "data": {
      "text/plain": [
       "<AxesSubplot:xlabel='familysize', ylabel='tp02'>"
      ]
     },
     "execution_count": 280,
     "metadata": {},
     "output_type": "execute_result"
    },
    {
     "data": {
      "image/png": "[encoded data removed]",
      "text/plain": [
       "<Figure size 432x288 with 1 Axes>"
      ]
     },
     "metadata": {
      "needs_background": "light"
     },
     "output_type": "display_data"
    }
   ],
   "source": [
    "#평균\n",
    "sns.barplot(data=tp02_df,x='familysize',y='tp02',order=[0,1,2,3,4,'+5'])"
   ]
  },
  {
   "cell_type": "markdown",
   "id": "ea357005",
   "metadata": {},
   "source": [
    "# 혼인상태가 영향을 미치는가? \n",
    "- 혼인상태에 따라서 성격 특성이 다르게 나타나는가?(tp01,tp02)\n",
    "> 1: 미혼<br>\n",
    "> 2: 기혼(현재 결혼상태)<br>\n",
    "> 3: 이혼(이전에 결혼)<br>"
   ]
  },
  {
   "cell_type": "code",
   "execution_count": 281,
   "id": "fc77d895",
   "metadata": {},
   "outputs": [
    {
     "name": "stderr",
     "output_type": "stream",
     "text": [
      "C:\\Users\\rangc\\anaconda3\\lib\\site-packages\\seaborn\\_decorators.py:36: FutureWarning: Pass the following variable as a keyword arg: x. From version 0.12, the only valid positional argument will be `data`, and passing other arguments without an explicit keyword will result in an error or misinterpretation.\n",
      "  warnings.warn(\n"
     ]
    },
    {
     "data": {
      "text/plain": [
       "<AxesSubplot:xlabel='married', ylabel='count'>"
      ]
     },
     "execution_count": 281,
     "metadata": {},
     "output_type": "execute_result"
    },
    {
     "data": {
      "image/png": "[encoded data removed]",
      "text/plain": [
       "<Figure size 432x288 with 1 Axes>"
      ]
     },
     "metadata": {
      "needs_background": "light"
     },
     "output_type": "display_data"
    }
   ],
   "source": [
    "sns.countplot(df['married'])"
   ]
  },
  {
   "cell_type": "code",
   "execution_count": 282,
   "id": "f653589a",
   "metadata": {},
   "outputs": [
    {
     "name": "stderr",
     "output_type": "stream",
     "text": [
      "C:\\Users\\rangc\\anaconda3\\lib\\site-packages\\seaborn\\_decorators.py:36: FutureWarning: Pass the following variable as a keyword arg: x. From version 0.12, the only valid positional argument will be `data`, and passing other arguments without an explicit keyword will result in an error or misinterpretation.\n",
      "  warnings.warn(\n"
     ]
    },
    {
     "data": {
      "text/plain": [
       "([<matplotlib.axis.XTick at 0x2738a0ca0a0>,\n",
       "  <matplotlib.axis.XTick at 0x2738a0ca070>,\n",
       "  <matplotlib.axis.XTick at 0x2738a0c4700>],\n",
       " [Text(0, 0, 'never'), Text(1, 0, 'currently'), Text(2, 0, 'previously')])"
      ]
     },
     "execution_count": 282,
     "metadata": {},
     "output_type": "execute_result"
    },
    {
     "data": {
      "image/png": "[encoded data removed]",
      "text/plain": [
       "<Figure size 432x288 with 1 Axes>"
      ]
     },
     "metadata": {
      "needs_background": "light"
     },
     "output_type": "display_data"
    }
   ],
   "source": [
    "married_df=df[df['married']!=0]\n",
    "a=sns.countplot(married_df['married'])\n",
    "plt.xticks([0,1,2],['never','currently','previously'])"
   ]
  },
  {
   "cell_type": "markdown",
   "id": "78643591",
   "metadata": {},
   "source": [
    "## 혼인상태가 외향적, 열정적 성격특성에 영향을 미치는가?"
   ]
  },
  {
   "cell_type": "code",
   "execution_count": 283,
   "id": "53ea7a7d",
   "metadata": {},
   "outputs": [
    {
     "data": {
      "text/html": [
       "<div>\n",
       "<style scoped>\n",
       "    .dataframe tbody tr th:only-of-type {\n",
       "        vertical-align: middle;\n",
       "    }\n",
       "\n",
       "    .dataframe tbody tr th {\n",
       "        vertical-align: top;\n",
       "    }\n",
       "\n",
       "    .dataframe thead th {\n",
       "        text-align: right;\n",
       "    }\n",
       "</style>\n",
       "<table border=\"1\" class=\"dataframe\">\n",
       "  <thead>\n",
       "    <tr style=\"text-align: right;\">\n",
       "      <th>married</th>\n",
       "      <th>1</th>\n",
       "      <th>2</th>\n",
       "      <th>3</th>\n",
       "      <th>All</th>\n",
       "    </tr>\n",
       "    <tr>\n",
       "      <th>tp01</th>\n",
       "      <th></th>\n",
       "      <th></th>\n",
       "      <th></th>\n",
       "      <th></th>\n",
       "    </tr>\n",
       "  </thead>\n",
       "  <tbody>\n",
       "    <tr>\n",
       "      <th>1</th>\n",
       "      <td>4361</td>\n",
       "      <td>1193</td>\n",
       "      <td>474</td>\n",
       "      <td>6028</td>\n",
       "    </tr>\n",
       "    <tr>\n",
       "      <th>2</th>\n",
       "      <td>5674</td>\n",
       "      <td>1635</td>\n",
       "      <td>623</td>\n",
       "      <td>7932</td>\n",
       "    </tr>\n",
       "    <tr>\n",
       "      <th>3</th>\n",
       "      <td>4223</td>\n",
       "      <td>1233</td>\n",
       "      <td>431</td>\n",
       "      <td>5887</td>\n",
       "    </tr>\n",
       "    <tr>\n",
       "      <th>4</th>\n",
       "      <td>2617</td>\n",
       "      <td>790</td>\n",
       "      <td>281</td>\n",
       "      <td>3688</td>\n",
       "    </tr>\n",
       "    <tr>\n",
       "      <th>5</th>\n",
       "      <td>5440</td>\n",
       "      <td>1729</td>\n",
       "      <td>693</td>\n",
       "      <td>7862</td>\n",
       "    </tr>\n",
       "    <tr>\n",
       "      <th>6</th>\n",
       "      <td>5985</td>\n",
       "      <td>2209</td>\n",
       "      <td>801</td>\n",
       "      <td>8995</td>\n",
       "    </tr>\n",
       "    <tr>\n",
       "      <th>7</th>\n",
       "      <td>3132</td>\n",
       "      <td>1172</td>\n",
       "      <td>461</td>\n",
       "      <td>4765</td>\n",
       "    </tr>\n",
       "    <tr>\n",
       "      <th>All</th>\n",
       "      <td>31432</td>\n",
       "      <td>9961</td>\n",
       "      <td>3764</td>\n",
       "      <td>45157</td>\n",
       "    </tr>\n",
       "  </tbody>\n",
       "</table>\n",
       "</div>"
      ],
      "text/plain": [
       "married      1     2     3    All\n",
       "tp01                             \n",
       "1         4361  1193   474   6028\n",
       "2         5674  1635   623   7932\n",
       "3         4223  1233   431   5887\n",
       "4         2617   790   281   3688\n",
       "5         5440  1729   693   7862\n",
       "6         5985  2209   801   8995\n",
       "7         3132  1172   461   4765\n",
       "All      31432  9961  3764  45157"
      ]
     },
     "execution_count": 283,
     "metadata": {},
     "output_type": "execute_result"
    }
   ],
   "source": [
    "tp01_married_df=married_df[married_df['tp01']!=0] # tp01 무응답 제거\n",
    "pivot19=pd.pivot_table(tp01_married_df,values='index',index='tp01',columns='married',aggfunc='count',margins=True)\n",
    "pivot19"
   ]
  },
  {
   "cell_type": "code",
   "execution_count": 284,
   "id": "74f3278c",
   "metadata": {},
   "outputs": [
    {
     "data": {
      "text/html": [
       "<div>\n",
       "<style scoped>\n",
       "    .dataframe tbody tr th:only-of-type {\n",
       "        vertical-align: middle;\n",
       "    }\n",
       "\n",
       "    .dataframe tbody tr th {\n",
       "        vertical-align: top;\n",
       "    }\n",
       "\n",
       "    .dataframe thead th {\n",
       "        text-align: right;\n",
       "    }\n",
       "</style>\n",
       "<table border=\"1\" class=\"dataframe\">\n",
       "  <thead>\n",
       "    <tr style=\"text-align: right;\">\n",
       "      <th>tp01</th>\n",
       "      <th>1</th>\n",
       "      <th>2</th>\n",
       "      <th>3</th>\n",
       "      <th>4</th>\n",
       "      <th>5</th>\n",
       "      <th>6</th>\n",
       "      <th>7</th>\n",
       "      <th>All</th>\n",
       "    </tr>\n",
       "    <tr>\n",
       "      <th>married</th>\n",
       "      <th></th>\n",
       "      <th></th>\n",
       "      <th></th>\n",
       "      <th></th>\n",
       "      <th></th>\n",
       "      <th></th>\n",
       "      <th></th>\n",
       "      <th></th>\n",
       "    </tr>\n",
       "  </thead>\n",
       "  <tbody>\n",
       "    <tr>\n",
       "      <th>1</th>\n",
       "      <td>13.874396</td>\n",
       "      <td>18.051667</td>\n",
       "      <td>13.435353</td>\n",
       "      <td>8.325910</td>\n",
       "      <td>17.307203</td>\n",
       "      <td>19.041105</td>\n",
       "      <td>9.964368</td>\n",
       "      <td>100.0</td>\n",
       "    </tr>\n",
       "    <tr>\n",
       "      <th>2</th>\n",
       "      <td>11.976709</td>\n",
       "      <td>16.414015</td>\n",
       "      <td>12.378275</td>\n",
       "      <td>7.930931</td>\n",
       "      <td>17.357695</td>\n",
       "      <td>22.176488</td>\n",
       "      <td>11.765887</td>\n",
       "      <td>100.0</td>\n",
       "    </tr>\n",
       "    <tr>\n",
       "      <th>3</th>\n",
       "      <td>12.592986</td>\n",
       "      <td>16.551541</td>\n",
       "      <td>11.450584</td>\n",
       "      <td>7.465462</td>\n",
       "      <td>18.411265</td>\n",
       "      <td>21.280553</td>\n",
       "      <td>12.247609</td>\n",
       "      <td>100.0</td>\n",
       "    </tr>\n",
       "  </tbody>\n",
       "</table>\n",
       "</div>"
      ],
      "text/plain": [
       "tp01             1          2          3         4          5          6  \\\n",
       "married                                                                    \n",
       "1        13.874396  18.051667  13.435353  8.325910  17.307203  19.041105   \n",
       "2        11.976709  16.414015  12.378275  7.930931  17.357695  22.176488   \n",
       "3        12.592986  16.551541  11.450584  7.465462  18.411265  21.280553   \n",
       "\n",
       "tp01             7    All  \n",
       "married                    \n",
       "1         9.964368  100.0  \n",
       "2        11.765887  100.0  \n",
       "3        12.247609  100.0  "
      ]
     },
     "execution_count": 284,
     "metadata": {},
     "output_type": "execute_result"
    }
   ],
   "source": [
    "#비율\n",
    "pivot20=pivot19/pivot19.loc['All']*100\n",
    "pivot21=pivot20.transpose()\n",
    "pivot21=pivot21.iloc[:3,:]\n",
    "pivot21"
   ]
  },
  {
   "cell_type": "code",
   "execution_count": 285,
   "id": "e047f2b9",
   "metadata": {},
   "outputs": [
    {
     "data": {
      "text/plain": [
       "Text(0.5, 1.0, 'extraverted,enthusiastic')"
      ]
     },
     "execution_count": 285,
     "metadata": {},
     "output_type": "execute_result"
    },
    {
     "data": {
      "image/png": "[encoded data removed]",
      "text/plain": [
       "<Figure size 720x432 with 1 Axes>"
      ]
     },
     "metadata": {
      "needs_background": "light"
     },
     "output_type": "display_data"
    }
   ],
   "source": [
    "#분포 그래프\n",
    "pivot21.iloc[:,0:7].plot(kind='barh',figsize=(10,6),stacked=True,alpha=0.7)\n",
    "plt.xlabel('Percentage')\n",
    "plt.ylabel('married')\n",
    "plt.yticks([0,1,2],['never','currently','previously'])\n",
    "plt.title('extraverted,enthusiastic')"
   ]
  },
  {
   "cell_type": "code",
   "execution_count": 286,
   "id": "8339ec45",
   "metadata": {},
   "outputs": [
    {
     "data": {
      "text/plain": [
       "([<matplotlib.axis.XTick at 0x2738a38f760>,\n",
       "  <matplotlib.axis.XTick at 0x2738a38f730>,\n",
       "  <matplotlib.axis.XTick at 0x2738a383e20>],\n",
       " [Text(0, 0, 'never'), Text(1, 0, 'currently'), Text(2, 0, 'previously')])"
      ]
     },
     "execution_count": 286,
     "metadata": {},
     "output_type": "execute_result"
    },
    {
     "data": {
      "image/png": "[encoded data removed]",
      "text/plain": [
       "<Figure size 432x288 with 1 Axes>"
      ]
     },
     "metadata": {
      "needs_background": "light"
     },
     "output_type": "display_data"
    }
   ],
   "source": [
    "#평균\n",
    "b=sns.barplot(data=tp01_married_df,x='married',y='tp01',order=[1,2,3])\n",
    "plt.xticks([0,1,2],['never','currently','previously'])"
   ]
  },
  {
   "cell_type": "markdown",
   "id": "41ddf4ad",
   "metadata": {},
   "source": [
    "## 혼인상태가 비판적, 싸우려드는 성격특성에 영향을 미치는가?\n"
   ]
  },
  {
   "cell_type": "code",
   "execution_count": 287,
   "id": "681af76f",
   "metadata": {},
   "outputs": [
    {
     "data": {
      "text/html": [
       "<div>\n",
       "<style scoped>\n",
       "    .dataframe tbody tr th:only-of-type {\n",
       "        vertical-align: middle;\n",
       "    }\n",
       "\n",
       "    .dataframe tbody tr th {\n",
       "        vertical-align: top;\n",
       "    }\n",
       "\n",
       "    .dataframe thead th {\n",
       "        text-align: right;\n",
       "    }\n",
       "</style>\n",
       "<table border=\"1\" class=\"dataframe\">\n",
       "  <thead>\n",
       "    <tr style=\"text-align: right;\">\n",
       "      <th>married</th>\n",
       "      <th>1</th>\n",
       "      <th>2</th>\n",
       "      <th>3</th>\n",
       "      <th>All</th>\n",
       "    </tr>\n",
       "    <tr>\n",
       "      <th>tp02</th>\n",
       "      <th></th>\n",
       "      <th></th>\n",
       "      <th></th>\n",
       "      <th></th>\n",
       "    </tr>\n",
       "  </thead>\n",
       "  <tbody>\n",
       "    <tr>\n",
       "      <th>1</th>\n",
       "      <td>2395</td>\n",
       "      <td>1499</td>\n",
       "      <td>713</td>\n",
       "      <td>4607</td>\n",
       "    </tr>\n",
       "    <tr>\n",
       "      <th>2</th>\n",
       "      <td>3127</td>\n",
       "      <td>1496</td>\n",
       "      <td>707</td>\n",
       "      <td>5330</td>\n",
       "    </tr>\n",
       "    <tr>\n",
       "      <th>3</th>\n",
       "      <td>2775</td>\n",
       "      <td>1062</td>\n",
       "      <td>357</td>\n",
       "      <td>4194</td>\n",
       "    </tr>\n",
       "    <tr>\n",
       "      <th>4</th>\n",
       "      <td>2892</td>\n",
       "      <td>755</td>\n",
       "      <td>265</td>\n",
       "      <td>3912</td>\n",
       "    </tr>\n",
       "    <tr>\n",
       "      <th>5</th>\n",
       "      <td>8814</td>\n",
       "      <td>2686</td>\n",
       "      <td>968</td>\n",
       "      <td>12468</td>\n",
       "    </tr>\n",
       "    <tr>\n",
       "      <th>6</th>\n",
       "      <td>6988</td>\n",
       "      <td>1677</td>\n",
       "      <td>520</td>\n",
       "      <td>9185</td>\n",
       "    </tr>\n",
       "    <tr>\n",
       "      <th>7</th>\n",
       "      <td>4416</td>\n",
       "      <td>783</td>\n",
       "      <td>231</td>\n",
       "      <td>5430</td>\n",
       "    </tr>\n",
       "    <tr>\n",
       "      <th>All</th>\n",
       "      <td>31407</td>\n",
       "      <td>9958</td>\n",
       "      <td>3761</td>\n",
       "      <td>45126</td>\n",
       "    </tr>\n",
       "  </tbody>\n",
       "</table>\n",
       "</div>"
      ],
      "text/plain": [
       "married      1     2     3    All\n",
       "tp02                             \n",
       "1         2395  1499   713   4607\n",
       "2         3127  1496   707   5330\n",
       "3         2775  1062   357   4194\n",
       "4         2892   755   265   3912\n",
       "5         8814  2686   968  12468\n",
       "6         6988  1677   520   9185\n",
       "7         4416   783   231   5430\n",
       "All      31407  9958  3761  45126"
      ]
     },
     "execution_count": 287,
     "metadata": {},
     "output_type": "execute_result"
    }
   ],
   "source": [
    "tp02_married_df=married_df[married_df['tp02']!=0] # tp02 무응답 제거\n",
    "pivot22=pd.pivot_table(tp02_married_df,values='index',index='tp02',columns='married',aggfunc='count',margins=True)\n",
    "pivot22"
   ]
  },
  {
   "cell_type": "code",
   "execution_count": 288,
   "id": "8714b69f",
   "metadata": {},
   "outputs": [
    {
     "data": {
      "text/html": [
       "<div>\n",
       "<style scoped>\n",
       "    .dataframe tbody tr th:only-of-type {\n",
       "        vertical-align: middle;\n",
       "    }\n",
       "\n",
       "    .dataframe tbody tr th {\n",
       "        vertical-align: top;\n",
       "    }\n",
       "\n",
       "    .dataframe thead th {\n",
       "        text-align: right;\n",
       "    }\n",
       "</style>\n",
       "<table border=\"1\" class=\"dataframe\">\n",
       "  <thead>\n",
       "    <tr style=\"text-align: right;\">\n",
       "      <th>tp02</th>\n",
       "      <th>1</th>\n",
       "      <th>2</th>\n",
       "      <th>3</th>\n",
       "      <th>4</th>\n",
       "      <th>5</th>\n",
       "      <th>6</th>\n",
       "      <th>7</th>\n",
       "      <th>All</th>\n",
       "    </tr>\n",
       "    <tr>\n",
       "      <th>married</th>\n",
       "      <th></th>\n",
       "      <th></th>\n",
       "      <th></th>\n",
       "      <th></th>\n",
       "      <th></th>\n",
       "      <th></th>\n",
       "      <th></th>\n",
       "      <th></th>\n",
       "    </tr>\n",
       "  </thead>\n",
       "  <tbody>\n",
       "    <tr>\n",
       "      <th>1</th>\n",
       "      <td>7.625689</td>\n",
       "      <td>9.956379</td>\n",
       "      <td>8.835610</td>\n",
       "      <td>9.208138</td>\n",
       "      <td>28.063807</td>\n",
       "      <td>22.249817</td>\n",
       "      <td>14.060560</td>\n",
       "      <td>100.0</td>\n",
       "    </tr>\n",
       "    <tr>\n",
       "      <th>2</th>\n",
       "      <td>15.053224</td>\n",
       "      <td>15.023097</td>\n",
       "      <td>10.664792</td>\n",
       "      <td>7.581844</td>\n",
       "      <td>26.973288</td>\n",
       "      <td>16.840731</td>\n",
       "      <td>7.863025</td>\n",
       "      <td>100.0</td>\n",
       "    </tr>\n",
       "    <tr>\n",
       "      <th>3</th>\n",
       "      <td>18.957724</td>\n",
       "      <td>18.798192</td>\n",
       "      <td>9.492156</td>\n",
       "      <td>7.045998</td>\n",
       "      <td>25.737836</td>\n",
       "      <td>13.826110</td>\n",
       "      <td>6.141984</td>\n",
       "      <td>100.0</td>\n",
       "    </tr>\n",
       "  </tbody>\n",
       "</table>\n",
       "</div>"
      ],
      "text/plain": [
       "tp02             1          2          3         4          5          6  \\\n",
       "married                                                                    \n",
       "1         7.625689   9.956379   8.835610  9.208138  28.063807  22.249817   \n",
       "2        15.053224  15.023097  10.664792  7.581844  26.973288  16.840731   \n",
       "3        18.957724  18.798192   9.492156  7.045998  25.737836  13.826110   \n",
       "\n",
       "tp02             7    All  \n",
       "married                    \n",
       "1        14.060560  100.0  \n",
       "2         7.863025  100.0  \n",
       "3         6.141984  100.0  "
      ]
     },
     "execution_count": 288,
     "metadata": {},
     "output_type": "execute_result"
    }
   ],
   "source": [
    "#비율\n",
    "pivot23=pivot22/pivot22.loc['All']*100\n",
    "pivot24=pivot23.transpose()\n",
    "pivot24=pivot24.iloc[:3,:]\n",
    "pivot24"
   ]
  },
  {
   "cell_type": "code",
   "execution_count": 289,
   "id": "425be60f",
   "metadata": {},
   "outputs": [
    {
     "data": {
      "text/plain": [
       "Text(0.5, 1.0, 'critical,quarrelsome')"
      ]
     },
     "execution_count": 289,
     "metadata": {},
     "output_type": "execute_result"
    },
    {
     "data": {
      "image/png": "[encoded data removed]",
      "text/plain": [
       "<Figure size 720x432 with 1 Axes>"
      ]
     },
     "metadata": {
      "needs_background": "light"
     },
     "output_type": "display_data"
    }
   ],
   "source": [
    "#분포 그래프\n",
    "pivot24.iloc[:,0:7].plot(kind='barh',figsize=(10,6),stacked=True,alpha=0.7)\n",
    "plt.xlabel('Percentage')\n",
    "plt.ylabel('married')\n",
    "plt.yticks([0,1,2],['never','currently','previously'])\n",
    "plt.title('critical,quarrelsome')"
   ]
  },
  {
   "cell_type": "code",
   "execution_count": 290,
   "id": "0c822d6e",
   "metadata": {},
   "outputs": [
    {
     "data": {
      "text/plain": [
       "([<matplotlib.axis.XTick at 0x2738b91b460>,\n",
       "  <matplotlib.axis.XTick at 0x2738b91b430>,\n",
       "  <matplotlib.axis.XTick at 0x2738b916b20>],\n",
       " [Text(0, 0, 'never'), Text(1, 0, 'currently'), Text(2, 0, 'previously')])"
      ]
     },
     "execution_count": 290,
     "metadata": {},
     "output_type": "execute_result"
    },
    {
     "data": {
      "image/png": "[encoded data removed]",
      "text/plain": [
       "<Figure size 432x288 with 1 Axes>"
      ]
     },
     "metadata": {
      "needs_background": "light"
     },
     "output_type": "display_data"
    }
   ],
   "source": [
    "#평균\n",
    "c=sns.barplot(data=tp02_married_df,x='married',y='tp02',order=[1,2,3])\n",
    "plt.xticks([0,1,2],['never','currently','previously'])"
   ]
  },
  {
   "cell_type": "markdown",
   "id": "bda4d12c",
   "metadata": {},
   "source": [
    "# 유년기 거주지역이 영향을 미치는가?\n",
    "- 유년기 거주지역에 따라서 성격 특성이 다르게 나타나는가?(tp01,tp02)\n",
    "> 1: rural<br>\n",
    "> 2: suburban<br>\n",
    "> 3: urban<br>"
   ]
  },
  {
   "cell_type": "code",
   "execution_count": 291,
   "id": "c5f33693",
   "metadata": {},
   "outputs": [
    {
     "name": "stderr",
     "output_type": "stream",
     "text": [
      "C:\\Users\\rangc\\anaconda3\\lib\\site-packages\\seaborn\\_decorators.py:36: FutureWarning: Pass the following variable as a keyword arg: x. From version 0.12, the only valid positional argument will be `data`, and passing other arguments without an explicit keyword will result in an error or misinterpretation.\n",
      "  warnings.warn(\n"
     ]
    },
    {
     "data": {
      "text/plain": [
       "<AxesSubplot:xlabel='urban', ylabel='count'>"
      ]
     },
     "execution_count": 291,
     "metadata": {},
     "output_type": "execute_result"
    },
    {
     "data": {
      "image/png": "[encoded data removed]",
      "text/plain": [
       "<Figure size 432x288 with 1 Axes>"
      ]
     },
     "metadata": {
      "needs_background": "light"
     },
     "output_type": "display_data"
    }
   ],
   "source": [
    "sns.countplot(df['urban'])"
   ]
  },
  {
   "cell_type": "code",
   "execution_count": 293,
   "id": "96b55419",
   "metadata": {},
   "outputs": [
    {
     "name": "stderr",
     "output_type": "stream",
     "text": [
      "C:\\Users\\rangc\\anaconda3\\lib\\site-packages\\seaborn\\_decorators.py:36: FutureWarning: Pass the following variable as a keyword arg: x. From version 0.12, the only valid positional argument will be `data`, and passing other arguments without an explicit keyword will result in an error or misinterpretation.\n",
      "  warnings.warn(\n"
     ]
    },
    {
     "data": {
      "text/plain": [
       "([<matplotlib.axis.XTick at 0x2738ccaf730>,\n",
       "  <matplotlib.axis.XTick at 0x2738ccaf700>,\n",
       "  <matplotlib.axis.XTick at 0x2738cca8df0>],\n",
       " [Text(0, 0, 'rural'), Text(1, 0, 'suburban'), Text(2, 0, 'urban')])"
      ]
     },
     "execution_count": 293,
     "metadata": {},
     "output_type": "execute_result"
    },
    {
     "data": {
      "image/png": "[encoded data removed]",
      "text/plain": [
       "<Figure size 432x288 with 1 Axes>"
      ]
     },
     "metadata": {
      "needs_background": "light"
     },
     "output_type": "display_data"
    }
   ],
   "source": [
    "urban_df=df[df['urban']!=0]\n",
    "a=sns.countplot(urban_df['urban'])\n",
    "plt.xticks([0,1,2],['rural','suburban','urban'])"
   ]
  },
  {
   "cell_type": "markdown",
   "id": "59644475",
   "metadata": {},
   "source": [
    "## 유년기 거주지역이 외향적, 열정적 성격특성에 영향을 미치는가"
   ]
  },
  {
   "cell_type": "code",
   "execution_count": 294,
   "id": "d9faa800",
   "metadata": {},
   "outputs": [
    {
     "data": {
      "text/html": [
       "<div>\n",
       "<style scoped>\n",
       "    .dataframe tbody tr th:only-of-type {\n",
       "        vertical-align: middle;\n",
       "    }\n",
       "\n",
       "    .dataframe tbody tr th {\n",
       "        vertical-align: top;\n",
       "    }\n",
       "\n",
       "    .dataframe thead th {\n",
       "        text-align: right;\n",
       "    }\n",
       "</style>\n",
       "<table border=\"1\" class=\"dataframe\">\n",
       "  <thead>\n",
       "    <tr style=\"text-align: right;\">\n",
       "      <th>urban</th>\n",
       "      <th>1</th>\n",
       "      <th>2</th>\n",
       "      <th>3</th>\n",
       "      <th>All</th>\n",
       "    </tr>\n",
       "    <tr>\n",
       "      <th>tp01</th>\n",
       "      <th></th>\n",
       "      <th></th>\n",
       "      <th></th>\n",
       "      <th></th>\n",
       "    </tr>\n",
       "  </thead>\n",
       "  <tbody>\n",
       "    <tr>\n",
       "      <th>1</th>\n",
       "      <td>1292</td>\n",
       "      <td>2468</td>\n",
       "      <td>2247</td>\n",
       "      <td>6007</td>\n",
       "    </tr>\n",
       "    <tr>\n",
       "      <th>2</th>\n",
       "      <td>1575</td>\n",
       "      <td>3483</td>\n",
       "      <td>2835</td>\n",
       "      <td>7893</td>\n",
       "    </tr>\n",
       "    <tr>\n",
       "      <th>3</th>\n",
       "      <td>1192</td>\n",
       "      <td>2466</td>\n",
       "      <td>2202</td>\n",
       "      <td>5860</td>\n",
       "    </tr>\n",
       "    <tr>\n",
       "      <th>4</th>\n",
       "      <td>754</td>\n",
       "      <td>1442</td>\n",
       "      <td>1464</td>\n",
       "      <td>3660</td>\n",
       "    </tr>\n",
       "    <tr>\n",
       "      <th>5</th>\n",
       "      <td>1554</td>\n",
       "      <td>3124</td>\n",
       "      <td>3140</td>\n",
       "      <td>7818</td>\n",
       "    </tr>\n",
       "    <tr>\n",
       "      <th>6</th>\n",
       "      <td>1583</td>\n",
       "      <td>3589</td>\n",
       "      <td>3787</td>\n",
       "      <td>8959</td>\n",
       "    </tr>\n",
       "    <tr>\n",
       "      <th>7</th>\n",
       "      <td>891</td>\n",
       "      <td>1878</td>\n",
       "      <td>1965</td>\n",
       "      <td>4734</td>\n",
       "    </tr>\n",
       "    <tr>\n",
       "      <th>All</th>\n",
       "      <td>8841</td>\n",
       "      <td>18450</td>\n",
       "      <td>17640</td>\n",
       "      <td>44931</td>\n",
       "    </tr>\n",
       "  </tbody>\n",
       "</table>\n",
       "</div>"
      ],
      "text/plain": [
       "urban     1      2      3    All\n",
       "tp01                            \n",
       "1      1292   2468   2247   6007\n",
       "2      1575   3483   2835   7893\n",
       "3      1192   2466   2202   5860\n",
       "4       754   1442   1464   3660\n",
       "5      1554   3124   3140   7818\n",
       "6      1583   3589   3787   8959\n",
       "7       891   1878   1965   4734\n",
       "All    8841  18450  17640  44931"
      ]
     },
     "execution_count": 294,
     "metadata": {},
     "output_type": "execute_result"
    }
   ],
   "source": [
    "tp01_urban_df=urban_df[urban_df['tp01']!=0] # tp01 무응답 제거\n",
    "pivot25=pd.pivot_table(tp01_urban_df,values='index',index='tp01',columns='urban',aggfunc='count',margins=True)\n",
    "pivot25"
   ]
  },
  {
   "cell_type": "code",
   "execution_count": 295,
   "id": "9a45a3af",
   "metadata": {},
   "outputs": [
    {
     "data": {
      "text/html": [
       "<div>\n",
       "<style scoped>\n",
       "    .dataframe tbody tr th:only-of-type {\n",
       "        vertical-align: middle;\n",
       "    }\n",
       "\n",
       "    .dataframe tbody tr th {\n",
       "        vertical-align: top;\n",
       "    }\n",
       "\n",
       "    .dataframe thead th {\n",
       "        text-align: right;\n",
       "    }\n",
       "</style>\n",
       "<table border=\"1\" class=\"dataframe\">\n",
       "  <thead>\n",
       "    <tr style=\"text-align: right;\">\n",
       "      <th>tp01</th>\n",
       "      <th>1</th>\n",
       "      <th>2</th>\n",
       "      <th>3</th>\n",
       "      <th>4</th>\n",
       "      <th>5</th>\n",
       "      <th>6</th>\n",
       "      <th>7</th>\n",
       "      <th>All</th>\n",
       "    </tr>\n",
       "    <tr>\n",
       "      <th>married</th>\n",
       "      <th></th>\n",
       "      <th></th>\n",
       "      <th></th>\n",
       "      <th></th>\n",
       "      <th></th>\n",
       "      <th></th>\n",
       "      <th></th>\n",
       "      <th></th>\n",
       "    </tr>\n",
       "  </thead>\n",
       "  <tbody>\n",
       "    <tr>\n",
       "      <th>1</th>\n",
       "      <td>13.874396</td>\n",
       "      <td>18.051667</td>\n",
       "      <td>13.435353</td>\n",
       "      <td>8.325910</td>\n",
       "      <td>17.307203</td>\n",
       "      <td>19.041105</td>\n",
       "      <td>9.964368</td>\n",
       "      <td>100.0</td>\n",
       "    </tr>\n",
       "    <tr>\n",
       "      <th>2</th>\n",
       "      <td>11.976709</td>\n",
       "      <td>16.414015</td>\n",
       "      <td>12.378275</td>\n",
       "      <td>7.930931</td>\n",
       "      <td>17.357695</td>\n",
       "      <td>22.176488</td>\n",
       "      <td>11.765887</td>\n",
       "      <td>100.0</td>\n",
       "    </tr>\n",
       "    <tr>\n",
       "      <th>3</th>\n",
       "      <td>12.592986</td>\n",
       "      <td>16.551541</td>\n",
       "      <td>11.450584</td>\n",
       "      <td>7.465462</td>\n",
       "      <td>18.411265</td>\n",
       "      <td>21.280553</td>\n",
       "      <td>12.247609</td>\n",
       "      <td>100.0</td>\n",
       "    </tr>\n",
       "  </tbody>\n",
       "</table>\n",
       "</div>"
      ],
      "text/plain": [
       "tp01             1          2          3         4          5          6  \\\n",
       "married                                                                    \n",
       "1        13.874396  18.051667  13.435353  8.325910  17.307203  19.041105   \n",
       "2        11.976709  16.414015  12.378275  7.930931  17.357695  22.176488   \n",
       "3        12.592986  16.551541  11.450584  7.465462  18.411265  21.280553   \n",
       "\n",
       "tp01             7    All  \n",
       "married                    \n",
       "1         9.964368  100.0  \n",
       "2        11.765887  100.0  \n",
       "3        12.247609  100.0  "
      ]
     },
     "execution_count": 295,
     "metadata": {},
     "output_type": "execute_result"
    }
   ],
   "source": [
    "#비율\n",
    "pivot26=pivot20/pivot20.loc['All']*100\n",
    "pivot27=pivot26.transpose()\n",
    "pivot27=pivot27.iloc[:3,:]\n",
    "pivot27"
   ]
  },
  {
   "cell_type": "code",
   "execution_count": 296,
   "id": "4f6fd201",
   "metadata": {},
   "outputs": [
    {
     "data": {
      "text/plain": [
       "Text(0.5, 1.0, 'extraverted,enthusiastic')"
      ]
     },
     "execution_count": 296,
     "metadata": {},
     "output_type": "execute_result"
    },
    {
     "data": {
      "image/png": "[encoded data removed]",
      "text/plain": [
       "<Figure size 720x432 with 1 Axes>"
      ]
     },
     "metadata": {
      "needs_background": "light"
     },
     "output_type": "display_data"
    }
   ],
   "source": [
    "#분포 그래프\n",
    "pivot27.iloc[:,0:7].plot(kind='barh',figsize=(10,6),stacked=True,alpha=0.7)\n",
    "plt.xlabel('Percentage')\n",
    "plt.ylabel('area of childhood')\n",
    "plt.yticks([0,1,2],['rural','suburban','urban'])\n",
    "plt.title('extraverted,enthusiastic')"
   ]
  },
  {
   "cell_type": "code",
   "execution_count": 297,
   "id": "9ec12edb",
   "metadata": {},
   "outputs": [
    {
     "data": {
      "text/plain": [
       "([<matplotlib.axis.XTick at 0x2738cdaa5e0>,\n",
       "  <matplotlib.axis.XTick at 0x2738cdaa5b0>,\n",
       "  <matplotlib.axis.XTick at 0x2738cda3c70>],\n",
       " [Text(0, 0, 'rural'), Text(1, 0, 'suburban'), Text(2, 0, 'urban')])"
      ]
     },
     "execution_count": 297,
     "metadata": {},
     "output_type": "execute_result"
    },
    {
     "data": {
      "image/png": "[encoded data removed]",
      "text/plain": [
       "<Figure size 432x288 with 1 Axes>"
      ]
     },
     "metadata": {
      "needs_background": "light"
     },
     "output_type": "display_data"
    }
   ],
   "source": [
    "#평균\n",
    "b=sns.barplot(data=tp01_urban_df,x='urban',y='tp01',order=[1,2,3])\n",
    "plt.xticks([0,1,2],['rural','suburban','urban'])"
   ]
  },
  {
   "cell_type": "markdown",
   "id": "aa7ba769",
   "metadata": {},
   "source": [
    "## 유년기 거주지역이 비판적, 싸우려드는 성격특성에 영향을 미치는가?"
   ]
  },
  {
   "cell_type": "code",
   "execution_count": 298,
   "id": "5d00e0d9",
   "metadata": {},
   "outputs": [
    {
     "data": {
      "text/html": [
       "<div>\n",
       "<style scoped>\n",
       "    .dataframe tbody tr th:only-of-type {\n",
       "        vertical-align: middle;\n",
       "    }\n",
       "\n",
       "    .dataframe tbody tr th {\n",
       "        vertical-align: top;\n",
       "    }\n",
       "\n",
       "    .dataframe thead th {\n",
       "        text-align: right;\n",
       "    }\n",
       "</style>\n",
       "<table border=\"1\" class=\"dataframe\">\n",
       "  <thead>\n",
       "    <tr style=\"text-align: right;\">\n",
       "      <th>tp02</th>\n",
       "      <th>1</th>\n",
       "      <th>2</th>\n",
       "      <th>3</th>\n",
       "      <th>4</th>\n",
       "      <th>5</th>\n",
       "      <th>6</th>\n",
       "      <th>7</th>\n",
       "      <th>All</th>\n",
       "    </tr>\n",
       "    <tr>\n",
       "      <th>urban</th>\n",
       "      <th></th>\n",
       "      <th></th>\n",
       "      <th></th>\n",
       "      <th></th>\n",
       "      <th></th>\n",
       "      <th></th>\n",
       "      <th></th>\n",
       "      <th></th>\n",
       "    </tr>\n",
       "  </thead>\n",
       "  <tbody>\n",
       "    <tr>\n",
       "      <th>1</th>\n",
       "      <td>10.917327</td>\n",
       "      <td>12.627407</td>\n",
       "      <td>9.229898</td>\n",
       "      <td>8.788222</td>\n",
       "      <td>27.587769</td>\n",
       "      <td>19.762174</td>\n",
       "      <td>11.087203</td>\n",
       "      <td>100.0</td>\n",
       "    </tr>\n",
       "    <tr>\n",
       "      <th>2</th>\n",
       "      <td>10.073737</td>\n",
       "      <td>11.776187</td>\n",
       "      <td>10.165908</td>\n",
       "      <td>8.246584</td>\n",
       "      <td>28.518759</td>\n",
       "      <td>19.903492</td>\n",
       "      <td>11.315333</td>\n",
       "      <td>100.0</td>\n",
       "    </tr>\n",
       "    <tr>\n",
       "      <th>3</th>\n",
       "      <td>9.963121</td>\n",
       "      <td>11.392908</td>\n",
       "      <td>8.414184</td>\n",
       "      <td>9.026950</td>\n",
       "      <td>26.723404</td>\n",
       "      <td>21.214184</td>\n",
       "      <td>13.265248</td>\n",
       "      <td>100.0</td>\n",
       "    </tr>\n",
       "  </tbody>\n",
       "</table>\n",
       "</div>"
      ],
      "text/plain": [
       "tp02           1          2          3         4          5          6  \\\n",
       "urban                                                                    \n",
       "1      10.917327  12.627407   9.229898  8.788222  27.587769  19.762174   \n",
       "2      10.073737  11.776187  10.165908  8.246584  28.518759  19.903492   \n",
       "3       9.963121  11.392908   8.414184  9.026950  26.723404  21.214184   \n",
       "\n",
       "tp02           7    All  \n",
       "urban                    \n",
       "1      11.087203  100.0  \n",
       "2      11.315333  100.0  \n",
       "3      13.265248  100.0  "
      ]
     },
     "execution_count": 298,
     "metadata": {},
     "output_type": "execute_result"
    }
   ],
   "source": [
    "tp02_urban_df=urban_df[urban_df['tp02']!=0] # tp02 무응답 제거\n",
    "pivot28=pd.pivot_table(tp02_urban_df,values='index',index='tp02',columns='urban',aggfunc='count',margins=True) #개수세기\n",
    "#비율\n",
    "pivot29=pivot28/pivot28.loc['All']*100\n",
    "pivot30=pivot29.transpose()\n",
    "pivot30=pivot30.iloc[:3,:]\n",
    "pivot30"
   ]
  },
  {
   "cell_type": "code",
   "execution_count": 299,
   "id": "f7b9d51a",
   "metadata": {},
   "outputs": [
    {
     "data": {
      "text/plain": [
       "Text(0.5, 1.0, 'critical,quarrelsome')"
      ]
     },
     "execution_count": 299,
     "metadata": {},
     "output_type": "execute_result"
    },
    {
     "data": {
      "image/png": "[encoded data removed]",
      "text/plain": [
       "<Figure size 720x432 with 1 Axes>"
      ]
     },
     "metadata": {
      "needs_background": "light"
     },
     "output_type": "display_data"
    }
   ],
   "source": [
    "#분포 그래프\n",
    "pivot30.iloc[:,0:7].plot(kind='barh',figsize=(10,6),stacked=True,alpha=0.7)\n",
    "plt.xlabel('Percentage')\n",
    "plt.ylabel('area of childhood')\n",
    "plt.yticks([0,1,2],['rural','suburban','urban'])\n",
    "plt.title('critical,quarrelsome')"
   ]
  },
  {
   "cell_type": "code",
   "execution_count": 300,
   "id": "ec441679",
   "metadata": {},
   "outputs": [
    {
     "data": {
      "text/plain": [
       "([<matplotlib.axis.XTick at 0x2738e0c35b0>,\n",
       "  <matplotlib.axis.XTick at 0x2738e0c3580>,\n",
       "  <matplotlib.axis.XTick at 0x2738e0b8dc0>],\n",
       " [Text(0, 0, 'rural'), Text(1, 0, 'suburban'), Text(2, 0, 'urban')])"
      ]
     },
     "execution_count": 300,
     "metadata": {},
     "output_type": "execute_result"
    },
    {
     "data": {
      "image/png": "[encoded data removed]",
      "text/plain": [
       "<Figure size 432x288 with 1 Axes>"
      ]
     },
     "metadata": {
      "needs_background": "light"
     },
     "output_type": "display_data"
    }
   ],
   "source": [
    "#평균\n",
    "b=sns.barplot(data=tp02_urban_df,x='urban',y='tp02',order=[1,2,3])\n",
    "plt.xticks([0,1,2],['rural','suburban','urban'])"
   ]
  },
  {
   "cell_type": "markdown",
   "id": "115e0383",
   "metadata": {},
   "source": [
    "# 모국어(가 영어인지)에 따라 영향? \n",
    "> 1. yes\n",
    "> 2. no"
   ]
  },
  {
   "cell_type": "code",
   "execution_count": 301,
   "id": "0ea77958",
   "metadata": {},
   "outputs": [
    {
     "name": "stderr",
     "output_type": "stream",
     "text": [
      "C:\\Users\\rangc\\anaconda3\\lib\\site-packages\\seaborn\\_decorators.py:36: FutureWarning: Pass the following variable as a keyword arg: x. From version 0.12, the only valid positional argument will be `data`, and passing other arguments without an explicit keyword will result in an error or misinterpretation.\n",
      "  warnings.warn(\n"
     ]
    },
    {
     "data": {
      "text/plain": [
       "<AxesSubplot:xlabel='engnat', ylabel='count'>"
      ]
     },
     "execution_count": 301,
     "metadata": {},
     "output_type": "execute_result"
    },
    {
     "data": {
      "image/png": "[encoded data removed]",
      "text/plain": [
       "<Figure size 432x288 with 1 Axes>"
      ]
     },
     "metadata": {
      "needs_background": "light"
     },
     "output_type": "display_data"
    }
   ],
   "source": [
    "sns.countplot(df['engnat'])"
   ]
  },
  {
   "cell_type": "code",
   "execution_count": 303,
   "id": "f7809036",
   "metadata": {},
   "outputs": [
    {
     "name": "stderr",
     "output_type": "stream",
     "text": [
      "C:\\Users\\rangc\\anaconda3\\lib\\site-packages\\seaborn\\_decorators.py:36: FutureWarning: Pass the following variable as a keyword arg: x. From version 0.12, the only valid positional argument will be `data`, and passing other arguments without an explicit keyword will result in an error or misinterpretation.\n",
      "  warnings.warn(\n"
     ]
    },
    {
     "data": {
      "text/plain": [
       "([<matplotlib.axis.XTick at 0x2739192d670>,\n",
       "  <matplotlib.axis.XTick at 0x2739192d640>],\n",
       " [Text(0, 0, 'yes'), Text(1, 0, 'no')])"
      ]
     },
     "execution_count": 303,
     "metadata": {},
     "output_type": "execute_result"
    },
    {
     "data": {
      "image/png": "[encoded data removed]",
      "text/plain": [
       "<Figure size 432x288 with 1 Axes>"
      ]
     },
     "metadata": {
      "needs_background": "light"
     },
     "output_type": "display_data"
    }
   ],
   "source": [
    "engnat_df=df[df['engnat']!=0]\n",
    "a=sns.countplot(engnat_df['engnat'])\n",
    "plt.xticks([0,1],['yes','no'])"
   ]
  },
  {
   "cell_type": "markdown",
   "id": "8f4c73f5",
   "metadata": {},
   "source": [
    "## 모국어가 외향적, 열정적 성격에 영향?"
   ]
  },
  {
   "cell_type": "code",
   "execution_count": 306,
   "id": "b4e9f508",
   "metadata": {},
   "outputs": [
    {
     "data": {
      "text/html": [
       "<div>\n",
       "<style scoped>\n",
       "    .dataframe tbody tr th:only-of-type {\n",
       "        vertical-align: middle;\n",
       "    }\n",
       "\n",
       "    .dataframe tbody tr th {\n",
       "        vertical-align: top;\n",
       "    }\n",
       "\n",
       "    .dataframe thead th {\n",
       "        text-align: right;\n",
       "    }\n",
       "</style>\n",
       "<table border=\"1\" class=\"dataframe\">\n",
       "  <thead>\n",
       "    <tr style=\"text-align: right;\">\n",
       "      <th>tp01</th>\n",
       "      <th>1</th>\n",
       "      <th>2</th>\n",
       "      <th>3</th>\n",
       "      <th>4</th>\n",
       "      <th>5</th>\n",
       "      <th>6</th>\n",
       "      <th>7</th>\n",
       "      <th>All</th>\n",
       "    </tr>\n",
       "    <tr>\n",
       "      <th>engnat</th>\n",
       "      <th></th>\n",
       "      <th></th>\n",
       "      <th></th>\n",
       "      <th></th>\n",
       "      <th></th>\n",
       "      <th></th>\n",
       "      <th></th>\n",
       "      <th></th>\n",
       "    </tr>\n",
       "  </thead>\n",
       "  <tbody>\n",
       "    <tr>\n",
       "      <th>1</th>\n",
       "      <td>13.737971</td>\n",
       "      <td>17.739676</td>\n",
       "      <td>13.195883</td>\n",
       "      <td>7.701913</td>\n",
       "      <td>17.45645</td>\n",
       "      <td>19.664393</td>\n",
       "      <td>10.503715</td>\n",
       "      <td>100.0</td>\n",
       "    </tr>\n",
       "    <tr>\n",
       "      <th>2</th>\n",
       "      <td>12.288239</td>\n",
       "      <td>17.094918</td>\n",
       "      <td>12.604361</td>\n",
       "      <td>9.370187</td>\n",
       "      <td>17.29756</td>\n",
       "      <td>20.629002</td>\n",
       "      <td>10.715733</td>\n",
       "      <td>100.0</td>\n",
       "    </tr>\n",
       "  </tbody>\n",
       "</table>\n",
       "</div>"
      ],
      "text/plain": [
       "tp01            1          2          3         4         5          6  \\\n",
       "engnat                                                                   \n",
       "1       13.737971  17.739676  13.195883  7.701913  17.45645  19.664393   \n",
       "2       12.288239  17.094918  12.604361  9.370187  17.29756  20.629002   \n",
       "\n",
       "tp01            7    All  \n",
       "engnat                    \n",
       "1       10.503715  100.0  \n",
       "2       10.715733  100.0  "
      ]
     },
     "execution_count": 306,
     "metadata": {},
     "output_type": "execute_result"
    }
   ],
   "source": [
    "tp01_engnat_df=engnat_df[engnat_df['tp01']!=0] # tp02 무응답 제거\n",
    "pivot31=pd.pivot_table(tp01_engnat_df,values='index',index='tp01',columns='engnat',aggfunc='count',margins=True) #개수세기\n",
    "#비율\n",
    "pivot32=pivot31/pivot31.loc['All']*100\n",
    "pivot33=pivot32.transpose()\n",
    "pivot33=pivot33.iloc[:2,:]\n",
    "pivot33"
   ]
  },
  {
   "cell_type": "code",
   "execution_count": 307,
   "id": "485af805",
   "metadata": {},
   "outputs": [
    {
     "data": {
      "text/plain": [
       "Text(0.5, 1.0, 'extraverted,enthusiastic')"
      ]
     },
     "execution_count": 307,
     "metadata": {},
     "output_type": "execute_result"
    },
    {
     "data": {
      "image/png": "[encoded data removed]",
      "text/plain": [
       "<Figure size 720x432 with 1 Axes>"
      ]
     },
     "metadata": {
      "needs_background": "light"
     },
     "output_type": "display_data"
    }
   ],
   "source": [
    "#분포 그래프\n",
    "pivot33.iloc[:,0:7].plot(kind='barh',figsize=(10,6),stacked=True,alpha=0.7)\n",
    "plt.xlabel('Percentage')\n",
    "plt.ylabel('english native')\n",
    "plt.yticks([0,1],['yes','no'])\n",
    "plt.title('extraverted,enthusiastic')"
   ]
  },
  {
   "cell_type": "code",
   "execution_count": 308,
   "id": "6870a104",
   "metadata": {},
   "outputs": [
    {
     "data": {
      "text/plain": [
       "([<matplotlib.axis.XTick at 0x27391edd880>,\n",
       "  <matplotlib.axis.XTick at 0x27391edd850>],\n",
       " [Text(0, 0, 'yes'), Text(1, 0, 'no')])"
      ]
     },
     "execution_count": 308,
     "metadata": {},
     "output_type": "execute_result"
    },
    {
     "data": {
      "image/png": "[encoded data removed]",
      "text/plain": [
       "<Figure size 432x288 with 1 Axes>"
      ]
     },
     "metadata": {
      "needs_background": "light"
     },
     "output_type": "display_data"
    }
   ],
   "source": [
    "#평균\n",
    "b=sns.barplot(data=tp01_engnat_df,x='engnat',y='tp01',order=[1,2])\n",
    "plt.xticks([0,1],['yes','no'])"
   ]
  },
  {
   "cell_type": "markdown",
   "id": "90fa81c6",
   "metadata": {},
   "source": [
    "## 모국어가 비판적, 싸우려드는 성격에 영향?"
   ]
  },
  {
   "cell_type": "code",
   "execution_count": 309,
   "id": "d05039eb",
   "metadata": {},
   "outputs": [
    {
     "data": {
      "text/html": [
       "<div>\n",
       "<style scoped>\n",
       "    .dataframe tbody tr th:only-of-type {\n",
       "        vertical-align: middle;\n",
       "    }\n",
       "\n",
       "    .dataframe tbody tr th {\n",
       "        vertical-align: top;\n",
       "    }\n",
       "\n",
       "    .dataframe thead th {\n",
       "        text-align: right;\n",
       "    }\n",
       "</style>\n",
       "<table border=\"1\" class=\"dataframe\">\n",
       "  <thead>\n",
       "    <tr style=\"text-align: right;\">\n",
       "      <th>tp02</th>\n",
       "      <th>1</th>\n",
       "      <th>2</th>\n",
       "      <th>3</th>\n",
       "      <th>4</th>\n",
       "      <th>5</th>\n",
       "      <th>6</th>\n",
       "      <th>7</th>\n",
       "      <th>All</th>\n",
       "    </tr>\n",
       "    <tr>\n",
       "      <th>engnat</th>\n",
       "      <th></th>\n",
       "      <th></th>\n",
       "      <th></th>\n",
       "      <th></th>\n",
       "      <th></th>\n",
       "      <th></th>\n",
       "      <th></th>\n",
       "      <th></th>\n",
       "    </tr>\n",
       "  </thead>\n",
       "  <tbody>\n",
       "    <tr>\n",
       "      <th>1</th>\n",
       "      <td>10.697958</td>\n",
       "      <td>12.429137</td>\n",
       "      <td>9.777507</td>\n",
       "      <td>8.680280</td>\n",
       "      <td>28.680280</td>\n",
       "      <td>18.863151</td>\n",
       "      <td>10.871685</td>\n",
       "      <td>100.0</td>\n",
       "    </tr>\n",
       "    <tr>\n",
       "      <th>2</th>\n",
       "      <td>8.911774</td>\n",
       "      <td>10.152449</td>\n",
       "      <td>7.954914</td>\n",
       "      <td>8.644178</td>\n",
       "      <td>24.870256</td>\n",
       "      <td>24.391826</td>\n",
       "      <td>15.074603</td>\n",
       "      <td>100.0</td>\n",
       "    </tr>\n",
       "  </tbody>\n",
       "</table>\n",
       "</div>"
      ],
      "text/plain": [
       "tp02            1          2         3         4          5          6  \\\n",
       "engnat                                                                   \n",
       "1       10.697958  12.429137  9.777507  8.680280  28.680280  18.863151   \n",
       "2        8.911774  10.152449  7.954914  8.644178  24.870256  24.391826   \n",
       "\n",
       "tp02            7    All  \n",
       "engnat                    \n",
       "1       10.871685  100.0  \n",
       "2       15.074603  100.0  "
      ]
     },
     "execution_count": 309,
     "metadata": {},
     "output_type": "execute_result"
    }
   ],
   "source": [
    "tp02_engnat_df=engnat_df[engnat_df['tp02']!=0] # tp02 무응답 제거\n",
    "pivot34=pd.pivot_table(tp02_engnat_df,values='index',index='tp02',columns='engnat',aggfunc='count',margins=True) #개수세기\n",
    "#비율\n",
    "pivot35=pivot34/pivot34.loc['All']*100\n",
    "pivot36=pivot35.transpose()\n",
    "pivot36=pivot36.iloc[:2,:]\n",
    "pivot36"
   ]
  },
  {
   "cell_type": "code",
   "execution_count": 310,
   "id": "a13a2b48",
   "metadata": {},
   "outputs": [
    {
     "data": {
      "text/plain": [
       "Text(0.5, 1.0, 'critical,quarrelsome')"
      ]
     },
     "execution_count": 310,
     "metadata": {},
     "output_type": "execute_result"
    },
    {
     "data": {
      "image/png": "[encoded data removed]",
      "text/plain": [
       "<Figure size 720x432 with 1 Axes>"
      ]
     },
     "metadata": {
      "needs_background": "light"
     },
     "output_type": "display_data"
    }
   ],
   "source": [
    "#분포 그래프\n",
    "pivot36.iloc[:,0:7].plot(kind='barh',figsize=(10,6),stacked=True,alpha=0.7)\n",
    "plt.xlabel('Percentage')\n",
    "plt.ylabel('english native')\n",
    "plt.yticks([0,1],['yes','no'])\n",
    "plt.title('critical,quarrelsome')"
   ]
  },
  {
   "cell_type": "code",
   "execution_count": 311,
   "id": "9230d07a",
   "metadata": {},
   "outputs": [
    {
     "data": {
      "text/plain": [
       "([<matplotlib.axis.XTick at 0x27391fce370>,\n",
       "  <matplotlib.axis.XTick at 0x27391fce340>],\n",
       " [Text(0, 0, 'yes'), Text(1, 0, 'no')])"
      ]
     },
     "execution_count": 311,
     "metadata": {},
     "output_type": "execute_result"
    },
    {
     "data": {
      "image/png": "[encoded data removed]",
      "text/plain": [
       "<Figure size 432x288 with 1 Axes>"
      ]
     },
     "metadata": {
      "needs_background": "light"
     },
     "output_type": "display_data"
    }
   ],
   "source": [
    "#평균\n",
    "b=sns.barplot(data=tp02_engnat_df,x='engnat',y='tp02',order=[1,2])\n",
    "plt.xticks([0,1],['yes','no'])"
   ]
  },
  {
   "cell_type": "markdown",
   "id": "0fb7a6cf",
   "metadata": {},
   "source": [
    "# 종교"
   ]
  },
  {
   "cell_type": "code",
   "execution_count": 316,
   "id": "c498050a",
   "metadata": {},
   "outputs": [
    {
     "name": "stderr",
     "output_type": "stream",
     "text": [
      "C:\\Users\\rangc\\anaconda3\\lib\\site-packages\\seaborn\\_decorators.py:36: FutureWarning: Pass the following variable as a keyword arg: x. From version 0.12, the only valid positional argument will be `data`, and passing other arguments without an explicit keyword will result in an error or misinterpretation.\n",
      "  warnings.warn(\n"
     ]
    },
    {
     "data": {
      "text/plain": [
       "(array([ 0,  1,  2,  3,  4,  5,  6,  7,  8,  9, 10, 11]),\n",
       " [Text(0, 0, 'Other'),\n",
       "  Text(1, 0, 'Hindu'),\n",
       "  Text(2, 0, 'Agnostic'),\n",
       "  Text(3, 0, 'Atheist'),\n",
       "  Text(4, 0, 'Christian_Other'),\n",
       "  Text(5, 0, 'Christian_Catholic'),\n",
       "  Text(6, 0, 'Muslim'),\n",
       "  Text(7, 0, 'Buddhist'),\n",
       "  Text(8, 0, 'Christian_Protestant'),\n",
       "  Text(9, 0, 'Jewish'),\n",
       "  Text(10, 0, 'Christian_Mormon'),\n",
       "  Text(11, 0, 'Sikh')])"
      ]
     },
     "execution_count": 316,
     "metadata": {},
     "output_type": "execute_result"
    },
    {
     "data": {
      "image/png": "[encoded data removed]",
      "text/plain": [
       "<Figure size 432x288 with 1 Axes>"
      ]
     },
     "metadata": {
      "needs_background": "light"
     },
     "output_type": "display_data"
    }
   ],
   "source": [
    "sns.countplot(df['religion'],orient=90)\n",
    "plt.xticks(rotation=90)"
   ]
  },
  {
   "cell_type": "markdown",
   "id": "e70389db",
   "metadata": {},
   "source": [
    "# 성별"
   ]
  },
  {
   "cell_type": "markdown",
   "id": "afc4f0d0",
   "metadata": {},
   "source": [
    "# hand"
   ]
  },
  {
   "cell_type": "markdown",
   "id": "8aeaec41",
   "metadata": {},
   "source": [
    "# 인종"
   ]
  },
  {
   "cell_type": "code",
   "execution_count": null,
   "id": "bbb5b8ff",
   "metadata": {},
   "outputs": [],
   "source": [
    "#요인분석(성격특성에 어떤 요인이 영향을 많이 끼치는가?), ANOVA"
   ]
  }
 ],
 "metadata": {
  "kernelspec": {
   "display_name": "Python 3",
   "language": "python",
   "name": "python3"
  },
  "language_info": {
   "codemirror_mode": {
    "name": "ipython",
    "version": 3
   },
   "file_extension": ".py",
   "mimetype": "text/x-python",
   "name": "python",
   "nbconvert_exporter": "python",
   "pygments_lexer": "ipython3",
   "version": "3.8.8"
  },
  "toc": {
   "base_numbering": 1,
   "nav_menu": {},
   "number_sections": true,
   "sideBar": true,
   "skip_h1_title": false,
   "title_cell": "Table of Contents",
   "title_sidebar": "Contents",
   "toc_cell": false,
   "toc_position": {
    "height": "calc(100% - 180px)",
    "left": "10px",
    "top": "150px",
    "width": "341.333px"
   },
   "toc_section_display": true,
   "toc_window_display": true
  }
 },
 "nbformat": 4,
 "nbformat_minor": 5
}
