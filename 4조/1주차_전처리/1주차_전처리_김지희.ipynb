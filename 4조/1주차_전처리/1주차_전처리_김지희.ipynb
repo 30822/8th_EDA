{
 "cells": [
  {
   "cell_type": "markdown",
   "id": "a2e8c234",
   "metadata": {},
   "source": [
    "# EDA 프로젝트(Youtube) - Numpy& Pandas"
   ]
  },
  {
   "cell_type": "markdown",
   "id": "5640e5b2",
   "metadata": {},
   "source": [
    "## 필요한 패키지 불러오기"
   ]
  },
  {
   "cell_type": "code",
   "execution_count": 5,
   "id": "4c379806",
   "metadata": {},
   "outputs": [],
   "source": [
    "import numpy as np\n",
    "import pandas as pd"
   ]
  },
  {
   "cell_type": "markdown",
   "id": "3e153658",
   "metadata": {},
   "source": [
    "## 데이터 불러오기(KR_youtube_trending_data.csv, category_name.csv)\n",
    "- ‘category_name.csv’는 데이터에 있는 ‘categoryId’에 대해 더 자세히 설명되어 있는 데이터입니다. (reference 링크에 있는 json 파일을 csv로 변환한 형태입니다.)\n",
    "- KR_youtube_trending_data.csv는 변수명 df로, category_name.csv는 변수명 cat 으로 가져와주세요. (꼭 변수명이 df와 cat일 필요는 없지만 편의를 위해 설정했습니다.)"
   ]
  },
  {
   "cell_type": "code",
   "execution_count": 6,
   "id": "11416c34",
   "metadata": {},
   "outputs": [],
   "source": [
    "# 사용할 데이터셋 불러오기\n",
    "df = pd.read_csv(\"C:/Users/김지희/DSL/dataset/KR_youtube_trending_data.csv\")\n",
    "cat = pd.read_csv(\"C:/Users/김지희/DSL/dataset/category_name.csv\")"
   ]
  },
  {
   "cell_type": "markdown",
   "id": "fd3c516a",
   "metadata": {},
   "source": [
    "## df에 대해 탐구해보아요. (중간중간에 df 혹은 df.head()를 계속 출력하면서 잘 되고 있는지 확인해주세요~~)"
   ]
  },
  {
   "cell_type": "code",
   "execution_count": 7,
   "id": "b8fab35c",
   "metadata": {},
   "outputs": [
    {
     "data": {
      "text/html": [
       "<div>\n",
       "<style scoped>\n",
       "    .dataframe tbody tr th:only-of-type {\n",
       "        vertical-align: middle;\n",
       "    }\n",
       "\n",
       "    .dataframe tbody tr th {\n",
       "        vertical-align: top;\n",
       "    }\n",
       "\n",
       "    .dataframe thead th {\n",
       "        text-align: right;\n",
       "    }\n",
       "</style>\n",
       "<table border=\"1\" class=\"dataframe\">\n",
       "  <thead>\n",
       "    <tr style=\"text-align: right;\">\n",
       "      <th></th>\n",
       "      <th>video_id</th>\n",
       "      <th>title</th>\n",
       "      <th>publishedAt</th>\n",
       "      <th>channelId</th>\n",
       "      <th>channelTitle</th>\n",
       "      <th>categoryId</th>\n",
       "      <th>trending_date</th>\n",
       "      <th>tags</th>\n",
       "      <th>view_count</th>\n",
       "      <th>likes</th>\n",
       "      <th>dislikes</th>\n",
       "      <th>comment_count</th>\n",
       "      <th>thumbnail_link</th>\n",
       "      <th>comments_disabled</th>\n",
       "      <th>ratings_disabled</th>\n",
       "      <th>description</th>\n",
       "    </tr>\n",
       "  </thead>\n",
       "  <tbody>\n",
       "    <tr>\n",
       "      <th>0</th>\n",
       "      <td>uq5LClQN3cE</td>\n",
       "      <td>안녕하세요 보겸입니다</td>\n",
       "      <td>2020-08-09T09:32:48Z</td>\n",
       "      <td>UCu9BCtGIEr73LXZsKmoujKw</td>\n",
       "      <td>보겸 BK</td>\n",
       "      <td>24</td>\n",
       "      <td>2020-08-12T00:00:00Z</td>\n",
       "      <td>보겸|bokyem</td>\n",
       "      <td>5947503</td>\n",
       "      <td>53326</td>\n",
       "      <td>105756</td>\n",
       "      <td>139946</td>\n",
       "      <td>https://i.ytimg.com/vi/uq5LClQN3cE/default.jpg</td>\n",
       "      <td>False</td>\n",
       "      <td>False</td>\n",
       "      <td>NaN</td>\n",
       "    </tr>\n",
       "    <tr>\n",
       "      <th>1</th>\n",
       "      <td>I-ZbZCHsHD0</td>\n",
       "      <td>부락토스의 계획 [총몇명 프리퀄]</td>\n",
       "      <td>2020-08-12T09:00:08Z</td>\n",
       "      <td>UCRuSxVu4iqTK5kCh90ntAgA</td>\n",
       "      <td>총몇명</td>\n",
       "      <td>1</td>\n",
       "      <td>2020-08-12T00:00:00Z</td>\n",
       "      <td>총몇명|재밌는 만화|부락토스|루시퍼|총몇명 프리퀄|총몇명 스토리</td>\n",
       "      <td>963384</td>\n",
       "      <td>28244</td>\n",
       "      <td>494</td>\n",
       "      <td>3339</td>\n",
       "      <td>https://i.ytimg.com/vi/I-ZbZCHsHD0/default.jpg</td>\n",
       "      <td>False</td>\n",
       "      <td>False</td>\n",
       "      <td>오늘도 정말 감사드립니다!!총몇명 스튜디오 - 총몇명, 십제곱, 5G민, MOVE혁...</td>\n",
       "    </tr>\n",
       "    <tr>\n",
       "      <th>2</th>\n",
       "      <td>9d7jNUjBoss</td>\n",
       "      <td>평생 반성하면서 살겠습니다.</td>\n",
       "      <td>2020-08-10T09:54:13Z</td>\n",
       "      <td>UCMVC92EOs9yDJG5JS-CMesQ</td>\n",
       "      <td>양팡 YangPang</td>\n",
       "      <td>22</td>\n",
       "      <td>2020-08-12T00:00:00Z</td>\n",
       "      <td>양팡|양팡유튜브|팡튜브|가족시트콤|양팡가족|양팡가족시트콤|양팡언니|현실남매|현실자매...</td>\n",
       "      <td>2950885</td>\n",
       "      <td>17974</td>\n",
       "      <td>68898</td>\n",
       "      <td>50688</td>\n",
       "      <td>https://i.ytimg.com/vi/9d7jNUjBoss/default.jpg</td>\n",
       "      <td>False</td>\n",
       "      <td>False</td>\n",
       "      <td>NaN</td>\n",
       "    </tr>\n",
       "    <tr>\n",
       "      <th>3</th>\n",
       "      <td>3pI_L3-sMVg</td>\n",
       "      <td>안녕하세요 꽈뚜룹입니다.</td>\n",
       "      <td>2020-08-11T15:00:58Z</td>\n",
       "      <td>UCkQCwnkQfgSuPTTnw_Y7v7w</td>\n",
       "      <td>꽈뚜룹 Quaddurup</td>\n",
       "      <td>24</td>\n",
       "      <td>2020-08-12T00:00:00Z</td>\n",
       "      <td>꽈뚜룹|한국여행기|quaddurup|뚜룹이|korea|southkorea|vlog|...</td>\n",
       "      <td>1743374</td>\n",
       "      <td>36893</td>\n",
       "      <td>1798</td>\n",
       "      <td>8751</td>\n",
       "      <td>https://i.ytimg.com/vi/3pI_L3-sMVg/default.jpg</td>\n",
       "      <td>False</td>\n",
       "      <td>False</td>\n",
       "      <td>앞으로 좀 더 깔끔한 영상제작 약속 드리겠습니다.늘 감사드립니다</td>\n",
       "    </tr>\n",
       "    <tr>\n",
       "      <th>4</th>\n",
       "      <td>zrsBjYukE8s</td>\n",
       "      <td>박진영 (J.Y. Park) When We Disco (Duet with 선미) M/V</td>\n",
       "      <td>2020-08-11T09:00:13Z</td>\n",
       "      <td>UCaO6TYtlC8U5ttz62hTrZgg</td>\n",
       "      <td>JYP Entertainment</td>\n",
       "      <td>10</td>\n",
       "      <td>2020-08-12T00:00:00Z</td>\n",
       "      <td>JYP Entertainment|JYP|J.Y.Park|JYPark|박진영|선미|S...</td>\n",
       "      <td>3433885</td>\n",
       "      <td>353337</td>\n",
       "      <td>9763</td>\n",
       "      <td>23405</td>\n",
       "      <td>https://i.ytimg.com/vi/zrsBjYukE8s/default.jpg</td>\n",
       "      <td>False</td>\n",
       "      <td>False</td>\n",
       "      <td>MelOn http://kko.to/TWyXd7zYjSpotify https://s...</td>\n",
       "    </tr>\n",
       "  </tbody>\n",
       "</table>\n",
       "</div>"
      ],
      "text/plain": [
       "      video_id                                             title  \\\n",
       "0  uq5LClQN3cE                                       안녕하세요 보겸입니다   \n",
       "1  I-ZbZCHsHD0                                부락토스의 계획 [총몇명 프리퀄]   \n",
       "2  9d7jNUjBoss                                   평생 반성하면서 살겠습니다.   \n",
       "3  3pI_L3-sMVg                              안녕하세요 꽈뚜룹입니다.   \n",
       "4  zrsBjYukE8s  박진영 (J.Y. Park) When We Disco (Duet with 선미) M/V   \n",
       "\n",
       "            publishedAt                 channelId       channelTitle  \\\n",
       "0  2020-08-09T09:32:48Z  UCu9BCtGIEr73LXZsKmoujKw              보겸 BK   \n",
       "1  2020-08-12T09:00:08Z  UCRuSxVu4iqTK5kCh90ntAgA                총몇명   \n",
       "2  2020-08-10T09:54:13Z  UCMVC92EOs9yDJG5JS-CMesQ        양팡 YangPang   \n",
       "3  2020-08-11T15:00:58Z  UCkQCwnkQfgSuPTTnw_Y7v7w      꽈뚜룹 Quaddurup   \n",
       "4  2020-08-11T09:00:13Z  UCaO6TYtlC8U5ttz62hTrZgg  JYP Entertainment   \n",
       "\n",
       "   categoryId         trending_date  \\\n",
       "0          24  2020-08-12T00:00:00Z   \n",
       "1           1  2020-08-12T00:00:00Z   \n",
       "2          22  2020-08-12T00:00:00Z   \n",
       "3          24  2020-08-12T00:00:00Z   \n",
       "4          10  2020-08-12T00:00:00Z   \n",
       "\n",
       "                                                tags  view_count   likes  \\\n",
       "0                                          보겸|bokyem     5947503   53326   \n",
       "1                총몇명|재밌는 만화|부락토스|루시퍼|총몇명 프리퀄|총몇명 스토리      963384   28244   \n",
       "2  양팡|양팡유튜브|팡튜브|가족시트콤|양팡가족|양팡가족시트콤|양팡언니|현실남매|현실자매...     2950885   17974   \n",
       "3  꽈뚜룹|한국여행기|quaddurup|뚜룹이|korea|southkorea|vlog|...     1743374   36893   \n",
       "4  JYP Entertainment|JYP|J.Y.Park|JYPark|박진영|선미|S...     3433885  353337   \n",
       "\n",
       "   dislikes  comment_count                                  thumbnail_link  \\\n",
       "0    105756         139946  https://i.ytimg.com/vi/uq5LClQN3cE/default.jpg   \n",
       "1       494           3339  https://i.ytimg.com/vi/I-ZbZCHsHD0/default.jpg   \n",
       "2     68898          50688  https://i.ytimg.com/vi/9d7jNUjBoss/default.jpg   \n",
       "3      1798           8751  https://i.ytimg.com/vi/3pI_L3-sMVg/default.jpg   \n",
       "4      9763          23405  https://i.ytimg.com/vi/zrsBjYukE8s/default.jpg   \n",
       "\n",
       "   comments_disabled  ratings_disabled  \\\n",
       "0              False             False   \n",
       "1              False             False   \n",
       "2              False             False   \n",
       "3              False             False   \n",
       "4              False             False   \n",
       "\n",
       "                                         description  \n",
       "0                                                NaN  \n",
       "1  오늘도 정말 감사드립니다!!총몇명 스튜디오 - 총몇명, 십제곱, 5G민, MOVE혁...  \n",
       "2                                                NaN  \n",
       "3                앞으로 좀 더 깔끔한 영상제작 약속 드리겠습니다.늘 감사드립니다  \n",
       "4  MelOn http://kko.to/TWyXd7zYjSpotify https://s...  "
      ]
     },
     "execution_count": 7,
     "metadata": {},
     "output_type": "execute_result"
    }
   ],
   "source": [
    "df.head()"
   ]
  },
  {
   "cell_type": "markdown",
   "id": "2e27d13d",
   "metadata": {},
   "source": [
    "유튜브 영상의 제목, 올린 날짜, 체널 제목 등이 나와있음을 알 수 있다. "
   ]
  },
  {
   "cell_type": "markdown",
   "id": "b3f24b52",
   "metadata": {},
   "source": [
    "### 행과 열의 개수 확인하기"
   ]
  },
  {
   "cell_type": "code",
   "execution_count": 8,
   "id": "cf7306e7",
   "metadata": {},
   "outputs": [
    {
     "name": "stdout",
     "output_type": "stream",
     "text": [
      "(137554, 16)\n",
      "There are 137554 rows and 16 columns\n"
     ]
    }
   ],
   "source": [
    "# 행과 열 개수\n",
    "print(df.shape)\n",
    "nRow, nCol = df.shape\n",
    "print(f'There are {nRow} rows and {nCol} columns')"
   ]
  },
  {
   "cell_type": "markdown",
   "id": "64a42995",
   "metadata": {},
   "source": [
    "### 열이름 16개 모두 출력하기"
   ]
  },
  {
   "cell_type": "code",
   "execution_count": 9,
   "id": "aa0dfa96",
   "metadata": {},
   "outputs": [
    {
     "data": {
      "text/plain": [
       "Index(['video_id', 'title', 'publishedAt', 'channelId', 'channelTitle',\n",
       "       'categoryId', 'trending_date', 'tags', 'view_count', 'likes',\n",
       "       'dislikes', 'comment_count', 'thumbnail_link', 'comments_disabled',\n",
       "       'ratings_disabled', 'description'],\n",
       "      dtype='object')"
      ]
     },
     "execution_count": 9,
     "metadata": {},
     "output_type": "execute_result"
    }
   ],
   "source": [
    "# 열이름 출력하기\n",
    "df.columns"
   ]
  },
  {
   "cell_type": "markdown",
   "id": "e4a1900b",
   "metadata": {},
   "source": [
    "### 요약 정보 확인하기"
   ]
  },
  {
   "cell_type": "code",
   "execution_count": 10,
   "id": "2cd1dbd0",
   "metadata": {},
   "outputs": [
    {
     "name": "stdout",
     "output_type": "stream",
     "text": [
      "<class 'pandas.core.frame.DataFrame'>\n",
      "RangeIndex: 137554 entries, 0 to 137553\n",
      "Data columns (total 16 columns):\n",
      " #   Column             Non-Null Count   Dtype \n",
      "---  ------             --------------   ----- \n",
      " 0   video_id           137554 non-null  object\n",
      " 1   title              137554 non-null  object\n",
      " 2   publishedAt        137554 non-null  object\n",
      " 3   channelId          137554 non-null  object\n",
      " 4   channelTitle       137554 non-null  object\n",
      " 5   categoryId         137554 non-null  int64 \n",
      " 6   trending_date      137554 non-null  object\n",
      " 7   tags               137554 non-null  object\n",
      " 8   view_count         137554 non-null  int64 \n",
      " 9   likes              137554 non-null  int64 \n",
      " 10  dislikes           137554 non-null  int64 \n",
      " 11  comment_count      137554 non-null  int64 \n",
      " 12  thumbnail_link     137554 non-null  object\n",
      " 13  comments_disabled  137554 non-null  bool  \n",
      " 14  ratings_disabled   137554 non-null  bool  \n",
      " 15  description        134011 non-null  object\n",
      "dtypes: bool(2), int64(5), object(9)\n",
      "memory usage: 15.0+ MB\n",
      "None\n"
     ]
    }
   ],
   "source": [
    "# 요약 정보 확인하기\n",
    "print(df.info())"
   ]
  },
  {
   "cell_type": "markdown",
   "id": "eaafd0f9",
   "metadata": {},
   "source": [
    "- description열만 Non-Null의 값이 총 행 수와 같지 않음 => 결측치 있음  \n",
    "    => 확실한 확인 위해 isnull().sum()을 이용해서 확인하기\n",
    "- categoryId의 type이 정수로 되어 있음 => 범주형 자료로 카테고리별 영상 수를 확인해볼 수 있음  \n",
    "    => 이후 cat DataFrame과 합칠 수 있는 연결고리\n",
    "- publishedAt, trending_date가 object 형태로 나와있음 => 시간순으로 패턴 찾을 때 처리 필요할듯!"
   ]
  },
  {
   "cell_type": "code",
   "execution_count": 11,
   "id": "d8a69e37",
   "metadata": {
    "scrolled": false
   },
   "outputs": [
    {
     "data": {
      "text/plain": [
       "video_id                0\n",
       "title                   0\n",
       "publishedAt             0\n",
       "channelId               0\n",
       "channelTitle            0\n",
       "categoryId              0\n",
       "trending_date           0\n",
       "tags                    0\n",
       "view_count              0\n",
       "likes                   0\n",
       "dislikes                0\n",
       "comment_count           0\n",
       "thumbnail_link          0\n",
       "comments_disabled       0\n",
       "ratings_disabled        0\n",
       "description          3543\n",
       "dtype: int64"
      ]
     },
     "execution_count": 11,
     "metadata": {},
     "output_type": "execute_result"
    }
   ],
   "source": [
    "# 각 열 별 결측치 수 확인하기\n",
    "# => description에만 결측지가 있고, 나머지 열에서는 결측치가 없음\n",
    "# 이 경우 결측치를 다 \"\"나 \" \"으로 처리해도 괜찮을 것 같음 (삭제할 필요 없음, 굳이 처리 안해도 됨)\n",
    "df.isnull().sum()"
   ]
  },
  {
   "cell_type": "code",
   "execution_count": 12,
   "id": "5b438371",
   "metadata": {},
   "outputs": [
    {
     "data": {
      "text/html": [
       "<div>\n",
       "<style scoped>\n",
       "    .dataframe tbody tr th:only-of-type {\n",
       "        vertical-align: middle;\n",
       "    }\n",
       "\n",
       "    .dataframe tbody tr th {\n",
       "        vertical-align: top;\n",
       "    }\n",
       "\n",
       "    .dataframe thead th {\n",
       "        text-align: right;\n",
       "    }\n",
       "</style>\n",
       "<table border=\"1\" class=\"dataframe\">\n",
       "  <thead>\n",
       "    <tr style=\"text-align: right;\">\n",
       "      <th></th>\n",
       "      <th>categoryId</th>\n",
       "      <th>view_count</th>\n",
       "      <th>likes</th>\n",
       "      <th>dislikes</th>\n",
       "      <th>comment_count</th>\n",
       "    </tr>\n",
       "  </thead>\n",
       "  <tbody>\n",
       "    <tr>\n",
       "      <th>count</th>\n",
       "      <td>137554.000000</td>\n",
       "      <td>1.375540e+05</td>\n",
       "      <td>1.375540e+05</td>\n",
       "      <td>137554.000000</td>\n",
       "      <td>1.375540e+05</td>\n",
       "    </tr>\n",
       "    <tr>\n",
       "      <th>mean</th>\n",
       "      <td>20.426843</td>\n",
       "      <td>1.618720e+06</td>\n",
       "      <td>7.406458e+04</td>\n",
       "      <td>870.091957</td>\n",
       "      <td>8.841621e+03</td>\n",
       "    </tr>\n",
       "    <tr>\n",
       "      <th>std</th>\n",
       "      <td>6.267271</td>\n",
       "      <td>6.166372e+06</td>\n",
       "      <td>4.292023e+05</td>\n",
       "      <td>9655.556540</td>\n",
       "      <td>1.125411e+05</td>\n",
       "    </tr>\n",
       "    <tr>\n",
       "      <th>min</th>\n",
       "      <td>1.000000</td>\n",
       "      <td>0.000000e+00</td>\n",
       "      <td>0.000000e+00</td>\n",
       "      <td>0.000000</td>\n",
       "      <td>0.000000e+00</td>\n",
       "    </tr>\n",
       "    <tr>\n",
       "      <th>25%</th>\n",
       "      <td>19.000000</td>\n",
       "      <td>3.356400e+05</td>\n",
       "      <td>5.743000e+03</td>\n",
       "      <td>0.000000</td>\n",
       "      <td>5.470000e+02</td>\n",
       "    </tr>\n",
       "    <tr>\n",
       "      <th>50%</th>\n",
       "      <td>23.000000</td>\n",
       "      <td>6.521940e+05</td>\n",
       "      <td>1.157800e+04</td>\n",
       "      <td>129.000000</td>\n",
       "      <td>1.215000e+03</td>\n",
       "    </tr>\n",
       "    <tr>\n",
       "      <th>75%</th>\n",
       "      <td>24.000000</td>\n",
       "      <td>1.307116e+06</td>\n",
       "      <td>2.634875e+04</td>\n",
       "      <td>350.000000</td>\n",
       "      <td>2.870000e+03</td>\n",
       "    </tr>\n",
       "    <tr>\n",
       "      <th>max</th>\n",
       "      <td>29.000000</td>\n",
       "      <td>2.963142e+08</td>\n",
       "      <td>1.646425e+07</td>\n",
       "      <td>879358.000000</td>\n",
       "      <td>6.939302e+06</td>\n",
       "    </tr>\n",
       "  </tbody>\n",
       "</table>\n",
       "</div>"
      ],
      "text/plain": [
       "          categoryId    view_count         likes       dislikes  comment_count\n",
       "count  137554.000000  1.375540e+05  1.375540e+05  137554.000000   1.375540e+05\n",
       "mean       20.426843  1.618720e+06  7.406458e+04     870.091957   8.841621e+03\n",
       "std         6.267271  6.166372e+06  4.292023e+05    9655.556540   1.125411e+05\n",
       "min         1.000000  0.000000e+00  0.000000e+00       0.000000   0.000000e+00\n",
       "25%        19.000000  3.356400e+05  5.743000e+03       0.000000   5.470000e+02\n",
       "50%        23.000000  6.521940e+05  1.157800e+04     129.000000   1.215000e+03\n",
       "75%        24.000000  1.307116e+06  2.634875e+04     350.000000   2.870000e+03\n",
       "max        29.000000  2.963142e+08  1.646425e+07  879358.000000   6.939302e+06"
      ]
     },
     "execution_count": 12,
     "metadata": {},
     "output_type": "execute_result"
    }
   ],
   "source": [
    "# 요약정보를 제공할 수 있는 int나 float행만 출력가능(여기는 전부 int)\n",
    "df.describe()"
   ]
  },
  {
   "cell_type": "markdown",
   "id": "fca2de3c",
   "metadata": {},
   "source": [
    "### 분석과는 앞으로 관련없을 열 'thumbnail_link' 제거하기"
   ]
  },
  {
   "cell_type": "code",
   "execution_count": 13,
   "id": "5b2d47d0",
   "metadata": {},
   "outputs": [],
   "source": [
    "# 분석과는 앞으로 관련없을 열 'thumbnail_link' 제거하기\n",
    "df = df.drop('thumbnail_link',axis=1)"
   ]
  },
  {
   "cell_type": "markdown",
   "id": "60c0d9bb",
   "metadata": {},
   "source": [
    "### 'title'의 고유한 개수 찾기"
   ]
  },
  {
   "cell_type": "code",
   "execution_count": 14,
   "id": "f7d7f9e0",
   "metadata": {},
   "outputs": [
    {
     "data": {
      "text/plain": [
       "18079"
      ]
     },
     "execution_count": 14,
     "metadata": {},
     "output_type": "execute_result"
    }
   ],
   "source": [
    "# 'title'의 고유한 개수 찾기\n",
    "df['title'].nunique()"
   ]
  },
  {
   "cell_type": "code",
   "execution_count": 15,
   "id": "9601ec16",
   "metadata": {},
   "outputs": [
    {
     "data": {
      "text/plain": [
       "array(['안녕하세요 보겸입니다', '부락토스의 계획 [총몇명 프리퀄]', '평생 반성하면서 살겠습니다.', ...,\n",
       "       '[EN] ★특별편★ 야구장 스페셜 [둘이 왔어요 EP56]', '어서와~ 한국은 처음이지!?😎🇰🇷',\n",
       "       '채굴 끝난 줄 알고 무너진 채 방치된 폐광 아래 손도 대지 않은 황금 발견! 금광으로 효용가치는?ㅣ황금빛 꿈을 캐다! 금광 갱도 보수 작업 현장ㅣ극한직업ㅣ#골라듄다큐'],\n",
       "      dtype=object)"
      ]
     },
     "execution_count": 15,
     "metadata": {},
     "output_type": "execute_result"
    }
   ],
   "source": [
    "df['title'].unique()"
   ]
  },
  {
   "cell_type": "markdown",
   "id": "d8cee0eb",
   "metadata": {},
   "source": [
    "총 영상의 수는 137554개인 것에 반해 'title'의 고유값들은 18079개이다. 이 말은 같은 title을 가진 영상들이 여러개 있다는 것이다. 예를 들어 2020년에 유튜브에서 죄송합니다 챌린지가 있었는데 이때 '죄송합니다'라는 제목으로 여러 영상들이 올라오곤 했다. 이처럼 다른 영상이더라도 제목만 같으면 하나로 묶이기 때문에 갯수가 많이 차이나는 것 같다."
   ]
  },
  {
   "cell_type": "markdown",
   "id": "56ee6630",
   "metadata": {},
   "source": [
    "### 'video_id'의 고유한 개수 찾기"
   ]
  },
  {
   "cell_type": "code",
   "execution_count": 16,
   "id": "afb591ef",
   "metadata": {},
   "outputs": [
    {
     "data": {
      "text/plain": [
       "16930"
      ]
     },
     "execution_count": 16,
     "metadata": {},
     "output_type": "execute_result"
    }
   ],
   "source": [
    "# 'video_id'의 고유한 개수 찾기\n",
    "df['video_id'].nunique()"
   ]
  },
  {
   "cell_type": "markdown",
   "id": "2a0c5a83",
   "metadata": {},
   "source": [
    "이 결과를 통해서 데이터셋에 담긴 시기에 영상을 올린 계정의 수를 확인할 수 있다.  \n",
    "'title'의 경우는 같은 이름을 한 영상을 1개로 count하고, 'video_id'의 경우는 같은 아이디로 만든 영상을 1개로 취급하기 때문에 당연히 다를 수밖에 없다."
   ]
  },
  {
   "cell_type": "markdown",
   "id": "9bd2aafb",
   "metadata": {},
   "source": [
    "### ‘comments_disabled’열이 True라면, ‘comment_count’도 0일 것임. 이것이 사실인지 확인해보기."
   ]
  },
  {
   "cell_type": "code",
   "execution_count": 18,
   "id": "e390a668",
   "metadata": {},
   "outputs": [
    {
     "data": {
      "text/plain": [
       "33     0\n",
       "47     0\n",
       "191    0\n",
       "205    0\n",
       "349    0\n",
       "Name: comment_count, dtype: int64"
      ]
     },
     "execution_count": 18,
     "metadata": {},
     "output_type": "execute_result"
    }
   ],
   "source": [
    "df.loc[df['comments_disabled']==True, 'comment_count'].head()"
   ]
  },
  {
   "cell_type": "markdown",
   "id": "c7d44c0f",
   "metadata": {},
   "source": [
    "###  'ratings_disabled’열이 True라면, ‘likes’, ‘dislikes’ 모두 0일 것임. 이것 또한 사실인지 확인해보기.\n"
   ]
  },
  {
   "cell_type": "code",
   "execution_count": 19,
   "id": "142729b1",
   "metadata": {},
   "outputs": [
    {
     "data": {
      "text/html": [
       "<div>\n",
       "<style scoped>\n",
       "    .dataframe tbody tr th:only-of-type {\n",
       "        vertical-align: middle;\n",
       "    }\n",
       "\n",
       "    .dataframe tbody tr th {\n",
       "        vertical-align: top;\n",
       "    }\n",
       "\n",
       "    .dataframe thead th {\n",
       "        text-align: right;\n",
       "    }\n",
       "</style>\n",
       "<table border=\"1\" class=\"dataframe\">\n",
       "  <thead>\n",
       "    <tr style=\"text-align: right;\">\n",
       "      <th></th>\n",
       "      <th>likes</th>\n",
       "      <th>dislikes</th>\n",
       "    </tr>\n",
       "  </thead>\n",
       "  <tbody>\n",
       "    <tr>\n",
       "      <th>57</th>\n",
       "      <td>0</td>\n",
       "      <td>0</td>\n",
       "    </tr>\n",
       "    <tr>\n",
       "      <th>107</th>\n",
       "      <td>0</td>\n",
       "      <td>0</td>\n",
       "    </tr>\n",
       "    <tr>\n",
       "      <th>214</th>\n",
       "      <td>0</td>\n",
       "      <td>0</td>\n",
       "    </tr>\n",
       "    <tr>\n",
       "      <th>257</th>\n",
       "      <td>0</td>\n",
       "      <td>0</td>\n",
       "    </tr>\n",
       "    <tr>\n",
       "      <th>366</th>\n",
       "      <td>0</td>\n",
       "      <td>0</td>\n",
       "    </tr>\n",
       "  </tbody>\n",
       "</table>\n",
       "</div>"
      ],
      "text/plain": [
       "     likes  dislikes\n",
       "57       0         0\n",
       "107      0         0\n",
       "214      0         0\n",
       "257      0         0\n",
       "366      0         0"
      ]
     },
     "execution_count": 19,
     "metadata": {},
     "output_type": "execute_result"
    }
   ],
   "source": [
    "df.loc[df['ratings_disabled']==True,['likes', 'dislikes']].head()"
   ]
  },
  {
   "cell_type": "markdown",
   "id": "382f7665",
   "metadata": {},
   "source": [
    "### 열 ‘publishedAt’, 열 ‘trending_date’ 둘 다 object 형태임을 위에서 확인하였으니, 이를 모두 datatime64[ns] 형태로 변환하기. "
   ]
  },
  {
   "cell_type": "code",
   "execution_count": 20,
   "id": "d80168b1",
   "metadata": {},
   "outputs": [
    {
     "data": {
      "text/html": [
       "<div>\n",
       "<style scoped>\n",
       "    .dataframe tbody tr th:only-of-type {\n",
       "        vertical-align: middle;\n",
       "    }\n",
       "\n",
       "    .dataframe tbody tr th {\n",
       "        vertical-align: top;\n",
       "    }\n",
       "\n",
       "    .dataframe thead th {\n",
       "        text-align: right;\n",
       "    }\n",
       "</style>\n",
       "<table border=\"1\" class=\"dataframe\">\n",
       "  <thead>\n",
       "    <tr style=\"text-align: right;\">\n",
       "      <th></th>\n",
       "      <th>publishedAt</th>\n",
       "      <th>trending_date</th>\n",
       "    </tr>\n",
       "  </thead>\n",
       "  <tbody>\n",
       "    <tr>\n",
       "      <th>0</th>\n",
       "      <td>2020-08-09T09:32:48Z</td>\n",
       "      <td>2020-08-12T00:00:00Z</td>\n",
       "    </tr>\n",
       "    <tr>\n",
       "      <th>1</th>\n",
       "      <td>2020-08-12T09:00:08Z</td>\n",
       "      <td>2020-08-12T00:00:00Z</td>\n",
       "    </tr>\n",
       "    <tr>\n",
       "      <th>2</th>\n",
       "      <td>2020-08-10T09:54:13Z</td>\n",
       "      <td>2020-08-12T00:00:00Z</td>\n",
       "    </tr>\n",
       "    <tr>\n",
       "      <th>3</th>\n",
       "      <td>2020-08-11T15:00:58Z</td>\n",
       "      <td>2020-08-12T00:00:00Z</td>\n",
       "    </tr>\n",
       "    <tr>\n",
       "      <th>4</th>\n",
       "      <td>2020-08-11T09:00:13Z</td>\n",
       "      <td>2020-08-12T00:00:00Z</td>\n",
       "    </tr>\n",
       "  </tbody>\n",
       "</table>\n",
       "</div>"
      ],
      "text/plain": [
       "            publishedAt         trending_date\n",
       "0  2020-08-09T09:32:48Z  2020-08-12T00:00:00Z\n",
       "1  2020-08-12T09:00:08Z  2020-08-12T00:00:00Z\n",
       "2  2020-08-10T09:54:13Z  2020-08-12T00:00:00Z\n",
       "3  2020-08-11T15:00:58Z  2020-08-12T00:00:00Z\n",
       "4  2020-08-11T09:00:13Z  2020-08-12T00:00:00Z"
      ]
     },
     "execution_count": 20,
     "metadata": {},
     "output_type": "execute_result"
    }
   ],
   "source": [
    "df[['publishedAt', 'trending_date']].head()"
   ]
  },
  {
   "cell_type": "code",
   "execution_count": 21,
   "id": "7e4cbde7",
   "metadata": {},
   "outputs": [],
   "source": [
    "df['publishedAt'] = pd.to_datetime(df['publishedAt'], format='%Y-%m-%dT%H:%M:%SZ')"
   ]
  },
  {
   "cell_type": "code",
   "execution_count": 22,
   "id": "286aa845",
   "metadata": {},
   "outputs": [],
   "source": [
    "df['trending_date'] = pd.to_datetime(df['trending_date'], format='%Y-%m-%dT00:00:00Z')"
   ]
  },
  {
   "cell_type": "code",
   "execution_count": 23,
   "id": "04db6a39",
   "metadata": {},
   "outputs": [
    {
     "name": "stdout",
     "output_type": "stream",
     "text": [
      "          publishedAt trending_date\n",
      "0 2020-08-09 09:32:48    2020-08-12\n",
      "1 2020-08-12 09:00:08    2020-08-12\n",
      "2 2020-08-10 09:54:13    2020-08-12\n",
      "3 2020-08-11 15:00:58    2020-08-12\n",
      "4 2020-08-11 09:00:13    2020-08-12\n",
      "------------------------------\n",
      "<class 'pandas.core.frame.DataFrame'>\n",
      "RangeIndex: 137554 entries, 0 to 137553\n",
      "Data columns (total 2 columns):\n",
      " #   Column         Non-Null Count   Dtype         \n",
      "---  ------         --------------   -----         \n",
      " 0   publishedAt    137554 non-null  datetime64[ns]\n",
      " 1   trending_date  137554 non-null  datetime64[ns]\n",
      "dtypes: datetime64[ns](2)\n",
      "memory usage: 2.1 MB\n",
      "None\n"
     ]
    }
   ],
   "source": [
    "print(df[['publishedAt', 'trending_date']].head())\n",
    "\n",
    "print('-'*30)\n",
    "\n",
    "print(df[['publishedAt', 'trending_date']].info())"
   ]
  },
  {
   "cell_type": "markdown",
   "id": "b5d1c418",
   "metadata": {},
   "source": [
    "### 열 ‘categoryId’를 int type이 아닌 category type로 변환하기."
   ]
  },
  {
   "cell_type": "code",
   "execution_count": 24,
   "id": "0bde468d",
   "metadata": {},
   "outputs": [
    {
     "data": {
      "text/plain": [
       "0    24\n",
       "1     1\n",
       "2    22\n",
       "3    24\n",
       "4    10\n",
       "Name: categoryId, dtype: int64"
      ]
     },
     "execution_count": 24,
     "metadata": {},
     "output_type": "execute_result"
    }
   ],
   "source": [
    "df['categoryId'].head()"
   ]
  },
  {
   "cell_type": "code",
   "execution_count": 25,
   "id": "156f1861",
   "metadata": {},
   "outputs": [],
   "source": [
    "df['categoryId'] = df['categoryId'].astype('category')"
   ]
  },
  {
   "cell_type": "code",
   "execution_count": 26,
   "id": "42aaf87b",
   "metadata": {},
   "outputs": [
    {
     "data": {
      "text/plain": [
       "0    24\n",
       "1     1\n",
       "2    22\n",
       "3    24\n",
       "4    10\n",
       "Name: categoryId, dtype: category\n",
       "Categories (15, int64): [1, 2, 10, 15, ..., 26, 27, 28, 29]"
      ]
     },
     "execution_count": 26,
     "metadata": {},
     "output_type": "execute_result"
    }
   ],
   "source": [
    "df['categoryId'].head()"
   ]
  },
  {
   "cell_type": "markdown",
   "id": "90ed9c6f",
   "metadata": {},
   "source": [
    "## cat, df의 categoryId와 관련한 문제 해결해보기!"
   ]
  },
  {
   "cell_type": "code",
   "execution_count": 27,
   "id": "1a83878e",
   "metadata": {},
   "outputs": [
    {
     "name": "stdout",
     "output_type": "stream",
     "text": [
      "24    47880\n",
      "22    21699\n",
      "10    14787\n",
      "17    10544\n",
      "23     8626\n",
      "25     6795\n",
      "26     5972\n",
      "20     5085\n",
      "1      4476\n",
      "15     2793\n",
      "27     2691\n",
      "28     2293\n",
      "19     1966\n",
      "2      1708\n",
      "29      239\n",
      "Name: categoryId, dtype: int64\n"
     ]
    }
   ],
   "source": [
    "# 각 값이 나온 횟수 출력\n",
    "print(df['categoryId'].value_counts())"
   ]
  },
  {
   "cell_type": "markdown",
   "id": "436747d9",
   "metadata": {},
   "source": [
    "카테고리의 경우 24번이 가장 많이 나오고 있습니다(24번이 무엇인지 알아볼 필요 생김)"
   ]
  },
  {
   "cell_type": "markdown",
   "id": "04b749d6",
   "metadata": {},
   "source": [
    "### cat과 df 합치기"
   ]
  },
  {
   "cell_type": "code",
   "execution_count": 28,
   "id": "241a6257",
   "metadata": {},
   "outputs": [
    {
     "name": "stdout",
     "output_type": "stream",
     "text": [
      "      video_id        title         publishedAt                 channelId  \\\n",
      "0  uq5LClQN3cE  안녕하세요 보겸입니다 2020-08-09 09:32:48  UCu9BCtGIEr73LXZsKmoujKw   \n",
      "\n",
      "  channelTitle categoryId trending_date       tags  view_count  likes  \\\n",
      "0        보겸 BK         24    2020-08-12  보겸|bokyem     5947503  53326   \n",
      "\n",
      "   dislikes  comment_count  comments_disabled  ratings_disabled description  \n",
      "0    105756         139946              False             False         NaN  \n",
      "------------------------------\n",
      "                    kind                         etag  id     snippet.title  \\\n",
      "0  youtube#videoCategory  IfWa37JGcqZs-jZeAyFGkbeh6bc   1  Film & Animation   \n",
      "\n",
      "   snippet.assignable         snippet.channelId  \n",
      "0                True  UCBR8-60-B28hp2BmDPdntcQ  \n"
     ]
    }
   ],
   "source": [
    "print(df.head(1))\n",
    "print('-'*30)\n",
    "print(cat.head(1))"
   ]
  },
  {
   "cell_type": "code",
   "execution_count": 29,
   "id": "f35f43ae",
   "metadata": {},
   "outputs": [],
   "source": [
    "# df와 cat의 열이름 맞춰주기 위해\n",
    "cat.rename(columns={'id':'categoryId'},inplace=True)"
   ]
  },
  {
   "cell_type": "code",
   "execution_count": 30,
   "id": "79d52d10",
   "metadata": {},
   "outputs": [],
   "source": [
    "# 병합하기\n",
    "df = pd.merge(df, cat[['categoryId', 'snippet.title']], left_on='categoryId', right_on='categoryId', how='left')"
   ]
  },
  {
   "cell_type": "code",
   "execution_count": 31,
   "id": "1bafb7a1",
   "metadata": {},
   "outputs": [
    {
     "data": {
      "text/html": [
       "<div>\n",
       "<style scoped>\n",
       "    .dataframe tbody tr th:only-of-type {\n",
       "        vertical-align: middle;\n",
       "    }\n",
       "\n",
       "    .dataframe tbody tr th {\n",
       "        vertical-align: top;\n",
       "    }\n",
       "\n",
       "    .dataframe thead th {\n",
       "        text-align: right;\n",
       "    }\n",
       "</style>\n",
       "<table border=\"1\" class=\"dataframe\">\n",
       "  <thead>\n",
       "    <tr style=\"text-align: right;\">\n",
       "      <th></th>\n",
       "      <th>video_id</th>\n",
       "      <th>title</th>\n",
       "      <th>publishedAt</th>\n",
       "      <th>channelId</th>\n",
       "      <th>channelTitle</th>\n",
       "      <th>categoryId</th>\n",
       "      <th>trending_date</th>\n",
       "      <th>tags</th>\n",
       "      <th>view_count</th>\n",
       "      <th>likes</th>\n",
       "      <th>dislikes</th>\n",
       "      <th>comment_count</th>\n",
       "      <th>comments_disabled</th>\n",
       "      <th>ratings_disabled</th>\n",
       "      <th>description</th>\n",
       "      <th>snippet.title</th>\n",
       "    </tr>\n",
       "  </thead>\n",
       "  <tbody>\n",
       "    <tr>\n",
       "      <th>0</th>\n",
       "      <td>uq5LClQN3cE</td>\n",
       "      <td>안녕하세요 보겸입니다</td>\n",
       "      <td>2020-08-09 09:32:48</td>\n",
       "      <td>UCu9BCtGIEr73LXZsKmoujKw</td>\n",
       "      <td>보겸 BK</td>\n",
       "      <td>24</td>\n",
       "      <td>2020-08-12</td>\n",
       "      <td>보겸|bokyem</td>\n",
       "      <td>5947503</td>\n",
       "      <td>53326</td>\n",
       "      <td>105756</td>\n",
       "      <td>139946</td>\n",
       "      <td>False</td>\n",
       "      <td>False</td>\n",
       "      <td>NaN</td>\n",
       "      <td>Entertainment</td>\n",
       "    </tr>\n",
       "    <tr>\n",
       "      <th>1</th>\n",
       "      <td>I-ZbZCHsHD0</td>\n",
       "      <td>부락토스의 계획 [총몇명 프리퀄]</td>\n",
       "      <td>2020-08-12 09:00:08</td>\n",
       "      <td>UCRuSxVu4iqTK5kCh90ntAgA</td>\n",
       "      <td>총몇명</td>\n",
       "      <td>1</td>\n",
       "      <td>2020-08-12</td>\n",
       "      <td>총몇명|재밌는 만화|부락토스|루시퍼|총몇명 프리퀄|총몇명 스토리</td>\n",
       "      <td>963384</td>\n",
       "      <td>28244</td>\n",
       "      <td>494</td>\n",
       "      <td>3339</td>\n",
       "      <td>False</td>\n",
       "      <td>False</td>\n",
       "      <td>오늘도 정말 감사드립니다!!총몇명 스튜디오 - 총몇명, 십제곱, 5G민, MOVE혁...</td>\n",
       "      <td>Film &amp; Animation</td>\n",
       "    </tr>\n",
       "    <tr>\n",
       "      <th>2</th>\n",
       "      <td>9d7jNUjBoss</td>\n",
       "      <td>평생 반성하면서 살겠습니다.</td>\n",
       "      <td>2020-08-10 09:54:13</td>\n",
       "      <td>UCMVC92EOs9yDJG5JS-CMesQ</td>\n",
       "      <td>양팡 YangPang</td>\n",
       "      <td>22</td>\n",
       "      <td>2020-08-12</td>\n",
       "      <td>양팡|양팡유튜브|팡튜브|가족시트콤|양팡가족|양팡가족시트콤|양팡언니|현실남매|현실자매...</td>\n",
       "      <td>2950885</td>\n",
       "      <td>17974</td>\n",
       "      <td>68898</td>\n",
       "      <td>50688</td>\n",
       "      <td>False</td>\n",
       "      <td>False</td>\n",
       "      <td>NaN</td>\n",
       "      <td>People &amp; Blogs</td>\n",
       "    </tr>\n",
       "    <tr>\n",
       "      <th>3</th>\n",
       "      <td>3pI_L3-sMVg</td>\n",
       "      <td>안녕하세요 꽈뚜룹입니다.</td>\n",
       "      <td>2020-08-11 15:00:58</td>\n",
       "      <td>UCkQCwnkQfgSuPTTnw_Y7v7w</td>\n",
       "      <td>꽈뚜룹 Quaddurup</td>\n",
       "      <td>24</td>\n",
       "      <td>2020-08-12</td>\n",
       "      <td>꽈뚜룹|한국여행기|quaddurup|뚜룹이|korea|southkorea|vlog|...</td>\n",
       "      <td>1743374</td>\n",
       "      <td>36893</td>\n",
       "      <td>1798</td>\n",
       "      <td>8751</td>\n",
       "      <td>False</td>\n",
       "      <td>False</td>\n",
       "      <td>앞으로 좀 더 깔끔한 영상제작 약속 드리겠습니다.늘 감사드립니다</td>\n",
       "      <td>Entertainment</td>\n",
       "    </tr>\n",
       "    <tr>\n",
       "      <th>4</th>\n",
       "      <td>zrsBjYukE8s</td>\n",
       "      <td>박진영 (J.Y. Park) When We Disco (Duet with 선미) M/V</td>\n",
       "      <td>2020-08-11 09:00:13</td>\n",
       "      <td>UCaO6TYtlC8U5ttz62hTrZgg</td>\n",
       "      <td>JYP Entertainment</td>\n",
       "      <td>10</td>\n",
       "      <td>2020-08-12</td>\n",
       "      <td>JYP Entertainment|JYP|J.Y.Park|JYPark|박진영|선미|S...</td>\n",
       "      <td>3433885</td>\n",
       "      <td>353337</td>\n",
       "      <td>9763</td>\n",
       "      <td>23405</td>\n",
       "      <td>False</td>\n",
       "      <td>False</td>\n",
       "      <td>MelOn http://kko.to/TWyXd7zYjSpotify https://s...</td>\n",
       "      <td>Music</td>\n",
       "    </tr>\n",
       "  </tbody>\n",
       "</table>\n",
       "</div>"
      ],
      "text/plain": [
       "      video_id                                             title  \\\n",
       "0  uq5LClQN3cE                                       안녕하세요 보겸입니다   \n",
       "1  I-ZbZCHsHD0                                부락토스의 계획 [총몇명 프리퀄]   \n",
       "2  9d7jNUjBoss                                   평생 반성하면서 살겠습니다.   \n",
       "3  3pI_L3-sMVg                              안녕하세요 꽈뚜룹입니다.   \n",
       "4  zrsBjYukE8s  박진영 (J.Y. Park) When We Disco (Duet with 선미) M/V   \n",
       "\n",
       "          publishedAt                 channelId       channelTitle  \\\n",
       "0 2020-08-09 09:32:48  UCu9BCtGIEr73LXZsKmoujKw              보겸 BK   \n",
       "1 2020-08-12 09:00:08  UCRuSxVu4iqTK5kCh90ntAgA                총몇명   \n",
       "2 2020-08-10 09:54:13  UCMVC92EOs9yDJG5JS-CMesQ        양팡 YangPang   \n",
       "3 2020-08-11 15:00:58  UCkQCwnkQfgSuPTTnw_Y7v7w      꽈뚜룹 Quaddurup   \n",
       "4 2020-08-11 09:00:13  UCaO6TYtlC8U5ttz62hTrZgg  JYP Entertainment   \n",
       "\n",
       "   categoryId trending_date  \\\n",
       "0          24    2020-08-12   \n",
       "1           1    2020-08-12   \n",
       "2          22    2020-08-12   \n",
       "3          24    2020-08-12   \n",
       "4          10    2020-08-12   \n",
       "\n",
       "                                                tags  view_count   likes  \\\n",
       "0                                          보겸|bokyem     5947503   53326   \n",
       "1                총몇명|재밌는 만화|부락토스|루시퍼|총몇명 프리퀄|총몇명 스토리      963384   28244   \n",
       "2  양팡|양팡유튜브|팡튜브|가족시트콤|양팡가족|양팡가족시트콤|양팡언니|현실남매|현실자매...     2950885   17974   \n",
       "3  꽈뚜룹|한국여행기|quaddurup|뚜룹이|korea|southkorea|vlog|...     1743374   36893   \n",
       "4  JYP Entertainment|JYP|J.Y.Park|JYPark|박진영|선미|S...     3433885  353337   \n",
       "\n",
       "   dislikes  comment_count  comments_disabled  ratings_disabled  \\\n",
       "0    105756         139946              False             False   \n",
       "1       494           3339              False             False   \n",
       "2     68898          50688              False             False   \n",
       "3      1798           8751              False             False   \n",
       "4      9763          23405              False             False   \n",
       "\n",
       "                                         description     snippet.title  \n",
       "0                                                NaN     Entertainment  \n",
       "1  오늘도 정말 감사드립니다!!총몇명 스튜디오 - 총몇명, 십제곱, 5G민, MOVE혁...  Film & Animation  \n",
       "2                                                NaN    People & Blogs  \n",
       "3                앞으로 좀 더 깔끔한 영상제작 약속 드리겠습니다.늘 감사드립니다     Entertainment  \n",
       "4  MelOn http://kko.to/TWyXd7zYjSpotify https://s...             Music  "
      ]
     },
     "execution_count": 31,
     "metadata": {},
     "output_type": "execute_result"
    }
   ],
   "source": [
    "df.head()"
   ]
  },
  {
   "cell_type": "code",
   "execution_count": 32,
   "id": "564a8f78",
   "metadata": {},
   "outputs": [],
   "source": [
    "df.rename(columns={'snippet.title':'category_name'},inplace=True)"
   ]
  },
  {
   "cell_type": "code",
   "execution_count": 33,
   "id": "f7779212",
   "metadata": {},
   "outputs": [
    {
     "data": {
      "text/plain": [
       "(137554, 16)"
      ]
     },
     "execution_count": 33,
     "metadata": {},
     "output_type": "execute_result"
    }
   ],
   "source": [
    "df.shape"
   ]
  },
  {
   "cell_type": "markdown",
   "id": "49564936",
   "metadata": {},
   "source": [
    "### df['category_name']의 결측값 확인"
   ]
  },
  {
   "cell_type": "code",
   "execution_count": 34,
   "id": "da539448",
   "metadata": {},
   "outputs": [
    {
     "data": {
      "text/plain": [
       "array(['Entertainment', 'Film & Animation', 'People & Blogs', 'Music',\n",
       "       'Comedy', 'Education', 'News & Politics', 'Sports', nan, 'Gaming',\n",
       "       'Travel & Events', 'Pets & Animals', 'Science & Technology',\n",
       "       'Howto & Style', 'Autos & Vehicles'], dtype=object)"
      ]
     },
     "execution_count": 34,
     "metadata": {},
     "output_type": "execute_result"
    }
   ],
   "source": [
    "# category_name의 고유한 값들 확인하기\n",
    "df['category_name'].unique()"
   ]
  },
  {
   "cell_type": "code",
   "execution_count": 35,
   "id": "180fa094",
   "metadata": {},
   "outputs": [
    {
     "data": {
      "text/plain": [
       "17        NaN\n",
       "150       NaN\n",
       "303       NaN\n",
       "476       NaN\n",
       "640       NaN\n",
       "         ... \n",
       "133281    NaN\n",
       "133499    NaN\n",
       "133700    NaN\n",
       "133938    NaN\n",
       "134151    NaN\n",
       "Name: category_name, Length: 239, dtype: object"
      ]
     },
     "execution_count": 35,
     "metadata": {},
     "output_type": "execute_result"
    }
   ],
   "source": [
    "# categoryId가 29인 경우의 category_name 확인하기\n",
    "df.loc[df['categoryId']==29, 'category_name']"
   ]
  },
  {
   "cell_type": "code",
   "execution_count": 36,
   "id": "b3f7304c",
   "metadata": {},
   "outputs": [
    {
     "name": "stdout",
     "output_type": "stream",
     "text": [
      "17        폭우로 인한 침수 상황시 대처 방법은? [행정안전부X사물궁이]\n",
      "150       폭우로 인한 침수 상황시 대처 방법은? [행정안전부X사물궁이]\n",
      "303       폭우로 인한 침수 상황시 대처 방법은? [행정안전부X사물궁이]\n",
      "476       폭우로 인한 침수 상황시 대처 방법은? [행정안전부X사물궁이]\n",
      "640       폭우로 인한 침수 상황시 대처 방법은? [행정안전부X사물궁이]\n",
      "                         ...                \n",
      "133281                          전한길 x 홍보맨 2편\n",
      "133499                          전한길 x 홍보맨 2편\n",
      "133700                          전한길 x 홍보맨 2편\n",
      "133938                          전한길 x 홍보맨 2편\n",
      "134151                          전한길 x 홍보맨 2편\n",
      "Name: title, Length: 239, dtype: object\n",
      "------------------------------\n",
      "['폭우로 인한 침수 상황시 대처 방법은? [행정안전부X사물궁이]' '동선 숨겼다가 고발을 당했다. 2억이 나왔다ㅣ넋 나간 가족'\n",
      " '[김광일의 입] 文 지지층, “니가 나한테 이럴 수 있어?”' '제가 전생에 무슨 죄가 있어 이 고생을 할까요?'\n",
      " '서울시청 가서 세리머니 하는 홍보맨ㅣ충주사과를 찾아라 서울편'\n",
      " '6.25전쟁 70주년 기념 유엔참전용사 감사영상 - Thanks to UN veterans.' '도경수 병장 30문 30답'\n",
      " '페트병 색깔이 투명해지고 있다고? ㅣ환경부 x 사물궁이' '사막마을 벼수확(5번째 이야기) / 참 까지 얻어먹고~~'\n",
      " '사막마을 벼 수확(6번째 이야기).  벼 탈곡기'\n",
      " '2020년 제야의 종 온라인 타종행사 | 보신각 현장 행사는 진행하지 않습니다.'\n",
      " '2020년 제야의 종 온라인 타종행사 | 2021년 새해맞이 | 보신각 현장 행사는 진행하지 않습니다.'\n",
      " '[4K][ENG Sub] BTS - With Seoul, 전지적서울시점 시즌3 하이라이트 모음'\n",
      " '[법륜스님의 즉문즉설 제 1670회] 남편과 함께 있을 때 가슴이 답답하고 머리가 멍합니다'\n",
      " '🥦팥시루떡[Adzuki Bean Rice Cake]💛밥솥을 이용해 밥하듯 쉽게해요💛칼밥상#183'\n",
      " '[Eng sub] 🥦팥시루떡[Adzuki Bean Rice Cake]💛밥솥을 이용해 밥하듯 쉽게해요💛칼밥상#183'\n",
      " '(고화질) 보너스편!! 실제상황 1인칭 경찰 시점, 응급환자 이송중인 구급차 길을 뚫어주는 싸이카 교통경찰과 시민들'\n",
      " '[법륜스님의 즉문즉설 제 1706회] 저는 한이 많이 쌓여있어요'\n",
      " '방탄소년단 - 지속가능발전목표 (SDGs) 모멘트(moment) -  | 유엔'\n",
      " 'BTS Shine Spotlight on the United Nations as Envoys of the President of the Republic of Korea'\n",
      " 'BTS (방탄소년단) at Global Citizen Live Concert - Permission to Dance | #GlobalCitizenLive'\n",
      " 'Coldplay and BTS Share New Song My Universe | Global Citizen Live'\n",
      " 'BTS Performs Permission to Dance in Seoul to open Global Citizen Live | Global Citizen Live'\n",
      " '리얼먹방:) 로제 떡볶이!(ft. 단무지) | Rose Tteokbokki | Korea tteok | Danmuji Muchim | REAL SOUND | ASMR MUKBANG'\n",
      " '동지팥죽을 여러 번거로운 과정없이 안쳐주기만 하면 알아서 다 해주는 세상쉬운 팥죽끓이기. 칼밥상#267'\n",
      " '[단독영상] 부산 홈플러스 연산점 5층 주차장에서 차량 추락' '충주시 새로운 전문관 영입 (feat. 산체스)'\n",
      " '고등학생 심정지 발생 그리고 숨은 영웅 2탄 살려야한다' '흔한 공무원의 사과즙 먹방' '마감 5분 전' '왜 지우고 가셨어요?'\n",
      " '가능하시죠?' '전한길 x 홍보맨 1편' '전한길 x 홍보맨 2편']\n"
     ]
    }
   ],
   "source": [
    "# 열 ‘category_name’이 결측값인 행의 title 출력해보고 내용 확인하기\n",
    "print(df['title'][df['category_name'].isnull()])\n",
    "print('-'*30)\n",
    "print(df['title'][df['category_name'].isnull()].unique())"
   ]
  },
  {
   "cell_type": "markdown",
   "id": "a0f60580",
   "metadata": {},
   "source": [
    "TV방송 하이라이트 영상이나 공공기관 홍보 영상으로 보이는 제목이 많이 보인다."
   ]
  },
  {
   "cell_type": "markdown",
   "id": "d93b6443",
   "metadata": {},
   "source": [
    "### 열 category_name’에서 결측값을 ‘Nonprofits & Activism’으로 채우기"
   ]
  },
  {
   "cell_type": "code",
   "execution_count": 37,
   "id": "c7797c31",
   "metadata": {},
   "outputs": [],
   "source": [
    "df.category_name.fillna('Nonprofits & Activism', inplace=True)"
   ]
  },
  {
   "cell_type": "code",
   "execution_count": 38,
   "id": "f9cb6e73",
   "metadata": {},
   "outputs": [
    {
     "data": {
      "text/plain": [
       "array(['Entertainment', 'Film & Animation', 'People & Blogs', 'Music',\n",
       "       'Comedy', 'Education', 'News & Politics', 'Sports',\n",
       "       'Nonprofits & Activism', 'Gaming', 'Travel & Events',\n",
       "       'Pets & Animals', 'Science & Technology', 'Howto & Style',\n",
       "       'Autos & Vehicles'], dtype=object)"
      ]
     },
     "execution_count": 38,
     "metadata": {},
     "output_type": "execute_result"
    }
   ],
   "source": [
    "# 카테고리 이름 확인하기\n",
    "df.category_name.unique()"
   ]
  },
  {
   "cell_type": "code",
   "execution_count": 39,
   "id": "dffeda78",
   "metadata": {},
   "outputs": [
    {
     "data": {
      "text/plain": [
       "False"
      ]
     },
     "execution_count": 39,
     "metadata": {},
     "output_type": "execute_result"
    }
   ],
   "source": [
    "# 결측값 없음 확인하기\n",
    "df.category_name.isna().any()"
   ]
  },
  {
   "cell_type": "code",
   "execution_count": 40,
   "id": "86404eb9",
   "metadata": {},
   "outputs": [],
   "source": [
    "df.to_csv('C:/Users/김지희/DSL/dataset/youtube_0716_지희.csv',sep=',')"
   ]
  },
  {
   "cell_type": "markdown",
   "id": "8c407ba8",
   "metadata": {},
   "source": [
    "-----------------------\n",
    "필수 제출 내용 완료  "
   ]
  },
  {
   "cell_type": "markdown",
   "id": "05231a3a",
   "metadata": {},
   "source": [
    "# 추가 분석 내용"
   ]
  },
  {
   "cell_type": "code",
   "execution_count": 41,
   "id": "94273437",
   "metadata": {},
   "outputs": [
    {
     "data": {
      "text/html": [
       "<div>\n",
       "<style scoped>\n",
       "    .dataframe tbody tr th:only-of-type {\n",
       "        vertical-align: middle;\n",
       "    }\n",
       "\n",
       "    .dataframe tbody tr th {\n",
       "        vertical-align: top;\n",
       "    }\n",
       "\n",
       "    .dataframe thead th {\n",
       "        text-align: right;\n",
       "    }\n",
       "</style>\n",
       "<table border=\"1\" class=\"dataframe\">\n",
       "  <thead>\n",
       "    <tr style=\"text-align: right;\">\n",
       "      <th></th>\n",
       "      <th>categoryId</th>\n",
       "      <th>view_count</th>\n",
       "      <th>likes</th>\n",
       "      <th>dislikes</th>\n",
       "      <th>comment_count</th>\n",
       "    </tr>\n",
       "  </thead>\n",
       "  <tbody>\n",
       "    <tr>\n",
       "      <th>count</th>\n",
       "      <td>137554.000000</td>\n",
       "      <td>1.375540e+05</td>\n",
       "      <td>1.375540e+05</td>\n",
       "      <td>137554.000000</td>\n",
       "      <td>1.375540e+05</td>\n",
       "    </tr>\n",
       "    <tr>\n",
       "      <th>mean</th>\n",
       "      <td>20.426843</td>\n",
       "      <td>1.618720e+06</td>\n",
       "      <td>7.406458e+04</td>\n",
       "      <td>870.091957</td>\n",
       "      <td>8.841621e+03</td>\n",
       "    </tr>\n",
       "    <tr>\n",
       "      <th>std</th>\n",
       "      <td>6.267271</td>\n",
       "      <td>6.166372e+06</td>\n",
       "      <td>4.292023e+05</td>\n",
       "      <td>9655.556540</td>\n",
       "      <td>1.125411e+05</td>\n",
       "    </tr>\n",
       "    <tr>\n",
       "      <th>min</th>\n",
       "      <td>1.000000</td>\n",
       "      <td>0.000000e+00</td>\n",
       "      <td>0.000000e+00</td>\n",
       "      <td>0.000000</td>\n",
       "      <td>0.000000e+00</td>\n",
       "    </tr>\n",
       "    <tr>\n",
       "      <th>25%</th>\n",
       "      <td>19.000000</td>\n",
       "      <td>3.356400e+05</td>\n",
       "      <td>5.743000e+03</td>\n",
       "      <td>0.000000</td>\n",
       "      <td>5.470000e+02</td>\n",
       "    </tr>\n",
       "    <tr>\n",
       "      <th>50%</th>\n",
       "      <td>23.000000</td>\n",
       "      <td>6.521940e+05</td>\n",
       "      <td>1.157800e+04</td>\n",
       "      <td>129.000000</td>\n",
       "      <td>1.215000e+03</td>\n",
       "    </tr>\n",
       "    <tr>\n",
       "      <th>75%</th>\n",
       "      <td>24.000000</td>\n",
       "      <td>1.307116e+06</td>\n",
       "      <td>2.634875e+04</td>\n",
       "      <td>350.000000</td>\n",
       "      <td>2.870000e+03</td>\n",
       "    </tr>\n",
       "    <tr>\n",
       "      <th>max</th>\n",
       "      <td>29.000000</td>\n",
       "      <td>2.963142e+08</td>\n",
       "      <td>1.646425e+07</td>\n",
       "      <td>879358.000000</td>\n",
       "      <td>6.939302e+06</td>\n",
       "    </tr>\n",
       "  </tbody>\n",
       "</table>\n",
       "</div>"
      ],
      "text/plain": [
       "          categoryId    view_count         likes       dislikes  comment_count\n",
       "count  137554.000000  1.375540e+05  1.375540e+05  137554.000000   1.375540e+05\n",
       "mean       20.426843  1.618720e+06  7.406458e+04     870.091957   8.841621e+03\n",
       "std         6.267271  6.166372e+06  4.292023e+05    9655.556540   1.125411e+05\n",
       "min         1.000000  0.000000e+00  0.000000e+00       0.000000   0.000000e+00\n",
       "25%        19.000000  3.356400e+05  5.743000e+03       0.000000   5.470000e+02\n",
       "50%        23.000000  6.521940e+05  1.157800e+04     129.000000   1.215000e+03\n",
       "75%        24.000000  1.307116e+06  2.634875e+04     350.000000   2.870000e+03\n",
       "max        29.000000  2.963142e+08  1.646425e+07  879358.000000   6.939302e+06"
      ]
     },
     "execution_count": 41,
     "metadata": {},
     "output_type": "execute_result"
    }
   ],
   "source": [
    "df.describe()"
   ]
  },
  {
   "cell_type": "markdown",
   "id": "9d1bcd95",
   "metadata": {},
   "source": [
    "아무래도 유튜브 트렌딩 데이터셋이어서 "
   ]
  },
  {
   "cell_type": "code",
   "execution_count": 42,
   "id": "01168a29",
   "metadata": {},
   "outputs": [
    {
     "name": "stdout",
     "output_type": "stream",
     "text": [
      "<class 'pandas.core.frame.DataFrame'>\n",
      "Int64Index: 137554 entries, 0 to 137553\n",
      "Data columns (total 16 columns):\n",
      " #   Column             Non-Null Count   Dtype         \n",
      "---  ------             --------------   -----         \n",
      " 0   video_id           137554 non-null  object        \n",
      " 1   title              137554 non-null  object        \n",
      " 2   publishedAt        137554 non-null  datetime64[ns]\n",
      " 3   channelId          137554 non-null  object        \n",
      " 4   channelTitle       137554 non-null  object        \n",
      " 5   categoryId         137554 non-null  int64         \n",
      " 6   trending_date      137554 non-null  datetime64[ns]\n",
      " 7   tags               137554 non-null  object        \n",
      " 8   view_count         137554 non-null  int64         \n",
      " 9   likes              137554 non-null  int64         \n",
      " 10  dislikes           137554 non-null  int64         \n",
      " 11  comment_count      137554 non-null  int64         \n",
      " 12  comments_disabled  137554 non-null  bool          \n",
      " 13  ratings_disabled   137554 non-null  bool          \n",
      " 14  description        134011 non-null  object        \n",
      " 15  category_name      137554 non-null  object        \n",
      "dtypes: bool(2), datetime64[ns](2), int64(5), object(7)\n",
      "memory usage: 16.0+ MB\n"
     ]
    }
   ],
   "source": [
    "df.info()"
   ]
  },
  {
   "cell_type": "code",
   "execution_count": 43,
   "id": "d3602502",
   "metadata": {},
   "outputs": [
    {
     "data": {
      "text/plain": [
       "video_id                                                   gNfxYzW-wME\n",
       "title                      Hello 2021 Korea | 크리에이터와 함께하는 Goodbye 2020\n",
       "publishedAt                                        2020-12-31 14:00:10\n",
       "channelId                                     UCOH52Yqq4-rdLvpt2Unsqsw\n",
       "channelTitle                                             YouTube Korea\n",
       "categoryId                                                          24\n",
       "trending_date                                      2021-01-01 00:00:00\n",
       "tags                 YouTube Originals|YouTube|Hello 2021 Korea|ful...\n",
       "view_count                                                           0\n",
       "likes                                                             2052\n",
       "dislikes                                                            63\n",
       "comment_count                                                      627\n",
       "comments_disabled                                                False\n",
       "ratings_disabled                                                 False\n",
       "description          유례 없는 한 해를 함께해준 크리에이터 및 아티스트를 만나보는 유튜브 오리지널의 신...\n",
       "category_name                                            Entertainment\n",
       "Name: 24599, dtype: object"
      ]
     },
     "execution_count": 43,
     "metadata": {},
     "output_type": "execute_result"
    }
   ],
   "source": [
    "# trend dataset임에도 불구하고, 조회수가 0개로 나와있어서, 측정이 잘못된 것인지 확인해보려고 함.\n",
    "df.iloc[df['view_count'].idxmin()]"
   ]
  },
  {
   "cell_type": "markdown",
   "id": "7f4ba4d9",
   "metadata": {},
   "source": [
    "좋아요도 좀 달리고, 댓글도 달린 것에 비해 조회수가 한개도 없는 것으로 나왔다. 이상하다.."
   ]
  },
  {
   "cell_type": "code",
   "execution_count": 44,
   "id": "aa24b30b",
   "metadata": {},
   "outputs": [
    {
     "data": {
      "text/plain": [
       "video_id                                                   WMweEpGlu_U\n",
       "title                                 BTS (방탄소년단) 'Butter' Official MV\n",
       "publishedAt                                        2021-05-21 03:46:13\n",
       "channelId                                     UC3IZKseVpdzPSBaWxBxundA\n",
       "channelTitle                                               HYBE LABELS\n",
       "categoryId                                                          10\n",
       "trending_date                                      2021-06-04 00:00:00\n",
       "tags                                   BIGHIT|빅히트|방탄소년단|BTS|BANGTAN|방탄\n",
       "view_count                                                   296314174\n",
       "likes                                                         16464253\n",
       "dislikes                                                        181350\n",
       "comment_count                                                  6939302\n",
       "comments_disabled                                                False\n",
       "ratings_disabled                                                 False\n",
       "description          BTS (방탄소년단) 'Butter' Official MV Credits: Dire...\n",
       "category_name                                                    Music\n",
       "Name: 55138, dtype: object"
      ]
     },
     "execution_count": 44,
     "metadata": {},
     "output_type": "execute_result"
    }
   ],
   "source": [
    "# 최고 조회수 영상\n",
    "df.iloc[df['view_count'].idxmax()]"
   ]
  },
  {
   "cell_type": "code",
   "execution_count": 47,
   "id": "1879c0b5",
   "metadata": {},
   "outputs": [
    {
     "data": {
      "text/plain": [
       "video_id                                                   vRXZj0DzXIA\n",
       "title                  BLACKPINK - 'Ice Cream (with Selena Gomez)' M/V\n",
       "publishedAt                                        2020-08-28 04:00:11\n",
       "channelId                                     UCOmHUn--16B90oW2L6FRR3A\n",
       "channelTitle                                                 BLACKPINK\n",
       "categoryId                                                          10\n",
       "trending_date                                      2020-09-05 00:00:00\n",
       "tags                 YG Entertainment|YG|와이지|K-pop|BLACKPINK|블랙핑크|블...\n",
       "view_count                                                   184778248\n",
       "likes                                                         11795696\n",
       "dislikes                                                        879358\n",
       "comment_count                                                  2735999\n",
       "comments_disabled                                                False\n",
       "ratings_disabled                                                 False\n",
       "description          BLACKPINK - ‘Ice Cream (with Selena Gomez)’Com...\n",
       "category_name                                                    Music\n",
       "Name: 3426, dtype: object"
      ]
     },
     "execution_count": 47,
     "metadata": {},
     "output_type": "execute_result"
    }
   ],
   "source": [
    "df.iloc[df['dislikes'].idxmax()]"
   ]
  },
  {
   "cell_type": "code",
   "execution_count": 48,
   "id": "caef23bf",
   "metadata": {},
   "outputs": [
    {
     "ename": "SyntaxError",
     "evalue": "invalid character in identifier (2891516615.py, line 2)",
     "output_type": "error",
     "traceback": [
      "\u001b[1;36m  File \u001b[1;32m\"C:\\Temp\\ipykernel_30624\\2891516615.py\"\u001b[1;36m, line \u001b[1;32m2\u001b[0m\n\u001b[1;33m    y='biew_count',\u001b[0m\n\u001b[1;37m    ^\u001b[0m\n\u001b[1;31mSyntaxError\u001b[0m\u001b[1;31m:\u001b[0m invalid character in identifier\n"
     ]
    }
   ],
   "source": [
    "df.plot.scatter(x='dislikes'.\n",
    "                  y='biew_count', \n",
    "                  s=50, # marker size\n",
    "                  c='blue', \n",
    "                  alpha=0.5)\n",
    "plt.title('Scatter Plot of iris by pandas', fontsize=20)\n",
    "plt.xlabel('Petal Length', fontsize=14)\n",
    "plt.ylabel('Petal Width', fontsize=14)\n",
    "plt.show()"
   ]
  },
  {
   "cell_type": "code",
   "execution_count": 51,
   "id": "340134ca",
   "metadata": {},
   "outputs": [
    {
     "ename": "KeyError",
     "evalue": "False",
     "output_type": "error",
     "traceback": [
      "\u001b[1;31m---------------------------------------------------------------------------\u001b[0m",
      "\u001b[1;31mKeyError\u001b[0m                                  Traceback (most recent call last)",
      "\u001b[1;32mC:\\ProgramData\\Anaconda3\\envs\\dsl_init\\lib\\site-packages\\pandas\\core\\indexes\\base.py\u001b[0m in \u001b[0;36mget_loc\u001b[1;34m(self, key, method, tolerance)\u001b[0m\n\u001b[0;32m   3360\u001b[0m             \u001b[1;32mtry\u001b[0m\u001b[1;33m:\u001b[0m\u001b[1;33m\u001b[0m\u001b[1;33m\u001b[0m\u001b[0m\n\u001b[1;32m-> 3361\u001b[1;33m                 \u001b[1;32mreturn\u001b[0m \u001b[0mself\u001b[0m\u001b[1;33m.\u001b[0m\u001b[0m_engine\u001b[0m\u001b[1;33m.\u001b[0m\u001b[0mget_loc\u001b[0m\u001b[1;33m(\u001b[0m\u001b[0mcasted_key\u001b[0m\u001b[1;33m)\u001b[0m\u001b[1;33m\u001b[0m\u001b[1;33m\u001b[0m\u001b[0m\n\u001b[0m\u001b[0;32m   3362\u001b[0m             \u001b[1;32mexcept\u001b[0m \u001b[0mKeyError\u001b[0m \u001b[1;32mas\u001b[0m \u001b[0merr\u001b[0m\u001b[1;33m:\u001b[0m\u001b[1;33m\u001b[0m\u001b[1;33m\u001b[0m\u001b[0m\n",
      "\u001b[1;32mC:\\ProgramData\\Anaconda3\\envs\\dsl_init\\lib\\site-packages\\pandas\\_libs\\index.pyx\u001b[0m in \u001b[0;36mpandas._libs.index.IndexEngine.get_loc\u001b[1;34m()\u001b[0m\n",
      "\u001b[1;32mC:\\ProgramData\\Anaconda3\\envs\\dsl_init\\lib\\site-packages\\pandas\\_libs\\index.pyx\u001b[0m in \u001b[0;36mpandas._libs.index.IndexEngine.get_loc\u001b[1;34m()\u001b[0m\n",
      "\u001b[1;32mpandas\\_libs\\hashtable_class_helper.pxi\u001b[0m in \u001b[0;36mpandas._libs.hashtable.PyObjectHashTable.get_item\u001b[1;34m()\u001b[0m\n",
      "\u001b[1;32mpandas\\_libs\\hashtable_class_helper.pxi\u001b[0m in \u001b[0;36mpandas._libs.hashtable.PyObjectHashTable.get_item\u001b[1;34m()\u001b[0m\n",
      "\u001b[1;31mKeyError\u001b[0m: False",
      "\nThe above exception was the direct cause of the following exception:\n",
      "\u001b[1;31mKeyError\u001b[0m                                  Traceback (most recent call last)",
      "\u001b[1;32mC:\\Temp\\ipykernel_30624\\481384559.py\u001b[0m in \u001b[0;36m<module>\u001b[1;34m\u001b[0m\n\u001b[1;32m----> 1\u001b[1;33m \u001b[0mprint\u001b[0m\u001b[1;33m(\u001b[0m\u001b[0mdf\u001b[0m\u001b[1;33m[\u001b[0m\u001b[1;34m'trending_date'\u001b[0m\u001b[1;33m==\u001b[0m\u001b[1;34m'2021-05-24'\u001b[0m\u001b[1;33m]\u001b[0m\u001b[1;33m.\u001b[0m\u001b[0mvalue_counts\u001b[0m\u001b[1;33m(\u001b[0m\u001b[1;33m)\u001b[0m\u001b[1;33m.\u001b[0m\u001b[0mhead\u001b[0m\u001b[1;33m(\u001b[0m\u001b[1;36m40\u001b[0m\u001b[1;33m)\u001b[0m\u001b[1;33m)\u001b[0m\u001b[1;33m\u001b[0m\u001b[1;33m\u001b[0m\u001b[0m\n\u001b[0m",
      "\u001b[1;32mC:\\ProgramData\\Anaconda3\\envs\\dsl_init\\lib\\site-packages\\pandas\\core\\frame.py\u001b[0m in \u001b[0;36m__getitem__\u001b[1;34m(self, key)\u001b[0m\n\u001b[0;32m   3456\u001b[0m             \u001b[1;32mif\u001b[0m \u001b[0mself\u001b[0m\u001b[1;33m.\u001b[0m\u001b[0mcolumns\u001b[0m\u001b[1;33m.\u001b[0m\u001b[0mnlevels\u001b[0m \u001b[1;33m>\u001b[0m \u001b[1;36m1\u001b[0m\u001b[1;33m:\u001b[0m\u001b[1;33m\u001b[0m\u001b[1;33m\u001b[0m\u001b[0m\n\u001b[0;32m   3457\u001b[0m                 \u001b[1;32mreturn\u001b[0m \u001b[0mself\u001b[0m\u001b[1;33m.\u001b[0m\u001b[0m_getitem_multilevel\u001b[0m\u001b[1;33m(\u001b[0m\u001b[0mkey\u001b[0m\u001b[1;33m)\u001b[0m\u001b[1;33m\u001b[0m\u001b[1;33m\u001b[0m\u001b[0m\n\u001b[1;32m-> 3458\u001b[1;33m             \u001b[0mindexer\u001b[0m \u001b[1;33m=\u001b[0m \u001b[0mself\u001b[0m\u001b[1;33m.\u001b[0m\u001b[0mcolumns\u001b[0m\u001b[1;33m.\u001b[0m\u001b[0mget_loc\u001b[0m\u001b[1;33m(\u001b[0m\u001b[0mkey\u001b[0m\u001b[1;33m)\u001b[0m\u001b[1;33m\u001b[0m\u001b[1;33m\u001b[0m\u001b[0m\n\u001b[0m\u001b[0;32m   3459\u001b[0m             \u001b[1;32mif\u001b[0m \u001b[0mis_integer\u001b[0m\u001b[1;33m(\u001b[0m\u001b[0mindexer\u001b[0m\u001b[1;33m)\u001b[0m\u001b[1;33m:\u001b[0m\u001b[1;33m\u001b[0m\u001b[1;33m\u001b[0m\u001b[0m\n\u001b[0;32m   3460\u001b[0m                 \u001b[0mindexer\u001b[0m \u001b[1;33m=\u001b[0m \u001b[1;33m[\u001b[0m\u001b[0mindexer\u001b[0m\u001b[1;33m]\u001b[0m\u001b[1;33m\u001b[0m\u001b[1;33m\u001b[0m\u001b[0m\n",
      "\u001b[1;32mC:\\ProgramData\\Anaconda3\\envs\\dsl_init\\lib\\site-packages\\pandas\\core\\indexes\\base.py\u001b[0m in \u001b[0;36mget_loc\u001b[1;34m(self, key, method, tolerance)\u001b[0m\n\u001b[0;32m   3361\u001b[0m                 \u001b[1;32mreturn\u001b[0m \u001b[0mself\u001b[0m\u001b[1;33m.\u001b[0m\u001b[0m_engine\u001b[0m\u001b[1;33m.\u001b[0m\u001b[0mget_loc\u001b[0m\u001b[1;33m(\u001b[0m\u001b[0mcasted_key\u001b[0m\u001b[1;33m)\u001b[0m\u001b[1;33m\u001b[0m\u001b[1;33m\u001b[0m\u001b[0m\n\u001b[0;32m   3362\u001b[0m             \u001b[1;32mexcept\u001b[0m \u001b[0mKeyError\u001b[0m \u001b[1;32mas\u001b[0m \u001b[0merr\u001b[0m\u001b[1;33m:\u001b[0m\u001b[1;33m\u001b[0m\u001b[1;33m\u001b[0m\u001b[0m\n\u001b[1;32m-> 3363\u001b[1;33m                 \u001b[1;32mraise\u001b[0m \u001b[0mKeyError\u001b[0m\u001b[1;33m(\u001b[0m\u001b[0mkey\u001b[0m\u001b[1;33m)\u001b[0m \u001b[1;32mfrom\u001b[0m \u001b[0merr\u001b[0m\u001b[1;33m\u001b[0m\u001b[1;33m\u001b[0m\u001b[0m\n\u001b[0m\u001b[0;32m   3364\u001b[0m \u001b[1;33m\u001b[0m\u001b[0m\n\u001b[0;32m   3365\u001b[0m         \u001b[1;32mif\u001b[0m \u001b[0mis_scalar\u001b[0m\u001b[1;33m(\u001b[0m\u001b[0mkey\u001b[0m\u001b[1;33m)\u001b[0m \u001b[1;32mand\u001b[0m \u001b[0misna\u001b[0m\u001b[1;33m(\u001b[0m\u001b[0mkey\u001b[0m\u001b[1;33m)\u001b[0m \u001b[1;32mand\u001b[0m \u001b[1;32mnot\u001b[0m \u001b[0mself\u001b[0m\u001b[1;33m.\u001b[0m\u001b[0mhasnans\u001b[0m\u001b[1;33m:\u001b[0m\u001b[1;33m\u001b[0m\u001b[1;33m\u001b[0m\u001b[0m\n",
      "\u001b[1;31mKeyError\u001b[0m: False"
     ]
    }
   ],
   "source": [
    "print(df['trending_date'].value_counts().head(40))"
   ]
  },
  {
   "cell_type": "code",
   "execution_count": 67,
   "id": "182fcbba",
   "metadata": {},
   "outputs": [
    {
     "name": "stdout",
     "output_type": "stream",
     "text": [
      "짤툰                         792\n",
      "파뿌리                        715\n",
      "SPOTV                      690\n",
      "총몇명                        684\n",
      "BANGTANTV                  648\n",
      "                          ... \n",
      "LOTTEChemical Official       1\n",
      "초아시티                         1\n",
      "대륙남TV [clark tv]             1\n",
      "다키포스트DAKI POST               1\n",
      "東映アニメーション公式YouTubeチャンネル      1\n",
      "Name: channelTitle, Length: 3039, dtype: int64\n"
     ]
    }
   ],
   "source": [
    "\n",
    "print(df['channelTitle'].value_counts())"
   ]
  },
  {
   "cell_type": "code",
   "execution_count": 79,
   "id": "af3be19f",
   "metadata": {},
   "outputs": [
    {
     "ename": "TypeError",
     "evalue": "'in <string>' requires string as left operand, not Series",
     "output_type": "error",
     "traceback": [
      "\u001b[1;31m---------------------------------------------------------------------------\u001b[0m",
      "\u001b[1;31mTypeError\u001b[0m                                 Traceback (most recent call last)",
      "\u001b[1;32mC:\\Temp\\ipykernel_11276\\2759558296.py\u001b[0m in \u001b[0;36m<module>\u001b[1;34m\u001b[0m\n\u001b[1;32m----> 1\u001b[1;33m \u001b[0mdf\u001b[0m\u001b[1;33m[\u001b[0m\u001b[0mdf\u001b[0m\u001b[1;33m[\u001b[0m\u001b[1;34m'title'\u001b[0m\u001b[1;33m]\u001b[0m \u001b[1;32min\u001b[0m \u001b[1;34m'Butter'\u001b[0m\u001b[1;33m]\u001b[0m\u001b[1;33m\u001b[0m\u001b[1;33m\u001b[0m\u001b[0m\n\u001b[0m",
      "\u001b[1;31mTypeError\u001b[0m: 'in <string>' requires string as left operand, not Series"
     ]
    }
   ],
   "source": [
    "df[df['title'] in 'Butter']"
   ]
  },
  {
   "cell_type": "code",
   "execution_count": 53,
   "id": "f01f0a7f",
   "metadata": {},
   "outputs": [
    {
     "ename": "ValueError",
     "evalue": "expr must be a string to be evaluated, <class 'bool'> given",
     "output_type": "error",
     "traceback": [
      "\u001b[1;31m---------------------------------------------------------------------------\u001b[0m",
      "\u001b[1;31mValueError\u001b[0m                                Traceback (most recent call last)",
      "\u001b[1;32mC:\\Temp\\ipykernel_30624\\1954831316.py\u001b[0m in \u001b[0;36m<module>\u001b[1;34m\u001b[0m\n\u001b[1;32m----> 1\u001b[1;33m \u001b[0mdf\u001b[0m\u001b[1;33m.\u001b[0m\u001b[0mquery\u001b[0m\u001b[1;33m(\u001b[0m\u001b[1;34m'trending_date'\u001b[0m\u001b[1;33m==\u001b[0m\u001b[1;34m'2021-05-24'\u001b[0m\u001b[1;33m)\u001b[0m\u001b[1;33m[\u001b[0m\u001b[1;34m'category_name'\u001b[0m\u001b[1;33m]\u001b[0m\u001b[1;33m\u001b[0m\u001b[1;33m\u001b[0m\u001b[0m\n\u001b[0m",
      "\u001b[1;32mC:\\ProgramData\\Anaconda3\\envs\\dsl_init\\lib\\site-packages\\pandas\\core\\frame.py\u001b[0m in \u001b[0;36mquery\u001b[1;34m(self, expr, inplace, **kwargs)\u001b[0m\n\u001b[0;32m   4055\u001b[0m         \u001b[1;32mif\u001b[0m \u001b[1;32mnot\u001b[0m \u001b[0misinstance\u001b[0m\u001b[1;33m(\u001b[0m\u001b[0mexpr\u001b[0m\u001b[1;33m,\u001b[0m \u001b[0mstr\u001b[0m\u001b[1;33m)\u001b[0m\u001b[1;33m:\u001b[0m\u001b[1;33m\u001b[0m\u001b[1;33m\u001b[0m\u001b[0m\n\u001b[0;32m   4056\u001b[0m             \u001b[0mmsg\u001b[0m \u001b[1;33m=\u001b[0m \u001b[1;34mf\"expr must be a string to be evaluated, {type(expr)} given\"\u001b[0m\u001b[1;33m\u001b[0m\u001b[1;33m\u001b[0m\u001b[0m\n\u001b[1;32m-> 4057\u001b[1;33m             \u001b[1;32mraise\u001b[0m \u001b[0mValueError\u001b[0m\u001b[1;33m(\u001b[0m\u001b[0mmsg\u001b[0m\u001b[1;33m)\u001b[0m\u001b[1;33m\u001b[0m\u001b[1;33m\u001b[0m\u001b[0m\n\u001b[0m\u001b[0;32m   4058\u001b[0m         \u001b[0mkwargs\u001b[0m\u001b[1;33m[\u001b[0m\u001b[1;34m\"level\"\u001b[0m\u001b[1;33m]\u001b[0m \u001b[1;33m=\u001b[0m \u001b[0mkwargs\u001b[0m\u001b[1;33m.\u001b[0m\u001b[0mpop\u001b[0m\u001b[1;33m(\u001b[0m\u001b[1;34m\"level\"\u001b[0m\u001b[1;33m,\u001b[0m \u001b[1;36m0\u001b[0m\u001b[1;33m)\u001b[0m \u001b[1;33m+\u001b[0m \u001b[1;36m1\u001b[0m\u001b[1;33m\u001b[0m\u001b[1;33m\u001b[0m\u001b[0m\n\u001b[0;32m   4059\u001b[0m         \u001b[0mkwargs\u001b[0m\u001b[1;33m[\u001b[0m\u001b[1;34m\"target\"\u001b[0m\u001b[1;33m]\u001b[0m \u001b[1;33m=\u001b[0m \u001b[1;32mNone\u001b[0m\u001b[1;33m\u001b[0m\u001b[1;33m\u001b[0m\u001b[0m\n",
      "\u001b[1;31mValueError\u001b[0m: expr must be a string to be evaluated, <class 'bool'> given"
     ]
    }
   ],
   "source": [
    "df.query('trending_date'=='2021-05-24')['category_name']"
   ]
  },
  {
   "cell_type": "code",
   "execution_count": null,
   "id": "98290444",
   "metadata": {},
   "outputs": [],
   "source": []
  }
 ],
 "metadata": {
  "kernelspec": {
   "display_name": "DSL",
   "language": "python",
   "name": "dsl_init"
  },
  "language_info": {
   "codemirror_mode": {
    "name": "ipython",
    "version": 3
   },
   "file_extension": ".py",
   "mimetype": "text/x-python",
   "name": "python",
   "nbconvert_exporter": "python",
   "pygments_lexer": "ipython3",
   "version": "3.7.13"
  },
  "toc": {
   "base_numbering": 1,
   "nav_menu": {},
   "number_sections": true,
   "sideBar": true,
   "skip_h1_title": false,
   "title_cell": "Table of Contents",
   "title_sidebar": "Contents",
   "toc_cell": false,
   "toc_position": {},
   "toc_section_display": true,
   "toc_window_display": false
  }
 },
 "nbformat": 4,
 "nbformat_minor": 5
}
