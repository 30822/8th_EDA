{
 "cells": [
  {
   "cell_type": "code",
   "execution_count": 1,
   "metadata": {
    "id": "ydymRT5WXfE2"
   },
   "outputs": [],
   "source": [
    "# 패키지 불러오기\n",
    "import numpy as np\n",
    "import pandas as pd\n",
    "import matplotlib as mpl\n",
    "import matplotlib.pyplot as plt\n",
    "import seaborn as sns\n",
    "import datetime\n",
    "import matplotlib.font_manager as fm"
   ]
  },
  {
   "cell_type": "code",
   "execution_count": 3,
   "metadata": {
    "id": "1THHMttZXlTK"
   },
   "outputs": [],
   "source": [
    "# 주피터 노트북 사용시 노트북 내부에 그림을 표시하도록 지정\n",
    "%matplotlib inline"
   ]
  },
  {
   "cell_type": "code",
   "execution_count": 5,
   "metadata": {
    "id": "W36TjQryXqkh"
   },
   "outputs": [],
   "source": [
    "# 트렌드 영상에 오른 채널들 모든 영상 크롤링 데이터\n",
    "total = pd.read_csv('C:/Users/김지희/DSL/dataset/channel_total.csv', lineterminator='\\n')\n",
    "trend_period = pd.read_csv('C:/Users/김지희/DSL/dataset/youtube_0723.csv', lineterminator='\\n')\n",
    "# 원래 데이터에서 모든 전처리가 완료된 데이터\n",
    "trend = pd.read_csv('C:/Users/김지희/DSL/dataset/youtube_nodouble.csv', lineterminator='\\n')\n",
    "trend_unique = pd.read_csv('C:/Users/김지희/DSL/dataset/youtube_nodouble_unique.csv', lineterminator='\\n')"
   ]
  },
  {
   "cell_type": "code",
   "execution_count": 6,
   "metadata": {
    "id": "FuMRvxYzujx1"
   },
   "outputs": [
    {
     "name": "stdout",
     "output_type": "stream",
     "text": [
      "NanumBarunGothic\n"
     ]
    }
   ],
   "source": [
    "# 나눔 바른 고딕 폰트 불러오기\n",
    "import matplotlib.font_manager as fm\n",
    "path = 'C:\\\\Windows\\\\Fonts\\\\NanumBarunGothic.ttf'  # 설치된 나눔글꼴중 원하는 녀석의 전체 경로를 가져오자\n",
    "font_name = fm.FontProperties(fname=path, size=10).get_name()\n",
    "print(font_name)\n",
    "plt.rc('font', family=font_name)"
   ]
  },
  {
   "cell_type": "code",
   "execution_count": 8,
   "metadata": {
    "id": "SGPCwFjqeFZX"
   },
   "outputs": [
    {
     "name": "stdout",
     "output_type": "stream",
     "text": [
      "16928\n",
      "11885\n"
     ]
    }
   ],
   "source": [
    "# 기존데이터에서 모자랐던 정보들을 크롤링데이터에서 불러와 병합하기\n",
    "\n",
    "trend_plus = pd.merge(trend_unique, total[['video_id', 'minute_time', 'seconds_time', 'totalview', 'subscriber']], left_on = 'video_id', right_on = 'video_id', how = 'left')\n",
    "\n",
    "print(len(trend_plus['minute_time']))\n",
    "print(trend_plus['minute_time'].isnull().sum())"
   ]
  },
  {
   "cell_type": "markdown",
   "metadata": {
    "id": "uFpnVEYk2nN0"
   },
   "source": [
    "# 채널별로 동영상을 올리는 간격의 분포 확인"
   ]
  },
  {
   "cell_type": "code",
   "execution_count": 18,
   "metadata": {
    "id": "1w-4MCtmDtD5"
   },
   "outputs": [
    {
     "data": {
      "text/plain": [
       "array(['10일 전', '8개월 전', '9개월 전', '10개월 전', '11개월 전', '1년 전', '6일 전',\n",
       "       '13일 전', '2주 전', '1개월 전', '2개월 전', '3개월 전', '4개월 전', '5개월 전',\n",
       "       '6개월 전', '7개월 전', '1일 전', '4일 전', '3주 전', '3일 전', '9일 전',\n",
       "       '스트리밍 시간: 9개월 전', '20시간 전', '7일 전', '8일 전', '11일 전', '4주 전',\n",
       "       '2일 전', '2년 전', '22시간 전', '12일 전', '29분 전', '5일 전', '8시간 전',\n",
       "       '스트리밍 시간: 3개월 전', '스트리밍 시간: 4개월 전', '1시간 전', '4시간 전',\n",
       "       '스트리밍 시간: 6일 전', '스트리밍 시간: 2주 전', '스트리밍 시간: 1개월 전',\n",
       "       '스트리밍 시간: 2개월 전', '스트리밍 시간: 3일 전', '스트리밍 시간: 8일 전',\n",
       "       '스트리밍 시간: 11일 전', '스트리밍 시간: 3주 전', '스트리밍 시간: 5개월 전',\n",
       "       '스트리밍 시간: 6개월 전', '스트리밍 시간: 7개월 전', '스트리밍 시간: 9시간 전',\n",
       "       '스트리밍 시간: 1일 전', '스트리밍 시간: 4일 전', '스트리밍 시간: 5일 전', '스트리밍 시간: 7일 전',\n",
       "       '스트리밍 시간: 12일 전', '스트리밍 시간: 13일 전', '스트리밍 시간: 10개월 전', '49분 전',\n",
       "       '18시간 전', '최초 공개일: 22. 7. 26. 19:00', '6시간 전', '스트리밍 시간: 11개월 전',\n",
       "       '스트리밍 시간: 1년 전', '7시간 전', '3년 전', '5시간 전', '스트리밍 시간: 4주 전',\n",
       "       '12시간 전', '스트리밍 시간: 47분 전', '47분 전', '2시간 전', '스트리밍 시간: 4시간 전',\n",
       "       '스트리밍 시간: 7시간 전', '11시간 전', '스트리밍 시간: 2일 전', '스트리밍 시간: 9일 전',\n",
       "       '스트리밍 시간: 10일 전', '23시간 전', '54분 전', '3시간 전', '9시간 전', '52분 전',\n",
       "       '스트리밍 시간: 6시간 전', '55분 전', '19시간 전', '스트리밍 시간: 8개월 전', '10시간 전',\n",
       "       '4년 전', '5년 전', '6년 전', '21시간 전', '스트리밍 시간: 7분 전',\n",
       "       '스트리밍 시간: 19시간 전', '9년 전', '10년 전', '11년 전', '12년 전', '13년 전',\n",
       "       '42분 전', '10분 전', '스트리밍 시간: 1시간 전', '스트리밍 시간: 22시간 전', '36분 전',\n",
       "       '56분 전', '13시간 전', '14시간 전', '15시간 전', '스트리밍 시간: 20시간 전', '1분 전',\n",
       "       '40분 전', '43분 전', '스트리밍 시간: 8시간 전', '스트리밍 시간: 23시간 전', '26분 전',\n",
       "       '53분 전', '스트리밍 시간: 18시간 전', '스트리밍 시간: 46분 전', '스트리밍 시간: 3시간 전',\n",
       "       '스트리밍 시간: 10시간 전', '스트리밍 시간: 21시간 전', '16시간 전', '스트리밍 시간: 2년 전',\n",
       "       '스트리밍 시간: 3년 전', '17분 전', '44분 전', '최초 공개일: 22. 7. 26. 21:00',\n",
       "       '45분 전', '스트리밍 시간: 2시간 전', '6분 전', '7분 전', '스트리밍 시간: 19분 전',\n",
       "       '스트리밍 시간: 43분 전', '34분 전', '19분 전', '최초 공개일: 22. 7. 26. 22:30',\n",
       "       '최초 공개일: 22. 7. 27. 0:00', '12분 전', '59분 전', '32분 전', '48분 전',\n",
       "       '27분 전', '41분 전', '38분 전', '스트리밍 시간: 4년 전', '스트리밍 시간: 42분 전',\n",
       "       '57분 전', '7년 전', '8년 전', '13분 전', '3분 전', '4분 전', '스트리밍 시간: 45분 전',\n",
       "       '50분 전', '최초 공개일: 22. 7. 25. 22:45', '스트리밍 시간: 16시간 전',\n",
       "       '스트리밍 시간: 13시간 전', '23분 전', '17시간 전', '스트리밍 시간: 33분 전',\n",
       "       '최초 공개일: 22. 7. 26. 11:00', '스트리밍 시간: 15시간 전', '11분 전', '16분 전',\n",
       "       '20분 전', '22분 전', '5분 전', '9분 전', '18분 전', '15분 전',\n",
       "       '스트리밍 시간: 12시간 전', '25분 전', '스트리밍 시간: 1분 전', '39분 전',\n",
       "       '스트리밍 시간: 5년 전', '스트리밍 시간: 11시간 전', '최초 공개일: 22. 7. 26. 9:00',\n",
       "       '스트리밍 시간: 5시간 전', '21분 전', '24분 전', '30분 전',\n",
       "       '최초 공개일: 22. 7. 26. 7:00', '54초 전', '28분 전', '스트리밍 시간: 17시간 전',\n",
       "       '58분 전', '최초 공개일: 22. 7. 25. 22:00', '스트리밍 시간: 52분 전', '14분 전',\n",
       "       '스트리밍 시간: 14시간 전', '14년 전', '최초 공개일: 22. 7. 25. 17:00'],\n",
       "      dtype=object)"
      ]
     },
     "execution_count": 18,
     "metadata": {},
     "output_type": "execute_result"
    }
   ],
   "source": [
    "# 전처리 하기 전 'when'의 형식을 확인해보자\n",
    "total['when'].unique()"
   ]
  },
  {
   "cell_type": "code",
   "execution_count": 19,
   "metadata": {
    "id": "uLyoqDQ9Eoab"
   },
   "outputs": [],
   "source": [
    "# when의 형식을 바꾸는 함수 만들기\n",
    "def replace_text(text): \n",
    "    if '초 전' in text:\n",
    "        return int(text.replace('초 전', '')) * 0\n",
    "    if '분 전' in text:\n",
    "        return int(text.replace('분 전', '')) * 0\n",
    "    elif '시간 전' in text:\n",
    "        return int(text.replace('시간 전', '')) * 0\n",
    "    elif '일 전' in text:\n",
    "        return int(text.replace('일 전', ''))\n",
    "    elif '개월 전' in text:\n",
    "        return int(text.replace('개월 전', '')) * 30\n",
    "    elif '년 전' in text:\n",
    "        return int(text.replace('년 전', '')) * 365\n"
   ]
  },
  {
   "cell_type": "code",
   "execution_count": 20,
   "metadata": {
    "id": "LGYFWv5xCoUk"
   },
   "outputs": [],
   "source": [
    "def convert_when(text):\n",
    "    if '최초 공개일' in text:\n",
    "        text = text.replace('최초 공개일: ', '')\n",
    "        text = '20'+text\n",
    "        now = datetime.datetime.now()\n",
    "        text = pd.to_datetime(text)\n",
    "        date_diff = now - text\n",
    "        return date_diff.days\n",
    "    elif '스트리밍 시간' in text:\n",
    "        text = text.replace('스트리밍 시간: ', '')\n",
    "        return replace_text(text)\n",
    "    else:\n",
    "        return replace_text(text)\n",
    "    "
   ]
  },
  {
   "cell_type": "code",
   "execution_count": 21,
   "metadata": {
    "id": "7q282LWSE4nL"
   },
   "outputs": [],
   "source": [
    "# 열에 함수 적용하기\n",
    "total['upload_time'] = total['when'].apply(convert_when)"
   ]
  },
  {
   "cell_type": "markdown",
   "metadata": {},
   "source": [
    "채널별로 기간을 분석을 하기 위해서 채널별로 when 열을 하나의 값으로 합치는 과정이 필요하다. 채택한 방법은 채널별로 when의 max값에서 min값을 빼고, 각 채널에 해당되는 영상수로 빼는 방법이다."
   ]
  },
  {
   "cell_type": "code",
   "execution_count": 23,
   "metadata": {
    "id": "B3wu5suVMWGq"
   },
   "outputs": [
    {
     "name": "stdout",
     "output_type": "stream",
     "text": [
      "                  channelId  upload_time\n",
      "0  UC-0229MiVYnQoUxdLJnFl_g        365.0\n",
      "1  UC-0C8yVGJy-cS4FGlYKelWw         60.0\n",
      "2  UC-0tICWyA0_AJAVMBHL8GdQ        365.0\n",
      "3  UC-2Y8dQb0S6DtpxNgAKoJKA         13.0\n",
      "4  UC-2wa6jvprl7hfCpvw0ULzg        365.0\n",
      "                  channelId  upload_time\n",
      "0  UC-0229MiVYnQoUxdLJnFl_g          6.0\n",
      "1  UC-0C8yVGJy-cS4FGlYKelWw          0.0\n",
      "2  UC-0tICWyA0_AJAVMBHL8GdQ          0.0\n",
      "3  UC-2Y8dQb0S6DtpxNgAKoJKA          0.0\n",
      "4  UC-2wa6jvprl7hfCpvw0ULzg          5.0\n",
      "                  channelId  upload_time\n",
      "0  UC-0229MiVYnQoUxdLJnFl_g           60\n",
      "1  UC-0C8yVGJy-cS4FGlYKelWw           75\n",
      "2  UC-0tICWyA0_AJAVMBHL8GdQ           86\n",
      "3  UC-2Y8dQb0S6DtpxNgAKoJKA           80\n",
      "4  UC-2wa6jvprl7hfCpvw0ULzg           90\n"
     ]
    }
   ],
   "source": [
    "# 채널별로 max, min, count값을 생성하기\n",
    "max_channel = total[['channelId', 'upload_time']].groupby(['channelId'], as_index=False).max()\n",
    "min_channel = total[['channelId', 'upload_time']].groupby(['channelId'], as_index=False).min()\n",
    "count_channel = total[['channelId', 'upload_time']].groupby(['channelId'], as_index=False).count()\n",
    "print(max_channel.head())\n",
    "print(min_channel.head())\n",
    "print(count_channel.head())"
   ]
  },
  {
   "cell_type": "code",
   "execution_count": 24,
   "metadata": {
    "id": "R6yTpo5UHBc1"
   },
   "outputs": [],
   "source": [
    "# 채널에 대한 max, min, upload_count 값을 하나의 dataframe으로 만들기\n",
    "number_frame = pd.merge(max_channel, min_channel, left_on='channelId', right_on='channelId', how='outer')\n",
    "number_frame = pd.merge(number_frame, count_channel, left_on='channelId', right_on='channelId', how='outer')"
   ]
  },
  {
   "cell_type": "code",
   "execution_count": 25,
   "metadata": {
    "id": "-9k_8OQRJX43"
   },
   "outputs": [],
   "source": [
    "number_frame.columns = ['channelId', 'upload_max', 'upload_min','upload_count']"
   ]
  },
  {
   "cell_type": "code",
   "execution_count": 27,
   "metadata": {
    "id": "t11DXy8qJxBX"
   },
   "outputs": [],
   "source": [
    "# 평균 기간에 대한 열을 만들기\n",
    "number_frame['mean_period'] = (number_frame['upload_max'] - number_frame['upload_min'])/number_frame['upload_count']"
   ]
  },
  {
   "cell_type": "code",
   "execution_count": 29,
   "metadata": {
    "id": "bSI1VThIhAqk"
   },
   "outputs": [
    {
     "data": {
      "text/html": [
       "<div>\n",
       "<style scoped>\n",
       "    .dataframe tbody tr th:only-of-type {\n",
       "        vertical-align: middle;\n",
       "    }\n",
       "\n",
       "    .dataframe tbody tr th {\n",
       "        vertical-align: top;\n",
       "    }\n",
       "\n",
       "    .dataframe thead th {\n",
       "        text-align: right;\n",
       "    }\n",
       "</style>\n",
       "<table border=\"1\" class=\"dataframe\">\n",
       "  <thead>\n",
       "    <tr style=\"text-align: right;\">\n",
       "      <th></th>\n",
       "      <th>channelId</th>\n",
       "      <th>upload_max</th>\n",
       "      <th>upload_min</th>\n",
       "      <th>upload_count</th>\n",
       "      <th>mean_period</th>\n",
       "      <th>category_name</th>\n",
       "    </tr>\n",
       "  </thead>\n",
       "  <tbody>\n",
       "    <tr>\n",
       "      <th>0</th>\n",
       "      <td>UCu9BCtGIEr73LXZsKmoujKw</td>\n",
       "      <td>365.0</td>\n",
       "      <td>10.0</td>\n",
       "      <td>60.0</td>\n",
       "      <td>5.916667</td>\n",
       "      <td>Entertainment</td>\n",
       "    </tr>\n",
       "    <tr>\n",
       "      <th>1</th>\n",
       "      <td>UCRuSxVu4iqTK5kCh90ntAgA</td>\n",
       "      <td>365.0</td>\n",
       "      <td>6.0</td>\n",
       "      <td>89.0</td>\n",
       "      <td>4.033708</td>\n",
       "      <td>Film &amp; Animation</td>\n",
       "    </tr>\n",
       "    <tr>\n",
       "      <th>2</th>\n",
       "      <td>UCMVC92EOs9yDJG5JS-CMesQ</td>\n",
       "      <td>150.0</td>\n",
       "      <td>1.0</td>\n",
       "      <td>84.0</td>\n",
       "      <td>1.773810</td>\n",
       "      <td>People &amp; Blogs</td>\n",
       "    </tr>\n",
       "    <tr>\n",
       "      <th>3</th>\n",
       "      <td>UCkQCwnkQfgSuPTTnw_Y7v7w</td>\n",
       "      <td>365.0</td>\n",
       "      <td>3.0</td>\n",
       "      <td>89.0</td>\n",
       "      <td>4.067416</td>\n",
       "      <td>Entertainment</td>\n",
       "    </tr>\n",
       "    <tr>\n",
       "      <th>4</th>\n",
       "      <td>UCaO6TYtlC8U5ttz62hTrZgg</td>\n",
       "      <td>240.0</td>\n",
       "      <td>0.0</td>\n",
       "      <td>80.0</td>\n",
       "      <td>3.000000</td>\n",
       "      <td>Music</td>\n",
       "    </tr>\n",
       "    <tr>\n",
       "      <th>...</th>\n",
       "      <td>...</td>\n",
       "      <td>...</td>\n",
       "      <td>...</td>\n",
       "      <td>...</td>\n",
       "      <td>...</td>\n",
       "      <td>...</td>\n",
       "    </tr>\n",
       "    <tr>\n",
       "      <th>16923</th>\n",
       "      <td>UCw1DsweY9b2AKGjV4kGJP1A</td>\n",
       "      <td>9.0</td>\n",
       "      <td>0.0</td>\n",
       "      <td>90.0</td>\n",
       "      <td>0.100000</td>\n",
       "      <td>Gaming</td>\n",
       "    </tr>\n",
       "    <tr>\n",
       "      <th>16924</th>\n",
       "      <td>UCw1DsweY9b2AKGjV4kGJP1A</td>\n",
       "      <td>9.0</td>\n",
       "      <td>0.0</td>\n",
       "      <td>90.0</td>\n",
       "      <td>0.100000</td>\n",
       "      <td>Gaming</td>\n",
       "    </tr>\n",
       "    <tr>\n",
       "      <th>16925</th>\n",
       "      <td>UCLhgIX2L5ZCaWdlaxR_oTAg</td>\n",
       "      <td>240.0</td>\n",
       "      <td>1.0</td>\n",
       "      <td>82.0</td>\n",
       "      <td>2.914634</td>\n",
       "      <td>Film &amp; Animation</td>\n",
       "    </tr>\n",
       "    <tr>\n",
       "      <th>16926</th>\n",
       "      <td>UCsXigGjbC_l4ttk-oahTfVg</td>\n",
       "      <td>1095.0</td>\n",
       "      <td>30.0</td>\n",
       "      <td>72.0</td>\n",
       "      <td>14.791667</td>\n",
       "      <td>Music</td>\n",
       "    </tr>\n",
       "    <tr>\n",
       "      <th>16927</th>\n",
       "      <td>UCEg25rdRZXg32iwai6N6l0w</td>\n",
       "      <td>13.0</td>\n",
       "      <td>0.0</td>\n",
       "      <td>54.0</td>\n",
       "      <td>0.240741</td>\n",
       "      <td>Sports</td>\n",
       "    </tr>\n",
       "  </tbody>\n",
       "</table>\n",
       "<p>16928 rows × 6 columns</p>\n",
       "</div>"
      ],
      "text/plain": [
       "                      channelId  upload_max  upload_min  upload_count  \\\n",
       "0      UCu9BCtGIEr73LXZsKmoujKw       365.0        10.0          60.0   \n",
       "1      UCRuSxVu4iqTK5kCh90ntAgA       365.0         6.0          89.0   \n",
       "2      UCMVC92EOs9yDJG5JS-CMesQ       150.0         1.0          84.0   \n",
       "3      UCkQCwnkQfgSuPTTnw_Y7v7w       365.0         3.0          89.0   \n",
       "4      UCaO6TYtlC8U5ttz62hTrZgg       240.0         0.0          80.0   \n",
       "...                         ...         ...         ...           ...   \n",
       "16923  UCw1DsweY9b2AKGjV4kGJP1A         9.0         0.0          90.0   \n",
       "16924  UCw1DsweY9b2AKGjV4kGJP1A         9.0         0.0          90.0   \n",
       "16925  UCLhgIX2L5ZCaWdlaxR_oTAg       240.0         1.0          82.0   \n",
       "16926  UCsXigGjbC_l4ttk-oahTfVg      1095.0        30.0          72.0   \n",
       "16927  UCEg25rdRZXg32iwai6N6l0w        13.0         0.0          54.0   \n",
       "\n",
       "       mean_period     category_name  \n",
       "0         5.916667     Entertainment  \n",
       "1         4.033708  Film & Animation  \n",
       "2         1.773810    People & Blogs  \n",
       "3         4.067416     Entertainment  \n",
       "4         3.000000             Music  \n",
       "...            ...               ...  \n",
       "16923     0.100000            Gaming  \n",
       "16924     0.100000            Gaming  \n",
       "16925     2.914634  Film & Animation  \n",
       "16926    14.791667             Music  \n",
       "16927     0.240741            Sports  \n",
       "\n",
       "[16928 rows x 6 columns]"
      ]
     },
     "execution_count": 29,
     "metadata": {},
     "output_type": "execute_result"
    }
   ],
   "source": [
    "number_frame = pd.merge(number_frame, trend_unique[['channelId', 'category_name']], left_on = 'channelId', right_on = 'channelId', how= 'right')\n",
    "number_frame"
   ]
  },
  {
   "cell_type": "code",
   "execution_count": 30,
   "metadata": {
    "id": "CgW57bfsLLMS"
   },
   "outputs": [
    {
     "data": {
      "text/plain": [
       "count    15439.000000\n",
       "mean         3.528153\n",
       "std          6.784721\n",
       "min          0.000000\n",
       "25%          0.714286\n",
       "50%          2.333333\n",
       "75%          4.102273\n",
       "max        342.500000\n",
       "Name: mean_period, dtype: float64"
      ]
     },
     "execution_count": 30,
     "metadata": {},
     "output_type": "execute_result"
    }
   ],
   "source": [
    "number_frame['mean_period'].describe()"
   ]
  },
  {
   "cell_type": "code",
   "execution_count": 36,
   "metadata": {
    "id": "4i6q64Fe1kkf"
   },
   "outputs": [
    {
     "data": {
      "image/png": "[encoded data removed]",
      "text/plain": [
       "<Figure size 648x72 with 1 Axes>"
      ]
     },
     "metadata": {
      "needs_background": "light"
     },
     "output_type": "display_data"
    }
   ],
   "source": [
    "custom_palette = sns.color_palette(\"dark:salmon_r\", 9)\n",
    "sns.palplot(custom_palette)"
   ]
  },
  {
   "cell_type": "code",
   "execution_count": 52,
   "metadata": {
    "id": "ySj3CiNfPnu_"
   },
   "outputs": [
    {
     "data": {
      "image/png": "[encoded data removed]",
      "text/plain": [
       "<Figure size 1800x576 with 1 Axes>"
      ]
     },
     "metadata": {
      "needs_background": "light"
     },
     "output_type": "display_data"
    }
   ],
   "source": [
    "# 카테고리별 영상 업로드 차이 보기\n",
    "plt.figure(figsize = (25,8))\n",
    "\n",
    "sns.barplot(data=number_frame, x = 'category_name', y = 'mean_period', palette='Reds')\n",
    "plt.axhline(y=2.3333, color='black', linestyle='solid')\n",
    "\n",
    "# plt.xticks(fontsize = 12) \n",
    "plt.title('카테고리별 영상 업로드 간격')\n",
    "plt.ylabel('업로드간격(일)')\n",
    "plt.xlabel('카테고리')\n",
    "sns.despine()\n",
    "plt.show()"
   ]
  }
 ],
 "metadata": {
  "colab": {
   "collapsed_sections": [],
   "name": "영상길이, 업로드 기간.ipynb",
   "private_outputs": true,
   "provenance": []
  },
  "kernelspec": {
   "display_name": "Python 3.9.12 ('base')",
   "language": "python",
   "name": "python3"
  },
  "language_info": {
   "codemirror_mode": {
    "name": "ipython",
    "version": 3
   },
   "file_extension": ".py",
   "mimetype": "text/x-python",
   "name": "python",
   "nbconvert_exporter": "python",
   "pygments_lexer": "ipython3",
   "version": "3.9.12"
  },
  "toc": {
   "base_numbering": 1,
   "nav_menu": {},
   "number_sections": true,
   "sideBar": true,
   "skip_h1_title": false,
   "title_cell": "Table of Contents",
   "title_sidebar": "Contents",
   "toc_cell": false,
   "toc_position": {},
   "toc_section_display": true,
   "toc_window_display": false
  },
  "vscode": {
   "interpreter": {
    "hash": "ad2bdc8ecc057115af97d19610ffacc2b4e99fae6737bb82f5d7fb13d2f2c186"
   }
  }
 },
 "nbformat": 4,
 "nbformat_minor": 1
}
