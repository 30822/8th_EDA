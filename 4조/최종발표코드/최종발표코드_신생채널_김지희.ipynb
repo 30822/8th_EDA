{
 "cells": [
  {
   "cell_type": "markdown",
   "id": "45cce0c8",
   "metadata": {},
   "source": [
    "# 목적에 맞게 데이터 수정하기"
   ]
  },
  {
   "cell_type": "code",
   "execution_count": null,
   "id": "b7655ef5",
   "metadata": {},
   "outputs": [],
   "source": [
    "import numpy as np\n",
    "import pandas as pd\n",
    "import matplotlib as mpl\n",
    "import matplotlib.pyplot as plt\n",
    "import seaborn as sns\n",
    "%matplotlib inline\n",
    "import matplotlib.ticker as mticker"
   ]
  },
  {
   "cell_type": "code",
   "execution_count": 3,
   "id": "6c480e31",
   "metadata": {},
   "outputs": [],
   "source": [
    "total = pd.read_csv(\"C:/Users/김지희/DSL/dataset/channel_total.csv\",  lineterminator='\\n') # 인기동영상에 오른 채널들에 대한 정보를 추가로 크롤링한 자료 (채널당 최대 90개의 영상을 크롤링)\n",
    "trend = pd.read_csv(\"C:/Users/김지희/DSL/dataset/youtube_nodouble.csv\", lineterminator='\\n') # 2020.7 ~ 2022.8까지의 인기동영상 목록\n",
    "\n",
    "\n",
    "# 인기동영상 dataset에서 부족했던 정보들을 total dataset과의 merge를 통해 추가함\n",
    "trend_total = pd.merge(trend, total[['video_id', 'minute_time', 'open', 'totalview', 'subscriber']], left_on=\"video_id\", right_on = 'video_id', how='left')"
   ]
  },
  {
   "cell_type": "code",
   "execution_count": 8,
   "id": "e1396040",
   "metadata": {
    "scrolled": true
   },
   "outputs": [],
   "source": [
    "# open과 trending_date를 datetime으로 만들기\n",
    "trend_total['open'] = pd.to_datetime(trend_total['open'])\n",
    "trend_total['trending_date'] = pd.to_datetime(trend_total['trending_date'])"
   ]
  },
  {
   "cell_type": "code",
   "execution_count": 11,
   "id": "50a0c1f2",
   "metadata": {},
   "outputs": [],
   "source": [
    "# 분석에 필요할 정보라고 생각이 들어 새로운 열로 만들어줌\n",
    "trend_total['time_diff'] = (trend_total['trending_date']-trend_total['open']).dt.days"
   ]
  },
  {
   "cell_type": "code",
   "execution_count": 173,
   "id": "eb535708",
   "metadata": {},
   "outputs": [],
   "source": [
    "# time_diff가 365일 이내인 인기동영상 목록을 newbie로 저장함 \n",
    "newbie = trend_total[trend_total['time_diff']<= 365]\n",
    "\n",
    "# newbie의 index를 초기화하기\n",
    "newbie.reset_index(drop=True, inplace=True)\n",
    "\n",
    "# newbie의 첫번째 열이 의미가 없어보여서 제거하기\n",
    "newbie.drop('Unnamed: 0', axis = 1, inplace = True)"
   ]
  },
  {
   "cell_type": "code",
   "execution_count": 19,
   "id": "e1cbd084",
   "metadata": {},
   "outputs": [],
   "source": [
    "# newbie에 속한 채널당 하나의 영상만을 추출하도록 해서 채널에 대해 unique한 dataframe 만들기\n",
    "df = pd.DataFrame(columns=['video_id', 'title', 'publishedAt', 'channelId', 'channelTitle',\n",
    "       'trending_date', 'tags', 'view_count', 'likes', 'dislikes',\n",
    "       'comment_count', 'comments_disabled', 'ratings_disabled', 'description',\n",
    "       'category_name', 'tag_num', 'minute_time', 'open', 'totalview',\n",
    "       'subscriber', 'time_diff'])\n",
    "\n",
    "for i in range(len(newbie['channelId'].unique())):\n",
    "    df = df.append(newbie[newbie['channelId']==newbie['channelId'].unique()[i]].head(1), ignore_index=True)\n"
   ]
  },
  {
   "cell_type": "markdown",
   "id": "4f09d06c",
   "metadata": {},
   "source": [
    "# 이제 분석을 시작하자"
   ]
  },
  {
   "cell_type": "code",
   "execution_count": 22,
   "id": "c9bdb2ed",
   "metadata": {},
   "outputs": [
    {
     "name": "stdout",
     "output_type": "stream",
     "text": [
      "NanumBarunGothic\n"
     ]
    }
   ],
   "source": [
    "# 한글 글꼴 가져오기 (나눔바른고딕)\n",
    "import matplotlib.font_manager as fm\n",
    "path = 'C:\\\\Windows\\\\Fonts\\\\NanumBarunGothic.ttf'  # 설치된 나눔글꼴중 원하는 녀석의 전체 경로를 가져오자\n",
    "font_name = fm.FontProperties(fname=path, size=10).get_name()\n",
    "print(font_name)\n",
    "plt.rc('font', family=font_name)"
   ]
  },
  {
   "cell_type": "code",
   "execution_count": 24,
   "id": "5b212fe3",
   "metadata": {},
   "outputs": [
    {
     "name": "stdout",
     "output_type": "stream",
     "text": [
      "<class 'pandas.core.frame.DataFrame'>\n",
      "RangeIndex: 241 entries, 0 to 240\n",
      "Data columns (total 21 columns):\n",
      " #   Column             Non-Null Count  Dtype         \n",
      "---  ------             --------------  -----         \n",
      " 0   video_id           241 non-null    object        \n",
      " 1   title              241 non-null    object        \n",
      " 2   publishedAt        241 non-null    object        \n",
      " 3   channelId          241 non-null    object        \n",
      " 4   channelTitle       241 non-null    object        \n",
      " 5   trending_date      241 non-null    datetime64[ns]\n",
      " 6   tags               241 non-null    object        \n",
      " 7   view_count         241 non-null    object        \n",
      " 8   likes              241 non-null    object        \n",
      " 9   dislikes           241 non-null    object        \n",
      " 10  comment_count      241 non-null    object        \n",
      " 11  comments_disabled  241 non-null    object        \n",
      " 12  ratings_disabled   241 non-null    object        \n",
      " 13  description        233 non-null    object        \n",
      " 14  category_name      241 non-null    object        \n",
      " 15  tag_num            241 non-null    object        \n",
      " 16  minute_time        215 non-null    float64       \n",
      " 17  open               241 non-null    datetime64[ns]\n",
      " 18  totalview          241 non-null    float64       \n",
      " 19  subscriber         226 non-null    float64       \n",
      " 20  time_diff          241 non-null    float64       \n",
      "dtypes: datetime64[ns](2), float64(4), object(15)\n",
      "memory usage: 39.7+ KB\n"
     ]
    }
   ],
   "source": [
    "df.info()"
   ]
  },
  {
   "cell_type": "markdown",
   "id": "52769681",
   "metadata": {},
   "source": [
    "이 데이터셋은 2020.08 ~ 2022.07 기간에서 채널을 생성한지 1년 이내인 신생 유튜버가 처음으로 트렌드 영상에 올라갔을 때의 영상들만 대상으로 선정했다.\n",
    "\n",
    "이 데이터로 할 수 있는 분석\n",
    "- "
   ]
  },
  {
   "cell_type": "markdown",
   "id": "914441f5",
   "metadata": {},
   "source": [
    "# 일변량 분석"
   ]
  },
  {
   "cell_type": "markdown",
   "id": "19975412",
   "metadata": {},
   "source": [
    "## 카테고리 분포"
   ]
  },
  {
   "cell_type": "code",
   "execution_count": 25,
   "id": "d48b5351",
   "metadata": {},
   "outputs": [],
   "source": [
    "cat = df.groupby('category_name',as_index=False)['video_id'].count()\n",
    "cat['ratio'] = cat['video_id'].div(len(df)/100)\n",
    "cat_sort = cat.sort_values('ratio',ascending = False)"
   ]
  },
  {
   "cell_type": "markdown",
   "id": "e358ee80",
   "metadata": {},
   "source": [
    "기존 인기동영상 전체 채널로 분석할 때와 달리 People & Blogs가 1등으로 올라왔고, film & animation의 순위도 많이 올라왔다."
   ]
  },
  {
   "cell_type": "code",
   "execution_count": 201,
   "id": "fe26d213",
   "metadata": {},
   "outputs": [
    {
     "data": {
      "text/plain": [
       "Text(0.5, 1.0, '신생채널들의 카테고리 분포 (2020.08~2022.07)')"
      ]
     },
     "execution_count": 201,
     "metadata": {},
     "output_type": "execute_result"
    },
    {
     "data": {
      "image/png": "[encoded data removed]",
      "text/plain": [
       "<Figure size 432x288 with 1 Axes>"
      ]
     },
     "metadata": {},
     "output_type": "display_data"
    }
   ],
   "source": [
    "# 카테고리 분포, 파이그래프\n",
    "sns.set_palette(sns.color_palette(\"Reds\"))\n",
    "plt.pie(cat['ratio'],\n",
    "        labels = cat['category_name'],\n",
    "        startangle = 0,\n",
    "        textprops = {'fontsize':12},\n",
    "        shadow = True)\n",
    "plt.title('신생채널들의 카테고리 분포 (2020.08~2022.07)')"
   ]
  },
  {
   "cell_type": "markdown",
   "id": "dab2631f",
   "metadata": {},
   "source": [
    "People & Blog 의 비율이 42.3 %로 확실히 다른 카테고리에 비해 비율이 높은 것을 확인할 수 있다. 기존 전체 트렌드 데이터셋의 경우 Entertainment가 People % Blog에 비해 비율이 높았던 것에 비해 다른 경향이 보인다. "
   ]
  },
  {
   "cell_type": "code",
   "execution_count": 27,
   "id": "a3a9f88f",
   "metadata": {},
   "outputs": [
    {
     "data": {
      "text/plain": [
       "0             라떼월드 Latte World\n",
       "4           집에서안나와 - with ANNA\n",
       "7             케이밥스타 [K-밥 STAR]\n",
       "9              호연지기 HOYEONJIGI\n",
       "12                       영웅대백과\n",
       "13                    양사랑 coco\n",
       "14                       하희라이트\n",
       "21                      부캐선발대회\n",
       "23              Umaizing 엄정화tv\n",
       "24                       띵스튜디오\n",
       "25                      논리왕 전기\n",
       "29                         슬리퍼\n",
       "31                   개인사업자 임성빈\n",
       "36                         안소희\n",
       "37    Yoona's So Wonderful Day\n",
       "39                 라포엠 LA POEM\n",
       "40                         미란이\n",
       "43                   은또 Euntto\n",
       "44            Sumi Jo Official\n",
       "45                 미지우 MEJIWOO\n",
       "Name: channelTitle, dtype: object"
      ]
     },
     "execution_count": 27,
     "metadata": {},
     "output_type": "execute_result"
    }
   ],
   "source": [
    "# newbie 중 People & Blogs 에 속한 채널에 뭐가 있는지 확인해보자\n",
    "df['channelTitle'][df['category_name']=='People & Blogs'].head(20)"
   ]
  },
  {
   "cell_type": "markdown",
   "id": "9154b31d",
   "metadata": {},
   "source": [
    "## 숫자형 변수의 분포 확인하기"
   ]
  },
  {
   "cell_type": "markdown",
   "id": "521735e6",
   "metadata": {},
   "source": [
    "### 분석 전 데이터 전처리하기"
   ]
  },
  {
   "cell_type": "code",
   "execution_count": 28,
   "id": "8f0f1c91",
   "metadata": {},
   "outputs": [],
   "source": [
    "df = df.astype({'view_count': 'int', 'likes':'int', 'dislikes':'int', 'comment_count':'int', 'tag_num':'int'})"
   ]
  },
  {
   "cell_type": "code",
   "execution_count": 29,
   "id": "37618e5d",
   "metadata": {},
   "outputs": [
    {
     "data": {
      "text/html": [
       "<div>\n",
       "<style scoped>\n",
       "    .dataframe tbody tr th:only-of-type {\n",
       "        vertical-align: middle;\n",
       "    }\n",
       "\n",
       "    .dataframe tbody tr th {\n",
       "        vertical-align: top;\n",
       "    }\n",
       "\n",
       "    .dataframe thead th {\n",
       "        text-align: right;\n",
       "    }\n",
       "</style>\n",
       "<table border=\"1\" class=\"dataframe\">\n",
       "  <thead>\n",
       "    <tr style=\"text-align: right;\">\n",
       "      <th></th>\n",
       "      <th>view_count</th>\n",
       "      <th>likes</th>\n",
       "      <th>dislikes</th>\n",
       "      <th>comment_count</th>\n",
       "      <th>tag_num</th>\n",
       "      <th>minute_time</th>\n",
       "      <th>totalview</th>\n",
       "      <th>subscriber</th>\n",
       "      <th>time_diff</th>\n",
       "    </tr>\n",
       "  </thead>\n",
       "  <tbody>\n",
       "    <tr>\n",
       "      <th>count</th>\n",
       "      <td>2.410000e+02</td>\n",
       "      <td>2.410000e+02</td>\n",
       "      <td>241.000000</td>\n",
       "      <td>241.000000</td>\n",
       "      <td>241.000000</td>\n",
       "      <td>215.000000</td>\n",
       "      <td>2.410000e+02</td>\n",
       "      <td>2.260000e+02</td>\n",
       "      <td>241.000000</td>\n",
       "    </tr>\n",
       "    <tr>\n",
       "      <th>mean</th>\n",
       "      <td>4.962560e+05</td>\n",
       "      <td>3.610985e+04</td>\n",
       "      <td>153.244813</td>\n",
       "      <td>3628.726141</td>\n",
       "      <td>15.601660</td>\n",
       "      <td>10.808760</td>\n",
       "      <td>5.941833e+07</td>\n",
       "      <td>3.489346e+05</td>\n",
       "      <td>150.033195</td>\n",
       "    </tr>\n",
       "    <tr>\n",
       "      <th>std</th>\n",
       "      <td>9.377449e+05</td>\n",
       "      <td>1.431002e+05</td>\n",
       "      <td>790.741289</td>\n",
       "      <td>15647.218929</td>\n",
       "      <td>18.432733</td>\n",
       "      <td>8.409904</td>\n",
       "      <td>9.305521e+07</td>\n",
       "      <td>7.010436e+05</td>\n",
       "      <td>112.234534</td>\n",
       "    </tr>\n",
       "    <tr>\n",
       "      <th>min</th>\n",
       "      <td>2.373300e+04</td>\n",
       "      <td>0.000000e+00</td>\n",
       "      <td>0.000000</td>\n",
       "      <td>23.000000</td>\n",
       "      <td>0.000000</td>\n",
       "      <td>0.133333</td>\n",
       "      <td>3.228620e+05</td>\n",
       "      <td>2.560000e+03</td>\n",
       "      <td>1.000000</td>\n",
       "    </tr>\n",
       "    <tr>\n",
       "      <th>25%</th>\n",
       "      <td>1.188940e+05</td>\n",
       "      <td>3.332000e+03</td>\n",
       "      <td>0.000000</td>\n",
       "      <td>402.000000</td>\n",
       "      <td>0.000000</td>\n",
       "      <td>3.908333</td>\n",
       "      <td>9.367207e+06</td>\n",
       "      <td>5.795000e+04</td>\n",
       "      <td>45.000000</td>\n",
       "    </tr>\n",
       "    <tr>\n",
       "      <th>50%</th>\n",
       "      <td>2.207400e+05</td>\n",
       "      <td>7.180000e+03</td>\n",
       "      <td>39.000000</td>\n",
       "      <td>824.000000</td>\n",
       "      <td>10.000000</td>\n",
       "      <td>9.650000</td>\n",
       "      <td>2.302829e+07</td>\n",
       "      <td>1.675000e+05</td>\n",
       "      <td>137.000000</td>\n",
       "    </tr>\n",
       "    <tr>\n",
       "      <th>75%</th>\n",
       "      <td>4.043550e+05</td>\n",
       "      <td>1.745700e+04</td>\n",
       "      <td>116.000000</td>\n",
       "      <td>1927.000000</td>\n",
       "      <td>22.000000</td>\n",
       "      <td>14.783333</td>\n",
       "      <td>7.198328e+07</td>\n",
       "      <td>3.465000e+05</td>\n",
       "      <td>241.000000</td>\n",
       "    </tr>\n",
       "    <tr>\n",
       "      <th>max</th>\n",
       "      <td>7.984160e+06</td>\n",
       "      <td>1.613136e+06</td>\n",
       "      <td>11828.000000</td>\n",
       "      <td>212614.000000</td>\n",
       "      <td>95.000000</td>\n",
       "      <td>50.833333</td>\n",
       "      <td>6.225524e+08</td>\n",
       "      <td>8.470000e+06</td>\n",
       "      <td>365.000000</td>\n",
       "    </tr>\n",
       "  </tbody>\n",
       "</table>\n",
       "</div>"
      ],
      "text/plain": [
       "         view_count         likes      dislikes  comment_count     tag_num  \\\n",
       "count  2.410000e+02  2.410000e+02    241.000000     241.000000  241.000000   \n",
       "mean   4.962560e+05  3.610985e+04    153.244813    3628.726141   15.601660   \n",
       "std    9.377449e+05  1.431002e+05    790.741289   15647.218929   18.432733   \n",
       "min    2.373300e+04  0.000000e+00      0.000000      23.000000    0.000000   \n",
       "25%    1.188940e+05  3.332000e+03      0.000000     402.000000    0.000000   \n",
       "50%    2.207400e+05  7.180000e+03     39.000000     824.000000   10.000000   \n",
       "75%    4.043550e+05  1.745700e+04    116.000000    1927.000000   22.000000   \n",
       "max    7.984160e+06  1.613136e+06  11828.000000  212614.000000   95.000000   \n",
       "\n",
       "       minute_time     totalview    subscriber   time_diff  \n",
       "count   215.000000  2.410000e+02  2.260000e+02  241.000000  \n",
       "mean     10.808760  5.941833e+07  3.489346e+05  150.033195  \n",
       "std       8.409904  9.305521e+07  7.010436e+05  112.234534  \n",
       "min       0.133333  3.228620e+05  2.560000e+03    1.000000  \n",
       "25%       3.908333  9.367207e+06  5.795000e+04   45.000000  \n",
       "50%       9.650000  2.302829e+07  1.675000e+05  137.000000  \n",
       "75%      14.783333  7.198328e+07  3.465000e+05  241.000000  \n",
       "max      50.833333  6.225524e+08  8.470000e+06  365.000000  "
      ]
     },
     "execution_count": 29,
     "metadata": {},
     "output_type": "execute_result"
    }
   ],
   "source": [
    "# 요약통계량을 확인해보자\n",
    "df.describe()"
   ]
  },
  {
   "cell_type": "markdown",
   "id": "884ece9e",
   "metadata": {},
   "source": [
    "### 조회수 분포"
   ]
  },
  {
   "cell_type": "code",
   "execution_count": 85,
   "id": "7d142c0c",
   "metadata": {
    "scrolled": true
   },
   "outputs": [
    {
     "name": "stdout",
     "output_type": "stream",
     "text": [
      "7984160.0\n",
      "1955628.0\n"
     ]
    }
   ],
   "source": [
    "print(np.percentile(df['view_count'],100))\n",
    "print(np.percentile(df['view_count'],95))\n"
   ]
  },
  {
   "cell_type": "code",
   "execution_count": 116,
   "id": "be1a0609",
   "metadata": {},
   "outputs": [
    {
     "data": {
      "image/png": "[encoded data removed]",
      "text/plain": [
       "<Figure size 576x576 with 2 Axes>"
      ]
     },
     "metadata": {
      "needs_background": "light"
     },
     "output_type": "display_data"
    }
   ],
   "source": [
    "f, axes = plt.subplots(2)\n",
    "\n",
    "f.set_size_inches((8, 8))\n",
    "# f.suptitle('조회수 분포 확인', fontsize = 15)\n",
    "# axes[0].hist(data = df, x='view_count', bins=40)\n",
    "# axes[0].set_title('급성장 채널의 트렌드 영상 조회수 분포 (2020.08-2022.07)', fontsize = 12)\n",
    "sns.set_palette(sns.color_palette(\"RdGy\"))\n",
    "sns.despine()\n",
    "axes[1].hist(data = df[df['view_count']<3000000], x='view_count', bins=30)\n",
    "axes[1].set_title('상위 5% 제외 급성장 채널의 트렌드 영상 조회수 분포 (2020.08-2022.07)', fontsize = 12)\n",
    "axes[1].set_xlim([0,2000000])\n",
    "plt.show()"
   ]
  },
  {
   "cell_type": "code",
   "execution_count": 109,
   "id": "b2d91418",
   "metadata": {},
   "outputs": [
    {
     "data": {
      "text/plain": [
       "52           Jennierubyjane Official\n",
       "108                김종국 GYM JONG KOOK\n",
       "185           7FATES: CHAKHO by HYBE\n",
       "207    냠냠엔터테인먼트 YAMYAM ENTERTAINMENT\n",
       "234                           Kep1er\n",
       "Name: channelTitle, dtype: object"
      ]
     },
     "execution_count": 109,
     "metadata": {},
     "output_type": "execute_result"
    }
   ],
   "source": [
    "# 조회수가 600만 이상인 채널 보기\n",
    "df['channelTitle'][df['view_count']>3000000]"
   ]
  },
  {
   "cell_type": "markdown",
   "id": "a53a6fd3",
   "metadata": {},
   "source": [
    "연예인 채널이 많다..."
   ]
  },
  {
   "cell_type": "markdown",
   "id": "9a9aa4be",
   "metadata": {},
   "source": [
    "### 신생 채널 구독자수 분포"
   ]
  },
  {
   "cell_type": "code",
   "execution_count": 162,
   "id": "1edc7fa1",
   "metadata": {
    "scrolled": false
   },
   "outputs": [
    {
     "data": {
      "text/plain": [
       "(0.0, 3000000.0)"
      ]
     },
     "execution_count": 162,
     "metadata": {},
     "output_type": "execute_result"
    },
    {
     "data": {
      "image/png": "[encoded data removed]",
      "text/plain": [
       "<Figure size 576x576 with 2 Axes>"
      ]
     },
     "metadata": {
      "needs_background": "light"
     },
     "output_type": "display_data"
    }
   ],
   "source": [
    "f, axes = plt.subplots(2)\n",
    "f.set_size_inches((8, 8))\n",
    "# f.suptitle('구독자수 확인', fontsize = 15)\n",
    "# axes[0].hist(data = df, x='subscriber', bins = 40)\n",
    "# axes[0].set_title('신생 채널 전체 조회수 댓글 수 분포 (2020.08-2022.07)', fontsize = 12)\n",
    "sns.set_palette(sns.color_palette(\"RdGy\"))\n",
    "sns.despine()\n",
    "axes[1].hist(df['subscriber'][df['subscriber']<3000000], bins = 30)\n",
    "axes[1].set_title('상위 5% 제거시 급성장 채널의 구독자수 분포 (2020.08-2022.07)', fontsize = 12)\n",
    "axes[1].set_xlim([0,3000000])"
   ]
  },
  {
   "cell_type": "code",
   "execution_count": 172,
   "id": "e59fb665",
   "metadata": {},
   "outputs": [
    {
     "data": {
      "text/plain": [
       "4            집에서안나와 - with ANNA\n",
       "7              케이밥스타 [K-밥 STAR]\n",
       "25                       논리왕 전기\n",
       "36                          안소희\n",
       "37     Yoona's So Wonderful Day\n",
       "40                          미란이\n",
       "45                  미지우 MEJIWOO\n",
       "47                leeminho film\n",
       "51     검은고양이 다홍 Blackcat Dahong\n",
       "52      Jennierubyjane Official\n",
       "62                        보개미TV\n",
       "70                    살빼조DietJo\n",
       "71                   임영웅 Shorts\n",
       "86                         도장TV\n",
       "87                        Pixid\n",
       "95                          승상싱\n",
       "96                      혀니콤보 TV\n",
       "99                천뚱 1000ddoong\n",
       "103       집나간햄지 Wandering Hamzy\n",
       "104                        햇도시락\n",
       "106                       소비더머니\n",
       "114                       휴먼스토리\n",
       "119          지켜츄 Chuu Can Do It\n",
       "123           내주제에 Dare U Naeju\n",
       "128                         강혜원\n",
       "129                         너덜트\n",
       "134                     조씨Jossi\n",
       "138                        웃음박재\n",
       "141                    동네친구 강나미\n",
       "144                     차린건 없지만\n",
       "152                     먹보스 쭈엽이\n",
       "160                      카이 KAI\n",
       "167                Girls On Top\n",
       "174                        앙 예원\n",
       "177                         숏박스\n",
       "178             신지연 SHIN JIYEON\n",
       "180                         IVE\n",
       "185      7FATES: CHAKHO by HYBE\n",
       "189            TAEYEON Official\n",
       "190            사내뷰공업 beautyfool\n",
       "193                    TY TRACK\n",
       "195           Bomnal Unnie 봄날언니\n",
       "196                숏쀼 ShortBuBu\n",
       "208     BTS Island: In the SEOM\n",
       "212                CLASS:y(클라씨)\n",
       "217                         먹두리\n",
       "232                 차린건 쥐뿔도 없지만\n",
       "234                      Kep1er\n",
       "237                   SMP FLOOR\n",
       "Name: channelTitle, dtype: object"
      ]
     },
     "execution_count": 172,
     "metadata": {},
     "output_type": "execute_result"
    }
   ],
   "source": [
    "# 구독자수가 20만명 이상인 채널 보기\n",
    "df['channelTitle'][df['category_name']=='People & Blogs'][df['subscriber']>200000]"
   ]
  }
 ],
 "metadata": {
  "kernelspec": {
   "display_name": "DSL",
   "language": "python",
   "name": "dsl_init"
  },
  "language_info": {
   "codemirror_mode": {
    "name": "ipython",
    "version": 3
   },
   "file_extension": ".py",
   "mimetype": "text/x-python",
   "name": "python",
   "nbconvert_exporter": "python",
   "pygments_lexer": "ipython3",
   "version": "3.7.13"
  },
  "toc": {
   "base_numbering": 1,
   "nav_menu": {},
   "number_sections": true,
   "sideBar": true,
   "skip_h1_title": false,
   "title_cell": "Table of Contents",
   "title_sidebar": "Contents",
   "toc_cell": false,
   "toc_position": {},
   "toc_section_display": true,
   "toc_window_display": false
  }
 },
 "nbformat": 4,
 "nbformat_minor": 5
}
