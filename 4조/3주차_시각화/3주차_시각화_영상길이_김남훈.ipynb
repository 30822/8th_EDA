{
 "cells": [
  {
   "cell_type": "markdown",
   "id": "9639b264",
   "metadata": {},
   "source": [
    "# 개인분석(영상길이)"
   ]
  },
  {
   "cell_type": "code",
   "execution_count": 1,
   "id": "7cdeda01",
   "metadata": {},
   "outputs": [],
   "source": [
    "import numpy as np\n",
    "import pandas as pd\n",
    "import matplotlib as mpl\n",
    "import matplotlib.pyplot as plt\n",
    "import seaborn as sns\n",
    "\n",
    "# 폰트 설정\n",
    "import matplotlib.font_manager as fm\n",
    "path = '/Users/namhunkim/fonts/nanum-gothic/NanumGothic.ttf'\n",
    "fontprop = fm.FontProperties(fname=path, size=12)\n",
    "\n",
    "# # 한글 깨짐 방지 <- 맥에서 사용하는 기본 폰트\n",
    "# from matplotlib import rc\n",
    "# rc('font', family='NanumGothic')\n",
    "# plt.rcParams['axes.unicode_minus'] = False\n",
    "\n",
    "# 그래프의 축과 눈금과 관련된 함수\n",
    "# plt.tick_params(axis = 'x', direction = 'out', length = 5, pad = 3, labelsize = 10, labelcolor = 'green')\n",
    "\n",
    "# 그래프의 전체적인 옵션값\n",
    "# plt.rcParams['figure.figsize'] = (15, 8) # 그림 크기\n",
    "# plt.rcParams['lines.linewidth'] = 3 # 선 굵기\n",
    "# plt.rcParams['axes.facecolor'] = 'gray' # 배경 색상\n",
    "# plt.rcParams['axes.grid'] = False # 격자 유무\n",
    "# plt.rcParams['font.size'] = 12 # 폰트 크기"
   ]
  },
  {
   "cell_type": "code",
   "execution_count": 2,
   "id": "1415f55d",
   "metadata": {
    "scrolled": false
   },
   "outputs": [
    {
     "data": {
      "text/html": [
       "<div>\n",
       "<style scoped>\n",
       "    .dataframe tbody tr th:only-of-type {\n",
       "        vertical-align: middle;\n",
       "    }\n",
       "\n",
       "    .dataframe tbody tr th {\n",
       "        vertical-align: top;\n",
       "    }\n",
       "\n",
       "    .dataframe thead th {\n",
       "        text-align: right;\n",
       "    }\n",
       "</style>\n",
       "<table border=\"1\" class=\"dataframe\">\n",
       "  <thead>\n",
       "    <tr style=\"text-align: right;\">\n",
       "      <th></th>\n",
       "      <th>channelId</th>\n",
       "      <th>video_time</th>\n",
       "      <th>video_id</th>\n",
       "      <th>when</th>\n",
       "      <th>title</th>\n",
       "      <th>minute_time</th>\n",
       "      <th>seconds_time</th>\n",
       "      <th>open</th>\n",
       "      <th>totalview</th>\n",
       "      <th>subscriber</th>\n",
       "    </tr>\n",
       "  </thead>\n",
       "  <tbody>\n",
       "    <tr>\n",
       "      <th>100</th>\n",
       "      <td>UCRuSxVu4iqTK5kCh90ntAgA</td>\n",
       "      <td>4:07</td>\n",
       "      <td>E8KtwnvDFs0</td>\n",
       "      <td>6개월 전</td>\n",
       "      <td>학폭의 방관자 &amp; 잊을 수 없는 썸남 [총몇명의 사연낭독]</td>\n",
       "      <td>4.116667</td>\n",
       "      <td>247.0</td>\n",
       "      <td>2016-10-25</td>\n",
       "      <td>960978508.0</td>\n",
       "      <td>2360000.0</td>\n",
       "    </tr>\n",
       "  </tbody>\n",
       "</table>\n",
       "</div>"
      ],
      "text/plain": [
       "                    channelId video_time     video_id   when  \\\n",
       "100  UCRuSxVu4iqTK5kCh90ntAgA       4:07  E8KtwnvDFs0  6개월 전   \n",
       "\n",
       "                                title  minute_time  seconds_time        open  \\\n",
       "100  학폭의 방관자 & 잊을 수 없는 썸남 [총몇명의 사연낭독]     4.116667         247.0  2016-10-25   \n",
       "\n",
       "       totalview  subscriber  \n",
       "100  960978508.0   2360000.0  "
      ]
     },
     "execution_count": 2,
     "metadata": {},
     "output_type": "execute_result"
    }
   ],
   "source": [
    "# channel_total\n",
    "\n",
    "url1 = '/Users/namhunkim/Library/CloudStorage/OneDrive-연세대학교(YonseiUniversity)/DSL/EDA/data/main/channel_total.csv'\n",
    "df1 = pd.read_csv(url1,lineterminator='\\n')\n",
    "df1[100:101]"
   ]
  },
  {
   "cell_type": "code",
   "execution_count": null,
   "id": "69689027",
   "metadata": {},
   "outputs": [],
   "source": []
  },
  {
   "cell_type": "code",
   "execution_count": null,
   "id": "9f92dd66",
   "metadata": {},
   "outputs": [],
   "source": []
  },
  {
   "cell_type": "code",
   "execution_count": null,
   "id": "3e156eb7",
   "metadata": {},
   "outputs": [],
   "source": []
  },
  {
   "cell_type": "markdown",
   "id": "c4f75652",
   "metadata": {},
   "source": [
    "# 업로드날짜(when) 전처리"
   ]
  },
  {
   "cell_type": "code",
   "execution_count": 3,
   "id": "7a5b9e1d",
   "metadata": {},
   "outputs": [
    {
     "data": {
      "text/plain": [
       "array(['10개월 전', '10년 전', '10분 전', '10시간 전', '10일 전', '11개월 전', '11년 전',\n",
       "       '11분 전', '11시간 전', '11일 전', '12년 전', '12분 전', '12시간 전', '12일 전',\n",
       "       '13년 전', '13분 전', '13시간 전', '13일 전', '14년 전', '14분 전', '14시간 전',\n",
       "       '15분 전', '15시간 전', '16분 전', '16시간 전', '17분 전', '17시간 전', '18분 전',\n",
       "       '18시간 전', '19분 전', '19시간 전', '1개월 전', '1년 전', '1분 전', '1시간 전',\n",
       "       '1일 전', '20분 전', '20시간 전', '21분 전', '21시간 전', '22분 전', '22시간 전',\n",
       "       '23분 전', '23시간 전', '24분 전', '25분 전', '26분 전', '27분 전', '28분 전',\n",
       "       '29분 전', '2개월 전', '2년 전', '2시간 전', '2일 전', '2주 전', '30분 전',\n",
       "       '32분 전', '34분 전', '36분 전', '38분 전', '39분 전', '3개월 전', '3년 전',\n",
       "       '3분 전', '3시간 전', '3일 전', '3주 전', '40분 전', '41분 전', '42분 전',\n",
       "       '43분 전', '44분 전', '45분 전', '47분 전', '48분 전', '49분 전', '4개월 전',\n",
       "       '4년 전', '4분 전', '4시간 전', '4일 전', '4주 전', '50분 전', '52분 전', '53분 전',\n",
       "       '54분 전', '54초 전', '55분 전', '56분 전', '57분 전', '58분 전', '59분 전',\n",
       "       '5개월 전', '5년 전', '5분 전', '5시간 전', '5일 전', '6개월 전', '6년 전', '6분 전',\n",
       "       '6시간 전', '6일 전', '7개월 전', '7년 전', '7분 전', '7시간 전', '7일 전', '8개월 전',\n",
       "       '8년 전', '8시간 전', '8일 전', '9개월 전', '9년 전', '9분 전', '9시간 전', '9일 전',\n",
       "       '스트리밍 시간: 10개월 전', '스트리밍 시간: 10시간 전', '스트리밍 시간: 10일 전',\n",
       "       '스트리밍 시간: 11개월 전', '스트리밍 시간: 11시간 전', '스트리밍 시간: 11일 전',\n",
       "       '스트리밍 시간: 12시간 전', '스트리밍 시간: 12일 전', '스트리밍 시간: 13시간 전',\n",
       "       '스트리밍 시간: 13일 전', '스트리밍 시간: 14시간 전', '스트리밍 시간: 15시간 전',\n",
       "       '스트리밍 시간: 16시간 전', '스트리밍 시간: 17시간 전', '스트리밍 시간: 18시간 전',\n",
       "       '스트리밍 시간: 19분 전', '스트리밍 시간: 19시간 전', '스트리밍 시간: 1개월 전',\n",
       "       '스트리밍 시간: 1년 전', '스트리밍 시간: 1분 전', '스트리밍 시간: 1시간 전',\n",
       "       '스트리밍 시간: 1일 전', '스트리밍 시간: 20시간 전', '스트리밍 시간: 21시간 전',\n",
       "       '스트리밍 시간: 22시간 전', '스트리밍 시간: 23시간 전', '스트리밍 시간: 2개월 전',\n",
       "       '스트리밍 시간: 2년 전', '스트리밍 시간: 2시간 전', '스트리밍 시간: 2일 전',\n",
       "       '스트리밍 시간: 2주 전', '스트리밍 시간: 33분 전', '스트리밍 시간: 3개월 전',\n",
       "       '스트리밍 시간: 3년 전', '스트리밍 시간: 3시간 전', '스트리밍 시간: 3일 전',\n",
       "       '스트리밍 시간: 3주 전', '스트리밍 시간: 42분 전', '스트리밍 시간: 43분 전',\n",
       "       '스트리밍 시간: 45분 전', '스트리밍 시간: 46분 전', '스트리밍 시간: 47분 전',\n",
       "       '스트리밍 시간: 4개월 전', '스트리밍 시간: 4년 전', '스트리밍 시간: 4시간 전',\n",
       "       '스트리밍 시간: 4일 전', '스트리밍 시간: 4주 전', '스트리밍 시간: 52분 전',\n",
       "       '스트리밍 시간: 5개월 전', '스트리밍 시간: 5년 전', '스트리밍 시간: 5시간 전',\n",
       "       '스트리밍 시간: 5일 전', '스트리밍 시간: 6개월 전', '스트리밍 시간: 6시간 전',\n",
       "       '스트리밍 시간: 6일 전', '스트리밍 시간: 7개월 전', '스트리밍 시간: 7분 전',\n",
       "       '스트리밍 시간: 7시간 전', '스트리밍 시간: 7일 전', '스트리밍 시간: 8개월 전',\n",
       "       '스트리밍 시간: 8시간 전', '스트리밍 시간: 8일 전', '스트리밍 시간: 9개월 전',\n",
       "       '스트리밍 시간: 9시간 전', '스트리밍 시간: 9일 전', '최초 공개일: 22. 7. 25. 17:00',\n",
       "       '최초 공개일: 22. 7. 25. 22:00', '최초 공개일: 22. 7. 25. 22:45',\n",
       "       '최초 공개일: 22. 7. 26. 11:00', '최초 공개일: 22. 7. 26. 19:00',\n",
       "       '최초 공개일: 22. 7. 26. 21:00', '최초 공개일: 22. 7. 26. 22:30',\n",
       "       '최초 공개일: 22. 7. 26. 7:00', '최초 공개일: 22. 7. 26. 9:00',\n",
       "       '최초 공개일: 22. 7. 27. 0:00'], dtype=object)"
      ]
     },
     "execution_count": 3,
     "metadata": {},
     "output_type": "execute_result"
    }
   ],
   "source": [
    "# when의 구성\n",
    "\n",
    "data = df1.when.unique()\n",
    "data.sort()\n",
    "data"
   ]
  },
  {
   "cell_type": "code",
   "execution_count": 4,
   "id": "357a1d9e",
   "metadata": {},
   "outputs": [
    {
     "name": "stdout",
     "output_type": "stream",
     "text": [
      "11\n"
     ]
    }
   ],
   "source": [
    "# '최초 공개일'이 들어간 영상의 갯수\n",
    "count = 0\n",
    "for i in list(df1.when.values):\n",
    "    if '최초 공개일' in i:\n",
    "        count += 1\n",
    "print(count) # <- 11개임으로 데이터를 제거해버리자"
   ]
  },
  {
   "cell_type": "code",
   "execution_count": 5,
   "id": "ec9249e1",
   "metadata": {
    "scrolled": true
   },
   "outputs": [
    {
     "name": "stdout",
     "output_type": "stream",
     "text": [
      "['개월' '년' '분' '시간' '일' '주' '초']\n"
     ]
    }
   ],
   "source": [
    "# 영상에 포함된 말 찾기\n",
    "\n",
    "data = []\n",
    "\n",
    "for i in list(df1.when.values):\n",
    "    if '최초 공개일' not in i:\n",
    "        i = i.split(':')[-1].strip() # ':'이 있는 '스트리밍 시간:' 문자열에서 이것들을 삭제\n",
    "        i = i.split(' ')[0] # 단어만 가져오기\n",
    "        if i[-2].isdigit(): # 1개의 단어일 떄(년,분,일,주,초)\n",
    "            data.append(i[-1])\n",
    "        else: # 2개의 단어일 때(개월,시간)\n",
    "            data.append(i[-2:])\n",
    "\n",
    "data = pd.Series(data).unique()\n",
    "data.sort()\n",
    "print(data)"
   ]
  },
  {
   "cell_type": "markdown",
   "id": "c48fc8c2",
   "metadata": {},
   "source": [
    "* 개월(month)를 기준으로 전처리를 진행하자."
   ]
  },
  {
   "cell_type": "code",
   "execution_count": 6,
   "id": "fb213f53",
   "metadata": {},
   "outputs": [],
   "source": [
    "# 개월로 단위 변환하는 함수\n",
    "\n",
    "def trans_when(i):\n",
    "    if '최초 공개일' not in i:\n",
    "        i = i.split(':')[-1].strip() # ':'이 있는 '스트리밍 시간:' 문자열에서 이것들을 삭제\n",
    "        i = i.split(' ')[0] # 단어만 가져오기\n",
    "\n",
    "        if i[-2].isdigit(): # 1개의 단어일 떄(년,주,일,분,초)\n",
    "            word = i[-1] # 그 단어만 떼온다.\n",
    "            num = i[:-1] # 숫자만 떼온다.\n",
    "            if word == '년':\n",
    "                i = 12*int(num) # ex) 1년이상~2년이하이면 -> 12개월\n",
    "            else:\n",
    "                i = 0 # 1개월미만 -> 0개월\n",
    "\n",
    "        else: # 2개의 단어일 때(개월,시간)\n",
    "            if '개' in i:\n",
    "                i = int(i[:-2])\n",
    "            else:\n",
    "                i = 1\n",
    "    else:\n",
    "        i = np.nan\n",
    "\n",
    "    return i"
   ]
  },
  {
   "cell_type": "code",
   "execution_count": 7,
   "id": "e3cf7271",
   "metadata": {},
   "outputs": [
    {
     "data": {
      "text/html": [
       "<div>\n",
       "<style scoped>\n",
       "    .dataframe tbody tr th:only-of-type {\n",
       "        vertical-align: middle;\n",
       "    }\n",
       "\n",
       "    .dataframe tbody tr th {\n",
       "        vertical-align: top;\n",
       "    }\n",
       "\n",
       "    .dataframe thead th {\n",
       "        text-align: right;\n",
       "    }\n",
       "</style>\n",
       "<table border=\"1\" class=\"dataframe\">\n",
       "  <thead>\n",
       "    <tr style=\"text-align: right;\">\n",
       "      <th></th>\n",
       "      <th>when</th>\n",
       "      <th>when</th>\n",
       "    </tr>\n",
       "  </thead>\n",
       "  <tbody>\n",
       "    <tr>\n",
       "      <th>0</th>\n",
       "      <td>10일 전</td>\n",
       "      <td>0.0</td>\n",
       "    </tr>\n",
       "    <tr>\n",
       "      <th>1</th>\n",
       "      <td>8개월 전</td>\n",
       "      <td>8.0</td>\n",
       "    </tr>\n",
       "    <tr>\n",
       "      <th>2</th>\n",
       "      <td>9개월 전</td>\n",
       "      <td>9.0</td>\n",
       "    </tr>\n",
       "    <tr>\n",
       "      <th>3</th>\n",
       "      <td>9개월 전</td>\n",
       "      <td>9.0</td>\n",
       "    </tr>\n",
       "    <tr>\n",
       "      <th>4</th>\n",
       "      <td>9개월 전</td>\n",
       "      <td>9.0</td>\n",
       "    </tr>\n",
       "    <tr>\n",
       "      <th>...</th>\n",
       "      <td>...</td>\n",
       "      <td>...</td>\n",
       "    </tr>\n",
       "    <tr>\n",
       "      <th>217797</th>\n",
       "      <td>7개월 전</td>\n",
       "      <td>7.0</td>\n",
       "    </tr>\n",
       "    <tr>\n",
       "      <th>217798</th>\n",
       "      <td>7개월 전</td>\n",
       "      <td>7.0</td>\n",
       "    </tr>\n",
       "    <tr>\n",
       "      <th>217799</th>\n",
       "      <td>8개월 전</td>\n",
       "      <td>8.0</td>\n",
       "    </tr>\n",
       "    <tr>\n",
       "      <th>217800</th>\n",
       "      <td>8개월 전</td>\n",
       "      <td>8.0</td>\n",
       "    </tr>\n",
       "    <tr>\n",
       "      <th>217801</th>\n",
       "      <td>8개월 전</td>\n",
       "      <td>8.0</td>\n",
       "    </tr>\n",
       "  </tbody>\n",
       "</table>\n",
       "<p>217802 rows × 2 columns</p>\n",
       "</div>"
      ],
      "text/plain": [
       "         when  when\n",
       "0       10일 전   0.0\n",
       "1       8개월 전   8.0\n",
       "2       9개월 전   9.0\n",
       "3       9개월 전   9.0\n",
       "4       9개월 전   9.0\n",
       "...       ...   ...\n",
       "217797  7개월 전   7.0\n",
       "217798  7개월 전   7.0\n",
       "217799  8개월 전   8.0\n",
       "217800  8개월 전   8.0\n",
       "217801  8개월 전   8.0\n",
       "\n",
       "[217802 rows x 2 columns]"
      ]
     },
     "execution_count": 7,
     "metadata": {},
     "output_type": "execute_result"
    }
   ],
   "source": [
    "pd.concat([df1.when, df1.when.apply(trans_when)], axis=1) # <- 잘 변환된 것 같다."
   ]
  },
  {
   "cell_type": "code",
   "execution_count": 8,
   "id": "7d23488f",
   "metadata": {},
   "outputs": [
    {
     "data": {
      "text/html": [
       "<div>\n",
       "<style scoped>\n",
       "    .dataframe tbody tr th:only-of-type {\n",
       "        vertical-align: middle;\n",
       "    }\n",
       "\n",
       "    .dataframe tbody tr th {\n",
       "        vertical-align: top;\n",
       "    }\n",
       "\n",
       "    .dataframe thead th {\n",
       "        text-align: right;\n",
       "    }\n",
       "</style>\n",
       "<table border=\"1\" class=\"dataframe\">\n",
       "  <thead>\n",
       "    <tr style=\"text-align: right;\">\n",
       "      <th></th>\n",
       "      <th>channelId</th>\n",
       "      <th>video_time</th>\n",
       "      <th>video_id</th>\n",
       "      <th>when</th>\n",
       "      <th>title</th>\n",
       "      <th>minute_time</th>\n",
       "      <th>seconds_time</th>\n",
       "      <th>open</th>\n",
       "      <th>totalview</th>\n",
       "      <th>subscriber</th>\n",
       "    </tr>\n",
       "  </thead>\n",
       "  <tbody>\n",
       "    <tr>\n",
       "      <th>0</th>\n",
       "      <td>UCu9BCtGIEr73LXZsKmoujKw</td>\n",
       "      <td>4:58</td>\n",
       "      <td>u6lyUnhaaqk</td>\n",
       "      <td>0.0</td>\n",
       "      <td>.</td>\n",
       "      <td>4.966667</td>\n",
       "      <td>298.0</td>\n",
       "      <td>2014-08-25</td>\n",
       "      <td>2.683340e+09</td>\n",
       "      <td>3230000.0</td>\n",
       "    </tr>\n",
       "    <tr>\n",
       "      <th>1</th>\n",
       "      <td>UCu9BCtGIEr73LXZsKmoujKw</td>\n",
       "      <td>10:45</td>\n",
       "      <td>_LpMHqmScuk</td>\n",
       "      <td>8.0</td>\n",
       "      <td>판결 나왔습니다</td>\n",
       "      <td>10.750000</td>\n",
       "      <td>645.0</td>\n",
       "      <td>2014-08-25</td>\n",
       "      <td>2.683340e+09</td>\n",
       "      <td>3230000.0</td>\n",
       "    </tr>\n",
       "    <tr>\n",
       "      <th>2</th>\n",
       "      <td>UCu9BCtGIEr73LXZsKmoujKw</td>\n",
       "      <td>11:53</td>\n",
       "      <td>2eHrT-Fgs78</td>\n",
       "      <td>9.0</td>\n",
       "      <td>현재 재판진행상황</td>\n",
       "      <td>11.883333</td>\n",
       "      <td>713.0</td>\n",
       "      <td>2014-08-25</td>\n",
       "      <td>2.683340e+09</td>\n",
       "      <td>3230000.0</td>\n",
       "    </tr>\n",
       "    <tr>\n",
       "      <th>3</th>\n",
       "      <td>UCu9BCtGIEr73LXZsKmoujKw</td>\n",
       "      <td>9:41</td>\n",
       "      <td>6MiItImFYbk</td>\n",
       "      <td>9.0</td>\n",
       "      <td>우리 깐부 맞지?</td>\n",
       "      <td>9.683333</td>\n",
       "      <td>581.0</td>\n",
       "      <td>2014-08-25</td>\n",
       "      <td>2.683340e+09</td>\n",
       "      <td>3230000.0</td>\n",
       "    </tr>\n",
       "    <tr>\n",
       "      <th>4</th>\n",
       "      <td>UCu9BCtGIEr73LXZsKmoujKw</td>\n",
       "      <td>SHORTS</td>\n",
       "      <td>QdnvjTQ4X3c</td>\n",
       "      <td>9.0</td>\n",
       "      <td>섹드립논란#Shorts</td>\n",
       "      <td>NaN</td>\n",
       "      <td>NaN</td>\n",
       "      <td>2014-08-25</td>\n",
       "      <td>2.683340e+09</td>\n",
       "      <td>3230000.0</td>\n",
       "    </tr>\n",
       "  </tbody>\n",
       "</table>\n",
       "</div>"
      ],
      "text/plain": [
       "                  channelId video_time     video_id  when         title  \\\n",
       "0  UCu9BCtGIEr73LXZsKmoujKw       4:58  u6lyUnhaaqk   0.0             .   \n",
       "1  UCu9BCtGIEr73LXZsKmoujKw      10:45  _LpMHqmScuk   8.0      판결 나왔습니다   \n",
       "2  UCu9BCtGIEr73LXZsKmoujKw      11:53  2eHrT-Fgs78   9.0     현재 재판진행상황   \n",
       "3  UCu9BCtGIEr73LXZsKmoujKw       9:41  6MiItImFYbk   9.0     우리 깐부 맞지?   \n",
       "4  UCu9BCtGIEr73LXZsKmoujKw     SHORTS  QdnvjTQ4X3c   9.0  섹드립논란#Shorts   \n",
       "\n",
       "   minute_time  seconds_time        open     totalview  subscriber  \n",
       "0     4.966667         298.0  2014-08-25  2.683340e+09   3230000.0  \n",
       "1    10.750000         645.0  2014-08-25  2.683340e+09   3230000.0  \n",
       "2    11.883333         713.0  2014-08-25  2.683340e+09   3230000.0  \n",
       "3     9.683333         581.0  2014-08-25  2.683340e+09   3230000.0  \n",
       "4          NaN           NaN  2014-08-25  2.683340e+09   3230000.0  "
      ]
     },
     "execution_count": 8,
     "metadata": {},
     "output_type": "execute_result"
    }
   ],
   "source": [
    "df2 = df1.copy()\n",
    "df2.when = df2.when.apply(trans_when)\n",
    "df2.head()"
   ]
  },
  {
   "cell_type": "code",
   "execution_count": null,
   "id": "ffecc745",
   "metadata": {},
   "outputs": [],
   "source": []
  },
  {
   "cell_type": "code",
   "execution_count": null,
   "id": "3abaaee4",
   "metadata": {},
   "outputs": [],
   "source": []
  },
  {
   "cell_type": "code",
   "execution_count": null,
   "id": "efebc444",
   "metadata": {},
   "outputs": [],
   "source": []
  },
  {
   "cell_type": "markdown",
   "id": "aa3aaf35",
   "metadata": {},
   "source": [
    "# 데이터 상태 확인하기"
   ]
  },
  {
   "cell_type": "code",
   "execution_count": 9,
   "id": "6f450ca7",
   "metadata": {},
   "outputs": [
    {
     "data": {
      "text/plain": [
       "Index(['channelId', 'video_time', 'video_id', 'when', 'title', 'minute_time',\n",
       "       'seconds_time', 'open', 'totalview', 'subscriber'],\n",
       "      dtype='object')"
      ]
     },
     "execution_count": 9,
     "metadata": {},
     "output_type": "execute_result"
    }
   ],
   "source": [
    "df1.columns\n",
    "# when : 동영상업로드 기간(지금으로부터 얼마전에 업로드 했는지)\n",
    "# video_time = minute_time = seconds_time\n",
    "# open : 채널개설일자"
   ]
  },
  {
   "cell_type": "code",
   "execution_count": 10,
   "id": "b7c8713a",
   "metadata": {
    "scrolled": false
   },
   "outputs": [
    {
     "name": "stdout",
     "output_type": "stream",
     "text": [
      "총 채널의 갯수 : 2636\n",
      "채널 당 데이터의 수 : [60 90 29 17 30 21 36 42 13 46 15 61 48 58 72 10 63 33 79 66 20 44 25  5\n",
      " 56 78 82 23 47 41 57 71 22 49 68 28 45 88 51 59 52 32 67 89 80 64 62  6\n",
      " 54 81 75 69 55 87  8 12 43 38 70  9 85 34 74 19 84 50 37 83 40 39 27  2\n",
      " 77 26  4 53 24  3 73 16 76 14 65  1 86 31  7 35 11]\n"
     ]
    }
   ],
   "source": [
    "print('총 채널의 갯수 :', df1.channelId.nunique())\n",
    "print('채널 당 데이터의 수 :', df1.groupby('channelId').count().video_time.unique())"
   ]
  },
  {
   "cell_type": "code",
   "execution_count": 11,
   "id": "69a1c257",
   "metadata": {},
   "outputs": [
    {
     "name": "stdout",
     "output_type": "stream",
     "text": [
      "채널 당 데이터가 1개인 것들의 index : [1177 1889 1954 2270]\n"
     ]
    }
   ],
   "source": [
    "idx = np.where(df1.groupby('channelId').count().video_time==1)[0]\n",
    "print('채널 당 데이터가 1개인 것들의 index :', idx)"
   ]
  },
  {
   "cell_type": "code",
   "execution_count": 12,
   "id": "081328c3",
   "metadata": {
    "scrolled": false
   },
   "outputs": [
    {
     "data": {
      "text/html": [
       "<div>\n",
       "<style scoped>\n",
       "    .dataframe tbody tr th:only-of-type {\n",
       "        vertical-align: middle;\n",
       "    }\n",
       "\n",
       "    .dataframe tbody tr th {\n",
       "        vertical-align: top;\n",
       "    }\n",
       "\n",
       "    .dataframe thead th {\n",
       "        text-align: right;\n",
       "    }\n",
       "</style>\n",
       "<table border=\"1\" class=\"dataframe\">\n",
       "  <thead>\n",
       "    <tr style=\"text-align: right;\">\n",
       "      <th></th>\n",
       "      <th>channelId</th>\n",
       "      <th>video_time</th>\n",
       "      <th>video_id</th>\n",
       "      <th>when</th>\n",
       "      <th>title</th>\n",
       "      <th>minute_time</th>\n",
       "      <th>seconds_time</th>\n",
       "      <th>open</th>\n",
       "      <th>totalview</th>\n",
       "      <th>subscriber</th>\n",
       "    </tr>\n",
       "  </thead>\n",
       "  <tbody>\n",
       "    <tr>\n",
       "      <th>1177</th>\n",
       "      <td>UCdTDdygpZKdDew2s1s419iw</td>\n",
       "      <td>29:01</td>\n",
       "      <td>9L6-D6iRZVc</td>\n",
       "      <td>3개월 전</td>\n",
       "      <td>한국 유망주 발재간 보자마자 스카우터 찾는 독일 명문팀 코치… 경악하는 리액션 보니...</td>\n",
       "      <td>29.016667</td>\n",
       "      <td>1741.0</td>\n",
       "      <td>2014-06-08</td>\n",
       "      <td>7.707302e+08</td>\n",
       "      <td>1330000.0</td>\n",
       "    </tr>\n",
       "    <tr>\n",
       "      <th>1889</th>\n",
       "      <td>UCLuCG6sPAQX_bhTt1ztN1FQ</td>\n",
       "      <td>3:36</td>\n",
       "      <td>1otwzdqSvTI</td>\n",
       "      <td>7개월 전</td>\n",
       "      <td>새롭게 추가된 메크요들의 유닛 종류는!? // 18회차 | 김득배의 카드실험실 - ...</td>\n",
       "      <td>3.600000</td>\n",
       "      <td>216.0</td>\n",
       "      <td>2019-08-20</td>\n",
       "      <td>3.365672e+07</td>\n",
       "      <td>29700.0</td>\n",
       "    </tr>\n",
       "    <tr>\n",
       "      <th>1954</th>\n",
       "      <td>UCg_lS-XS9Fh9I6Rl56Z8fpg</td>\n",
       "      <td>14:00</td>\n",
       "      <td>ii8xY-h6T38</td>\n",
       "      <td>8일 전</td>\n",
       "      <td>누구나 물 위를 걷는 신발ㄷㄷ (마법이 아닙니다)</td>\n",
       "      <td>14.000000</td>\n",
       "      <td>840.0</td>\n",
       "      <td>2016-03-16</td>\n",
       "      <td>9.068245e+08</td>\n",
       "      <td>1500000.0</td>\n",
       "    </tr>\n",
       "    <tr>\n",
       "      <th>2270</th>\n",
       "      <td>UChQ-VMvdGrYZxviQVMTJOHg</td>\n",
       "      <td>1:53</td>\n",
       "      <td>lygijqJTTYI</td>\n",
       "      <td>3개월 전</td>\n",
       "      <td>[어린이날 도티 팬사인회💛]모두모두 놀러 오세요~~</td>\n",
       "      <td>1.883333</td>\n",
       "      <td>113.0</td>\n",
       "      <td>2012-07-18</td>\n",
       "      <td>2.739324e+09</td>\n",
       "      <td>2360000.0</td>\n",
       "    </tr>\n",
       "  </tbody>\n",
       "</table>\n",
       "</div>"
      ],
      "text/plain": [
       "                     channelId video_time     video_id   when  \\\n",
       "1177  UCdTDdygpZKdDew2s1s419iw      29:01  9L6-D6iRZVc  3개월 전   \n",
       "1889  UCLuCG6sPAQX_bhTt1ztN1FQ       3:36  1otwzdqSvTI  7개월 전   \n",
       "1954  UCg_lS-XS9Fh9I6Rl56Z8fpg      14:00  ii8xY-h6T38   8일 전   \n",
       "2270  UChQ-VMvdGrYZxviQVMTJOHg       1:53  lygijqJTTYI  3개월 전   \n",
       "\n",
       "                                                  title  minute_time  \\\n",
       "1177  한국 유망주 발재간 보자마자 스카우터 찾는 독일 명문팀 코치… 경악하는 리액션 보니...    29.016667   \n",
       "1889  새롭게 추가된 메크요들의 유닛 종류는!? // 18회차 | 김득배의 카드실험실 - ...     3.600000   \n",
       "1954                        누구나 물 위를 걷는 신발ㄷㄷ (마법이 아닙니다)    14.000000   \n",
       "2270                       [어린이날 도티 팬사인회💛]모두모두 놀러 오세요~~     1.883333   \n",
       "\n",
       "      seconds_time        open     totalview  subscriber  \n",
       "1177        1741.0  2014-06-08  7.707302e+08   1330000.0  \n",
       "1889         216.0  2019-08-20  3.365672e+07     29700.0  \n",
       "1954         840.0  2016-03-16  9.068245e+08   1500000.0  \n",
       "2270         113.0  2012-07-18  2.739324e+09   2360000.0  "
      ]
     },
     "execution_count": 12,
     "metadata": {},
     "output_type": "execute_result"
    }
   ],
   "source": [
    "df1.loc[idx,:] # <- 실제 유튜브 채널에 들어가서 관찰해보니 동영상의 수는 1개보다 많았다.\n",
    "# 아마도 크롤링 상에서 데이터를 잘 가져오지 못한 듯 하다."
   ]
  },
  {
   "cell_type": "code",
   "execution_count": 13,
   "id": "6d68657d",
   "metadata": {},
   "outputs": [
    {
     "data": {
      "image/png": "[encoded data removed]",
      "text/plain": [
       "<Figure size 432x288 with 1 Axes>"
      ]
     },
     "metadata": {
      "needs_background": "light"
     },
     "output_type": "display_data"
    }
   ],
   "source": [
    "data = df1.groupby('channelId').count().video_time.value_counts()\n",
    "plt.title('채널당 데이터 수', fontproperties=fontprop)\n",
    "plt.bar(data.index, data, color='orangered') # 채널 당 데이터수가 대부분 90개이며 60개가 그 다음으로 많았다.\n",
    "plt.show()"
   ]
  },
  {
   "cell_type": "markdown",
   "id": "73e28f11",
   "metadata": {},
   "source": [
    "### (1) : 크롤링을 통해 채널 당 데이터 수가 1~90개로 다양하나 대부분이 90개이다."
   ]
  },
  {
   "cell_type": "code",
   "execution_count": null,
   "id": "8ce2ce8e",
   "metadata": {},
   "outputs": [],
   "source": []
  },
  {
   "cell_type": "code",
   "execution_count": null,
   "id": "dd7cf7d6",
   "metadata": {},
   "outputs": [],
   "source": []
  },
  {
   "cell_type": "code",
   "execution_count": null,
   "id": "750c6a3d",
   "metadata": {},
   "outputs": [],
   "source": []
  },
  {
   "cell_type": "markdown",
   "id": "caeb409f",
   "metadata": {},
   "source": [
    "# 본격적인 동영상 길이 분석"
   ]
  },
  {
   "cell_type": "code",
   "execution_count": 14,
   "id": "62c7d2f5",
   "metadata": {
    "scrolled": true
   },
   "outputs": [
    {
     "data": {
      "text/html": [
       "<div>\n",
       "<style scoped>\n",
       "    .dataframe tbody tr th:only-of-type {\n",
       "        vertical-align: middle;\n",
       "    }\n",
       "\n",
       "    .dataframe tbody tr th {\n",
       "        vertical-align: top;\n",
       "    }\n",
       "\n",
       "    .dataframe thead th {\n",
       "        text-align: right;\n",
       "    }\n",
       "</style>\n",
       "<table border=\"1\" class=\"dataframe\">\n",
       "  <thead>\n",
       "    <tr style=\"text-align: right;\">\n",
       "      <th></th>\n",
       "      <th>video_time</th>\n",
       "      <th>video_id</th>\n",
       "      <th>when</th>\n",
       "      <th>title</th>\n",
       "      <th>minute_time</th>\n",
       "      <th>seconds_time</th>\n",
       "      <th>open</th>\n",
       "      <th>totalview</th>\n",
       "      <th>subscriber</th>\n",
       "    </tr>\n",
       "    <tr>\n",
       "      <th>channelId</th>\n",
       "      <th></th>\n",
       "      <th></th>\n",
       "      <th></th>\n",
       "      <th></th>\n",
       "      <th></th>\n",
       "      <th></th>\n",
       "      <th></th>\n",
       "      <th></th>\n",
       "      <th></th>\n",
       "    </tr>\n",
       "  </thead>\n",
       "  <tbody>\n",
       "    <tr>\n",
       "      <th>UC-0229MiVYnQoUxdLJnFl_g</th>\n",
       "      <td>60</td>\n",
       "      <td>60</td>\n",
       "      <td>60</td>\n",
       "      <td>60</td>\n",
       "      <td>38</td>\n",
       "      <td>38</td>\n",
       "      <td>60</td>\n",
       "      <td>60</td>\n",
       "      <td>60</td>\n",
       "    </tr>\n",
       "    <tr>\n",
       "      <th>UC-0C8yVGJy-cS4FGlYKelWw</th>\n",
       "      <td>90</td>\n",
       "      <td>90</td>\n",
       "      <td>90</td>\n",
       "      <td>90</td>\n",
       "      <td>90</td>\n",
       "      <td>90</td>\n",
       "      <td>90</td>\n",
       "      <td>90</td>\n",
       "      <td>90</td>\n",
       "    </tr>\n",
       "    <tr>\n",
       "      <th>UC-0tICWyA0_AJAVMBHL8GdQ</th>\n",
       "      <td>90</td>\n",
       "      <td>90</td>\n",
       "      <td>90</td>\n",
       "      <td>90</td>\n",
       "      <td>59</td>\n",
       "      <td>59</td>\n",
       "      <td>90</td>\n",
       "      <td>90</td>\n",
       "      <td>90</td>\n",
       "    </tr>\n",
       "    <tr>\n",
       "      <th>UC-2Y8dQb0S6DtpxNgAKoJKA</th>\n",
       "      <td>90</td>\n",
       "      <td>90</td>\n",
       "      <td>90</td>\n",
       "      <td>90</td>\n",
       "      <td>88</td>\n",
       "      <td>88</td>\n",
       "      <td>90</td>\n",
       "      <td>90</td>\n",
       "      <td>90</td>\n",
       "    </tr>\n",
       "    <tr>\n",
       "      <th>UC-2wa6jvprl7hfCpvw0ULzg</th>\n",
       "      <td>90</td>\n",
       "      <td>90</td>\n",
       "      <td>90</td>\n",
       "      <td>90</td>\n",
       "      <td>90</td>\n",
       "      <td>90</td>\n",
       "      <td>90</td>\n",
       "      <td>90</td>\n",
       "      <td>90</td>\n",
       "    </tr>\n",
       "  </tbody>\n",
       "</table>\n",
       "</div>"
      ],
      "text/plain": [
       "                          video_time  video_id  when  title  minute_time  \\\n",
       "channelId                                                                  \n",
       "UC-0229MiVYnQoUxdLJnFl_g          60        60    60     60           38   \n",
       "UC-0C8yVGJy-cS4FGlYKelWw          90        90    90     90           90   \n",
       "UC-0tICWyA0_AJAVMBHL8GdQ          90        90    90     90           59   \n",
       "UC-2Y8dQb0S6DtpxNgAKoJKA          90        90    90     90           88   \n",
       "UC-2wa6jvprl7hfCpvw0ULzg          90        90    90     90           90   \n",
       "\n",
       "                          seconds_time  open  totalview  subscriber  \n",
       "channelId                                                            \n",
       "UC-0229MiVYnQoUxdLJnFl_g            38    60         60          60  \n",
       "UC-0C8yVGJy-cS4FGlYKelWw            90    90         90          90  \n",
       "UC-0tICWyA0_AJAVMBHL8GdQ            59    90         90          90  \n",
       "UC-2Y8dQb0S6DtpxNgAKoJKA            88    90         90          90  \n",
       "UC-2wa6jvprl7hfCpvw0ULzg            90    90         90          90  "
      ]
     },
     "execution_count": 14,
     "metadata": {},
     "output_type": "execute_result"
    }
   ],
   "source": [
    "df1.groupby('channelId').count().head()\n",
    "# 주의! 여기서 vdieo_time = minute_time = seconds_time이지만, 갯수가 다른 이유는\n",
    "# video_time에서는 short가 count되지만, minute_time과 seconds_time에서는 NaN이 count되지 않기 때문이다."
   ]
  },
  {
   "cell_type": "code",
   "execution_count": null,
   "id": "70f0487f",
   "metadata": {},
   "outputs": [],
   "source": []
  },
  {
   "cell_type": "code",
   "execution_count": null,
   "id": "a726bd56",
   "metadata": {},
   "outputs": [],
   "source": []
  },
  {
   "cell_type": "markdown",
   "id": "49ae8b20",
   "metadata": {},
   "source": [
    "## 1. 크롤링한 인기채널의 동영상들의 영상길이 빈도확인; 영상길이의 공급"
   ]
  },
  {
   "cell_type": "markdown",
   "id": "724c8c46",
   "metadata": {},
   "source": [
    "### 1-(1). 전체 동영상에 대해 확인"
   ]
  },
  {
   "cell_type": "code",
   "execution_count": 15,
   "id": "add17650",
   "metadata": {},
   "outputs": [
    {
     "data": {
      "text/plain": [
       "217802"
      ]
     },
     "execution_count": 15,
     "metadata": {},
     "output_type": "execute_result"
    }
   ],
   "source": [
    "n = len(df1.minute_time)\n",
    "n"
   ]
  },
  {
   "cell_type": "code",
   "execution_count": 16,
   "id": "d400028b",
   "metadata": {
    "scrolled": true
   },
   "outputs": [
    {
     "data": {
      "image/png": "[encoded data removed]",
      "text/plain": [
       "<Figure size 432x288 with 1 Axes>"
      ]
     },
     "metadata": {
      "needs_background": "light"
     },
     "output_type": "display_data"
    }
   ],
   "source": [
    "plt.hist(df1.minute_time, bins=1000, density=True)\n",
    "plt.axis([0, 100, 0, 0.1])\n",
    "plt.xlabel('video length(minutes)')\n",
    "plt.ylabel('density')\n",
    "plt.title('전체채널에 대한 영상길이 분포추이', fontproperties=fontprop)\n",
    "plt.show()"
   ]
  },
  {
   "cell_type": "code",
   "execution_count": 17,
   "id": "9a2f719f",
   "metadata": {
    "scrolled": true
   },
   "outputs": [
    {
     "name": "stdout",
     "output_type": "stream",
     "text": [
      "전체 동영상 길이에 대한 정보\n",
      "\n",
      "평균 : 14.09(분)\n",
      "중앙값 : 8.28(분)\n",
      "최빈값 : 8.02(분)\n",
      "최댓값 : 1441.45(분)\n",
      "최솟값 : 0.02(분)\n"
     ]
    }
   ],
   "source": [
    "print('전체 동영상 길이에 대한 정보\\n')\n",
    "print('평균 : %1.2f(분)'%df1.minute_time.mean())\n",
    "print('중앙값 : %1.2f(분)'%df1.minute_time.median())\n",
    "print('최빈값 : %1.2f(분)'%df1.minute_time.mode())\n",
    "print('최댓값 : %1.2f(분)'%df1.minute_time.max())\n",
    "print('최솟값 : %1.2f(분)'%df1.minute_time.min())"
   ]
  },
  {
   "cell_type": "code",
   "execution_count": 18,
   "id": "68a7a3b4",
   "metadata": {
    "scrolled": true
   },
   "outputs": [
    {
     "name": "stdout",
     "output_type": "stream",
     "text": [
      "1분 이하 영상의 비율 : 4.46%\n",
      "8분 이하 영상의 비율 : 40.09%\n",
      "10분 이하 영상의 비율 : 52.22%\n",
      "20분 이하 영상의 비율 : 75.24%\n"
     ]
    }
   ],
   "source": [
    "for i in [1,8,10,20]:\n",
    "    print('%d분 이하 영상의 비율 : %1.2f%%'%(i, (df1.minute_time[df1.minute_time<=i].count() / n * 100)))"
   ]
  },
  {
   "cell_type": "markdown",
   "id": "4a79a22a",
   "metadata": {},
   "source": [
    " * 전체적으로 동영상의 길이가 0~20분이다."
   ]
  },
  {
   "cell_type": "code",
   "execution_count": null,
   "id": "0ed889e7",
   "metadata": {},
   "outputs": [],
   "source": []
  },
  {
   "cell_type": "markdown",
   "id": "ffd0306e",
   "metadata": {},
   "source": [
    "### 1-(2). 20분 이하 영상길이의 분포\n"
   ]
  },
  {
   "cell_type": "code",
   "execution_count": 19,
   "id": "08a4b148",
   "metadata": {
    "scrolled": true
   },
   "outputs": [
    {
     "data": {
      "image/png": "[encoded data removed]",
      "text/plain": [
       "<Figure size 432x288 with 1 Axes>"
      ]
     },
     "metadata": {
      "needs_background": "light"
     },
     "output_type": "display_data"
    }
   ],
   "source": [
    "# 20분 이하 영상길이의 분포\n",
    "\n",
    "group1 = df1.minute_time[df1.minute_time<=20]\n",
    "plt.hist(group1, bins=500, density=True, color='tomato')\n",
    "plt.axis([0, 20, 0, 0.15])\n",
    "plt.xlabel('video length(minutes)')\n",
    "plt.ylabel('density')\n",
    "plt.title('20분이하 영상에 대한 영상길이 분포추이', fontproperties=fontprop)\n",
    "plt.show()\n",
    "\n",
    "# 20분 이하 영상에 대해서 두 개의 봉우리가 발견되었다.\n",
    "# 2.5~5분과 7.5~9분 정도이다.\n",
    "# 그러나 0과 10분 정도에서도 봉우리가 있는 것 같다.\n",
    "# 따라서 다시 2개의 그룹으로 더 나눠보자."
   ]
  },
  {
   "cell_type": "code",
   "execution_count": 20,
   "id": "2c5a1bac",
   "metadata": {
    "scrolled": true
   },
   "outputs": [
    {
     "data": {
      "image/png": "[encoded data removed]",
      "text/plain": [
       "<Figure size 432x288 with 1 Axes>"
      ]
     },
     "metadata": {
      "needs_background": "light"
     },
     "output_type": "display_data"
    }
   ],
   "source": [
    "# 0~7분 영상길이의 분포\n",
    "\n",
    "group1_1 = df1.minute_time[df1.minute_time<=7]\n",
    "plt.hist(group1_1, bins=600, density=True, color='tomato')\n",
    "plt.axis([0, 7, 0, 0.7])\n",
    "plt.xlabel('video length(minutes)')\n",
    "plt.ylabel('density')\n",
    "plt.title('7분이하 영상에 대한 영상길이 분포추이', fontproperties=fontprop)\n",
    "plt.show()"
   ]
  },
  {
   "cell_type": "markdown",
   "id": "ea71215d",
   "metadata": {},
   "source": [
    "* 3.5분에서 그 비율이 높다.\n",
    "* 1분도 안되는 영상은 대략 30초와 1분에서 그 비율이 앞도적으로 높다."
   ]
  },
  {
   "cell_type": "code",
   "execution_count": 21,
   "id": "15c11fda",
   "metadata": {},
   "outputs": [
    {
     "name": "stdout",
     "output_type": "stream",
     "text": [
      "상위 5개의 동영상길이\n",
      "\n",
      "(1) 3.33분이상 3.50분미만 : 0.04\n",
      "(2) 3.50분이상 3.67분미만 : 0.04\n",
      "(3) 1.00분이상 1.17분미만 : 0.04\n",
      "(4) 0.50분이상 0.67분미만 : 0.04\n",
      "(5) 3.17분이상 3.33분미만 : 0.03\n"
     ]
    }
   ],
   "source": [
    "step = 10 # 10초간격으로 나눈다.\n",
    "interval = 0\n",
    "result = []\n",
    "\n",
    "# 7분이하의 데이터들을 초(second)로 저장\n",
    "data = df1.seconds_time.dropna()\n",
    "data = data[data<=7*60]\n",
    "\n",
    "while True:\n",
    "    # 10초 간격의 interval에 포함되는 영상의 갯수\n",
    "    num = data.apply(lambda x: 1 if interval <= x and x < interval + step else 0).sum()\n",
    "    result.append(num)\n",
    "    \n",
    "    # 7분 이하의 영상에 대해서만 수행\n",
    "    interval += step\n",
    "    if (interval>7*60):\n",
    "        break\n",
    "\n",
    "# 상위 5개 추출\n",
    "result = np.array(result)\n",
    "idx = result.argsort()[::-1][:5]\n",
    "\n",
    "print('상위 5개의 동영상길이\\n')\n",
    "for i in range(5):\n",
    "    j = idx[i]\n",
    "    print('(%d) %1.2f분이상 %1.2f분미만 : %1.2f'%((i+1), step*j/60, (step*j+step)/60, result[j]/result.sum()))"
   ]
  },
  {
   "cell_type": "markdown",
   "id": "c9d30049",
   "metadata": {},
   "source": [
    "위에서 그래프로 확인한 것과 같이 7분 이하의 영상의 비율은 다음 3가지 영역에서 가장 비율이 높았다.\n",
    "* 3.17~3.50분\n",
    "* 1.00~1.17분\n",
    "* 0.50~0.76분"
   ]
  },
  {
   "cell_type": "code",
   "execution_count": 22,
   "id": "900e709f",
   "metadata": {
    "scrolled": false
   },
   "outputs": [
    {
     "data": {
      "image/png": "[encoded data removed]",
      "text/plain": [
       "<Figure size 432x288 with 1 Axes>"
      ]
     },
     "metadata": {
      "needs_background": "light"
     },
     "output_type": "display_data"
    }
   ],
   "source": [
    "# 마찬가지로 7분이상 20분미만 영상에 대해 같은 분석을 실시한다.\n",
    "\n",
    "# 0~20분 영상길이의 분포\n",
    "group1_2 = df1.minute_time.apply(lambda x: np.nan if x<7 else np.nan if x>=20 else x).dropna()\n",
    "plt.hist(group1_2, bins=600, density=True, color='tomato')\n",
    "plt.axis([7, 20, 0, 0.5])\n",
    "plt.xlabel('video length(minutes)')\n",
    "plt.ylabel('density')\n",
    "plt.title('7~20분 영상에 대한 영상길이 분포추이', fontproperties=fontprop)\n",
    "plt.show()"
   ]
  },
  {
   "cell_type": "code",
   "execution_count": 23,
   "id": "19f15247",
   "metadata": {},
   "outputs": [
    {
     "name": "stdout",
     "output_type": "stream",
     "text": [
      "상위 5개의 동영상길이\n",
      "\n",
      "(1) 8.00분이상 8.50분미만 : 0.12\n",
      "(2) 8.50분이상 9.00분미만 : 0.07\n",
      "(3) 10.00분이상 10.50분미만 : 0.07\n",
      "(4) 9.00분이상 9.50분미만 : 0.06\n",
      "(5) 9.50분이상 10.00분미만 : 0.05\n"
     ]
    }
   ],
   "source": [
    "step = 30 # 30초간격으로 나눈다.\n",
    "interval = 7*60 # 7분부터 시작\n",
    "result = []\n",
    "\n",
    "# 7분이상 20분미만의 데이터를 초(seconds)로 저장\n",
    "data = df1.seconds_time.apply(lambda x: np.nan if x<7*60 else np.nan if x>=20*60 else x).dropna()\n",
    "\n",
    "while True:\n",
    "    # 10초 간격의 interval에 포함되는 영상의 갯수\n",
    "    num = data.apply(lambda x: 1 if interval <= x and x < interval + step else 0).sum()\n",
    "    result.append(num)\n",
    "    \n",
    "    # 7분 이하의 영상에 대해서만 수행\n",
    "    interval += step\n",
    "    if (interval>20*60): # 20분 이하\n",
    "        break\n",
    "\n",
    "# 상위 5개 추출\n",
    "result = np.array(result)\n",
    "idx = result.argsort()[::-1][:5]\n",
    "\n",
    "print('상위 5개의 동영상길이\\n')\n",
    "for i in range(5):\n",
    "    j = idx[i]\n",
    "    print('(%d) %1.2f분이상 %1.2f분미만 : %1.2f'%((i+1), 7+step*j/60, 7+(step*j+step)/60, result[j]/result.sum()))"
   ]
  },
  {
   "cell_type": "markdown",
   "id": "62330472",
   "metadata": {},
   "source": [
    "* 7~20분 길이의 영상은 대부분 8분과 10분정도의 길이를 가진다."
   ]
  },
  {
   "cell_type": "code",
   "execution_count": null,
   "id": "f3d7409b",
   "metadata": {},
   "outputs": [],
   "source": []
  },
  {
   "cell_type": "markdown",
   "id": "dc9e1a82",
   "metadata": {},
   "source": [
    "### 1-(3). 12분 초과 영상길이의 분포\n"
   ]
  },
  {
   "cell_type": "code",
   "execution_count": 24,
   "id": "2ed8edcf",
   "metadata": {},
   "outputs": [
    {
     "data": {
      "image/png": "[encoded data removed]",
      "text/plain": [
       "<Figure size 432x288 with 1 Axes>"
      ]
     },
     "metadata": {
      "needs_background": "light"
     },
     "output_type": "display_data"
    }
   ],
   "source": [
    "# 20분을 넘어가는 영상길이의 분포\n",
    "\n",
    "group2 = df1.minute_time[df1.minute_time>12]\n",
    "plt.hist(group2, bins=500, density=True, color='tomato')\n",
    "plt.axis([12, 100, 0, 0.04])\n",
    "plt.xlabel('video length(minutes)')\n",
    "plt.ylabel('density')\n",
    "plt.title('12분이 넘는 영상에 대한 영상길이 분포추이', fontproperties=fontprop)\n",
    "plt.show()"
   ]
  },
  {
   "cell_type": "markdown",
   "id": "c17914f2",
   "metadata": {},
   "source": [
    "* 12분만 넘어가더라도 영상길이는 기하급수적으로 감소한다."
   ]
  },
  {
   "cell_type": "code",
   "execution_count": null,
   "id": "e3e6ac36",
   "metadata": {},
   "outputs": [],
   "source": []
  },
  {
   "cell_type": "code",
   "execution_count": null,
   "id": "06fda766",
   "metadata": {},
   "outputs": [],
   "source": []
  },
  {
   "cell_type": "markdown",
   "id": "27db1679",
   "metadata": {},
   "source": [
    "# 2. 시간의 흐름에 따른 영상길이"
   ]
  },
  {
   "cell_type": "markdown",
   "id": "63bc60fe",
   "metadata": {},
   "source": [
    "### 2-(1) 최근 1년이내 영상길이의 빈도 추이"
   ]
  },
  {
   "cell_type": "code",
   "execution_count": 25,
   "id": "b31d2037",
   "metadata": {},
   "outputs": [
    {
     "data": {
      "text/html": [
       "<div>\n",
       "<style scoped>\n",
       "    .dataframe tbody tr th:only-of-type {\n",
       "        vertical-align: middle;\n",
       "    }\n",
       "\n",
       "    .dataframe tbody tr th {\n",
       "        vertical-align: top;\n",
       "    }\n",
       "\n",
       "    .dataframe thead th {\n",
       "        text-align: right;\n",
       "    }\n",
       "</style>\n",
       "<table border=\"1\" class=\"dataframe\">\n",
       "  <thead>\n",
       "    <tr style=\"text-align: right;\">\n",
       "      <th></th>\n",
       "      <th>channelId</th>\n",
       "      <th>video_time</th>\n",
       "      <th>video_id</th>\n",
       "      <th>when</th>\n",
       "      <th>title</th>\n",
       "      <th>minute_time</th>\n",
       "      <th>seconds_time</th>\n",
       "      <th>open</th>\n",
       "      <th>totalview</th>\n",
       "      <th>subscriber</th>\n",
       "    </tr>\n",
       "  </thead>\n",
       "  <tbody>\n",
       "    <tr>\n",
       "      <th>0</th>\n",
       "      <td>UCu9BCtGIEr73LXZsKmoujKw</td>\n",
       "      <td>4:58</td>\n",
       "      <td>u6lyUnhaaqk</td>\n",
       "      <td>0.0</td>\n",
       "      <td>.</td>\n",
       "      <td>4.966667</td>\n",
       "      <td>298.0</td>\n",
       "      <td>2014-08-25</td>\n",
       "      <td>2.683340e+09</td>\n",
       "      <td>3230000.0</td>\n",
       "    </tr>\n",
       "  </tbody>\n",
       "</table>\n",
       "</div>"
      ],
      "text/plain": [
       "                  channelId video_time     video_id  when title  minute_time  \\\n",
       "0  UCu9BCtGIEr73LXZsKmoujKw       4:58  u6lyUnhaaqk   0.0     .     4.966667   \n",
       "\n",
       "   seconds_time        open     totalview  subscriber  \n",
       "0         298.0  2014-08-25  2.683340e+09   3230000.0  "
      ]
     },
     "execution_count": 25,
     "metadata": {},
     "output_type": "execute_result"
    }
   ],
   "source": [
    "# df1과 달리 when열을 몇개월전을 기준으로 재가공한 자료 <- df2\n",
    "\n",
    "df2.head(1)"
   ]
  },
  {
   "cell_type": "code",
   "execution_count": 26,
   "id": "1854729f",
   "metadata": {
    "scrolled": true
   },
   "outputs": [
    {
     "data": {
      "text/html": [
       "<div>\n",
       "<style scoped>\n",
       "    .dataframe tbody tr th:only-of-type {\n",
       "        vertical-align: middle;\n",
       "    }\n",
       "\n",
       "    .dataframe tbody tr th {\n",
       "        vertical-align: top;\n",
       "    }\n",
       "\n",
       "    .dataframe thead th {\n",
       "        text-align: right;\n",
       "    }\n",
       "</style>\n",
       "<table border=\"1\" class=\"dataframe\">\n",
       "  <thead>\n",
       "    <tr style=\"text-align: right;\">\n",
       "      <th></th>\n",
       "      <th>when</th>\n",
       "      <th>minute_time</th>\n",
       "    </tr>\n",
       "  </thead>\n",
       "  <tbody>\n",
       "    <tr>\n",
       "      <th>0</th>\n",
       "      <td>0.0</td>\n",
       "      <td>4.966667</td>\n",
       "    </tr>\n",
       "    <tr>\n",
       "      <th>1</th>\n",
       "      <td>8.0</td>\n",
       "      <td>10.750000</td>\n",
       "    </tr>\n",
       "    <tr>\n",
       "      <th>2</th>\n",
       "      <td>9.0</td>\n",
       "      <td>11.883333</td>\n",
       "    </tr>\n",
       "    <tr>\n",
       "      <th>3</th>\n",
       "      <td>9.0</td>\n",
       "      <td>9.683333</td>\n",
       "    </tr>\n",
       "    <tr>\n",
       "      <th>4</th>\n",
       "      <td>9.0</td>\n",
       "      <td>NaN</td>\n",
       "    </tr>\n",
       "  </tbody>\n",
       "</table>\n",
       "</div>"
      ],
      "text/plain": [
       "   when  minute_time\n",
       "0   0.0     4.966667\n",
       "1   8.0    10.750000\n",
       "2   9.0    11.883333\n",
       "3   9.0     9.683333\n",
       "4   9.0          NaN"
      ]
     },
     "execution_count": 26,
     "metadata": {},
     "output_type": "execute_result"
    }
   ],
   "source": [
    "data = df2.loc[:,['when','minute_time']]\n",
    "data.head(5)"
   ]
  },
  {
   "cell_type": "code",
   "execution_count": 27,
   "id": "9f886ded",
   "metadata": {
    "scrolled": true
   },
   "outputs": [
    {
     "data": {
      "image/png": "[encoded data removed]",
      "text/plain": [
       "<Figure size 432x288 with 1 Axes>"
      ]
     },
     "metadata": {
      "needs_background": "light"
     },
     "output_type": "display_data"
    }
   ],
   "source": [
    "# 전체 자료의 시간 흐름에 따른 영상시간\n",
    "\n",
    "plt.scatter(data.when.values,data.minute_time.values, alpha=0.05)\n",
    "plt.xlabel('months ago')\n",
    "plt.ylabel('video time range')\n",
    "plt.title('전체자료의 시간 흐름에 따른 영상시간 추이', fontproperties=fontprop)\n",
    "plt.show()"
   ]
  },
  {
   "cell_type": "markdown",
   "id": "3d06bcd5",
   "metadata": {},
   "source": [
    "* 자료의 수가 너무 많이 차이가 나서 확실하게 말하기 어려우나\n",
    "* 최근 영상은 영상의 시간이 0~400분까지 다양하게 나타난다."
   ]
  },
  {
   "cell_type": "code",
   "execution_count": 28,
   "id": "46311575",
   "metadata": {
    "scrolled": true
   },
   "outputs": [
    {
     "name": "stdout",
     "output_type": "stream",
     "text": [
      "전체 데이터 수 : 217791\n",
      "group1(1년이하) 데이터 수 : 176216\n",
      "group2(1년초과) 데이터 수 : 41575\n",
      "group2(1년초과) 데이터 수 : 41575\n"
     ]
    }
   ],
   "source": [
    "# 전체 데이터를 1년초과와 이하로 나눈다.\n",
    "\n",
    "data = data.sort_values(by=['when'],ascending=False)\n",
    "print('전체 데이터 수 : %d'%data.when.count())\n",
    "\n",
    "# 1년 이하 영상들\n",
    "idx = np.where(data.when < 12)[0] # 1년이 넘은 영상들의 index\n",
    "idx\n",
    "group1 = data.iloc[idx,:]\n",
    "print('group1(1년이하) 데이터 수 : %d'%group1.when.count())\n",
    "\n",
    "# 1년 초과 영상들\n",
    "idx = np.where(data.when >= 12)[0] # 1년이 넘은 영상들의 index <- np.where은 기존 index가 아닌\n",
    "# 새로운 index를 기준으로 한다.\n",
    "idx\n",
    "group2 = data.iloc[idx,:]\n",
    "print('group2(1년초과) 데이터 수 : %d'%group2.when.count())\n",
    "\n",
    "# tip) 다른 방법\n",
    "idx = data.when[data.when>=12].index # 기존 index를 사용하는 방법\n",
    "group2 = data.loc[idx,:]\n",
    "print('group2(1년초과) 데이터 수 : %d'%group2.when.count())"
   ]
  },
  {
   "cell_type": "code",
   "execution_count": 29,
   "id": "028d6aed",
   "metadata": {},
   "outputs": [
    {
     "data": {
      "text/html": [
       "<div>\n",
       "<style scoped>\n",
       "    .dataframe tbody tr th:only-of-type {\n",
       "        vertical-align: middle;\n",
       "    }\n",
       "\n",
       "    .dataframe tbody tr th {\n",
       "        vertical-align: top;\n",
       "    }\n",
       "\n",
       "    .dataframe thead th {\n",
       "        text-align: right;\n",
       "    }\n",
       "</style>\n",
       "<table border=\"1\" class=\"dataframe\">\n",
       "  <thead>\n",
       "    <tr style=\"text-align: right;\">\n",
       "      <th></th>\n",
       "      <th>when</th>\n",
       "      <th>minute_time</th>\n",
       "    </tr>\n",
       "  </thead>\n",
       "  <tbody>\n",
       "    <tr>\n",
       "      <th>80184</th>\n",
       "      <td>11.0</td>\n",
       "      <td>6.816667</td>\n",
       "    </tr>\n",
       "    <tr>\n",
       "      <th>85095</th>\n",
       "      <td>11.0</td>\n",
       "      <td>0.450000</td>\n",
       "    </tr>\n",
       "    <tr>\n",
       "      <th>150032</th>\n",
       "      <td>11.0</td>\n",
       "      <td>1.466667</td>\n",
       "    </tr>\n",
       "    <tr>\n",
       "      <th>80183</th>\n",
       "      <td>11.0</td>\n",
       "      <td>1.350000</td>\n",
       "    </tr>\n",
       "    <tr>\n",
       "      <th>85098</th>\n",
       "      <td>11.0</td>\n",
       "      <td>0.433333</td>\n",
       "    </tr>\n",
       "  </tbody>\n",
       "</table>\n",
       "</div>"
      ],
      "text/plain": [
       "        when  minute_time\n",
       "80184   11.0     6.816667\n",
       "85095   11.0     0.450000\n",
       "150032  11.0     1.466667\n",
       "80183   11.0     1.350000\n",
       "85098   11.0     0.433333"
      ]
     },
     "execution_count": 29,
     "metadata": {},
     "output_type": "execute_result"
    }
   ],
   "source": [
    "group1.head()"
   ]
  },
  {
   "cell_type": "code",
   "execution_count": 30,
   "id": "8005c24f",
   "metadata": {},
   "outputs": [
    {
     "data": {
      "image/png": "[encoded data removed]",
      "text/plain": [
       "<Figure size 432x288 with 1 Axes>"
      ]
     },
     "metadata": {
      "needs_background": "light"
     },
     "output_type": "display_data"
    }
   ],
   "source": [
    "# '1년 이하 영상에 대한 시간흐름의 영상시간 추이\n",
    "plt.scatter(group1.when.values,group1.minute_time.values, alpha=0.1)\n",
    "plt.xlabel('months ago')\n",
    "plt.ylabel('video time range')\n",
    "plt.title('1년이하 자료의 시간 흐름에 따른 영상시간 추이', fontproperties=fontprop)\n",
    "plt.show()"
   ]
  },
  {
   "cell_type": "code",
   "execution_count": 31,
   "id": "603025f0",
   "metadata": {},
   "outputs": [
    {
     "data": {
      "image/png": "[encoded data removed]",
      "text/plain": [
       "<Figure size 432x288 with 1 Axes>"
      ]
     },
     "metadata": {
      "needs_background": "light"
     },
     "output_type": "display_data"
    }
   ],
   "source": [
    "# '1년 초과 영상에 대한 시간흐름의 영상시간 추이\n",
    "plt.scatter(group2.when.values,group2.minute_time.values, alpha=0.1)\n",
    "plt.xlabel('months ago')\n",
    "plt.ylabel('video time range')\n",
    "plt.title('1년초과 자료의 시간 흐름에 따른 영상시간 추이', fontproperties=fontprop)\n",
    "plt.show()"
   ]
  },
  {
   "cell_type": "markdown",
   "id": "ee659b7d",
   "metadata": {},
   "source": [
    "* 최근일수록 영상의 길이가 긴 영상들이 꽤 많으며\n",
    "* 길이가 긴 영상보다는 짧은 영상이 훨씬 많다."
   ]
  },
  {
   "cell_type": "code",
   "execution_count": null,
   "id": "9c17dfe5",
   "metadata": {},
   "outputs": [],
   "source": []
  },
  {
   "cell_type": "markdown",
   "id": "dd3029e0",
   "metadata": {},
   "source": [
    "### 2-(2) 최근 1년이내 영상길이의 대푯값 추이"
   ]
  },
  {
   "cell_type": "code",
   "execution_count": 32,
   "id": "6603a41c",
   "metadata": {
    "scrolled": false
   },
   "outputs": [
    {
     "data": {
      "text/html": [
       "<div>\n",
       "<style scoped>\n",
       "    .dataframe tbody tr th:only-of-type {\n",
       "        vertical-align: middle;\n",
       "    }\n",
       "\n",
       "    .dataframe tbody tr th {\n",
       "        vertical-align: top;\n",
       "    }\n",
       "\n",
       "    .dataframe thead tr th {\n",
       "        text-align: left;\n",
       "    }\n",
       "\n",
       "    .dataframe thead tr:last-of-type th {\n",
       "        text-align: right;\n",
       "    }\n",
       "</style>\n",
       "<table border=\"1\" class=\"dataframe\">\n",
       "  <thead>\n",
       "    <tr>\n",
       "      <th></th>\n",
       "      <th>mean</th>\n",
       "      <th>median</th>\n",
       "      <th>mode</th>\n",
       "    </tr>\n",
       "    <tr>\n",
       "      <th></th>\n",
       "      <th>minute_time</th>\n",
       "      <th>minute_time</th>\n",
       "      <th>minute_time</th>\n",
       "    </tr>\n",
       "    <tr>\n",
       "      <th>when</th>\n",
       "      <th></th>\n",
       "      <th></th>\n",
       "      <th></th>\n",
       "    </tr>\n",
       "  </thead>\n",
       "  <tbody>\n",
       "    <tr>\n",
       "      <th>0.0</th>\n",
       "      <td>15.844358</td>\n",
       "      <td>8.033333</td>\n",
       "      <td>0.516667</td>\n",
       "    </tr>\n",
       "    <tr>\n",
       "      <th>1.0</th>\n",
       "      <td>15.516397</td>\n",
       "      <td>8.316667</td>\n",
       "      <td>0.516667</td>\n",
       "    </tr>\n",
       "    <tr>\n",
       "      <th>2.0</th>\n",
       "      <td>16.409675</td>\n",
       "      <td>9.016667</td>\n",
       "      <td>8.016667</td>\n",
       "    </tr>\n",
       "    <tr>\n",
       "      <th>3.0</th>\n",
       "      <td>15.123456</td>\n",
       "      <td>8.833333</td>\n",
       "      <td>8.016667</td>\n",
       "    </tr>\n",
       "    <tr>\n",
       "      <th>4.0</th>\n",
       "      <td>15.807558</td>\n",
       "      <td>9.016667</td>\n",
       "      <td>8.016667</td>\n",
       "    </tr>\n",
       "    <tr>\n",
       "      <th>5.0</th>\n",
       "      <td>13.450195</td>\n",
       "      <td>8.716667</td>\n",
       "      <td>8.016667</td>\n",
       "    </tr>\n",
       "    <tr>\n",
       "      <th>6.0</th>\n",
       "      <td>12.710510</td>\n",
       "      <td>8.616667</td>\n",
       "      <td>8.033333</td>\n",
       "    </tr>\n",
       "    <tr>\n",
       "      <th>7.0</th>\n",
       "      <td>13.698115</td>\n",
       "      <td>8.766667</td>\n",
       "      <td>8.016667</td>\n",
       "    </tr>\n",
       "    <tr>\n",
       "      <th>8.0</th>\n",
       "      <td>13.106226</td>\n",
       "      <td>8.383333</td>\n",
       "      <td>8.033333</td>\n",
       "    </tr>\n",
       "    <tr>\n",
       "      <th>9.0</th>\n",
       "      <td>13.404022</td>\n",
       "      <td>8.716667</td>\n",
       "      <td>8.016667</td>\n",
       "    </tr>\n",
       "    <tr>\n",
       "      <th>10.0</th>\n",
       "      <td>13.508830</td>\n",
       "      <td>8.441667</td>\n",
       "      <td>[1.0166666666666666, 8.016666666666667]</td>\n",
       "    </tr>\n",
       "    <tr>\n",
       "      <th>11.0</th>\n",
       "      <td>11.426016</td>\n",
       "      <td>8.316667</td>\n",
       "      <td>8.016667</td>\n",
       "    </tr>\n",
       "  </tbody>\n",
       "</table>\n",
       "</div>"
      ],
      "text/plain": [
       "            mean      median                                     mode\n",
       "     minute_time minute_time                              minute_time\n",
       "when                                                                 \n",
       "0.0    15.844358    8.033333                                 0.516667\n",
       "1.0    15.516397    8.316667                                 0.516667\n",
       "2.0    16.409675    9.016667                                 8.016667\n",
       "3.0    15.123456    8.833333                                 8.016667\n",
       "4.0    15.807558    9.016667                                 8.016667\n",
       "5.0    13.450195    8.716667                                 8.016667\n",
       "6.0    12.710510    8.616667                                 8.033333\n",
       "7.0    13.698115    8.766667                                 8.016667\n",
       "8.0    13.106226    8.383333                                 8.033333\n",
       "9.0    13.404022    8.716667                                 8.016667\n",
       "10.0   13.508830    8.441667  [1.0166666666666666, 8.016666666666667]\n",
       "11.0   11.426016    8.316667                                 8.016667"
      ]
     },
     "execution_count": 32,
     "metadata": {},
     "output_type": "execute_result"
    }
   ],
   "source": [
    "# 각 개월별 대푯값을 추출해서 그래프를 그려보자.\n",
    "# 1년미만 데이터들의 mean, median, mode의 값\n",
    "\n",
    "data1 = pd.concat([group1.groupby('when').mean(), group1.groupby('when').median(),\n",
    "                  group1.groupby(['when']).agg(pd.Series.mode)], axis=1, keys=['mean','median','mode'])\n",
    "data1"
   ]
  },
  {
   "cell_type": "code",
   "execution_count": 33,
   "id": "384e4d24",
   "metadata": {
    "scrolled": true
   },
   "outputs": [
    {
     "data": {
      "image/png": "[encoded data removed]",
      "text/plain": [
       "<Figure size 1296x432 with 3 Axes>"
      ]
     },
     "execution_count": 33,
     "metadata": {},
     "output_type": "execute_result"
    },
    {
     "data": {
      "image/png": "[encoded data removed]",
      "text/plain": [
       "<Figure size 1296x432 with 3 Axes>"
      ]
     },
     "metadata": {
      "needs_background": "light"
     },
     "output_type": "display_data"
    }
   ],
   "source": [
    "fig = plt.figure(figsize=(18,6))\n",
    "\n",
    "# 최근 1년이내 영상 길이 평균의 추이\n",
    "ax1 = fig.add_subplot(1, 3, 1)\n",
    "ax1.set_xlabel('months ago')\n",
    "ax1.set_ylabel('video length')\n",
    "ax1.set_title('최근 1년이내 영상길이 평균의 추이', fontproperties=fontprop)\n",
    "line1 = ax1.plot(data1.index, data1['mean'].minute_time, color='tomato')\n",
    "plt.setp(line1, color='r', linewidth=5.0)\n",
    "plt.axis([0, 12, 0, 18])\n",
    "\n",
    "\n",
    "# 최근 1년이내 영상길이 중앙값의 추이\n",
    "ax2 = fig.add_subplot(1, 3, 2)\n",
    "ax2.set_xlabel('months ago')\n",
    "ax2.set_ylabel('video length')\n",
    "ax2.set_title('최근 1년이내 영상길이 중앙값의 추이', fontproperties=fontprop)\n",
    "line2 = plt.plot(data1.index, data1['median'].minute_time, color='tomato')\n",
    "plt.setp(line2, color='r', linewidth=5.0)\n",
    "plt.axis([0, 12, 0, 18])\n",
    "\n",
    "\n",
    "# 최근 1년이내 영상길이 최빈값의 추이\n",
    "mode_data = data1['mode'].minute_time.apply(lambda x:x[-1] if type(x)==type(np.array([])) else x)\n",
    "mode_data\n",
    "\n",
    "ax3 = fig.add_subplot(1, 3, 3)\n",
    "ax3.set_xlabel('months ago')\n",
    "ax3.set_ylabel('video length')\n",
    "ax3.set_title('최근 1년이내 영상길이 최빈값의 추이', fontproperties=fontprop)\n",
    "line3 = plt.plot(mode_data.index,mode_data.values, color='tomato')\n",
    "plt.setp(line3, color='r', linewidth=5.0)\n",
    "plt.axis([0, 12, 0, 18])\n",
    "\n",
    "\n",
    "fig"
   ]
  },
  {
   "cell_type": "markdown",
   "id": "cef09107",
   "metadata": {},
   "source": [
    "* 최근 1년 사이에 점점 비디오영상의 평균길이는 길어지고 있다."
   ]
  },
  {
   "cell_type": "markdown",
   "id": "63713c51",
   "metadata": {},
   "source": [
    "* 최근 1년 사이에 영상길이의 중앙값 또한 줄어들고 있지만,\n",
    "* 가장 최근에는 영상길이가 짧아지는데 아마 최근에는 8분짜리 영상이 매우 많아져서 그런가싶다."
   ]
  },
  {
   "cell_type": "markdown",
   "id": "251f4689",
   "metadata": {},
   "source": [
    "* 역시 최근 2달 이내에 이전과 다른 점이 있다면, 1분미만의 영상 수가 많이 늘어났다는 것이다.\n",
    "* 그리고 최근 1년간 대부분 8분이 약간 넘는 영상들이 매우 많다.\n",
    "* 아마 유튜브 영상 광고가 8분이 넘어야 광고가 2개가 들어가\n",
    "* 유튜버가 수익을 벌 수 있기 때문일 것이다."
   ]
  },
  {
   "cell_type": "code",
   "execution_count": null,
   "id": "619f3e3f",
   "metadata": {},
   "outputs": [],
   "source": []
  },
  {
   "cell_type": "markdown",
   "id": "14a2bbc5",
   "metadata": {},
   "source": [
    "#### 1년보다 오래된 영상길이의 대푯값 추이"
   ]
  },
  {
   "cell_type": "code",
   "execution_count": 34,
   "id": "51052561",
   "metadata": {
    "scrolled": true
   },
   "outputs": [
    {
     "data": {
      "text/html": [
       "<div>\n",
       "<style scoped>\n",
       "    .dataframe tbody tr th:only-of-type {\n",
       "        vertical-align: middle;\n",
       "    }\n",
       "\n",
       "    .dataframe tbody tr th {\n",
       "        vertical-align: top;\n",
       "    }\n",
       "\n",
       "    .dataframe thead tr th {\n",
       "        text-align: left;\n",
       "    }\n",
       "\n",
       "    .dataframe thead tr:last-of-type th {\n",
       "        text-align: right;\n",
       "    }\n",
       "</style>\n",
       "<table border=\"1\" class=\"dataframe\">\n",
       "  <thead>\n",
       "    <tr>\n",
       "      <th></th>\n",
       "      <th>mean</th>\n",
       "      <th>median</th>\n",
       "      <th>mode</th>\n",
       "    </tr>\n",
       "    <tr>\n",
       "      <th></th>\n",
       "      <th>minute_time</th>\n",
       "      <th>minute_time</th>\n",
       "      <th>minute_time</th>\n",
       "    </tr>\n",
       "    <tr>\n",
       "      <th>when</th>\n",
       "      <th></th>\n",
       "      <th></th>\n",
       "      <th></th>\n",
       "    </tr>\n",
       "  </thead>\n",
       "  <tbody>\n",
       "    <tr>\n",
       "      <th>12.0</th>\n",
       "      <td>11.007618</td>\n",
       "      <td>8.050000</td>\n",
       "      <td>8.016667</td>\n",
       "    </tr>\n",
       "    <tr>\n",
       "      <th>24.0</th>\n",
       "      <td>10.798487</td>\n",
       "      <td>6.116667</td>\n",
       "      <td>0.516667</td>\n",
       "    </tr>\n",
       "    <tr>\n",
       "      <th>36.0</th>\n",
       "      <td>15.362146</td>\n",
       "      <td>3.983333</td>\n",
       "      <td>0.266667</td>\n",
       "    </tr>\n",
       "    <tr>\n",
       "      <th>48.0</th>\n",
       "      <td>6.123983</td>\n",
       "      <td>3.916667</td>\n",
       "      <td>0.516667</td>\n",
       "    </tr>\n",
       "    <tr>\n",
       "      <th>60.0</th>\n",
       "      <td>5.664781</td>\n",
       "      <td>3.633333</td>\n",
       "      <td>0.5</td>\n",
       "    </tr>\n",
       "    <tr>\n",
       "      <th>72.0</th>\n",
       "      <td>4.718856</td>\n",
       "      <td>3.850000</td>\n",
       "      <td>0.55</td>\n",
       "    </tr>\n",
       "    <tr>\n",
       "      <th>84.0</th>\n",
       "      <td>4.934280</td>\n",
       "      <td>3.966667</td>\n",
       "      <td>0.3</td>\n",
       "    </tr>\n",
       "    <tr>\n",
       "      <th>96.0</th>\n",
       "      <td>5.102174</td>\n",
       "      <td>4.133333</td>\n",
       "      <td>[0.5166666666666667, 0.55, 1.8166666666666669,...</td>\n",
       "    </tr>\n",
       "    <tr>\n",
       "      <th>108.0</th>\n",
       "      <td>3.501485</td>\n",
       "      <td>3.416667</td>\n",
       "      <td>[1.6, 3.9]</td>\n",
       "    </tr>\n",
       "    <tr>\n",
       "      <th>120.0</th>\n",
       "      <td>5.028307</td>\n",
       "      <td>3.900000</td>\n",
       "      <td>3.383333</td>\n",
       "    </tr>\n",
       "    <tr>\n",
       "      <th>132.0</th>\n",
       "      <td>4.014327</td>\n",
       "      <td>4.166667</td>\n",
       "      <td>4.183333</td>\n",
       "    </tr>\n",
       "    <tr>\n",
       "      <th>144.0</th>\n",
       "      <td>1.904167</td>\n",
       "      <td>1.241667</td>\n",
       "      <td>[0.3666666666666666, 0.5, 0.85, 0.95, 1.05, 1....</td>\n",
       "    </tr>\n",
       "    <tr>\n",
       "      <th>156.0</th>\n",
       "      <td>2.103704</td>\n",
       "      <td>1.650000</td>\n",
       "      <td>4.483333</td>\n",
       "    </tr>\n",
       "    <tr>\n",
       "      <th>168.0</th>\n",
       "      <td>0.200000</td>\n",
       "      <td>0.200000</td>\n",
       "      <td>0.2</td>\n",
       "    </tr>\n",
       "  </tbody>\n",
       "</table>\n",
       "</div>"
      ],
      "text/plain": [
       "             mean      median  \\\n",
       "      minute_time minute_time   \n",
       "when                            \n",
       "12.0    11.007618    8.050000   \n",
       "24.0    10.798487    6.116667   \n",
       "36.0    15.362146    3.983333   \n",
       "48.0     6.123983    3.916667   \n",
       "60.0     5.664781    3.633333   \n",
       "72.0     4.718856    3.850000   \n",
       "84.0     4.934280    3.966667   \n",
       "96.0     5.102174    4.133333   \n",
       "108.0    3.501485    3.416667   \n",
       "120.0    5.028307    3.900000   \n",
       "132.0    4.014327    4.166667   \n",
       "144.0    1.904167    1.241667   \n",
       "156.0    2.103704    1.650000   \n",
       "168.0    0.200000    0.200000   \n",
       "\n",
       "                                                    mode  \n",
       "                                             minute_time  \n",
       "when                                                      \n",
       "12.0                                            8.016667  \n",
       "24.0                                            0.516667  \n",
       "36.0                                            0.266667  \n",
       "48.0                                            0.516667  \n",
       "60.0                                                 0.5  \n",
       "72.0                                                0.55  \n",
       "84.0                                                 0.3  \n",
       "96.0   [0.5166666666666667, 0.55, 1.8166666666666669,...  \n",
       "108.0                                         [1.6, 3.9]  \n",
       "120.0                                           3.383333  \n",
       "132.0                                           4.183333  \n",
       "144.0  [0.3666666666666666, 0.5, 0.85, 0.95, 1.05, 1....  \n",
       "156.0                                           4.483333  \n",
       "168.0                                                0.2  "
      ]
     },
     "execution_count": 34,
     "metadata": {},
     "output_type": "execute_result"
    }
   ],
   "source": [
    "data2 = pd.concat([group2.groupby('when').mean(), group2.groupby('when').median(),\n",
    "                  group2.groupby(['when']).agg(pd.Series.mode)], axis=1, keys=['mean','median','mode'])\n",
    "data2"
   ]
  },
  {
   "cell_type": "code",
   "execution_count": 35,
   "id": "f58128c3",
   "metadata": {
    "scrolled": true
   },
   "outputs": [
    {
     "data": {
      "image/png": "[encoded data removed]",
      "text/plain": [
       "<Figure size 1296x432 with 3 Axes>"
      ]
     },
     "execution_count": 35,
     "metadata": {},
     "output_type": "execute_result"
    },
    {
     "data": {
      "image/png": "[encoded data removed]",
      "text/plain": [
       "<Figure size 1296x432 with 3 Axes>"
      ]
     },
     "metadata": {
      "needs_background": "light"
     },
     "output_type": "display_data"
    }
   ],
   "source": [
    "fig = plt.figure(figsize=(18,6))\n",
    "\n",
    "# 1년이 넘은 영상 길이 평균의 추이\n",
    "ax1 = fig.add_subplot(1, 3, 1)\n",
    "ax1.set_xlabel('months ago')\n",
    "ax1.set_ylabel('video length')\n",
    "ax1.set_title('1년이 넘은 영상길이 평균의 추이', fontproperties=fontprop)\n",
    "line1 = ax1.plot(data2.index,data2['mean'].minute_time, color='tomato')\n",
    "plt.setp(line1, color='r', linewidth=5.0)\n",
    "plt.axis([0, 180, 0, 16])\n",
    "\n",
    "\n",
    "# 최근 1년이내 영상길이 중앙값의 추이\n",
    "ax2 = fig.add_subplot(1, 3, 2)\n",
    "ax2.set_xlabel('months ago')\n",
    "ax2.set_ylabel('video length')\n",
    "ax2.set_title('1년이 넘은 영상길이 중앙값의 추이', fontproperties=fontprop)\n",
    "line2 = ax2.plot(data2.index,data2['median'].minute_time, color='tomato')\n",
    "plt.setp(line2, color='r', linewidth=5.0)\n",
    "plt.axis([0, 180, 0, 16])\n",
    "\n",
    "\n",
    "# 최근 1년이내 영상길이 최빈값의 추이\n",
    "# 너무 많이 최빈값이 나와 하나를 선택할 수 없으니 그냥 제거해버리자.\n",
    "mode_data = data2['mode'].minute_time.apply(lambda x:np.nan if type(x)==type(np.array([])) else x)\n",
    "mode_data\n",
    "\n",
    "ax3 = fig.add_subplot(1, 3, 3)\n",
    "ax3.set_xlabel('months ago')\n",
    "ax3.set_ylabel('video length')\n",
    "ax3.set_title('1년이 넘은 영상길이 최빈값의 추이', fontproperties=fontprop)\n",
    "line3 = ax3.plot(mode_data, color='tomato')\n",
    "plt.setp(line3, color='r', linewidth=5.0)\n",
    "plt.axis([0, 180, 0, 16])\n",
    "\n",
    "fig"
   ]
  },
  {
   "cell_type": "markdown",
   "id": "6de6b025",
   "metadata": {},
   "source": [
    "* 이전에 1년이하의 최신영상과 같이 점점 최신으로 올수록 평균영상의 길이가 증가하였다."
   ]
  },
  {
   "cell_type": "markdown",
   "id": "5439c761",
   "metadata": {},
   "source": [
    "* 점점 최신으로 들어올수록 영상의 중앙값 또한 증가하기는 마찬가지이다."
   ]
  },
  {
   "cell_type": "markdown",
   "id": "7a214b17",
   "metadata": {},
   "source": [
    "* 사실 12년전까지만 해도 10분이 넘어야 광고가 2개가 들어가서\n",
    "* 10분인 영상이 가장 많을줄 알았지만.. 그러지 않았다.\n",
    "* 그리고 최근 1,2년 사이에 영상길이가 8분대가 매우 많아진 것은 사실이다."
   ]
  },
  {
   "cell_type": "code",
   "execution_count": null,
   "id": "0d1d194f",
   "metadata": {},
   "outputs": [],
   "source": []
  },
  {
   "cell_type": "code",
   "execution_count": null,
   "id": "5fd0b5dc",
   "metadata": {},
   "outputs": [],
   "source": []
  },
  {
   "cell_type": "markdown",
   "id": "308d0734",
   "metadata": {},
   "source": [
    "# 3 카테고리별 영상 길이"
   ]
  },
  {
   "cell_type": "code",
   "execution_count": 36,
   "id": "8b96f4ee",
   "metadata": {},
   "outputs": [],
   "source": [
    "# youtube_nodouble_unique에 있는 channelId와 category_name 정보를 받아서\n",
    "# channel_total의 데이터와 merge해서 분석을 해보자."
   ]
  },
  {
   "cell_type": "code",
   "execution_count": 37,
   "id": "d0ea8b34",
   "metadata": {},
   "outputs": [
    {
     "data": {
      "text/html": [
       "<div>\n",
       "<style scoped>\n",
       "    .dataframe tbody tr th:only-of-type {\n",
       "        vertical-align: middle;\n",
       "    }\n",
       "\n",
       "    .dataframe tbody tr th {\n",
       "        vertical-align: top;\n",
       "    }\n",
       "\n",
       "    .dataframe thead th {\n",
       "        text-align: right;\n",
       "    }\n",
       "</style>\n",
       "<table border=\"1\" class=\"dataframe\">\n",
       "  <thead>\n",
       "    <tr style=\"text-align: right;\">\n",
       "      <th></th>\n",
       "      <th>channelId</th>\n",
       "      <th>video_time</th>\n",
       "      <th>video_id</th>\n",
       "      <th>when</th>\n",
       "      <th>title</th>\n",
       "      <th>minute_time</th>\n",
       "      <th>seconds_time</th>\n",
       "      <th>open</th>\n",
       "      <th>totalview</th>\n",
       "      <th>subscriber</th>\n",
       "    </tr>\n",
       "  </thead>\n",
       "  <tbody>\n",
       "    <tr>\n",
       "      <th>0</th>\n",
       "      <td>UCu9BCtGIEr73LXZsKmoujKw</td>\n",
       "      <td>4:58</td>\n",
       "      <td>u6lyUnhaaqk</td>\n",
       "      <td>10일 전</td>\n",
       "      <td>.</td>\n",
       "      <td>4.966667</td>\n",
       "      <td>298.0</td>\n",
       "      <td>2014-08-25</td>\n",
       "      <td>2.683340e+09</td>\n",
       "      <td>3230000.0</td>\n",
       "    </tr>\n",
       "  </tbody>\n",
       "</table>\n",
       "</div>"
      ],
      "text/plain": [
       "                  channelId video_time     video_id   when title  minute_time  \\\n",
       "0  UCu9BCtGIEr73LXZsKmoujKw       4:58  u6lyUnhaaqk  10일 전     .     4.966667   \n",
       "\n",
       "   seconds_time        open     totalview  subscriber  \n",
       "0         298.0  2014-08-25  2.683340e+09   3230000.0  "
      ]
     },
     "execution_count": 37,
     "metadata": {},
     "output_type": "execute_result"
    }
   ],
   "source": [
    "# channel_total\n",
    "\n",
    "df1.head(1)"
   ]
  },
  {
   "cell_type": "code",
   "execution_count": 38,
   "id": "76394e51",
   "metadata": {
    "scrolled": true
   },
   "outputs": [
    {
     "data": {
      "text/html": [
       "<div>\n",
       "<style scoped>\n",
       "    .dataframe tbody tr th:only-of-type {\n",
       "        vertical-align: middle;\n",
       "    }\n",
       "\n",
       "    .dataframe tbody tr th {\n",
       "        vertical-align: top;\n",
       "    }\n",
       "\n",
       "    .dataframe thead th {\n",
       "        text-align: right;\n",
       "    }\n",
       "</style>\n",
       "<table border=\"1\" class=\"dataframe\">\n",
       "  <thead>\n",
       "    <tr style=\"text-align: right;\">\n",
       "      <th></th>\n",
       "      <th>video_id</th>\n",
       "      <th>title</th>\n",
       "      <th>publishedAt</th>\n",
       "      <th>channelId</th>\n",
       "      <th>channelTitle</th>\n",
       "      <th>trending_date</th>\n",
       "      <th>tags</th>\n",
       "      <th>view_count</th>\n",
       "      <th>likes</th>\n",
       "      <th>dislikes</th>\n",
       "      <th>comment_count</th>\n",
       "      <th>description</th>\n",
       "      <th>category_name</th>\n",
       "      <th>tag_num</th>\n",
       "      <th>period</th>\n",
       "      <th>Unnamed: 0</th>\n",
       "      <th>comments_disabled</th>\n",
       "      <th>ratings_disabled</th>\n",
       "    </tr>\n",
       "  </thead>\n",
       "  <tbody>\n",
       "    <tr>\n",
       "      <th>0</th>\n",
       "      <td>uq5LClQN3cE</td>\n",
       "      <td>안녕하세요 보겸입니다</td>\n",
       "      <td>2020-08-09 09:32:48</td>\n",
       "      <td>UCu9BCtGIEr73LXZsKmoujKw</td>\n",
       "      <td>보겸 BK</td>\n",
       "      <td>2020-08-18 00:00:00</td>\n",
       "      <td>보겸|bokyem</td>\n",
       "      <td>6879571</td>\n",
       "      <td>53705</td>\n",
       "      <td>115494</td>\n",
       "      <td>128860</td>\n",
       "      <td>NaN</td>\n",
       "      <td>Entertainment</td>\n",
       "      <td>2</td>\n",
       "      <td>7</td>\n",
       "      <td>950.0</td>\n",
       "      <td>False</td>\n",
       "      <td>False</td>\n",
       "    </tr>\n",
       "  </tbody>\n",
       "</table>\n",
       "</div>"
      ],
      "text/plain": [
       "      video_id        title          publishedAt                 channelId  \\\n",
       "0  uq5LClQN3cE  안녕하세요 보겸입니다  2020-08-09 09:32:48  UCu9BCtGIEr73LXZsKmoujKw   \n",
       "\n",
       "  channelTitle        trending_date       tags  view_count  likes  dislikes  \\\n",
       "0        보겸 BK  2020-08-18 00:00:00  보겸|bokyem     6879571  53705    115494   \n",
       "\n",
       "   comment_count description  category_name  tag_num  period  Unnamed: 0  \\\n",
       "0         128860         NaN  Entertainment        2       7       950.0   \n",
       "\n",
       "   comments_disabled  ratings_disabled  \n",
       "0              False             False  "
      ]
     },
     "execution_count": 38,
     "metadata": {},
     "output_type": "execute_result"
    }
   ],
   "source": [
    "# youtube_nodouble_unique\n",
    "\n",
    "url2 = '/Users/namhunkim/Library/CloudStorage/OneDrive-연세대학교(YonseiUniversity)/DSL/EDA/data/main/youtube_nodouble_unique.csv'\n",
    "df2 = pd.read_csv(url2,lineterminator='\\n')\n",
    "df2.head(1)"
   ]
  },
  {
   "cell_type": "code",
   "execution_count": 39,
   "id": "b6c15037",
   "metadata": {
    "scrolled": true
   },
   "outputs": [
    {
     "name": "stdout",
     "output_type": "stream",
     "text": [
      "채널당 카테고리가 몇개로 분류되는가\n",
      "\n",
      "1    2601\n",
      "2     224\n",
      "3      28\n",
      "4       4\n",
      "6       1\n",
      "Name: category_name, dtype: int64\n"
     ]
    }
   ],
   "source": [
    "# channelId와 category_name과의 관계\n",
    "\n",
    "print('채널당 카테고리가 몇개로 분류되는가\\n')\n",
    "print(df2.groupby('channelId').nunique().category_name.value_counts())"
   ]
  },
  {
   "cell_type": "markdown",
   "id": "96b38b48",
   "metadata": {},
   "source": [
    "* channelId와 category_name이 1대1 대응이 아니다.\n",
    "* 하지만 그렇다고 2개이상인 것들을 1개로 만들기도 어렵고\n",
    "* 2개이상으로 데이터를 늘리기도 어렵다.\n",
    "* 따라서 1대1 대응인 것만 사용하도록 한다."
   ]
  },
  {
   "cell_type": "code",
   "execution_count": null,
   "id": "9a283c65",
   "metadata": {},
   "outputs": [],
   "source": []
  },
  {
   "cell_type": "markdown",
   "id": "b6af4d03",
   "metadata": {},
   "source": [
    "#### channel_total로부터 정보 가져오기"
   ]
  },
  {
   "cell_type": "code",
   "execution_count": 40,
   "id": "e6ac9db7",
   "metadata": {},
   "outputs": [
    {
     "data": {
      "text/html": [
       "<div>\n",
       "<style scoped>\n",
       "    .dataframe tbody tr th:only-of-type {\n",
       "        vertical-align: middle;\n",
       "    }\n",
       "\n",
       "    .dataframe tbody tr th {\n",
       "        vertical-align: top;\n",
       "    }\n",
       "\n",
       "    .dataframe thead th {\n",
       "        text-align: right;\n",
       "    }\n",
       "</style>\n",
       "<table border=\"1\" class=\"dataframe\">\n",
       "  <thead>\n",
       "    <tr style=\"text-align: right;\">\n",
       "      <th></th>\n",
       "      <th>video_id</th>\n",
       "      <th>title</th>\n",
       "      <th>publishedAt</th>\n",
       "      <th>channelId</th>\n",
       "      <th>channelTitle</th>\n",
       "      <th>trending_date</th>\n",
       "      <th>tags</th>\n",
       "      <th>view_count</th>\n",
       "      <th>likes</th>\n",
       "      <th>dislikes</th>\n",
       "      <th>comment_count</th>\n",
       "      <th>description</th>\n",
       "      <th>category_name</th>\n",
       "      <th>tag_num</th>\n",
       "      <th>period</th>\n",
       "      <th>Unnamed: 0</th>\n",
       "      <th>comments_disabled</th>\n",
       "      <th>ratings_disabled</th>\n",
       "    </tr>\n",
       "  </thead>\n",
       "  <tbody>\n",
       "    <tr>\n",
       "      <th>0</th>\n",
       "      <td>uq5LClQN3cE</td>\n",
       "      <td>안녕하세요 보겸입니다</td>\n",
       "      <td>2020-08-09 09:32:48</td>\n",
       "      <td>UCu9BCtGIEr73LXZsKmoujKw</td>\n",
       "      <td>보겸 BK</td>\n",
       "      <td>2020-08-18 00:00:00</td>\n",
       "      <td>보겸|bokyem</td>\n",
       "      <td>6879571</td>\n",
       "      <td>53705</td>\n",
       "      <td>115494</td>\n",
       "      <td>128860</td>\n",
       "      <td>NaN</td>\n",
       "      <td>Entertainment</td>\n",
       "      <td>2</td>\n",
       "      <td>7</td>\n",
       "      <td>950.0</td>\n",
       "      <td>False</td>\n",
       "      <td>False</td>\n",
       "    </tr>\n",
       "  </tbody>\n",
       "</table>\n",
       "</div>"
      ],
      "text/plain": [
       "      video_id        title          publishedAt                 channelId  \\\n",
       "0  uq5LClQN3cE  안녕하세요 보겸입니다  2020-08-09 09:32:48  UCu9BCtGIEr73LXZsKmoujKw   \n",
       "\n",
       "  channelTitle        trending_date       tags  view_count  likes  dislikes  \\\n",
       "0        보겸 BK  2020-08-18 00:00:00  보겸|bokyem     6879571  53705    115494   \n",
       "\n",
       "   comment_count description  category_name  tag_num  period  Unnamed: 0  \\\n",
       "0         128860         NaN  Entertainment        2       7       950.0   \n",
       "\n",
       "   comments_disabled  ratings_disabled  \n",
       "0              False             False  "
      ]
     },
     "execution_count": 40,
     "metadata": {},
     "output_type": "execute_result"
    }
   ],
   "source": [
    "df2.head(1)"
   ]
  },
  {
   "cell_type": "code",
   "execution_count": 41,
   "id": "2b39db34",
   "metadata": {
    "scrolled": true
   },
   "outputs": [
    {
     "data": {
      "text/plain": [
       "Index(['UC-0229MiVYnQoUxdLJnFl_g', 'UC-0C8yVGJy-cS4FGlYKelWw',\n",
       "       'UC-0tICWyA0_AJAVMBHL8GdQ', 'UC-2Y8dQb0S6DtpxNgAKoJKA',\n",
       "       'UC-2wa6jvprl7hfCpvw0ULzg', 'UC-3Fh1L6hOSV9ylvpr5g8_Q',\n",
       "       'UC-5acDjU6XFWu-__G17V_YQ', 'UC-603KNB_fvzHP9MpBqSKWg',\n",
       "       'UC-60AlFBYJEoItr-u-tQXbw', 'UC-7ZO1RZQq4O_xq9Zu8CyOg',\n",
       "       ...\n",
       "       'UCzjDgV-G8_J-iRbkYktqyGQ', 'UCzjPaOBCe0K2ma8XJzsNonA',\n",
       "       'UCzlmktSjuctnZPBr94pu3iw', 'UCzm5GOElgUN-oLutNduDObA',\n",
       "       'UCznImSIaxZR7fdLCICLdgaQ', 'UCzpOLMBZ6qxhb6GJ5eksq5A',\n",
       "       'UCzw-C7fNfs018R1FzIKnlaA', 'UCzxXBQnJy9guqVNM6KXi0Ig',\n",
       "       'UCzz58-H0wzmGoFi3MO_9ePQ', 'UCzznO4xSV8BKnUBPyswtCUw'],\n",
       "      dtype='object', name='channelId', length=2601)"
      ]
     },
     "execution_count": 41,
     "metadata": {},
     "output_type": "execute_result"
    }
   ],
   "source": [
    "# unique한 category_name을 가지고 있는 channelId를 가져오자.\n",
    "\n",
    "same = df2.groupby('channelId').nunique().category_name\n",
    "unique_category_channeId = same[same==1].index\n",
    "unique_category_channeId"
   ]
  },
  {
   "cell_type": "code",
   "execution_count": 42,
   "id": "306c52cf",
   "metadata": {
    "scrolled": true
   },
   "outputs": [
    {
     "data": {
      "text/html": [
       "<div>\n",
       "<style scoped>\n",
       "    .dataframe tbody tr th:only-of-type {\n",
       "        vertical-align: middle;\n",
       "    }\n",
       "\n",
       "    .dataframe tbody tr th {\n",
       "        vertical-align: top;\n",
       "    }\n",
       "\n",
       "    .dataframe thead th {\n",
       "        text-align: right;\n",
       "    }\n",
       "</style>\n",
       "<table border=\"1\" class=\"dataframe\">\n",
       "  <thead>\n",
       "    <tr style=\"text-align: right;\">\n",
       "      <th></th>\n",
       "      <th>channelId</th>\n",
       "      <th>video_time</th>\n",
       "      <th>video_id</th>\n",
       "      <th>when</th>\n",
       "      <th>title</th>\n",
       "      <th>minute_time</th>\n",
       "      <th>seconds_time</th>\n",
       "      <th>open</th>\n",
       "      <th>totalview</th>\n",
       "      <th>subscriber</th>\n",
       "    </tr>\n",
       "  </thead>\n",
       "  <tbody>\n",
       "    <tr>\n",
       "      <th>0</th>\n",
       "      <td>UCu9BCtGIEr73LXZsKmoujKw</td>\n",
       "      <td>4:58</td>\n",
       "      <td>u6lyUnhaaqk</td>\n",
       "      <td>10일 전</td>\n",
       "      <td>.</td>\n",
       "      <td>4.966667</td>\n",
       "      <td>298.0</td>\n",
       "      <td>2014-08-25</td>\n",
       "      <td>2.683340e+09</td>\n",
       "      <td>3230000.0</td>\n",
       "    </tr>\n",
       "  </tbody>\n",
       "</table>\n",
       "</div>"
      ],
      "text/plain": [
       "                  channelId video_time     video_id   when title  minute_time  \\\n",
       "0  UCu9BCtGIEr73LXZsKmoujKw       4:58  u6lyUnhaaqk  10일 전     .     4.966667   \n",
       "\n",
       "   seconds_time        open     totalview  subscriber  \n",
       "0         298.0  2014-08-25  2.683340e+09   3230000.0  "
      ]
     },
     "execution_count": 42,
     "metadata": {},
     "output_type": "execute_result"
    }
   ],
   "source": [
    "df1.head(1)"
   ]
  },
  {
   "cell_type": "code",
   "execution_count": 43,
   "id": "87da34af",
   "metadata": {
    "scrolled": true
   },
   "outputs": [
    {
     "data": {
      "text/plain": [
       "array([     0,      1,      2, ..., 217799, 217800, 217801])"
      ]
     },
     "execution_count": 43,
     "metadata": {},
     "output_type": "execute_result"
    }
   ],
   "source": [
    "# channelId의 카테고리이름이 유일한 channelId의 index를 1, 아니면 0으로 하는 열을 만든다.\n",
    "# channel_total.csv의 channelId 데이터는 youtube_nodouble_unique.csv의 channelId 데이터 안에 포함된다.\n",
    "# 따라서 channel_total.csv에서 channelId를 골라 youtube_nodouble_unique.csv에 있는 정보를 추출하면 된다.\n",
    "\n",
    "idx = df1.channelId.apply(lambda x:1 if x in unique_category_channeId else 0)\n",
    "idx = np.where(idx==1)[0]\n",
    "idx"
   ]
  },
  {
   "cell_type": "code",
   "execution_count": 44,
   "id": "830920a8",
   "metadata": {
    "scrolled": true
   },
   "outputs": [
    {
     "data": {
      "text/html": [
       "<div>\n",
       "<style scoped>\n",
       "    .dataframe tbody tr th:only-of-type {\n",
       "        vertical-align: middle;\n",
       "    }\n",
       "\n",
       "    .dataframe tbody tr th {\n",
       "        vertical-align: top;\n",
       "    }\n",
       "\n",
       "    .dataframe thead th {\n",
       "        text-align: right;\n",
       "    }\n",
       "</style>\n",
       "<table border=\"1\" class=\"dataframe\">\n",
       "  <thead>\n",
       "    <tr style=\"text-align: right;\">\n",
       "      <th></th>\n",
       "      <th>channelId</th>\n",
       "      <th>when</th>\n",
       "      <th>minute_time</th>\n",
       "    </tr>\n",
       "  </thead>\n",
       "  <tbody>\n",
       "    <tr>\n",
       "      <th>0</th>\n",
       "      <td>UCu9BCtGIEr73LXZsKmoujKw</td>\n",
       "      <td>10일 전</td>\n",
       "      <td>4.966667</td>\n",
       "    </tr>\n",
       "    <tr>\n",
       "      <th>1</th>\n",
       "      <td>UCu9BCtGIEr73LXZsKmoujKw</td>\n",
       "      <td>8개월 전</td>\n",
       "      <td>10.750000</td>\n",
       "    </tr>\n",
       "    <tr>\n",
       "      <th>2</th>\n",
       "      <td>UCu9BCtGIEr73LXZsKmoujKw</td>\n",
       "      <td>9개월 전</td>\n",
       "      <td>11.883333</td>\n",
       "    </tr>\n",
       "    <tr>\n",
       "      <th>3</th>\n",
       "      <td>UCu9BCtGIEr73LXZsKmoujKw</td>\n",
       "      <td>9개월 전</td>\n",
       "      <td>9.683333</td>\n",
       "    </tr>\n",
       "    <tr>\n",
       "      <th>4</th>\n",
       "      <td>UCu9BCtGIEr73LXZsKmoujKw</td>\n",
       "      <td>9개월 전</td>\n",
       "      <td>NaN</td>\n",
       "    </tr>\n",
       "    <tr>\n",
       "      <th>...</th>\n",
       "      <td>...</td>\n",
       "      <td>...</td>\n",
       "      <td>...</td>\n",
       "    </tr>\n",
       "    <tr>\n",
       "      <th>217797</th>\n",
       "      <td>UCLhgIX2L5ZCaWdlaxR_oTAg</td>\n",
       "      <td>7개월 전</td>\n",
       "      <td>0.516667</td>\n",
       "    </tr>\n",
       "    <tr>\n",
       "      <th>217798</th>\n",
       "      <td>UCLhgIX2L5ZCaWdlaxR_oTAg</td>\n",
       "      <td>7개월 전</td>\n",
       "      <td>0.500000</td>\n",
       "    </tr>\n",
       "    <tr>\n",
       "      <th>217799</th>\n",
       "      <td>UCLhgIX2L5ZCaWdlaxR_oTAg</td>\n",
       "      <td>8개월 전</td>\n",
       "      <td>0.516667</td>\n",
       "    </tr>\n",
       "    <tr>\n",
       "      <th>217800</th>\n",
       "      <td>UCLhgIX2L5ZCaWdlaxR_oTAg</td>\n",
       "      <td>8개월 전</td>\n",
       "      <td>0.500000</td>\n",
       "    </tr>\n",
       "    <tr>\n",
       "      <th>217801</th>\n",
       "      <td>UCLhgIX2L5ZCaWdlaxR_oTAg</td>\n",
       "      <td>8개월 전</td>\n",
       "      <td>0.516667</td>\n",
       "    </tr>\n",
       "  </tbody>\n",
       "</table>\n",
       "<p>197926 rows × 3 columns</p>\n",
       "</div>"
      ],
      "text/plain": [
       "                       channelId   when  minute_time\n",
       "0       UCu9BCtGIEr73LXZsKmoujKw  10일 전     4.966667\n",
       "1       UCu9BCtGIEr73LXZsKmoujKw  8개월 전    10.750000\n",
       "2       UCu9BCtGIEr73LXZsKmoujKw  9개월 전    11.883333\n",
       "3       UCu9BCtGIEr73LXZsKmoujKw  9개월 전     9.683333\n",
       "4       UCu9BCtGIEr73LXZsKmoujKw  9개월 전          NaN\n",
       "...                          ...    ...          ...\n",
       "217797  UCLhgIX2L5ZCaWdlaxR_oTAg  7개월 전     0.516667\n",
       "217798  UCLhgIX2L5ZCaWdlaxR_oTAg  7개월 전     0.500000\n",
       "217799  UCLhgIX2L5ZCaWdlaxR_oTAg  8개월 전     0.516667\n",
       "217800  UCLhgIX2L5ZCaWdlaxR_oTAg  8개월 전     0.500000\n",
       "217801  UCLhgIX2L5ZCaWdlaxR_oTAg  8개월 전     0.516667\n",
       "\n",
       "[197926 rows x 3 columns]"
      ]
     },
     "execution_count": 44,
     "metadata": {},
     "output_type": "execute_result"
    }
   ],
   "source": [
    "# channel_total.csv에서 원하는 channelId와 when, minute_time 정보를 가져온다.\n",
    "\n",
    "data1 = df1.iloc[idx,:].loc[:,['channelId','when','minute_time']]\n",
    "data1"
   ]
  },
  {
   "cell_type": "code",
   "execution_count": null,
   "id": "a8e891a1",
   "metadata": {},
   "outputs": [],
   "source": []
  },
  {
   "cell_type": "markdown",
   "id": "dbe61bff",
   "metadata": {},
   "source": [
    "#### youtube_nodouble_unique으로부터 정보 가져오기"
   ]
  },
  {
   "cell_type": "code",
   "execution_count": 45,
   "id": "8f01ff14",
   "metadata": {
    "scrolled": false
   },
   "outputs": [
    {
     "data": {
      "text/html": [
       "<div>\n",
       "<style scoped>\n",
       "    .dataframe tbody tr th:only-of-type {\n",
       "        vertical-align: middle;\n",
       "    }\n",
       "\n",
       "    .dataframe tbody tr th {\n",
       "        vertical-align: top;\n",
       "    }\n",
       "\n",
       "    .dataframe thead th {\n",
       "        text-align: right;\n",
       "    }\n",
       "</style>\n",
       "<table border=\"1\" class=\"dataframe\">\n",
       "  <thead>\n",
       "    <tr style=\"text-align: right;\">\n",
       "      <th></th>\n",
       "      <th>video_id</th>\n",
       "      <th>title</th>\n",
       "      <th>publishedAt</th>\n",
       "      <th>channelId</th>\n",
       "      <th>channelTitle</th>\n",
       "      <th>trending_date</th>\n",
       "      <th>tags</th>\n",
       "      <th>view_count</th>\n",
       "      <th>likes</th>\n",
       "      <th>dislikes</th>\n",
       "      <th>comment_count</th>\n",
       "      <th>description</th>\n",
       "      <th>category_name</th>\n",
       "      <th>tag_num</th>\n",
       "      <th>period</th>\n",
       "      <th>Unnamed: 0</th>\n",
       "      <th>comments_disabled</th>\n",
       "      <th>ratings_disabled</th>\n",
       "    </tr>\n",
       "  </thead>\n",
       "  <tbody>\n",
       "    <tr>\n",
       "      <th>0</th>\n",
       "      <td>uq5LClQN3cE</td>\n",
       "      <td>안녕하세요 보겸입니다</td>\n",
       "      <td>2020-08-09 09:32:48</td>\n",
       "      <td>UCu9BCtGIEr73LXZsKmoujKw</td>\n",
       "      <td>보겸 BK</td>\n",
       "      <td>2020-08-18 00:00:00</td>\n",
       "      <td>보겸|bokyem</td>\n",
       "      <td>6879571</td>\n",
       "      <td>53705</td>\n",
       "      <td>115494</td>\n",
       "      <td>128860</td>\n",
       "      <td>NaN</td>\n",
       "      <td>Entertainment</td>\n",
       "      <td>2</td>\n",
       "      <td>7</td>\n",
       "      <td>950.0</td>\n",
       "      <td>False</td>\n",
       "      <td>False</td>\n",
       "    </tr>\n",
       "  </tbody>\n",
       "</table>\n",
       "</div>"
      ],
      "text/plain": [
       "      video_id        title          publishedAt                 channelId  \\\n",
       "0  uq5LClQN3cE  안녕하세요 보겸입니다  2020-08-09 09:32:48  UCu9BCtGIEr73LXZsKmoujKw   \n",
       "\n",
       "  channelTitle        trending_date       tags  view_count  likes  dislikes  \\\n",
       "0        보겸 BK  2020-08-18 00:00:00  보겸|bokyem     6879571  53705    115494   \n",
       "\n",
       "   comment_count description  category_name  tag_num  period  Unnamed: 0  \\\n",
       "0         128860         NaN  Entertainment        2       7       950.0   \n",
       "\n",
       "   comments_disabled  ratings_disabled  \n",
       "0              False             False  "
      ]
     },
     "execution_count": 45,
     "metadata": {},
     "output_type": "execute_result"
    }
   ],
   "source": [
    "# youtube_nodouble_unique\n",
    "\n",
    "df2.head(1)"
   ]
  },
  {
   "cell_type": "code",
   "execution_count": 46,
   "id": "cfae5e38",
   "metadata": {},
   "outputs": [
    {
     "data": {
      "text/plain": [
       "array([    0,     1,     3, ..., 16925, 16926, 16927])"
      ]
     },
     "execution_count": 46,
     "metadata": {},
     "output_type": "execute_result"
    }
   ],
   "source": [
    "# channelId의 카테고리이름이 유일한 channelId의 index를 1, 아니면 0으로 하는 열을 만든다.\n",
    "\n",
    "idx1 = df2.channelId.apply(lambda x:1 if x in unique_category_channeId else 0)\n",
    "idx1 = np.where(idx1==1)[0]\n",
    "idx1"
   ]
  },
  {
   "cell_type": "code",
   "execution_count": 47,
   "id": "bc8dbaa7",
   "metadata": {
    "scrolled": true
   },
   "outputs": [
    {
     "data": {
      "text/html": [
       "<div>\n",
       "<style scoped>\n",
       "    .dataframe tbody tr th:only-of-type {\n",
       "        vertical-align: middle;\n",
       "    }\n",
       "\n",
       "    .dataframe tbody tr th {\n",
       "        vertical-align: top;\n",
       "    }\n",
       "\n",
       "    .dataframe thead th {\n",
       "        text-align: right;\n",
       "    }\n",
       "</style>\n",
       "<table border=\"1\" class=\"dataframe\">\n",
       "  <thead>\n",
       "    <tr style=\"text-align: right;\">\n",
       "      <th></th>\n",
       "      <th>channelId</th>\n",
       "      <th>category_name</th>\n",
       "      <th>view_count</th>\n",
       "    </tr>\n",
       "  </thead>\n",
       "  <tbody>\n",
       "    <tr>\n",
       "      <th>0</th>\n",
       "      <td>UCu9BCtGIEr73LXZsKmoujKw</td>\n",
       "      <td>Entertainment</td>\n",
       "      <td>6879571</td>\n",
       "    </tr>\n",
       "    <tr>\n",
       "      <th>1</th>\n",
       "      <td>UCRuSxVu4iqTK5kCh90ntAgA</td>\n",
       "      <td>Film &amp; Animation</td>\n",
       "      <td>1683060</td>\n",
       "    </tr>\n",
       "    <tr>\n",
       "      <th>3</th>\n",
       "      <td>UCkQCwnkQfgSuPTTnw_Y7v7w</td>\n",
       "      <td>Entertainment</td>\n",
       "      <td>2272383</td>\n",
       "    </tr>\n",
       "    <tr>\n",
       "      <th>4</th>\n",
       "      <td>UCaO6TYtlC8U5ttz62hTrZgg</td>\n",
       "      <td>Music</td>\n",
       "      <td>12533252</td>\n",
       "    </tr>\n",
       "    <tr>\n",
       "      <th>5</th>\n",
       "      <td>UCaO6TYtlC8U5ttz62hTrZgg</td>\n",
       "      <td>Music</td>\n",
       "      <td>12225212</td>\n",
       "    </tr>\n",
       "    <tr>\n",
       "      <th>...</th>\n",
       "      <td>...</td>\n",
       "      <td>...</td>\n",
       "      <td>...</td>\n",
       "    </tr>\n",
       "    <tr>\n",
       "      <th>16923</th>\n",
       "      <td>UCw1DsweY9b2AKGjV4kGJP1A</td>\n",
       "      <td>Gaming</td>\n",
       "      <td>499672</td>\n",
       "    </tr>\n",
       "    <tr>\n",
       "      <th>16924</th>\n",
       "      <td>UCw1DsweY9b2AKGjV4kGJP1A</td>\n",
       "      <td>Gaming</td>\n",
       "      <td>456567</td>\n",
       "    </tr>\n",
       "    <tr>\n",
       "      <th>16925</th>\n",
       "      <td>UCLhgIX2L5ZCaWdlaxR_oTAg</td>\n",
       "      <td>Film &amp; Animation</td>\n",
       "      <td>3027157</td>\n",
       "    </tr>\n",
       "    <tr>\n",
       "      <th>16926</th>\n",
       "      <td>UCsXigGjbC_l4ttk-oahTfVg</td>\n",
       "      <td>Music</td>\n",
       "      <td>110679</td>\n",
       "    </tr>\n",
       "    <tr>\n",
       "      <th>16927</th>\n",
       "      <td>UCEg25rdRZXg32iwai6N6l0w</td>\n",
       "      <td>Sports</td>\n",
       "      <td>213485</td>\n",
       "    </tr>\n",
       "  </tbody>\n",
       "</table>\n",
       "<p>13769 rows × 3 columns</p>\n",
       "</div>"
      ],
      "text/plain": [
       "                      channelId     category_name  view_count\n",
       "0      UCu9BCtGIEr73LXZsKmoujKw     Entertainment     6879571\n",
       "1      UCRuSxVu4iqTK5kCh90ntAgA  Film & Animation     1683060\n",
       "3      UCkQCwnkQfgSuPTTnw_Y7v7w     Entertainment     2272383\n",
       "4      UCaO6TYtlC8U5ttz62hTrZgg             Music    12533252\n",
       "5      UCaO6TYtlC8U5ttz62hTrZgg             Music    12225212\n",
       "...                         ...               ...         ...\n",
       "16923  UCw1DsweY9b2AKGjV4kGJP1A            Gaming      499672\n",
       "16924  UCw1DsweY9b2AKGjV4kGJP1A            Gaming      456567\n",
       "16925  UCLhgIX2L5ZCaWdlaxR_oTAg  Film & Animation     3027157\n",
       "16926  UCsXigGjbC_l4ttk-oahTfVg             Music      110679\n",
       "16927  UCEg25rdRZXg32iwai6N6l0w            Sports      213485\n",
       "\n",
       "[13769 rows x 3 columns]"
      ]
     },
     "execution_count": 47,
     "metadata": {},
     "output_type": "execute_result"
    }
   ],
   "source": [
    "# youtube_nodouble_unique.csv에서 원하는 channelId와 when, minute_time 정보를 가져온다.\n",
    "\n",
    "data2 = df2.iloc[idx1,:].loc[:,['channelId','category_name','view_count']]\n",
    "data2"
   ]
  },
  {
   "cell_type": "code",
   "execution_count": null,
   "id": "1da70514",
   "metadata": {},
   "outputs": [],
   "source": []
  },
  {
   "cell_type": "markdown",
   "id": "a56b27f7",
   "metadata": {},
   "source": [
    "#### channel_total에서 추출한 data1과 youtube_nodouble_unique에서 추출한 data2의 정보를 합치자."
   ]
  },
  {
   "cell_type": "code",
   "execution_count": 48,
   "id": "3548f6fe",
   "metadata": {},
   "outputs": [
    {
     "data": {
      "text/html": [
       "<div>\n",
       "<style scoped>\n",
       "    .dataframe tbody tr th:only-of-type {\n",
       "        vertical-align: middle;\n",
       "    }\n",
       "\n",
       "    .dataframe tbody tr th {\n",
       "        vertical-align: top;\n",
       "    }\n",
       "\n",
       "    .dataframe thead th {\n",
       "        text-align: right;\n",
       "    }\n",
       "</style>\n",
       "<table border=\"1\" class=\"dataframe\">\n",
       "  <thead>\n",
       "    <tr style=\"text-align: right;\">\n",
       "      <th></th>\n",
       "      <th>channelId</th>\n",
       "      <th>when</th>\n",
       "      <th>minute_time</th>\n",
       "    </tr>\n",
       "  </thead>\n",
       "  <tbody>\n",
       "    <tr>\n",
       "      <th>0</th>\n",
       "      <td>UCu9BCtGIEr73LXZsKmoujKw</td>\n",
       "      <td>10일 전</td>\n",
       "      <td>4.966667</td>\n",
       "    </tr>\n",
       "  </tbody>\n",
       "</table>\n",
       "</div>"
      ],
      "text/plain": [
       "                  channelId   when  minute_time\n",
       "0  UCu9BCtGIEr73LXZsKmoujKw  10일 전     4.966667"
      ]
     },
     "execution_count": 48,
     "metadata": {},
     "output_type": "execute_result"
    }
   ],
   "source": [
    "data1.head(1)"
   ]
  },
  {
   "cell_type": "code",
   "execution_count": 49,
   "id": "804147ec",
   "metadata": {
    "scrolled": true
   },
   "outputs": [
    {
     "data": {
      "text/html": [
       "<div>\n",
       "<style scoped>\n",
       "    .dataframe tbody tr th:only-of-type {\n",
       "        vertical-align: middle;\n",
       "    }\n",
       "\n",
       "    .dataframe tbody tr th {\n",
       "        vertical-align: top;\n",
       "    }\n",
       "\n",
       "    .dataframe thead th {\n",
       "        text-align: right;\n",
       "    }\n",
       "</style>\n",
       "<table border=\"1\" class=\"dataframe\">\n",
       "  <thead>\n",
       "    <tr style=\"text-align: right;\">\n",
       "      <th></th>\n",
       "      <th>channelId</th>\n",
       "      <th>category_name</th>\n",
       "      <th>view_count</th>\n",
       "    </tr>\n",
       "  </thead>\n",
       "  <tbody>\n",
       "    <tr>\n",
       "      <th>0</th>\n",
       "      <td>UCu9BCtGIEr73LXZsKmoujKw</td>\n",
       "      <td>Entertainment</td>\n",
       "      <td>6879571</td>\n",
       "    </tr>\n",
       "  </tbody>\n",
       "</table>\n",
       "</div>"
      ],
      "text/plain": [
       "                  channelId  category_name  view_count\n",
       "0  UCu9BCtGIEr73LXZsKmoujKw  Entertainment     6879571"
      ]
     },
     "execution_count": 49,
     "metadata": {},
     "output_type": "execute_result"
    }
   ],
   "source": [
    "data2.head(1)"
   ]
  },
  {
   "cell_type": "code",
   "execution_count": 50,
   "id": "7ba6adb0",
   "metadata": {
    "scrolled": true
   },
   "outputs": [
    {
     "data": {
      "text/html": [
       "<div>\n",
       "<style scoped>\n",
       "    .dataframe tbody tr th:only-of-type {\n",
       "        vertical-align: middle;\n",
       "    }\n",
       "\n",
       "    .dataframe tbody tr th {\n",
       "        vertical-align: top;\n",
       "    }\n",
       "\n",
       "    .dataframe thead th {\n",
       "        text-align: right;\n",
       "    }\n",
       "</style>\n",
       "<table border=\"1\" class=\"dataframe\">\n",
       "  <thead>\n",
       "    <tr style=\"text-align: right;\">\n",
       "      <th></th>\n",
       "      <th>when</th>\n",
       "      <th>minute_time</th>\n",
       "      <th>category_name</th>\n",
       "      <th>view_count</th>\n",
       "    </tr>\n",
       "  </thead>\n",
       "  <tbody>\n",
       "    <tr>\n",
       "      <th>0</th>\n",
       "      <td>10일 전</td>\n",
       "      <td>4.966667</td>\n",
       "      <td>Entertainment</td>\n",
       "      <td>6879571</td>\n",
       "    </tr>\n",
       "    <tr>\n",
       "      <th>1</th>\n",
       "      <td>10일 전</td>\n",
       "      <td>4.966667</td>\n",
       "      <td>Entertainment</td>\n",
       "      <td>2916194</td>\n",
       "    </tr>\n",
       "    <tr>\n",
       "      <th>2</th>\n",
       "      <td>10일 전</td>\n",
       "      <td>4.966667</td>\n",
       "      <td>Entertainment</td>\n",
       "      <td>2688958</td>\n",
       "    </tr>\n",
       "    <tr>\n",
       "      <th>3</th>\n",
       "      <td>10일 전</td>\n",
       "      <td>4.966667</td>\n",
       "      <td>Entertainment</td>\n",
       "      <td>1161298</td>\n",
       "    </tr>\n",
       "    <tr>\n",
       "      <th>4</th>\n",
       "      <td>10일 전</td>\n",
       "      <td>4.966667</td>\n",
       "      <td>Entertainment</td>\n",
       "      <td>1389367</td>\n",
       "    </tr>\n",
       "    <tr>\n",
       "      <th>...</th>\n",
       "      <td>...</td>\n",
       "      <td>...</td>\n",
       "      <td>...</td>\n",
       "      <td>...</td>\n",
       "    </tr>\n",
       "    <tr>\n",
       "      <th>1077279</th>\n",
       "      <td>7개월 전</td>\n",
       "      <td>0.516667</td>\n",
       "      <td>Film &amp; Animation</td>\n",
       "      <td>3027157</td>\n",
       "    </tr>\n",
       "    <tr>\n",
       "      <th>1077280</th>\n",
       "      <td>7개월 전</td>\n",
       "      <td>0.500000</td>\n",
       "      <td>Film &amp; Animation</td>\n",
       "      <td>3027157</td>\n",
       "    </tr>\n",
       "    <tr>\n",
       "      <th>1077281</th>\n",
       "      <td>8개월 전</td>\n",
       "      <td>0.516667</td>\n",
       "      <td>Film &amp; Animation</td>\n",
       "      <td>3027157</td>\n",
       "    </tr>\n",
       "    <tr>\n",
       "      <th>1077282</th>\n",
       "      <td>8개월 전</td>\n",
       "      <td>0.500000</td>\n",
       "      <td>Film &amp; Animation</td>\n",
       "      <td>3027157</td>\n",
       "    </tr>\n",
       "    <tr>\n",
       "      <th>1077283</th>\n",
       "      <td>8개월 전</td>\n",
       "      <td>0.516667</td>\n",
       "      <td>Film &amp; Animation</td>\n",
       "      <td>3027157</td>\n",
       "    </tr>\n",
       "  </tbody>\n",
       "</table>\n",
       "<p>1077284 rows × 4 columns</p>\n",
       "</div>"
      ],
      "text/plain": [
       "          when  minute_time     category_name  view_count\n",
       "0        10일 전     4.966667     Entertainment     6879571\n",
       "1        10일 전     4.966667     Entertainment     2916194\n",
       "2        10일 전     4.966667     Entertainment     2688958\n",
       "3        10일 전     4.966667     Entertainment     1161298\n",
       "4        10일 전     4.966667     Entertainment     1389367\n",
       "...        ...          ...               ...         ...\n",
       "1077279  7개월 전     0.516667  Film & Animation     3027157\n",
       "1077280  7개월 전     0.500000  Film & Animation     3027157\n",
       "1077281  8개월 전     0.516667  Film & Animation     3027157\n",
       "1077282  8개월 전     0.500000  Film & Animation     3027157\n",
       "1077283  8개월 전     0.516667  Film & Animation     3027157\n",
       "\n",
       "[1077284 rows x 4 columns]"
      ]
     },
     "execution_count": 50,
     "metadata": {},
     "output_type": "execute_result"
    }
   ],
   "source": [
    "data_total = pd.merge(data1, data2, on='channelId')\n",
    "data_total = data_total.drop(['channelId'], axis=1)\n",
    "data_total"
   ]
  },
  {
   "cell_type": "code",
   "execution_count": null,
   "id": "183a70f7",
   "metadata": {},
   "outputs": [],
   "source": []
  },
  {
   "cell_type": "markdown",
   "id": "def0451b",
   "metadata": {},
   "source": [
    "#### 카테고리별(category_name)로 동영상시간(minute_time)의 대푯값들(mean,median,mode)을 구해보자."
   ]
  },
  {
   "cell_type": "code",
   "execution_count": 51,
   "id": "6b206ba8",
   "metadata": {},
   "outputs": [
    {
     "data": {
      "text/html": [
       "<div>\n",
       "<style scoped>\n",
       "    .dataframe tbody tr th:only-of-type {\n",
       "        vertical-align: middle;\n",
       "    }\n",
       "\n",
       "    .dataframe tbody tr th {\n",
       "        vertical-align: top;\n",
       "    }\n",
       "\n",
       "    .dataframe thead th {\n",
       "        text-align: right;\n",
       "    }\n",
       "</style>\n",
       "<table border=\"1\" class=\"dataframe\">\n",
       "  <thead>\n",
       "    <tr style=\"text-align: right;\">\n",
       "      <th></th>\n",
       "      <th>category_name</th>\n",
       "      <th>minute_time</th>\n",
       "    </tr>\n",
       "  </thead>\n",
       "  <tbody>\n",
       "    <tr>\n",
       "      <th>0</th>\n",
       "      <td>Entertainment</td>\n",
       "      <td>4.966667</td>\n",
       "    </tr>\n",
       "  </tbody>\n",
       "</table>\n",
       "</div>"
      ],
      "text/plain": [
       "   category_name  minute_time\n",
       "0  Entertainment     4.966667"
      ]
     },
     "execution_count": 51,
     "metadata": {},
     "output_type": "execute_result"
    }
   ],
   "source": [
    "data = data_total.loc[:,['category_name','minute_time']]\n",
    "data.head(1)"
   ]
  },
  {
   "cell_type": "code",
   "execution_count": 52,
   "id": "68b68cef",
   "metadata": {},
   "outputs": [
    {
     "data": {
      "text/html": [
       "<div>\n",
       "<style scoped>\n",
       "    .dataframe tbody tr th:only-of-type {\n",
       "        vertical-align: middle;\n",
       "    }\n",
       "\n",
       "    .dataframe tbody tr th {\n",
       "        vertical-align: top;\n",
       "    }\n",
       "\n",
       "    .dataframe thead th {\n",
       "        text-align: right;\n",
       "    }\n",
       "</style>\n",
       "<table border=\"1\" class=\"dataframe\">\n",
       "  <thead>\n",
       "    <tr style=\"text-align: right;\">\n",
       "      <th></th>\n",
       "      <th>mean</th>\n",
       "      <th>median</th>\n",
       "      <th>mode</th>\n",
       "    </tr>\n",
       "    <tr>\n",
       "      <th>category_name</th>\n",
       "      <th></th>\n",
       "      <th></th>\n",
       "      <th></th>\n",
       "    </tr>\n",
       "  </thead>\n",
       "  <tbody>\n",
       "    <tr>\n",
       "      <th>Autos &amp; Vehicles</th>\n",
       "      <td>11.947584</td>\n",
       "      <td>9.633333</td>\n",
       "      <td>0.266667</td>\n",
       "    </tr>\n",
       "    <tr>\n",
       "      <th>Comedy</th>\n",
       "      <td>10.792170</td>\n",
       "      <td>8.358333</td>\n",
       "      <td>8.016667</td>\n",
       "    </tr>\n",
       "    <tr>\n",
       "      <th>Education</th>\n",
       "      <td>23.792839</td>\n",
       "      <td>11.300000</td>\n",
       "      <td>8.016667</td>\n",
       "    </tr>\n",
       "    <tr>\n",
       "      <th>Entertainment</th>\n",
       "      <td>11.363302</td>\n",
       "      <td>8.100000</td>\n",
       "      <td>1.016667</td>\n",
       "    </tr>\n",
       "    <tr>\n",
       "      <th>Film &amp; Animation</th>\n",
       "      <td>7.866734</td>\n",
       "      <td>4.616667</td>\n",
       "      <td>4.116667</td>\n",
       "    </tr>\n",
       "    <tr>\n",
       "      <th>Gaming</th>\n",
       "      <td>19.596324</td>\n",
       "      <td>8.800000</td>\n",
       "      <td>8.033333</td>\n",
       "    </tr>\n",
       "    <tr>\n",
       "      <th>Howto &amp; Style</th>\n",
       "      <td>10.064104</td>\n",
       "      <td>7.966667</td>\n",
       "      <td>8.016667</td>\n",
       "    </tr>\n",
       "    <tr>\n",
       "      <th>Music</th>\n",
       "      <td>9.055634</td>\n",
       "      <td>3.583333</td>\n",
       "      <td>0.516667</td>\n",
       "    </tr>\n",
       "    <tr>\n",
       "      <th>News &amp; Politics</th>\n",
       "      <td>25.566695</td>\n",
       "      <td>9.483333</td>\n",
       "      <td>0.583333</td>\n",
       "    </tr>\n",
       "    <tr>\n",
       "      <th>Nonprofits &amp; Activism</th>\n",
       "      <td>8.118526</td>\n",
       "      <td>4.183333</td>\n",
       "      <td>[0.5166666666666667, 0.5833333333333334, 4.183...</td>\n",
       "    </tr>\n",
       "    <tr>\n",
       "      <th>People &amp; Blogs</th>\n",
       "      <td>14.607722</td>\n",
       "      <td>11.533333</td>\n",
       "      <td>1.016667</td>\n",
       "    </tr>\n",
       "    <tr>\n",
       "      <th>Pets &amp; Animals</th>\n",
       "      <td>9.664231</td>\n",
       "      <td>6.166667</td>\n",
       "      <td>8.05</td>\n",
       "    </tr>\n",
       "    <tr>\n",
       "      <th>Science &amp; Technology</th>\n",
       "      <td>10.887671</td>\n",
       "      <td>8.266667</td>\n",
       "      <td>1.15</td>\n",
       "    </tr>\n",
       "    <tr>\n",
       "      <th>Sports</th>\n",
       "      <td>15.089672</td>\n",
       "      <td>8.216667</td>\n",
       "      <td>3.116667</td>\n",
       "    </tr>\n",
       "    <tr>\n",
       "      <th>Travel &amp; Events</th>\n",
       "      <td>19.719388</td>\n",
       "      <td>13.766667</td>\n",
       "      <td>10.016667</td>\n",
       "    </tr>\n",
       "  </tbody>\n",
       "</table>\n",
       "</div>"
      ],
      "text/plain": [
       "                            mean     median  \\\n",
       "category_name                                 \n",
       "Autos & Vehicles       11.947584   9.633333   \n",
       "Comedy                 10.792170   8.358333   \n",
       "Education              23.792839  11.300000   \n",
       "Entertainment          11.363302   8.100000   \n",
       "Film & Animation        7.866734   4.616667   \n",
       "Gaming                 19.596324   8.800000   \n",
       "Howto & Style          10.064104   7.966667   \n",
       "Music                   9.055634   3.583333   \n",
       "News & Politics        25.566695   9.483333   \n",
       "Nonprofits & Activism   8.118526   4.183333   \n",
       "People & Blogs         14.607722  11.533333   \n",
       "Pets & Animals          9.664231   6.166667   \n",
       "Science & Technology   10.887671   8.266667   \n",
       "Sports                 15.089672   8.216667   \n",
       "Travel & Events        19.719388  13.766667   \n",
       "\n",
       "                                                                    mode  \n",
       "category_name                                                             \n",
       "Autos & Vehicles                                                0.266667  \n",
       "Comedy                                                          8.016667  \n",
       "Education                                                       8.016667  \n",
       "Entertainment                                                   1.016667  \n",
       "Film & Animation                                                4.116667  \n",
       "Gaming                                                          8.033333  \n",
       "Howto & Style                                                   8.016667  \n",
       "Music                                                           0.516667  \n",
       "News & Politics                                                 0.583333  \n",
       "Nonprofits & Activism  [0.5166666666666667, 0.5833333333333334, 4.183...  \n",
       "People & Blogs                                                  1.016667  \n",
       "Pets & Animals                                                      8.05  \n",
       "Science & Technology                                                1.15  \n",
       "Sports                                                          3.116667  \n",
       "Travel & Events                                                10.016667  "
      ]
     },
     "execution_count": 52,
     "metadata": {},
     "output_type": "execute_result"
    }
   ],
   "source": [
    "grouped = pd.concat([data.groupby('category_name').mean(), data.groupby('category_name').median(),\n",
    "                     data.groupby(['category_name']).agg(pd.Series.mode)], axis=1)\n",
    "grouped.columns = ['mean','median','mode']\n",
    "grouped"
   ]
  },
  {
   "cell_type": "code",
   "execution_count": 53,
   "id": "dadb5854",
   "metadata": {
    "scrolled": false
   },
   "outputs": [
    {
     "data": {
      "text/html": [
       "<div>\n",
       "<style scoped>\n",
       "    .dataframe tbody tr th:only-of-type {\n",
       "        vertical-align: middle;\n",
       "    }\n",
       "\n",
       "    .dataframe tbody tr th {\n",
       "        vertical-align: top;\n",
       "    }\n",
       "\n",
       "    .dataframe thead th {\n",
       "        text-align: right;\n",
       "    }\n",
       "</style>\n",
       "<table border=\"1\" class=\"dataframe\">\n",
       "  <thead>\n",
       "    <tr style=\"text-align: right;\">\n",
       "      <th></th>\n",
       "      <th>mean</th>\n",
       "      <th>median</th>\n",
       "      <th>mode</th>\n",
       "    </tr>\n",
       "    <tr>\n",
       "      <th>category_name</th>\n",
       "      <th></th>\n",
       "      <th></th>\n",
       "      <th></th>\n",
       "    </tr>\n",
       "  </thead>\n",
       "  <tbody>\n",
       "    <tr>\n",
       "      <th>Autos &amp; Vehicles</th>\n",
       "      <td>11.947584</td>\n",
       "      <td>9.633333</td>\n",
       "      <td>0.266667</td>\n",
       "    </tr>\n",
       "    <tr>\n",
       "      <th>Comedy</th>\n",
       "      <td>10.792170</td>\n",
       "      <td>8.358333</td>\n",
       "      <td>8.016667</td>\n",
       "    </tr>\n",
       "    <tr>\n",
       "      <th>Education</th>\n",
       "      <td>23.792839</td>\n",
       "      <td>11.300000</td>\n",
       "      <td>8.016667</td>\n",
       "    </tr>\n",
       "    <tr>\n",
       "      <th>Entertainment</th>\n",
       "      <td>11.363302</td>\n",
       "      <td>8.100000</td>\n",
       "      <td>1.016667</td>\n",
       "    </tr>\n",
       "    <tr>\n",
       "      <th>Film &amp; Animation</th>\n",
       "      <td>7.866734</td>\n",
       "      <td>4.616667</td>\n",
       "      <td>4.116667</td>\n",
       "    </tr>\n",
       "    <tr>\n",
       "      <th>Gaming</th>\n",
       "      <td>19.596324</td>\n",
       "      <td>8.800000</td>\n",
       "      <td>8.033333</td>\n",
       "    </tr>\n",
       "    <tr>\n",
       "      <th>Howto &amp; Style</th>\n",
       "      <td>10.064104</td>\n",
       "      <td>7.966667</td>\n",
       "      <td>8.016667</td>\n",
       "    </tr>\n",
       "    <tr>\n",
       "      <th>Music</th>\n",
       "      <td>9.055634</td>\n",
       "      <td>3.583333</td>\n",
       "      <td>0.516667</td>\n",
       "    </tr>\n",
       "    <tr>\n",
       "      <th>News &amp; Politics</th>\n",
       "      <td>25.566695</td>\n",
       "      <td>9.483333</td>\n",
       "      <td>0.583333</td>\n",
       "    </tr>\n",
       "    <tr>\n",
       "      <th>People &amp; Blogs</th>\n",
       "      <td>14.607722</td>\n",
       "      <td>11.533333</td>\n",
       "      <td>1.016667</td>\n",
       "    </tr>\n",
       "    <tr>\n",
       "      <th>Pets &amp; Animals</th>\n",
       "      <td>9.664231</td>\n",
       "      <td>6.166667</td>\n",
       "      <td>8.05</td>\n",
       "    </tr>\n",
       "    <tr>\n",
       "      <th>Science &amp; Technology</th>\n",
       "      <td>10.887671</td>\n",
       "      <td>8.266667</td>\n",
       "      <td>1.15</td>\n",
       "    </tr>\n",
       "    <tr>\n",
       "      <th>Sports</th>\n",
       "      <td>15.089672</td>\n",
       "      <td>8.216667</td>\n",
       "      <td>3.116667</td>\n",
       "    </tr>\n",
       "    <tr>\n",
       "      <th>Travel &amp; Events</th>\n",
       "      <td>19.719388</td>\n",
       "      <td>13.766667</td>\n",
       "      <td>10.016667</td>\n",
       "    </tr>\n",
       "  </tbody>\n",
       "</table>\n",
       "</div>"
      ],
      "text/plain": [
       "                           mean     median       mode\n",
       "category_name                                        \n",
       "Autos & Vehicles      11.947584   9.633333   0.266667\n",
       "Comedy                10.792170   8.358333   8.016667\n",
       "Education             23.792839  11.300000   8.016667\n",
       "Entertainment         11.363302   8.100000   1.016667\n",
       "Film & Animation       7.866734   4.616667   4.116667\n",
       "Gaming                19.596324   8.800000   8.033333\n",
       "Howto & Style         10.064104   7.966667   8.016667\n",
       "Music                  9.055634   3.583333   0.516667\n",
       "News & Politics       25.566695   9.483333   0.583333\n",
       "People & Blogs        14.607722  11.533333   1.016667\n",
       "Pets & Animals         9.664231   6.166667       8.05\n",
       "Science & Technology  10.887671   8.266667       1.15\n",
       "Sports                15.089672   8.216667   3.116667\n",
       "Travel & Events       19.719388  13.766667  10.016667"
      ]
     },
     "execution_count": 53,
     "metadata": {},
     "output_type": "execute_result"
    }
   ],
   "source": [
    "# Nonprofits & Activism의 경우에는 관심이 없기도 하고 mode(최빈값)이 여러개가 나옴으로\n",
    "# 제거를 해주자.\n",
    "\n",
    "grouped = grouped.drop('Nonprofits & Activism')\n",
    "grouped"
   ]
  },
  {
   "cell_type": "code",
   "execution_count": null,
   "id": "4621b2fe",
   "metadata": {},
   "outputs": [],
   "source": []
  },
  {
   "cell_type": "code",
   "execution_count": 54,
   "id": "aa922efa",
   "metadata": {
    "scrolled": false
   },
   "outputs": [
    {
     "name": "stderr",
     "output_type": "stream",
     "text": [
      "No artists with labels found to put in legend.  Note that artists whose label start with an underscore are ignored when legend() is called with no argument.\n"
     ]
    },
    {
     "data": {
      "image/png": "[encoded data removed]",
      "text/plain": [
       "<Figure size 1800x720 with 1 Axes>"
      ]
     },
     "metadata": {
      "needs_background": "light"
     },
     "output_type": "display_data"
    }
   ],
   "source": [
    "# 카테고리별 대푯값 시각적인 확인(1.평균)\n",
    "fontprop = fm.FontProperties(fname=path, size=20)\n",
    "plt.figure(figsize=(25,10))\n",
    "plt.bar(grouped.index, grouped.iloc[:,0], color=['maroon','darkred','red','mistyrose','salmon','tomato','coral','lightsalmon'])\n",
    "plt.axhline(df1.minute_time.mean(), color='black',linewidth=5) # 전체 평균\n",
    "plt.xlabel('category_name', fontproperties=fontprop)\n",
    "plt.ylabel('mean of video-length', fontproperties=fontprop)\n",
    "plt.title('카테고리별 영상 평균 시간', fontproperties=fontprop)\n",
    "plt.legend()\n",
    "plt.show()"
   ]
  },
  {
   "cell_type": "markdown",
   "id": "2d055d76",
   "metadata": {},
   "source": [
    "* 전체 평균보다 낮은 카테고리가 조금 더 많다.\n",
    "* 전체 평균보다 압도적으로 높은 카테고리는 [Education, Gaming, News&Politics, Travel&Events]이다."
   ]
  },
  {
   "cell_type": "code",
   "execution_count": null,
   "id": "39fa6e65",
   "metadata": {},
   "outputs": [],
   "source": []
  },
  {
   "cell_type": "code",
   "execution_count": 55,
   "id": "11d26398",
   "metadata": {
    "scrolled": true
   },
   "outputs": [
    {
     "data": {
      "image/png": "[encoded data removed]",
      "text/plain": [
       "<Figure size 1800x720 with 1 Axes>"
      ]
     },
     "metadata": {
      "needs_background": "light"
     },
     "output_type": "display_data"
    }
   ],
   "source": [
    "# 카테고리별 대푯값 시각적인 확인(2.중앙값)\n",
    "plt.figure(figsize=(25,10))\n",
    "plt.bar(grouped.index, grouped.iloc[:,1],color=['maroon','darkred','red','mistyrose','salmon','tomato','coral','lightsalmon'])\n",
    "plt.axhline(df1.minute_time.median(), color='black',linewidth=5) # 전체 중앙값\n",
    "plt.xlabel('category_name', fontproperties=fontprop)\n",
    "plt.ylabel('median of video-length', fontproperties=fontprop)\n",
    "plt.title('카테고리별 영상 중앙값 시간', fontproperties=fontprop)\n",
    "plt.show()"
   ]
  },
  {
   "cell_type": "markdown",
   "id": "1d7e7ead",
   "metadata": {},
   "source": [
    "* 전체 평균보다 낮은 카테고리가 조금 더 많다.\n",
    "* 전체 평균보다 압도적으로 높은 카테고리는 [Education, Gaming, News&Politics, Travel&Events]이다.\n",
    "\n",
    "* 카테고리별 중앙값은 대부분 전체 중앙값에 가깝도록 나온다.\n",
    "* 하지만 그럼에도 크게 벗어나는 카테고리가 있는데, [Films&Animation, Music, Pets&Animals]가 적은 값을 가지고\n",
    "* [Education, People&Blogs, Travel&Events]가 큰 값을 가진다."
   ]
  },
  {
   "cell_type": "code",
   "execution_count": null,
   "id": "28627b21",
   "metadata": {},
   "outputs": [],
   "source": []
  },
  {
   "cell_type": "code",
   "execution_count": 56,
   "id": "ac365b23",
   "metadata": {
    "scrolled": true
   },
   "outputs": [
    {
     "data": {
      "image/png": "[encoded data removed]",
      "text/plain": [
       "<Figure size 1800x720 with 1 Axes>"
      ]
     },
     "metadata": {
      "needs_background": "light"
     },
     "output_type": "display_data"
    }
   ],
   "source": [
    "# 카테고리별 대푯값 시각적인 확인(3.최빈값)\n",
    "plt.figure(figsize=(25,10))\n",
    "plt.bar(grouped.index, grouped.iloc[:,1],color=['maroon','darkred','red','mistyrose','salmon','tomato','coral','lightsalmon'])\n",
    "plt.axhline(df1.minute_time.agg(pd.Series.mode)[0], color='black',linewidth=5) # 전체 중앙값\n",
    "plt.xlabel('category_name', fontproperties=fontprop)\n",
    "plt.ylabel('mode of video-length', fontproperties=fontprop)\n",
    "plt.title('카테고리별 영상 최빈값 시간', fontproperties=fontprop)\n",
    "plt.show()"
   ]
  },
  {
   "cell_type": "markdown",
   "id": "5766a484",
   "metadata": {},
   "source": [
    "* 전체 평균보다 낮은 카테고리가 조금 더 많다.\n",
    "* 전체 평균보다 압도적으로 높은 카테고리는 [Education, Gaming, News&Politics, Travel&Events]이다.\n",
    "\n",
    "* 카테고리별 중앙값은 대부분 전체 중앙값에 가깝도록 나온다.\n",
    "* 하지만 그럼에도 크게 벗어나는 카테고리가 있는데, [Films&Animation, Music, Pets&Animals]가 적은 값을 가지고\n",
    "* [Education, People&Blogs, Travel&Events]가 큰 값을 가진다.\n",
    "\n",
    "* 전체 영상의 최빈값은 8이며, 대부분이 8분이나, [Film&Animation, Music, Pets&Animals]가 작은 값을 가지고\n",
    "* [Education, People&Blogs, Travel&Events]가 큰 값을 가진다.\n"
   ]
  },
  {
   "cell_type": "markdown",
   "id": "001b9202",
   "metadata": {},
   "source": [
    "#### 결론\n",
    "* 따라서 평균이 높은 'Gaming'과 'News&Politics'가 중앙값과 최빈값은 그러지 않는 것으로 보아\n",
    "* 이 두 카테고리는 대부분의 영상이 8분이나 일부 영상의 길이가 매우 길어 평균에 영향을 주는 것 같다.\n",
    "\n",
    "* 그리고 보통적으로 [Films&Animation, Music, Pets&Animals]은 적은 영상길이를\n",
    "* [Education, People&Blogs, Travel&Events]은 긴 영상의 길이를 가진다."
   ]
  },
  {
   "cell_type": "code",
   "execution_count": null,
   "id": "ed3c8f33",
   "metadata": {},
   "outputs": [],
   "source": []
  },
  {
   "cell_type": "code",
   "execution_count": null,
   "id": "82c53c24",
   "metadata": {},
   "outputs": [],
   "source": []
  },
  {
   "cell_type": "markdown",
   "id": "0712363f",
   "metadata": {},
   "source": [
    "# 4. 동영상길이별 조회수확인; 동영상길이에 대한 수요"
   ]
  },
  {
   "cell_type": "code",
   "execution_count": 57,
   "id": "41c2b680",
   "metadata": {},
   "outputs": [
    {
     "data": {
      "text/html": [
       "<div>\n",
       "<style scoped>\n",
       "    .dataframe tbody tr th:only-of-type {\n",
       "        vertical-align: middle;\n",
       "    }\n",
       "\n",
       "    .dataframe tbody tr th {\n",
       "        vertical-align: top;\n",
       "    }\n",
       "\n",
       "    .dataframe thead th {\n",
       "        text-align: right;\n",
       "    }\n",
       "</style>\n",
       "<table border=\"1\" class=\"dataframe\">\n",
       "  <thead>\n",
       "    <tr style=\"text-align: right;\">\n",
       "      <th></th>\n",
       "      <th>channelId</th>\n",
       "      <th>video_time</th>\n",
       "      <th>video_id</th>\n",
       "      <th>when</th>\n",
       "      <th>title</th>\n",
       "      <th>minute_time</th>\n",
       "      <th>seconds_time</th>\n",
       "      <th>open</th>\n",
       "      <th>totalview</th>\n",
       "      <th>subscriber</th>\n",
       "    </tr>\n",
       "  </thead>\n",
       "  <tbody>\n",
       "    <tr>\n",
       "      <th>0</th>\n",
       "      <td>UCu9BCtGIEr73LXZsKmoujKw</td>\n",
       "      <td>4:58</td>\n",
       "      <td>u6lyUnhaaqk</td>\n",
       "      <td>10일 전</td>\n",
       "      <td>.</td>\n",
       "      <td>4.966667</td>\n",
       "      <td>298.0</td>\n",
       "      <td>2014-08-25</td>\n",
       "      <td>2.683340e+09</td>\n",
       "      <td>3230000.0</td>\n",
       "    </tr>\n",
       "  </tbody>\n",
       "</table>\n",
       "</div>"
      ],
      "text/plain": [
       "                  channelId video_time     video_id   when title  minute_time  \\\n",
       "0  UCu9BCtGIEr73LXZsKmoujKw       4:58  u6lyUnhaaqk  10일 전     .     4.966667   \n",
       "\n",
       "   seconds_time        open     totalview  subscriber  \n",
       "0         298.0  2014-08-25  2.683340e+09   3230000.0  "
      ]
     },
     "execution_count": 57,
     "metadata": {},
     "output_type": "execute_result"
    }
   ],
   "source": [
    "# channel_total <- 인기채널의 영상을 대략 90개씩 크롤링해온 데이터\n",
    "# 이 데이터로부터는 영상의 재생길이를 얻고자한다.\n",
    "\n",
    "url1 = '/Users/namhunkim/Library/CloudStorage/OneDrive-연세대학교(YonseiUniversity)/DSL/EDA/data/main/channel_total.csv'\n",
    "df1 = pd.read_csv(url1,lineterminator='\\n')\n",
    "df1.head(1)"
   ]
  },
  {
   "cell_type": "code",
   "execution_count": 58,
   "id": "9084b74e",
   "metadata": {
    "scrolled": false
   },
   "outputs": [
    {
     "data": {
      "text/html": [
       "<div>\n",
       "<style scoped>\n",
       "    .dataframe tbody tr th:only-of-type {\n",
       "        vertical-align: middle;\n",
       "    }\n",
       "\n",
       "    .dataframe tbody tr th {\n",
       "        vertical-align: top;\n",
       "    }\n",
       "\n",
       "    .dataframe thead th {\n",
       "        text-align: right;\n",
       "    }\n",
       "</style>\n",
       "<table border=\"1\" class=\"dataframe\">\n",
       "  <thead>\n",
       "    <tr style=\"text-align: right;\">\n",
       "      <th></th>\n",
       "      <th>Unnamed: 0</th>\n",
       "      <th>video_id</th>\n",
       "      <th>title</th>\n",
       "      <th>publishedAt</th>\n",
       "      <th>channelId</th>\n",
       "      <th>channelTitle</th>\n",
       "      <th>trending_date</th>\n",
       "      <th>tags</th>\n",
       "      <th>view_count</th>\n",
       "      <th>likes</th>\n",
       "      <th>dislikes</th>\n",
       "      <th>comment_count</th>\n",
       "      <th>comments_disabled</th>\n",
       "      <th>ratings_disabled</th>\n",
       "      <th>description</th>\n",
       "      <th>category_name</th>\n",
       "      <th>tag_num</th>\n",
       "    </tr>\n",
       "  </thead>\n",
       "  <tbody>\n",
       "    <tr>\n",
       "      <th>0</th>\n",
       "      <td>0</td>\n",
       "      <td>uq5LClQN3cE</td>\n",
       "      <td>안녕하세요 보겸입니다</td>\n",
       "      <td>2020-08-09 09:32:48</td>\n",
       "      <td>UCu9BCtGIEr73LXZsKmoujKw</td>\n",
       "      <td>보겸 BK</td>\n",
       "      <td>2020-08-12 00:00:00</td>\n",
       "      <td>보겸|bokyem</td>\n",
       "      <td>5947503</td>\n",
       "      <td>53326</td>\n",
       "      <td>105756</td>\n",
       "      <td>139946</td>\n",
       "      <td>False</td>\n",
       "      <td>False</td>\n",
       "      <td>NaN</td>\n",
       "      <td>Entertainment</td>\n",
       "      <td>2</td>\n",
       "    </tr>\n",
       "  </tbody>\n",
       "</table>\n",
       "</div>"
      ],
      "text/plain": [
       "   Unnamed: 0     video_id        title          publishedAt  \\\n",
       "0           0  uq5LClQN3cE  안녕하세요 보겸입니다  2020-08-09 09:32:48   \n",
       "\n",
       "                  channelId channelTitle        trending_date       tags  \\\n",
       "0  UCu9BCtGIEr73LXZsKmoujKw        보겸 BK  2020-08-12 00:00:00  보겸|bokyem   \n",
       "\n",
       "   view_count  likes  dislikes  comment_count  comments_disabled  \\\n",
       "0     5947503  53326    105756         139946              False   \n",
       "\n",
       "   ratings_disabled description  category_name  tag_num  \n",
       "0             False         NaN  Entertainment        2  "
      ]
     },
     "execution_count": 58,
     "metadata": {},
     "output_type": "execute_result"
    }
   ],
   "source": [
    "# youtube_nodouble <- 인기동영상에 대한 데이터\n",
    "# 이 데이터로부터는 영상의 조회수를 얻고자한다.\n",
    "\n",
    "url2 = '/Users/namhunkim/Library/CloudStorage/OneDrive-연세대학교(YonseiUniversity)/DSL/EDA/data/main/youtube_nodouble.csv'\n",
    "df2 = pd.read_csv(url2,lineterminator='\\n')\n",
    "df2.head(1)"
   ]
  },
  {
   "cell_type": "markdown",
   "id": "02e7107f",
   "metadata": {},
   "source": [
    "겹치는 video_id를 토대로 그 자료를 가져오자."
   ]
  },
  {
   "cell_type": "code",
   "execution_count": 59,
   "id": "a5fa2a80",
   "metadata": {
    "scrolled": true
   },
   "outputs": [
    {
     "data": {
      "text/html": [
       "<div>\n",
       "<style scoped>\n",
       "    .dataframe tbody tr th:only-of-type {\n",
       "        vertical-align: middle;\n",
       "    }\n",
       "\n",
       "    .dataframe tbody tr th {\n",
       "        vertical-align: top;\n",
       "    }\n",
       "\n",
       "    .dataframe thead th {\n",
       "        text-align: right;\n",
       "    }\n",
       "</style>\n",
       "<table border=\"1\" class=\"dataframe\">\n",
       "  <thead>\n",
       "    <tr style=\"text-align: right;\">\n",
       "      <th></th>\n",
       "      <th>video_id</th>\n",
       "      <th>minute_time</th>\n",
       "    </tr>\n",
       "  </thead>\n",
       "  <tbody>\n",
       "    <tr>\n",
       "      <th>0</th>\n",
       "      <td>u6lyUnhaaqk</td>\n",
       "      <td>4.966667</td>\n",
       "    </tr>\n",
       "  </tbody>\n",
       "</table>\n",
       "</div>"
      ],
      "text/plain": [
       "      video_id  minute_time\n",
       "0  u6lyUnhaaqk     4.966667"
      ]
     },
     "execution_count": 59,
     "metadata": {},
     "output_type": "execute_result"
    }
   ],
   "source": [
    "# channel_total의 비디오아이디와 재생시간\n",
    "\n",
    "df3 = df1.loc[:,['video_id','minute_time']]\n",
    "df3.head(1)"
   ]
  },
  {
   "cell_type": "code",
   "execution_count": 60,
   "id": "92e1548d",
   "metadata": {
    "scrolled": false
   },
   "outputs": [
    {
     "name": "stdout",
     "output_type": "stream",
     "text": [
      "video_id\n",
      "--8IwTcvN98    514801.222222\n",
      "Name: view_count, dtype: float64 \n",
      "\n",
      "video_id\n",
      "--8IwTcvN98    543198.0\n",
      "Name: view_count, dtype: float64 \n",
      "\n"
     ]
    }
   ],
   "source": [
    "# youtube_nodouble의 비디오아이디와 조회수(1)\n",
    "\n",
    "df4 = df2.groupby('video_id').mean().view_count # 평균을 사용\n",
    "df5 = df2.groupby('video_id').median().view_count # 중앙값을 사용\n",
    "print(df4.head(1),'\\n')\n",
    "print(df5.head(1),'\\n')"
   ]
  },
  {
   "cell_type": "code",
   "execution_count": 61,
   "id": "5adf7bf6",
   "metadata": {
    "scrolled": true
   },
   "outputs": [
    {
     "data": {
      "text/html": [
       "<div>\n",
       "<style scoped>\n",
       "    .dataframe tbody tr th:only-of-type {\n",
       "        vertical-align: middle;\n",
       "    }\n",
       "\n",
       "    .dataframe tbody tr th {\n",
       "        vertical-align: top;\n",
       "    }\n",
       "\n",
       "    .dataframe thead th {\n",
       "        text-align: right;\n",
       "    }\n",
       "</style>\n",
       "<table border=\"1\" class=\"dataframe\">\n",
       "  <thead>\n",
       "    <tr style=\"text-align: right;\">\n",
       "      <th></th>\n",
       "      <th>video_id</th>\n",
       "      <th>view_count_mean</th>\n",
       "      <th>view_count_median</th>\n",
       "    </tr>\n",
       "  </thead>\n",
       "  <tbody>\n",
       "    <tr>\n",
       "      <th>0</th>\n",
       "      <td>--8IwTcvN98</td>\n",
       "      <td>514801.222222</td>\n",
       "      <td>543198.0</td>\n",
       "    </tr>\n",
       "  </tbody>\n",
       "</table>\n",
       "</div>"
      ],
      "text/plain": [
       "      video_id  view_count_mean  view_count_median\n",
       "0  --8IwTcvN98    514801.222222           543198.0"
      ]
     },
     "execution_count": 61,
     "metadata": {},
     "output_type": "execute_result"
    }
   ],
   "source": [
    "# youtube_nodouble의 비디오아이디와 조회수(2)\n",
    "# 데이터프레임형태로 변환\n",
    "\n",
    "df6 = pd.concat([pd.Series(df4.index.values),pd.Series(df4.values),pd.Series(df5.values)],axis=1)\n",
    "df6.columns = ['video_id','view_count_mean','view_count_median']\n",
    "df6.head(1)"
   ]
  },
  {
   "cell_type": "code",
   "execution_count": 62,
   "id": "f587c1ed",
   "metadata": {
    "scrolled": true
   },
   "outputs": [
    {
     "name": "stdout",
     "output_type": "stream",
     "text": [
      "['--8IwTcvN98' '--FmExEAsM8' '-1HI2yiZ8Lg' ... 'zvvVmwoIEDU' 'zwuB-Y-iqIw'\n",
      " 'zxuLVGPwGWY'] \n",
      "\n",
      "5277\n"
     ]
    }
   ],
   "source": [
    "# 겹치는 video_id의 갯수 확인\n",
    "\n",
    "same_video_id = np.intersect1d(df3.video_id.values, df6.video_id.values)\n",
    "print(same_video_id,'\\n')\n",
    "print(len(same_video_id))"
   ]
  },
  {
   "cell_type": "code",
   "execution_count": 63,
   "id": "8aee172c",
   "metadata": {
    "scrolled": false
   },
   "outputs": [
    {
     "data": {
      "text/html": [
       "<div>\n",
       "<style scoped>\n",
       "    .dataframe tbody tr th:only-of-type {\n",
       "        vertical-align: middle;\n",
       "    }\n",
       "\n",
       "    .dataframe tbody tr th {\n",
       "        vertical-align: top;\n",
       "    }\n",
       "\n",
       "    .dataframe thead th {\n",
       "        text-align: right;\n",
       "    }\n",
       "</style>\n",
       "<table border=\"1\" class=\"dataframe\">\n",
       "  <thead>\n",
       "    <tr style=\"text-align: right;\">\n",
       "      <th></th>\n",
       "      <th>video_id</th>\n",
       "      <th>minute_time</th>\n",
       "      <th>view_count_mean</th>\n",
       "      <th>view_count_median</th>\n",
       "    </tr>\n",
       "  </thead>\n",
       "  <tbody>\n",
       "    <tr>\n",
       "      <th>0</th>\n",
       "      <td>6MiItImFYbk</td>\n",
       "      <td>9.683333</td>\n",
       "      <td>1.349944e+06</td>\n",
       "      <td>1405934.5</td>\n",
       "    </tr>\n",
       "    <tr>\n",
       "      <th>1</th>\n",
       "      <td>tPvKxYXouDY</td>\n",
       "      <td>8.366667</td>\n",
       "      <td>1.509278e+06</td>\n",
       "      <td>1590874.0</td>\n",
       "    </tr>\n",
       "    <tr>\n",
       "      <th>2</th>\n",
       "      <td>uZ63Kbaz9UA</td>\n",
       "      <td>11.450000</td>\n",
       "      <td>1.211395e+06</td>\n",
       "      <td>1251976.5</td>\n",
       "    </tr>\n",
       "    <tr>\n",
       "      <th>3</th>\n",
       "      <td>QCMVsxYcC8M</td>\n",
       "      <td>8.050000</td>\n",
       "      <td>1.855166e+06</td>\n",
       "      <td>1905973.0</td>\n",
       "    </tr>\n",
       "    <tr>\n",
       "      <th>4</th>\n",
       "      <td>Fm1m-UwUcYY</td>\n",
       "      <td>10.066667</td>\n",
       "      <td>1.871186e+06</td>\n",
       "      <td>1882573.0</td>\n",
       "    </tr>\n",
       "    <tr>\n",
       "      <th>...</th>\n",
       "      <td>...</td>\n",
       "      <td>...</td>\n",
       "      <td>...</td>\n",
       "      <td>...</td>\n",
       "    </tr>\n",
       "    <tr>\n",
       "      <th>5272</th>\n",
       "      <td>WvpfhCuM9aY</td>\n",
       "      <td>4.116667</td>\n",
       "      <td>1.921563e+05</td>\n",
       "      <td>195267.5</td>\n",
       "    </tr>\n",
       "    <tr>\n",
       "      <th>5273</th>\n",
       "      <td>zXiJZZkWAHs</td>\n",
       "      <td>3.233333</td>\n",
       "      <td>8.294753e+05</td>\n",
       "      <td>675614.0</td>\n",
       "    </tr>\n",
       "    <tr>\n",
       "      <th>5274</th>\n",
       "      <td>fj-fho49sfE</td>\n",
       "      <td>2.133333</td>\n",
       "      <td>1.880817e+05</td>\n",
       "      <td>196895.0</td>\n",
       "    </tr>\n",
       "    <tr>\n",
       "      <th>5275</th>\n",
       "      <td>MFkuTEkyMu0</td>\n",
       "      <td>21.850000</td>\n",
       "      <td>1.314210e+05</td>\n",
       "      <td>131421.0</td>\n",
       "    </tr>\n",
       "    <tr>\n",
       "      <th>5276</th>\n",
       "      <td>rYoQLv2cuGo</td>\n",
       "      <td>0.333333</td>\n",
       "      <td>3.027157e+06</td>\n",
       "      <td>3027157.0</td>\n",
       "    </tr>\n",
       "  </tbody>\n",
       "</table>\n",
       "<p>5277 rows × 4 columns</p>\n",
       "</div>"
      ],
      "text/plain": [
       "         video_id  minute_time  view_count_mean  view_count_median\n",
       "0     6MiItImFYbk     9.683333     1.349944e+06          1405934.5\n",
       "1     tPvKxYXouDY     8.366667     1.509278e+06          1590874.0\n",
       "2     uZ63Kbaz9UA    11.450000     1.211395e+06          1251976.5\n",
       "3     QCMVsxYcC8M     8.050000     1.855166e+06          1905973.0\n",
       "4     Fm1m-UwUcYY    10.066667     1.871186e+06          1882573.0\n",
       "...           ...          ...              ...                ...\n",
       "5272  WvpfhCuM9aY     4.116667     1.921563e+05           195267.5\n",
       "5273  zXiJZZkWAHs     3.233333     8.294753e+05           675614.0\n",
       "5274  fj-fho49sfE     2.133333     1.880817e+05           196895.0\n",
       "5275  MFkuTEkyMu0    21.850000     1.314210e+05           131421.0\n",
       "5276  rYoQLv2cuGo     0.333333     3.027157e+06          3027157.0\n",
       "\n",
       "[5277 rows x 4 columns]"
      ]
     },
     "execution_count": 63,
     "metadata": {},
     "output_type": "execute_result"
    }
   ],
   "source": [
    "# 동일한 video_id를 기준으로 두 데이터에서 각각 재생시간과 조회수를 가져와 합친다.\n",
    "\n",
    "data = pd.merge(df3, df6, how=\"inner\", on='video_id')\n",
    "data"
   ]
  },
  {
   "cell_type": "code",
   "execution_count": 64,
   "id": "04dfbc73",
   "metadata": {},
   "outputs": [
    {
     "data": {
      "text/plain": [
       "True"
      ]
     },
     "execution_count": 64,
     "metadata": {},
     "output_type": "execute_result"
    }
   ],
   "source": [
    "# np.intersect1d로 뽑은 video_id와 merge로 뽑은 video_id가 같다.\n",
    "# 즉, 제대로 한 것이 맞다!\n",
    "\n",
    "(np.intersect1d(data.video_id, same_video_id) == same_video_id).all()"
   ]
  },
  {
   "cell_type": "code",
   "execution_count": null,
   "id": "4de78ab7",
   "metadata": {},
   "outputs": [],
   "source": []
  },
  {
   "cell_type": "markdown",
   "id": "4d22f866",
   "metadata": {},
   "source": [
    "(1) 조회수의 평균에 대해 확인"
   ]
  },
  {
   "cell_type": "code",
   "execution_count": 65,
   "id": "9a7410c3",
   "metadata": {
    "scrolled": true
   },
   "outputs": [
    {
     "data": {
      "image/png": "[encoded data removed]",
      "text/plain": [
       "<Figure size 432x288 with 1 Axes>"
      ]
     },
     "metadata": {
      "needs_background": "light"
     },
     "output_type": "display_data"
    }
   ],
   "source": [
    "# 전체 데이터의 재생시간에 따른 조회수 분포\n",
    "fontprop = fm.FontProperties(fname=path, size=12)\n",
    "\n",
    "plt.title('재생시간에 따른 조회수의 평균', fontproperties=fontprop)\n",
    "plt.xlabel('video_length')\n",
    "plt.ylabel('mean of view_count')\n",
    "plt.bar(data.minute_time,data.view_count_mean, color='tomato')\n",
    "plt.show()"
   ]
  },
  {
   "cell_type": "markdown",
   "id": "c4646f00",
   "metadata": {},
   "source": [
    "#### 0~20대만을 짤라서 확인해보자."
   ]
  },
  {
   "cell_type": "code",
   "execution_count": null,
   "id": "61f47fa3",
   "metadata": {},
   "outputs": [],
   "source": []
  },
  {
   "cell_type": "code",
   "execution_count": 66,
   "id": "8953c69d",
   "metadata": {
    "scrolled": false
   },
   "outputs": [
    {
     "data": {
      "image/png": "[encoded data removed]",
      "text/plain": [
       "<Figure size 432x288 with 1 Axes>"
      ]
     },
     "metadata": {
      "needs_background": "light"
     },
     "output_type": "display_data"
    }
   ],
   "source": [
    "idx1 = np.where(data.minute_time<20)[0]\n",
    "\n",
    "plt.title('재생시간에 따른 조회수의 평균(0~20분 영상)', fontproperties=fontprop)\n",
    "plt.xlabel('video_length')\n",
    "plt.ylabel('mean of view_count')\n",
    "plt.bar(data.minute_time.iloc[idx1],data.view_count_mean.iloc[idx1], color='tomato')\n",
    "plt.show()"
   ]
  },
  {
   "cell_type": "code",
   "execution_count": null,
   "id": "6d2f2fba",
   "metadata": {},
   "outputs": [],
   "source": []
  },
  {
   "cell_type": "code",
   "execution_count": 67,
   "id": "0712e2d3",
   "metadata": {},
   "outputs": [
    {
     "data": {
      "image/png": "[encoded data removed]",
      "text/plain": [
       "<Figure size 432x288 with 1 Axes>"
      ]
     },
     "metadata": {
      "needs_background": "light"
     },
     "output_type": "display_data"
    }
   ],
   "source": [
    "# 0~10분으로 더 명확하게 확인해보자.\n",
    "\n",
    "idx2 = np.where(data.minute_time<10)[0]\n",
    "\n",
    "plt.title('재생시간에 따른 조회수의 평균(0~10분 영상)', fontproperties=fontprop)\n",
    "plt.xlabel('video_length')\n",
    "plt.ylabel('mean of view_count')\n",
    "plt.bar(data.minute_time.iloc[idx2],data.view_count_mean.iloc[idx2], color='tomato')\n",
    "plt.show()"
   ]
  },
  {
   "cell_type": "markdown",
   "id": "83c99167",
   "metadata": {},
   "source": [
    "* 대략 3분의 영상시간을 갖는 영상에 대해 가장 많은 조회수가 나온다.\n",
    "* 그 다음은 4~5분대도 조회수가 꽤 나온다.\n",
    "* 그 다음은 1~2분대, 8분대이다."
   ]
  },
  {
   "cell_type": "code",
   "execution_count": null,
   "id": "de83bd84",
   "metadata": {},
   "outputs": [],
   "source": []
  },
  {
   "cell_type": "markdown",
   "id": "911cdf2a",
   "metadata": {},
   "source": [
    "#### 40분이후 대만을 짤라서 확인해보자."
   ]
  },
  {
   "cell_type": "code",
   "execution_count": 68,
   "id": "a55a7a69",
   "metadata": {},
   "outputs": [
    {
     "name": "stderr",
     "output_type": "stream",
     "text": [
      "/Users/namhunkim/opt/anaconda3/lib/python3.9/site-packages/IPython/core/pylabtools.py:151: UserWarning: Glyph 51116 (\\N{HANGUL SYLLABLE JAE}) missing from current font.\n",
      "  fig.canvas.print_figure(bytes_io, **kw)\n",
      "/Users/namhunkim/opt/anaconda3/lib/python3.9/site-packages/IPython/core/pylabtools.py:151: UserWarning: Glyph 49373 (\\N{HANGUL SYLLABLE SAENG}) missing from current font.\n",
      "  fig.canvas.print_figure(bytes_io, **kw)\n",
      "/Users/namhunkim/opt/anaconda3/lib/python3.9/site-packages/IPython/core/pylabtools.py:151: UserWarning: Glyph 49884 (\\N{HANGUL SYLLABLE SI}) missing from current font.\n",
      "  fig.canvas.print_figure(bytes_io, **kw)\n",
      "/Users/namhunkim/opt/anaconda3/lib/python3.9/site-packages/IPython/core/pylabtools.py:151: UserWarning: Glyph 44036 (\\N{HANGUL SYLLABLE GAN}) missing from current font.\n",
      "  fig.canvas.print_figure(bytes_io, **kw)\n",
      "/Users/namhunkim/opt/anaconda3/lib/python3.9/site-packages/IPython/core/pylabtools.py:151: UserWarning: Glyph 50640 (\\N{HANGUL SYLLABLE E}) missing from current font.\n",
      "  fig.canvas.print_figure(bytes_io, **kw)\n",
      "/Users/namhunkim/opt/anaconda3/lib/python3.9/site-packages/IPython/core/pylabtools.py:151: UserWarning: Glyph 46384 (\\N{HANGUL SYLLABLE DDA}) missing from current font.\n",
      "  fig.canvas.print_figure(bytes_io, **kw)\n",
      "/Users/namhunkim/opt/anaconda3/lib/python3.9/site-packages/IPython/core/pylabtools.py:151: UserWarning: Glyph 47480 (\\N{HANGUL SYLLABLE REUN}) missing from current font.\n",
      "  fig.canvas.print_figure(bytes_io, **kw)\n",
      "/Users/namhunkim/opt/anaconda3/lib/python3.9/site-packages/IPython/core/pylabtools.py:151: UserWarning: Glyph 51312 (\\N{HANGUL SYLLABLE JO}) missing from current font.\n",
      "  fig.canvas.print_figure(bytes_io, **kw)\n",
      "/Users/namhunkim/opt/anaconda3/lib/python3.9/site-packages/IPython/core/pylabtools.py:151: UserWarning: Glyph 54924 (\\N{HANGUL SYLLABLE HOE}) missing from current font.\n",
      "  fig.canvas.print_figure(bytes_io, **kw)\n",
      "/Users/namhunkim/opt/anaconda3/lib/python3.9/site-packages/IPython/core/pylabtools.py:151: UserWarning: Glyph 49688 (\\N{HANGUL SYLLABLE SU}) missing from current font.\n",
      "  fig.canvas.print_figure(bytes_io, **kw)\n",
      "/Users/namhunkim/opt/anaconda3/lib/python3.9/site-packages/IPython/core/pylabtools.py:151: UserWarning: Glyph 51032 (\\N{HANGUL SYLLABLE YI}) missing from current font.\n",
      "  fig.canvas.print_figure(bytes_io, **kw)\n",
      "/Users/namhunkim/opt/anaconda3/lib/python3.9/site-packages/IPython/core/pylabtools.py:151: UserWarning: Glyph 54217 (\\N{HANGUL SYLLABLE PYEONG}) missing from current font.\n",
      "  fig.canvas.print_figure(bytes_io, **kw)\n",
      "/Users/namhunkim/opt/anaconda3/lib/python3.9/site-packages/IPython/core/pylabtools.py:151: UserWarning: Glyph 44512 (\\N{HANGUL SYLLABLE GYUN}) missing from current font.\n",
      "  fig.canvas.print_figure(bytes_io, **kw)\n",
      "/Users/namhunkim/opt/anaconda3/lib/python3.9/site-packages/IPython/core/pylabtools.py:151: UserWarning: Glyph 48516 (\\N{HANGUL SYLLABLE BUN}) missing from current font.\n",
      "  fig.canvas.print_figure(bytes_io, **kw)\n",
      "/Users/namhunkim/opt/anaconda3/lib/python3.9/site-packages/IPython/core/pylabtools.py:151: UserWarning: Glyph 51060 (\\N{HANGUL SYLLABLE I}) missing from current font.\n",
      "  fig.canvas.print_figure(bytes_io, **kw)\n",
      "/Users/namhunkim/opt/anaconda3/lib/python3.9/site-packages/IPython/core/pylabtools.py:151: UserWarning: Glyph 49345 (\\N{HANGUL SYLLABLE SANG}) missing from current font.\n",
      "  fig.canvas.print_figure(bytes_io, **kw)\n",
      "/Users/namhunkim/opt/anaconda3/lib/python3.9/site-packages/IPython/core/pylabtools.py:151: UserWarning: Glyph 50689 (\\N{HANGUL SYLLABLE YEONG}) missing from current font.\n",
      "  fig.canvas.print_figure(bytes_io, **kw)\n"
     ]
    },
    {
     "data": {
      "image/png": "[encoded data removed]",
      "text/plain": [
       "<Figure size 432x288 with 1 Axes>"
      ]
     },
     "metadata": {
      "needs_background": "light"
     },
     "output_type": "display_data"
    }
   ],
   "source": [
    "# 40분이 넘는 영상에 대한 조회수 평균 확인\n",
    "\n",
    "idx3 = np.where(data.minute_time>40)[0]\n",
    "\n",
    "plt.title('재생시간에 따른 조회수의 평균(40분 이상 영상)')\n",
    "plt.xlabel('video_length')\n",
    "plt.ylabel('mean of view_count')\n",
    "plt.bar(data.minute_time.iloc[idx3],data.view_count_mean.iloc[idx3])\n",
    "plt.show()"
   ]
  },
  {
   "cell_type": "markdown",
   "id": "93e1a098",
   "metadata": {},
   "source": [
    "* 60,80분정도 영상에 대한 수요가 꽤 많다.\n",
    "* 그리고 50,100분 정도도 괜찮은 조회수가 나온다."
   ]
  },
  {
   "cell_type": "code",
   "execution_count": null,
   "id": "58b3a1e6",
   "metadata": {},
   "outputs": [],
   "source": []
  },
  {
   "cell_type": "markdown",
   "id": "e1a4d41e",
   "metadata": {},
   "source": [
    "(2) 조회수의 중앙값에 대해 확인"
   ]
  },
  {
   "cell_type": "code",
   "execution_count": 69,
   "id": "0ae247c7",
   "metadata": {
    "scrolled": true
   },
   "outputs": [
    {
     "data": {
      "image/png": "[encoded data removed]",
      "text/plain": [
       "<Figure size 432x288 with 1 Axes>"
      ]
     },
     "metadata": {
      "needs_background": "light"
     },
     "output_type": "display_data"
    }
   ],
   "source": [
    "# 전체 데이터의 재생시간에 따른 조회수 분포\n",
    "\n",
    "plt.title('재생시간에 따른 조회수의 중앙값', fontproperties=fontprop)\n",
    "plt.xlabel('video_length')\n",
    "plt.ylabel('median of view_count')\n",
    "plt.bar(data.minute_time,data.view_count_median, color='tomato')\n",
    "plt.show()"
   ]
  },
  {
   "cell_type": "markdown",
   "id": "245f6b01",
   "metadata": {},
   "source": [
    "#### 0~20대만을 짤라서 확인해보자."
   ]
  },
  {
   "cell_type": "code",
   "execution_count": null,
   "id": "f5b016d1",
   "metadata": {},
   "outputs": [],
   "source": []
  },
  {
   "cell_type": "code",
   "execution_count": 70,
   "id": "ba4b6fc5",
   "metadata": {
    "scrolled": true
   },
   "outputs": [
    {
     "data": {
      "image/png": "[encoded data removed]",
      "text/plain": [
       "<Figure size 1296x576 with 2 Axes>"
      ]
     },
     "execution_count": 70,
     "metadata": {},
     "output_type": "execute_result"
    },
    {
     "data": {
      "image/png": "[encoded data removed]",
      "text/plain": [
       "<Figure size 1296x576 with 2 Axes>"
      ]
     },
     "metadata": {
      "needs_background": "light"
     },
     "output_type": "display_data"
    }
   ],
   "source": [
    "fontprop = fm.FontProperties(fname=path, size=18)\n",
    "\n",
    "fig = plt.figure(figsize=(18,8))\n",
    "\n",
    "ax1 = fig.add_subplot(1, 2, 1)\n",
    "ax1.set_xlabel('video_length')\n",
    "ax1.set_ylabel('median of view_count')\n",
    "ax1.set_title('재생시간에 따른 조회수의 중앙값(0~20분 영상)', fontproperties=fontprop)\n",
    "ax1.bar(data.minute_time.iloc[idx1],data.view_count_median.iloc[idx1], color='tomato')\n",
    "\n",
    "ax2 = fig.add_subplot(1, 2, 2)\n",
    "ax2.set_xlabel('video_length')\n",
    "ax2.set_ylabel('mean of view_count')\n",
    "ax2.set_title('재생시간에 따른 조회수의 평균(0~20분 영상)', fontproperties=fontprop)\n",
    "ax2.bar(data.minute_time.iloc[idx1],data.view_count_mean.iloc[idx1], color='salmon')\n",
    "\n",
    "fig"
   ]
  },
  {
   "cell_type": "markdown",
   "id": "3b60ce38",
   "metadata": {},
   "source": [
    "* 약간의 차이는 있으나, 거의 비슷한 형태이다."
   ]
  },
  {
   "cell_type": "markdown",
   "id": "aef39722",
   "metadata": {},
   "source": [
    "0~10분으로 더 명확하게 확인해보자.\n"
   ]
  },
  {
   "cell_type": "code",
   "execution_count": 71,
   "id": "01ffd8dc",
   "metadata": {
    "scrolled": true
   },
   "outputs": [
    {
     "data": {
      "text/plain": [
       "<BarContainer object of 2428 artists>"
      ]
     },
     "execution_count": 71,
     "metadata": {},
     "output_type": "execute_result"
    },
    {
     "data": {
      "image/png": "[encoded data removed]",
      "text/plain": [
       "<Figure size 1296x576 with 2 Axes>"
      ]
     },
     "metadata": {
      "needs_background": "light"
     },
     "output_type": "display_data"
    }
   ],
   "source": [
    "fig = plt.figure(figsize=(18,8))\n",
    "\n",
    "ax1 = fig.add_subplot(1, 2, 1)\n",
    "ax1.set_xlabel('video_length')\n",
    "ax1.set_ylabel('median of view_count')\n",
    "ax1.set_title('재생시간에 따른 조회수의 중앙값(0~10분 영상)', fontproperties=fontprop)\n",
    "ax1.bar(data.minute_time.iloc[idx2],data.view_count_median.iloc[idx2], color='tomato')\n",
    "\n",
    "ax2 = fig.add_subplot(1, 2, 2)\n",
    "ax2.set_xlabel('video_length')\n",
    "ax2.set_ylabel('mean of view_count')\n",
    "ax2.set_title('재생시간에 따른 조회수의 평균(0~10분 영상)', fontproperties=fontprop)\n",
    "ax2.bar(data.minute_time.iloc[idx2],data.view_count_mean.iloc[idx2], color='salmon')"
   ]
  },
  {
   "cell_type": "markdown",
   "id": "e8952f17",
   "metadata": {},
   "source": [
    "* 약간의 차이는 있으나, 거의 비슷한 형태이다.\n",
    "* 따라서 이전과 같이 결론을 내려도 될 것 같다."
   ]
  },
  {
   "cell_type": "code",
   "execution_count": null,
   "id": "dbd30e70",
   "metadata": {},
   "outputs": [],
   "source": []
  },
  {
   "cell_type": "code",
   "execution_count": 72,
   "id": "4931326b",
   "metadata": {
    "scrolled": true
   },
   "outputs": [
    {
     "data": {
      "text/plain": [
       "<BarContainer object of 63 artists>"
      ]
     },
     "execution_count": 72,
     "metadata": {},
     "output_type": "execute_result"
    },
    {
     "data": {
      "image/png": "[encoded data removed]",
      "text/plain": [
       "<Figure size 1296x576 with 2 Axes>"
      ]
     },
     "metadata": {
      "needs_background": "light"
     },
     "output_type": "display_data"
    }
   ],
   "source": [
    "# 40분이 넘는 영상에 대한 조회수 평균 확인\n",
    "\n",
    "fig = plt.figure(figsize=(18,8))\n",
    "\n",
    "ax1 = fig.add_subplot(1, 2, 1)\n",
    "ax1.set_xlabel('video_length')\n",
    "ax1.set_ylabel('median of view_count')\n",
    "ax1.set_title('재생시간에 따른 조회수의 중앙값(40분이 넘는 영상)', fontproperties=fontprop)\n",
    "ax1.bar(data.minute_time.iloc[idx3],data.view_count_median.iloc[idx3], color='tomato')\n",
    "\n",
    "ax2 = fig.add_subplot(1, 2, 2)\n",
    "ax2.set_xlabel('video_length')\n",
    "ax2.set_ylabel('mean of view_count')\n",
    "ax2.set_title('재생시간에 따른 조회수의 평균(40분이 넘는 영상)', fontproperties=fontprop)\n",
    "ax2.bar(data.minute_time.iloc[idx3],data.view_count_mean.iloc[idx3], color='salmon')"
   ]
  },
  {
   "cell_type": "markdown",
   "id": "f9461df9",
   "metadata": {},
   "source": [
    "* 40분이 넘는 영상도 마찬가지이다."
   ]
  },
  {
   "cell_type": "markdown",
   "id": "28469788",
   "metadata": {},
   "source": []
  },
  {
   "cell_type": "code",
   "execution_count": null,
   "id": "0c59dc47",
   "metadata": {},
   "outputs": [],
   "source": []
  },
  {
   "cell_type": "code",
   "execution_count": null,
   "id": "f65a8eea",
   "metadata": {},
   "outputs": [],
   "source": []
  },
  {
   "cell_type": "code",
   "execution_count": null,
   "id": "ed57aec5",
   "metadata": {},
   "outputs": [],
   "source": []
  }
 ],
 "metadata": {
  "kernelspec": {
   "display_name": "Python 3 (ipykernel)",
   "language": "python",
   "name": "python3"
  },
  "language_info": {
   "codemirror_mode": {
    "name": "ipython",
    "version": 3
   },
   "file_extension": ".py",
   "mimetype": "text/x-python",
   "name": "python",
   "nbconvert_exporter": "python",
   "pygments_lexer": "ipython3",
   "version": "3.9.12"
  }
 },
 "nbformat": 4,
 "nbformat_minor": 5
}
