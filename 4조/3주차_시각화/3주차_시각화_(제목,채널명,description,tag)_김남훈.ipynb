{
 "cells": [
  {
   "cell_type": "code",
   "execution_count": 345,
   "id": "f3074c1b",
   "metadata": {},
   "outputs": [],
   "source": [
    "import numpy as np\n",
    "import pandas as pd\n",
    "import matplotlib as mpl\n",
    "import matplotlib.pyplot as plt\n",
    "import seaborn as sns\n",
    "\n",
    "# 폰트 설정\n",
    "import matplotlib.font_manager as fm\n",
    "path = '/Users/namhunkim/fonts/nanum-gothic/NanumGothic.ttf'\n",
    "fontprop = fm.FontProperties(fname=path, size=12)"
   ]
  },
  {
   "cell_type": "markdown",
   "id": "97a86a7a",
   "metadata": {},
   "source": [
    "# 데이터 불러오기"
   ]
  },
  {
   "cell_type": "code",
   "execution_count": 339,
   "id": "310a68ba",
   "metadata": {},
   "outputs": [
    {
     "data": {
      "text/html": [
       "<div>\n",
       "<style scoped>\n",
       "    .dataframe tbody tr th:only-of-type {\n",
       "        vertical-align: middle;\n",
       "    }\n",
       "\n",
       "    .dataframe tbody tr th {\n",
       "        vertical-align: top;\n",
       "    }\n",
       "\n",
       "    .dataframe thead th {\n",
       "        text-align: right;\n",
       "    }\n",
       "</style>\n",
       "<table border=\"1\" class=\"dataframe\">\n",
       "  <thead>\n",
       "    <tr style=\"text-align: right;\">\n",
       "      <th></th>\n",
       "      <th>channelId</th>\n",
       "      <th>video_time</th>\n",
       "      <th>video_id</th>\n",
       "      <th>when</th>\n",
       "      <th>title</th>\n",
       "      <th>minute_time</th>\n",
       "      <th>seconds_time</th>\n",
       "      <th>open</th>\n",
       "      <th>totalview</th>\n",
       "      <th>subscriber</th>\n",
       "    </tr>\n",
       "  </thead>\n",
       "  <tbody>\n",
       "    <tr>\n",
       "      <th>0</th>\n",
       "      <td>UCu9BCtGIEr73LXZsKmoujKw</td>\n",
       "      <td>4:58</td>\n",
       "      <td>u6lyUnhaaqk</td>\n",
       "      <td>10일 전</td>\n",
       "      <td>.</td>\n",
       "      <td>4.966667</td>\n",
       "      <td>298.0</td>\n",
       "      <td>2014-08-25</td>\n",
       "      <td>2.683340e+09</td>\n",
       "      <td>3230000.0</td>\n",
       "    </tr>\n",
       "  </tbody>\n",
       "</table>\n",
       "</div>"
      ],
      "text/plain": [
       "                  channelId video_time     video_id   when title  minute_time  \\\n",
       "0  UCu9BCtGIEr73LXZsKmoujKw       4:58  u6lyUnhaaqk  10일 전     .     4.966667   \n",
       "\n",
       "   seconds_time        open     totalview  subscriber  \n",
       "0         298.0  2014-08-25  2.683340e+09   3230000.0  "
      ]
     },
     "execution_count": 339,
     "metadata": {},
     "output_type": "execute_result"
    }
   ],
   "source": [
    "# channel_total\n",
    "\n",
    "url1 = '/Users/namhunkim/Library/CloudStorage/OneDrive-연세대학교(YonseiUniversity)/DSL/EDA/data/main/channel_total.csv'\n",
    "df1 = pd.read_csv(url1,lineterminator='\\n')\n",
    "df1.head(1)"
   ]
  },
  {
   "cell_type": "code",
   "execution_count": 340,
   "id": "7709e70d",
   "metadata": {},
   "outputs": [
    {
     "data": {
      "text/html": [
       "<div>\n",
       "<style scoped>\n",
       "    .dataframe tbody tr th:only-of-type {\n",
       "        vertical-align: middle;\n",
       "    }\n",
       "\n",
       "    .dataframe tbody tr th {\n",
       "        vertical-align: top;\n",
       "    }\n",
       "\n",
       "    .dataframe thead th {\n",
       "        text-align: right;\n",
       "    }\n",
       "</style>\n",
       "<table border=\"1\" class=\"dataframe\">\n",
       "  <thead>\n",
       "    <tr style=\"text-align: right;\">\n",
       "      <th></th>\n",
       "      <th>video_id</th>\n",
       "      <th>title</th>\n",
       "      <th>publishedAt</th>\n",
       "      <th>channelId</th>\n",
       "      <th>channelTitle</th>\n",
       "      <th>trending_date</th>\n",
       "      <th>tags</th>\n",
       "      <th>view_count</th>\n",
       "      <th>likes</th>\n",
       "      <th>dislikes</th>\n",
       "      <th>comment_count</th>\n",
       "      <th>description</th>\n",
       "      <th>category_name</th>\n",
       "      <th>tag_num</th>\n",
       "      <th>period</th>\n",
       "      <th>Unnamed: 0</th>\n",
       "      <th>comments_disabled</th>\n",
       "      <th>ratings_disabled</th>\n",
       "    </tr>\n",
       "  </thead>\n",
       "  <tbody>\n",
       "    <tr>\n",
       "      <th>0</th>\n",
       "      <td>uq5LClQN3cE</td>\n",
       "      <td>안녕하세요 보겸입니다</td>\n",
       "      <td>2020-08-09 09:32:48</td>\n",
       "      <td>UCu9BCtGIEr73LXZsKmoujKw</td>\n",
       "      <td>보겸 BK</td>\n",
       "      <td>2020-08-18 00:00:00</td>\n",
       "      <td>보겸|bokyem</td>\n",
       "      <td>6879571</td>\n",
       "      <td>53705</td>\n",
       "      <td>115494</td>\n",
       "      <td>128860</td>\n",
       "      <td>NaN</td>\n",
       "      <td>Entertainment</td>\n",
       "      <td>2</td>\n",
       "      <td>7</td>\n",
       "      <td>950.0</td>\n",
       "      <td>False</td>\n",
       "      <td>False</td>\n",
       "    </tr>\n",
       "  </tbody>\n",
       "</table>\n",
       "</div>"
      ],
      "text/plain": [
       "      video_id        title          publishedAt                 channelId  \\\n",
       "0  uq5LClQN3cE  안녕하세요 보겸입니다  2020-08-09 09:32:48  UCu9BCtGIEr73LXZsKmoujKw   \n",
       "\n",
       "  channelTitle        trending_date       tags  view_count  likes  dislikes  \\\n",
       "0        보겸 BK  2020-08-18 00:00:00  보겸|bokyem     6879571  53705    115494   \n",
       "\n",
       "   comment_count description  category_name  tag_num  period  Unnamed: 0  \\\n",
       "0         128860         NaN  Entertainment        2       7       950.0   \n",
       "\n",
       "   comments_disabled  ratings_disabled  \n",
       "0              False             False  "
      ]
     },
     "execution_count": 340,
     "metadata": {},
     "output_type": "execute_result"
    }
   ],
   "source": [
    "# youtube_nodouble_unique\n",
    "\n",
    "url2 = '/Users/namhunkim/Library/CloudStorage/OneDrive-연세대학교(YonseiUniversity)/DSL/EDA/data/main/youtube_nodouble_unique.csv'\n",
    "df2 = pd.read_csv(url2,lineterminator='\\n')\n",
    "df2.head(1)"
   ]
  },
  {
   "cell_type": "code",
   "execution_count": 341,
   "id": "78de585f",
   "metadata": {
    "scrolled": true
   },
   "outputs": [
    {
     "data": {
      "text/html": [
       "<div>\n",
       "<style scoped>\n",
       "    .dataframe tbody tr th:only-of-type {\n",
       "        vertical-align: middle;\n",
       "    }\n",
       "\n",
       "    .dataframe tbody tr th {\n",
       "        vertical-align: top;\n",
       "    }\n",
       "\n",
       "    .dataframe thead th {\n",
       "        text-align: right;\n",
       "    }\n",
       "</style>\n",
       "<table border=\"1\" class=\"dataframe\">\n",
       "  <thead>\n",
       "    <tr style=\"text-align: right;\">\n",
       "      <th></th>\n",
       "      <th>Unnamed: 0</th>\n",
       "      <th>video_id</th>\n",
       "      <th>title</th>\n",
       "      <th>publishedAt</th>\n",
       "      <th>channelId</th>\n",
       "      <th>channelTitle</th>\n",
       "      <th>trending_date</th>\n",
       "      <th>tags</th>\n",
       "      <th>view_count</th>\n",
       "      <th>likes</th>\n",
       "      <th>dislikes</th>\n",
       "      <th>comment_count</th>\n",
       "      <th>comments_disabled</th>\n",
       "      <th>ratings_disabled</th>\n",
       "      <th>description</th>\n",
       "      <th>category_name</th>\n",
       "      <th>tag_num</th>\n",
       "    </tr>\n",
       "  </thead>\n",
       "  <tbody>\n",
       "    <tr>\n",
       "      <th>0</th>\n",
       "      <td>0</td>\n",
       "      <td>uq5LClQN3cE</td>\n",
       "      <td>안녕하세요 보겸입니다</td>\n",
       "      <td>2020-08-09 09:32:48</td>\n",
       "      <td>UCu9BCtGIEr73LXZsKmoujKw</td>\n",
       "      <td>보겸 BK</td>\n",
       "      <td>2020-08-12 00:00:00</td>\n",
       "      <td>보겸|bokyem</td>\n",
       "      <td>5947503</td>\n",
       "      <td>53326</td>\n",
       "      <td>105756</td>\n",
       "      <td>139946</td>\n",
       "      <td>False</td>\n",
       "      <td>False</td>\n",
       "      <td>NaN</td>\n",
       "      <td>Entertainment</td>\n",
       "      <td>2</td>\n",
       "    </tr>\n",
       "  </tbody>\n",
       "</table>\n",
       "</div>"
      ],
      "text/plain": [
       "   Unnamed: 0     video_id        title          publishedAt  \\\n",
       "0           0  uq5LClQN3cE  안녕하세요 보겸입니다  2020-08-09 09:32:48   \n",
       "\n",
       "                  channelId channelTitle        trending_date       tags  \\\n",
       "0  UCu9BCtGIEr73LXZsKmoujKw        보겸 BK  2020-08-12 00:00:00  보겸|bokyem   \n",
       "\n",
       "   view_count  likes  dislikes  comment_count  comments_disabled  \\\n",
       "0     5947503  53326    105756         139946              False   \n",
       "\n",
       "   ratings_disabled description  category_name  tag_num  \n",
       "0             False         NaN  Entertainment        2  "
      ]
     },
     "execution_count": 341,
     "metadata": {},
     "output_type": "execute_result"
    }
   ],
   "source": [
    "# youtube_nodouble\n",
    "\n",
    "url3 = '/Users/namhunkim/Library/CloudStorage/OneDrive-연세대학교(YonseiUniversity)/DSL/EDA/data/main/youtube_nodouble.csv'\n",
    "df3 = pd.read_csv(url3,lineterminator='\\n')\n",
    "df3.head(1)"
   ]
  },
  {
   "cell_type": "code",
   "execution_count": null,
   "id": "db3e769b",
   "metadata": {},
   "outputs": [],
   "source": []
  },
  {
   "cell_type": "markdown",
   "id": "f6a2a460",
   "metadata": {},
   "source": [
    "# 1. 인기동영상들의 제목, 채널명, description, 태그의 갯수; 길이"
   ]
  },
  {
   "cell_type": "code",
   "execution_count": 377,
   "id": "1be8cefc",
   "metadata": {},
   "outputs": [
    {
     "name": "stdout",
     "output_type": "stream",
     "text": [
      "std :22.98\n",
      "mean :44.16\n",
      "median :41.00\n",
      "mode :40.00\n",
      "--------------------\n",
      "std :6.41\n",
      "mean :10.21\n",
      "median :9.00\n",
      "mode :3.00\n",
      "--------------------\n",
      "std :473.74\n",
      "mean :393.53\n",
      "median :270.00\n",
      "mode :0.00\n",
      "--------------------\n",
      "std :19.26\n",
      "mean :18.96\n",
      "median :13.00\n",
      "mode :0.00\n",
      "--------------------\n"
     ]
    },
    {
     "data": {
      "image/png": "[encoded data removed]",
      "text/plain": [
       "<Figure size 864x432 with 4 Axes>"
      ]
     },
     "metadata": {
      "needs_background": "light"
     },
     "output_type": "display_data"
    }
   ],
   "source": [
    "fig = plt.figure(figsize=(12,6))\n",
    "\n",
    "plt.subplots_adjust(left=0.125, bottom=0.1, right=0.9, top=0.9, wspace=0.2, hspace=0.5)\n",
    "\n",
    "# 제목 길이의 분포\n",
    "data1 = df3.title.apply(lambda x:len(x))\n",
    "ax1 = fig.add_subplot(2, 2, 1)\n",
    "ax1.set_xlabel('title length')\n",
    "ax1.set_ylabel('density')\n",
    "ax1.set_title('제목길이의 분포', fontproperties=fontprop)\n",
    "ax1.hist(data1 ,bins=10, color='tomato', density=True)\n",
    "\n",
    "# 주요 지표\n",
    "print('std :%1.2f'%data1.std())\n",
    "print('mean :%1.2f'%data1.mean())\n",
    "print('median :%1.2f'%data1.median())\n",
    "print('mode :%1.2f'%data1.mode())\n",
    "print('-'*20)\n",
    "\n",
    "\n",
    "\n",
    "# 채널명 길이의 분포\n",
    "data2 = df3.channelTitle.apply(lambda x:len(x))\n",
    "ax2 = fig.add_subplot(2, 2, 2)\n",
    "ax2.set_xlabel('channelTitle length')\n",
    "ax2.set_ylabel('density')\n",
    "ax2.set_title('채널명길이의 분포', fontproperties=fontprop)\n",
    "ax2.hist(data2 ,bins=10, color='salmon', density=True)\n",
    "\n",
    "# 주요 지표\n",
    "print('std :%1.2f'%data2.std())\n",
    "print('mean :%1.2f'%data2.mean())\n",
    "print('median :%1.2f'%data2.median())\n",
    "print('mode :%1.2f'%data2.mode())\n",
    "print('-'*20)\n",
    "\n",
    "\n",
    "\n",
    "# description 길이의 분포\n",
    "data3 = df3.description.apply(lambda x:len(x) if x==x else 0)\n",
    "ax3 = fig.add_subplot(2, 2, 3)\n",
    "ax3.set_xlabel('description length')\n",
    "ax3.set_ylabel('density')\n",
    "ax3.set_title('description의 분포', fontproperties=fontprop)\n",
    "ax3.hist(data3 ,bins=10, color='lightsalmon', density=True)\n",
    "\n",
    "# 주요 지표\n",
    "print('std :%1.2f'%data3.std())\n",
    "print('mean :%1.2f'%data3.mean())\n",
    "print('median :%1.2f'%data3.median())\n",
    "print('mode :%1.2f'%data3.mode())\n",
    "print('-'*20)\n",
    "\n",
    "\n",
    "\n",
    "# tag 갯수의 분포\n",
    "data4 = df3.tag_num\n",
    "ax4 = fig.add_subplot(2, 2, 4)\n",
    "ax4.set_xlabel('# of tags')\n",
    "ax4.set_ylabel('density')\n",
    "ax4.set_title('테그 갯수의 분포', fontproperties=fontprop)\n",
    "ax4.hist(data4 ,bins=10, color='orangered', density=True)\n",
    "\n",
    "# 주요 지표\n",
    "print('std :%1.2f'%data4.std())\n",
    "print('mean :%1.2f'%data4.mean())\n",
    "print('median :%1.2f'%data4.median())\n",
    "print('mode :%1.2f'%data4.mode())\n",
    "print('-'*20)"
   ]
  },
  {
   "cell_type": "code",
   "execution_count": null,
   "id": "16184df6",
   "metadata": {},
   "outputs": [],
   "source": []
  },
  {
   "cell_type": "markdown",
   "id": "edbcf995",
   "metadata": {},
   "source": [
    "# 2. 인기동영상들의 제목, 채널명, 태그의 갯수; 영어"
   ]
  },
  {
   "cell_type": "code",
   "execution_count": 50,
   "id": "b3bd9a7e",
   "metadata": {},
   "outputs": [
    {
     "data": {
      "text/plain": [
       "True"
      ]
     },
     "execution_count": 50,
     "metadata": {},
     "output_type": "execute_result"
    }
   ],
   "source": [
    "word = df3.title[4]\n",
    "word.upper() != word.lower()"
   ]
  },
  {
   "cell_type": "code",
   "execution_count": 147,
   "id": "34ed9c07",
   "metadata": {
    "scrolled": false
   },
   "outputs": [
    {
     "name": "stdout",
     "output_type": "stream",
     "text": [
      "제목 : 59.73%\n",
      "채널명 : 67.96%\n",
      "테그 : 78.07%\n"
     ]
    }
   ],
   "source": [
    "# 인기동영상에 영어가 포함된 영상의 비율이 어느정도 되는가?\n",
    "\n",
    "data = df3.title.apply(lambda x: 1 if (x.upper() != x.lower()) else 0)\n",
    "print('제목 : %1.2f%%'%(data.sum() / data.count() * 100))\n",
    "data = df3.channelTitle.apply(lambda x: 1 if (x.upper() != x.lower()) else 0)\n",
    "print('채널명 : %1.2f%%'%(data.sum() / data.count() * 100))\n",
    "data = df3.tags.apply(lambda x: 1 if (x.upper() != x.lower()) else 0)\n",
    "print('테그 : %1.2f%%'%(data.sum() / data.count() * 100))"
   ]
  },
  {
   "cell_type": "code",
   "execution_count": 373,
   "id": "b8acd414",
   "metadata": {},
   "outputs": [
    {
     "data": {
      "image/png": "[encoded data removed]",
      "text/plain": [
       "<Figure size 432x288 with 1 Axes>"
      ]
     },
     "metadata": {
      "needs_background": "light"
     },
     "output_type": "display_data"
    }
   ],
   "source": [
    "data1 = df3.title.apply(lambda x: 1 if (x.upper() != x.lower()) else 0)\n",
    "data2 = df3.channelTitle.apply(lambda x: 1 if (x.upper() != x.lower()) else 0)\n",
    "data3 = df3.tags.apply(lambda x: 1 if (x.upper() != x.lower()) else 0)\n",
    "\n",
    "index = [0,1,2]\n",
    "heights = [np.around((data1.sum() / data1.count() * 100),2), np.around((data2.sum() / data2.count() * 100),2),\n",
    "          np.around((data3.sum() / data3.count() * 100),2)]\n",
    "\n",
    "plt.bar(index,heights, color=['orangered','salmon','tomato'])\n",
    "plt.axis([-1,3,50,100])\n",
    "plt.ylabel('Percentage of word contains English ')\n",
    "plt.title('영어가 포함된 갯수의 백분률(%)', fontproperties=fontprop)\n",
    "plt.xticks(index, labels=['title','channelTitle','tag'])\n",
    "plt.show()"
   ]
  },
  {
   "cell_type": "code",
   "execution_count": 370,
   "id": "515af79b",
   "metadata": {},
   "outputs": [
    {
     "data": {
      "text/plain": [
       "([<matplotlib.axis.XTick at 0x7f7883eb8550>,\n",
       "  <matplotlib.axis.XTick at 0x7f7883eb8520>,\n",
       "  <matplotlib.axis.XTick at 0x7f7883e8a5b0>],\n",
       " [Text(0, 0, 'title'), Text(1, 0, 'channelTitle'), Text(2, 0, 'tag')])"
      ]
     },
     "execution_count": 370,
     "metadata": {},
     "output_type": "execute_result"
    },
    {
     "data": {
      "image/png": "[encoded data removed]",
      "text/plain": [
       "<Figure size 432x288 with 1 Axes>"
      ]
     },
     "metadata": {
      "needs_background": "light"
     },
     "output_type": "display_data"
    }
   ],
   "source": [
    "plt.bar(index,heights, color=['orangered','salmon','tomato'])\n",
    "plt.axis([-1,3,50,100])\n",
    "plt.ylabel('Percentage of word contains English ')\n",
    "plt.title('영어가 포함된 갯수의 백분률(%)', fontproperties=fontprop)\n",
    "plt.xticks(index, labels=['title','channelTitle','tag'])"
   ]
  },
  {
   "cell_type": "code",
   "execution_count": 371,
   "id": "facb7ee2",
   "metadata": {},
   "outputs": [],
   "source": [
    "# 글자의 95%가 영어이면 1, 아니면 0을 반환하는 함수\n",
    "\n",
    "def isAllEng(text):\n",
    "    count = 0\n",
    "    i = 0\n",
    "    while(i<len(text)):\n",
    "        x = text[i]\n",
    "        if ('a' <= x <= \"z\" or 'A' <= x <='Z'):\n",
    "            count += 1\n",
    "        i += 1\n",
    "    \n",
    "    result = 0\n",
    "    if count/len(text)*100 > 95:\n",
    "        result = 1\n",
    "    \n",
    "    return result"
   ]
  },
  {
   "cell_type": "code",
   "execution_count": 376,
   "id": "380c8015",
   "metadata": {},
   "outputs": [
    {
     "data": {
      "image/png": "[encoded data removed]",
      "text/plain": [
       "<Figure size 432x288 with 1 Axes>"
      ]
     },
     "metadata": {
      "needs_background": "light"
     },
     "output_type": "display_data"
    }
   ],
   "source": [
    "data1 = df3.title.apply(lambda x: isAllEng(x))\n",
    "data2 = df3.channelTitle.apply(lambda x: isAllEng(x))\n",
    "data3 = df3.tags.apply(lambda x:  isAllEng(x))\n",
    "\n",
    "index = [0,1,2]\n",
    "heights = [np.around((data1.sum() / data1.count() * 100),2), np.around((data2.sum() / data2.count() * 100),2),\n",
    "          np.around((data3.sum() / data3.count() * 100),2)]\n",
    "\n",
    "plt.bar(index,heights, color=['orangered','salmon','tomato'])\n",
    "# plt.axis([-1,3,50,100])\n",
    "plt.ylabel('Percentage of only English-word')\n",
    "plt.title('영어로만 이루어진 갯수의 백분률(%)', fontproperties=fontprop)\n",
    "plt.xticks(index, labels=['title','channelTitle','tag'])\n",
    "plt.show()"
   ]
  },
  {
   "cell_type": "code",
   "execution_count": null,
   "id": "38ce0d12",
   "metadata": {},
   "outputs": [],
   "source": []
  },
  {
   "cell_type": "code",
   "execution_count": null,
   "id": "7b6484dc",
   "metadata": {},
   "outputs": [],
   "source": []
  }
 ],
 "metadata": {
  "kernelspec": {
   "display_name": "Python 3 (ipykernel)",
   "language": "python",
   "name": "python3"
  },
  "language_info": {
   "codemirror_mode": {
    "name": "ipython",
    "version": 3
   },
   "file_extension": ".py",
   "mimetype": "text/x-python",
   "name": "python",
   "nbconvert_exporter": "python",
   "pygments_lexer": "ipython3",
   "version": "3.9.12"
  }
 },
 "nbformat": 4,
 "nbformat_minor": 5
}
