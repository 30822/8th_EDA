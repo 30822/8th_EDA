{
 "cells": [
  {
   "cell_type": "code",
   "execution_count": 1,
   "metadata": {
    "id": "ydymRT5WXfE2"
   },
   "outputs": [],
   "source": [
    "# 패키지 불러오기\n",
    "import numpy as np\n",
    "import pandas as pd\n",
    "import matplotlib as mpl\n",
    "import matplotlib.pyplot as plt\n",
    "import seaborn as sns\n",
    "import datetime\n",
    "import matplotlib.font_manager as fm"
   ]
  },
  {
   "cell_type": "code",
   "execution_count": 3,
   "metadata": {
    "id": "1THHMttZXlTK"
   },
   "outputs": [],
   "source": [
    "# 주피터 노트북 사용시 노트북 내부에 그림을 표시하도록 지정\n",
    "%matplotlib inline"
   ]
  },
  {
   "cell_type": "code",
   "execution_count": 5,
   "metadata": {
    "id": "W36TjQryXqkh"
   },
   "outputs": [],
   "source": [
    "# 트렌드 영상에 오른 채널들 모든 영상 크롤링 데이터\n",
    "total = pd.read_csv('C:/Users/김지희/DSL/dataset/channel_total.csv', lineterminator='\\n')\n",
    "trend_period = pd.read_csv('C:/Users/김지희/DSL/dataset/youtube_0723.csv', lineterminator='\\n')\n",
    "# 원래 데이터에서 모든 전처리가 완료된 데이터\n",
    "trend = pd.read_csv('C:/Users/김지희/DSL/dataset/youtube_nodouble.csv', lineterminator='\\n')\n",
    "trend_unique = pd.read_csv('C:/Users/김지희/DSL/dataset/youtube_nodouble_unique.csv', lineterminator='\\n')"
   ]
  },
  {
   "cell_type": "code",
   "execution_count": 6,
   "metadata": {
    "id": "FuMRvxYzujx1"
   },
   "outputs": [
    {
     "name": "stdout",
     "output_type": "stream",
     "text": [
      "NanumBarunGothic\n"
     ]
    }
   ],
   "source": [
    "import matplotlib.font_manager as fm\n",
    "path = 'C:\\\\Windows\\\\Fonts\\\\NanumBarunGothic.ttf'  # 설치된 나눔글꼴중 원하는 녀석의 전체 경로를 가져오자\n",
    "font_name = fm.FontProperties(fname=path, size=10).get_name()\n",
    "print(font_name)\n",
    "plt.rc('font', family=font_name)"
   ]
  },
  {
   "cell_type": "code",
   "execution_count": 7,
   "metadata": {
    "id": "o1ubKYNycsPD"
   },
   "outputs": [
    {
     "data": {
      "text/html": [
       "<div>\n",
       "<style scoped>\n",
       "    .dataframe tbody tr th:only-of-type {\n",
       "        vertical-align: middle;\n",
       "    }\n",
       "\n",
       "    .dataframe tbody tr th {\n",
       "        vertical-align: top;\n",
       "    }\n",
       "\n",
       "    .dataframe thead th {\n",
       "        text-align: right;\n",
       "    }\n",
       "</style>\n",
       "<table border=\"1\" class=\"dataframe\">\n",
       "  <thead>\n",
       "    <tr style=\"text-align: right;\">\n",
       "      <th></th>\n",
       "      <th>channelId</th>\n",
       "      <th>video_time</th>\n",
       "      <th>video_id</th>\n",
       "      <th>when</th>\n",
       "      <th>title</th>\n",
       "      <th>minute_time</th>\n",
       "      <th>seconds_time</th>\n",
       "      <th>open</th>\n",
       "      <th>totalview</th>\n",
       "      <th>subscriber</th>\n",
       "    </tr>\n",
       "  </thead>\n",
       "  <tbody>\n",
       "    <tr>\n",
       "      <th>0</th>\n",
       "      <td>UCu9BCtGIEr73LXZsKmoujKw</td>\n",
       "      <td>4:58</td>\n",
       "      <td>u6lyUnhaaqk</td>\n",
       "      <td>10일 전</td>\n",
       "      <td>.</td>\n",
       "      <td>4.966667</td>\n",
       "      <td>298.0</td>\n",
       "      <td>2014-08-25</td>\n",
       "      <td>2.683340e+09</td>\n",
       "      <td>3230000.0</td>\n",
       "    </tr>\n",
       "    <tr>\n",
       "      <th>1</th>\n",
       "      <td>UCu9BCtGIEr73LXZsKmoujKw</td>\n",
       "      <td>10:45</td>\n",
       "      <td>_LpMHqmScuk</td>\n",
       "      <td>8개월 전</td>\n",
       "      <td>판결 나왔습니다</td>\n",
       "      <td>10.750000</td>\n",
       "      <td>645.0</td>\n",
       "      <td>2014-08-25</td>\n",
       "      <td>2.683340e+09</td>\n",
       "      <td>3230000.0</td>\n",
       "    </tr>\n",
       "    <tr>\n",
       "      <th>2</th>\n",
       "      <td>UCu9BCtGIEr73LXZsKmoujKw</td>\n",
       "      <td>11:53</td>\n",
       "      <td>2eHrT-Fgs78</td>\n",
       "      <td>9개월 전</td>\n",
       "      <td>현재 재판진행상황</td>\n",
       "      <td>11.883333</td>\n",
       "      <td>713.0</td>\n",
       "      <td>2014-08-25</td>\n",
       "      <td>2.683340e+09</td>\n",
       "      <td>3230000.0</td>\n",
       "    </tr>\n",
       "    <tr>\n",
       "      <th>3</th>\n",
       "      <td>UCu9BCtGIEr73LXZsKmoujKw</td>\n",
       "      <td>9:41</td>\n",
       "      <td>6MiItImFYbk</td>\n",
       "      <td>9개월 전</td>\n",
       "      <td>우리 깐부 맞지?</td>\n",
       "      <td>9.683333</td>\n",
       "      <td>581.0</td>\n",
       "      <td>2014-08-25</td>\n",
       "      <td>2.683340e+09</td>\n",
       "      <td>3230000.0</td>\n",
       "    </tr>\n",
       "    <tr>\n",
       "      <th>4</th>\n",
       "      <td>UCu9BCtGIEr73LXZsKmoujKw</td>\n",
       "      <td>SHORTS</td>\n",
       "      <td>QdnvjTQ4X3c</td>\n",
       "      <td>9개월 전</td>\n",
       "      <td>섹드립논란#Shorts</td>\n",
       "      <td>NaN</td>\n",
       "      <td>NaN</td>\n",
       "      <td>2014-08-25</td>\n",
       "      <td>2.683340e+09</td>\n",
       "      <td>3230000.0</td>\n",
       "    </tr>\n",
       "  </tbody>\n",
       "</table>\n",
       "</div>"
      ],
      "text/plain": [
       "                  channelId video_time     video_id   when         title  \\\n",
       "0  UCu9BCtGIEr73LXZsKmoujKw       4:58  u6lyUnhaaqk  10일 전             .   \n",
       "1  UCu9BCtGIEr73LXZsKmoujKw      10:45  _LpMHqmScuk  8개월 전      판결 나왔습니다   \n",
       "2  UCu9BCtGIEr73LXZsKmoujKw      11:53  2eHrT-Fgs78  9개월 전     현재 재판진행상황   \n",
       "3  UCu9BCtGIEr73LXZsKmoujKw       9:41  6MiItImFYbk  9개월 전     우리 깐부 맞지?   \n",
       "4  UCu9BCtGIEr73LXZsKmoujKw     SHORTS  QdnvjTQ4X3c  9개월 전  섹드립논란#Shorts   \n",
       "\n",
       "   minute_time  seconds_time        open     totalview  subscriber  \n",
       "0     4.966667         298.0  2014-08-25  2.683340e+09   3230000.0  \n",
       "1    10.750000         645.0  2014-08-25  2.683340e+09   3230000.0  \n",
       "2    11.883333         713.0  2014-08-25  2.683340e+09   3230000.0  \n",
       "3     9.683333         581.0  2014-08-25  2.683340e+09   3230000.0  \n",
       "4          NaN           NaN  2014-08-25  2.683340e+09   3230000.0  "
      ]
     },
     "execution_count": 7,
     "metadata": {},
     "output_type": "execute_result"
    }
   ],
   "source": [
    "total.head()\n",
    "# trend.head()\n",
    "# trend_period.head()"
   ]
  },
  {
   "cell_type": "markdown",
   "metadata": {
    "id": "38q5s9_Bc3lU"
   },
   "source": [
    "첫번째 하려는 것=> 트렌딩 데이터로 시간 정보를 불러오자!"
   ]
  },
  {
   "cell_type": "markdown",
   "metadata": {
    "id": "HE3z7ynmjT8z"
   },
   "source": [
    "트렌드 데이터로 선정되는 것과 영상 길이 간의 관련성이 있을까?"
   ]
  },
  {
   "cell_type": "code",
   "execution_count": 8,
   "metadata": {
    "id": "SGPCwFjqeFZX"
   },
   "outputs": [
    {
     "name": "stdout",
     "output_type": "stream",
     "text": [
      "16928\n",
      "11885\n"
     ]
    }
   ],
   "source": [
    "# 데이터를 merge 하기\n",
    "\n",
    "trend_plus = pd.merge(trend_unique, total[['video_id', 'minute_time', 'seconds_time', 'totalview', 'subscriber']], left_on = 'video_id', right_on = 'video_id', how = 'left')\n",
    "\n",
    "print(len(trend_plus['minute_time']))\n",
    "print(trend_plus['minute_time'].isnull().sum())"
   ]
  },
  {
   "cell_type": "code",
   "execution_count": 9,
   "metadata": {
    "id": "_8-uzPpbqq4f"
   },
   "outputs": [
    {
     "data": {
      "text/html": [
       "<div>\n",
       "<style scoped>\n",
       "    .dataframe tbody tr th:only-of-type {\n",
       "        vertical-align: middle;\n",
       "    }\n",
       "\n",
       "    .dataframe tbody tr th {\n",
       "        vertical-align: top;\n",
       "    }\n",
       "\n",
       "    .dataframe thead th {\n",
       "        text-align: right;\n",
       "    }\n",
       "</style>\n",
       "<table border=\"1\" class=\"dataframe\">\n",
       "  <thead>\n",
       "    <tr style=\"text-align: right;\">\n",
       "      <th></th>\n",
       "      <th>video_id</th>\n",
       "      <th>title</th>\n",
       "      <th>publishedAt</th>\n",
       "      <th>channelId</th>\n",
       "      <th>channelTitle</th>\n",
       "      <th>trending_date</th>\n",
       "      <th>tags</th>\n",
       "      <th>view_count</th>\n",
       "      <th>likes</th>\n",
       "      <th>dislikes</th>\n",
       "      <th>comment_count</th>\n",
       "      <th>description</th>\n",
       "      <th>category_name</th>\n",
       "      <th>tag_num</th>\n",
       "      <th>period</th>\n",
       "      <th>Unnamed: 0</th>\n",
       "      <th>comments_disabled</th>\n",
       "      <th>ratings_disabled</th>\n",
       "      <th>distance</th>\n",
       "    </tr>\n",
       "  </thead>\n",
       "  <tbody>\n",
       "    <tr>\n",
       "      <th>0</th>\n",
       "      <td>uq5LClQN3cE</td>\n",
       "      <td>안녕하세요 보겸입니다</td>\n",
       "      <td>2020-08-09 09:32:48</td>\n",
       "      <td>UCu9BCtGIEr73LXZsKmoujKw</td>\n",
       "      <td>보겸 BK</td>\n",
       "      <td>2020-08-18 00:00:00</td>\n",
       "      <td>보겸|bokyem</td>\n",
       "      <td>6879571</td>\n",
       "      <td>53705</td>\n",
       "      <td>115494</td>\n",
       "      <td>128860</td>\n",
       "      <td>NaN</td>\n",
       "      <td>Entertainment</td>\n",
       "      <td>2</td>\n",
       "      <td>7</td>\n",
       "      <td>950.0</td>\n",
       "      <td>False</td>\n",
       "      <td>False</td>\n",
       "      <td>3</td>\n",
       "    </tr>\n",
       "    <tr>\n",
       "      <th>1</th>\n",
       "      <td>I-ZbZCHsHD0</td>\n",
       "      <td>부락토스의 계획 [총몇명 프리퀄]</td>\n",
       "      <td>2020-08-12 09:00:08</td>\n",
       "      <td>UCRuSxVu4iqTK5kCh90ntAgA</td>\n",
       "      <td>총몇명</td>\n",
       "      <td>2020-08-16 00:00:00</td>\n",
       "      <td>총몇명|재밌는 만화|부락토스|루시퍼|총몇명 프리퀄|총몇명 스토리</td>\n",
       "      <td>1683060</td>\n",
       "      <td>36185</td>\n",
       "      <td>767</td>\n",
       "      <td>4048</td>\n",
       "      <td>오늘도 정말 감사드립니다!!총몇명 스튜디오 - 총몇명, 십제곱, 5G민, MOVE혁...</td>\n",
       "      <td>Film &amp; Animation</td>\n",
       "      <td>6</td>\n",
       "      <td>5</td>\n",
       "      <td>656.0</td>\n",
       "      <td>False</td>\n",
       "      <td>False</td>\n",
       "      <td>0</td>\n",
       "    </tr>\n",
       "    <tr>\n",
       "      <th>2</th>\n",
       "      <td>9d7jNUjBoss</td>\n",
       "      <td>평생 반성하면서 살겠습니다.</td>\n",
       "      <td>2020-08-10 09:54:13</td>\n",
       "      <td>UCMVC92EOs9yDJG5JS-CMesQ</td>\n",
       "      <td>양팡 YangPang</td>\n",
       "      <td>2020-08-18 00:00:00</td>\n",
       "      <td>양팡|양팡유튜브|팡튜브|가족시트콤|양팡가족|양팡가족시트콤|양팡언니|현실남매|현실자매...</td>\n",
       "      <td>4419287</td>\n",
       "      <td>20455</td>\n",
       "      <td>91514</td>\n",
       "      <td>60021</td>\n",
       "      <td>NaN</td>\n",
       "      <td>People &amp; Blogs</td>\n",
       "      <td>27</td>\n",
       "      <td>7</td>\n",
       "      <td>945.0</td>\n",
       "      <td>False</td>\n",
       "      <td>False</td>\n",
       "      <td>2</td>\n",
       "    </tr>\n",
       "    <tr>\n",
       "      <th>3</th>\n",
       "      <td>3pI_L3-sMVg</td>\n",
       "      <td>안녕하세요 꽈뚜룹입니다.</td>\n",
       "      <td>2020-08-11 15:00:58</td>\n",
       "      <td>UCkQCwnkQfgSuPTTnw_Y7v7w</td>\n",
       "      <td>꽈뚜룹 Quaddurup</td>\n",
       "      <td>2020-08-18 00:00:00</td>\n",
       "      <td>꽈뚜룹|한국여행기|quaddurup|뚜룹이|korea|southkorea|vlog|...</td>\n",
       "      <td>2272383</td>\n",
       "      <td>42105</td>\n",
       "      <td>2928</td>\n",
       "      <td>9900</td>\n",
       "      <td>앞으로 좀 더 깔끔한 영상제작 약속 드리겠습니다.늘 감사드립니다</td>\n",
       "      <td>Entertainment</td>\n",
       "      <td>12</td>\n",
       "      <td>7</td>\n",
       "      <td>953.0</td>\n",
       "      <td>False</td>\n",
       "      <td>False</td>\n",
       "      <td>1</td>\n",
       "    </tr>\n",
       "    <tr>\n",
       "      <th>4</th>\n",
       "      <td>zrsBjYukE8s</td>\n",
       "      <td>박진영 (J.Y. Park) When We Disco (Duet with 선미) M/V</td>\n",
       "      <td>2020-08-11 09:00:13</td>\n",
       "      <td>UCaO6TYtlC8U5ttz62hTrZgg</td>\n",
       "      <td>JYP Entertainment</td>\n",
       "      <td>2020-08-19 00:00:00</td>\n",
       "      <td>JYP Entertainment|JYP|J.Y.Park|JYPark|박진영|선미|S...</td>\n",
       "      <td>12533252</td>\n",
       "      <td>516777</td>\n",
       "      <td>16047</td>\n",
       "      <td>32508</td>\n",
       "      <td>MelOn http://kko.to/TWyXd7zYjSpotify https://s...</td>\n",
       "      <td>Music</td>\n",
       "      <td>13</td>\n",
       "      <td>8</td>\n",
       "      <td>1085.0</td>\n",
       "      <td>False</td>\n",
       "      <td>False</td>\n",
       "      <td>1</td>\n",
       "    </tr>\n",
       "    <tr>\n",
       "      <th>...</th>\n",
       "      <td>...</td>\n",
       "      <td>...</td>\n",
       "      <td>...</td>\n",
       "      <td>...</td>\n",
       "      <td>...</td>\n",
       "      <td>...</td>\n",
       "      <td>...</td>\n",
       "      <td>...</td>\n",
       "      <td>...</td>\n",
       "      <td>...</td>\n",
       "      <td>...</td>\n",
       "      <td>...</td>\n",
       "      <td>...</td>\n",
       "      <td>...</td>\n",
       "      <td>...</td>\n",
       "      <td>...</td>\n",
       "      <td>...</td>\n",
       "      <td>...</td>\n",
       "      <td>...</td>\n",
       "    </tr>\n",
       "    <tr>\n",
       "      <th>133536</th>\n",
       "      <td>3V9mAYiJQhg</td>\n",
       "      <td>탑건 코르키</td>\n",
       "      <td>2022-06-27 12:02:13</td>\n",
       "      <td>UCEu_YKdz0lMz1NkB3vlUyyw</td>\n",
       "      <td>승상싱</td>\n",
       "      <td>2022-07-11 00:00:00</td>\n",
       "      <td>[None]</td>\n",
       "      <td>607612</td>\n",
       "      <td>8141</td>\n",
       "      <td>0</td>\n",
       "      <td>1051</td>\n",
       "      <td>만당주신 분 : 도움</td>\n",
       "      <td>Gaming</td>\n",
       "      <td>0</td>\n",
       "      <td>12</td>\n",
       "      <td>137536.0</td>\n",
       "      <td>False</td>\n",
       "      <td>False</td>\n",
       "      <td>3</td>\n",
       "    </tr>\n",
       "    <tr>\n",
       "      <th>133537</th>\n",
       "      <td>wHR4Ri2tT-0</td>\n",
       "      <td>[골프레슨] 왼팔동작과 가속하는 방향만 알아도 던지는 스윙 가능합니다!</td>\n",
       "      <td>2022-06-28 23:00:31</td>\n",
       "      <td>UCZSNhOLPx3q87ss_N-vsmSA</td>\n",
       "      <td>[골프맨]조윤성프로</td>\n",
       "      <td>2022-07-11 00:00:00</td>\n",
       "      <td>골프|골프레슨|golf|golf lesson|드라이버|아이언|골프맨|조윤성프로|골프...</td>\n",
       "      <td>841197</td>\n",
       "      <td>8254</td>\n",
       "      <td>0</td>\n",
       "      <td>184</td>\n",
       "      <td>조윤성프로 (호주PGA)Email: davidcho@pgamember.org.auI...</td>\n",
       "      <td>Sports</td>\n",
       "      <td>52</td>\n",
       "      <td>11</td>\n",
       "      <td>137537.0</td>\n",
       "      <td>False</td>\n",
       "      <td>False</td>\n",
       "      <td>3</td>\n",
       "    </tr>\n",
       "    <tr>\n",
       "      <th>133538</th>\n",
       "      <td>1BvHmtDOh6o</td>\n",
       "      <td>세용이랑 결혼 10주년 여행  눈물짜르륵..</td>\n",
       "      <td>2022-06-27 12:00:00</td>\n",
       "      <td>UCWuWpKhbGev8Za4J-jfdSXw</td>\n",
       "      <td>영기티비</td>\n",
       "      <td>2022-07-11 00:00:00</td>\n",
       "      <td>글램핑|캠핑여행|남자친구랑여행|홍영기|이세용|영기티비|데이트코스|여행추천</td>\n",
       "      <td>757676</td>\n",
       "      <td>14804</td>\n",
       "      <td>0</td>\n",
       "      <td>774</td>\n",
       "      <td>https://bit.ly/3n2lb5G영기가 추천하는 콤부차 🥰❤️</td>\n",
       "      <td>People &amp; Blogs</td>\n",
       "      <td>8</td>\n",
       "      <td>12</td>\n",
       "      <td>137538.0</td>\n",
       "      <td>False</td>\n",
       "      <td>False</td>\n",
       "      <td>1</td>\n",
       "    </tr>\n",
       "    <tr>\n",
       "      <th>133539</th>\n",
       "      <td>JC6budcACNE</td>\n",
       "      <td>fromis_9 (프로미스나인) 'Stay This Way' Official MV</td>\n",
       "      <td>2022-06-27 08:58:10</td>\n",
       "      <td>UC3IZKseVpdzPSBaWxBxundA</td>\n",
       "      <td>HYBE LABELS</td>\n",
       "      <td>2022-07-11 00:00:00</td>\n",
       "      <td>HYBE|HYBE LABELS|하이브|하이브레이블즈</td>\n",
       "      <td>16745515</td>\n",
       "      <td>202098</td>\n",
       "      <td>0</td>\n",
       "      <td>13180</td>\n",
       "      <td>fromis_9 (프로미스나인) 'Stay This Way' Official MV#...</td>\n",
       "      <td>Music</td>\n",
       "      <td>4</td>\n",
       "      <td>14</td>\n",
       "      <td>137539.0</td>\n",
       "      <td>False</td>\n",
       "      <td>False</td>\n",
       "      <td>1</td>\n",
       "    </tr>\n",
       "    <tr>\n",
       "      <th>133540</th>\n",
       "      <td>WumVOXW549c</td>\n",
       "      <td>한국 며느리가 만든 찜닭을 드시더니 쑥스러워하는(?) 미국 시부모님</td>\n",
       "      <td>2022-06-29 07:00:09</td>\n",
       "      <td>UCicKQUi8h4NI81wDmrDBD4A</td>\n",
       "      <td>올리버쌤</td>\n",
       "      <td>2022-07-11 00:00:00</td>\n",
       "      <td>[None]</td>\n",
       "      <td>1026827</td>\n",
       "      <td>34178</td>\n",
       "      <td>0</td>\n",
       "      <td>1683</td>\n",
       "      <td>*본 영상은 테라브레스의 유료 광고를 포함하고 있습니다.[테라브레스 구매링크] ht...</td>\n",
       "      <td>People &amp; Blogs</td>\n",
       "      <td>0</td>\n",
       "      <td>12</td>\n",
       "      <td>137540.0</td>\n",
       "      <td>False</td>\n",
       "      <td>False</td>\n",
       "      <td>1</td>\n",
       "    </tr>\n",
       "  </tbody>\n",
       "</table>\n",
       "<p>133541 rows × 19 columns</p>\n",
       "</div>"
      ],
      "text/plain": [
       "           video_id                                             title  \\\n",
       "0       uq5LClQN3cE                                       안녕하세요 보겸입니다   \n",
       "1       I-ZbZCHsHD0                                부락토스의 계획 [총몇명 프리퀄]   \n",
       "2       9d7jNUjBoss                                   평생 반성하면서 살겠습니다.   \n",
       "3       3pI_L3-sMVg                              안녕하세요 꽈뚜룹입니다.   \n",
       "4       zrsBjYukE8s  박진영 (J.Y. Park) When We Disco (Duet with 선미) M/V   \n",
       "...             ...                                               ...   \n",
       "133536  3V9mAYiJQhg                                            탑건 코르키   \n",
       "133537  wHR4Ri2tT-0           [골프레슨] 왼팔동작과 가속하는 방향만 알아도 던지는 스윙 가능합니다!   \n",
       "133538  1BvHmtDOh6o                          세용이랑 결혼 10주년 여행  눈물짜르륵..   \n",
       "133539  JC6budcACNE     fromis_9 (프로미스나인) 'Stay This Way' Official MV   \n",
       "133540  WumVOXW549c             한국 며느리가 만든 찜닭을 드시더니 쑥스러워하는(?) 미국 시부모님   \n",
       "\n",
       "                publishedAt                 channelId       channelTitle  \\\n",
       "0       2020-08-09 09:32:48  UCu9BCtGIEr73LXZsKmoujKw              보겸 BK   \n",
       "1       2020-08-12 09:00:08  UCRuSxVu4iqTK5kCh90ntAgA                총몇명   \n",
       "2       2020-08-10 09:54:13  UCMVC92EOs9yDJG5JS-CMesQ        양팡 YangPang   \n",
       "3       2020-08-11 15:00:58  UCkQCwnkQfgSuPTTnw_Y7v7w      꽈뚜룹 Quaddurup   \n",
       "4       2020-08-11 09:00:13  UCaO6TYtlC8U5ttz62hTrZgg  JYP Entertainment   \n",
       "...                     ...                       ...                ...   \n",
       "133536  2022-06-27 12:02:13  UCEu_YKdz0lMz1NkB3vlUyyw                승상싱   \n",
       "133537  2022-06-28 23:00:31  UCZSNhOLPx3q87ss_N-vsmSA         [골프맨]조윤성프로   \n",
       "133538  2022-06-27 12:00:00  UCWuWpKhbGev8Za4J-jfdSXw               영기티비   \n",
       "133539  2022-06-27 08:58:10  UC3IZKseVpdzPSBaWxBxundA        HYBE LABELS   \n",
       "133540  2022-06-29 07:00:09  UCicKQUi8h4NI81wDmrDBD4A               올리버쌤   \n",
       "\n",
       "              trending_date  \\\n",
       "0       2020-08-18 00:00:00   \n",
       "1       2020-08-16 00:00:00   \n",
       "2       2020-08-18 00:00:00   \n",
       "3       2020-08-18 00:00:00   \n",
       "4       2020-08-19 00:00:00   \n",
       "...                     ...   \n",
       "133536  2022-07-11 00:00:00   \n",
       "133537  2022-07-11 00:00:00   \n",
       "133538  2022-07-11 00:00:00   \n",
       "133539  2022-07-11 00:00:00   \n",
       "133540  2022-07-11 00:00:00   \n",
       "\n",
       "                                                     tags  view_count   likes  \\\n",
       "0                                               보겸|bokyem     6879571   53705   \n",
       "1                     총몇명|재밌는 만화|부락토스|루시퍼|총몇명 프리퀄|총몇명 스토리     1683060   36185   \n",
       "2       양팡|양팡유튜브|팡튜브|가족시트콤|양팡가족|양팡가족시트콤|양팡언니|현실남매|현실자매...     4419287   20455   \n",
       "3       꽈뚜룹|한국여행기|quaddurup|뚜룹이|korea|southkorea|vlog|...     2272383   42105   \n",
       "4       JYP Entertainment|JYP|J.Y.Park|JYPark|박진영|선미|S...    12533252  516777   \n",
       "...                                                   ...         ...     ...   \n",
       "133536                                             [None]      607612    8141   \n",
       "133537  골프|골프레슨|golf|golf lesson|드라이버|아이언|골프맨|조윤성프로|골프...      841197    8254   \n",
       "133538           글램핑|캠핑여행|남자친구랑여행|홍영기|이세용|영기티비|데이트코스|여행추천      757676   14804   \n",
       "133539                       HYBE|HYBE LABELS|하이브|하이브레이블즈    16745515  202098   \n",
       "133540                                             [None]     1026827   34178   \n",
       "\n",
       "        dislikes  comment_count  \\\n",
       "0         115494         128860   \n",
       "1            767           4048   \n",
       "2          91514          60021   \n",
       "3           2928           9900   \n",
       "4          16047          32508   \n",
       "...          ...            ...   \n",
       "133536         0           1051   \n",
       "133537         0            184   \n",
       "133538         0            774   \n",
       "133539         0          13180   \n",
       "133540         0           1683   \n",
       "\n",
       "                                              description     category_name  \\\n",
       "0                                                     NaN     Entertainment   \n",
       "1       오늘도 정말 감사드립니다!!총몇명 스튜디오 - 총몇명, 십제곱, 5G민, MOVE혁...  Film & Animation   \n",
       "2                                                     NaN    People & Blogs   \n",
       "3                     앞으로 좀 더 깔끔한 영상제작 약속 드리겠습니다.늘 감사드립니다     Entertainment   \n",
       "4       MelOn http://kko.to/TWyXd7zYjSpotify https://s...             Music   \n",
       "...                                                   ...               ...   \n",
       "133536                                        만당주신 분 : 도움            Gaming   \n",
       "133537  조윤성프로 (호주PGA)Email: davidcho@pgamember.org.auI...            Sports   \n",
       "133538             https://bit.ly/3n2lb5G영기가 추천하는 콤부차 🥰❤️    People & Blogs   \n",
       "133539  fromis_9 (프로미스나인) 'Stay This Way' Official MV#...             Music   \n",
       "133540  *본 영상은 테라브레스의 유료 광고를 포함하고 있습니다.[테라브레스 구매링크] ht...    People & Blogs   \n",
       "\n",
       "        tag_num  period  Unnamed: 0  comments_disabled  ratings_disabled  \\\n",
       "0             2       7       950.0              False             False   \n",
       "1             6       5       656.0              False             False   \n",
       "2            27       7       945.0              False             False   \n",
       "3            12       7       953.0              False             False   \n",
       "4            13       8      1085.0              False             False   \n",
       "...         ...     ...         ...                ...               ...   \n",
       "133536        0      12    137536.0              False             False   \n",
       "133537       52      11    137537.0              False             False   \n",
       "133538        8      12    137538.0              False             False   \n",
       "133539        4      14    137539.0              False             False   \n",
       "133540        0      12    137540.0              False             False   \n",
       "\n",
       "        distance  \n",
       "0              3  \n",
       "1              0  \n",
       "2              2  \n",
       "3              1  \n",
       "4              1  \n",
       "...          ...  \n",
       "133536         3  \n",
       "133537         3  \n",
       "133538         1  \n",
       "133539         1  \n",
       "133540         1  \n",
       "\n",
       "[133541 rows x 19 columns]"
      ]
     },
     "execution_count": 9,
     "metadata": {},
     "output_type": "execute_result"
    }
   ],
   "source": [
    "pd.merge(trend_unique, trend_period[['video_id', 'distance']], left_on='video_id', right_on='video_id', how='right')\n"
   ]
  },
  {
   "cell_type": "code",
   "execution_count": 10,
   "metadata": {
    "id": "t_d02gXngU8C"
   },
   "outputs": [
    {
     "data": {
      "image/png": "[encoded data removed]",
      "text/plain": [
       "<Figure size 432x288 with 1 Axes>"
      ]
     },
     "metadata": {
      "needs_background": "light"
     },
     "output_type": "display_data"
    }
   ],
   "source": [
    "plt.hist(trend_plus['minute_time'], bins=40)\n",
    "plt.show()"
   ]
  },
  {
   "cell_type": "markdown",
   "metadata": {
    "id": "i3XxDz0xvsbv"
   },
   "source": [
    "### 원래 데이터의 동영상 재생시간의 분포 확인"
   ]
  },
  {
   "cell_type": "code",
   "execution_count": 11,
   "metadata": {
    "id": "cIaeWo5Yv6kL"
   },
   "outputs": [
    {
     "data": {
      "image/png": "[encoded data removed]",
      "text/plain": [
       "<Figure size 1080x576 with 1 Axes>"
      ]
     },
     "metadata": {
      "needs_background": "light"
     },
     "output_type": "display_data"
    }
   ],
   "source": [
    "## 트렌드 동영상 재생시간의 분포 확인 => 이건 정확하다고 보기 어려움\n",
    "\n",
    "plt.figure(figsize = (15,8))\n",
    "plt.hist(trend_plus['minute_time'], bins=20)\n",
    "plt.show()\n"
   ]
  },
  {
   "cell_type": "code",
   "execution_count": 12,
   "metadata": {
    "id": "gmJheEVdAfXv"
   },
   "outputs": [
    {
     "data": {
      "image/png": "[encoded data removed]",
      "text/plain": [
       "<Figure size 1080x576 with 1 Axes>"
      ]
     },
     "metadata": {
      "needs_background": "light"
     },
     "output_type": "display_data"
    }
   ],
   "source": [
    "## 트렌드 동영상 재생시간의 분포 확인 => 이건 정확하다고 보기 어려움\n",
    "\n",
    "plt.figure(figsize = (15,8))\n",
    "plt.hist(trend_plus['minute_time'], bins=20, range = (0,60))\n",
    "plt.show()\n"
   ]
  },
  {
   "cell_type": "markdown",
   "metadata": {
    "id": "ZfH4595awA0_"
   },
   "source": [
    "중앙값이 10분 정도에 위치하고 있고, 트렌드 영상으로 올라온 영상의 대부분이 20분 이내에 배치되어 있음을 확인할 수 있다.  \n",
    "=> 영상시간이 길게 되면 트렌드 영상에 올라오지 못할 가능성이 커 보인다"
   ]
  },
  {
   "cell_type": "code",
   "execution_count": 86,
   "metadata": {
    "id": "c4Qd99JkkEln"
   },
   "outputs": [
    {
     "data": {
      "image/png": "[encoded data removed]",
      "text/plain": [
       "<Figure size 1656x576 with 1 Axes>"
      ]
     },
     "metadata": {
      "needs_background": "light"
     },
     "output_type": "display_data"
    }
   ],
   "source": [
    "# 카테고리별로 트렌드 영상에 올라온 길이의 차이가 존재하나?\n",
    "plt.figure(figsize = (23,8))\n",
    "sns.barplot(data=trend_plus, x = 'category_name', y = 'minute_time', palette='Reds')\n",
    "# plt.xticks(rotation=45)\n",
    "sns.despine()\n",
    "plt.title('카테고리별 트렌드 영상의 길이(2020.08~2022.07)', fontsize= 12)\n",
    "plt.xlabel('카테고리명')\n",
    "plt.ylabel('영상 길이 (분)')\n",
    "plt.show()"
   ]
  },
  {
   "cell_type": "markdown",
   "metadata": {
    "id": "Un2r_bSBy1-e"
   },
   "source": [
    "News/Politics에 속한 영상들이 가장 평균적인 영상길이가 길었고, 편차 또한 매우 큰 것으로 나오는데 속보를 전해주는 짧은 영상들과 한 사건을 쭉 설명하는 영상들이 있어서 그런게 아닌가 싶다.\n",
    "film & animation의 경우 길이가 5분대 영상들이 위치했는데 그 이유는 5분 정도의 짧은 애니메이션들이 인기동영상에 많이 올라와서 그런 것 같다. (ex. 총몇명, 짤툰,....)"
   ]
  },
  {
   "cell_type": "code",
   "execution_count": 14,
   "metadata": {
    "id": "_bw7g6Wg_Bx_"
   },
   "outputs": [
    {
     "data": {
      "image/png": "[encoded data removed]",
      "text/plain": [
       "<Figure size 1080x576 with 1 Axes>"
      ]
     },
     "metadata": {
      "needs_background": "light"
     },
     "output_type": "display_data"
    }
   ],
   "source": [
    "# total data에서 재생 시간 분포 확인하기\n",
    "\n",
    "plt.figure(figsize = (15,8))\n",
    "plt.hist(total['minute_time'], bins=20)\n",
    "plt.show()\n"
   ]
  },
  {
   "cell_type": "markdown",
   "metadata": {
    "id": "JL-QsGFM_Wpx"
   },
   "source": [
    "거의 대부분 영상 길이가 짧으나 일부 긴 영상들이 존재하고 있어서 전체 영역을 가지고 그래프를 분석하기가 어려워 보인다.\n",
    "\n",
    "영역을 지정해서 많은 자료들이 몰려있는 부분을 더 관찰해보려고 한다."
   ]
  },
  {
   "cell_type": "code",
   "execution_count": 15,
   "metadata": {
    "id": "VSRH8UT9_CCi"
   },
   "outputs": [
    {
     "data": {
      "image/png": "[encoded data removed]",
      "text/plain": [
       "<Figure size 1080x576 with 1 Axes>"
      ]
     },
     "metadata": {
      "needs_background": "light"
     },
     "output_type": "display_data"
    }
   ],
   "source": [
    "# total data에서 재생 시간 분포 확인하기\n",
    "\n",
    "plt.figure(figsize = (15,8))\n",
    "plt.hist(total['minute_time'], bins=20, range = (0, 60))\n",
    "plt.show()\n"
   ]
  },
  {
   "cell_type": "markdown",
   "metadata": {
    "id": "CuBlKftXAQpE"
   },
   "source": [
    "트렌드 데이터셋과 분포가 상당히 유사한 형태이지만 10~20분 구간의 경우 트렌드 데이터의 경우 더 많게 나왔다."
   ]
  },
  {
   "cell_type": "markdown",
   "metadata": {
    "id": "uFpnVEYk2nN0"
   },
   "source": [
    "# 채널별로 동영상을 올리는 간격의 분포 확인"
   ]
  },
  {
   "cell_type": "code",
   "execution_count": 16,
   "metadata": {
    "id": "hoKaEzYlCQmw"
   },
   "outputs": [
    {
     "data": {
      "text/html": [
       "<div>\n",
       "<style scoped>\n",
       "    .dataframe tbody tr th:only-of-type {\n",
       "        vertical-align: middle;\n",
       "    }\n",
       "\n",
       "    .dataframe tbody tr th {\n",
       "        vertical-align: top;\n",
       "    }\n",
       "\n",
       "    .dataframe thead th {\n",
       "        text-align: right;\n",
       "    }\n",
       "</style>\n",
       "<table border=\"1\" class=\"dataframe\">\n",
       "  <thead>\n",
       "    <tr style=\"text-align: right;\">\n",
       "      <th></th>\n",
       "      <th>channelId</th>\n",
       "      <th>video_time</th>\n",
       "      <th>video_id</th>\n",
       "      <th>when</th>\n",
       "      <th>title</th>\n",
       "      <th>minute_time</th>\n",
       "      <th>seconds_time</th>\n",
       "      <th>open</th>\n",
       "      <th>totalview</th>\n",
       "      <th>subscriber</th>\n",
       "    </tr>\n",
       "  </thead>\n",
       "  <tbody>\n",
       "    <tr>\n",
       "      <th>0</th>\n",
       "      <td>UCu9BCtGIEr73LXZsKmoujKw</td>\n",
       "      <td>4:58</td>\n",
       "      <td>u6lyUnhaaqk</td>\n",
       "      <td>10일 전</td>\n",
       "      <td>.</td>\n",
       "      <td>4.966667</td>\n",
       "      <td>298.0</td>\n",
       "      <td>2014-08-25</td>\n",
       "      <td>2.683340e+09</td>\n",
       "      <td>3230000.0</td>\n",
       "    </tr>\n",
       "    <tr>\n",
       "      <th>1</th>\n",
       "      <td>UCu9BCtGIEr73LXZsKmoujKw</td>\n",
       "      <td>10:45</td>\n",
       "      <td>_LpMHqmScuk</td>\n",
       "      <td>8개월 전</td>\n",
       "      <td>판결 나왔습니다</td>\n",
       "      <td>10.750000</td>\n",
       "      <td>645.0</td>\n",
       "      <td>2014-08-25</td>\n",
       "      <td>2.683340e+09</td>\n",
       "      <td>3230000.0</td>\n",
       "    </tr>\n",
       "    <tr>\n",
       "      <th>2</th>\n",
       "      <td>UCu9BCtGIEr73LXZsKmoujKw</td>\n",
       "      <td>11:53</td>\n",
       "      <td>2eHrT-Fgs78</td>\n",
       "      <td>9개월 전</td>\n",
       "      <td>현재 재판진행상황</td>\n",
       "      <td>11.883333</td>\n",
       "      <td>713.0</td>\n",
       "      <td>2014-08-25</td>\n",
       "      <td>2.683340e+09</td>\n",
       "      <td>3230000.0</td>\n",
       "    </tr>\n",
       "    <tr>\n",
       "      <th>3</th>\n",
       "      <td>UCu9BCtGIEr73LXZsKmoujKw</td>\n",
       "      <td>9:41</td>\n",
       "      <td>6MiItImFYbk</td>\n",
       "      <td>9개월 전</td>\n",
       "      <td>우리 깐부 맞지?</td>\n",
       "      <td>9.683333</td>\n",
       "      <td>581.0</td>\n",
       "      <td>2014-08-25</td>\n",
       "      <td>2.683340e+09</td>\n",
       "      <td>3230000.0</td>\n",
       "    </tr>\n",
       "    <tr>\n",
       "      <th>4</th>\n",
       "      <td>UCu9BCtGIEr73LXZsKmoujKw</td>\n",
       "      <td>SHORTS</td>\n",
       "      <td>QdnvjTQ4X3c</td>\n",
       "      <td>9개월 전</td>\n",
       "      <td>섹드립논란#Shorts</td>\n",
       "      <td>NaN</td>\n",
       "      <td>NaN</td>\n",
       "      <td>2014-08-25</td>\n",
       "      <td>2.683340e+09</td>\n",
       "      <td>3230000.0</td>\n",
       "    </tr>\n",
       "  </tbody>\n",
       "</table>\n",
       "</div>"
      ],
      "text/plain": [
       "                  channelId video_time     video_id   when         title  \\\n",
       "0  UCu9BCtGIEr73LXZsKmoujKw       4:58  u6lyUnhaaqk  10일 전             .   \n",
       "1  UCu9BCtGIEr73LXZsKmoujKw      10:45  _LpMHqmScuk  8개월 전      판결 나왔습니다   \n",
       "2  UCu9BCtGIEr73LXZsKmoujKw      11:53  2eHrT-Fgs78  9개월 전     현재 재판진행상황   \n",
       "3  UCu9BCtGIEr73LXZsKmoujKw       9:41  6MiItImFYbk  9개월 전     우리 깐부 맞지?   \n",
       "4  UCu9BCtGIEr73LXZsKmoujKw     SHORTS  QdnvjTQ4X3c  9개월 전  섹드립논란#Shorts   \n",
       "\n",
       "   minute_time  seconds_time        open     totalview  subscriber  \n",
       "0     4.966667         298.0  2014-08-25  2.683340e+09   3230000.0  \n",
       "1    10.750000         645.0  2014-08-25  2.683340e+09   3230000.0  \n",
       "2    11.883333         713.0  2014-08-25  2.683340e+09   3230000.0  \n",
       "3     9.683333         581.0  2014-08-25  2.683340e+09   3230000.0  \n",
       "4          NaN           NaN  2014-08-25  2.683340e+09   3230000.0  "
      ]
     },
     "execution_count": 16,
     "metadata": {},
     "output_type": "execute_result"
    }
   ],
   "source": [
    "# 자료 전처리 진행하기\n",
    "\n",
    "total[total['channelId'] == 'UCu9BCtGIEr73LXZsKmoujKw'].head()"
   ]
  },
  {
   "cell_type": "code",
   "execution_count": 17,
   "metadata": {
    "id": "UM9835Vzztja"
   },
   "outputs": [
    {
     "data": {
      "text/html": [
       "<div>\n",
       "<style scoped>\n",
       "    .dataframe tbody tr th:only-of-type {\n",
       "        vertical-align: middle;\n",
       "    }\n",
       "\n",
       "    .dataframe tbody tr th {\n",
       "        vertical-align: top;\n",
       "    }\n",
       "\n",
       "    .dataframe thead th {\n",
       "        text-align: right;\n",
       "    }\n",
       "</style>\n",
       "<table border=\"1\" class=\"dataframe\">\n",
       "  <thead>\n",
       "    <tr style=\"text-align: right;\">\n",
       "      <th></th>\n",
       "      <th>video_id</th>\n",
       "      <th>title</th>\n",
       "      <th>publishedAt</th>\n",
       "      <th>channelId</th>\n",
       "      <th>channelTitle</th>\n",
       "      <th>trending_date</th>\n",
       "      <th>tags</th>\n",
       "      <th>view_count</th>\n",
       "      <th>likes</th>\n",
       "      <th>dislikes</th>\n",
       "      <th>...</th>\n",
       "      <th>category_name</th>\n",
       "      <th>tag_num</th>\n",
       "      <th>period</th>\n",
       "      <th>Unnamed: 0</th>\n",
       "      <th>comments_disabled</th>\n",
       "      <th>ratings_disabled</th>\n",
       "      <th>minute_time</th>\n",
       "      <th>seconds_time</th>\n",
       "      <th>totalview</th>\n",
       "      <th>subscriber</th>\n",
       "    </tr>\n",
       "  </thead>\n",
       "  <tbody>\n",
       "    <tr>\n",
       "      <th>1044</th>\n",
       "      <td>AwcevO7sn3M</td>\n",
       "      <td>[타로카드/연애운] 9월 연애운</td>\n",
       "      <td>2020-09-06 08:08:44</td>\n",
       "      <td>UCty6wr0aE3QJ2RUqUZsgrmw</td>\n",
       "      <td>타로호랑</td>\n",
       "      <td>2020-09-11 00:00:00</td>\n",
       "      <td>타로카드|연애운</td>\n",
       "      <td>359287</td>\n",
       "      <td>11861</td>\n",
       "      <td>116</td>\n",
       "      <td>...</td>\n",
       "      <td>People &amp; Blogs</td>\n",
       "      <td>2</td>\n",
       "      <td>3</td>\n",
       "      <td>4311.0</td>\n",
       "      <td>False</td>\n",
       "      <td>False</td>\n",
       "      <td>66.466667</td>\n",
       "      <td>3988.0</td>\n",
       "      <td>6.274911e+07</td>\n",
       "      <td>432000.0</td>\n",
       "    </tr>\n",
       "    <tr>\n",
       "      <th>1223</th>\n",
       "      <td>inf2QMgXETo</td>\n",
       "      <td>[풀영상] 생방송 심야토론 0912-추미애 장관 논란, 어떻게 볼 것인가?</td>\n",
       "      <td>2020-09-13 10:23:49</td>\n",
       "      <td>UC8gCJEe6FFHdhZyul6zLeMQ</td>\n",
       "      <td>생방송심야토론</td>\n",
       "      <td>2020-09-17 00:00:00</td>\n",
       "      <td>생방송심야토론|KBS|심야토론|KBS시사|정관용|이슈|시사</td>\n",
       "      <td>78335</td>\n",
       "      <td>755</td>\n",
       "      <td>109</td>\n",
       "      <td>...</td>\n",
       "      <td>News &amp; Politics</td>\n",
       "      <td>7</td>\n",
       "      <td>4</td>\n",
       "      <td>5147.0</td>\n",
       "      <td>False</td>\n",
       "      <td>False</td>\n",
       "      <td>70.650000</td>\n",
       "      <td>4239.0</td>\n",
       "      <td>6.610166e+06</td>\n",
       "      <td>38700.0</td>\n",
       "    </tr>\n",
       "    <tr>\n",
       "      <th>7272</th>\n",
       "      <td>JdBYVNuky1M</td>\n",
       "      <td>Apple Event — April 20</td>\n",
       "      <td>2021-04-20 18:05:50</td>\n",
       "      <td>UCE_M8A5yxnLfW0KghEeajjw</td>\n",
       "      <td>Apple</td>\n",
       "      <td>2021-04-28 00:00:00</td>\n",
       "      <td>Apple|Apple Event|Apple Keynote|Apple Special ...</td>\n",
       "      <td>9341997</td>\n",
       "      <td>333361</td>\n",
       "      <td>9384</td>\n",
       "      <td>...</td>\n",
       "      <td>Science &amp; Technology</td>\n",
       "      <td>28</td>\n",
       "      <td>8</td>\n",
       "      <td>48132.0</td>\n",
       "      <td>True</td>\n",
       "      <td>False</td>\n",
       "      <td>61.050000</td>\n",
       "      <td>3663.0</td>\n",
       "      <td>7.982467e+08</td>\n",
       "      <td>15900000.0</td>\n",
       "    </tr>\n",
       "    <tr>\n",
       "      <th>8465</th>\n",
       "      <td>0TD96VTf0Xs</td>\n",
       "      <td>WWDC 2021 — June 7 | Apple</td>\n",
       "      <td>2021-06-07 19:06:42</td>\n",
       "      <td>UCE_M8A5yxnLfW0KghEeajjw</td>\n",
       "      <td>Apple</td>\n",
       "      <td>2021-06-15 00:00:00</td>\n",
       "      <td>Apple|Apple Event|Apple Keynote|Apple Special ...</td>\n",
       "      <td>6513262</td>\n",
       "      <td>246626</td>\n",
       "      <td>6271</td>\n",
       "      <td>...</td>\n",
       "      <td>Science &amp; Technology</td>\n",
       "      <td>24</td>\n",
       "      <td>7</td>\n",
       "      <td>59721.0</td>\n",
       "      <td>True</td>\n",
       "      <td>False</td>\n",
       "      <td>106.816667</td>\n",
       "      <td>6409.0</td>\n",
       "      <td>7.982467e+08</td>\n",
       "      <td>15900000.0</td>\n",
       "    </tr>\n",
       "    <tr>\n",
       "      <th>10735</th>\n",
       "      <td>EvGOlAkLSLw</td>\n",
       "      <td>Apple Event — September 14</td>\n",
       "      <td>2021-09-14 18:25:08</td>\n",
       "      <td>UCE_M8A5yxnLfW0KghEeajjw</td>\n",
       "      <td>Apple</td>\n",
       "      <td>2021-09-24 00:00:00</td>\n",
       "      <td>Apple|Apple Event|Apple Keynote|Apple Special ...</td>\n",
       "      <td>18280588</td>\n",
       "      <td>672190</td>\n",
       "      <td>18183</td>\n",
       "      <td>...</td>\n",
       "      <td>Science &amp; Technology</td>\n",
       "      <td>8</td>\n",
       "      <td>10</td>\n",
       "      <td>79925.0</td>\n",
       "      <td>True</td>\n",
       "      <td>False</td>\n",
       "      <td>78.783333</td>\n",
       "      <td>4727.0</td>\n",
       "      <td>7.982467e+08</td>\n",
       "      <td>15900000.0</td>\n",
       "    </tr>\n",
       "    <tr>\n",
       "      <th>16349</th>\n",
       "      <td>1t0iJ7F_k9Q</td>\n",
       "      <td>BTS (방탄소년단) ‘찐 방탄회식’ #2022BTSFESTA</td>\n",
       "      <td>2022-06-14 12:00:10</td>\n",
       "      <td>UCLkAepWjdylmXSltofFvsYQ</td>\n",
       "      <td>BANGTANTV</td>\n",
       "      <td>2022-06-26 00:00:00</td>\n",
       "      <td>방탄소년단|BTS|BANGTAN|알엠|RM|슈가|SUGA|제이홉|jhope|지민|정...</td>\n",
       "      <td>18205587</td>\n",
       "      <td>2053494</td>\n",
       "      <td>0</td>\n",
       "      <td>...</td>\n",
       "      <td>Music</td>\n",
       "      <td>18</td>\n",
       "      <td>11</td>\n",
       "      <td>134518.0</td>\n",
       "      <td>False</td>\n",
       "      <td>False</td>\n",
       "      <td>61.933333</td>\n",
       "      <td>3716.0</td>\n",
       "      <td>1.728889e+10</td>\n",
       "      <td>69600000.0</td>\n",
       "    </tr>\n",
       "  </tbody>\n",
       "</table>\n",
       "<p>6 rows × 22 columns</p>\n",
       "</div>"
      ],
      "text/plain": [
       "          video_id                                      title  \\\n",
       "1044   AwcevO7sn3M                          [타로카드/연애운] 9월 연애운   \n",
       "1223   inf2QMgXETo  [풀영상] 생방송 심야토론 0912-추미애 장관 논란, 어떻게 볼 것인가?   \n",
       "7272   JdBYVNuky1M                     Apple Event — April 20   \n",
       "8465   0TD96VTf0Xs                 WWDC 2021 — June 7 | Apple   \n",
       "10735  EvGOlAkLSLw                 Apple Event — September 14   \n",
       "16349  1t0iJ7F_k9Q         BTS (방탄소년단) ‘찐 방탄회식’ #2022BTSFESTA   \n",
       "\n",
       "               publishedAt                 channelId channelTitle  \\\n",
       "1044   2020-09-06 08:08:44  UCty6wr0aE3QJ2RUqUZsgrmw         타로호랑   \n",
       "1223   2020-09-13 10:23:49  UC8gCJEe6FFHdhZyul6zLeMQ      생방송심야토론   \n",
       "7272   2021-04-20 18:05:50  UCE_M8A5yxnLfW0KghEeajjw        Apple   \n",
       "8465   2021-06-07 19:06:42  UCE_M8A5yxnLfW0KghEeajjw        Apple   \n",
       "10735  2021-09-14 18:25:08  UCE_M8A5yxnLfW0KghEeajjw        Apple   \n",
       "16349  2022-06-14 12:00:10  UCLkAepWjdylmXSltofFvsYQ    BANGTANTV   \n",
       "\n",
       "             trending_date                                               tags  \\\n",
       "1044   2020-09-11 00:00:00                                           타로카드|연애운   \n",
       "1223   2020-09-17 00:00:00                   생방송심야토론|KBS|심야토론|KBS시사|정관용|이슈|시사   \n",
       "7272   2021-04-28 00:00:00  Apple|Apple Event|Apple Keynote|Apple Special ...   \n",
       "8465   2021-06-15 00:00:00  Apple|Apple Event|Apple Keynote|Apple Special ...   \n",
       "10735  2021-09-24 00:00:00  Apple|Apple Event|Apple Keynote|Apple Special ...   \n",
       "16349  2022-06-26 00:00:00  방탄소년단|BTS|BANGTAN|알엠|RM|슈가|SUGA|제이홉|jhope|지민|정...   \n",
       "\n",
       "       view_count    likes  dislikes  ...         category_name tag_num  \\\n",
       "1044       359287    11861       116  ...        People & Blogs       2   \n",
       "1223        78335      755       109  ...       News & Politics       7   \n",
       "7272      9341997   333361      9384  ...  Science & Technology      28   \n",
       "8465      6513262   246626      6271  ...  Science & Technology      24   \n",
       "10735    18280588   672190     18183  ...  Science & Technology       8   \n",
       "16349    18205587  2053494         0  ...                 Music      18   \n",
       "\n",
       "      period  Unnamed: 0  comments_disabled  ratings_disabled  minute_time  \\\n",
       "1044       3      4311.0              False             False    66.466667   \n",
       "1223       4      5147.0              False             False    70.650000   \n",
       "7272       8     48132.0               True             False    61.050000   \n",
       "8465       7     59721.0               True             False   106.816667   \n",
       "10735     10     79925.0               True             False    78.783333   \n",
       "16349     11    134518.0              False             False    61.933333   \n",
       "\n",
       "       seconds_time     totalview  subscriber  \n",
       "1044         3988.0  6.274911e+07    432000.0  \n",
       "1223         4239.0  6.610166e+06     38700.0  \n",
       "7272         3663.0  7.982467e+08  15900000.0  \n",
       "8465         6409.0  7.982467e+08  15900000.0  \n",
       "10735        4727.0  7.982467e+08  15900000.0  \n",
       "16349        3716.0  1.728889e+10  69600000.0  \n",
       "\n",
       "[6 rows x 22 columns]"
      ]
     },
     "execution_count": 17,
     "metadata": {},
     "output_type": "execute_result"
    }
   ],
   "source": [
    "trend_plus[trend_plus['minute_time'] >60]"
   ]
  },
  {
   "cell_type": "code",
   "execution_count": 18,
   "metadata": {
    "id": "1w-4MCtmDtD5"
   },
   "outputs": [
    {
     "data": {
      "text/plain": [
       "array(['10일 전', '8개월 전', '9개월 전', '10개월 전', '11개월 전', '1년 전', '6일 전',\n",
       "       '13일 전', '2주 전', '1개월 전', '2개월 전', '3개월 전', '4개월 전', '5개월 전',\n",
       "       '6개월 전', '7개월 전', '1일 전', '4일 전', '3주 전', '3일 전', '9일 전',\n",
       "       '스트리밍 시간: 9개월 전', '20시간 전', '7일 전', '8일 전', '11일 전', '4주 전',\n",
       "       '2일 전', '2년 전', '22시간 전', '12일 전', '29분 전', '5일 전', '8시간 전',\n",
       "       '스트리밍 시간: 3개월 전', '스트리밍 시간: 4개월 전', '1시간 전', '4시간 전',\n",
       "       '스트리밍 시간: 6일 전', '스트리밍 시간: 2주 전', '스트리밍 시간: 1개월 전',\n",
       "       '스트리밍 시간: 2개월 전', '스트리밍 시간: 3일 전', '스트리밍 시간: 8일 전',\n",
       "       '스트리밍 시간: 11일 전', '스트리밍 시간: 3주 전', '스트리밍 시간: 5개월 전',\n",
       "       '스트리밍 시간: 6개월 전', '스트리밍 시간: 7개월 전', '스트리밍 시간: 9시간 전',\n",
       "       '스트리밍 시간: 1일 전', '스트리밍 시간: 4일 전', '스트리밍 시간: 5일 전', '스트리밍 시간: 7일 전',\n",
       "       '스트리밍 시간: 12일 전', '스트리밍 시간: 13일 전', '스트리밍 시간: 10개월 전', '49분 전',\n",
       "       '18시간 전', '최초 공개일: 22. 7. 26. 19:00', '6시간 전', '스트리밍 시간: 11개월 전',\n",
       "       '스트리밍 시간: 1년 전', '7시간 전', '3년 전', '5시간 전', '스트리밍 시간: 4주 전',\n",
       "       '12시간 전', '스트리밍 시간: 47분 전', '47분 전', '2시간 전', '스트리밍 시간: 4시간 전',\n",
       "       '스트리밍 시간: 7시간 전', '11시간 전', '스트리밍 시간: 2일 전', '스트리밍 시간: 9일 전',\n",
       "       '스트리밍 시간: 10일 전', '23시간 전', '54분 전', '3시간 전', '9시간 전', '52분 전',\n",
       "       '스트리밍 시간: 6시간 전', '55분 전', '19시간 전', '스트리밍 시간: 8개월 전', '10시간 전',\n",
       "       '4년 전', '5년 전', '6년 전', '21시간 전', '스트리밍 시간: 7분 전',\n",
       "       '스트리밍 시간: 19시간 전', '9년 전', '10년 전', '11년 전', '12년 전', '13년 전',\n",
       "       '42분 전', '10분 전', '스트리밍 시간: 1시간 전', '스트리밍 시간: 22시간 전', '36분 전',\n",
       "       '56분 전', '13시간 전', '14시간 전', '15시간 전', '스트리밍 시간: 20시간 전', '1분 전',\n",
       "       '40분 전', '43분 전', '스트리밍 시간: 8시간 전', '스트리밍 시간: 23시간 전', '26분 전',\n",
       "       '53분 전', '스트리밍 시간: 18시간 전', '스트리밍 시간: 46분 전', '스트리밍 시간: 3시간 전',\n",
       "       '스트리밍 시간: 10시간 전', '스트리밍 시간: 21시간 전', '16시간 전', '스트리밍 시간: 2년 전',\n",
       "       '스트리밍 시간: 3년 전', '17분 전', '44분 전', '최초 공개일: 22. 7. 26. 21:00',\n",
       "       '45분 전', '스트리밍 시간: 2시간 전', '6분 전', '7분 전', '스트리밍 시간: 19분 전',\n",
       "       '스트리밍 시간: 43분 전', '34분 전', '19분 전', '최초 공개일: 22. 7. 26. 22:30',\n",
       "       '최초 공개일: 22. 7. 27. 0:00', '12분 전', '59분 전', '32분 전', '48분 전',\n",
       "       '27분 전', '41분 전', '38분 전', '스트리밍 시간: 4년 전', '스트리밍 시간: 42분 전',\n",
       "       '57분 전', '7년 전', '8년 전', '13분 전', '3분 전', '4분 전', '스트리밍 시간: 45분 전',\n",
       "       '50분 전', '최초 공개일: 22. 7. 25. 22:45', '스트리밍 시간: 16시간 전',\n",
       "       '스트리밍 시간: 13시간 전', '23분 전', '17시간 전', '스트리밍 시간: 33분 전',\n",
       "       '최초 공개일: 22. 7. 26. 11:00', '스트리밍 시간: 15시간 전', '11분 전', '16분 전',\n",
       "       '20분 전', '22분 전', '5분 전', '9분 전', '18분 전', '15분 전',\n",
       "       '스트리밍 시간: 12시간 전', '25분 전', '스트리밍 시간: 1분 전', '39분 전',\n",
       "       '스트리밍 시간: 5년 전', '스트리밍 시간: 11시간 전', '최초 공개일: 22. 7. 26. 9:00',\n",
       "       '스트리밍 시간: 5시간 전', '21분 전', '24분 전', '30분 전',\n",
       "       '최초 공개일: 22. 7. 26. 7:00', '54초 전', '28분 전', '스트리밍 시간: 17시간 전',\n",
       "       '58분 전', '최초 공개일: 22. 7. 25. 22:00', '스트리밍 시간: 52분 전', '14분 전',\n",
       "       '스트리밍 시간: 14시간 전', '14년 전', '최초 공개일: 22. 7. 25. 17:00'],\n",
       "      dtype=object)"
      ]
     },
     "execution_count": 18,
     "metadata": {},
     "output_type": "execute_result"
    }
   ],
   "source": [
    "# 전처리 하기 전 'when'의 형식을 확인해보자\n",
    "total['when'].unique()"
   ]
  },
  {
   "cell_type": "code",
   "execution_count": 19,
   "metadata": {
    "id": "uLyoqDQ9Eoab"
   },
   "outputs": [],
   "source": [
    "# when의 형식을 바꾸는 함수 만들기\n",
    "def replace_text(text): \n",
    "    if '초 전' in text:\n",
    "        return int(text.replace('초 전', '')) * 0\n",
    "    if '분 전' in text:\n",
    "        return int(text.replace('분 전', '')) * 0\n",
    "    elif '시간 전' in text:\n",
    "        return int(text.replace('시간 전', '')) * 0\n",
    "    elif '일 전' in text:\n",
    "        return int(text.replace('일 전', ''))\n",
    "    elif '개월 전' in text:\n",
    "        return int(text.replace('개월 전', '')) * 30\n",
    "    elif '년 전' in text:\n",
    "        return int(text.replace('년 전', '')) * 365\n"
   ]
  },
  {
   "cell_type": "code",
   "execution_count": 20,
   "metadata": {
    "id": "LGYFWv5xCoUk"
   },
   "outputs": [],
   "source": [
    "def convert_when(text):\n",
    "    if '최초 공개일' in text:\n",
    "        text = text.replace('최초 공개일: ', '')\n",
    "        text = '20'+text\n",
    "        now = datetime.datetime.now()\n",
    "        text = pd.to_datetime(text)\n",
    "        date_diff = now - text\n",
    "        return date_diff.days\n",
    "    elif '스트리밍 시간' in text:\n",
    "        text = text.replace('스트리밍 시간: ', '')\n",
    "        return replace_text(text)\n",
    "    else:\n",
    "        return replace_text(text)\n",
    "    "
   ]
  },
  {
   "cell_type": "code",
   "execution_count": 21,
   "metadata": {
    "id": "7q282LWSE4nL"
   },
   "outputs": [],
   "source": [
    "# 열에 함수 적용하기\n",
    "total['upload_time'] = total['when'].apply(convert_when)"
   ]
  },
  {
   "cell_type": "code",
   "execution_count": 22,
   "metadata": {
    "id": "-u1k66j-GTwB"
   },
   "outputs": [
    {
     "data": {
      "text/html": [
       "<div>\n",
       "<style scoped>\n",
       "    .dataframe tbody tr th:only-of-type {\n",
       "        vertical-align: middle;\n",
       "    }\n",
       "\n",
       "    .dataframe tbody tr th {\n",
       "        vertical-align: top;\n",
       "    }\n",
       "\n",
       "    .dataframe thead th {\n",
       "        text-align: right;\n",
       "    }\n",
       "</style>\n",
       "<table border=\"1\" class=\"dataframe\">\n",
       "  <thead>\n",
       "    <tr style=\"text-align: right;\">\n",
       "      <th></th>\n",
       "      <th>channelId</th>\n",
       "      <th>video_time</th>\n",
       "      <th>video_id</th>\n",
       "      <th>when</th>\n",
       "      <th>title</th>\n",
       "      <th>minute_time</th>\n",
       "      <th>seconds_time</th>\n",
       "      <th>open</th>\n",
       "      <th>totalview</th>\n",
       "      <th>subscriber</th>\n",
       "      <th>upload_time</th>\n",
       "    </tr>\n",
       "  </thead>\n",
       "  <tbody>\n",
       "    <tr>\n",
       "      <th>0</th>\n",
       "      <td>UCu9BCtGIEr73LXZsKmoujKw</td>\n",
       "      <td>4:58</td>\n",
       "      <td>u6lyUnhaaqk</td>\n",
       "      <td>10일 전</td>\n",
       "      <td>.</td>\n",
       "      <td>4.966667</td>\n",
       "      <td>298.0</td>\n",
       "      <td>2014-08-25</td>\n",
       "      <td>2.683340e+09</td>\n",
       "      <td>3230000.0</td>\n",
       "      <td>10.0</td>\n",
       "    </tr>\n",
       "    <tr>\n",
       "      <th>1</th>\n",
       "      <td>UCu9BCtGIEr73LXZsKmoujKw</td>\n",
       "      <td>10:45</td>\n",
       "      <td>_LpMHqmScuk</td>\n",
       "      <td>8개월 전</td>\n",
       "      <td>판결 나왔습니다</td>\n",
       "      <td>10.750000</td>\n",
       "      <td>645.0</td>\n",
       "      <td>2014-08-25</td>\n",
       "      <td>2.683340e+09</td>\n",
       "      <td>3230000.0</td>\n",
       "      <td>240.0</td>\n",
       "    </tr>\n",
       "    <tr>\n",
       "      <th>2</th>\n",
       "      <td>UCu9BCtGIEr73LXZsKmoujKw</td>\n",
       "      <td>11:53</td>\n",
       "      <td>2eHrT-Fgs78</td>\n",
       "      <td>9개월 전</td>\n",
       "      <td>현재 재판진행상황</td>\n",
       "      <td>11.883333</td>\n",
       "      <td>713.0</td>\n",
       "      <td>2014-08-25</td>\n",
       "      <td>2.683340e+09</td>\n",
       "      <td>3230000.0</td>\n",
       "      <td>270.0</td>\n",
       "    </tr>\n",
       "    <tr>\n",
       "      <th>3</th>\n",
       "      <td>UCu9BCtGIEr73LXZsKmoujKw</td>\n",
       "      <td>9:41</td>\n",
       "      <td>6MiItImFYbk</td>\n",
       "      <td>9개월 전</td>\n",
       "      <td>우리 깐부 맞지?</td>\n",
       "      <td>9.683333</td>\n",
       "      <td>581.0</td>\n",
       "      <td>2014-08-25</td>\n",
       "      <td>2.683340e+09</td>\n",
       "      <td>3230000.0</td>\n",
       "      <td>270.0</td>\n",
       "    </tr>\n",
       "    <tr>\n",
       "      <th>4</th>\n",
       "      <td>UCu9BCtGIEr73LXZsKmoujKw</td>\n",
       "      <td>SHORTS</td>\n",
       "      <td>QdnvjTQ4X3c</td>\n",
       "      <td>9개월 전</td>\n",
       "      <td>섹드립논란#Shorts</td>\n",
       "      <td>NaN</td>\n",
       "      <td>NaN</td>\n",
       "      <td>2014-08-25</td>\n",
       "      <td>2.683340e+09</td>\n",
       "      <td>3230000.0</td>\n",
       "      <td>270.0</td>\n",
       "    </tr>\n",
       "  </tbody>\n",
       "</table>\n",
       "</div>"
      ],
      "text/plain": [
       "                  channelId video_time     video_id   when         title  \\\n",
       "0  UCu9BCtGIEr73LXZsKmoujKw       4:58  u6lyUnhaaqk  10일 전             .   \n",
       "1  UCu9BCtGIEr73LXZsKmoujKw      10:45  _LpMHqmScuk  8개월 전      판결 나왔습니다   \n",
       "2  UCu9BCtGIEr73LXZsKmoujKw      11:53  2eHrT-Fgs78  9개월 전     현재 재판진행상황   \n",
       "3  UCu9BCtGIEr73LXZsKmoujKw       9:41  6MiItImFYbk  9개월 전     우리 깐부 맞지?   \n",
       "4  UCu9BCtGIEr73LXZsKmoujKw     SHORTS  QdnvjTQ4X3c  9개월 전  섹드립논란#Shorts   \n",
       "\n",
       "   minute_time  seconds_time        open     totalview  subscriber  \\\n",
       "0     4.966667         298.0  2014-08-25  2.683340e+09   3230000.0   \n",
       "1    10.750000         645.0  2014-08-25  2.683340e+09   3230000.0   \n",
       "2    11.883333         713.0  2014-08-25  2.683340e+09   3230000.0   \n",
       "3     9.683333         581.0  2014-08-25  2.683340e+09   3230000.0   \n",
       "4          NaN           NaN  2014-08-25  2.683340e+09   3230000.0   \n",
       "\n",
       "   upload_time  \n",
       "0         10.0  \n",
       "1        240.0  \n",
       "2        270.0  \n",
       "3        270.0  \n",
       "4        270.0  "
      ]
     },
     "execution_count": 22,
     "metadata": {},
     "output_type": "execute_result"
    }
   ],
   "source": [
    "# 성공적으로 완료!\n",
    "total.head()"
   ]
  },
  {
   "cell_type": "markdown",
   "metadata": {},
   "source": [
    "채널별로 기간을 분석을 하기 위해서 채널별로 when 열을 하나의 값으로 합치는 과정이 필요하다. 채택한 방법은 채널별로 when의 max값에서 min값을 빼고, 각 채널에 해당되는 영상수로 빼는 방법이다."
   ]
  },
  {
   "cell_type": "code",
   "execution_count": 23,
   "metadata": {
    "id": "B3wu5suVMWGq"
   },
   "outputs": [
    {
     "name": "stdout",
     "output_type": "stream",
     "text": [
      "                  channelId  upload_time\n",
      "0  UC-0229MiVYnQoUxdLJnFl_g        365.0\n",
      "1  UC-0C8yVGJy-cS4FGlYKelWw         60.0\n",
      "2  UC-0tICWyA0_AJAVMBHL8GdQ        365.0\n",
      "3  UC-2Y8dQb0S6DtpxNgAKoJKA         13.0\n",
      "4  UC-2wa6jvprl7hfCpvw0ULzg        365.0\n",
      "                  channelId  upload_time\n",
      "0  UC-0229MiVYnQoUxdLJnFl_g          6.0\n",
      "1  UC-0C8yVGJy-cS4FGlYKelWw          0.0\n",
      "2  UC-0tICWyA0_AJAVMBHL8GdQ          0.0\n",
      "3  UC-2Y8dQb0S6DtpxNgAKoJKA          0.0\n",
      "4  UC-2wa6jvprl7hfCpvw0ULzg          5.0\n",
      "                  channelId  upload_time\n",
      "0  UC-0229MiVYnQoUxdLJnFl_g           60\n",
      "1  UC-0C8yVGJy-cS4FGlYKelWw           75\n",
      "2  UC-0tICWyA0_AJAVMBHL8GdQ           86\n",
      "3  UC-2Y8dQb0S6DtpxNgAKoJKA           80\n",
      "4  UC-2wa6jvprl7hfCpvw0ULzg           90\n"
     ]
    }
   ],
   "source": [
    "# 채널별로 max, min, count값을 생성하기\n",
    "max_channel = total[['channelId', 'upload_time']].groupby(['channelId'], as_index=False).max()\n",
    "min_channel = total[['channelId', 'upload_time']].groupby(['channelId'], as_index=False).min()\n",
    "count_channel = total[['channelId', 'upload_time']].groupby(['channelId'], as_index=False).count()\n",
    "print(max_channel.head())\n",
    "print(min_channel.head())\n",
    "print(count_channel.head())"
   ]
  },
  {
   "cell_type": "code",
   "execution_count": 24,
   "metadata": {
    "id": "R6yTpo5UHBc1"
   },
   "outputs": [],
   "source": [
    "# 채널에 대한 max, min, upload_count 값을 하나의 dataframe으로 만들기\n",
    "number_frame = pd.merge(max_channel, min_channel, left_on='channelId', right_on='channelId', how='outer')\n",
    "number_frame = pd.merge(number_frame, count_channel, left_on='channelId', right_on='channelId', how='outer')"
   ]
  },
  {
   "cell_type": "code",
   "execution_count": 25,
   "metadata": {
    "id": "-9k_8OQRJX43"
   },
   "outputs": [],
   "source": [
    "number_frame.columns = ['channelId', 'upload_max', 'upload_min','upload_count']"
   ]
  },
  {
   "cell_type": "code",
   "execution_count": 26,
   "metadata": {
    "id": "d3fWiBL-HRHF"
   },
   "outputs": [
    {
     "data": {
      "text/html": [
       "<div>\n",
       "<style scoped>\n",
       "    .dataframe tbody tr th:only-of-type {\n",
       "        vertical-align: middle;\n",
       "    }\n",
       "\n",
       "    .dataframe tbody tr th {\n",
       "        vertical-align: top;\n",
       "    }\n",
       "\n",
       "    .dataframe thead th {\n",
       "        text-align: right;\n",
       "    }\n",
       "</style>\n",
       "<table border=\"1\" class=\"dataframe\">\n",
       "  <thead>\n",
       "    <tr style=\"text-align: right;\">\n",
       "      <th></th>\n",
       "      <th>channelId</th>\n",
       "      <th>upload_max</th>\n",
       "      <th>upload_min</th>\n",
       "      <th>upload_count</th>\n",
       "    </tr>\n",
       "  </thead>\n",
       "  <tbody>\n",
       "    <tr>\n",
       "      <th>0</th>\n",
       "      <td>UC-0229MiVYnQoUxdLJnFl_g</td>\n",
       "      <td>365.0</td>\n",
       "      <td>6.0</td>\n",
       "      <td>60</td>\n",
       "    </tr>\n",
       "    <tr>\n",
       "      <th>1</th>\n",
       "      <td>UC-0C8yVGJy-cS4FGlYKelWw</td>\n",
       "      <td>60.0</td>\n",
       "      <td>0.0</td>\n",
       "      <td>75</td>\n",
       "    </tr>\n",
       "    <tr>\n",
       "      <th>2</th>\n",
       "      <td>UC-0tICWyA0_AJAVMBHL8GdQ</td>\n",
       "      <td>365.0</td>\n",
       "      <td>0.0</td>\n",
       "      <td>86</td>\n",
       "    </tr>\n",
       "    <tr>\n",
       "      <th>3</th>\n",
       "      <td>UC-2Y8dQb0S6DtpxNgAKoJKA</td>\n",
       "      <td>13.0</td>\n",
       "      <td>0.0</td>\n",
       "      <td>80</td>\n",
       "    </tr>\n",
       "    <tr>\n",
       "      <th>4</th>\n",
       "      <td>UC-2wa6jvprl7hfCpvw0ULzg</td>\n",
       "      <td>365.0</td>\n",
       "      <td>5.0</td>\n",
       "      <td>90</td>\n",
       "    </tr>\n",
       "    <tr>\n",
       "      <th>...</th>\n",
       "      <td>...</td>\n",
       "      <td>...</td>\n",
       "      <td>...</td>\n",
       "      <td>...</td>\n",
       "    </tr>\n",
       "    <tr>\n",
       "      <th>2631</th>\n",
       "      <td>UCzpOLMBZ6qxhb6GJ5eksq5A</td>\n",
       "      <td>365.0</td>\n",
       "      <td>0.0</td>\n",
       "      <td>88</td>\n",
       "    </tr>\n",
       "    <tr>\n",
       "      <th>2632</th>\n",
       "      <td>UCzteSXznVjwESizsCcSKSWw</td>\n",
       "      <td>60.0</td>\n",
       "      <td>0.0</td>\n",
       "      <td>66</td>\n",
       "    </tr>\n",
       "    <tr>\n",
       "      <th>2633</th>\n",
       "      <td>UCzxXBQnJy9guqVNM6KXi0Ig</td>\n",
       "      <td>365.0</td>\n",
       "      <td>2.0</td>\n",
       "      <td>88</td>\n",
       "    </tr>\n",
       "    <tr>\n",
       "      <th>2634</th>\n",
       "      <td>UCzz58-H0wzmGoFi3MO_9ePQ</td>\n",
       "      <td>120.0</td>\n",
       "      <td>4.0</td>\n",
       "      <td>89</td>\n",
       "    </tr>\n",
       "    <tr>\n",
       "      <th>2635</th>\n",
       "      <td>UCzznO4xSV8BKnUBPyswtCUw</td>\n",
       "      <td>3.0</td>\n",
       "      <td>0.0</td>\n",
       "      <td>90</td>\n",
       "    </tr>\n",
       "  </tbody>\n",
       "</table>\n",
       "<p>2636 rows × 4 columns</p>\n",
       "</div>"
      ],
      "text/plain": [
       "                     channelId  upload_max  upload_min  upload_count\n",
       "0     UC-0229MiVYnQoUxdLJnFl_g       365.0         6.0            60\n",
       "1     UC-0C8yVGJy-cS4FGlYKelWw        60.0         0.0            75\n",
       "2     UC-0tICWyA0_AJAVMBHL8GdQ       365.0         0.0            86\n",
       "3     UC-2Y8dQb0S6DtpxNgAKoJKA        13.0         0.0            80\n",
       "4     UC-2wa6jvprl7hfCpvw0ULzg       365.0         5.0            90\n",
       "...                        ...         ...         ...           ...\n",
       "2631  UCzpOLMBZ6qxhb6GJ5eksq5A       365.0         0.0            88\n",
       "2632  UCzteSXznVjwESizsCcSKSWw        60.0         0.0            66\n",
       "2633  UCzxXBQnJy9guqVNM6KXi0Ig       365.0         2.0            88\n",
       "2634  UCzz58-H0wzmGoFi3MO_9ePQ       120.0         4.0            89\n",
       "2635  UCzznO4xSV8BKnUBPyswtCUw         3.0         0.0            90\n",
       "\n",
       "[2636 rows x 4 columns]"
      ]
     },
     "execution_count": 26,
     "metadata": {},
     "output_type": "execute_result"
    }
   ],
   "source": [
    "number_frame"
   ]
  },
  {
   "cell_type": "code",
   "execution_count": 27,
   "metadata": {
    "id": "t11DXy8qJxBX"
   },
   "outputs": [],
   "source": [
    "# 평균 기간에 대한 열을 만들기\n",
    "number_frame['mean_period'] = (number_frame['upload_max'] - number_frame['upload_min'])/number_frame['upload_count']"
   ]
  },
  {
   "cell_type": "code",
   "execution_count": 28,
   "metadata": {
    "id": "02N-hyOMJwvx"
   },
   "outputs": [
    {
     "data": {
      "text/html": [
       "<div>\n",
       "<style scoped>\n",
       "    .dataframe tbody tr th:only-of-type {\n",
       "        vertical-align: middle;\n",
       "    }\n",
       "\n",
       "    .dataframe tbody tr th {\n",
       "        vertical-align: top;\n",
       "    }\n",
       "\n",
       "    .dataframe thead th {\n",
       "        text-align: right;\n",
       "    }\n",
       "</style>\n",
       "<table border=\"1\" class=\"dataframe\">\n",
       "  <thead>\n",
       "    <tr style=\"text-align: right;\">\n",
       "      <th></th>\n",
       "      <th>channelId</th>\n",
       "      <th>upload_max</th>\n",
       "      <th>upload_min</th>\n",
       "      <th>upload_count</th>\n",
       "      <th>mean_period</th>\n",
       "    </tr>\n",
       "  </thead>\n",
       "  <tbody>\n",
       "    <tr>\n",
       "      <th>0</th>\n",
       "      <td>UC-0229MiVYnQoUxdLJnFl_g</td>\n",
       "      <td>365.0</td>\n",
       "      <td>6.0</td>\n",
       "      <td>60</td>\n",
       "      <td>5.983333</td>\n",
       "    </tr>\n",
       "    <tr>\n",
       "      <th>1</th>\n",
       "      <td>UC-0C8yVGJy-cS4FGlYKelWw</td>\n",
       "      <td>60.0</td>\n",
       "      <td>0.0</td>\n",
       "      <td>75</td>\n",
       "      <td>0.800000</td>\n",
       "    </tr>\n",
       "    <tr>\n",
       "      <th>2</th>\n",
       "      <td>UC-0tICWyA0_AJAVMBHL8GdQ</td>\n",
       "      <td>365.0</td>\n",
       "      <td>0.0</td>\n",
       "      <td>86</td>\n",
       "      <td>4.244186</td>\n",
       "    </tr>\n",
       "    <tr>\n",
       "      <th>3</th>\n",
       "      <td>UC-2Y8dQb0S6DtpxNgAKoJKA</td>\n",
       "      <td>13.0</td>\n",
       "      <td>0.0</td>\n",
       "      <td>80</td>\n",
       "      <td>0.162500</td>\n",
       "    </tr>\n",
       "    <tr>\n",
       "      <th>4</th>\n",
       "      <td>UC-2wa6jvprl7hfCpvw0ULzg</td>\n",
       "      <td>365.0</td>\n",
       "      <td>5.0</td>\n",
       "      <td>90</td>\n",
       "      <td>4.000000</td>\n",
       "    </tr>\n",
       "    <tr>\n",
       "      <th>...</th>\n",
       "      <td>...</td>\n",
       "      <td>...</td>\n",
       "      <td>...</td>\n",
       "      <td>...</td>\n",
       "      <td>...</td>\n",
       "    </tr>\n",
       "    <tr>\n",
       "      <th>2631</th>\n",
       "      <td>UCzpOLMBZ6qxhb6GJ5eksq5A</td>\n",
       "      <td>365.0</td>\n",
       "      <td>0.0</td>\n",
       "      <td>88</td>\n",
       "      <td>4.147727</td>\n",
       "    </tr>\n",
       "    <tr>\n",
       "      <th>2632</th>\n",
       "      <td>UCzteSXznVjwESizsCcSKSWw</td>\n",
       "      <td>60.0</td>\n",
       "      <td>0.0</td>\n",
       "      <td>66</td>\n",
       "      <td>0.909091</td>\n",
       "    </tr>\n",
       "    <tr>\n",
       "      <th>2633</th>\n",
       "      <td>UCzxXBQnJy9guqVNM6KXi0Ig</td>\n",
       "      <td>365.0</td>\n",
       "      <td>2.0</td>\n",
       "      <td>88</td>\n",
       "      <td>4.125000</td>\n",
       "    </tr>\n",
       "    <tr>\n",
       "      <th>2634</th>\n",
       "      <td>UCzz58-H0wzmGoFi3MO_9ePQ</td>\n",
       "      <td>120.0</td>\n",
       "      <td>4.0</td>\n",
       "      <td>89</td>\n",
       "      <td>1.303371</td>\n",
       "    </tr>\n",
       "    <tr>\n",
       "      <th>2635</th>\n",
       "      <td>UCzznO4xSV8BKnUBPyswtCUw</td>\n",
       "      <td>3.0</td>\n",
       "      <td>0.0</td>\n",
       "      <td>90</td>\n",
       "      <td>0.033333</td>\n",
       "    </tr>\n",
       "  </tbody>\n",
       "</table>\n",
       "<p>2636 rows × 5 columns</p>\n",
       "</div>"
      ],
      "text/plain": [
       "                     channelId  upload_max  upload_min  upload_count  \\\n",
       "0     UC-0229MiVYnQoUxdLJnFl_g       365.0         6.0            60   \n",
       "1     UC-0C8yVGJy-cS4FGlYKelWw        60.0         0.0            75   \n",
       "2     UC-0tICWyA0_AJAVMBHL8GdQ       365.0         0.0            86   \n",
       "3     UC-2Y8dQb0S6DtpxNgAKoJKA        13.0         0.0            80   \n",
       "4     UC-2wa6jvprl7hfCpvw0ULzg       365.0         5.0            90   \n",
       "...                        ...         ...         ...           ...   \n",
       "2631  UCzpOLMBZ6qxhb6GJ5eksq5A       365.0         0.0            88   \n",
       "2632  UCzteSXznVjwESizsCcSKSWw        60.0         0.0            66   \n",
       "2633  UCzxXBQnJy9guqVNM6KXi0Ig       365.0         2.0            88   \n",
       "2634  UCzz58-H0wzmGoFi3MO_9ePQ       120.0         4.0            89   \n",
       "2635  UCzznO4xSV8BKnUBPyswtCUw         3.0         0.0            90   \n",
       "\n",
       "      mean_period  \n",
       "0        5.983333  \n",
       "1        0.800000  \n",
       "2        4.244186  \n",
       "3        0.162500  \n",
       "4        4.000000  \n",
       "...           ...  \n",
       "2631     4.147727  \n",
       "2632     0.909091  \n",
       "2633     4.125000  \n",
       "2634     1.303371  \n",
       "2635     0.033333  \n",
       "\n",
       "[2636 rows x 5 columns]"
      ]
     },
     "execution_count": 28,
     "metadata": {},
     "output_type": "execute_result"
    }
   ],
   "source": [
    "number_frame"
   ]
  },
  {
   "cell_type": "code",
   "execution_count": 29,
   "metadata": {
    "id": "bSI1VThIhAqk"
   },
   "outputs": [
    {
     "data": {
      "text/html": [
       "<div>\n",
       "<style scoped>\n",
       "    .dataframe tbody tr th:only-of-type {\n",
       "        vertical-align: middle;\n",
       "    }\n",
       "\n",
       "    .dataframe tbody tr th {\n",
       "        vertical-align: top;\n",
       "    }\n",
       "\n",
       "    .dataframe thead th {\n",
       "        text-align: right;\n",
       "    }\n",
       "</style>\n",
       "<table border=\"1\" class=\"dataframe\">\n",
       "  <thead>\n",
       "    <tr style=\"text-align: right;\">\n",
       "      <th></th>\n",
       "      <th>channelId</th>\n",
       "      <th>upload_max</th>\n",
       "      <th>upload_min</th>\n",
       "      <th>upload_count</th>\n",
       "      <th>mean_period</th>\n",
       "      <th>category_name</th>\n",
       "    </tr>\n",
       "  </thead>\n",
       "  <tbody>\n",
       "    <tr>\n",
       "      <th>0</th>\n",
       "      <td>UCu9BCtGIEr73LXZsKmoujKw</td>\n",
       "      <td>365.0</td>\n",
       "      <td>10.0</td>\n",
       "      <td>60.0</td>\n",
       "      <td>5.916667</td>\n",
       "      <td>Entertainment</td>\n",
       "    </tr>\n",
       "    <tr>\n",
       "      <th>1</th>\n",
       "      <td>UCRuSxVu4iqTK5kCh90ntAgA</td>\n",
       "      <td>365.0</td>\n",
       "      <td>6.0</td>\n",
       "      <td>89.0</td>\n",
       "      <td>4.033708</td>\n",
       "      <td>Film &amp; Animation</td>\n",
       "    </tr>\n",
       "    <tr>\n",
       "      <th>2</th>\n",
       "      <td>UCMVC92EOs9yDJG5JS-CMesQ</td>\n",
       "      <td>150.0</td>\n",
       "      <td>1.0</td>\n",
       "      <td>84.0</td>\n",
       "      <td>1.773810</td>\n",
       "      <td>People &amp; Blogs</td>\n",
       "    </tr>\n",
       "    <tr>\n",
       "      <th>3</th>\n",
       "      <td>UCkQCwnkQfgSuPTTnw_Y7v7w</td>\n",
       "      <td>365.0</td>\n",
       "      <td>3.0</td>\n",
       "      <td>89.0</td>\n",
       "      <td>4.067416</td>\n",
       "      <td>Entertainment</td>\n",
       "    </tr>\n",
       "    <tr>\n",
       "      <th>4</th>\n",
       "      <td>UCaO6TYtlC8U5ttz62hTrZgg</td>\n",
       "      <td>240.0</td>\n",
       "      <td>0.0</td>\n",
       "      <td>80.0</td>\n",
       "      <td>3.000000</td>\n",
       "      <td>Music</td>\n",
       "    </tr>\n",
       "    <tr>\n",
       "      <th>...</th>\n",
       "      <td>...</td>\n",
       "      <td>...</td>\n",
       "      <td>...</td>\n",
       "      <td>...</td>\n",
       "      <td>...</td>\n",
       "      <td>...</td>\n",
       "    </tr>\n",
       "    <tr>\n",
       "      <th>16923</th>\n",
       "      <td>UCw1DsweY9b2AKGjV4kGJP1A</td>\n",
       "      <td>9.0</td>\n",
       "      <td>0.0</td>\n",
       "      <td>90.0</td>\n",
       "      <td>0.100000</td>\n",
       "      <td>Gaming</td>\n",
       "    </tr>\n",
       "    <tr>\n",
       "      <th>16924</th>\n",
       "      <td>UCw1DsweY9b2AKGjV4kGJP1A</td>\n",
       "      <td>9.0</td>\n",
       "      <td>0.0</td>\n",
       "      <td>90.0</td>\n",
       "      <td>0.100000</td>\n",
       "      <td>Gaming</td>\n",
       "    </tr>\n",
       "    <tr>\n",
       "      <th>16925</th>\n",
       "      <td>UCLhgIX2L5ZCaWdlaxR_oTAg</td>\n",
       "      <td>240.0</td>\n",
       "      <td>1.0</td>\n",
       "      <td>82.0</td>\n",
       "      <td>2.914634</td>\n",
       "      <td>Film &amp; Animation</td>\n",
       "    </tr>\n",
       "    <tr>\n",
       "      <th>16926</th>\n",
       "      <td>UCsXigGjbC_l4ttk-oahTfVg</td>\n",
       "      <td>1095.0</td>\n",
       "      <td>30.0</td>\n",
       "      <td>72.0</td>\n",
       "      <td>14.791667</td>\n",
       "      <td>Music</td>\n",
       "    </tr>\n",
       "    <tr>\n",
       "      <th>16927</th>\n",
       "      <td>UCEg25rdRZXg32iwai6N6l0w</td>\n",
       "      <td>13.0</td>\n",
       "      <td>0.0</td>\n",
       "      <td>54.0</td>\n",
       "      <td>0.240741</td>\n",
       "      <td>Sports</td>\n",
       "    </tr>\n",
       "  </tbody>\n",
       "</table>\n",
       "<p>16928 rows × 6 columns</p>\n",
       "</div>"
      ],
      "text/plain": [
       "                      channelId  upload_max  upload_min  upload_count  \\\n",
       "0      UCu9BCtGIEr73LXZsKmoujKw       365.0        10.0          60.0   \n",
       "1      UCRuSxVu4iqTK5kCh90ntAgA       365.0         6.0          89.0   \n",
       "2      UCMVC92EOs9yDJG5JS-CMesQ       150.0         1.0          84.0   \n",
       "3      UCkQCwnkQfgSuPTTnw_Y7v7w       365.0         3.0          89.0   \n",
       "4      UCaO6TYtlC8U5ttz62hTrZgg       240.0         0.0          80.0   \n",
       "...                         ...         ...         ...           ...   \n",
       "16923  UCw1DsweY9b2AKGjV4kGJP1A         9.0         0.0          90.0   \n",
       "16924  UCw1DsweY9b2AKGjV4kGJP1A         9.0         0.0          90.0   \n",
       "16925  UCLhgIX2L5ZCaWdlaxR_oTAg       240.0         1.0          82.0   \n",
       "16926  UCsXigGjbC_l4ttk-oahTfVg      1095.0        30.0          72.0   \n",
       "16927  UCEg25rdRZXg32iwai6N6l0w        13.0         0.0          54.0   \n",
       "\n",
       "       mean_period     category_name  \n",
       "0         5.916667     Entertainment  \n",
       "1         4.033708  Film & Animation  \n",
       "2         1.773810    People & Blogs  \n",
       "3         4.067416     Entertainment  \n",
       "4         3.000000             Music  \n",
       "...            ...               ...  \n",
       "16923     0.100000            Gaming  \n",
       "16924     0.100000            Gaming  \n",
       "16925     2.914634  Film & Animation  \n",
       "16926    14.791667             Music  \n",
       "16927     0.240741            Sports  \n",
       "\n",
       "[16928 rows x 6 columns]"
      ]
     },
     "execution_count": 29,
     "metadata": {},
     "output_type": "execute_result"
    }
   ],
   "source": [
    "number_frame = pd.merge(number_frame, trend_unique[['channelId', 'category_name']], left_on = 'channelId', right_on = 'channelId', how= 'right')\n",
    "number_frame"
   ]
  },
  {
   "cell_type": "code",
   "execution_count": 30,
   "metadata": {
    "id": "CgW57bfsLLMS"
   },
   "outputs": [
    {
     "data": {
      "text/plain": [
       "count    15439.000000\n",
       "mean         3.528153\n",
       "std          6.784721\n",
       "min          0.000000\n",
       "25%          0.714286\n",
       "50%          2.333333\n",
       "75%          4.102273\n",
       "max        342.500000\n",
       "Name: mean_period, dtype: float64"
      ]
     },
     "execution_count": 30,
     "metadata": {},
     "output_type": "execute_result"
    }
   ],
   "source": [
    "number_frame['mean_period'].describe()"
   ]
  },
  {
   "cell_type": "code",
   "execution_count": 31,
   "metadata": {
    "id": "2IUXE1PwKQtF"
   },
   "outputs": [
    {
     "data": {
      "image/png": "[encoded data removed]",
      "text/plain": [
       "<Figure size 1080x576 with 1 Axes>"
      ]
     },
     "metadata": {
      "needs_background": "light"
     },
     "output_type": "display_data"
    }
   ],
   "source": [
    "# 영상 업로드 간격 분포 확인하기\n",
    "\n",
    "plt.figure(figsize = (15,8))\n",
    "plt.hist(number_frame['mean_period'], bins= 40)\n",
    "plt.show()"
   ]
  },
  {
   "cell_type": "code",
   "execution_count": 32,
   "metadata": {
    "id": "y0qU8dAfW5n8"
   },
   "outputs": [
    {
     "data": {
      "image/png": "[encoded data removed]",
      "text/plain": [
       "<Figure size 1080x576 with 1 Axes>"
      ]
     },
     "metadata": {
      "needs_background": "light"
     },
     "output_type": "display_data"
    }
   ],
   "source": [
    "# 영역을 줄여보자\n",
    "plt.figure(figsize = (15,8))\n",
    "plt.hist(number_frame['mean_period'],  bins=100, range = (0, 100))\n",
    "# plt.title('트렌드 영상 채널의 평균 업로드 기간')\n",
    "plt.show()"
   ]
  },
  {
   "cell_type": "code",
   "execution_count": 36,
   "metadata": {
    "id": "4i6q64Fe1kkf"
   },
   "outputs": [
    {
     "data": {
      "image/png": "[encoded data removed]",
      "text/plain": [
       "<Figure size 648x72 with 1 Axes>"
      ]
     },
     "metadata": {
      "needs_background": "light"
     },
     "output_type": "display_data"
    }
   ],
   "source": [
    "custom_palette = sns.color_palette(\"dark:salmon_r\", 9)\n",
    "sns.palplot(custom_palette)"
   ]
  },
  {
   "cell_type": "code",
   "execution_count": 52,
   "metadata": {
    "id": "ySj3CiNfPnu_"
   },
   "outputs": [
    {
     "data": {
      "image/png": "[encoded data removed]",
      "text/plain": [
       "<Figure size 1800x576 with 1 Axes>"
      ]
     },
     "metadata": {
      "needs_background": "light"
     },
     "output_type": "display_data"
    }
   ],
   "source": [
    "# 카테고리별 영상 업로드 차이 보기\n",
    "plt.figure(figsize = (25,8))\n",
    "\n",
    "sns.barplot(data=number_frame, x = 'category_name', y = 'mean_period', palette='Reds')\n",
    "plt.axhline(y=2.3333, color='black', linestyle='solid')\n",
    "\n",
    "# plt.xticks(fontsize = 12) \n",
    "plt.title('카테고리별 영상 업로드 간격')\n",
    "plt.ylabel('업로드간격(일)')\n",
    "plt.xlabel('카테고리')\n",
    "sns.despine()\n",
    "plt.show()"
   ]
  }
 ],
 "metadata": {
  "colab": {
   "collapsed_sections": [],
   "name": "영상길이, 업로드 기간.ipynb",
   "private_outputs": true,
   "provenance": []
  },
  "kernelspec": {
   "display_name": "Python 3.9.12 ('base')",
   "language": "python",
   "name": "python3"
  },
  "language_info": {
   "codemirror_mode": {
    "name": "ipython",
    "version": 3
   },
   "file_extension": ".py",
   "mimetype": "text/x-python",
   "name": "python",
   "nbconvert_exporter": "python",
   "pygments_lexer": "ipython3",
   "version": "3.9.12"
  },
  "toc": {
   "base_numbering": 1,
   "nav_menu": {},
   "number_sections": true,
   "sideBar": true,
   "skip_h1_title": false,
   "title_cell": "Table of Contents",
   "title_sidebar": "Contents",
   "toc_cell": false,
   "toc_position": {},
   "toc_section_display": true,
   "toc_window_display": false
  },
  "vscode": {
   "interpreter": {
    "hash": "ad2bdc8ecc057115af97d19610ffacc2b4e99fae6737bb82f5d7fb13d2f2c186"
   }
  }
 },
 "nbformat": 4,
 "nbformat_minor": 1
}
