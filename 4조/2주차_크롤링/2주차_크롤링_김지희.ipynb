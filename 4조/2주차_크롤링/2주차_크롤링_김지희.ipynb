{
 "cells": [
  {
   "cell_type": "markdown",
   "metadata": {},
   "source": [
    "# 한 채널의 모든 동영상 이름, 재생시간, 날짜 크롤링하기\n",
    "셀레니움을 활용한 코드입니다.  \n",
    "jupyter notebook을 기준으로 하였습니다.  \n",
    "'##' 이렇게 되어 있는 부분들을 ##을 제외하고 채워주시면 됩니다.  \n",
    "빨간 색 오류...창은 계속 뜨지만... 그것이 사실 정답과 가까운 것들이지만... 무시해주세요!!!\n",
    "답을 도출하기까지 코드가 여러 줄일 수 있는데 제가 한 줄로 놔둔 건 그냥 여러 줄로 코딩하시면 됩니다!!!"
   ]
  },
  {
   "cell_type": "code",
   "execution_count": 3,
   "metadata": {},
   "outputs": [],
   "source": [
    "#셀레늄 라이브러리 불러오기\n",
    "from selenium import webdriver\n",
    "\n",
    "#셀레늄에서 html문서가 생성될 때까지 대기하는 함수 불러오기\n",
    "from selenium.webdriver.support.ui import WebDriverWait\n",
    "\n",
    "#셀레늄에서 조건을 걸어줄 수 있는 함수 불러오기\n",
    "from selenium.webdriver.support import expected_conditions as EC\n",
    "from selenium.webdriver.common.by import By"
   ]
  },
  {
   "cell_type": "code",
   "execution_count": 4,
   "metadata": {},
   "outputs": [
    {
     "name": "stderr",
     "output_type": "stream",
     "text": [
      "C:\\ProgramData\\Anaconda3\\envs\\Crawling\\lib\\site-packages\\ipykernel_launcher.py:3: DeprecationWarning: executable_path has been deprecated, please pass in a Service object\n",
      "  This is separate from the ipykernel package so we can avoid doing imports until\n"
     ]
    }
   ],
   "source": [
    "# 크롬드라이버 경로 설정\n",
    "##\n",
    "browser = webdriver.Chrome(r\"C:\\Users\\김지희\\Downloads\\chromedriver.exe\")\n",
    "\n",
    "#드라이버 객체 생성 # 새로운 창 띄워주세요!\n",
    "##"
   ]
  },
  {
   "cell_type": "code",
   "execution_count": 5,
   "metadata": {},
   "outputs": [],
   "source": [
    "# 필요한 함수들을 불러줍니다!\n",
    "import re\n",
    "import time\n",
    "from pandas import DataFrame\n",
    "import pandas as pd\n",
    "import numpy as np"
   ]
  },
  {
   "cell_type": "code",
   "execution_count": 6,
   "metadata": {},
   "outputs": [],
   "source": [
    "# 원래 우리가 가지고 있는 데이터를 가져옵니다.\n",
    "# unique한 것이 훨씬 용량이 작으니 youtube_unique_0717.csv로 가져와봅시다!!\n",
    "df = pd.read_csv('C:/Users/김지희/DSL/dataset/youtube_unique_0717.csv', lineterminator='\\n')"
   ]
  },
  {
   "cell_type": "code",
   "execution_count": 7,
   "metadata": {},
   "outputs": [
    {
     "data": {
      "text/plain": [
       "Index(['video_id', 'title', 'publishedAt', 'channelId', 'channelTitle',\n",
       "       'trending_date', 'tags', 'view_count', 'likes', 'dislikes',\n",
       "       'comment_count', 'description', 'category_name', 'tag_num', 'period',\n",
       "       'comments_disabled', 'ratings_disabled'],\n",
       "      dtype='object')"
      ]
     },
     "execution_count": 7,
     "metadata": {},
     "output_type": "execute_result"
    }
   ],
   "source": [
    "# 채널 아이디를 통해서 크롤링을 진행할 것입니다! df의 열을 모두 출력하여, 채널의 아이디 열 이름이 무엇인지 확인해보세요~\n",
    "df.columns"
   ]
  },
  {
   "cell_type": "code",
   "execution_count": 8,
   "metadata": {},
   "outputs": [
    {
     "data": {
      "text/plain": [
       "2858"
      ]
     },
     "execution_count": 8,
     "metadata": {},
     "output_type": "execute_result"
    }
   ],
   "source": [
    "# 채널 아이디의 고유한 값이 몇 개인지 확인해보세요!\n",
    "len(df['channelId'].unique())"
   ]
  },
  {
   "cell_type": "code",
   "execution_count": 9,
   "metadata": {},
   "outputs": [],
   "source": [
    "# 채널 아이디의 고유한 값을 channel_unique 변수로 저장해주세요!\n",
    "channel_unique = df['channelId'].unique()"
   ]
  },
  {
   "cell_type": "code",
   "execution_count": 10,
   "metadata": {},
   "outputs": [],
   "source": [
    "# 채널에 대해서 일단 긁어오는 거니까 용량을 많이 차지하는 df는 없애줍시다!!!\n",
    "## ??? df 를 없애라는 의미를 모르겠어요\n",
    "df = 0"
   ]
  },
  {
   "cell_type": "markdown",
   "metadata": {},
   "source": [
    "여기부터 하나하나씩 따라오면서 해주시면 됩니다! 일단 저희의 데이터셋에 가장 먼저 나오는 채널이 보겸TV이니 보겸TV부터 해보아요. (즉 channel_unique[0]은 보겸TV 의 채널 Id 입니다.)"
   ]
  },
  {
   "cell_type": "code",
   "execution_count": 120,
   "metadata": {},
   "outputs": [],
   "source": [
    "# 보겸TV 채널의 동영상 목록으로 들어가야 합니다!\n",
    "# 유튜브에서의 채널의 동영상 목록은'https://www.youtube.com/channel/채널Id/videos' 를 치면 접속가능합니다.\n",
    "# 새로 띄운 창에 보겸TV 채널의 '동영상'이 보이도록 접속해보세요!\n",
    "# 추천 : 직접 채널Id를 링크 속에 넣어도 좋지만, 문자열 포맷팅을 활용해도 좋겠죠??\n",
    "\n",
    "## \n",
    "# 유튜브 주소 입력\n",
    "i = 0\n",
    "browser.get('https://www.youtube.com/channel/'+channel_unique[i]+'/videos')"
   ]
  },
  {
   "cell_type": "code",
   "execution_count": 148,
   "metadata": {},
   "outputs": [],
   "source": [
    "# 보겸 TV에 들어오셨나요? 보아하니 몇 달 안 올리다가 며칠 전에 올라온 것(최신순으로 첫번째 영상 제목 '.')이 보이네요.\n",
    "# 이 영상을 일단 파보겠습니다.\n",
    "# 4분 58초짜리네요~ 이걸 크롤링을 통해서 직접 가져와볼까요?\n",
    "# 유튜브는 워낙 복잡해서 xpath로 찾는 것이 그래도 빠를 거예요!\n",
    "# 개발자 도구를 켜서 4:58에 있는 xpath를 찾아보세요. \n",
    "# xpath를 통해 요소들을 찾고, 그 안에서 text를 추출해보세요! 추출한 값은 'timelen'으로 저장해주세요.\n",
    "\n",
    "# timelen = browser.find_element(by = By.XPATH, value='//*[@id=\"text\"]').text\n",
    "timelen = browser.find_element(by = By.XPATH, value='/html/body/ytd-app/div[1]/ytd-page-manager/ytd-browse/ytd-two-column-browse-results-renderer/div[1]/ytd-section-list-renderer/div[2]/ytd-item-section-renderer/div[3]/ytd-grid-renderer/div[1]/ytd-grid-video-renderer[1]/div[1]/ytd-thumbnail/a/div[1]/ytd-thumbnail-overlay-time-status-renderer/span').text"
   ]
  },
  {
   "cell_type": "code",
   "execution_count": 149,
   "metadata": {},
   "outputs": [
    {
     "data": {
      "text/plain": [
       "'4:58'"
      ]
     },
     "execution_count": 149,
     "metadata": {},
     "output_type": "execute_result"
    }
   ],
   "source": [
    "# 출력하면 아래와 같이 나와야 합니다!\n",
    "timelen"
   ]
  },
  {
   "cell_type": "code",
   "execution_count": 150,
   "metadata": {},
   "outputs": [
    {
     "data": {
      "text/plain": [
       "'7일 전'"
      ]
     },
     "execution_count": 150,
     "metadata": {},
     "output_type": "execute_result"
    }
   ],
   "source": [
    "# 언제 이 영상이 업로드 되었는지도 궁금해요.\n",
    "# 위에서 한 것과 같이 며칠 전에 업로드되었는지 출력해보세요!\n",
    "\n",
    "when = browser.find_element(by = By.XPATH, value='/html/body/ytd-app/div[1]/ytd-page-manager/ytd-browse/ytd-two-column-browse-results-renderer/div[1]/ytd-section-list-renderer/div[2]/ytd-item-section-renderer/div[3]/ytd-grid-renderer/div[1]/ytd-grid-video-renderer[1]/div[1]/div[1]/div[1]/div/div[1]/div[2]/span[2]')\n",
    "when.text"
   ]
  },
  {
   "cell_type": "code",
   "execution_count": 151,
   "metadata": {},
   "outputs": [
    {
     "data": {
      "text/plain": [
       "'.'"
      ]
     },
     "execution_count": 151,
     "metadata": {},
     "output_type": "execute_result"
    }
   ],
   "source": [
    "# 그런데 전체적으로 보니까 n일 전, n개월 전 이런 식으로밖에 뜨지 않네요 ㅠㅠ\n",
    "# 유튜브는 7/21 아침 10시 기준 2일 전이, 7/18 일 수도 있고, 7/19 일 수도 있어서 이렇게 보면 정확히 언제 올라왔는지 확인을 할 수 없어요 ㅠㅠ\n",
    "# 그를 위한 작업을 시작해보겠습니다! (당장 해결되지는 않습니다.)\n",
    "# '.' 이 영상의 title이라는 걸 저희는 눈으로 봐서 알지만 이를 직접 또 출력해보아요.\n",
    "# hint : 개발자 도구로 열심히 찾다보면 title이라는 속성을 가지고 있는 class가 있음을 확인할 수 있습니다. \n",
    "# class, xpath 어떤 방식으로든 title이라는 속성을 데려와서 'title'이라는 새로운 변수에 저장해주세요\n",
    "\n",
    "# A) 제 생각으로는 24시간이 지나면, 하루가 되는 것 아닐까요??? 시간이 1시간, 2시간 이렇게 늘어나다가 23시간 다음이 하루로 취급되는 식으로요!\n",
    "\n",
    "# 일단은 XPATH로 진행\n",
    "# title = browser.find_elements(by = By.XPATH, value = '/html/body/ytd-app/div[1]/ytd-page-manager/ytd-browse/ytd-two-column-browse-results-renderer/div[1]/ytd-section-list-renderer/div[2]/ytd-item-section-renderer/div[3]/ytd-grid-renderer/div[1]/ytd-grid-video-renderer[2]/div[1]/div[1]/div[1]/h3/a').text\n",
    "# print(title)\n",
    "\n",
    "# 클래스로 진행하는 방법도 익히기\n",
    "info = browser.find_element(by = By.XPATH, value = '/html/body/ytd-app/div[1]/ytd-page-manager/ytd-browse/ytd-two-column-browse-results-renderer/div[1]/ytd-section-list-renderer/div[2]/ytd-item-section-renderer/div[3]/ytd-grid-renderer/div[1]/ytd-grid-video-renderer[1]/div[1]/div[1]/div[1]/h3/a')\n",
    "title = info.get_attribute(\"title\") # 특정 attribute(속성)만 가져오고 싶을 때\n",
    "title"
   ]
  },
  {
   "cell_type": "markdown",
   "metadata": {},
   "source": [
    "/html/body/ytd-app/div[1]/ytd-page-manager/ytd-browse/ytd-two-column-browse-results-renderer/div[1]/ytd-section-list-renderer/div[2]/ytd-item-section-renderer/div[3]/ytd-grid-renderer/div[1]/**ytd-grid-video-renderer[2]**/div[1]/div[1]/div[1]/h3/a  \n",
    "\n",
    "title의 경우 **강조**한 부분만 다름 => 여기가 [1], [2], [3], ... 되면서 업로드 순으로 타이틀 부분 진행됨"
   ]
  },
  {
   "cell_type": "code",
   "execution_count": 152,
   "metadata": {},
   "outputs": [
    {
     "data": {
      "text/plain": [
       "'https://www.youtube.com/watch?v=u6lyUnhaaqk'"
      ]
     },
     "execution_count": 152,
     "metadata": {},
     "output_type": "execute_result"
    }
   ],
   "source": [
    "# title이라는 속성을 가지고 있는 class에 href라는 속성도 있는 것 보이시나요?\n",
    "# href는 이 영상의 링크를 담고 있는 것을 보실 수 있는데요,\n",
    "# 위에서 title이라는 속성을 데려온 것처럼, 여기는 href라는 속성을 가져와서 'link'라는 새로운 변수에 저장해주세요!\n",
    "\n",
    "info= browser.find_element(by = By.XPATH, value = '/html/body/ytd-app/div[1]/ytd-page-manager/ytd-browse/ytd-two-column-browse-results-renderer/div[1]/ytd-section-list-renderer/div[2]/ytd-item-section-renderer/div[3]/ytd-grid-renderer/div[1]/ytd-grid-video-renderer[1]/div[1]/div[1]/div[1]/h3/a')\n",
    "link = info.get_attribute('href')\n",
    "link"
   ]
  },
  {
   "cell_type": "code",
   "execution_count": 153,
   "metadata": {},
   "outputs": [
    {
     "data": {
      "text/plain": [
       "'u6lyUnhaaqk'"
      ]
     },
     "execution_count": 153,
     "metadata": {},
     "output_type": "execute_result"
    }
   ],
   "source": [
    "# 또한 이 link가 'https://www.youtube.com/watch?v=비디오id' 형태임도 볼 수 있죠!\n",
    "# 기존의 df에도 비디오id가 있으니, 혹시 모를 날을 대비하여 link에서 인덱싱을 통해 'videoid'라는 새로운 변수에 넣어봅시다. \n",
    "id_index = link.find('=')\n",
    "videoid = link[id_index+1:] # 위 코드와 합쳐 하나로 만들어도 될 듯\n",
    "\n",
    "## videoid\n",
    "videoid"
   ]
  },
  {
   "cell_type": "code",
   "execution_count": 154,
   "metadata": {},
   "outputs": [],
   "source": [
    "# 찾은 이 링크를 타고 들어가면 정확히 몇 월 며칠에 영상이 업로드되었는지 볼 수 있습니다.\n",
    "# 이 링크로 기존의 창이 아닌, '새로운 창'을 띄울 것입니다!\n",
    "# https://yekim0808.tistory.com/58 참고하셔도 좋고 직접 구글링 해보셔도 좋습니다!\n",
    "# 기존의 창 말고 새로운 창으로 전환시켜주세요~\n",
    "\n",
    "browser.execute_script('window.open(\"\");')  #구글 창 새 탭으로 열기\n",
    "time.sleep(1)\n",
    "\n",
    "browser.switch_to.window(browser.window_handles[-1])  #새로 연 탭으로 이동\n",
    "# browser.get(link)\n",
    "# time.sleep(3)\n",
    "# browser.close()  #링크 이동 후 탭 닫기\n",
    "# browser.switch_to.window(browser.window_handles[-1])  #다시 이전 창(탭)으로 이동\n",
    "# time.sleep(1)\n"
   ]
  },
  {
   "cell_type": "code",
   "execution_count": 155,
   "metadata": {},
   "outputs": [],
   "source": [
    "# 새로운 창에서 이제 link에 접속해주세요!\n",
    "\n",
    "browser.get(link)\n",
    "time.sleep(3)"
   ]
  },
  {
   "cell_type": "code",
   "execution_count": 156,
   "metadata": {},
   "outputs": [
    {
     "data": {
      "text/plain": [
       "'2022. 7. 15.'"
      ]
     },
     "execution_count": 156,
     "metadata": {},
     "output_type": "execute_result"
    }
   ],
   "source": [
    "# 정확한 날짜가 보입니다! 그동안 계속 text 추출했던 것처럼, 추출해서 'timewhen'이라는 변수에 저장해주세요!\n",
    "\n",
    "timewhen = browser.find_element(by = By.XPATH, value = '//*[@id=\"info-strings\"]/yt-formatted-string')\n",
    "timewhen = timewhen.text\n",
    "\n",
    "timewhen"
   ]
  },
  {
   "cell_type": "code",
   "execution_count": 157,
   "metadata": {},
   "outputs": [],
   "source": [
    "# (필요하면 여기서 조회수도 긁어올 수 있으나 일단 생략했습니다.)\n",
    "# 필요한 걸 긁어왔으니 새로운 창은 닫아주고, 다시 원래의 창(보겸TV 재생목록 창)으로 돌아가주세요!\n",
    "\n",
    "browser.close()  #링크 이동 후 탭 닫기\n",
    "browser.switch_to.window(browser.window_handles[-1])  #다시 이전 창(탭)으로 이동\n",
    "time.sleep(1)\n",
    "##"
   ]
  },
  {
   "cell_type": "code",
   "execution_count": 160,
   "metadata": {},
   "outputs": [],
   "source": [
    "# 이렇게 한 영상에 대해서 재생시간, 링크, 날짜를 긁어와봤습니다!\n",
    "# 이번엔 한 셀 안에서 두 번째 영상 '판결 나왔습니다'의 모든 것을 긁어와볼까요? 그리고 원래의 보겸TV 재생목록 창만 남아있도록 해주세요!\n",
    "# 그동안은 여러 셀을 거쳐서 진행했다 보니 로딩 속도가 문제가 되지 않았는데, 이제 로딩 속도가 문제가 될 수 있습니다.\n",
    "# hint : time.sleep()\n",
    "# hint : xpath의 구조를 잘 파악해보세요~ 어디를 바꾸어야 두번째 영상의 정보들을 데려올 수 있는지 잘 확인해주세요!\n",
    "# ytd-grid-video-renderer[1] 부분만 달라지고 있음\n",
    "\n",
    "timelen = browser.find_element(by = By.XPATH, value = \"/html/body/ytd-app/div[1]/ytd-page-manager/ytd-browse/ytd-two-column-browse-results-renderer/div[1]/ytd-section-list-renderer/div[2]/ytd-item-section-renderer/div[3]/ytd-grid-renderer/div[1]/ytd-grid-video-renderer[2]/div[1]/ytd-thumbnail/a/div[1]/ytd-thumbnail-overlay-time-status-renderer/span\")\n",
    "timelen = timelen.text\n",
    "time.sleep(1)\n",
    "\n",
    "\n",
    "info= browser.find_element(by = By.XPATH, value = '/html/body/ytd-app/div[1]/ytd-page-manager/ytd-browse/ytd-two-column-browse-results-renderer/div[1]/ytd-section-list-renderer/div[2]/ytd-item-section-renderer/div[3]/ytd-grid-renderer/div[1]/ytd-grid-video-renderer[2]/div[1]/div[1]/div[1]/h3/a')\n",
    "time.sleep(1)\n",
    "\n",
    "title = info.get_attribute('title')\n",
    "time.sleep(1)\n",
    "link = info.get_attribute('href')\n",
    "time.sleep(1)\n",
    "videoid = link[32:]\n",
    "\n",
    "\n",
    "\n",
    "# 구글창 새 탭으로 바꾸어 날짜까지 데려와보아요!\n",
    "\n",
    "browser.execute_script('window.open(\"\");')\n",
    "time.sleep(3)\n",
    "\n",
    "browser.switch_to.window(browser.window_handles[-1])  #새로 연 탭으로 이동\n",
    "browser.get(link)\n",
    "time.sleep(5)\n",
    "\n",
    "# timewhen의 XPATH는 동일함 => 반복문 시 수정할 필요 없음\n",
    "timewhen = browser.find_element(by = By.XPATH, value ='//*[@id=\"info-strings\"]/yt-formatted-string')\n",
    "timewhen = timewhen.text\n",
    "time.sleep(1)\n",
    "        \n",
    "# 새 탭을 닫아주고 다시 본래의 탭으로 돌아가주세요      \n",
    "\n",
    "browser.close()  #링크 이동 후 탭 닫기\n",
    "browser.switch_to.window(browser.window_handles[-1])  #다시 이전 창(탭)으로 이동\n",
    "time.sleep(3)\n"
   ]
  },
  {
   "cell_type": "code",
   "execution_count": 146,
   "metadata": {},
   "outputs": [],
   "source": [
    "# 새 탭을 닫아주고 다시 본래의 탭으로 돌아가주세요      \n",
    "\n",
    "browser.close()  #링크 이동 후 탭 닫기\n",
    "browser.switch_to.window(browser.window_handles[-1])  #다시 이전 창(탭)으로 이동\n",
    "time.sleep(1)"
   ]
  },
  {
   "cell_type": "code",
   "execution_count": 159,
   "metadata": {},
   "outputs": [
    {
     "name": "stdout",
     "output_type": "stream",
     "text": [
      "_LpMHqmScuk\n",
      "판결 나왔습니다\n",
      "10:45\n",
      "2021. 11. 7.\n"
     ]
    }
   ],
   "source": [
    "# 출력했을 때 아래와 같이 나와야 합니다!\n",
    "print(videoid)\n",
    "print(title)\n",
    "print(timelen)\n",
    "print(timewhen)"
   ]
  },
  {
   "cell_type": "markdown",
   "metadata": {},
   "source": [
    "하나의 영상에 대해서 정보들을 가져오는 방법을 확인해보았습니다!!!  \n",
    "채널 자체의 구독자수가 궁금하지 않으신가요?"
   ]
  },
  {
   "cell_type": "code",
   "execution_count": 161,
   "metadata": {},
   "outputs": [
    {
     "data": {
      "text/plain": [
       "'보겸TV\\n구독자 323만명'"
      ]
     },
     "execution_count": 161,
     "metadata": {},
     "output_type": "execute_result"
    }
   ],
   "source": [
    "# 원래 창으로 돌아온 것이 보입니다!\n",
    "# 개발자도구를 통해서 또 요소를 찾아서 추출해보아요.\n",
    "# 아마 그 숫자 그대로 출력하기는 어려울 것입니다!!!!\n",
    "# 채널이름\\n구독자 ~~명 이런 형태로 나올 것이에요.\n",
    "name = browser.find_element(by= By.XPATH, value = '/html/body/ytd-app/div[1]/ytd-page-manager/ytd-browse/div[3]/ytd-c4-tabbed-header-renderer/tp-yt-app-header-layout/div/tp-yt-app-header/div[2]/div[2]/div/div[1]/div/div[1]')\n",
    "name.text\n",
    "##"
   ]
  },
  {
   "cell_type": "markdown",
   "metadata": {},
   "source": [
    "이제 한 채널에 대해 모든 영상에 대한 정보를 긁어올 예정입니다.  \n",
    "보겸TV는 영상이 거의 3천개라서... 보겸TV 말고 두 번째 채널로 해볼 예정입니다.  \n",
    "그런데 보시다시피, 스크롤 아래로 내리지 않은 부분들은 개발자도구에도 나타나지 않습니다.  \n",
    "따라서 스크롤을 가장 아래로 내려주어야 합니다!"
   ]
  },
  {
   "cell_type": "code",
   "execution_count": 226,
   "metadata": {},
   "outputs": [],
   "source": [
    "# 아래의 함수는 스크롤을 가장 최하단까지 내려주는 스크롤입니다.\n",
    "# 저희의 목표는 한 채널의 모든 동영상의 정보를 다 가져오는 것이기에, 스크롤을 내려야만 그 정보들을 가져올 수 있습니다!\n",
    "# https://heytech.tistory.com/325 참고하였습니다.\n",
    "# 이 셀은 그냥 실행시켜주시면 됩니다! 맥락만 이해해주세요.\n",
    "\n",
    "\n",
    "def scroll():\n",
    "    try:        \n",
    "        # 페이지 내 스크롤 높이 받아오기\n",
    "        last_page_height = browser.execute_script(\"return document.documentElement.scrollHeight\")\n",
    "        while True:\n",
    "            # 임의의 페이지 로딩 시간 설정\n",
    "            # PC환경에 따라 로딩시간 최적화를 통해 scraping 시간 단축 가능\n",
    "            pause_time = 3\n",
    "            # 페이지 최하단까지 스크롤\n",
    "            browser.execute_script(\"window.scrollTo(0, document.documentElement.scrollHeight);\")\n",
    "            # 페이지 로딩 대기\n",
    "            time.sleep(pause_time)\n",
    "            # 무한 스크롤 동작을 위해 살짝 위로 스크롤(i.e., 페이지를 위로 올렸다가 내리는 제스쳐)\n",
    "            browser.execute_script(\"window.scrollTo(0, document.documentElement.scrollHeight-50)\")\n",
    "            time.sleep(pause_time)\n",
    "            # 페이지 내 스크롤 높이 새롭게 받아오기\n",
    "            new_page_height = browser.execute_script(\"return document.documentElement.scrollHeight\")\n",
    "            # 스크롤을 완료한 경우(더이상 페이지 높이 변화가 없는 경우)\n",
    "            if new_page_height == last_page_height:\n",
    "                print(\"스크롤 완료\")\n",
    "                break\n",
    "                \n",
    "            # 스크롤 완료하지 않은 경우, 최하단까지 스크롤\n",
    "            else:\n",
    "                last_page_height = new_page_height\n",
    "            \n",
    "    except Exception as e:\n",
    "        print(\"에러 발생: \", e)"
   ]
  },
  {
   "cell_type": "markdown",
   "metadata": {},
   "source": [
    "이것은 위에 내용을 가지고 반복문을 돌리기 전에, 알아야 하는 예외입니다.  \n",
    "shorts 같은 경우는\n",
    "https://www.youtube.com/watch?v='video_id' 형태가 아닌,  \n",
    "https://www.youtube.com/shorts/'video_id'  형태로 href가 존재하며, 이 링크로 들어간 경우 그 업로드 날짜를 데려올 수 없습니다.  \n",
    "아래 부분은 추가적 작업 없이 그냥 실행해주시면 됩니다!"
   ]
  },
  {
   "cell_type": "code",
   "execution_count": 163,
   "metadata": {},
   "outputs": [],
   "source": [
    "link = 'https://www.youtube.com/shorts/j-RFc2nt9Lk'"
   ]
  },
  {
   "cell_type": "code",
   "execution_count": 164,
   "metadata": {},
   "outputs": [
    {
     "data": {
      "text/plain": [
       "'j-RFc2nt9Lk'"
      ]
     },
     "execution_count": 164,
     "metadata": {},
     "output_type": "execute_result"
    }
   ],
   "source": [
    "# 또한 위에서 link[32:]로 videoid를 가져온 것과는 다르게, link[31:]로 데려와야 합니다.\n",
    "videoid = link[31:]\n",
    "videoid"
   ]
  },
  {
   "cell_type": "code",
   "execution_count": 165,
   "metadata": {},
   "outputs": [
    {
     "data": {
      "text/plain": [
       "'https://www.youtube.com/watch?v=j-RFc2nt9Lk'"
      ]
     },
     "execution_count": 165,
     "metadata": {},
     "output_type": "execute_result"
    }
   ],
   "source": [
    "# 아래와 같은 형태로 존재해야 날짜를 데려올 수 있습니다.\n",
    "link = link.replace(\"shorts/\", \"watch?v=\")\n",
    "link"
   ]
  },
  {
   "cell_type": "markdown",
   "metadata": {},
   "source": [
    "이제 정말 반복문을 짜 보아요. 두번째 채널인 총몇명의 리스트를 데려오겠습니다.\n",
    "(375개 데려오는데 1시간30분정도 걸리는...ㅎㅎ....)  \n",
    "아래부터는 ## 부분 다시 채워주시면 됩니다!"
   ]
  },
  {
   "cell_type": "code",
   "execution_count": 227,
   "metadata": {},
   "outputs": [
    {
     "name": "stdout",
     "output_type": "stream",
     "text": [
      "스크롤 완료\n",
      "0개의 영상 정보를 크롤링했습니다.\n"
     ]
    }
   ],
   "source": [
    "# 두번째 채널의 동영상 목록으로 들어가주세요!\n",
    "i = 10\n",
    "browser.get('https://www.youtube.com/channel/'+channel_unique[i]+'/videos')\n",
    "\n",
    "# 스크롤 함수를 아래에 적어주세요\n",
    "scroll()\n",
    "\n",
    "\n",
    "# while문을 사용할 예정입니다. (inside는 bool 자료형으로 만들 것이고, 이를 통해 반복문을 탈출할 것입니다.)\n",
    "# 그 이유는, 저희는 한 채널의 동영상이 총 몇 개인지 모르기 때문입니다.\n",
    "# 따라서, 더 찾을 동영상이 없을 때 반복문을 깨고 나올 것입니다.\n",
    "inside = True\n",
    "\n",
    "\n",
    "# t는, 보겸TV에서 t번째 영상을 의미합니다.\n",
    "# '.'이 첫번째 영상 이름이고 '판결 나왔습니다'가 두번째 영상이름인 것처럼요!\n",
    "t= 0\n",
    "\n",
    "# 아래의 리스트에 재생시간, 동영상제목, videoid, 업로드된날짜 네 가지를 차곡차곡 append를 통해 넣겠습니다.\n",
    "timelenlist = []\n",
    "titlelist = []\n",
    "videoidlist = []\n",
    "timewhenlist = []\n",
    "\n",
    "# 드디어 반복문 안으로 들어왔습니다!\n",
    "while(inside):\n",
    "    # 반복할 때마다 바로 다음 동영상의 정보를 찾아야겠지요? (첫번째 동영상을 긁은 뒤는 두 번째 동영상을 긁는 것)\n",
    "    t=t+1\n",
    "    \n",
    "    # 더 찾을 동영상이 없을 때 반복문을 깨고 나올 것인데요, 오류 발생으로 멈추는 것을 방지하기 위해 try except 문을 사용해보겠습니다.\n",
    "    try:\n",
    "        time.sleep(2) #로딩 시간 고려해서 넣어놓았습니다. 더 빨리 로딩되는 경우 숫자를 줄여보세요!\n",
    "        \n",
    "        timelen = browser.find_element(by = By.XPATH, value = '/html/body/ytd-app/div[1]/ytd-page-manager/ytd-browse/ytd-two-column-browse-results-renderer/div[1]/ytd-section-list-renderer/div[2]/ytd-item-section-renderer/div[3]/ytd-grid-renderer/div[1]/ytd-grid-video-renderer['+str(t)+']/div[1]/ytd-thumbnail/a/div[1]/ytd-thumbnail-overlay-time-status-renderer/span').text\n",
    "        \n",
    "        info= browser.find_element(by = By.XPATH, value = '/html/body/ytd-app/div[1]/ytd-page-manager/ytd-browse/ytd-two-column-browse-results-renderer/div[1]/ytd-section-list-renderer/div[2]/ytd-item-section-renderer/div[3]/ytd-grid-renderer/div[1]/ytd-grid-video-renderer['+ str(t) +']/div[1]/div[1]/div[1]/h3/a')\n",
    "\n",
    "        title = info.get_attribute('title')\n",
    "        link = info.get_attribute('href')\n",
    "        \n",
    "        # 위에서 언급한 것처럼, if문을 통해 link 변수에 'shorts/'가 들어간 경우, 그렇지 않은 경우를 처리해주세요.\n",
    "        ##\n",
    "        if \"shorts/\" in link:\n",
    "            link = link.replace(\"shorts/\", \"watch?v=\")\n",
    "        \n",
    "        videoid = link[link.find('=')+1:]\n",
    "            \n",
    "        # 새 탭을 열고, 업로드된 날짜까지 데려와주세요!\n",
    "        ##\n",
    "        \n",
    "        browser.execute_script('window.open(\"\");')\n",
    "        time.sleep(3)\n",
    "\n",
    "        browser.switch_to.window(browser.window_handles[-1])  #새로 연 탭으로 이동\n",
    "        browser.get(link)\n",
    "        time.sleep(5)\n",
    "\n",
    "        # timewhen의 XPATH는 동일함 => 반복문 시 수정할 필요 없음\n",
    "        timewhen = browser.find_element(by = By.XPATH, value ='//*[@id=\"info-strings\"]/yt-formatted-string').text\n",
    "        time.sleep(1)\n",
    "\n",
    "        # 탭을 닫아주시고, 다시 이전 탭으로 돌아와주세요.\n",
    "        browser.close()  #링크 이동 후 탭 닫기\n",
    "        browser.switch_to.window(browser.window_handles[-1])  #다시 이전 창(탭)으로 이동\n",
    "        time.sleep(3)\n",
    "        \n",
    "        #여기서 모인 4가지 정보를 모두 리스트에 append합니다. 이 리스트는 반복문을 탈출한 뒤 dataframe으로 만들어질 것입니다.\n",
    "        timelenlist.append(timelen)\n",
    "        titlelist.append(title)\n",
    "        videoidlist.append(videoid)\n",
    "        timewhenlist.append(timewhen)\n",
    "            \n",
    "    except:\n",
    "        # try를 거쳐서 안 된 경우에 except로 오므로, t개가 아니라 t-1개의 영상 정보가 크롤링되어 있을 것입니다.\n",
    "        # 하핫 .. 아마 375개가 나올 거예요 저는 t라고 하고 돌려버리고 나중에야 문제를 깨달았습니다.ㅎㅎ\n",
    "        print('%d개의 영상 정보를 크롤링했습니다.'%(t-1))\n",
    "        inside=False\n",
    "            \n",
    "# one이라는 dataframe에 'time' 열은 timelenlist로, 'title'열은 titlelist로,'video_id'열은 videoidlist, 'when'열은 timewhenlist로 만들어주세요.\n",
    "one = pd.DataFrame({'time':timelenlist, 'title':titlelist, 'video_id':videoidlist, 'when':timewhenlist}) #괄호 안을 채워주세용!\n",
    "#one에 'channelId' 열을 추가할 것인데요, 모든 행에 대해 같은 channelId가 들어가도록 작성해주세요.\n",
    "# hint : 저희는 이미 channelId를 알고 있습니다\n",
    "one['channelId'] = channel_unique[i]\n",
    "              \n",
    "# 구독자수도 한 번 채워볼까요? 'subscriber'이라는 열에 위에서 구독자수를 데려온 것처럼 데려와보아요.\n",
    "# 구독자수만 남기는 전처리는 나중에... ㅠㅠ 같이 해봐요..\n",
    "one['subscriber'] = browser.find_element(by= By.XPATH, value = '/html/body/ytd-app/div[1]/ytd-page-manager/ytd-browse/div[3]/ytd-c4-tabbed-header-renderer/tp-yt-app-header-layout/div/tp-yt-app-header/div[2]/div[2]/div/div[1]/div/div[1]').text\n"
   ]
  },
  {
   "cell_type": "code",
   "execution_count": 2,
   "metadata": {},
   "outputs": [
    {
     "ename": "NameError",
     "evalue": "name 'browser' is not defined",
     "output_type": "error",
     "traceback": [
      "\u001b[1;31m---------------------------------------------------------------------------\u001b[0m",
      "\u001b[1;31mNameError\u001b[0m                                 Traceback (most recent call last)",
      "\u001b[1;32mC:\\Temp\\ipykernel_10884\\3269684060.py\u001b[0m in \u001b[0;36m<module>\u001b[1;34m\u001b[0m\n\u001b[0;32m      1\u001b[0m \u001b[0mi\u001b[0m \u001b[1;33m=\u001b[0m \u001b[1;36m5\u001b[0m\u001b[1;33m\u001b[0m\u001b[1;33m\u001b[0m\u001b[0m\n\u001b[1;32m----> 2\u001b[1;33m \u001b[0mbrowser\u001b[0m\u001b[1;33m.\u001b[0m\u001b[0mget\u001b[0m\u001b[1;33m(\u001b[0m\u001b[1;34m'https://www.youtube.com/channel/'\u001b[0m\u001b[1;33m+\u001b[0m\u001b[0mchannel_unique\u001b[0m\u001b[1;33m[\u001b[0m\u001b[0mi\u001b[0m\u001b[1;33m]\u001b[0m\u001b[1;33m+\u001b[0m\u001b[1;34m'/videos'\u001b[0m\u001b[1;33m)\u001b[0m\u001b[1;33m\u001b[0m\u001b[1;33m\u001b[0m\u001b[0m\n\u001b[0m\u001b[0;32m      3\u001b[0m \u001b[1;33m\u001b[0m\u001b[0m\n\u001b[0;32m      4\u001b[0m \u001b[1;31m# 스크롤 함수를 아래에 적어주세요\u001b[0m\u001b[1;33m\u001b[0m\u001b[1;33m\u001b[0m\u001b[1;33m\u001b[0m\u001b[0m\n\u001b[0;32m      5\u001b[0m \u001b[0mscroll\u001b[0m\u001b[1;33m(\u001b[0m\u001b[1;33m)\u001b[0m\u001b[1;33m\u001b[0m\u001b[1;33m\u001b[0m\u001b[0m\n",
      "\u001b[1;31mNameError\u001b[0m: name 'browser' is not defined"
     ]
    }
   ],
   "source": [
    "i = 5\n",
    "browser.get('https://www.youtube.com/channel/'+channel_unique[i]+'/videos')\n",
    "\n",
    "# 스크롤 함수를 아래에 적어주세요\n",
    "scroll()\n",
    "\n",
    "\n",
    "# while문을 사용할 예정입니다. (inside는 bool 자료형으로 만들 것이고, 이를 통해 반복문을 탈출할 것입니다.)\n",
    "# 그 이유는, 저희는 한 채널의 동영상이 총 몇 개인지 모르기 때문입니다.\n",
    "# 따라서, 더 찾을 동영상이 없을 때 반복문을 깨고 나올 것입니다.\n",
    "inside = True\n",
    "\n",
    "\n",
    "# t는, 보겸TV에서 t번째 영상을 의미합니다.\n",
    "# '.'이 첫번째 영상 이름이고 '판결 나왔습니다'가 두번째 영상이름인 것처럼요!\n",
    "t= 0\n",
    "\n",
    "# 아래의 리스트에 재생시간, 동영상제목, videoid, 업로드된날짜 네 가지를 차곡차곡 append를 통해 넣겠습니다.\n",
    "timelenlist = []\n",
    "titlelist = []\n",
    "videoidlist = []\n",
    "# timewhenlist = []\n",
    "\n",
    "# 드디어 반복문 안으로 들어왔습니다!\n",
    "while(inside):\n",
    "    # 반복할 때마다 바로 다음 동영상의 정보를 찾아야겠지요? (첫번째 동영상을 긁은 뒤는 두 번째 동영상을 긁는 것)\n",
    "    t=t+1\n",
    "    \n",
    "    # 더 찾을 동영상이 없을 때 반복문을 깨고 나올 것인데요, 오류 발생으로 멈추는 것을 방지하기 위해 try except 문을 사용해보겠습니다.\n",
    "    try:\n",
    "        time.sleep(2) #로딩 시간 고려해서 넣어놓았습니다. 더 빨리 로딩되는 경우 숫자를 줄여보세요!\n",
    "        \n",
    "        timelen = browser.find_element(by = By.XPATH, value = '/html/body/ytd-app/div[1]/ytd-page-manager/ytd-browse/ytd-two-column-browse-results-renderer/div[1]/ytd-section-list-renderer/div[2]/ytd-item-section-renderer/div[3]/ytd-grid-renderer/div[1]/ytd-grid-video-renderer['+str(t)+']/div[1]/ytd-thumbnail/a/div[1]/ytd-thumbnail-overlay-time-status-renderer/span').text\n",
    "        \n",
    "        info= browser.find_element(by = By.XPATH, value = '/html/body/ytd-app/div[1]/ytd-page-manager/ytd-browse/ytd-two-column-browse-results-renderer/div[1]/ytd-section-list-renderer/div[2]/ytd-item-section-renderer/div[3]/ytd-grid-renderer/div[1]/ytd-grid-video-renderer['+ str(t) +']/div[1]/div[1]/div[1]/h3/a')\n",
    "\n",
    "        title = info.get_attribute('title')\n",
    "        link = info.get_attribute('href')\n",
    "        \n",
    "        # 위에서 언급한 것처럼, if문을 통해 link 변수에 'shorts/'가 들어간 경우, 그렇지 않은 경우를 처리해주세요.\n",
    "        ##\n",
    "        if \"shorts/\" in link:\n",
    "            link = link.replace(\"shorts/\", \"watch?v=\")\n",
    "        \n",
    "        videoid = link[link.find('=')+1:]\n",
    "        \n",
    "        #여기서 모인 4가지 정보를 모두 리스트에 append합니다. 이 리스트는 반복문을 탈출한 뒤 dataframe으로 만들어질 것입니다.\n",
    "        timelenlist.append(timelen)\n",
    "        titlelist.append(title)\n",
    "        videoidlist.append(videoid)\n",
    "        timewhenlist.append(timewhen)\n",
    "            \n",
    "    except:\n",
    "        # try를 거쳐서 안 된 경우에 except로 오므로, t개가 아니라 t-1개의 영상 정보가 크롤링되어 있을 것입니다.\n",
    "        # 하핫 .. 아마 375개가 나올 거예요 저는 t라고 하고 돌려버리고 나중에야 문제를 깨달았습니다.ㅎㅎ\n",
    "        print('%d개의 영상 정보를 크롤링했습니다.'%(t-1))\n",
    "        inside=False\n",
    "            \n",
    "# one이라는 dataframe에 'time' 열은 timelenlist로, 'title'열은 titlelist로,'video_id'열은 videoidlist, 'when'열은 timewhenlist로 만들어주세요.\n",
    "one = pd.DataFrame({'time':timelenlist, 'title':titlelist, 'video_id':videoidlist, 'when':timewhenlist}) #괄호 안을 채워주세용!\n",
    "#one에 'channelId' 열을 추가할 것인데요, 모든 행에 대해 같은 channelId가 들어가도록 작성해주세요.\n",
    "# hint : 저희는 이미 channelId를 알고 있습니다\n",
    "one['channelId'] = channel_unique[i]\n",
    "              \n",
    "# 구독자수도 한 번 채워볼까요? 'subscriber'이라는 열에 위에서 구독자수를 데려온 것처럼 데려와보아요.\n",
    "# 구독자수만 남기는 전처리는 나중에... ㅠㅠ 같이 해봐요..\n",
    "one['subscriber'] = browser.find_element(by= By.XPATH, value = '/html/body/ytd-app/div[1]/ytd-page-manager/ytd-browse/div[3]/ytd-c4-tabbed-header-renderer/tp-yt-app-header-layout/div/tp-yt-app-header/div[2]/div[2]/div/div[1]/div/div[1]').text\n"
   ]
  },
  {
   "cell_type": "code",
   "execution_count": 219,
   "metadata": {
    "scrolled": true
   },
   "outputs": [
    {
     "data": {
      "text/html": [
       "<div>\n",
       "<style scoped>\n",
       "    .dataframe tbody tr th:only-of-type {\n",
       "        vertical-align: middle;\n",
       "    }\n",
       "\n",
       "    .dataframe tbody tr th {\n",
       "        vertical-align: top;\n",
       "    }\n",
       "\n",
       "    .dataframe thead th {\n",
       "        text-align: right;\n",
       "    }\n",
       "</style>\n",
       "<table border=\"1\" class=\"dataframe\">\n",
       "  <thead>\n",
       "    <tr style=\"text-align: right;\">\n",
       "      <th></th>\n",
       "      <th>time</th>\n",
       "      <th>title</th>\n",
       "      <th>video_id</th>\n",
       "      <th>when</th>\n",
       "      <th>channelId</th>\n",
       "      <th>subscriber</th>\n",
       "    </tr>\n",
       "  </thead>\n",
       "  <tbody>\n",
       "    <tr>\n",
       "      <th>0</th>\n",
       "      <td></td>\n",
       "      <td>역몰카!!! 마동석급 동생이 만취해서 깽판을 친다면?!ㅋㅋㅋㅋㅋ #shorts</td>\n",
       "      <td>RxqNI5iv498</td>\n",
       "      <td>2022. 7. 22.</td>\n",
       "      <td>UCIuFnJrRwHEUcIVtozJnUGA</td>\n",
       "      <td>동네놈들\\n구독자 149만명</td>\n",
       "    </tr>\n",
       "    <tr>\n",
       "      <th>1</th>\n",
       "      <td>10:01</td>\n",
       "      <td>수상한 매운맛 마사지로 쓰리콤보 초록이형 조지기ㅋㅋㅋㅋㅋ - [동네놈들｜HOODBOYZ]</td>\n",
       "      <td>hYGs099Eac4</td>\n",
       "      <td>2022. 7. 21.</td>\n",
       "      <td>UCIuFnJrRwHEUcIVtozJnUGA</td>\n",
       "      <td>동네놈들\\n구독자 149만명</td>\n",
       "    </tr>\n",
       "    <tr>\n",
       "      <th>2</th>\n",
       "      <td></td>\n",
       "      <td>차 안으로 도둑질 하는 도둑과 마주한다면?!! #Shorts</td>\n",
       "      <td>ZeHTNLMITf8</td>\n",
       "      <td>2022. 7. 20.</td>\n",
       "      <td>UCIuFnJrRwHEUcIVtozJnUGA</td>\n",
       "      <td>동네놈들\\n구독자 149만명</td>\n",
       "    </tr>\n",
       "    <tr>\n",
       "      <th>3</th>\n",
       "      <td>7:11</td>\n",
       "      <td>차 안에서 옷걸이로 도둑질을 하는 도둑과 마주한다면?!! 2탄 - [동네놈들｜HOO...</td>\n",
       "      <td>wEfqACgxi4M</td>\n",
       "      <td>2022. 7. 19.</td>\n",
       "      <td>UCIuFnJrRwHEUcIVtozJnUGA</td>\n",
       "      <td>동네놈들\\n구독자 149만명</td>\n",
       "    </tr>\n",
       "    <tr>\n",
       "      <th>4</th>\n",
       "      <td>9:52</td>\n",
       "      <td>수상한 매운맛 마사지로 조지기 2탄ㅋㅋㅋㅋㅋ - [동네놈들｜HOODBOYZ]</td>\n",
       "      <td>4u-vb40FQs4</td>\n",
       "      <td>2022. 7. 17.</td>\n",
       "      <td>UCIuFnJrRwHEUcIVtozJnUGA</td>\n",
       "      <td>동네놈들\\n구독자 149만명</td>\n",
       "    </tr>\n",
       "    <tr>\n",
       "      <th>...</th>\n",
       "      <td>...</td>\n",
       "      <td>...</td>\n",
       "      <td>...</td>\n",
       "      <td>...</td>\n",
       "      <td>...</td>\n",
       "      <td>...</td>\n",
       "    </tr>\n",
       "    <tr>\n",
       "      <th>376</th>\n",
       "      <td>0:45</td>\n",
       "      <td>배그하는 친구 빡치게 하는 법ㅋㅋㅋㅋㅋㅋㅋㅋㅋㅋㅋㅋ BATTLEGROUNDS - [...</td>\n",
       "      <td>4qyvsLHGuIM</td>\n",
       "      <td>2018. 9. 1.</td>\n",
       "      <td>UCIuFnJrRwHEUcIVtozJnUGA</td>\n",
       "      <td>동네놈들\\n구독자 149만명</td>\n",
       "    </tr>\n",
       "    <tr>\n",
       "      <th>377</th>\n",
       "      <td>5:20</td>\n",
       "      <td>[참교육] 말 안 듣는 동생 수갑 채우고 참교육 시켜주기 ㅋㅋㅋㅋㅋ - [동네놈들]</td>\n",
       "      <td>eLbkM3Voa_c</td>\n",
       "      <td>2018. 8. 31.</td>\n",
       "      <td>UCIuFnJrRwHEUcIVtozJnUGA</td>\n",
       "      <td>동네놈들\\n구독자 149만명</td>\n",
       "    </tr>\n",
       "    <tr>\n",
       "      <th>378</th>\n",
       "      <td>2:49</td>\n",
       "      <td>[몰카] 개그우먼 &amp; 개그맨들 앞에서 소변을 지려봤습니다ㅋㅋㅋㅋㅋ- [동네놈들]</td>\n",
       "      <td>4EXpCfPJ94c</td>\n",
       "      <td>2018. 8. 25.</td>\n",
       "      <td>UCIuFnJrRwHEUcIVtozJnUGA</td>\n",
       "      <td>동네놈들\\n구독자 149만명</td>\n",
       "    </tr>\n",
       "    <tr>\n",
       "      <th>379</th>\n",
       "      <td>3:17</td>\n",
       "      <td>[몰카] 차 안에서 소변을 지렸습니다ㅋㅋㅋㅋㅋㅋㅋㅋㅋㅋㅋㅋㅋㅋ - [동네놈들]</td>\n",
       "      <td>urA7fT36ga4</td>\n",
       "      <td>2018. 8. 24.</td>\n",
       "      <td>UCIuFnJrRwHEUcIVtozJnUGA</td>\n",
       "      <td>동네놈들\\n구독자 149만명</td>\n",
       "    </tr>\n",
       "    <tr>\n",
       "      <th>380</th>\n",
       "      <td>6:28</td>\n",
       "      <td>🇺🇲🇮🇩SUB] 사모님 접대 고수익 꿀알바 실제 면접 영상!!! 목숨 걸고 촬영.....</td>\n",
       "      <td>LgunzpmwaqE</td>\n",
       "      <td>2018. 8. 12.</td>\n",
       "      <td>UCIuFnJrRwHEUcIVtozJnUGA</td>\n",
       "      <td>동네놈들\\n구독자 149만명</td>\n",
       "    </tr>\n",
       "  </tbody>\n",
       "</table>\n",
       "<p>381 rows × 6 columns</p>\n",
       "</div>"
      ],
      "text/plain": [
       "      time                                              title     video_id  \\\n",
       "0                 역몰카!!! 마동석급 동생이 만취해서 깽판을 친다면?!ㅋㅋㅋㅋㅋ #shorts  RxqNI5iv498   \n",
       "1    10:01  수상한 매운맛 마사지로 쓰리콤보 초록이형 조지기ㅋㅋㅋㅋㅋ - [동네놈들｜HOODBOYZ]  hYGs099Eac4   \n",
       "2                           차 안으로 도둑질 하는 도둑과 마주한다면?!! #Shorts  ZeHTNLMITf8   \n",
       "3     7:11  차 안에서 옷걸이로 도둑질을 하는 도둑과 마주한다면?!! 2탄 - [동네놈들｜HOO...  wEfqACgxi4M   \n",
       "4     9:52         수상한 매운맛 마사지로 조지기 2탄ㅋㅋㅋㅋㅋ - [동네놈들｜HOODBOYZ]  4u-vb40FQs4   \n",
       "..     ...                                                ...          ...   \n",
       "376   0:45  배그하는 친구 빡치게 하는 법ㅋㅋㅋㅋㅋㅋㅋㅋㅋㅋㅋㅋ BATTLEGROUNDS - [...  4qyvsLHGuIM   \n",
       "377   5:20     [참교육] 말 안 듣는 동생 수갑 채우고 참교육 시켜주기 ㅋㅋㅋㅋㅋ - [동네놈들]  eLbkM3Voa_c   \n",
       "378   2:49       [몰카] 개그우먼 & 개그맨들 앞에서 소변을 지려봤습니다ㅋㅋㅋㅋㅋ- [동네놈들]  4EXpCfPJ94c   \n",
       "379   3:17        [몰카] 차 안에서 소변을 지렸습니다ㅋㅋㅋㅋㅋㅋㅋㅋㅋㅋㅋㅋㅋㅋ - [동네놈들]  urA7fT36ga4   \n",
       "380   6:28  🇺🇲🇮🇩SUB] 사모님 접대 고수익 꿀알바 실제 면접 영상!!! 목숨 걸고 촬영.....  LgunzpmwaqE   \n",
       "\n",
       "             when                 channelId       subscriber  \n",
       "0    2022. 7. 22.  UCIuFnJrRwHEUcIVtozJnUGA  동네놈들\\n구독자 149만명  \n",
       "1    2022. 7. 21.  UCIuFnJrRwHEUcIVtozJnUGA  동네놈들\\n구독자 149만명  \n",
       "2    2022. 7. 20.  UCIuFnJrRwHEUcIVtozJnUGA  동네놈들\\n구독자 149만명  \n",
       "3    2022. 7. 19.  UCIuFnJrRwHEUcIVtozJnUGA  동네놈들\\n구독자 149만명  \n",
       "4    2022. 7. 17.  UCIuFnJrRwHEUcIVtozJnUGA  동네놈들\\n구독자 149만명  \n",
       "..            ...                       ...              ...  \n",
       "376   2018. 9. 1.  UCIuFnJrRwHEUcIVtozJnUGA  동네놈들\\n구독자 149만명  \n",
       "377  2018. 8. 31.  UCIuFnJrRwHEUcIVtozJnUGA  동네놈들\\n구독자 149만명  \n",
       "378  2018. 8. 25.  UCIuFnJrRwHEUcIVtozJnUGA  동네놈들\\n구독자 149만명  \n",
       "379  2018. 8. 24.  UCIuFnJrRwHEUcIVtozJnUGA  동네놈들\\n구독자 149만명  \n",
       "380  2018. 8. 12.  UCIuFnJrRwHEUcIVtozJnUGA  동네놈들\\n구독자 149만명  \n",
       "\n",
       "[381 rows x 6 columns]"
      ]
     },
     "execution_count": 219,
     "metadata": {},
     "output_type": "execute_result"
    }
   ],
   "source": [
    "# 드디어 끝났습니다! 출력하셔서 확인해보세요~\n",
    "one"
   ]
  },
  {
   "cell_type": "code",
   "execution_count": 220,
   "metadata": {},
   "outputs": [
    {
     "name": "stdout",
     "output_type": "stream",
     "text": [
      "<class 'pandas.core.frame.DataFrame'>\n",
      "RangeIndex: 381 entries, 0 to 380\n",
      "Data columns (total 6 columns):\n",
      " #   Column      Non-Null Count  Dtype \n",
      "---  ------      --------------  ----- \n",
      " 0   time        381 non-null    object\n",
      " 1   title       381 non-null    object\n",
      " 2   video_id    381 non-null    object\n",
      " 3   when        381 non-null    object\n",
      " 4   channelId   381 non-null    object\n",
      " 5   subscriber  381 non-null    object\n",
      "dtypes: object(6)\n",
      "memory usage: 18.0+ KB\n"
     ]
    }
   ],
   "source": [
    "# 혹시나 결측값이 있는지도 한 번 확인해주세요~\n",
    "one.info()"
   ]
  },
  {
   "cell_type": "code",
   "execution_count": 221,
   "metadata": {},
   "outputs": [],
   "source": [
    "# 데려와놓고 저장 안하면 완전 꽝이죠! 저장도 꼭 해주어요.\n",
    "one.to_csv('C:/Users/김지희/DSL/dataset/동네놈들_0723.csv', index = False)"
   ]
  },
  {
   "cell_type": "code",
   "execution_count": 222,
   "metadata": {},
   "outputs": [],
   "source": [
    "# 잘 불러와지는지까지 확인하면 끝!\n",
    "df = pd.read_csv('C:/Users/김지희/DSL/dataset/동네놈들_0723.csv')"
   ]
  },
  {
   "cell_type": "code",
   "execution_count": 223,
   "metadata": {},
   "outputs": [
    {
     "data": {
      "text/html": [
       "<div>\n",
       "<style scoped>\n",
       "    .dataframe tbody tr th:only-of-type {\n",
       "        vertical-align: middle;\n",
       "    }\n",
       "\n",
       "    .dataframe tbody tr th {\n",
       "        vertical-align: top;\n",
       "    }\n",
       "\n",
       "    .dataframe thead th {\n",
       "        text-align: right;\n",
       "    }\n",
       "</style>\n",
       "<table border=\"1\" class=\"dataframe\">\n",
       "  <thead>\n",
       "    <tr style=\"text-align: right;\">\n",
       "      <th></th>\n",
       "      <th>time</th>\n",
       "      <th>title</th>\n",
       "      <th>video_id</th>\n",
       "      <th>when</th>\n",
       "      <th>channelId</th>\n",
       "      <th>subscriber</th>\n",
       "    </tr>\n",
       "  </thead>\n",
       "  <tbody>\n",
       "    <tr>\n",
       "      <th>0</th>\n",
       "      <td>NaN</td>\n",
       "      <td>역몰카!!! 마동석급 동생이 만취해서 깽판을 친다면?!ㅋㅋㅋㅋㅋ #shorts</td>\n",
       "      <td>RxqNI5iv498</td>\n",
       "      <td>2022. 7. 22.</td>\n",
       "      <td>UCIuFnJrRwHEUcIVtozJnUGA</td>\n",
       "      <td>동네놈들\\n구독자 149만명</td>\n",
       "    </tr>\n",
       "    <tr>\n",
       "      <th>1</th>\n",
       "      <td>10:01</td>\n",
       "      <td>수상한 매운맛 마사지로 쓰리콤보 초록이형 조지기ㅋㅋㅋㅋㅋ - [동네놈들｜HOODBOYZ]</td>\n",
       "      <td>hYGs099Eac4</td>\n",
       "      <td>2022. 7. 21.</td>\n",
       "      <td>UCIuFnJrRwHEUcIVtozJnUGA</td>\n",
       "      <td>동네놈들\\n구독자 149만명</td>\n",
       "    </tr>\n",
       "    <tr>\n",
       "      <th>2</th>\n",
       "      <td>NaN</td>\n",
       "      <td>차 안으로 도둑질 하는 도둑과 마주한다면?!! #Shorts</td>\n",
       "      <td>ZeHTNLMITf8</td>\n",
       "      <td>2022. 7. 20.</td>\n",
       "      <td>UCIuFnJrRwHEUcIVtozJnUGA</td>\n",
       "      <td>동네놈들\\n구독자 149만명</td>\n",
       "    </tr>\n",
       "    <tr>\n",
       "      <th>3</th>\n",
       "      <td>7:11</td>\n",
       "      <td>차 안에서 옷걸이로 도둑질을 하는 도둑과 마주한다면?!! 2탄 - [동네놈들｜HOO...</td>\n",
       "      <td>wEfqACgxi4M</td>\n",
       "      <td>2022. 7. 19.</td>\n",
       "      <td>UCIuFnJrRwHEUcIVtozJnUGA</td>\n",
       "      <td>동네놈들\\n구독자 149만명</td>\n",
       "    </tr>\n",
       "    <tr>\n",
       "      <th>4</th>\n",
       "      <td>9:52</td>\n",
       "      <td>수상한 매운맛 마사지로 조지기 2탄ㅋㅋㅋㅋㅋ - [동네놈들｜HOODBOYZ]</td>\n",
       "      <td>4u-vb40FQs4</td>\n",
       "      <td>2022. 7. 17.</td>\n",
       "      <td>UCIuFnJrRwHEUcIVtozJnUGA</td>\n",
       "      <td>동네놈들\\n구독자 149만명</td>\n",
       "    </tr>\n",
       "  </tbody>\n",
       "</table>\n",
       "</div>"
      ],
      "text/plain": [
       "    time                                              title     video_id  \\\n",
       "0    NaN        역몰카!!! 마동석급 동생이 만취해서 깽판을 친다면?!ㅋㅋㅋㅋㅋ #shorts  RxqNI5iv498   \n",
       "1  10:01  수상한 매운맛 마사지로 쓰리콤보 초록이형 조지기ㅋㅋㅋㅋㅋ - [동네놈들｜HOODBOYZ]  hYGs099Eac4   \n",
       "2    NaN                  차 안으로 도둑질 하는 도둑과 마주한다면?!! #Shorts  ZeHTNLMITf8   \n",
       "3   7:11  차 안에서 옷걸이로 도둑질을 하는 도둑과 마주한다면?!! 2탄 - [동네놈들｜HOO...  wEfqACgxi4M   \n",
       "4   9:52         수상한 매운맛 마사지로 조지기 2탄ㅋㅋㅋㅋㅋ - [동네놈들｜HOODBOYZ]  4u-vb40FQs4   \n",
       "\n",
       "           when                 channelId       subscriber  \n",
       "0  2022. 7. 22.  UCIuFnJrRwHEUcIVtozJnUGA  동네놈들\\n구독자 149만명  \n",
       "1  2022. 7. 21.  UCIuFnJrRwHEUcIVtozJnUGA  동네놈들\\n구독자 149만명  \n",
       "2  2022. 7. 20.  UCIuFnJrRwHEUcIVtozJnUGA  동네놈들\\n구독자 149만명  \n",
       "3  2022. 7. 19.  UCIuFnJrRwHEUcIVtozJnUGA  동네놈들\\n구독자 149만명  \n",
       "4  2022. 7. 17.  UCIuFnJrRwHEUcIVtozJnUGA  동네놈들\\n구독자 149만명  "
      ]
     },
     "execution_count": 223,
     "metadata": {},
     "output_type": "execute_result"
    }
   ],
   "source": [
    "df.head()"
   ]
  },
  {
   "cell_type": "code",
   "execution_count": null,
   "metadata": {},
   "outputs": [],
   "source": [
    "# 여기서 time이 NaN인 것은 Shorts영상이어서 그렇다 => 이 영상들의 경우 제외해도 될 것 같다! => 쇼츠의 경우 조회수가 일반 영상보다 확연히 많기 때문!\n"
   ]
  }
 ],
 "metadata": {
  "kernelspec": {
   "display_name": "Crawling",
   "language": "python",
   "name": "crawling"
  },
  "language_info": {
   "codemirror_mode": {
    "name": "ipython",
    "version": 3
   },
   "file_extension": ".py",
   "mimetype": "text/x-python",
   "name": "python",
   "nbconvert_exporter": "python",
   "pygments_lexer": "ipython3",
   "version": "3.7.13"
  },
  "toc": {
   "base_numbering": 1,
   "nav_menu": {},
   "number_sections": true,
   "sideBar": true,
   "skip_h1_title": false,
   "title_cell": "Table of Contents",
   "title_sidebar": "Contents",
   "toc_cell": false,
   "toc_position": {},
   "toc_section_display": true,
   "toc_window_display": false
  }
 },
 "nbformat": 4,
 "nbformat_minor": 4
}
