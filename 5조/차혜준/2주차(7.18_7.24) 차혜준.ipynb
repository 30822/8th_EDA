{
 "cells": [
  {
   "cell_type": "markdown",
   "metadata": {
    "id": "t_6QPUvG20Q1"
   },
   "source": [
    "### BeautifulSoup 활용 시도했지만 매몰차게 실패..."
   ]
  },
  {
   "cell_type": "code",
   "execution_count": null,
   "metadata": {
    "id": "khZzLXkf2J9r",
    "outputId": "8e0dcb99-4834-4f0e-ecfa-22066ff60b9b",
    "scrolled": true
   },
   "outputs": [
    {
     "name": "stdout",
     "output_type": "stream",
     "text": [
      "Requirement already satisfied: requests in /opt/anaconda3/lib/python3.9/site-packages (2.26.0)\n",
      "Requirement already satisfied: certifi>=2017.4.17 in /opt/anaconda3/lib/python3.9/site-packages (from requests) (2021.10.8)\n",
      "Requirement already satisfied: urllib3<1.27,>=1.21.1 in /opt/anaconda3/lib/python3.9/site-packages (from requests) (1.26.7)\n",
      "Requirement already satisfied: charset-normalizer~=2.0.0 in /opt/anaconda3/lib/python3.9/site-packages (from requests) (2.0.4)\n",
      "Requirement already satisfied: idna<4,>=2.5 in /opt/anaconda3/lib/python3.9/site-packages (from requests) (3.2)\n",
      "Note: you may need to restart the kernel to use updated packages.\n"
     ]
    }
   ],
   "source": [
    "pip install requests"
   ]
  },
  {
   "cell_type": "code",
   "execution_count": null,
   "metadata": {
    "id": "GzWBtm-e2J9z",
    "outputId": "98937b7f-774d-4944-8f8f-83d5855d4b9d"
   },
   "outputs": [
    {
     "name": "stdout",
     "output_type": "stream",
     "text": [
      "Requirement already satisfied: beautifulsoup4 in /opt/anaconda3/lib/python3.9/site-packages (4.10.0)\n",
      "Requirement already satisfied: soupsieve>1.2 in /opt/anaconda3/lib/python3.9/site-packages (from beautifulsoup4) (2.2.1)\n",
      "Note: you may need to restart the kernel to use updated packages.\n"
     ]
    }
   ],
   "source": [
    "pip install beautifulsoup4"
   ]
  },
  {
   "cell_type": "code",
   "execution_count": null,
   "metadata": {
    "id": "xbD8nNYO2J90",
    "outputId": "5389b5f5-9ac0-43f1-c9cd-46e6620dc26d"
   },
   "outputs": [
    {
     "name": "stdout",
     "output_type": "stream",
     "text": [
      "Requirement already satisfied: lxml in /opt/anaconda3/lib/python3.9/site-packages (4.6.3)\n",
      "Note: you may need to restart the kernel to use updated packages.\n"
     ]
    }
   ],
   "source": [
    "pip install lxml"
   ]
  },
  {
   "cell_type": "code",
   "execution_count": null,
   "metadata": {
    "id": "GzQNzlSN2J92",
    "outputId": "973c8302-f62d-4350-daa2-0c6624632468"
   },
   "outputs": [
    {
     "name": "stdout",
     "output_type": "stream",
     "text": [
      "Requirement already satisfied: pyOpenSSL in /opt/anaconda3/lib/python3.9/site-packages (21.0.0)\n",
      "Requirement already satisfied: six>=1.5.2 in /opt/anaconda3/lib/python3.9/site-packages (from pyOpenSSL) (1.16.0)\n",
      "Requirement already satisfied: cryptography>=3.3 in /opt/anaconda3/lib/python3.9/site-packages (from pyOpenSSL) (3.4.8)\n",
      "Requirement already satisfied: cffi>=1.12 in /opt/anaconda3/lib/python3.9/site-packages (from cryptography>=3.3->pyOpenSSL) (1.14.6)\n",
      "Requirement already satisfied: pycparser in /opt/anaconda3/lib/python3.9/site-packages (from cffi>=1.12->cryptography>=3.3->pyOpenSSL) (2.20)\n",
      "Note: you may need to restart the kernel to use updated packages.\n"
     ]
    }
   ],
   "source": [
    "pip install pyOpenSSL"
   ]
  },
  {
   "cell_type": "code",
   "execution_count": null,
   "metadata": {
    "id": "oQ94z-Hz2J93"
   },
   "outputs": [],
   "source": [
    "import requests"
   ]
  },
  {
   "cell_type": "code",
   "execution_count": null,
   "metadata": {
    "id": "FQUTepvq2J94"
   },
   "outputs": [],
   "source": [
    "from bs4 import BeautifulSoup"
   ]
  },
  {
   "cell_type": "code",
   "execution_count": null,
   "metadata": {
    "id": "b_V1iBp02J95",
    "outputId": "c9b07005-cf26-463b-f6c1-fbc21314b336"
   },
   "outputs": [
    {
     "name": "stdout",
     "output_type": "stream",
     "text": [
      "OpenSSL 1.1.1l  24 Aug 2021\n"
     ]
    }
   ],
   "source": [
    "import ssl\n",
    "print(ssl.OPENSSL_VERSION)"
   ]
  },
  {
   "cell_type": "code",
   "execution_count": null,
   "metadata": {
    "id": "adg2pLwS2J97"
   },
   "outputs": [],
   "source": [
    "headers= {'User-Agent' : 'blabla'}"
   ]
  },
  {
   "cell_type": "code",
   "execution_count": null,
   "metadata": {
    "id": "xwBPNgYb2J98"
   },
   "outputs": [],
   "source": [
    "url='https://sg.sbiz.or.kr/godo/stat/upso.sg'"
   ]
  },
  {
   "cell_type": "code",
   "execution_count": null,
   "metadata": {
    "colab": {
     "base_uri": "https://localhost:8080/",
     "height": 190
    },
    "executionInfo": {
     "elapsed": 17,
     "status": "error",
     "timestamp": 1658576494310,
     "user": {
      "displayName": "김형민(상경대학 응용통계학과)",
      "userId": "17793840925835242154"
     },
     "user_tz": -540
    },
    "id": "E5Q5nDOH2J9-",
    "outputId": "24117617-ab7f-4fd7-ae2f-ffb7f0e9ba31"
   },
   "outputs": [
    {
     "ename": "NameError",
     "evalue": "ignored",
     "output_type": "error",
     "traceback": [
      "\u001b[0;31m---------------------------------------------------------------------------\u001b[0m",
      "\u001b[0;31mNameError\u001b[0m                                 Traceback (most recent call last)",
      "\u001b[0;32m<ipython-input-1-578fcfb02d2a>\u001b[0m in \u001b[0;36m<module>\u001b[0;34m()\u001b[0m\n\u001b[0;32m----> 1\u001b[0;31m \u001b[0mres\u001b[0m \u001b[0;34m=\u001b[0m \u001b[0mrequests\u001b[0m\u001b[0;34m.\u001b[0m\u001b[0mget\u001b[0m\u001b[0;34m(\u001b[0m\u001b[0murl\u001b[0m\u001b[0;34m,\u001b[0m \u001b[0mheaders\u001b[0m \u001b[0;34m=\u001b[0m \u001b[0mheaders\u001b[0m\u001b[0;34m,\u001b[0m\u001b[0mverify\u001b[0m\u001b[0;34m=\u001b[0m\u001b[0;32mFalse\u001b[0m\u001b[0;34m)\u001b[0m\u001b[0;34m\u001b[0m\u001b[0;34m\u001b[0m\u001b[0m\n\u001b[0m\u001b[1;32m      2\u001b[0m \u001b[0;31m# verify = False를 빼면 오류가 생기는데 그 해결방안을 검색해보니 verify = False 였음. 약간 warning 넘어가는 코드 느낌...?\u001b[0m\u001b[0;34m\u001b[0m\u001b[0;34m\u001b[0m\u001b[0;34m\u001b[0m\u001b[0m\n",
      "\u001b[0;31mNameError\u001b[0m: name 'requests' is not defined"
     ]
    }
   ],
   "source": [
    "res = requests.get(url, headers = headers,verify=False)\n",
    "# verify = False를 빼면 오류가 생기는데 그 해결방안을 검색해보니 verify = False 였음. 약간 warning 넘어가는 코드 느낌...?"
   ]
  },
  {
   "cell_type": "code",
   "execution_count": null,
   "metadata": {
    "id": "SRXlxetP2J9_"
   },
   "outputs": [],
   "source": [
    "res.raise_for_status()"
   ]
  },
  {
   "cell_type": "code",
   "execution_count": null,
   "metadata": {
    "id": "e3bn-H7Q2J-A"
   },
   "outputs": [],
   "source": [
    "soup = BeautifulSoup(res.text, 'lxml') "
   ]
  },
  {
   "cell_type": "code",
   "execution_count": null,
   "metadata": {
    "id": "Tz4zIOdz2J-B"
   },
   "outputs": [],
   "source": [
    "gooyeok = soup.select('#upsoTable > tr > td')"
   ]
  },
  {
   "cell_type": "code",
   "execution_count": null,
   "metadata": {
    "id": "Qvc4Dasi2J-C"
   },
   "outputs": [],
   "source": []
  },
  {
   "cell_type": "code",
   "execution_count": null,
   "metadata": {
    "id": "sgUwNJa62J-D",
    "outputId": "2abcf001-68bf-4be1-cb82-b96bad275ad3"
   },
   "outputs": [
    {
     "ename": "AttributeError",
     "evalue": "ResultSet object has no attribute 'string'. You're probably treating a list of elements like a single element. Did you call find_all() when you meant to call find()?",
     "output_type": "error",
     "traceback": [
      "\u001b[0;31m---------------------------------------------------------------------------\u001b[0m",
      "\u001b[0;31mAttributeError\u001b[0m                            Traceback (most recent call last)",
      "\u001b[0;32m/var/folders/yt/d21ytj4d1xs2p7v8vl_cwpdm0000gn/T/ipykernel_87649/1673970813.py\u001b[0m in \u001b[0;36m<module>\u001b[0;34m\u001b[0m\n\u001b[0;32m----> 1\u001b[0;31m \u001b[0mgooyeok\u001b[0m\u001b[0;34m.\u001b[0m\u001b[0mstring\u001b[0m\u001b[0;34m\u001b[0m\u001b[0;34m\u001b[0m\u001b[0m\n\u001b[0m",
      "\u001b[0;32m/opt/anaconda3/lib/python3.9/site-packages/bs4/element.py\u001b[0m in \u001b[0;36m__getattr__\u001b[0;34m(self, key)\u001b[0m\n\u001b[1;32m   2251\u001b[0m     \u001b[0;32mdef\u001b[0m \u001b[0m__getattr__\u001b[0m\u001b[0;34m(\u001b[0m\u001b[0mself\u001b[0m\u001b[0;34m,\u001b[0m \u001b[0mkey\u001b[0m\u001b[0;34m)\u001b[0m\u001b[0;34m:\u001b[0m\u001b[0;34m\u001b[0m\u001b[0;34m\u001b[0m\u001b[0m\n\u001b[1;32m   2252\u001b[0m         \u001b[0;34m\"\"\"Raise a helpful exception to explain a common code fix.\"\"\"\u001b[0m\u001b[0;34m\u001b[0m\u001b[0;34m\u001b[0m\u001b[0m\n\u001b[0;32m-> 2253\u001b[0;31m         raise AttributeError(\n\u001b[0m\u001b[1;32m   2254\u001b[0m             \u001b[0;34m\"ResultSet object has no attribute '%s'. You're probably treating a list of elements like a single element. Did you call find_all() when you meant to call find()?\"\u001b[0m \u001b[0;34m%\u001b[0m \u001b[0mkey\u001b[0m\u001b[0;34m\u001b[0m\u001b[0;34m\u001b[0m\u001b[0m\n\u001b[1;32m   2255\u001b[0m         )\n",
      "\u001b[0;31mAttributeError\u001b[0m: ResultSet object has no attribute 'string'. You're probably treating a list of elements like a single element. Did you call find_all() when you meant to call find()?"
     ]
    }
   ],
   "source": [
    "gooyeok.string"
   ]
  },
  {
   "cell_type": "markdown",
   "metadata": {
    "id": "cmCOaoQ22obJ"
   },
   "source": [
    "### Selenium 활용하면 해결되더라..."
   ]
  },
  {
   "cell_type": "code",
   "execution_count": 1,
   "metadata": {
    "id": "pmc3jXn92J-D",
    "outputId": "678e8da4-ae8b-48bc-f51c-cf4584c4ba47"
   },
   "outputs": [
    {
     "name": "stdout",
     "output_type": "stream",
     "text": [
      "Requirement already satisfied: selenium in c:\\users\\30822\\anaconda3\\lib\\site-packages (4.1.5)\n",
      "Requirement already satisfied: trio~=0.17 in c:\\users\\30822\\anaconda3\\lib\\site-packages (from selenium) (0.20.0)\n",
      "Requirement already satisfied: trio-websocket~=0.9 in c:\\users\\30822\\anaconda3\\lib\\site-packages (from selenium) (0.9.2)\n",
      "Requirement already satisfied: urllib3[secure,socks]~=1.26 in c:\\users\\30822\\anaconda3\\lib\\site-packages (from selenium) (1.26.7)\n",
      "Requirement already satisfied: async-generator>=1.9 in c:\\users\\30822\\anaconda3\\lib\\site-packages (from trio~=0.17->selenium) (1.10)\n",
      "Requirement already satisfied: sortedcontainers in c:\\users\\30822\\anaconda3\\lib\\site-packages (from trio~=0.17->selenium) (2.4.0)\n",
      "Requirement already satisfied: sniffio in c:\\users\\30822\\anaconda3\\lib\\site-packages (from trio~=0.17->selenium) (1.2.0)\n",
      "Requirement already satisfied: idna in c:\\users\\30822\\anaconda3\\lib\\site-packages (from trio~=0.17->selenium) (3.2)\n",
      "Requirement already satisfied: outcome in c:\\users\\30822\\anaconda3\\lib\\site-packages (from trio~=0.17->selenium) (1.1.0)\n",
      "Requirement already satisfied: cffi>=1.14 in c:\\users\\30822\\anaconda3\\lib\\site-packages (from trio~=0.17->selenium) (1.14.6)\n",
      "Requirement already satisfied: attrs>=19.2.0 in c:\\users\\30822\\anaconda3\\lib\\site-packages (from trio~=0.17->selenium) (21.2.0)\n",
      "Requirement already satisfied: pycparser in c:\\users\\30822\\anaconda3\\lib\\site-packages (from cffi>=1.14->trio~=0.17->selenium) (2.20)\n",
      "Requirement already satisfied: wsproto>=0.14 in c:\\users\\30822\\anaconda3\\lib\\site-packages (from trio-websocket~=0.9->selenium) (1.1.0)\n",
      "Requirement already satisfied: pyOpenSSL>=0.14 in c:\\users\\30822\\anaconda3\\lib\\site-packages (from urllib3[secure,socks]~=1.26->selenium) (21.0.0)\n",
      "Requirement already satisfied: cryptography>=1.3.4 in c:\\users\\30822\\anaconda3\\lib\\site-packages (from urllib3[secure,socks]~=1.26->selenium) (3.4.8)\n",
      "Requirement already satisfied: certifi in c:\\users\\30822\\anaconda3\\lib\\site-packages (from urllib3[secure,socks]~=1.26->selenium) (2021.10.8)\n",
      "Requirement already satisfied: PySocks!=1.5.7,<2.0,>=1.5.6 in c:\\users\\30822\\anaconda3\\lib\\site-packages (from urllib3[secure,socks]~=1.26->selenium) (1.7.1)\n",
      "Requirement already satisfied: six>=1.5.2 in c:\\users\\30822\\anaconda3\\lib\\site-packages (from pyOpenSSL>=0.14->urllib3[secure,socks]~=1.26->selenium) (1.16.0)\n",
      "Requirement already satisfied: h11<1,>=0.9.0 in c:\\users\\30822\\anaconda3\\lib\\site-packages (from wsproto>=0.14->trio-websocket~=0.9->selenium) (0.13.0)\n"
     ]
    }
   ],
   "source": [
    "!pip install selenium"
   ]
  },
  {
   "cell_type": "code",
   "execution_count": null,
   "metadata": {
    "id": "p23htBs_2J-E"
   },
   "outputs": [],
   "source": [
    "#크롬드라이버 경로 설정\n",
    "\n",
    "import sys\n",
    "sys.path.insert(0, '/Users/hyungmin/Downloads/Files_s2_v1/chromedriver')"
   ]
  },
  {
   "cell_type": "code",
   "execution_count": null,
   "metadata": {
    "id": "eM-ouUEz2J-F",
    "outputId": "bae2f53c-2e4d-464d-8dfd-de0f5474077d"
   },
   "outputs": [
    {
     "name": "stderr",
     "output_type": "stream",
     "text": [
      "/var/folders/yt/d21ytj4d1xs2p7v8vl_cwpdm0000gn/T/ipykernel_87649/2460570645.py:5: DeprecationWarning: executable_path has been deprecated, please pass in a Service object\n",
      "  browser = webdriver.Chrome(path)\n"
     ]
    }
   ],
   "source": [
    "#크롬드라이버 경로 설정\n",
    "path = '/Users/hyungmin/Downloads/Files_s2_v1/chromedriver'\n",
    "\n",
    "#드라이버 객체 생성\n",
    "browser = webdriver.Chrome(path)\n",
    "#코랩에서 작업시 option 추가\n",
    "#browser = webdriver.Chrome(path, options = options)"
   ]
  },
  {
   "cell_type": "code",
   "execution_count": null,
   "metadata": {
    "id": "LaemD3-e2J-G"
   },
   "outputs": [],
   "source": [
    "#셀레늄 라이브러리 불러오기\n",
    "from selenium import webdriver\n",
    "\n",
    "#셀레늄에서 html문서가 생성될 때까지 대기하는 함수 불러오기\n",
    "from selenium.webdriver.support.ui import WebDriverWait\n",
    "\n",
    "#셀레늄에서 조건을 걸어줄 수 있는 함수 불러오기\n",
    "from selenium.webdriver.support import expected_conditions as EC\n",
    "from selenium.webdriver.common.by import By\n"
   ]
  },
  {
   "cell_type": "code",
   "execution_count": null,
   "metadata": {
    "id": "EX9r7bNL2J-H"
   },
   "outputs": [],
   "source": [
    "browser.get('https://sg.sbiz.or.kr/godo/stat/upso.sg')"
   ]
  },
  {
   "cell_type": "code",
   "execution_count": null,
   "metadata": {
    "id": "xirpRsqE2J-I"
   },
   "outputs": [],
   "source": [
    "#시군구 선택 \n",
    "browser.find_element(\"xpath\",\"/html/body/div[1]/div[2]/div[1]/div[2]/div/div/div[1]/div/div[1]/ul/li[1]/div/div[2]/a\").click()"
   ]
  },
  {
   "cell_type": "code",
   "execution_count": 23,
   "metadata": {
    "id": "01IULEaZ2J-J"
   },
   "outputs": [],
   "source": [
    "browser.find_element(\"xpath\",\"/html/body/div[2]/div/div[2]/div/div[1]/div/ul/li[1]/div/ul/li[2]/label\").click()"
   ]
  },
  {
   "cell_type": "code",
   "execution_count": 24,
   "metadata": {
    "id": "CBEBH8t72J-J"
   },
   "outputs": [],
   "source": [
    "browser.find_element(\"xpath\",\"/html/body/div[2]/div/div[2]/div/div[2]/a[2]/span\").click()"
   ]
  },
  {
   "cell_type": "code",
   "execution_count": 25,
   "metadata": {
    "id": "_lI6uhgU2J-K"
   },
   "outputs": [],
   "source": [
    "#확인버튼 누르기 \n",
    "browser.find_element(\"xpath\",\"/html/body/div[1]/div[2]/div[1]/div[2]/div/div/div[1]/div/div[2]/a/span\").click()"
   ]
  },
  {
   "cell_type": "code",
   "execution_count": null,
   "metadata": {
    "id": "Z64ZPKqE2J-K"
   },
   "outputs": [],
   "source": [
    "#긁어오기시작 \n",
    "from selenium.webdriver.common.by import By\n",
    "from selenium.webdriver.common.keys import Keys"
   ]
  },
  {
   "cell_type": "code",
   "execution_count": null,
   "metadata": {
    "id": "OtdPyGER2J-K",
    "outputId": "e6b0da41-a9f0-49b4-dfd3-09e58708e44e"
   },
   "outputs": [
    {
     "name": "stdout",
     "output_type": "stream",
     "text": [
      "서울특별시\n",
      "346,631\n",
      "346,631\n",
      "340,568\n",
      "-1.75%\n",
      "┗ 종로구\n",
      "13,289\n",
      "13,180\n",
      "-0.82%\n",
      "┗ 중구\n",
      "16,473\n",
      "16,293\n",
      "-1.09%\n",
      "┗ 용산구\n",
      "11,076\n",
      "10,718\n",
      "-3.23%\n",
      "┗ 성동구\n",
      "10,290\n",
      "10,348\n",
      "0.56%\n",
      "┗ 광진구\n",
      "14,474\n",
      "13,285\n",
      "-8.21%\n",
      "┗ 동대문구\n",
      "12,490\n",
      "12,177\n",
      "-2.51%\n",
      "┗ 중랑구\n",
      "10,720\n",
      "10,852\n",
      "1.23%\n",
      "┗ 성북구\n",
      "12,715\n",
      "12,621\n",
      "-0.74%\n",
      "┗ 강북구\n",
      "7,952\n",
      "8,210\n",
      "3.24%\n",
      "┗ 도봉구\n",
      "8,336\n",
      "8,265\n",
      "-0.85%\n",
      "┗ 노원구\n",
      "11,784\n",
      "11,351\n",
      "-3.67%\n",
      "┗ 은평구\n",
      "12,149\n",
      "11,918\n",
      "-1.9%\n",
      "┗ 서대문구\n",
      "9,850\n",
      "9,528\n",
      "-3.27%\n",
      "┗ 마포구\n",
      "14,697\n",
      "14,994\n",
      "2.02%\n",
      "┗ 양천구\n",
      "10,474\n",
      "10,795\n",
      "3.06%\n",
      "┗ 강서구\n",
      "15,888\n",
      "15,944\n",
      "0.35%\n",
      "┗ 구로구\n",
      "13,108\n",
      "13,246\n",
      "1.05%\n",
      "┗ 금천구\n",
      "9,457\n",
      "9,590\n",
      "1.41%\n",
      "┗ 영등포구\n",
      "17,279\n",
      "15,554\n",
      "-9.98%\n",
      "┗ 동작구\n",
      "9,130\n",
      "9,221\n",
      "1%\n",
      "┗ 관악구\n",
      "14,388\n",
      "12,943\n",
      "-10.04%\n",
      "┗ 서초구\n",
      "20,142\n",
      "19,737\n",
      "-2.01%\n",
      "┗ 강남구\n",
      "34,913\n",
      "32,688\n",
      "-6.37%\n",
      "┗ 송파구\n",
      "18,628\n",
      "19,108\n",
      "2.58%\n",
      "┗ 강동구\n",
      "14,346\n",
      "14,230\n",
      "-0.81%\n"
     ]
    }
   ],
   "source": [
    "y= browser.find_elements(By.CSS_SELECTOR,'#upsoTable > tr > td')\n",
    "for x in y :\n",
    "    print(x.text)"
   ]
  },
  {
   "cell_type": "code",
   "execution_count": null,
   "metadata": {
    "id": "ZcdFm39Y2J-L",
    "outputId": "ffa76171-4eb4-4469-ed66-c331a35819f3"
   },
   "outputs": [
    {
     "name": "stdout",
     "output_type": "stream",
     "text": [
      "[]\n"
     ]
    }
   ],
   "source": [
    "print(y)"
   ]
  },
  {
   "cell_type": "markdown",
   "metadata": {
    "id": "JkTQ-VdZ3alc"
   },
   "source": [
    "# 과제\n",
    "\n",
    "### 1. 위의 코드 이해하기\n",
    "### 2. 위의 코드를 활용하여 각자 맡은 지역의 상권 정보를 긁어 csv 파일로 만들기\n",
    "\n",
    "https://sg.sbiz.or.kr/godo/stat/upso.sg\n",
    "### 3. csv 파일은 구글 드라이브에 업로드할 것. jupyter notebook으로 크롤링 진행 후 ipynb 파일을 각자 DSL 깃에서 fork하여 pull request 하는 형식으로 제출"
   ]
  },
  {
   "cell_type": "code",
   "execution_count": 3,
   "metadata": {
    "id": "JCDHRS7w2J-L"
   },
   "outputs": [
    {
     "name": "stdout",
     "output_type": "stream",
     "text": [
      "Requirement already satisfied: requests in c:\\users\\30822\\anaconda3\\lib\\site-packages (2.26.0)\n",
      "Requirement already satisfied: certifi>=2017.4.17 in c:\\users\\30822\\anaconda3\\lib\\site-packages (from requests) (2021.10.8)\n",
      "Requirement already satisfied: charset-normalizer~=2.0.0 in c:\\users\\30822\\anaconda3\\lib\\site-packages (from requests) (2.0.4)\n",
      "Requirement already satisfied: urllib3<1.27,>=1.21.1 in c:\\users\\30822\\anaconda3\\lib\\site-packages (from requests) (1.26.7)\n",
      "Requirement already satisfied: idna<4,>=2.5 in c:\\users\\30822\\anaconda3\\lib\\site-packages (from requests) (3.2)\n",
      "Requirement already satisfied: beautifulsoup4 in c:\\users\\30822\\anaconda3\\lib\\site-packages (4.10.0)\n",
      "Requirement already satisfied: soupsieve>1.2 in c:\\users\\30822\\anaconda3\\lib\\site-packages (from beautifulsoup4) (2.2.1)\n",
      "Requirement already satisfied: selenium in c:\\users\\30822\\anaconda3\\lib\\site-packages (4.1.5)\n",
      "Requirement already satisfied: trio-websocket~=0.9 in c:\\users\\30822\\anaconda3\\lib\\site-packages (from selenium) (0.9.2)\n",
      "Requirement already satisfied: trio~=0.17 in c:\\users\\30822\\anaconda3\\lib\\site-packages (from selenium) (0.20.0)\n",
      "Requirement already satisfied: urllib3[secure,socks]~=1.26 in c:\\users\\30822\\anaconda3\\lib\\site-packages (from selenium) (1.26.7)\n",
      "Requirement already satisfied: cffi>=1.14 in c:\\users\\30822\\anaconda3\\lib\\site-packages (from trio~=0.17->selenium) (1.14.6)\n",
      "Requirement already satisfied: idna in c:\\users\\30822\\anaconda3\\lib\\site-packages (from trio~=0.17->selenium) (3.2)\n",
      "Requirement already satisfied: sortedcontainers in c:\\users\\30822\\anaconda3\\lib\\site-packages (from trio~=0.17->selenium) (2.4.0)\n",
      "Requirement already satisfied: async-generator>=1.9 in c:\\users\\30822\\anaconda3\\lib\\site-packages (from trio~=0.17->selenium) (1.10)\n",
      "Requirement already satisfied: sniffio in c:\\users\\30822\\anaconda3\\lib\\site-packages (from trio~=0.17->selenium) (1.2.0)\n",
      "Requirement already satisfied: attrs>=19.2.0 in c:\\users\\30822\\anaconda3\\lib\\site-packages (from trio~=0.17->selenium) (21.2.0)\n",
      "Requirement already satisfied: outcome in c:\\users\\30822\\anaconda3\\lib\\site-packages (from trio~=0.17->selenium) (1.1.0)\n",
      "Requirement already satisfied: pycparser in c:\\users\\30822\\anaconda3\\lib\\site-packages (from cffi>=1.14->trio~=0.17->selenium) (2.20)\n",
      "Requirement already satisfied: wsproto>=0.14 in c:\\users\\30822\\anaconda3\\lib\\site-packages (from trio-websocket~=0.9->selenium) (1.1.0)\n",
      "Requirement already satisfied: pyOpenSSL>=0.14 in c:\\users\\30822\\anaconda3\\lib\\site-packages (from urllib3[secure,socks]~=1.26->selenium) (21.0.0)\n",
      "Requirement already satisfied: cryptography>=1.3.4 in c:\\users\\30822\\anaconda3\\lib\\site-packages (from urllib3[secure,socks]~=1.26->selenium) (3.4.8)\n",
      "Requirement already satisfied: certifi in c:\\users\\30822\\anaconda3\\lib\\site-packages (from urllib3[secure,socks]~=1.26->selenium) (2021.10.8)\n",
      "Requirement already satisfied: PySocks!=1.5.7,<2.0,>=1.5.6 in c:\\users\\30822\\anaconda3\\lib\\site-packages (from urllib3[secure,socks]~=1.26->selenium) (1.7.1)\n",
      "Requirement already satisfied: six>=1.5.2 in c:\\users\\30822\\anaconda3\\lib\\site-packages (from pyOpenSSL>=0.14->urllib3[secure,socks]~=1.26->selenium) (1.16.0)\n",
      "Requirement already satisfied: h11<1,>=0.9.0 in c:\\users\\30822\\anaconda3\\lib\\site-packages (from wsproto>=0.14->trio-websocket~=0.9->selenium) (0.13.0)\n",
      "Requirement already satisfied: lxml in c:\\users\\30822\\anaconda3\\lib\\site-packages (4.6.3)\n",
      "Requirement already satisfied: webdriver_manager in c:\\users\\30822\\anaconda3\\lib\\site-packages (3.5.4)\n",
      "Requirement already satisfied: requests in c:\\users\\30822\\anaconda3\\lib\\site-packages (from webdriver_manager) (2.26.0)\n",
      "Requirement already satisfied: charset-normalizer~=2.0.0 in c:\\users\\30822\\anaconda3\\lib\\site-packages (from requests->webdriver_manager) (2.0.4)\n",
      "Requirement already satisfied: idna<4,>=2.5 in c:\\users\\30822\\anaconda3\\lib\\site-packages (from requests->webdriver_manager) (3.2)\n",
      "Requirement already satisfied: certifi>=2017.4.17 in c:\\users\\30822\\anaconda3\\lib\\site-packages (from requests->webdriver_manager) (2021.10.8)\n",
      "Requirement already satisfied: urllib3<1.27,>=1.21.1 in c:\\users\\30822\\anaconda3\\lib\\site-packages (from requests->webdriver_manager) (1.26.7)\n"
     ]
    }
   ],
   "source": [
    "#정보 요청 라이브러리\n",
    "!pip install requests\n",
    "\n",
    "#크롤링 라이브러리\n",
    "!pip install beautifulsoup4\n",
    "!pip install selenium\n",
    "\n",
    "#구문 분석 라이브러리\n",
    "!pip install lxml\n",
    "\n",
    "#셀레늄 라이브러리\n",
    "!pip install webdriver_manager"
   ]
  },
  {
   "cell_type": "code",
   "execution_count": 23,
   "metadata": {},
   "outputs": [],
   "source": [
    "#셀레늄 라이브러리 불러오기\n",
    "from selenium import webdriver\n",
    "\n",
    "from selenium.webdriver.chrome.service import Service\n",
    "from webdriver_manager.chrome import ChromeDriverManager\n",
    "\n",
    "#셀레늄에서 html문서가 생성될 때까지 대기하는 함수 불러오기\n",
    "from selenium.webdriver.support.ui import WebDriverWait\n",
    "\n",
    "#셀레늄에서 조건을 걸어줄 수 있는 함수 불러오기\n",
    "from selenium.webdriver.support import expected_conditions as EC\n",
    "from selenium.webdriver.common.by import By\n",
    "\n",
    "import numpy as np\n",
    "import pandas as pd"
   ]
  },
  {
   "cell_type": "code",
   "execution_count": 2,
   "metadata": {},
   "outputs": [
    {
     "name": "stderr",
     "output_type": "stream",
     "text": [
      "\n",
      "\n",
      "====== WebDriver manager ======\n",
      "Current google-chrome version is 103.0.5060\n",
      "Get LATEST chromedriver version for 103.0.5060 google-chrome\n",
      "Driver [C:\\Users\\30822\\.wdm\\drivers\\chromedriver\\win32\\103.0.5060.134\\chromedriver.exe] found in cache\n"
     ]
    }
   ],
   "source": [
    "browser = webdriver.Chrome(service = Service(ChromeDriverManager().install()))"
   ]
  },
  {
   "cell_type": "code",
   "execution_count": 39,
   "metadata": {},
   "outputs": [],
   "source": [
    "browser.get('https://sg.sbiz.or.kr/godo/stat/upso.sg')"
   ]
  },
  {
   "cell_type": "markdown",
   "metadata": {},
   "source": [
    "## 대전광역시"
   ]
  },
  {
   "cell_type": "code",
   "execution_count": 7,
   "metadata": {
    "id": "xirpRsqE2J-I"
   },
   "outputs": [],
   "source": [
    "#시군구 선택 \n",
    "browser.find_element(\"xpath\",\"/html/body/div[1]/div[2]/div[1]/div[2]/div/div/div[1]/div/div[1]/ul/li[1]/div/div[2]/a\").click()"
   ]
  },
  {
   "cell_type": "code",
   "execution_count": 8,
   "metadata": {
    "id": "01IULEaZ2J-J"
   },
   "outputs": [],
   "source": [
    "#대전 선택\n",
    "browser.find_element(\"xpath\",'//*[@id=\"megaUl\"]/li[7]/label').click()"
   ]
  },
  {
   "cell_type": "code",
   "execution_count": 9,
   "metadata": {
    "id": "CBEBH8t72J-J"
   },
   "outputs": [],
   "source": [
    "#전체 선택\n",
    "browser.find_element(\"xpath\",\"/html/body/div[2]/div/div[2]/div/div[2]/a[2]/span\").click()"
   ]
  },
  {
   "cell_type": "code",
   "execution_count": 10,
   "metadata": {
    "id": "_lI6uhgU2J-K"
   },
   "outputs": [],
   "source": [
    "#확인버튼 누르기 \n",
    "browser.find_element(\"xpath\",\"/html/body/div[1]/div[2]/div[1]/div[2]/div/div/div[1]/div/div[2]/a/span\").click()"
   ]
  },
  {
   "cell_type": "code",
   "execution_count": 11,
   "metadata": {
    "id": "Z64ZPKqE2J-K"
   },
   "outputs": [],
   "source": [
    "#긁어오기시작 \n",
    "from selenium.webdriver.common.by import By\n",
    "from selenium.webdriver.common.keys import Keys"
   ]
  },
  {
   "cell_type": "code",
   "execution_count": 12,
   "metadata": {
    "id": "OtdPyGER2J-K",
    "outputId": "e6b0da41-a9f0-49b4-dfd3-09e58708e44e"
   },
   "outputs": [
    {
     "name": "stdout",
     "output_type": "stream",
     "text": [
      "대전광역시\n",
      "76,037\n",
      "74,512\n",
      "-2.01%\n",
      "┗ 동구\n",
      "11,294\n",
      "10,972\n",
      "-2.85%\n",
      "┗ 중구\n",
      "12,000\n",
      "11,754\n",
      "-2.05%\n",
      "┗ 서구\n",
      "24,340\n",
      "23,752\n",
      "-2.42%\n",
      "┗ 유성구\n",
      "17,452\n",
      "17,188\n",
      "-1.51%\n",
      "┗ 대덕구\n",
      "10,523\n",
      "10,279\n",
      "-2.32%\n"
     ]
    }
   ],
   "source": [
    "y= browser.find_elements(By.CSS_SELECTOR,'#upsoTable > tr > td')\n",
    "for x in y :\n",
    "    print(x.text)"
   ]
  },
  {
   "cell_type": "code",
   "execution_count": 14,
   "metadata": {
    "scrolled": false
   },
   "outputs": [
    {
     "data": {
      "text/plain": [
       "['대전광역시',\n",
       " '76,037',\n",
       " '74,512',\n",
       " '-2.01%',\n",
       " '┗ 동구',\n",
       " '11,294',\n",
       " '10,972',\n",
       " '-2.85%',\n",
       " '┗ 중구',\n",
       " '12,000',\n",
       " '11,754',\n",
       " '-2.05%',\n",
       " '┗ 서구',\n",
       " '24,340',\n",
       " '23,752',\n",
       " '-2.42%',\n",
       " '┗ 유성구',\n",
       " '17,452',\n",
       " '17,188',\n",
       " '-1.51%',\n",
       " '┗ 대덕구',\n",
       " '10,523',\n",
       " '10,279',\n",
       " '-2.32%']"
      ]
     },
     "execution_count": 14,
     "metadata": {},
     "output_type": "execute_result"
    }
   ],
   "source": [
    "lst = []\n",
    "for x in y:\n",
    "    lst.append(x.text)\n",
    "lst"
   ]
  },
  {
   "cell_type": "code",
   "execution_count": 22,
   "metadata": {},
   "outputs": [
    {
     "data": {
      "text/plain": [
       "['대전광역시',\n",
       " '76,037',\n",
       " '74,512',\n",
       " '-2.01%',\n",
       " '동구',\n",
       " '11,294',\n",
       " '10,972',\n",
       " '-2.85%',\n",
       " '중구',\n",
       " '12,000',\n",
       " '11,754',\n",
       " '-2.05%',\n",
       " '서구',\n",
       " '24,340',\n",
       " '23,752',\n",
       " '-2.42%',\n",
       " '유성구',\n",
       " '17,452',\n",
       " '17,188',\n",
       " '-1.51%',\n",
       " '대덕구',\n",
       " '10,523',\n",
       " '10,279',\n",
       " '-2.32%']"
      ]
     },
     "execution_count": 22,
     "metadata": {},
     "output_type": "execute_result"
    }
   ],
   "source": [
    "for i in range(len(lst)):\n",
    "    if '┗ ' in lst[i]:\n",
    "        lst[i] = lst[i].lstrip('┗ ')\n",
    "lst"
   ]
  },
  {
   "cell_type": "code",
   "execution_count": 34,
   "metadata": {},
   "outputs": [
    {
     "data": {
      "text/html": [
       "<div>\n",
       "<style scoped>\n",
       "    .dataframe tbody tr th:only-of-type {\n",
       "        vertical-align: middle;\n",
       "    }\n",
       "\n",
       "    .dataframe tbody tr th {\n",
       "        vertical-align: top;\n",
       "    }\n",
       "\n",
       "    .dataframe thead th {\n",
       "        text-align: right;\n",
       "    }\n",
       "</style>\n",
       "<table border=\"1\" class=\"dataframe\">\n",
       "  <thead>\n",
       "    <tr style=\"text-align: right;\">\n",
       "      <th></th>\n",
       "      <th>행정구역</th>\n",
       "      <th>2021년 상반기</th>\n",
       "      <th>2021년 하반기</th>\n",
       "      <th>증감률</th>\n",
       "    </tr>\n",
       "  </thead>\n",
       "  <tbody>\n",
       "  </tbody>\n",
       "</table>\n",
       "</div>"
      ],
      "text/plain": [
       "Empty DataFrame\n",
       "Columns: [행정구역, 2021년 상반기, 2021년 하반기, 증감률]\n",
       "Index: []"
      ]
     },
     "execution_count": 34,
     "metadata": {},
     "output_type": "execute_result"
    }
   ],
   "source": [
    "DJN = pd.DataFrame(columns=['행정구역', '2021년 상반기', '2021년 하반기', '증감률'])\n",
    "DJN"
   ]
  },
  {
   "cell_type": "code",
   "execution_count": 35,
   "metadata": {},
   "outputs": [
    {
     "data": {
      "text/html": [
       "<div>\n",
       "<style scoped>\n",
       "    .dataframe tbody tr th:only-of-type {\n",
       "        vertical-align: middle;\n",
       "    }\n",
       "\n",
       "    .dataframe tbody tr th {\n",
       "        vertical-align: top;\n",
       "    }\n",
       "\n",
       "    .dataframe thead th {\n",
       "        text-align: right;\n",
       "    }\n",
       "</style>\n",
       "<table border=\"1\" class=\"dataframe\">\n",
       "  <thead>\n",
       "    <tr style=\"text-align: right;\">\n",
       "      <th></th>\n",
       "      <th>행정구역</th>\n",
       "      <th>2021년 상반기</th>\n",
       "      <th>2021년 하반기</th>\n",
       "      <th>증감률</th>\n",
       "    </tr>\n",
       "  </thead>\n",
       "  <tbody>\n",
       "    <tr>\n",
       "      <th>0</th>\n",
       "      <td>대전광역시</td>\n",
       "      <td>76,037</td>\n",
       "      <td>74,512</td>\n",
       "      <td>-2.01%</td>\n",
       "    </tr>\n",
       "    <tr>\n",
       "      <th>1</th>\n",
       "      <td>동구</td>\n",
       "      <td>11,294</td>\n",
       "      <td>10,972</td>\n",
       "      <td>-2.85%</td>\n",
       "    </tr>\n",
       "    <tr>\n",
       "      <th>2</th>\n",
       "      <td>중구</td>\n",
       "      <td>12,000</td>\n",
       "      <td>11,754</td>\n",
       "      <td>-2.05%</td>\n",
       "    </tr>\n",
       "    <tr>\n",
       "      <th>3</th>\n",
       "      <td>서구</td>\n",
       "      <td>24,340</td>\n",
       "      <td>23,752</td>\n",
       "      <td>-2.42%</td>\n",
       "    </tr>\n",
       "    <tr>\n",
       "      <th>4</th>\n",
       "      <td>유성구</td>\n",
       "      <td>17,452</td>\n",
       "      <td>17,188</td>\n",
       "      <td>-1.51%</td>\n",
       "    </tr>\n",
       "  </tbody>\n",
       "</table>\n",
       "</div>"
      ],
      "text/plain": [
       "    행정구역 2021년 상반기 2021년 하반기     증감률\n",
       "0  대전광역시    76,037    74,512  -2.01%\n",
       "1     동구    11,294    10,972  -2.85%\n",
       "2     중구    12,000    11,754  -2.05%\n",
       "3     서구    24,340    23,752  -2.42%\n",
       "4    유성구    17,452    17,188  -1.51%"
      ]
     },
     "execution_count": 35,
     "metadata": {},
     "output_type": "execute_result"
    }
   ],
   "source": [
    "for i in [0, 4, 8, 12, 16]:\n",
    "    DJN = DJN.append({'행정구역':lst[i], '2021년 상반기':lst[i+1], '2021년 하반기' : lst[i+2], '증감률':lst[i+3]}, ignore_index=True)\n",
    "DJN"
   ]
  },
  {
   "cell_type": "code",
   "execution_count": 59,
   "metadata": {},
   "outputs": [],
   "source": [
    "DJN.to_csv('대전광역시 업소현황.csv', encoding='cp949')"
   ]
  },
  {
   "cell_type": "markdown",
   "metadata": {},
   "source": [
    "## 충청북도"
   ]
  },
  {
   "cell_type": "code",
   "execution_count": 41,
   "metadata": {
    "scrolled": true
   },
   "outputs": [
    {
     "data": {
      "text/plain": [
       "['충청북도',\n",
       " '99,650',\n",
       " '97,035',\n",
       " '-2.62%',\n",
       " '┗ 청주시',\n",
       " '46,800',\n",
       " '45,466',\n",
       " '-2.85%',\n",
       " '┗ 충주시',\n",
       " '15,919',\n",
       " '15,234',\n",
       " '-4.3%',\n",
       " '┗ 제천시',\n",
       " '9,875',\n",
       " '9,356',\n",
       " '-5.26%',\n",
       " '┗ 보은군',\n",
       " '2,327',\n",
       " '2,280',\n",
       " '-2.02%',\n",
       " '┗ 옥천군',\n",
       " '2,809',\n",
       " '2,730',\n",
       " '-2.81%',\n",
       " '┗ 영동군',\n",
       " '2,793',\n",
       " '2,758',\n",
       " '-1.25%',\n",
       " '┗ 진천군',\n",
       " '4,563',\n",
       " '4,564',\n",
       " '0.02%',\n",
       " '┗ 괴산군',\n",
       " '2,475',\n",
       " '2,389',\n",
       " '-3.47%',\n",
       " '┗ 음성군',\n",
       " '7,280',\n",
       " '7,235',\n",
       " '-0.62%',\n",
       " '┗ 증평군',\n",
       " '2,007',\n",
       " '1,934',\n",
       " '-3.64%',\n",
       " '┗ 단양군',\n",
       " '2,297',\n",
       " '2,174',\n",
       " '-5.35%']"
      ]
     },
     "execution_count": 41,
     "metadata": {},
     "output_type": "execute_result"
    }
   ],
   "source": [
    "lst1 = []\n",
    "\n",
    "y1 = browser.find_elements(By.CSS_SELECTOR,'#upsoTable > tr > td')\n",
    "\n",
    "for x1 in y1 :\n",
    "    lst1.append(x1.text)\n",
    "\n",
    "lst1"
   ]
  },
  {
   "cell_type": "code",
   "execution_count": 42,
   "metadata": {
    "scrolled": true
   },
   "outputs": [
    {
     "data": {
      "text/plain": [
       "['충청북도',\n",
       " '99,650',\n",
       " '97,035',\n",
       " '-2.62%',\n",
       " '청주시',\n",
       " '46,800',\n",
       " '45,466',\n",
       " '-2.85%',\n",
       " '충주시',\n",
       " '15,919',\n",
       " '15,234',\n",
       " '-4.3%',\n",
       " '제천시',\n",
       " '9,875',\n",
       " '9,356',\n",
       " '-5.26%',\n",
       " '보은군',\n",
       " '2,327',\n",
       " '2,280',\n",
       " '-2.02%',\n",
       " '옥천군',\n",
       " '2,809',\n",
       " '2,730',\n",
       " '-2.81%',\n",
       " '영동군',\n",
       " '2,793',\n",
       " '2,758',\n",
       " '-1.25%',\n",
       " '진천군',\n",
       " '4,563',\n",
       " '4,564',\n",
       " '0.02%',\n",
       " '괴산군',\n",
       " '2,475',\n",
       " '2,389',\n",
       " '-3.47%',\n",
       " '음성군',\n",
       " '7,280',\n",
       " '7,235',\n",
       " '-0.62%',\n",
       " '증평군',\n",
       " '2,007',\n",
       " '1,934',\n",
       " '-3.64%',\n",
       " '단양군',\n",
       " '2,297',\n",
       " '2,174',\n",
       " '-5.35%']"
      ]
     },
     "execution_count": 42,
     "metadata": {},
     "output_type": "execute_result"
    }
   ],
   "source": [
    "for i in range(len(lst1)):\n",
    "    if '┗ ' in lst1[i]:\n",
    "        lst1[i] = lst1[i].lstrip('┗ ')\n",
    "lst1"
   ]
  },
  {
   "cell_type": "code",
   "execution_count": 46,
   "metadata": {},
   "outputs": [
    {
     "data": {
      "text/html": [
       "<div>\n",
       "<style scoped>\n",
       "    .dataframe tbody tr th:only-of-type {\n",
       "        vertical-align: middle;\n",
       "    }\n",
       "\n",
       "    .dataframe tbody tr th {\n",
       "        vertical-align: top;\n",
       "    }\n",
       "\n",
       "    .dataframe thead th {\n",
       "        text-align: right;\n",
       "    }\n",
       "</style>\n",
       "<table border=\"1\" class=\"dataframe\">\n",
       "  <thead>\n",
       "    <tr style=\"text-align: right;\">\n",
       "      <th></th>\n",
       "      <th>행정구역</th>\n",
       "      <th>2021년 상반기</th>\n",
       "      <th>2021년 하반기</th>\n",
       "      <th>증감률</th>\n",
       "    </tr>\n",
       "  </thead>\n",
       "  <tbody>\n",
       "  </tbody>\n",
       "</table>\n",
       "</div>"
      ],
      "text/plain": [
       "Empty DataFrame\n",
       "Columns: [행정구역, 2021년 상반기, 2021년 하반기, 증감률]\n",
       "Index: []"
      ]
     },
     "execution_count": 46,
     "metadata": {},
     "output_type": "execute_result"
    }
   ],
   "source": [
    "CHB = pd.DataFrame(columns=['행정구역', '2021년 상반기', '2021년 하반기', '증감률'])\n",
    "CHB"
   ]
  },
  {
   "cell_type": "code",
   "execution_count": 47,
   "metadata": {
    "scrolled": true
   },
   "outputs": [
    {
     "data": {
      "text/html": [
       "<div>\n",
       "<style scoped>\n",
       "    .dataframe tbody tr th:only-of-type {\n",
       "        vertical-align: middle;\n",
       "    }\n",
       "\n",
       "    .dataframe tbody tr th {\n",
       "        vertical-align: top;\n",
       "    }\n",
       "\n",
       "    .dataframe thead th {\n",
       "        text-align: right;\n",
       "    }\n",
       "</style>\n",
       "<table border=\"1\" class=\"dataframe\">\n",
       "  <thead>\n",
       "    <tr style=\"text-align: right;\">\n",
       "      <th></th>\n",
       "      <th>행정구역</th>\n",
       "      <th>2021년 상반기</th>\n",
       "      <th>2021년 하반기</th>\n",
       "      <th>증감률</th>\n",
       "    </tr>\n",
       "  </thead>\n",
       "  <tbody>\n",
       "    <tr>\n",
       "      <th>0</th>\n",
       "      <td>충청북도</td>\n",
       "      <td>99,650</td>\n",
       "      <td>97,035</td>\n",
       "      <td>-2.62%</td>\n",
       "    </tr>\n",
       "    <tr>\n",
       "      <th>1</th>\n",
       "      <td>청주시</td>\n",
       "      <td>46,800</td>\n",
       "      <td>45,466</td>\n",
       "      <td>-2.85%</td>\n",
       "    </tr>\n",
       "    <tr>\n",
       "      <th>2</th>\n",
       "      <td>충주시</td>\n",
       "      <td>15,919</td>\n",
       "      <td>15,234</td>\n",
       "      <td>-4.3%</td>\n",
       "    </tr>\n",
       "    <tr>\n",
       "      <th>3</th>\n",
       "      <td>제천시</td>\n",
       "      <td>9,875</td>\n",
       "      <td>9,356</td>\n",
       "      <td>-5.26%</td>\n",
       "    </tr>\n",
       "    <tr>\n",
       "      <th>4</th>\n",
       "      <td>보은군</td>\n",
       "      <td>2,327</td>\n",
       "      <td>2,280</td>\n",
       "      <td>-2.02%</td>\n",
       "    </tr>\n",
       "    <tr>\n",
       "      <th>5</th>\n",
       "      <td>옥천군</td>\n",
       "      <td>2,809</td>\n",
       "      <td>2,730</td>\n",
       "      <td>-2.81%</td>\n",
       "    </tr>\n",
       "    <tr>\n",
       "      <th>6</th>\n",
       "      <td>영동군</td>\n",
       "      <td>2,793</td>\n",
       "      <td>2,758</td>\n",
       "      <td>-1.25%</td>\n",
       "    </tr>\n",
       "    <tr>\n",
       "      <th>7</th>\n",
       "      <td>진천군</td>\n",
       "      <td>4,563</td>\n",
       "      <td>4,564</td>\n",
       "      <td>0.02%</td>\n",
       "    </tr>\n",
       "    <tr>\n",
       "      <th>8</th>\n",
       "      <td>괴산군</td>\n",
       "      <td>2,475</td>\n",
       "      <td>2,389</td>\n",
       "      <td>-3.47%</td>\n",
       "    </tr>\n",
       "    <tr>\n",
       "      <th>9</th>\n",
       "      <td>음성군</td>\n",
       "      <td>7,280</td>\n",
       "      <td>7,235</td>\n",
       "      <td>-0.62%</td>\n",
       "    </tr>\n",
       "    <tr>\n",
       "      <th>10</th>\n",
       "      <td>증평군</td>\n",
       "      <td>2,007</td>\n",
       "      <td>1,934</td>\n",
       "      <td>-3.64%</td>\n",
       "    </tr>\n",
       "    <tr>\n",
       "      <th>11</th>\n",
       "      <td>단양군</td>\n",
       "      <td>2,297</td>\n",
       "      <td>2,174</td>\n",
       "      <td>-5.35%</td>\n",
       "    </tr>\n",
       "  </tbody>\n",
       "</table>\n",
       "</div>"
      ],
      "text/plain": [
       "    행정구역 2021년 상반기 2021년 하반기     증감률\n",
       "0   충청북도    99,650    97,035  -2.62%\n",
       "1    청주시    46,800    45,466  -2.85%\n",
       "2    충주시    15,919    15,234   -4.3%\n",
       "3    제천시     9,875     9,356  -5.26%\n",
       "4    보은군     2,327     2,280  -2.02%\n",
       "5    옥천군     2,809     2,730  -2.81%\n",
       "6    영동군     2,793     2,758  -1.25%\n",
       "7    진천군     4,563     4,564   0.02%\n",
       "8    괴산군     2,475     2,389  -3.47%\n",
       "9    음성군     7,280     7,235  -0.62%\n",
       "10   증평군     2,007     1,934  -3.64%\n",
       "11   단양군     2,297     2,174  -5.35%"
      ]
     },
     "execution_count": 47,
     "metadata": {},
     "output_type": "execute_result"
    }
   ],
   "source": [
    "for i in [0, 4, 8, 12, 16, 20, 24, 28, 32, 36, 40, 44]:\n",
    "    CHB = CHB.append({'행정구역':lst1[i], '2021년 상반기':lst1[i+1], '2021년 하반기' : lst1[i+2], '증감률':lst1[i+3]}, ignore_index=True)\n",
    "CHB"
   ]
  },
  {
   "cell_type": "code",
   "execution_count": 60,
   "metadata": {},
   "outputs": [],
   "source": [
    "CHB.to_csv('충청북도 업소현황.csv', encoding='cp949')"
   ]
  },
  {
   "cell_type": "markdown",
   "metadata": {},
   "source": [
    "## 충청남도"
   ]
  },
  {
   "cell_type": "code",
   "execution_count": 48,
   "metadata": {
    "scrolled": true
   },
   "outputs": [
    {
     "data": {
      "text/plain": [
       "['충청남도',\n",
       " '135,242',\n",
       " '131,795',\n",
       " '-2.55%',\n",
       " '┗ 천안시',\n",
       " '38,292',\n",
       " '37,096',\n",
       " '-3.12%',\n",
       " '┗ 공주시',\n",
       " '8,177',\n",
       " '7,966',\n",
       " '-2.58%',\n",
       " '┗ 보령시',\n",
       " '8,908',\n",
       " '8,882',\n",
       " '-0.29%',\n",
       " '┗ 아산시',\n",
       " '15,975',\n",
       " '14,419',\n",
       " '-9.74%',\n",
       " '┗ 서산시',\n",
       " '10,135',\n",
       " '10,009',\n",
       " '-1.24%',\n",
       " '┗ 논산시',\n",
       " '8,692',\n",
       " '8,604',\n",
       " '-1.01%',\n",
       " '┗ 계룡시',\n",
       " '1,854',\n",
       " '1,769',\n",
       " '-4.58%',\n",
       " '┗ 당진시',\n",
       " '10,174',\n",
       " '10,004',\n",
       " '-1.67%',\n",
       " '┗ 금산군',\n",
       " '4,173',\n",
       " '4,094',\n",
       " '-1.89%',\n",
       " '┗ 부여군',\n",
       " '4,031',\n",
       " '3,913',\n",
       " '-2.93%',\n",
       " '┗ 서천군',\n",
       " '3,694',\n",
       " '3,588',\n",
       " '-2.87%',\n",
       " '┗ 청양군',\n",
       " '2,051',\n",
       " '1,945',\n",
       " '-5.17%',\n",
       " '┗ 홍성군',\n",
       " '7,121',\n",
       " '7,081',\n",
       " '-0.56%',\n",
       " '┗ 예산군',\n",
       " '5,309',\n",
       " '5,198',\n",
       " '-2.09%',\n",
       " '┗ 태안군',\n",
       " '5,806',\n",
       " '5,747',\n",
       " '-1.02%']"
      ]
     },
     "execution_count": 48,
     "metadata": {},
     "output_type": "execute_result"
    }
   ],
   "source": [
    "lst2 = []\n",
    "\n",
    "y2 = browser.find_elements(By.CSS_SELECTOR,'#upsoTable > tr > td')\n",
    "\n",
    "for x2 in y2 :\n",
    "    lst2.append(x2.text)\n",
    "\n",
    "lst2"
   ]
  },
  {
   "cell_type": "code",
   "execution_count": 49,
   "metadata": {
    "scrolled": true
   },
   "outputs": [
    {
     "data": {
      "text/plain": [
       "['충청남도',\n",
       " '135,242',\n",
       " '131,795',\n",
       " '-2.55%',\n",
       " '천안시',\n",
       " '38,292',\n",
       " '37,096',\n",
       " '-3.12%',\n",
       " '공주시',\n",
       " '8,177',\n",
       " '7,966',\n",
       " '-2.58%',\n",
       " '보령시',\n",
       " '8,908',\n",
       " '8,882',\n",
       " '-0.29%',\n",
       " '아산시',\n",
       " '15,975',\n",
       " '14,419',\n",
       " '-9.74%',\n",
       " '서산시',\n",
       " '10,135',\n",
       " '10,009',\n",
       " '-1.24%',\n",
       " '논산시',\n",
       " '8,692',\n",
       " '8,604',\n",
       " '-1.01%',\n",
       " '계룡시',\n",
       " '1,854',\n",
       " '1,769',\n",
       " '-4.58%',\n",
       " '당진시',\n",
       " '10,174',\n",
       " '10,004',\n",
       " '-1.67%',\n",
       " '금산군',\n",
       " '4,173',\n",
       " '4,094',\n",
       " '-1.89%',\n",
       " '부여군',\n",
       " '4,031',\n",
       " '3,913',\n",
       " '-2.93%',\n",
       " '서천군',\n",
       " '3,694',\n",
       " '3,588',\n",
       " '-2.87%',\n",
       " '청양군',\n",
       " '2,051',\n",
       " '1,945',\n",
       " '-5.17%',\n",
       " '홍성군',\n",
       " '7,121',\n",
       " '7,081',\n",
       " '-0.56%',\n",
       " '예산군',\n",
       " '5,309',\n",
       " '5,198',\n",
       " '-2.09%',\n",
       " '태안군',\n",
       " '5,806',\n",
       " '5,747',\n",
       " '-1.02%']"
      ]
     },
     "execution_count": 49,
     "metadata": {},
     "output_type": "execute_result"
    }
   ],
   "source": [
    "for i in range(len(lst2)):\n",
    "    if '┗ ' in lst2[i]:\n",
    "        lst2[i] = lst2[i].lstrip('┗ ')\n",
    "lst2"
   ]
  },
  {
   "cell_type": "code",
   "execution_count": 57,
   "metadata": {},
   "outputs": [
    {
     "data": {
      "text/html": [
       "<div>\n",
       "<style scoped>\n",
       "    .dataframe tbody tr th:only-of-type {\n",
       "        vertical-align: middle;\n",
       "    }\n",
       "\n",
       "    .dataframe tbody tr th {\n",
       "        vertical-align: top;\n",
       "    }\n",
       "\n",
       "    .dataframe thead th {\n",
       "        text-align: right;\n",
       "    }\n",
       "</style>\n",
       "<table border=\"1\" class=\"dataframe\">\n",
       "  <thead>\n",
       "    <tr style=\"text-align: right;\">\n",
       "      <th></th>\n",
       "      <th>행정구역</th>\n",
       "      <th>2021년 상반기</th>\n",
       "      <th>2021년 하반기</th>\n",
       "      <th>증감률</th>\n",
       "    </tr>\n",
       "  </thead>\n",
       "  <tbody>\n",
       "  </tbody>\n",
       "</table>\n",
       "</div>"
      ],
      "text/plain": [
       "Empty DataFrame\n",
       "Columns: [행정구역, 2021년 상반기, 2021년 하반기, 증감률]\n",
       "Index: []"
      ]
     },
     "execution_count": 57,
     "metadata": {},
     "output_type": "execute_result"
    }
   ],
   "source": [
    "CHN = pd.DataFrame(columns=['행정구역', '2021년 상반기', '2021년 하반기', '증감률'])\n",
    "CHN"
   ]
  },
  {
   "cell_type": "code",
   "execution_count": 58,
   "metadata": {
    "scrolled": true
   },
   "outputs": [
    {
     "data": {
      "text/html": [
       "<div>\n",
       "<style scoped>\n",
       "    .dataframe tbody tr th:only-of-type {\n",
       "        vertical-align: middle;\n",
       "    }\n",
       "\n",
       "    .dataframe tbody tr th {\n",
       "        vertical-align: top;\n",
       "    }\n",
       "\n",
       "    .dataframe thead th {\n",
       "        text-align: right;\n",
       "    }\n",
       "</style>\n",
       "<table border=\"1\" class=\"dataframe\">\n",
       "  <thead>\n",
       "    <tr style=\"text-align: right;\">\n",
       "      <th></th>\n",
       "      <th>행정구역</th>\n",
       "      <th>2021년 상반기</th>\n",
       "      <th>2021년 하반기</th>\n",
       "      <th>증감률</th>\n",
       "    </tr>\n",
       "  </thead>\n",
       "  <tbody>\n",
       "    <tr>\n",
       "      <th>0</th>\n",
       "      <td>충청남도</td>\n",
       "      <td>135,242</td>\n",
       "      <td>131,795</td>\n",
       "      <td>-2.55%</td>\n",
       "    </tr>\n",
       "    <tr>\n",
       "      <th>1</th>\n",
       "      <td>천안시</td>\n",
       "      <td>38,292</td>\n",
       "      <td>37,096</td>\n",
       "      <td>-3.12%</td>\n",
       "    </tr>\n",
       "    <tr>\n",
       "      <th>2</th>\n",
       "      <td>공주시</td>\n",
       "      <td>8,177</td>\n",
       "      <td>7,966</td>\n",
       "      <td>-2.58%</td>\n",
       "    </tr>\n",
       "    <tr>\n",
       "      <th>3</th>\n",
       "      <td>보령시</td>\n",
       "      <td>8,908</td>\n",
       "      <td>8,882</td>\n",
       "      <td>-0.29%</td>\n",
       "    </tr>\n",
       "    <tr>\n",
       "      <th>4</th>\n",
       "      <td>아산시</td>\n",
       "      <td>15,975</td>\n",
       "      <td>14,419</td>\n",
       "      <td>-9.74%</td>\n",
       "    </tr>\n",
       "    <tr>\n",
       "      <th>5</th>\n",
       "      <td>서산시</td>\n",
       "      <td>10,135</td>\n",
       "      <td>10,009</td>\n",
       "      <td>-1.24%</td>\n",
       "    </tr>\n",
       "    <tr>\n",
       "      <th>6</th>\n",
       "      <td>논산시</td>\n",
       "      <td>8,692</td>\n",
       "      <td>8,604</td>\n",
       "      <td>-1.01%</td>\n",
       "    </tr>\n",
       "    <tr>\n",
       "      <th>7</th>\n",
       "      <td>계룡시</td>\n",
       "      <td>1,854</td>\n",
       "      <td>1,769</td>\n",
       "      <td>-4.58%</td>\n",
       "    </tr>\n",
       "    <tr>\n",
       "      <th>8</th>\n",
       "      <td>당진시</td>\n",
       "      <td>10,174</td>\n",
       "      <td>10,004</td>\n",
       "      <td>-1.67%</td>\n",
       "    </tr>\n",
       "    <tr>\n",
       "      <th>9</th>\n",
       "      <td>금산군</td>\n",
       "      <td>4,173</td>\n",
       "      <td>4,094</td>\n",
       "      <td>-1.89%</td>\n",
       "    </tr>\n",
       "    <tr>\n",
       "      <th>10</th>\n",
       "      <td>부여군</td>\n",
       "      <td>4,031</td>\n",
       "      <td>3,913</td>\n",
       "      <td>-2.93%</td>\n",
       "    </tr>\n",
       "    <tr>\n",
       "      <th>11</th>\n",
       "      <td>서천군</td>\n",
       "      <td>3,694</td>\n",
       "      <td>3,588</td>\n",
       "      <td>-2.87%</td>\n",
       "    </tr>\n",
       "    <tr>\n",
       "      <th>12</th>\n",
       "      <td>청양군</td>\n",
       "      <td>2,051</td>\n",
       "      <td>1,945</td>\n",
       "      <td>-5.17%</td>\n",
       "    </tr>\n",
       "    <tr>\n",
       "      <th>13</th>\n",
       "      <td>홍성군</td>\n",
       "      <td>7,121</td>\n",
       "      <td>7,081</td>\n",
       "      <td>-0.56%</td>\n",
       "    </tr>\n",
       "    <tr>\n",
       "      <th>14</th>\n",
       "      <td>예산군</td>\n",
       "      <td>5,309</td>\n",
       "      <td>5,198</td>\n",
       "      <td>-2.09%</td>\n",
       "    </tr>\n",
       "    <tr>\n",
       "      <th>15</th>\n",
       "      <td>태안군</td>\n",
       "      <td>5,806</td>\n",
       "      <td>5,747</td>\n",
       "      <td>-1.02%</td>\n",
       "    </tr>\n",
       "  </tbody>\n",
       "</table>\n",
       "</div>"
      ],
      "text/plain": [
       "    행정구역 2021년 상반기 2021년 하반기     증감률\n",
       "0   충청남도   135,242   131,795  -2.55%\n",
       "1    천안시    38,292    37,096  -3.12%\n",
       "2    공주시     8,177     7,966  -2.58%\n",
       "3    보령시     8,908     8,882  -0.29%\n",
       "4    아산시    15,975    14,419  -9.74%\n",
       "5    서산시    10,135    10,009  -1.24%\n",
       "6    논산시     8,692     8,604  -1.01%\n",
       "7    계룡시     1,854     1,769  -4.58%\n",
       "8    당진시    10,174    10,004  -1.67%\n",
       "9    금산군     4,173     4,094  -1.89%\n",
       "10   부여군     4,031     3,913  -2.93%\n",
       "11   서천군     3,694     3,588  -2.87%\n",
       "12   청양군     2,051     1,945  -5.17%\n",
       "13   홍성군     7,121     7,081  -0.56%\n",
       "14   예산군     5,309     5,198  -2.09%\n",
       "15   태안군     5,806     5,747  -1.02%"
      ]
     },
     "execution_count": 58,
     "metadata": {},
     "output_type": "execute_result"
    }
   ],
   "source": [
    "for i in [0, 4, 8, 12, 16, 20, 24, 28, 32, 36, 40, 44, 48, 52, 56, 60]:\n",
    "    CHN = CHN.append({'행정구역':lst2[i], '2021년 상반기':lst2[i+1], '2021년 하반기' : lst2[i+2], '증감률':lst2[i+3]}, ignore_index=True)\n",
    "CHN"
   ]
  },
  {
   "cell_type": "code",
   "execution_count": 61,
   "metadata": {},
   "outputs": [],
   "source": [
    "CHN.to_csv('충청남도 업소현황.csv', encoding='cp949')"
   ]
  },
  {
   "cell_type": "markdown",
   "metadata": {},
   "source": [
    "## 세종특별자치시"
   ]
  },
  {
   "cell_type": "code",
   "execution_count": 53,
   "metadata": {},
   "outputs": [
    {
     "data": {
      "text/plain": [
       "['세종특별자치시',\n",
       " '13,519',\n",
       " '13,450',\n",
       " '-0.51%',\n",
       " '┗ 세종특별자치시',\n",
       " '13,519',\n",
       " '13,450',\n",
       " '-0.51%']"
      ]
     },
     "execution_count": 53,
     "metadata": {},
     "output_type": "execute_result"
    }
   ],
   "source": [
    "lst3 = []\n",
    "\n",
    "y3 = browser.find_elements(By.CSS_SELECTOR,'#upsoTable > tr > td')\n",
    "\n",
    "for x3 in y3 :\n",
    "    lst3.append(x3.text)\n",
    "\n",
    "lst3"
   ]
  },
  {
   "cell_type": "code",
   "execution_count": 54,
   "metadata": {},
   "outputs": [
    {
     "data": {
      "text/plain": [
       "['세종특별자치시',\n",
       " '13,519',\n",
       " '13,450',\n",
       " '-0.51%',\n",
       " '세종특별자치시',\n",
       " '13,519',\n",
       " '13,450',\n",
       " '-0.51%']"
      ]
     },
     "execution_count": 54,
     "metadata": {},
     "output_type": "execute_result"
    }
   ],
   "source": [
    "for i in range(len(lst3)):\n",
    "    if '┗ ' in lst3[i]:\n",
    "        lst3[i] = lst3[i].lstrip('┗ ')\n",
    "lst3"
   ]
  },
  {
   "cell_type": "code",
   "execution_count": 55,
   "metadata": {},
   "outputs": [
    {
     "data": {
      "text/html": [
       "<div>\n",
       "<style scoped>\n",
       "    .dataframe tbody tr th:only-of-type {\n",
       "        vertical-align: middle;\n",
       "    }\n",
       "\n",
       "    .dataframe tbody tr th {\n",
       "        vertical-align: top;\n",
       "    }\n",
       "\n",
       "    .dataframe thead th {\n",
       "        text-align: right;\n",
       "    }\n",
       "</style>\n",
       "<table border=\"1\" class=\"dataframe\">\n",
       "  <thead>\n",
       "    <tr style=\"text-align: right;\">\n",
       "      <th></th>\n",
       "      <th>행정구역</th>\n",
       "      <th>2021년 상반기</th>\n",
       "      <th>2021년 하반기</th>\n",
       "      <th>증감률</th>\n",
       "    </tr>\n",
       "  </thead>\n",
       "  <tbody>\n",
       "  </tbody>\n",
       "</table>\n",
       "</div>"
      ],
      "text/plain": [
       "Empty DataFrame\n",
       "Columns: [행정구역, 2021년 상반기, 2021년 하반기, 증감률]\n",
       "Index: []"
      ]
     },
     "execution_count": 55,
     "metadata": {},
     "output_type": "execute_result"
    }
   ],
   "source": [
    "SEJ = pd.DataFrame(columns=['행정구역', '2021년 상반기', '2021년 하반기', '증감률'])\n",
    "SEJ"
   ]
  },
  {
   "cell_type": "code",
   "execution_count": 56,
   "metadata": {},
   "outputs": [
    {
     "data": {
      "text/html": [
       "<div>\n",
       "<style scoped>\n",
       "    .dataframe tbody tr th:only-of-type {\n",
       "        vertical-align: middle;\n",
       "    }\n",
       "\n",
       "    .dataframe tbody tr th {\n",
       "        vertical-align: top;\n",
       "    }\n",
       "\n",
       "    .dataframe thead th {\n",
       "        text-align: right;\n",
       "    }\n",
       "</style>\n",
       "<table border=\"1\" class=\"dataframe\">\n",
       "  <thead>\n",
       "    <tr style=\"text-align: right;\">\n",
       "      <th></th>\n",
       "      <th>행정구역</th>\n",
       "      <th>2021년 상반기</th>\n",
       "      <th>2021년 하반기</th>\n",
       "      <th>증감률</th>\n",
       "    </tr>\n",
       "  </thead>\n",
       "  <tbody>\n",
       "    <tr>\n",
       "      <th>0</th>\n",
       "      <td>세종특별자치시</td>\n",
       "      <td>13,519</td>\n",
       "      <td>13,450</td>\n",
       "      <td>-0.51%</td>\n",
       "    </tr>\n",
       "    <tr>\n",
       "      <th>1</th>\n",
       "      <td>세종특별자치시</td>\n",
       "      <td>13,519</td>\n",
       "      <td>13,450</td>\n",
       "      <td>-0.51%</td>\n",
       "    </tr>\n",
       "  </tbody>\n",
       "</table>\n",
       "</div>"
      ],
      "text/plain": [
       "      행정구역 2021년 상반기 2021년 하반기     증감률\n",
       "0  세종특별자치시    13,519    13,450  -0.51%\n",
       "1  세종특별자치시    13,519    13,450  -0.51%"
      ]
     },
     "execution_count": 56,
     "metadata": {},
     "output_type": "execute_result"
    }
   ],
   "source": [
    "for i in [0, 4]:\n",
    "    SEJ = SEJ.append({'행정구역':lst3[i], '2021년 상반기':lst3[i+1], '2021년 하반기' : lst3[i+2], '증감률':lst3[i+3]}, ignore_index=True)\n",
    "SEJ"
   ]
  },
  {
   "cell_type": "code",
   "execution_count": 62,
   "metadata": {},
   "outputs": [],
   "source": [
    "SEJ.to_csv('세종특별자치시 업소현황.csv', encoding='cp949')"
   ]
  },
  {
   "cell_type": "markdown",
   "metadata": {},
   "source": [
    "## Scroll 시도"
   ]
  },
  {
   "cell_type": "code",
   "execution_count": 18,
   "metadata": {},
   "outputs": [],
   "source": [
    "browser.execute_script('window.scrollTo(0, document.body.scrollHeight);')\n",
    "#//*[@id=\"ascrail2000\"]"
   ]
  },
  {
   "cell_type": "code",
   "execution_count": 49,
   "metadata": {},
   "outputs": [],
   "source": [
    "def hand_scroll(amount):\n",
    "    try:\n",
    "        scroll = browser.find_element_by_css_selector('#ascrail2009 > div}')\n",
    " \n",
    "        # ActionChains생성\n",
    "        action = ActionChains(browser)\n",
    " \n",
    "        # 클릭하고 잡기\n",
    "        action.click_and_hold(scroll).perform()\n",
    " \n",
    "        # 마우스 내리기\n",
    " \n",
    "        action.move_by_offset(0, amount).perform()\n",
    " \n",
    "        # 마우스 놓아주기\n",
    "        action.release(scroll).perform()\n",
    "    except:  # 끝 도달시\n",
    "        return False"
   ]
  },
  {
   "cell_type": "code",
   "execution_count": 51,
   "metadata": {},
   "outputs": [
    {
     "name": "stderr",
     "output_type": "stream",
     "text": [
      "C:\\Users\\30822\\AppData\\Local\\Temp/ipykernel_14316/2296998580.py:3: DeprecationWarning: find_element_by_css_selector is deprecated. Please use find_element(by=By.CSS_SELECTOR, value=css_selector) instead\n",
      "  scroll = browser.find_element_by_css_selector('#ascrail2009 > div}')\n"
     ]
    },
    {
     "data": {
      "text/plain": [
       "False"
      ]
     },
     "execution_count": 51,
     "metadata": {},
     "output_type": "execute_result"
    }
   ],
   "source": [
    "hand_scroll(0.00001)"
   ]
  },
  {
   "cell_type": "code",
   "execution_count": 54,
   "metadata": {},
   "outputs": [
    {
     "name": "stderr",
     "output_type": "stream",
     "text": [
      "C:\\Users\\30822\\AppData\\Local\\Temp/ipykernel_14316/2165440017.py:1: DeprecationWarning: find_element_by_css_selector is deprecated. Please use find_element(by=By.CSS_SELECTOR, value=css_selector) instead\n",
      "  scroll = browser.find_element_by_css_selector('#ascrail2009 > div}')\n"
     ]
    },
    {
     "ename": "InvalidSelectorException",
     "evalue": "Message: invalid selector: An invalid or illegal selector was specified\n  (Session info: chrome=103.0.5060.134)\nStacktrace:\nBacktrace:\n\tOrdinal0 [0x00465FD3+2187219]\n\tOrdinal0 [0x003FE6D1+1763025]\n\tOrdinal0 [0x00313E78+802424]\n\tOrdinal0 [0x00316854+813140]\n\tOrdinal0 [0x00316712+812818]\n\tOrdinal0 [0x003169A0+813472]\n\tOrdinal0 [0x00341925+989477]\n\tOrdinal0 [0x00341EAB+990891]\n\tOrdinal0 [0x0036EC92+1174674]\n\tOrdinal0 [0x0035CBD4+1100756]\n\tOrdinal0 [0x0036CFC2+1167298]\n\tOrdinal0 [0x0035C9A6+1100198]\n\tOrdinal0 [0x00336F80+946048]\n\tOrdinal0 [0x00337E76+949878]\n\tGetHandleVerifier [0x007090C2+2721218]\n\tGetHandleVerifier [0x006FAAF0+2662384]\n\tGetHandleVerifier [0x004F137A+526458]\n\tGetHandleVerifier [0x004F0416+522518]\n\tOrdinal0 [0x00404EAB+1789611]\n\tOrdinal0 [0x004097A8+1808296]\n\tOrdinal0 [0x00409895+1808533]\n\tOrdinal0 [0x004126C1+1844929]\n\tBaseThreadInitThunk [0x75A0FA29+25]\n\tRtlGetAppContainerNamedObjectPath [0x77547A9E+286]\n\tRtlGetAppContainerNamedObjectPath [0x77547A6E+238]\n",
     "output_type": "error",
     "traceback": [
      "\u001b[1;31m---------------------------------------------------------------------------\u001b[0m",
      "\u001b[1;31mInvalidSelectorException\u001b[0m                  Traceback (most recent call last)",
      "\u001b[1;32m~\\AppData\\Local\\Temp/ipykernel_14316/2165440017.py\u001b[0m in \u001b[0;36m<module>\u001b[1;34m\u001b[0m\n\u001b[1;32m----> 1\u001b[1;33m \u001b[0mscroll\u001b[0m \u001b[1;33m=\u001b[0m \u001b[0mbrowser\u001b[0m\u001b[1;33m.\u001b[0m\u001b[0mfind_element_by_css_selector\u001b[0m\u001b[1;33m(\u001b[0m\u001b[1;34m'#ascrail2009 > div}'\u001b[0m\u001b[1;33m)\u001b[0m\u001b[1;33m\u001b[0m\u001b[1;33m\u001b[0m\u001b[0m\n\u001b[0m\u001b[0;32m      2\u001b[0m \u001b[1;31m#browser.click_and_hold(scroll).perform()\u001b[0m\u001b[1;33m\u001b[0m\u001b[1;33m\u001b[0m\u001b[0m\n",
      "\u001b[1;32m~\\anaconda3\\lib\\site-packages\\selenium\\webdriver\\remote\\webdriver.py\u001b[0m in \u001b[0;36mfind_element_by_css_selector\u001b[1;34m(self, css_selector)\u001b[0m\n\u001b[0;32m    812\u001b[0m             \u001b[0mstacklevel\u001b[0m\u001b[1;33m=\u001b[0m\u001b[1;36m2\u001b[0m\u001b[1;33m,\u001b[0m\u001b[1;33m\u001b[0m\u001b[1;33m\u001b[0m\u001b[0m\n\u001b[0;32m    813\u001b[0m         )\n\u001b[1;32m--> 814\u001b[1;33m         \u001b[1;32mreturn\u001b[0m \u001b[0mself\u001b[0m\u001b[1;33m.\u001b[0m\u001b[0mfind_element\u001b[0m\u001b[1;33m(\u001b[0m\u001b[0mby\u001b[0m\u001b[1;33m=\u001b[0m\u001b[0mBy\u001b[0m\u001b[1;33m.\u001b[0m\u001b[0mCSS_SELECTOR\u001b[0m\u001b[1;33m,\u001b[0m \u001b[0mvalue\u001b[0m\u001b[1;33m=\u001b[0m\u001b[0mcss_selector\u001b[0m\u001b[1;33m)\u001b[0m\u001b[1;33m\u001b[0m\u001b[1;33m\u001b[0m\u001b[0m\n\u001b[0m\u001b[0;32m    815\u001b[0m \u001b[1;33m\u001b[0m\u001b[0m\n\u001b[0;32m    816\u001b[0m     \u001b[1;32mdef\u001b[0m \u001b[0mfind_elements_by_css_selector\u001b[0m\u001b[1;33m(\u001b[0m\u001b[0mself\u001b[0m\u001b[1;33m,\u001b[0m \u001b[0mcss_selector\u001b[0m\u001b[1;33m)\u001b[0m \u001b[1;33m->\u001b[0m \u001b[0mList\u001b[0m\u001b[1;33m[\u001b[0m\u001b[0mWebElement\u001b[0m\u001b[1;33m]\u001b[0m\u001b[1;33m:\u001b[0m\u001b[1;33m\u001b[0m\u001b[1;33m\u001b[0m\u001b[0m\n",
      "\u001b[1;32m~\\anaconda3\\lib\\site-packages\\selenium\\webdriver\\remote\\webdriver.py\u001b[0m in \u001b[0;36mfind_element\u001b[1;34m(self, by, value)\u001b[0m\n\u001b[0;32m   1249\u001b[0m             \u001b[0mvalue\u001b[0m \u001b[1;33m=\u001b[0m \u001b[1;34m'[name=\"%s\"]'\u001b[0m \u001b[1;33m%\u001b[0m \u001b[0mvalue\u001b[0m\u001b[1;33m\u001b[0m\u001b[1;33m\u001b[0m\u001b[0m\n\u001b[0;32m   1250\u001b[0m \u001b[1;33m\u001b[0m\u001b[0m\n\u001b[1;32m-> 1251\u001b[1;33m         return self.execute(Command.FIND_ELEMENT, {\n\u001b[0m\u001b[0;32m   1252\u001b[0m             \u001b[1;34m'using'\u001b[0m\u001b[1;33m:\u001b[0m \u001b[0mby\u001b[0m\u001b[1;33m,\u001b[0m\u001b[1;33m\u001b[0m\u001b[1;33m\u001b[0m\u001b[0m\n\u001b[0;32m   1253\u001b[0m             'value': value})['value']\n",
      "\u001b[1;32m~\\anaconda3\\lib\\site-packages\\selenium\\webdriver\\remote\\webdriver.py\u001b[0m in \u001b[0;36mexecute\u001b[1;34m(self, driver_command, params)\u001b[0m\n\u001b[0;32m    428\u001b[0m         \u001b[0mresponse\u001b[0m \u001b[1;33m=\u001b[0m \u001b[0mself\u001b[0m\u001b[1;33m.\u001b[0m\u001b[0mcommand_executor\u001b[0m\u001b[1;33m.\u001b[0m\u001b[0mexecute\u001b[0m\u001b[1;33m(\u001b[0m\u001b[0mdriver_command\u001b[0m\u001b[1;33m,\u001b[0m \u001b[0mparams\u001b[0m\u001b[1;33m)\u001b[0m\u001b[1;33m\u001b[0m\u001b[1;33m\u001b[0m\u001b[0m\n\u001b[0;32m    429\u001b[0m         \u001b[1;32mif\u001b[0m \u001b[0mresponse\u001b[0m\u001b[1;33m:\u001b[0m\u001b[1;33m\u001b[0m\u001b[1;33m\u001b[0m\u001b[0m\n\u001b[1;32m--> 430\u001b[1;33m             \u001b[0mself\u001b[0m\u001b[1;33m.\u001b[0m\u001b[0merror_handler\u001b[0m\u001b[1;33m.\u001b[0m\u001b[0mcheck_response\u001b[0m\u001b[1;33m(\u001b[0m\u001b[0mresponse\u001b[0m\u001b[1;33m)\u001b[0m\u001b[1;33m\u001b[0m\u001b[1;33m\u001b[0m\u001b[0m\n\u001b[0m\u001b[0;32m    431\u001b[0m             response['value'] = self._unwrap_value(\n\u001b[0;32m    432\u001b[0m                 response.get('value', None))\n",
      "\u001b[1;32m~\\anaconda3\\lib\\site-packages\\selenium\\webdriver\\remote\\errorhandler.py\u001b[0m in \u001b[0;36mcheck_response\u001b[1;34m(self, response)\u001b[0m\n\u001b[0;32m    245\u001b[0m                 \u001b[0malert_text\u001b[0m \u001b[1;33m=\u001b[0m \u001b[0mvalue\u001b[0m\u001b[1;33m[\u001b[0m\u001b[1;34m'alert'\u001b[0m\u001b[1;33m]\u001b[0m\u001b[1;33m.\u001b[0m\u001b[0mget\u001b[0m\u001b[1;33m(\u001b[0m\u001b[1;34m'text'\u001b[0m\u001b[1;33m)\u001b[0m\u001b[1;33m\u001b[0m\u001b[1;33m\u001b[0m\u001b[0m\n\u001b[0;32m    246\u001b[0m             \u001b[1;32mraise\u001b[0m \u001b[0mexception_class\u001b[0m\u001b[1;33m(\u001b[0m\u001b[0mmessage\u001b[0m\u001b[1;33m,\u001b[0m \u001b[0mscreen\u001b[0m\u001b[1;33m,\u001b[0m \u001b[0mstacktrace\u001b[0m\u001b[1;33m,\u001b[0m \u001b[0malert_text\u001b[0m\u001b[1;33m)\u001b[0m  \u001b[1;31m# type: ignore[call-arg]  # mypy is not smart enough here\u001b[0m\u001b[1;33m\u001b[0m\u001b[1;33m\u001b[0m\u001b[0m\n\u001b[1;32m--> 247\u001b[1;33m         \u001b[1;32mraise\u001b[0m \u001b[0mexception_class\u001b[0m\u001b[1;33m(\u001b[0m\u001b[0mmessage\u001b[0m\u001b[1;33m,\u001b[0m \u001b[0mscreen\u001b[0m\u001b[1;33m,\u001b[0m \u001b[0mstacktrace\u001b[0m\u001b[1;33m)\u001b[0m\u001b[1;33m\u001b[0m\u001b[1;33m\u001b[0m\u001b[0m\n\u001b[0m\u001b[0;32m    248\u001b[0m \u001b[1;33m\u001b[0m\u001b[0m\n\u001b[0;32m    249\u001b[0m     \u001b[1;32mdef\u001b[0m \u001b[0m_value_or_default\u001b[0m\u001b[1;33m(\u001b[0m\u001b[0mself\u001b[0m\u001b[1;33m,\u001b[0m \u001b[0mobj\u001b[0m\u001b[1;33m:\u001b[0m \u001b[0mMapping\u001b[0m\u001b[1;33m[\u001b[0m\u001b[0m_KT\u001b[0m\u001b[1;33m,\u001b[0m \u001b[0m_VT\u001b[0m\u001b[1;33m]\u001b[0m\u001b[1;33m,\u001b[0m \u001b[0mkey\u001b[0m\u001b[1;33m:\u001b[0m \u001b[0m_KT\u001b[0m\u001b[1;33m,\u001b[0m \u001b[0mdefault\u001b[0m\u001b[1;33m:\u001b[0m \u001b[0m_VT\u001b[0m\u001b[1;33m)\u001b[0m \u001b[1;33m->\u001b[0m \u001b[0m_VT\u001b[0m\u001b[1;33m:\u001b[0m\u001b[1;33m\u001b[0m\u001b[1;33m\u001b[0m\u001b[0m\n",
      "\u001b[1;31mInvalidSelectorException\u001b[0m: Message: invalid selector: An invalid or illegal selector was specified\n  (Session info: chrome=103.0.5060.134)\nStacktrace:\nBacktrace:\n\tOrdinal0 [0x00465FD3+2187219]\n\tOrdinal0 [0x003FE6D1+1763025]\n\tOrdinal0 [0x00313E78+802424]\n\tOrdinal0 [0x00316854+813140]\n\tOrdinal0 [0x00316712+812818]\n\tOrdinal0 [0x003169A0+813472]\n\tOrdinal0 [0x00341925+989477]\n\tOrdinal0 [0x00341EAB+990891]\n\tOrdinal0 [0x0036EC92+1174674]\n\tOrdinal0 [0x0035CBD4+1100756]\n\tOrdinal0 [0x0036CFC2+1167298]\n\tOrdinal0 [0x0035C9A6+1100198]\n\tOrdinal0 [0x00336F80+946048]\n\tOrdinal0 [0x00337E76+949878]\n\tGetHandleVerifier [0x007090C2+2721218]\n\tGetHandleVerifier [0x006FAAF0+2662384]\n\tGetHandleVerifier [0x004F137A+526458]\n\tGetHandleVerifier [0x004F0416+522518]\n\tOrdinal0 [0x00404EAB+1789611]\n\tOrdinal0 [0x004097A8+1808296]\n\tOrdinal0 [0x00409895+1808533]\n\tOrdinal0 [0x004126C1+1844929]\n\tBaseThreadInitThunk [0x75A0FA29+25]\n\tRtlGetAppContainerNamedObjectPath [0x77547A9E+286]\n\tRtlGetAppContainerNamedObjectPath [0x77547A6E+238]\n"
     ]
    }
   ],
   "source": [
    "scroll = browser.find_element_by_css_selector('#ascrail2009 > div}')\n",
    "#browser.click_and_hold(scroll).perform()"
   ]
  },
  {
   "cell_type": "code",
   "execution_count": 55,
   "metadata": {},
   "outputs": [],
   "source": [
    "from selenium.webdriver.common.keys import Keys"
   ]
  },
  {
   "cell_type": "code",
   "execution_count": 90,
   "metadata": {},
   "outputs": [
    {
     "name": "stderr",
     "output_type": "stream",
     "text": [
      "C:\\Users\\30822\\AppData\\Local\\Temp/ipykernel_14316/2837910167.py:1: DeprecationWarning: find_element_by_tag_name is deprecated. Please use find_element(by=By.TAG_NAME, value=name) instead\n",
      "  browser.find_element_by_tag_name('ko').send_keys(Keys.PAGE_DOWN)\n"
     ]
    },
    {
     "ename": "NoSuchElementException",
     "evalue": "Message: no such element: Unable to locate element: {\"method\":\"tag name\",\"selector\":\"ko\"}\n  (Session info: chrome=103.0.5060.134)\nStacktrace:\nBacktrace:\n\tOrdinal0 [0x00465FD3+2187219]\n\tOrdinal0 [0x003FE6D1+1763025]\n\tOrdinal0 [0x00313E78+802424]\n\tOrdinal0 [0x00341C10+990224]\n\tOrdinal0 [0x00341EAB+990891]\n\tOrdinal0 [0x0036EC92+1174674]\n\tOrdinal0 [0x0035CBD4+1100756]\n\tOrdinal0 [0x0036CFC2+1167298]\n\tOrdinal0 [0x0035C9A6+1100198]\n\tOrdinal0 [0x00336F80+946048]\n\tOrdinal0 [0x00337E76+949878]\n\tGetHandleVerifier [0x007090C2+2721218]\n\tGetHandleVerifier [0x006FAAF0+2662384]\n\tGetHandleVerifier [0x004F137A+526458]\n\tGetHandleVerifier [0x004F0416+522518]\n\tOrdinal0 [0x00404EAB+1789611]\n\tOrdinal0 [0x004097A8+1808296]\n\tOrdinal0 [0x00409895+1808533]\n\tOrdinal0 [0x004126C1+1844929]\n\tBaseThreadInitThunk [0x75A0FA29+25]\n\tRtlGetAppContainerNamedObjectPath [0x77547A9E+286]\n\tRtlGetAppContainerNamedObjectPath [0x77547A6E+238]\n",
     "output_type": "error",
     "traceback": [
      "\u001b[1;31m---------------------------------------------------------------------------\u001b[0m",
      "\u001b[1;31mNoSuchElementException\u001b[0m                    Traceback (most recent call last)",
      "\u001b[1;32m~\\AppData\\Local\\Temp/ipykernel_14316/2837910167.py\u001b[0m in \u001b[0;36m<module>\u001b[1;34m\u001b[0m\n\u001b[1;32m----> 1\u001b[1;33m \u001b[0mbrowser\u001b[0m\u001b[1;33m.\u001b[0m\u001b[0mfind_element_by_tag_name\u001b[0m\u001b[1;33m(\u001b[0m\u001b[1;34m'ko'\u001b[0m\u001b[1;33m)\u001b[0m\u001b[1;33m.\u001b[0m\u001b[0msend_keys\u001b[0m\u001b[1;33m(\u001b[0m\u001b[0mKeys\u001b[0m\u001b[1;33m.\u001b[0m\u001b[0mPAGE_DOWN\u001b[0m\u001b[1;33m)\u001b[0m\u001b[1;33m\u001b[0m\u001b[1;33m\u001b[0m\u001b[0m\n\u001b[0m",
      "\u001b[1;32m~\\anaconda3\\lib\\site-packages\\selenium\\webdriver\\remote\\webdriver.py\u001b[0m in \u001b[0;36mfind_element_by_tag_name\u001b[1;34m(self, name)\u001b[0m\n\u001b[0;32m    716\u001b[0m             \u001b[0mstacklevel\u001b[0m\u001b[1;33m=\u001b[0m\u001b[1;36m2\u001b[0m\u001b[1;33m,\u001b[0m\u001b[1;33m\u001b[0m\u001b[1;33m\u001b[0m\u001b[0m\n\u001b[0;32m    717\u001b[0m         )\n\u001b[1;32m--> 718\u001b[1;33m         \u001b[1;32mreturn\u001b[0m \u001b[0mself\u001b[0m\u001b[1;33m.\u001b[0m\u001b[0mfind_element\u001b[0m\u001b[1;33m(\u001b[0m\u001b[0mby\u001b[0m\u001b[1;33m=\u001b[0m\u001b[0mBy\u001b[0m\u001b[1;33m.\u001b[0m\u001b[0mTAG_NAME\u001b[0m\u001b[1;33m,\u001b[0m \u001b[0mvalue\u001b[0m\u001b[1;33m=\u001b[0m\u001b[0mname\u001b[0m\u001b[1;33m)\u001b[0m\u001b[1;33m\u001b[0m\u001b[1;33m\u001b[0m\u001b[0m\n\u001b[0m\u001b[0;32m    719\u001b[0m \u001b[1;33m\u001b[0m\u001b[0m\n\u001b[0;32m    720\u001b[0m     \u001b[1;32mdef\u001b[0m \u001b[0mfind_elements_by_tag_name\u001b[0m\u001b[1;33m(\u001b[0m\u001b[0mself\u001b[0m\u001b[1;33m,\u001b[0m \u001b[0mname\u001b[0m\u001b[1;33m)\u001b[0m \u001b[1;33m->\u001b[0m \u001b[0mList\u001b[0m\u001b[1;33m[\u001b[0m\u001b[0mWebElement\u001b[0m\u001b[1;33m]\u001b[0m\u001b[1;33m:\u001b[0m\u001b[1;33m\u001b[0m\u001b[1;33m\u001b[0m\u001b[0m\n",
      "\u001b[1;32m~\\anaconda3\\lib\\site-packages\\selenium\\webdriver\\remote\\webdriver.py\u001b[0m in \u001b[0;36mfind_element\u001b[1;34m(self, by, value)\u001b[0m\n\u001b[0;32m   1249\u001b[0m             \u001b[0mvalue\u001b[0m \u001b[1;33m=\u001b[0m \u001b[1;34m'[name=\"%s\"]'\u001b[0m \u001b[1;33m%\u001b[0m \u001b[0mvalue\u001b[0m\u001b[1;33m\u001b[0m\u001b[1;33m\u001b[0m\u001b[0m\n\u001b[0;32m   1250\u001b[0m \u001b[1;33m\u001b[0m\u001b[0m\n\u001b[1;32m-> 1251\u001b[1;33m         return self.execute(Command.FIND_ELEMENT, {\n\u001b[0m\u001b[0;32m   1252\u001b[0m             \u001b[1;34m'using'\u001b[0m\u001b[1;33m:\u001b[0m \u001b[0mby\u001b[0m\u001b[1;33m,\u001b[0m\u001b[1;33m\u001b[0m\u001b[1;33m\u001b[0m\u001b[0m\n\u001b[0;32m   1253\u001b[0m             'value': value})['value']\n",
      "\u001b[1;32m~\\anaconda3\\lib\\site-packages\\selenium\\webdriver\\remote\\webdriver.py\u001b[0m in \u001b[0;36mexecute\u001b[1;34m(self, driver_command, params)\u001b[0m\n\u001b[0;32m    428\u001b[0m         \u001b[0mresponse\u001b[0m \u001b[1;33m=\u001b[0m \u001b[0mself\u001b[0m\u001b[1;33m.\u001b[0m\u001b[0mcommand_executor\u001b[0m\u001b[1;33m.\u001b[0m\u001b[0mexecute\u001b[0m\u001b[1;33m(\u001b[0m\u001b[0mdriver_command\u001b[0m\u001b[1;33m,\u001b[0m \u001b[0mparams\u001b[0m\u001b[1;33m)\u001b[0m\u001b[1;33m\u001b[0m\u001b[1;33m\u001b[0m\u001b[0m\n\u001b[0;32m    429\u001b[0m         \u001b[1;32mif\u001b[0m \u001b[0mresponse\u001b[0m\u001b[1;33m:\u001b[0m\u001b[1;33m\u001b[0m\u001b[1;33m\u001b[0m\u001b[0m\n\u001b[1;32m--> 430\u001b[1;33m             \u001b[0mself\u001b[0m\u001b[1;33m.\u001b[0m\u001b[0merror_handler\u001b[0m\u001b[1;33m.\u001b[0m\u001b[0mcheck_response\u001b[0m\u001b[1;33m(\u001b[0m\u001b[0mresponse\u001b[0m\u001b[1;33m)\u001b[0m\u001b[1;33m\u001b[0m\u001b[1;33m\u001b[0m\u001b[0m\n\u001b[0m\u001b[0;32m    431\u001b[0m             response['value'] = self._unwrap_value(\n\u001b[0;32m    432\u001b[0m                 response.get('value', None))\n",
      "\u001b[1;32m~\\anaconda3\\lib\\site-packages\\selenium\\webdriver\\remote\\errorhandler.py\u001b[0m in \u001b[0;36mcheck_response\u001b[1;34m(self, response)\u001b[0m\n\u001b[0;32m    245\u001b[0m                 \u001b[0malert_text\u001b[0m \u001b[1;33m=\u001b[0m \u001b[0mvalue\u001b[0m\u001b[1;33m[\u001b[0m\u001b[1;34m'alert'\u001b[0m\u001b[1;33m]\u001b[0m\u001b[1;33m.\u001b[0m\u001b[0mget\u001b[0m\u001b[1;33m(\u001b[0m\u001b[1;34m'text'\u001b[0m\u001b[1;33m)\u001b[0m\u001b[1;33m\u001b[0m\u001b[1;33m\u001b[0m\u001b[0m\n\u001b[0;32m    246\u001b[0m             \u001b[1;32mraise\u001b[0m \u001b[0mexception_class\u001b[0m\u001b[1;33m(\u001b[0m\u001b[0mmessage\u001b[0m\u001b[1;33m,\u001b[0m \u001b[0mscreen\u001b[0m\u001b[1;33m,\u001b[0m \u001b[0mstacktrace\u001b[0m\u001b[1;33m,\u001b[0m \u001b[0malert_text\u001b[0m\u001b[1;33m)\u001b[0m  \u001b[1;31m# type: ignore[call-arg]  # mypy is not smart enough here\u001b[0m\u001b[1;33m\u001b[0m\u001b[1;33m\u001b[0m\u001b[0m\n\u001b[1;32m--> 247\u001b[1;33m         \u001b[1;32mraise\u001b[0m \u001b[0mexception_class\u001b[0m\u001b[1;33m(\u001b[0m\u001b[0mmessage\u001b[0m\u001b[1;33m,\u001b[0m \u001b[0mscreen\u001b[0m\u001b[1;33m,\u001b[0m \u001b[0mstacktrace\u001b[0m\u001b[1;33m)\u001b[0m\u001b[1;33m\u001b[0m\u001b[1;33m\u001b[0m\u001b[0m\n\u001b[0m\u001b[0;32m    248\u001b[0m \u001b[1;33m\u001b[0m\u001b[0m\n\u001b[0;32m    249\u001b[0m     \u001b[1;32mdef\u001b[0m \u001b[0m_value_or_default\u001b[0m\u001b[1;33m(\u001b[0m\u001b[0mself\u001b[0m\u001b[1;33m,\u001b[0m \u001b[0mobj\u001b[0m\u001b[1;33m:\u001b[0m \u001b[0mMapping\u001b[0m\u001b[1;33m[\u001b[0m\u001b[0m_KT\u001b[0m\u001b[1;33m,\u001b[0m \u001b[0m_VT\u001b[0m\u001b[1;33m]\u001b[0m\u001b[1;33m,\u001b[0m \u001b[0mkey\u001b[0m\u001b[1;33m:\u001b[0m \u001b[0m_KT\u001b[0m\u001b[1;33m,\u001b[0m \u001b[0mdefault\u001b[0m\u001b[1;33m:\u001b[0m \u001b[0m_VT\u001b[0m\u001b[1;33m)\u001b[0m \u001b[1;33m->\u001b[0m \u001b[0m_VT\u001b[0m\u001b[1;33m:\u001b[0m\u001b[1;33m\u001b[0m\u001b[1;33m\u001b[0m\u001b[0m\n",
      "\u001b[1;31mNoSuchElementException\u001b[0m: Message: no such element: Unable to locate element: {\"method\":\"tag name\",\"selector\":\"ko\"}\n  (Session info: chrome=103.0.5060.134)\nStacktrace:\nBacktrace:\n\tOrdinal0 [0x00465FD3+2187219]\n\tOrdinal0 [0x003FE6D1+1763025]\n\tOrdinal0 [0x00313E78+802424]\n\tOrdinal0 [0x00341C10+990224]\n\tOrdinal0 [0x00341EAB+990891]\n\tOrdinal0 [0x0036EC92+1174674]\n\tOrdinal0 [0x0035CBD4+1100756]\n\tOrdinal0 [0x0036CFC2+1167298]\n\tOrdinal0 [0x0035C9A6+1100198]\n\tOrdinal0 [0x00336F80+946048]\n\tOrdinal0 [0x00337E76+949878]\n\tGetHandleVerifier [0x007090C2+2721218]\n\tGetHandleVerifier [0x006FAAF0+2662384]\n\tGetHandleVerifier [0x004F137A+526458]\n\tGetHandleVerifier [0x004F0416+522518]\n\tOrdinal0 [0x00404EAB+1789611]\n\tOrdinal0 [0x004097A8+1808296]\n\tOrdinal0 [0x00409895+1808533]\n\tOrdinal0 [0x004126C1+1844929]\n\tBaseThreadInitThunk [0x75A0FA29+25]\n\tRtlGetAppContainerNamedObjectPath [0x77547A9E+286]\n\tRtlGetAppContainerNamedObjectPath [0x77547A6E+238]\n"
     ]
    }
   ],
   "source": [
    "browser.find_element_by_tag_name('').send_keys(Keys.PAGE_DOWN)"
   ]
  },
  {
   "cell_type": "code",
   "execution_count": 66,
   "metadata": {},
   "outputs": [
    {
     "name": "stderr",
     "output_type": "stream",
     "text": [
      "C:\\Users\\30822\\AppData\\Local\\Temp/ipykernel_14316/2213291158.py:7: DeprecationWarning: find_elements_by_css_selector is deprecated. Please use find_elements(by=By.CSS_SELECTOR, value=css_selector) instead\n",
      "  Lst = browser.find_elements_by_css_selector('//*[@id=\"megaUl\"]')\n"
     ]
    },
    {
     "ename": "InvalidSelectorException",
     "evalue": "Message: invalid selector: An invalid or illegal selector was specified\n  (Session info: chrome=103.0.5060.134)\nStacktrace:\nBacktrace:\n\tOrdinal0 [0x00465FD3+2187219]\n\tOrdinal0 [0x003FE6D1+1763025]\n\tOrdinal0 [0x00313E78+802424]\n\tOrdinal0 [0x00316854+813140]\n\tOrdinal0 [0x00316712+812818]\n\tOrdinal0 [0x003169A0+813472]\n\tOrdinal0 [0x00341925+989477]\n\tOrdinal0 [0x00341EAB+990891]\n\tOrdinal0 [0x0036ECCC+1174732]\n\tOrdinal0 [0x0035CBD4+1100756]\n\tOrdinal0 [0x0036CFC2+1167298]\n\tOrdinal0 [0x0035C9A6+1100198]\n\tOrdinal0 [0x00336F80+946048]\n\tOrdinal0 [0x00337E76+949878]\n\tGetHandleVerifier [0x007090C2+2721218]\n\tGetHandleVerifier [0x006FAAF0+2662384]\n\tGetHandleVerifier [0x004F137A+526458]\n\tGetHandleVerifier [0x004F0416+522518]\n\tOrdinal0 [0x00404EAB+1789611]\n\tOrdinal0 [0x004097A8+1808296]\n\tOrdinal0 [0x00409895+1808533]\n\tOrdinal0 [0x004126C1+1844929]\n\tBaseThreadInitThunk [0x75A0FA29+25]\n\tRtlGetAppContainerNamedObjectPath [0x77547A9E+286]\n\tRtlGetAppContainerNamedObjectPath [0x77547A6E+238]\n",
     "output_type": "error",
     "traceback": [
      "\u001b[1;31m---------------------------------------------------------------------------\u001b[0m",
      "\u001b[1;31mInvalidSelectorException\u001b[0m                  Traceback (most recent call last)",
      "\u001b[1;32m~\\AppData\\Local\\Temp/ipykernel_14316/2213291158.py\u001b[0m in \u001b[0;36m<module>\u001b[1;34m\u001b[0m\n\u001b[0;32m      5\u001b[0m \u001b[1;33m\u001b[0m\u001b[0m\n\u001b[0;32m      6\u001b[0m \u001b[1;31m#리스트 가져오기\u001b[0m\u001b[1;33m\u001b[0m\u001b[1;33m\u001b[0m\u001b[0m\n\u001b[1;32m----> 7\u001b[1;33m \u001b[0mLst\u001b[0m \u001b[1;33m=\u001b[0m \u001b[0mbrowser\u001b[0m\u001b[1;33m.\u001b[0m\u001b[0mfind_elements_by_css_selector\u001b[0m\u001b[1;33m(\u001b[0m\u001b[1;34m'//*[@id=\"megaUl\"]'\u001b[0m\u001b[1;33m)\u001b[0m\u001b[1;33m\u001b[0m\u001b[1;33m\u001b[0m\u001b[0m\n\u001b[0m\u001b[0;32m      8\u001b[0m \u001b[1;33m\u001b[0m\u001b[0m\n\u001b[0;32m      9\u001b[0m \u001b[1;31m#move_to_element를 이용하여 이동\u001b[0m\u001b[1;33m\u001b[0m\u001b[1;33m\u001b[0m\u001b[0m\n",
      "\u001b[1;32m~\\anaconda3\\lib\\site-packages\\selenium\\webdriver\\remote\\webdriver.py\u001b[0m in \u001b[0;36mfind_elements_by_css_selector\u001b[1;34m(self, css_selector)\u001b[0m\n\u001b[0;32m    835\u001b[0m             \u001b[0mstacklevel\u001b[0m\u001b[1;33m=\u001b[0m\u001b[1;36m2\u001b[0m\u001b[1;33m,\u001b[0m\u001b[1;33m\u001b[0m\u001b[1;33m\u001b[0m\u001b[0m\n\u001b[0;32m    836\u001b[0m         )\n\u001b[1;32m--> 837\u001b[1;33m         \u001b[1;32mreturn\u001b[0m \u001b[0mself\u001b[0m\u001b[1;33m.\u001b[0m\u001b[0mfind_elements\u001b[0m\u001b[1;33m(\u001b[0m\u001b[0mby\u001b[0m\u001b[1;33m=\u001b[0m\u001b[0mBy\u001b[0m\u001b[1;33m.\u001b[0m\u001b[0mCSS_SELECTOR\u001b[0m\u001b[1;33m,\u001b[0m \u001b[0mvalue\u001b[0m\u001b[1;33m=\u001b[0m\u001b[0mcss_selector\u001b[0m\u001b[1;33m)\u001b[0m\u001b[1;33m\u001b[0m\u001b[1;33m\u001b[0m\u001b[0m\n\u001b[0m\u001b[0;32m    838\u001b[0m \u001b[1;33m\u001b[0m\u001b[0m\n\u001b[0;32m    839\u001b[0m     \u001b[1;32mdef\u001b[0m \u001b[0mpin_script\u001b[0m\u001b[1;33m(\u001b[0m\u001b[0mself\u001b[0m\u001b[1;33m,\u001b[0m \u001b[0mscript\u001b[0m\u001b[1;33m,\u001b[0m \u001b[0mscript_key\u001b[0m\u001b[1;33m=\u001b[0m\u001b[1;32mNone\u001b[0m\u001b[1;33m)\u001b[0m \u001b[1;33m->\u001b[0m \u001b[0mScriptKey\u001b[0m\u001b[1;33m:\u001b[0m\u001b[1;33m\u001b[0m\u001b[1;33m\u001b[0m\u001b[0m\n",
      "\u001b[1;32m~\\anaconda3\\lib\\site-packages\\selenium\\webdriver\\remote\\webdriver.py\u001b[0m in \u001b[0;36mfind_elements\u001b[1;34m(self, by, value)\u001b[0m\n\u001b[0;32m   1282\u001b[0m         \u001b[1;31m# Return empty list if driver returns null\u001b[0m\u001b[1;33m\u001b[0m\u001b[1;33m\u001b[0m\u001b[0m\n\u001b[0;32m   1283\u001b[0m         \u001b[1;31m# See https://github.com/SeleniumHQ/selenium/issues/4555\u001b[0m\u001b[1;33m\u001b[0m\u001b[1;33m\u001b[0m\u001b[0m\n\u001b[1;32m-> 1284\u001b[1;33m         return self.execute(Command.FIND_ELEMENTS, {\n\u001b[0m\u001b[0;32m   1285\u001b[0m             \u001b[1;34m'using'\u001b[0m\u001b[1;33m:\u001b[0m \u001b[0mby\u001b[0m\u001b[1;33m,\u001b[0m\u001b[1;33m\u001b[0m\u001b[1;33m\u001b[0m\u001b[0m\n\u001b[0;32m   1286\u001b[0m             'value': value})['value'] or []\n",
      "\u001b[1;32m~\\anaconda3\\lib\\site-packages\\selenium\\webdriver\\remote\\webdriver.py\u001b[0m in \u001b[0;36mexecute\u001b[1;34m(self, driver_command, params)\u001b[0m\n\u001b[0;32m    428\u001b[0m         \u001b[0mresponse\u001b[0m \u001b[1;33m=\u001b[0m \u001b[0mself\u001b[0m\u001b[1;33m.\u001b[0m\u001b[0mcommand_executor\u001b[0m\u001b[1;33m.\u001b[0m\u001b[0mexecute\u001b[0m\u001b[1;33m(\u001b[0m\u001b[0mdriver_command\u001b[0m\u001b[1;33m,\u001b[0m \u001b[0mparams\u001b[0m\u001b[1;33m)\u001b[0m\u001b[1;33m\u001b[0m\u001b[1;33m\u001b[0m\u001b[0m\n\u001b[0;32m    429\u001b[0m         \u001b[1;32mif\u001b[0m \u001b[0mresponse\u001b[0m\u001b[1;33m:\u001b[0m\u001b[1;33m\u001b[0m\u001b[1;33m\u001b[0m\u001b[0m\n\u001b[1;32m--> 430\u001b[1;33m             \u001b[0mself\u001b[0m\u001b[1;33m.\u001b[0m\u001b[0merror_handler\u001b[0m\u001b[1;33m.\u001b[0m\u001b[0mcheck_response\u001b[0m\u001b[1;33m(\u001b[0m\u001b[0mresponse\u001b[0m\u001b[1;33m)\u001b[0m\u001b[1;33m\u001b[0m\u001b[1;33m\u001b[0m\u001b[0m\n\u001b[0m\u001b[0;32m    431\u001b[0m             response['value'] = self._unwrap_value(\n\u001b[0;32m    432\u001b[0m                 response.get('value', None))\n",
      "\u001b[1;32m~\\anaconda3\\lib\\site-packages\\selenium\\webdriver\\remote\\errorhandler.py\u001b[0m in \u001b[0;36mcheck_response\u001b[1;34m(self, response)\u001b[0m\n\u001b[0;32m    245\u001b[0m                 \u001b[0malert_text\u001b[0m \u001b[1;33m=\u001b[0m \u001b[0mvalue\u001b[0m\u001b[1;33m[\u001b[0m\u001b[1;34m'alert'\u001b[0m\u001b[1;33m]\u001b[0m\u001b[1;33m.\u001b[0m\u001b[0mget\u001b[0m\u001b[1;33m(\u001b[0m\u001b[1;34m'text'\u001b[0m\u001b[1;33m)\u001b[0m\u001b[1;33m\u001b[0m\u001b[1;33m\u001b[0m\u001b[0m\n\u001b[0;32m    246\u001b[0m             \u001b[1;32mraise\u001b[0m \u001b[0mexception_class\u001b[0m\u001b[1;33m(\u001b[0m\u001b[0mmessage\u001b[0m\u001b[1;33m,\u001b[0m \u001b[0mscreen\u001b[0m\u001b[1;33m,\u001b[0m \u001b[0mstacktrace\u001b[0m\u001b[1;33m,\u001b[0m \u001b[0malert_text\u001b[0m\u001b[1;33m)\u001b[0m  \u001b[1;31m# type: ignore[call-arg]  # mypy is not smart enough here\u001b[0m\u001b[1;33m\u001b[0m\u001b[1;33m\u001b[0m\u001b[0m\n\u001b[1;32m--> 247\u001b[1;33m         \u001b[1;32mraise\u001b[0m \u001b[0mexception_class\u001b[0m\u001b[1;33m(\u001b[0m\u001b[0mmessage\u001b[0m\u001b[1;33m,\u001b[0m \u001b[0mscreen\u001b[0m\u001b[1;33m,\u001b[0m \u001b[0mstacktrace\u001b[0m\u001b[1;33m)\u001b[0m\u001b[1;33m\u001b[0m\u001b[1;33m\u001b[0m\u001b[0m\n\u001b[0m\u001b[0;32m    248\u001b[0m \u001b[1;33m\u001b[0m\u001b[0m\n\u001b[0;32m    249\u001b[0m     \u001b[1;32mdef\u001b[0m \u001b[0m_value_or_default\u001b[0m\u001b[1;33m(\u001b[0m\u001b[0mself\u001b[0m\u001b[1;33m,\u001b[0m \u001b[0mobj\u001b[0m\u001b[1;33m:\u001b[0m \u001b[0mMapping\u001b[0m\u001b[1;33m[\u001b[0m\u001b[0m_KT\u001b[0m\u001b[1;33m,\u001b[0m \u001b[0m_VT\u001b[0m\u001b[1;33m]\u001b[0m\u001b[1;33m,\u001b[0m \u001b[0mkey\u001b[0m\u001b[1;33m:\u001b[0m \u001b[0m_KT\u001b[0m\u001b[1;33m,\u001b[0m \u001b[0mdefault\u001b[0m\u001b[1;33m:\u001b[0m \u001b[0m_VT\u001b[0m\u001b[1;33m)\u001b[0m \u001b[1;33m->\u001b[0m \u001b[0m_VT\u001b[0m\u001b[1;33m:\u001b[0m\u001b[1;33m\u001b[0m\u001b[1;33m\u001b[0m\u001b[0m\n",
      "\u001b[1;31mInvalidSelectorException\u001b[0m: Message: invalid selector: An invalid or illegal selector was specified\n  (Session info: chrome=103.0.5060.134)\nStacktrace:\nBacktrace:\n\tOrdinal0 [0x00465FD3+2187219]\n\tOrdinal0 [0x003FE6D1+1763025]\n\tOrdinal0 [0x00313E78+802424]\n\tOrdinal0 [0x00316854+813140]\n\tOrdinal0 [0x00316712+812818]\n\tOrdinal0 [0x003169A0+813472]\n\tOrdinal0 [0x00341925+989477]\n\tOrdinal0 [0x00341EAB+990891]\n\tOrdinal0 [0x0036ECCC+1174732]\n\tOrdinal0 [0x0035CBD4+1100756]\n\tOrdinal0 [0x0036CFC2+1167298]\n\tOrdinal0 [0x0035C9A6+1100198]\n\tOrdinal0 [0x00336F80+946048]\n\tOrdinal0 [0x00337E76+949878]\n\tGetHandleVerifier [0x007090C2+2721218]\n\tGetHandleVerifier [0x006FAAF0+2662384]\n\tGetHandleVerifier [0x004F137A+526458]\n\tGetHandleVerifier [0x004F0416+522518]\n\tOrdinal0 [0x00404EAB+1789611]\n\tOrdinal0 [0x004097A8+1808296]\n\tOrdinal0 [0x00409895+1808533]\n\tOrdinal0 [0x004126C1+1844929]\n\tBaseThreadInitThunk [0x75A0FA29+25]\n\tRtlGetAppContainerNamedObjectPath [0x77547A9E+286]\n\tRtlGetAppContainerNamedObjectPath [0x77547A6E+238]\n"
     ]
    }
   ],
   "source": [
    "from selenium.webdriver import ActionChains\n",
    "\n",
    "#ActionChains생성\n",
    "action = ActionChains(browser)\n",
    "\n",
    "#리스트 가져오기\n",
    "Lst = browser.find_elements_by_css_selector('//*[@id=\"megaUl\"]')\n",
    "\n",
    "#move_to_element를 이용하여 이동\n",
    "action.move_to_element(Lst[4]).perform()"
   ]
  },
  {
   "cell_type": "code",
   "execution_count": null,
   "metadata": {},
   "outputs": [],
   "source": []
  }
 ],
 "metadata": {
  "colab": {
   "name": "crawling_selenium.ipynb",
   "provenance": []
  },
  "kernelspec": {
   "display_name": "Python 3 (ipykernel)",
   "language": "python",
   "name": "python3"
  },
  "language_info": {
   "codemirror_mode": {
    "name": "ipython",
    "version": 3
   },
   "file_extension": ".py",
   "mimetype": "text/x-python",
   "name": "python",
   "nbconvert_exporter": "python",
   "pygments_lexer": "ipython3",
   "version": "3.9.7"
  }
 },
 "nbformat": 4,
 "nbformat_minor": 1
}
