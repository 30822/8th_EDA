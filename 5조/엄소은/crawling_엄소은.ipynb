{
  "cells": [
    {
      "cell_type": "markdown",
      "metadata": {
        "id": "t_6QPUvG20Q1"
      },
      "source": [
        "### BeautifulSoup 활용 시도했지만 매몰차게 실패..."
      ]
    },
    {
      "cell_type": "code",
      "execution_count": 1,
      "metadata": {
        "id": "oQ94z-Hz2J93"
      },
      "outputs": [],
      "source": [
        "import requests"
      ]
    },
    {
      "cell_type": "code",
      "execution_count": 2,
      "metadata": {
        "id": "FQUTepvq2J94"
      },
      "outputs": [],
      "source": [
        "from bs4 import BeautifulSoup"
      ]
    },
    {
      "cell_type": "code",
      "execution_count": 3,
      "metadata": {
        "id": "b_V1iBp02J95",
        "outputId": "c9b07005-cf26-463b-f6c1-fbc21314b336"
      },
      "outputs": [
        {
          "name": "stdout",
          "output_type": "stream",
          "text": [
            "OpenSSL 1.1.1l  24 Aug 2021\n"
          ]
        }
      ],
      "source": [
        "import ssl\n",
        "print(ssl.OPENSSL_VERSION)"
      ]
    },
    {
      "cell_type": "code",
      "execution_count": 5,
      "metadata": {
        "id": "adg2pLwS2J97"
      },
      "outputs": [],
      "source": [
        "headers= {'User-Agent' : 'Mozilla/5.0 (Macintosh; Intel Mac OS X 10_15_7) AppleWebKit/537.36 (KHTML, like Gecko) Chrome/103.0.0.0 Safari/537.36'}"
      ]
    },
    {
      "cell_type": "code",
      "execution_count": 7,
      "metadata": {
        "id": "xwBPNgYb2J98"
      },
      "outputs": [],
      "source": [
        "url='https://sg.sbiz.or.kr/godo/stat/upso.sg'"
      ]
    },
    {
      "cell_type": "code",
      "execution_count": 8,
      "metadata": {
        "colab": {
          "base_uri": "https://localhost:8080/",
          "height": 190
        },
        "id": "E5Q5nDOH2J9-",
        "outputId": "24117617-ab7f-4fd7-ae2f-ffb7f0e9ba31"
      },
      "outputs": [
        {
          "name": "stderr",
          "output_type": "stream",
          "text": [
            "/opt/anaconda3/lib/python3.9/site-packages/urllib3/connectionpool.py:1013: InsecureRequestWarning: Unverified HTTPS request is being made to host 'sg.sbiz.or.kr'. Adding certificate verification is strongly advised. See: https://urllib3.readthedocs.io/en/1.26.x/advanced-usage.html#ssl-warnings\n",
            "  warnings.warn(\n"
          ]
        }
      ],
      "source": [
        "res = requests.get(url, headers = headers,verify=False)\n",
        "# verify = False를 빼면 오류가 생기는데 그 해결방안을 검색해보니 verify = False 였음. 약간 warning 넘어가는 코드 느낌...?"
      ]
    },
    {
      "cell_type": "code",
      "execution_count": 9,
      "metadata": {
        "id": "SRXlxetP2J9_"
      },
      "outputs": [],
      "source": [
        "res.raise_for_status()"
      ]
    },
    {
      "cell_type": "code",
      "execution_count": 10,
      "metadata": {
        "id": "e3bn-H7Q2J-A"
      },
      "outputs": [],
      "source": [
        "soup = BeautifulSoup(res.text, 'lxml') "
      ]
    },
    {
      "cell_type": "code",
      "execution_count": 11,
      "metadata": {
        "id": "Tz4zIOdz2J-B"
      },
      "outputs": [],
      "source": [
        "gooyeok = soup.select('#upsoTable > tr > td')"
      ]
    },
    {
      "cell_type": "code",
      "execution_count": null,
      "metadata": {
        "id": "Qvc4Dasi2J-C"
      },
      "outputs": [],
      "source": []
    },
    {
      "cell_type": "code",
      "execution_count": 12,
      "metadata": {
        "id": "sgUwNJa62J-D",
        "outputId": "2abcf001-68bf-4be1-cb82-b96bad275ad3"
      },
      "outputs": [
        {
          "ename": "AttributeError",
          "evalue": "ResultSet object has no attribute 'string'. You're probably treating a list of elements like a single element. Did you call find_all() when you meant to call find()?",
          "output_type": "error",
          "traceback": [
            "\u001b[0;31m---------------------------------------------------------------------------\u001b[0m",
            "\u001b[0;31mAttributeError\u001b[0m                            Traceback (most recent call last)",
            "\u001b[0;32m/var/folders/hn/cd349ymj15z52npp7jj0gfnc0000gn/T/ipykernel_25181/1673970813.py\u001b[0m in \u001b[0;36m<module>\u001b[0;34m\u001b[0m\n\u001b[0;32m----> 1\u001b[0;31m \u001b[0mgooyeok\u001b[0m\u001b[0;34m.\u001b[0m\u001b[0mstring\u001b[0m\u001b[0;34m\u001b[0m\u001b[0;34m\u001b[0m\u001b[0m\n\u001b[0m",
            "\u001b[0;32m/opt/anaconda3/lib/python3.9/site-packages/bs4/element.py\u001b[0m in \u001b[0;36m__getattr__\u001b[0;34m(self, key)\u001b[0m\n\u001b[1;32m   2251\u001b[0m     \u001b[0;32mdef\u001b[0m \u001b[0m__getattr__\u001b[0m\u001b[0;34m(\u001b[0m\u001b[0mself\u001b[0m\u001b[0;34m,\u001b[0m \u001b[0mkey\u001b[0m\u001b[0;34m)\u001b[0m\u001b[0;34m:\u001b[0m\u001b[0;34m\u001b[0m\u001b[0;34m\u001b[0m\u001b[0m\n\u001b[1;32m   2252\u001b[0m         \u001b[0;34m\"\"\"Raise a helpful exception to explain a common code fix.\"\"\"\u001b[0m\u001b[0;34m\u001b[0m\u001b[0;34m\u001b[0m\u001b[0m\n\u001b[0;32m-> 2253\u001b[0;31m         raise AttributeError(\n\u001b[0m\u001b[1;32m   2254\u001b[0m             \u001b[0;34m\"ResultSet object has no attribute '%s'. You're probably treating a list of elements like a single element. Did you call find_all() when you meant to call find()?\"\u001b[0m \u001b[0;34m%\u001b[0m \u001b[0mkey\u001b[0m\u001b[0;34m\u001b[0m\u001b[0;34m\u001b[0m\u001b[0m\n\u001b[1;32m   2255\u001b[0m         )\n",
            "\u001b[0;31mAttributeError\u001b[0m: ResultSet object has no attribute 'string'. You're probably treating a list of elements like a single element. Did you call find_all() when you meant to call find()?"
          ]
        }
      ],
      "source": [
        "gooyeok.string"
      ]
    },
    {
      "cell_type": "markdown",
      "metadata": {
        "id": "cmCOaoQ22obJ"
      },
      "source": [
        "### Selenium 활용하면 해결되더라..."
      ]
    },
    {
      "cell_type": "code",
      "execution_count": 108,
      "metadata": {},
      "outputs": [],
      "source": [
        "from selenium import webdriver\n",
        "\n",
        "from selenium.webdriver.chrome.service import Service\n",
        "from webdriver_manager.chrome import ChromeDriverManager\n",
        "\n",
        "#셀레늄에서 html문서가 생성될 때까지 대기하는 함수 불러오기\n",
        "from selenium.webdriver.support.ui import WebDriverWait\n",
        "\n",
        "#셀레늄에서 조건을 걸어줄 수 있는 함수 불러오기\n",
        "from selenium.webdriver.support import expected_conditions as EC\n",
        "from selenium.webdriver.common.by import By\n",
        "import time"
      ]
    },
    {
      "cell_type": "code",
      "execution_count": 85,
      "metadata": {
        "id": "p23htBs_2J-E"
      },
      "outputs": [],
      "source": [
        "#크롬드라이버 경로 설정\n",
        "\n",
        "import sys\n",
        "sys.path.insert(0, '/usr/local/bin/chromedriver')"
      ]
    },
    {
      "cell_type": "markdown",
      "metadata": {},
      "source": [
        "# 1. 부산광역시"
      ]
    },
    {
      "cell_type": "code",
      "execution_count": 129,
      "metadata": {},
      "outputs": [
        {
          "name": "stderr",
          "output_type": "stream",
          "text": [
            "/var/folders/hn/cd349ymj15z52npp7jj0gfnc0000gn/T/ipykernel_25181/2037927701.py:3: DeprecationWarning: executable_path has been deprecated, please pass in a Service object\n",
            "  browser = webdriver.Chrome(path)\n"
          ]
        }
      ],
      "source": [
        "#크롬드라이버 경로 설정\n",
        "path = '/usr/local/bin/chromedriver'\n",
        "browser = webdriver.Chrome(path)\n",
        "\n",
        "\n",
        "browser.get('https://sg.sbiz.or.kr/godo/stat/upso.sg')\n",
        "browser.find_element(\"xpath\",\"/html/body/div[1]/div[2]/div[1]/div[2]/div/div/div[1]/div/div[1]/ul/li[1]/div/div[2]/a\").click() #지역선택 누르기\n",
        "time.sleep(3)\n",
        "browser.find_element(\"xpath\",\"/html/body/div[2]/div/div[2]/div/div[1]/div/ul/li[1]/div/ul/li[3]/label\").click() #부산선택\n",
        "time.sleep(1)\n",
        "browser.find_element(\"xpath\",\"/html/body/div[2]/div/div[2]/div/div[2]/a[2]/span\").click() #확인선택\n",
        "time.sleep(1)\n",
        "browser.find_element(\"xpath\",\"/html/body/div[1]/div[2]/div[1]/div[2]/div/div/div[1]/div/div[2]/a\").click() #현황보기\n",
        "\n"
      ]
    },
    {
      "cell_type": "code",
      "execution_count": 93,
      "metadata": {
        "id": "Z64ZPKqE2J-K"
      },
      "outputs": [],
      "source": [
        "#긁어오기시작 \n",
        "from selenium.webdriver.common.by import By\n",
        "from selenium.webdriver.common.keys import Keys"
      ]
    },
    {
      "cell_type": "code",
      "execution_count": 54,
      "metadata": {
        "id": "OtdPyGER2J-K",
        "outputId": "e6b0da41-a9f0-49b4-dfd3-09e58708e44e"
      },
      "outputs": [
        {
          "name": "stdout",
          "output_type": "stream",
          "text": [
            "부산광역시\n",
            "150,522\n",
            "150,225\n",
            "-0.2%\n",
            "┗ 중구\n",
            "7,034\n",
            "7,029\n",
            "-0.07%\n",
            "┗ 서구\n",
            "3,981\n",
            "3,995\n",
            "0.35%\n",
            "┗ 동구\n",
            "6,310\n",
            "6,252\n",
            "-0.92%\n",
            "┗ 영도구\n",
            "4,598\n",
            "4,516\n",
            "-1.78%\n",
            "┗ 부산진구\n",
            "17,929\n",
            "18,114\n",
            "1.03%\n",
            "┗ 동래구\n",
            "10,869\n",
            "10,801\n",
            "-0.63%\n",
            "┗ 남구\n",
            "9,582\n",
            "9,583\n",
            "0.01%\n",
            "┗ 북구\n",
            "8,330\n",
            "8,386\n",
            "0.67%\n",
            "┗ 해운대구\n",
            "17,437\n",
            "17,178\n",
            "-1.49%\n",
            "┗ 사하구\n",
            "12,096\n",
            "12,191\n",
            "0.79%\n",
            "┗ 금정구\n",
            "9,537\n",
            "9,631\n",
            "0.99%\n",
            "┗ 강서구\n",
            "7,148\n",
            "7,362\n",
            "2.99%\n",
            "┗ 연제구\n",
            "9,317\n",
            "8,040\n",
            "-13.71%\n",
            "┗ 수영구\n",
            "8,412\n",
            "8,281\n",
            "-1.56%\n",
            "┗ 사상구\n",
            "9,342\n",
            "9,497\n",
            "1.66%\n",
            "┗ 기장군\n",
            "7,404\n",
            "7,616\n",
            "2.86%\n"
          ]
        }
      ],
      "source": [
        "y= browser.find_elements(By.CSS_SELECTOR,'#upsoTable > tr > td')\n",
        "for x in y :\n",
        "    print(x.text)\n",
        "#page4-1 > div.dataHtml > div.year-table > div > table"
      ]
    },
    {
      "cell_type": "code",
      "execution_count": null,
      "metadata": {},
      "outputs": [],
      "source": []
    },
    {
      "cell_type": "code",
      "execution_count": 130,
      "metadata": {},
      "outputs": [
        {
          "name": "stdout",
          "output_type": "stream",
          "text": [
            "부산광역시 150,522 150,225 -0.2%\n",
            "┗ 중구 7,034 7,029 -0.07%\n",
            "┗ 서구 3,981 3,995 0.35%\n",
            "┗ 동구 6,310 6,252 -0.92%\n",
            "┗ 영도구 4,598 4,516 -1.78%\n",
            "┗ 부산진구 17,929 18,114 1.03%\n",
            "┗ 동래구 10,869 10,801 -0.63%\n",
            "┗ 남구 9,582 9,583 0.01%\n",
            "┗ 북구 8,330 8,386 0.67%\n",
            "┗ 해운대구 17,437 17,178 -1.49%\n",
            "┗ 사하구 12,096 12,191 0.79%\n",
            "┗ 금정구 9,537 9,631 0.99%\n",
            "┗ 강서구 7,148 7,362 2.99%\n",
            "┗ 연제구 9,317 8,040 -13.71%\n",
            "┗ 수영구 8,412 8,281 -1.56%\n",
            "┗ 사상구 9,342 9,497 1.66%\n",
            "┗ 기장군 7,404 7,616 2.86%\n"
          ]
        }
      ],
      "source": [
        "y= browser.find_elements(By.CSS_SELECTOR,'#upsoTable')\n",
        "for x in y :\n",
        "    print(x.text)"
      ]
    },
    {
      "cell_type": "code",
      "execution_count": 131,
      "metadata": {},
      "outputs": [
        {
          "name": "stdout",
          "output_type": "stream",
          "text": [
            "행정구역 2021년 상반기 2021년 하반기 증감률\n",
            "부산광역시 150,522 150,225 -0.2%\n",
            "┗ 중구 7,034 7,029 -0.07%\n",
            "┗ 서구 3,981 3,995 0.35%\n",
            "┗ 동구 6,310 6,252 -0.92%\n",
            "┗ 영도구 4,598 4,516 -1.78%\n",
            "┗ 부산진구 17,929 18,114 1.03%\n",
            "┗ 동래구 10,869 10,801 -0.63%\n",
            "┗ 남구 9,582 9,583 0.01%\n",
            "┗ 북구 8,330 8,386 0.67%\n",
            "┗ 해운대구 17,437 17,178 -1.49%\n",
            "┗ 사하구 12,096 12,191 0.79%\n",
            "┗ 금정구 9,537 9,631 0.99%\n",
            "┗ 강서구 7,148 7,362 2.99%\n",
            "┗ 연제구 9,317 8,040 -13.71%\n",
            "┗ 수영구 8,412 8,281 -1.56%\n",
            "┗ 사상구 9,342 9,497 1.66%\n",
            "┗ 기장군 7,404 7,616 2.86%\n"
          ]
        }
      ],
      "source": [
        "y= browser.find_elements(By.CSS_SELECTOR,'#page4-1 > div.dataHtml > div.year-table > div > table')\n",
        "for x in y :\n",
        "    print(x.text)"
      ]
    },
    {
      "cell_type": "code",
      "execution_count": 62,
      "metadata": {},
      "outputs": [],
      "source": [
        "import csv\n",
        "import ssl \n",
        "from urllib.request import urlopen\n",
        "from urllib.parse import quote_plus\n",
        "from bs4 import BeautifulSoup \n",
        "import pandas as pd"
      ]
    },
    {
      "cell_type": "code",
      "execution_count": 102,
      "metadata": {},
      "outputs": [],
      "source": [
        "output = x.text"
      ]
    },
    {
      "cell_type": "code",
      "execution_count": 103,
      "metadata": {},
      "outputs": [
        {
          "data": {
            "text/plain": [
              "'행정구역 2021년 상반기 2021년 하반기 증감률\\n부산광역시 150,522 150,225 -0.2%\\n┗ 중구 7,034 7,029 -0.07%\\n┗ 서구 3,981 3,995 0.35%\\n┗ 동구 6,310 6,252 -0.92%\\n┗ 영도구 4,598 4,516 -1.78%\\n┗ 부산진구 17,929 18,114 1.03%\\n┗ 동래구 10,869 10,801 -0.63%\\n┗ 남구 9,582 9,583 0.01%\\n┗ 북구 8,330 8,386 0.67%\\n┗ 해운대구 17,437 17,178 -1.49%\\n┗ 사하구 12,096 12,191 0.79%\\n┗ 금정구 9,537 9,631 0.99%\\n┗ 강서구 7,148 7,362 2.99%\\n┗ 연제구 9,317 8,040 -13.71%\\n┗ 수영구 8,412 8,281 -1.56%\\n┗ 사상구 9,342 9,497 1.66%\\n┗ 기장군 7,404 7,616 2.86%'"
            ]
          },
          "execution_count": 103,
          "metadata": {},
          "output_type": "execute_result"
        }
      ],
      "source": [
        "output"
      ]
    },
    {
      "cell_type": "code",
      "execution_count": 105,
      "metadata": {},
      "outputs": [
        {
          "data": {
            "text/plain": [
              "1009"
            ]
          },
          "execution_count": 105,
          "metadata": {},
          "output_type": "execute_result"
        }
      ],
      "source": [
        "file = open(f'busan2.csv','w',encoding='utf-8',newline='')\n",
        "wtr = csv.writer(file)\n",
        "wtr.writerow(['행정구역','2021상반기','2021하반기','증감률'])\n",
        "wtr.writerow(output)"
      ]
    },
    {
      "cell_type": "code",
      "execution_count": 132,
      "metadata": {},
      "outputs": [],
      "source": [
        "searchList = []\n",
        "\n",
        "for i in y:\n",
        "    temp = []\n",
        "    temp.append(i.text)\n",
        "    searchList.append(temp)\n",
        "\n",
        "with open('busan1.csv','w',encoding='utf-8',newline='') as f:\n",
        "    writer = csv.writer(f)\n",
        "    writer.writerow(['행정구역','2021상반기','2021하반기','증감률'])\n",
        "    writer.writerows(searchList)\n"
      ]
    },
    {
      "cell_type": "markdown",
      "metadata": {},
      "source": [
        "열 이름은 제대로 되는데 한칸에 모두 저장되는 문제...."
      ]
    },
    {
      "cell_type": "markdown",
      "metadata": {},
      "source": [
        "# 2. 울산"
      ]
    },
    {
      "cell_type": "code",
      "execution_count": 114,
      "metadata": {},
      "outputs": [
        {
          "name": "stderr",
          "output_type": "stream",
          "text": [
            "/var/folders/hn/cd349ymj15z52npp7jj0gfnc0000gn/T/ipykernel_25181/1635479218.py:3: DeprecationWarning: executable_path has been deprecated, please pass in a Service object\n",
            "  browser = webdriver.Chrome(path)\n"
          ]
        }
      ],
      "source": [
        "#크롬드라이버 경로 설정\n",
        "path = '/usr/local/bin/chromedriver'\n",
        "browser = webdriver.Chrome(path)\n",
        "\n",
        "\n",
        "browser.get('https://sg.sbiz.or.kr/godo/stat/upso.sg')\n",
        "browser.find_element(\"xpath\",\"/html/body/div[1]/div[2]/div[1]/div[2]/div/div/div[1]/div/div[1]/ul/li[1]/div/div[2]/a\").click() #지역선택 누르기\n",
        "time.sleep(3)\n",
        "browser.find_element(\"xpath\",\"/html/body/div[2]/div/div[2]/div/div[1]/div/ul/li[1]/div/ul/li[8]/label\").click() #울산선택\n",
        "time.sleep(1) \n",
        "browser.find_element(\"xpath\",\"/html/body/div[2]/div/div[2]/div/div[1]/div/ul/li[2]/div/ul/li[1]/label\").click() #전체선택\n",
        "time.sleep(1)\n",
        "browser.find_element(\"xpath\",\"/html/body/div[2]/div/div[2]/div/div[2]/a[2]/span\").click() #확인선택\n",
        "time.sleep(1)\n",
        "browser.find_element(\"xpath\",\"/html/body/div[1]/div[2]/div[1]/div[2]/div/div/div[1]/div/div[2]/a\").click() #현황보기\n",
        "\n"
      ]
    },
    {
      "cell_type": "code",
      "execution_count": 115,
      "metadata": {},
      "outputs": [
        {
          "name": "stdout",
          "output_type": "stream",
          "text": [
            "행정구역 2021년 상반기 2021년 하반기 증감률\n",
            "울산광역시 52,564 49,490 -5.85%\n",
            "┗ 중구 9,104 8,694 -4.5%\n",
            "┗ 남구 19,393 17,656 -8.96%\n",
            "┗ 동구 6,366 5,406 -15.08%\n",
            "┗ 북구 7,637 7,648 0.14%\n",
            "┗ 울주군 9,753 9,630 -1.26%\n"
          ]
        }
      ],
      "source": [
        "total_ulsan= browser.find_elements(By.CSS_SELECTOR,'#page4-1 > div.dataHtml > div.year-table > div > table')\n",
        "for u in total_ulsan :\n",
        "    print(u.text)"
      ]
    },
    {
      "cell_type": "markdown",
      "metadata": {},
      "source": [
        "# 3. 경북"
      ]
    },
    {
      "cell_type": "code",
      "execution_count": 121,
      "metadata": {},
      "outputs": [
        {
          "name": "stderr",
          "output_type": "stream",
          "text": [
            "/var/folders/hn/cd349ymj15z52npp7jj0gfnc0000gn/T/ipykernel_25181/2373193097.py:3: DeprecationWarning: executable_path has been deprecated, please pass in a Service object\n",
            "  browser = webdriver.Chrome(path)\n"
          ]
        }
      ],
      "source": [
        "#크롬드라이버 경로 설정\n",
        "path = '/usr/local/bin/chromedriver'\n",
        "browser = webdriver.Chrome(path)\n",
        "\n",
        "\n",
        "browser.get('https://sg.sbiz.or.kr/godo/stat/upso.sg')\n",
        "browser.find_element(\"xpath\",\"/html/body/div[1]/div[2]/div[1]/div[2]/div/div/div[1]/div/div[1]/ul/li[1]/div/div[2]/a\").click() #지역선택 누르기\n",
        "time.sleep(3)\n",
        "\n",
        "itemlist = browser.find_element(\"xpath\",'html/body/div[2]/div/div[2]/div/div[1]/div/ul/li[1]/div')\n",
        "browser.execute_script(\"arguments[0].scrollBy(0, document.body.scrollHeight)\", itemlist)\n",
        "\n",
        "time.sleep(1)\n",
        "browser.find_element(\"xpath\",\"/html/body/div[2]/div/div[2]/div/div[1]/div/ul/li[1]/div/ul/li[16]/label\").click() #경북선택\n",
        "time.sleep(1) \n",
        "browser.find_element(\"xpath\",\"/html/body/div[2]/div/div[2]/div/div[1]/div/ul/li[2]/div/ul/li[1]/label\").click() #전체선택\n",
        "time.sleep(1)\n",
        "browser.find_element(\"xpath\",\"/html/body/div[2]/div/div[2]/div/div[2]/a[2]/span\").click() #확인선택\n",
        "time.sleep(1)\n",
        "browser.find_element(\"xpath\",\"/html/body/div[1]/div[2]/div[1]/div[2]/div/div/div[1]/div/div[2]/a\").click() #현황보기\n",
        "\n"
      ]
    },
    {
      "cell_type": "code",
      "execution_count": 122,
      "metadata": {},
      "outputs": [
        {
          "name": "stdout",
          "output_type": "stream",
          "text": [
            "행정구역 2021년 상반기 2021년 하반기 증감률\n",
            "경상북도 164,296 154,469 -5.98%\n",
            "┗ 포항시 30,928 28,358 -8.31%\n",
            "┗ 경주시 20,496 19,508 -4.82%\n",
            "┗ 김천시 6,404 6,308 -1.5%\n",
            "┗ 안동시 11,890 10,911 -8.23%\n",
            "┗ 구미시 24,678 21,448 -13.09%\n",
            "┗ 영주시 7,275 6,949 -4.48%\n",
            "┗ 영천시 5,302 5,139 -3.07%\n",
            "┗ 상주시 6,156 5,515 -10.41%\n",
            "┗ 문경시 4,971 4,627 -6.92%\n",
            "┗ 경산시 13,829 13,559 -1.95%\n",
            "┗ 군위군 1,078 1,036 -3.9%\n",
            "┗ 의성군 2,595 2,508 -3.35%\n",
            "┗ 청송군 1,754 1,679 -4.28%\n",
            "┗ 영양군 790 745 -5.7%\n",
            "┗ 영덕군 3,341 3,190 -4.52%\n",
            "┗ 청도군 2,438 2,353 -3.49%\n",
            "┗ 고령군 1,559 1,518 -2.63%\n",
            "┗ 성주군 2,314 2,243 -3.07%\n",
            "┗ 칠곡군 6,549 6,366 -2.79%\n",
            "┗ 예천군 2,674 2,556 -4.41%\n",
            "┗ 봉화군 1,587 1,500 -5.48%\n",
            "┗ 울진군 3,736 3,611 -3.35%\n",
            "┗ 울릉군 688 669 -2.76%\n"
          ]
        }
      ],
      "source": [
        "total_kyungbuk= browser.find_elements(By.CSS_SELECTOR,'#page4-1 > div.dataHtml > div.year-table > div > table')\n",
        "for u in total_kyungbuk :\n",
        "    print(u.text)"
      ]
    },
    {
      "cell_type": "markdown",
      "metadata": {},
      "source": [
        "# 4.경남 "
      ]
    },
    {
      "cell_type": "code",
      "execution_count": 125,
      "metadata": {},
      "outputs": [
        {
          "name": "stderr",
          "output_type": "stream",
          "text": [
            "/var/folders/hn/cd349ymj15z52npp7jj0gfnc0000gn/T/ipykernel_25181/3197362583.py:3: DeprecationWarning: executable_path has been deprecated, please pass in a Service object\n",
            "  browser = webdriver.Chrome(path)\n"
          ]
        }
      ],
      "source": [
        "#크롬드라이버 경로 설정\n",
        "path = '/usr/local/bin/chromedriver'\n",
        "browser = webdriver.Chrome(path)\n",
        "\n",
        "\n",
        "browser.get('https://sg.sbiz.or.kr/godo/stat/upso.sg')\n",
        "browser.find_element(\"xpath\",\"/html/body/div[1]/div[2]/div[1]/div[2]/div/div/div[1]/div/div[1]/ul/li[1]/div/div[2]/a\").click() #지역선택 누르기\n",
        "time.sleep(3)\n",
        "\n",
        "itemlist = browser.find_element(\"xpath\",'html/body/div[2]/div/div[2]/div/div[1]/div/ul/li[1]/div')\n",
        "browser.execute_script(\"arguments[0].scrollBy(0, document.body.scrollHeight)\", itemlist)\n",
        "\n",
        "time.sleep(1)\n",
        "browser.find_element(\"xpath\",\"/html/body/div[2]/div/div[2]/div/div[1]/div/ul/li[1]/div/ul/li[17]/label\").click() #경남선택\n",
        "time.sleep(1) \n",
        "browser.find_element(\"xpath\",\"/html/body/div[2]/div/div[2]/div/div[2]/a[2]/span\").click() #확인선택\n",
        "time.sleep(1)\n",
        "browser.find_element(\"xpath\",\"/html/body/div[1]/div[2]/div[1]/div[2]/div/div/div[1]/div/div[2]/a\").click() #현황보기\n",
        "\n"
      ]
    },
    {
      "cell_type": "code",
      "execution_count": 126,
      "metadata": {},
      "outputs": [
        {
          "name": "stdout",
          "output_type": "stream",
          "text": [
            "행정구역 2021년 상반기 2021년 하반기 증감률\n",
            "경상남도 182,749 175,214 -4.12%\n",
            "┗ 창원시 58,809 57,003 -3.07%\n",
            "┗ 진주시 18,615 18,518 -0.52%\n",
            "┗ 통영시 8,864 8,479 -4.34%\n",
            "┗ 사천시 6,497 6,346 -2.32%\n",
            "┗ 김해시 26,124 22,926 -12.24%\n",
            "┗ 밀양시 6,477 6,108 -5.7%\n",
            "┗ 거제시 11,996 11,946 -0.42%\n",
            "┗ 양산시 16,019 14,647 -8.56%\n",
            "┗ 의령군 1,325 1,284 -3.09%\n",
            "┗ 함안군 3,134 3,044 -2.87%\n",
            "┗ 창녕군 3,790 3,675 -3.03%\n",
            "┗ 고성군 3,292 3,191 -3.07%\n",
            "┗ 남해군 2,954 2,933 -0.71%\n",
            "┗ 하동군 3,032 2,947 -2.8%\n",
            "┗ 산청군 2,389 2,345 -1.84%\n",
            "┗ 함양군 2,427 2,333 -3.87%\n",
            "┗ 거창군 3,527 3,424 -2.92%\n",
            "┗ 합천군 2,469 2,374 -3.85%\n"
          ]
        }
      ],
      "source": [
        "total_kyungnam= browser.find_elements(By.CSS_SELECTOR,'#page4-1 > div.dataHtml > div.year-table > div > table')\n",
        "for u in total_kyungnam :\n",
        "    print(u.text)"
      ]
    },
    {
      "cell_type": "markdown",
      "metadata": {
        "id": "JkTQ-VdZ3alc"
      },
      "source": [
        "# 과제\n",
        "\n",
        "### 1. 위의 코드 이해하기\n",
        "### 2. 위의 코드를 활용하여 각자 맡은 지역의 상권 정보를 긁어 csv 파일로 만들기\n",
        "\n",
        "https://sg.sbiz.or.kr/godo/stat/upso.sg\n",
        "### 3. csv 파일은 구글 드라이브에 업로드할 것. jupyter notebook으로 크롤링 진행 후 ipynb 파일을 각자 DSL 깃에서 fork하여 pull request 하는 형식으로 제출\n"
      ]
    },
    {
      "cell_type": "code",
      "execution_count": null,
      "metadata": {
        "id": "JCDHRS7w2J-L"
      },
      "outputs": [],
      "source": []
    }
  ],
  "metadata": {
    "colab": {
      "name": "crawling_selenium.ipynb",
      "provenance": []
    },
    "kernelspec": {
      "display_name": "Python 3 (ipykernel)",
      "language": "python",
      "name": "python3"
    },
    "language_info": {
      "codemirror_mode": {
        "name": "ipython",
        "version": 3
      },
      "file_extension": ".py",
      "mimetype": "text/x-python",
      "name": "python",
      "nbconvert_exporter": "python",
      "pygments_lexer": "ipython3",
      "version": "3.9.7"
    }
  },
  "nbformat": 4,
  "nbformat_minor": 0
}
