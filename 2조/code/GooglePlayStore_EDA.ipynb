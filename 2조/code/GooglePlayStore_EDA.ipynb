{
 "cells": [
  {
   "cell_type": "code",
   "execution_count": 223,
   "id": "46e8a69e",
   "metadata": {},
   "outputs": [
    {
     "name": "stdout",
     "output_type": "stream",
     "text": [
      "Requirement already satisfied: wordcloud in c:\\users\\82107\\anaconda3\\lib\\site-packages (1.8.2.2)\n",
      "Requirement already satisfied: numpy>=1.6.1 in c:\\users\\82107\\anaconda3\\lib\\site-packages (from wordcloud) (1.20.3)\n",
      "Requirement already satisfied: matplotlib in c:\\users\\82107\\anaconda3\\lib\\site-packages (from wordcloud) (3.4.3)\n",
      "Requirement already satisfied: pillow in c:\\users\\82107\\anaconda3\\lib\\site-packages (from wordcloud) (8.4.0)\n",
      "Requirement already satisfied: cycler>=0.10 in c:\\users\\82107\\anaconda3\\lib\\site-packages (from matplotlib->wordcloud) (0.10.0)\n",
      "Requirement already satisfied: pyparsing>=2.2.1 in c:\\users\\82107\\anaconda3\\lib\\site-packages (from matplotlib->wordcloud) (3.0.4)\n",
      "Requirement already satisfied: python-dateutil>=2.7 in c:\\users\\82107\\anaconda3\\lib\\site-packages (from matplotlib->wordcloud) (2.8.2)\n",
      "Requirement already satisfied: kiwisolver>=1.0.1 in c:\\users\\82107\\anaconda3\\lib\\site-packages (from matplotlib->wordcloud) (1.3.1)\n",
      "Requirement already satisfied: six in c:\\users\\82107\\anaconda3\\lib\\site-packages (from cycler>=0.10->matplotlib->wordcloud) (1.16.0)\n",
      "Note: you may need to restart the kernel to use updated packages.\n"
     ]
    }
   ],
   "source": [
    "# pip install wordcloud"
   ]
  },
  {
   "cell_type": "code",
   "execution_count": 229,
   "id": "516495c3",
   "metadata": {},
   "outputs": [],
   "source": [
    "import os\n",
    "import numpy as np\n",
    "import pandas as pd\n",
    "from collections import Counter\n",
    "\n",
    "import matplotlib.pyplot as plt\n",
    "import seaborn as sns\n",
    "\n",
    "from PIL import Image\n",
    "from wordcloud import WordCloud, ImageColorGenerator"
   ]
  },
  {
   "cell_type": "markdown",
   "id": "27fae186",
   "metadata": {},
   "source": [
    "## 0. Load Data"
   ]
  },
  {
   "cell_type": "code",
   "execution_count": 3,
   "id": "56ef9812",
   "metadata": {},
   "outputs": [],
   "source": [
    "path_info = '../archive_googleplaystore/googleplaystore.csv'\n",
    "path_review = '../archive_googleplaystore/googleplaystore_user_reviews.csv'"
   ]
  },
  {
   "cell_type": "code",
   "execution_count": 4,
   "id": "044adda6",
   "metadata": {},
   "outputs": [],
   "source": [
    "app_info = pd.read_csv(path_info, index_col='App')\n",
    "app_review = pd.read_csv(path_review)"
   ]
  },
  {
   "cell_type": "code",
   "execution_count": 5,
   "id": "24b5df98",
   "metadata": {},
   "outputs": [
    {
     "data": {
      "text/html": [
       "<div>\n",
       "<style scoped>\n",
       "    .dataframe tbody tr th:only-of-type {\n",
       "        vertical-align: middle;\n",
       "    }\n",
       "\n",
       "    .dataframe tbody tr th {\n",
       "        vertical-align: top;\n",
       "    }\n",
       "\n",
       "    .dataframe thead th {\n",
       "        text-align: right;\n",
       "    }\n",
       "</style>\n",
       "<table border=\"1\" class=\"dataframe\">\n",
       "  <thead>\n",
       "    <tr style=\"text-align: right;\">\n",
       "      <th></th>\n",
       "      <th>Category</th>\n",
       "      <th>Rating</th>\n",
       "      <th>Reviews</th>\n",
       "      <th>Size</th>\n",
       "      <th>Installs</th>\n",
       "      <th>Type</th>\n",
       "      <th>Price</th>\n",
       "      <th>Content Rating</th>\n",
       "      <th>Genres</th>\n",
       "      <th>Last Updated</th>\n",
       "      <th>Current Ver</th>\n",
       "      <th>Android Ver</th>\n",
       "    </tr>\n",
       "    <tr>\n",
       "      <th>App</th>\n",
       "      <th></th>\n",
       "      <th></th>\n",
       "      <th></th>\n",
       "      <th></th>\n",
       "      <th></th>\n",
       "      <th></th>\n",
       "      <th></th>\n",
       "      <th></th>\n",
       "      <th></th>\n",
       "      <th></th>\n",
       "      <th></th>\n",
       "      <th></th>\n",
       "    </tr>\n",
       "  </thead>\n",
       "  <tbody>\n",
       "    <tr>\n",
       "      <th>Photo Editor &amp; Candy Camera &amp; Grid &amp; ScrapBook</th>\n",
       "      <td>ART_AND_DESIGN</td>\n",
       "      <td>4.1</td>\n",
       "      <td>159</td>\n",
       "      <td>19M</td>\n",
       "      <td>10,000+</td>\n",
       "      <td>Free</td>\n",
       "      <td>0</td>\n",
       "      <td>Everyone</td>\n",
       "      <td>Art &amp; Design</td>\n",
       "      <td>January 7, 2018</td>\n",
       "      <td>1.0.0</td>\n",
       "      <td>4.0.3 and up</td>\n",
       "    </tr>\n",
       "    <tr>\n",
       "      <th>Coloring book moana</th>\n",
       "      <td>ART_AND_DESIGN</td>\n",
       "      <td>3.9</td>\n",
       "      <td>967</td>\n",
       "      <td>14M</td>\n",
       "      <td>500,000+</td>\n",
       "      <td>Free</td>\n",
       "      <td>0</td>\n",
       "      <td>Everyone</td>\n",
       "      <td>Art &amp; Design;Pretend Play</td>\n",
       "      <td>January 15, 2018</td>\n",
       "      <td>2.0.0</td>\n",
       "      <td>4.0.3 and up</td>\n",
       "    </tr>\n",
       "    <tr>\n",
       "      <th>U Launcher Lite – FREE Live Cool Themes, Hide Apps</th>\n",
       "      <td>ART_AND_DESIGN</td>\n",
       "      <td>4.7</td>\n",
       "      <td>87510</td>\n",
       "      <td>8.7M</td>\n",
       "      <td>5,000,000+</td>\n",
       "      <td>Free</td>\n",
       "      <td>0</td>\n",
       "      <td>Everyone</td>\n",
       "      <td>Art &amp; Design</td>\n",
       "      <td>August 1, 2018</td>\n",
       "      <td>1.2.4</td>\n",
       "      <td>4.0.3 and up</td>\n",
       "    </tr>\n",
       "    <tr>\n",
       "      <th>Sketch - Draw &amp; Paint</th>\n",
       "      <td>ART_AND_DESIGN</td>\n",
       "      <td>4.5</td>\n",
       "      <td>215644</td>\n",
       "      <td>25M</td>\n",
       "      <td>50,000,000+</td>\n",
       "      <td>Free</td>\n",
       "      <td>0</td>\n",
       "      <td>Teen</td>\n",
       "      <td>Art &amp; Design</td>\n",
       "      <td>June 8, 2018</td>\n",
       "      <td>Varies with device</td>\n",
       "      <td>4.2 and up</td>\n",
       "    </tr>\n",
       "    <tr>\n",
       "      <th>Pixel Draw - Number Art Coloring Book</th>\n",
       "      <td>ART_AND_DESIGN</td>\n",
       "      <td>4.3</td>\n",
       "      <td>967</td>\n",
       "      <td>2.8M</td>\n",
       "      <td>100,000+</td>\n",
       "      <td>Free</td>\n",
       "      <td>0</td>\n",
       "      <td>Everyone</td>\n",
       "      <td>Art &amp; Design;Creativity</td>\n",
       "      <td>June 20, 2018</td>\n",
       "      <td>1.1</td>\n",
       "      <td>4.4 and up</td>\n",
       "    </tr>\n",
       "  </tbody>\n",
       "</table>\n",
       "</div>"
      ],
      "text/plain": [
       "                                                          Category  Rating  \\\n",
       "App                                                                          \n",
       "Photo Editor & Candy Camera & Grid & ScrapBook      ART_AND_DESIGN     4.1   \n",
       "Coloring book moana                                 ART_AND_DESIGN     3.9   \n",
       "U Launcher Lite – FREE Live Cool Themes, Hide Apps  ART_AND_DESIGN     4.7   \n",
       "Sketch - Draw & Paint                               ART_AND_DESIGN     4.5   \n",
       "Pixel Draw - Number Art Coloring Book               ART_AND_DESIGN     4.3   \n",
       "\n",
       "                                                   Reviews  Size     Installs  \\\n",
       "App                                                                             \n",
       "Photo Editor & Candy Camera & Grid & ScrapBook         159   19M      10,000+   \n",
       "Coloring book moana                                    967   14M     500,000+   \n",
       "U Launcher Lite – FREE Live Cool Themes, Hide Apps   87510  8.7M   5,000,000+   \n",
       "Sketch - Draw & Paint                               215644   25M  50,000,000+   \n",
       "Pixel Draw - Number Art Coloring Book                  967  2.8M     100,000+   \n",
       "\n",
       "                                                    Type Price Content Rating  \\\n",
       "App                                                                             \n",
       "Photo Editor & Candy Camera & Grid & ScrapBook      Free     0       Everyone   \n",
       "Coloring book moana                                 Free     0       Everyone   \n",
       "U Launcher Lite – FREE Live Cool Themes, Hide Apps  Free     0       Everyone   \n",
       "Sketch - Draw & Paint                               Free     0           Teen   \n",
       "Pixel Draw - Number Art Coloring Book               Free     0       Everyone   \n",
       "\n",
       "                                                                       Genres  \\\n",
       "App                                                                             \n",
       "Photo Editor & Candy Camera & Grid & ScrapBook                   Art & Design   \n",
       "Coloring book moana                                 Art & Design;Pretend Play   \n",
       "U Launcher Lite – FREE Live Cool Themes, Hide Apps               Art & Design   \n",
       "Sketch - Draw & Paint                                            Art & Design   \n",
       "Pixel Draw - Number Art Coloring Book                 Art & Design;Creativity   \n",
       "\n",
       "                                                        Last Updated  \\\n",
       "App                                                                    \n",
       "Photo Editor & Candy Camera & Grid & ScrapBook       January 7, 2018   \n",
       "Coloring book moana                                 January 15, 2018   \n",
       "U Launcher Lite – FREE Live Cool Themes, Hide Apps    August 1, 2018   \n",
       "Sketch - Draw & Paint                                   June 8, 2018   \n",
       "Pixel Draw - Number Art Coloring Book                  June 20, 2018   \n",
       "\n",
       "                                                           Current Ver  \\\n",
       "App                                                                      \n",
       "Photo Editor & Candy Camera & Grid & ScrapBook                   1.0.0   \n",
       "Coloring book moana                                              2.0.0   \n",
       "U Launcher Lite – FREE Live Cool Themes, Hide Apps               1.2.4   \n",
       "Sketch - Draw & Paint                               Varies with device   \n",
       "Pixel Draw - Number Art Coloring Book                              1.1   \n",
       "\n",
       "                                                     Android Ver  \n",
       "App                                                               \n",
       "Photo Editor & Candy Camera & Grid & ScrapBook      4.0.3 and up  \n",
       "Coloring book moana                                 4.0.3 and up  \n",
       "U Launcher Lite – FREE Live Cool Themes, Hide Apps  4.0.3 and up  \n",
       "Sketch - Draw & Paint                                 4.2 and up  \n",
       "Pixel Draw - Number Art Coloring Book                 4.4 and up  "
      ]
     },
     "execution_count": 5,
     "metadata": {},
     "output_type": "execute_result"
    }
   ],
   "source": [
    "app_info.head()"
   ]
  },
  {
   "cell_type": "code",
   "execution_count": 6,
   "id": "482d39cc",
   "metadata": {},
   "outputs": [
    {
     "data": {
      "text/html": [
       "<div>\n",
       "<style scoped>\n",
       "    .dataframe tbody tr th:only-of-type {\n",
       "        vertical-align: middle;\n",
       "    }\n",
       "\n",
       "    .dataframe tbody tr th {\n",
       "        vertical-align: top;\n",
       "    }\n",
       "\n",
       "    .dataframe thead th {\n",
       "        text-align: right;\n",
       "    }\n",
       "</style>\n",
       "<table border=\"1\" class=\"dataframe\">\n",
       "  <thead>\n",
       "    <tr style=\"text-align: right;\">\n",
       "      <th></th>\n",
       "      <th>App</th>\n",
       "      <th>Translated_Review</th>\n",
       "      <th>Sentiment</th>\n",
       "      <th>Sentiment_Polarity</th>\n",
       "      <th>Sentiment_Subjectivity</th>\n",
       "    </tr>\n",
       "  </thead>\n",
       "  <tbody>\n",
       "    <tr>\n",
       "      <th>0</th>\n",
       "      <td>10 Best Foods for You</td>\n",
       "      <td>I like eat delicious food. That's I'm cooking ...</td>\n",
       "      <td>Positive</td>\n",
       "      <td>1.00</td>\n",
       "      <td>0.533333</td>\n",
       "    </tr>\n",
       "    <tr>\n",
       "      <th>1</th>\n",
       "      <td>10 Best Foods for You</td>\n",
       "      <td>This help eating healthy exercise regular basis</td>\n",
       "      <td>Positive</td>\n",
       "      <td>0.25</td>\n",
       "      <td>0.288462</td>\n",
       "    </tr>\n",
       "    <tr>\n",
       "      <th>2</th>\n",
       "      <td>10 Best Foods for You</td>\n",
       "      <td>NaN</td>\n",
       "      <td>NaN</td>\n",
       "      <td>NaN</td>\n",
       "      <td>NaN</td>\n",
       "    </tr>\n",
       "    <tr>\n",
       "      <th>3</th>\n",
       "      <td>10 Best Foods for You</td>\n",
       "      <td>Works great especially going grocery store</td>\n",
       "      <td>Positive</td>\n",
       "      <td>0.40</td>\n",
       "      <td>0.875000</td>\n",
       "    </tr>\n",
       "    <tr>\n",
       "      <th>4</th>\n",
       "      <td>10 Best Foods for You</td>\n",
       "      <td>Best idea us</td>\n",
       "      <td>Positive</td>\n",
       "      <td>1.00</td>\n",
       "      <td>0.300000</td>\n",
       "    </tr>\n",
       "  </tbody>\n",
       "</table>\n",
       "</div>"
      ],
      "text/plain": [
       "                     App                                  Translated_Review  \\\n",
       "0  10 Best Foods for You  I like eat delicious food. That's I'm cooking ...   \n",
       "1  10 Best Foods for You    This help eating healthy exercise regular basis   \n",
       "2  10 Best Foods for You                                                NaN   \n",
       "3  10 Best Foods for You         Works great especially going grocery store   \n",
       "4  10 Best Foods for You                                       Best idea us   \n",
       "\n",
       "  Sentiment  Sentiment_Polarity  Sentiment_Subjectivity  \n",
       "0  Positive                1.00                0.533333  \n",
       "1  Positive                0.25                0.288462  \n",
       "2       NaN                 NaN                     NaN  \n",
       "3  Positive                0.40                0.875000  \n",
       "4  Positive                1.00                0.300000  "
      ]
     },
     "execution_count": 6,
     "metadata": {},
     "output_type": "execute_result"
    }
   ],
   "source": [
    "app_review.head()"
   ]
  },
  {
   "cell_type": "markdown",
   "id": "ea43887e",
   "metadata": {},
   "source": [
    "# 1. 전처리"
   ]
  },
  {
   "cell_type": "markdown",
   "id": "c7c15cd5",
   "metadata": {},
   "source": [
    "#### 1-1. drop nulls, columns , rows"
   ]
  },
  {
   "cell_type": "code",
   "execution_count": 7,
   "id": "654a98e9",
   "metadata": {},
   "outputs": [
    {
     "name": "stdout",
     "output_type": "stream",
     "text": [
      "<class 'pandas.core.frame.DataFrame'>\n",
      "Index: 10841 entries, Photo Editor & Candy Camera & Grid & ScrapBook to iHoroscope - 2018 Daily Horoscope & Astrology\n",
      "Data columns (total 12 columns):\n",
      " #   Column          Non-Null Count  Dtype  \n",
      "---  ------          --------------  -----  \n",
      " 0   Category        10841 non-null  object \n",
      " 1   Rating          9367 non-null   float64\n",
      " 2   Reviews         10841 non-null  object \n",
      " 3   Size            10841 non-null  object \n",
      " 4   Installs        10841 non-null  object \n",
      " 5   Type            10840 non-null  object \n",
      " 6   Price           10841 non-null  object \n",
      " 7   Content Rating  10840 non-null  object \n",
      " 8   Genres          10841 non-null  object \n",
      " 9   Last Updated    10841 non-null  object \n",
      " 10  Current Ver     10833 non-null  object \n",
      " 11  Android Ver     10838 non-null  object \n",
      "dtypes: float64(1), object(11)\n",
      "memory usage: 1.1+ MB\n"
     ]
    }
   ],
   "source": [
    "# info data: not much null data(except rating)\n",
    "app_info.info()"
   ]
  },
  {
   "cell_type": "code",
   "execution_count": 8,
   "id": "776c1030",
   "metadata": {},
   "outputs": [
    {
     "name": "stdout",
     "output_type": "stream",
     "text": [
      "<class 'pandas.core.frame.DataFrame'>\n",
      "RangeIndex: 64295 entries, 0 to 64294\n",
      "Data columns (total 5 columns):\n",
      " #   Column                  Non-Null Count  Dtype  \n",
      "---  ------                  --------------  -----  \n",
      " 0   App                     64295 non-null  object \n",
      " 1   Translated_Review       37427 non-null  object \n",
      " 2   Sentiment               37432 non-null  object \n",
      " 3   Sentiment_Polarity      37432 non-null  float64\n",
      " 4   Sentiment_Subjectivity  37432 non-null  float64\n",
      "dtypes: float64(2), object(3)\n",
      "memory usage: 2.5+ MB\n"
     ]
    }
   ],
   "source": [
    "# review data: 행 별로 정보가 아예 있거나 없거나\n",
    "app_review.info()"
   ]
  },
  {
   "cell_type": "code",
   "execution_count": 9,
   "id": "4310f0cd",
   "metadata": {},
   "outputs": [],
   "source": [
    "# null 있는 행 제거\n",
    "app_review.dropna(axis =0, inplace = True)"
   ]
  },
  {
   "cell_type": "code",
   "execution_count": 10,
   "id": "edd19fbb",
   "metadata": {},
   "outputs": [],
   "source": [
    "# Type, Android/Current Ver columns drop\n",
    "app_info.drop(['Type', 'Android Ver', 'Current Ver'], axis =1, inplace =True)"
   ]
  },
  {
   "cell_type": "code",
   "execution_count": 11,
   "id": "f7c723f9",
   "metadata": {},
   "outputs": [
    {
     "data": {
      "text/html": [
       "<div>\n",
       "<style scoped>\n",
       "    .dataframe tbody tr th:only-of-type {\n",
       "        vertical-align: middle;\n",
       "    }\n",
       "\n",
       "    .dataframe tbody tr th {\n",
       "        vertical-align: top;\n",
       "    }\n",
       "\n",
       "    .dataframe thead th {\n",
       "        text-align: right;\n",
       "    }\n",
       "</style>\n",
       "<table border=\"1\" class=\"dataframe\">\n",
       "  <thead>\n",
       "    <tr style=\"text-align: right;\">\n",
       "      <th></th>\n",
       "      <th>Category</th>\n",
       "      <th>Rating</th>\n",
       "      <th>Reviews</th>\n",
       "      <th>Size</th>\n",
       "      <th>Installs</th>\n",
       "      <th>Price</th>\n",
       "      <th>Content Rating</th>\n",
       "      <th>Genres</th>\n",
       "      <th>Last Updated</th>\n",
       "    </tr>\n",
       "    <tr>\n",
       "      <th>App</th>\n",
       "      <th></th>\n",
       "      <th></th>\n",
       "      <th></th>\n",
       "      <th></th>\n",
       "      <th></th>\n",
       "      <th></th>\n",
       "      <th></th>\n",
       "      <th></th>\n",
       "      <th></th>\n",
       "    </tr>\n",
       "  </thead>\n",
       "  <tbody>\n",
       "    <tr>\n",
       "      <th>Life Made WI-Fi Touchscreen Photo Frame</th>\n",
       "      <td>1.9</td>\n",
       "      <td>19.0</td>\n",
       "      <td>3.0M</td>\n",
       "      <td>1,000+</td>\n",
       "      <td>Free</td>\n",
       "      <td>Everyone</td>\n",
       "      <td>NaN</td>\n",
       "      <td>February 11, 2018</td>\n",
       "      <td>1.0.19</td>\n",
       "    </tr>\n",
       "  </tbody>\n",
       "</table>\n",
       "</div>"
      ],
      "text/plain": [
       "                                        Category  Rating Reviews    Size  \\\n",
       "App                                                                        \n",
       "Life Made WI-Fi Touchscreen Photo Frame      1.9    19.0    3.0M  1,000+   \n",
       "\n",
       "                                        Installs     Price Content Rating  \\\n",
       "App                                                                         \n",
       "Life Made WI-Fi Touchscreen Photo Frame     Free  Everyone            NaN   \n",
       "\n",
       "                                                    Genres Last Updated  \n",
       "App                                                                      \n",
       "Life Made WI-Fi Touchscreen Photo Frame  February 11, 2018       1.0.19  "
      ]
     },
     "metadata": {},
     "output_type": "display_data"
    }
   ],
   "source": [
    "# Strange Row data \n",
    "display(app_info[app_info['Reviews'] =='3.0M'])\n",
    "# Drop row\n",
    "app_info.drop(app_info[app_info['Reviews'] =='3.0M'].index, axis =0, inplace =True)"
   ]
  },
  {
   "cell_type": "markdown",
   "id": "d35c1340",
   "metadata": {},
   "source": [
    "#### 1-2. String to Float"
   ]
  },
  {
   "cell_type": "code",
   "execution_count": 12,
   "id": "b962498e",
   "metadata": {},
   "outputs": [
    {
     "data": {
      "text/html": [
       "<div>\n",
       "<style scoped>\n",
       "    .dataframe tbody tr th:only-of-type {\n",
       "        vertical-align: middle;\n",
       "    }\n",
       "\n",
       "    .dataframe tbody tr th {\n",
       "        vertical-align: top;\n",
       "    }\n",
       "\n",
       "    .dataframe thead th {\n",
       "        text-align: right;\n",
       "    }\n",
       "</style>\n",
       "<table border=\"1\" class=\"dataframe\">\n",
       "  <thead>\n",
       "    <tr style=\"text-align: right;\">\n",
       "      <th></th>\n",
       "      <th>Category</th>\n",
       "      <th>Rating</th>\n",
       "      <th>Reviews</th>\n",
       "      <th>Size</th>\n",
       "      <th>Installs</th>\n",
       "      <th>Price</th>\n",
       "      <th>Content Rating</th>\n",
       "      <th>Genres</th>\n",
       "      <th>Last Updated</th>\n",
       "    </tr>\n",
       "    <tr>\n",
       "      <th>App</th>\n",
       "      <th></th>\n",
       "      <th></th>\n",
       "      <th></th>\n",
       "      <th></th>\n",
       "      <th></th>\n",
       "      <th></th>\n",
       "      <th></th>\n",
       "      <th></th>\n",
       "      <th></th>\n",
       "    </tr>\n",
       "  </thead>\n",
       "  <tbody>\n",
       "    <tr>\n",
       "      <th>Photo Editor &amp; Candy Camera &amp; Grid &amp; ScrapBook</th>\n",
       "      <td>ART_AND_DESIGN</td>\n",
       "      <td>4.1</td>\n",
       "      <td>159</td>\n",
       "      <td>19M</td>\n",
       "      <td>10,000+</td>\n",
       "      <td>0</td>\n",
       "      <td>Everyone</td>\n",
       "      <td>Art &amp; Design</td>\n",
       "      <td>January 7, 2018</td>\n",
       "    </tr>\n",
       "    <tr>\n",
       "      <th>Coloring book moana</th>\n",
       "      <td>ART_AND_DESIGN</td>\n",
       "      <td>3.9</td>\n",
       "      <td>967</td>\n",
       "      <td>14M</td>\n",
       "      <td>500,000+</td>\n",
       "      <td>0</td>\n",
       "      <td>Everyone</td>\n",
       "      <td>Art &amp; Design;Pretend Play</td>\n",
       "      <td>January 15, 2018</td>\n",
       "    </tr>\n",
       "    <tr>\n",
       "      <th>U Launcher Lite – FREE Live Cool Themes, Hide Apps</th>\n",
       "      <td>ART_AND_DESIGN</td>\n",
       "      <td>4.7</td>\n",
       "      <td>87510</td>\n",
       "      <td>8.7M</td>\n",
       "      <td>5,000,000+</td>\n",
       "      <td>0</td>\n",
       "      <td>Everyone</td>\n",
       "      <td>Art &amp; Design</td>\n",
       "      <td>August 1, 2018</td>\n",
       "    </tr>\n",
       "    <tr>\n",
       "      <th>Sketch - Draw &amp; Paint</th>\n",
       "      <td>ART_AND_DESIGN</td>\n",
       "      <td>4.5</td>\n",
       "      <td>215644</td>\n",
       "      <td>25M</td>\n",
       "      <td>50,000,000+</td>\n",
       "      <td>0</td>\n",
       "      <td>Teen</td>\n",
       "      <td>Art &amp; Design</td>\n",
       "      <td>June 8, 2018</td>\n",
       "    </tr>\n",
       "    <tr>\n",
       "      <th>Pixel Draw - Number Art Coloring Book</th>\n",
       "      <td>ART_AND_DESIGN</td>\n",
       "      <td>4.3</td>\n",
       "      <td>967</td>\n",
       "      <td>2.8M</td>\n",
       "      <td>100,000+</td>\n",
       "      <td>0</td>\n",
       "      <td>Everyone</td>\n",
       "      <td>Art &amp; Design;Creativity</td>\n",
       "      <td>June 20, 2018</td>\n",
       "    </tr>\n",
       "  </tbody>\n",
       "</table>\n",
       "</div>"
      ],
      "text/plain": [
       "                                                          Category  Rating  \\\n",
       "App                                                                          \n",
       "Photo Editor & Candy Camera & Grid & ScrapBook      ART_AND_DESIGN     4.1   \n",
       "Coloring book moana                                 ART_AND_DESIGN     3.9   \n",
       "U Launcher Lite – FREE Live Cool Themes, Hide Apps  ART_AND_DESIGN     4.7   \n",
       "Sketch - Draw & Paint                               ART_AND_DESIGN     4.5   \n",
       "Pixel Draw - Number Art Coloring Book               ART_AND_DESIGN     4.3   \n",
       "\n",
       "                                                   Reviews  Size     Installs  \\\n",
       "App                                                                             \n",
       "Photo Editor & Candy Camera & Grid & ScrapBook         159   19M      10,000+   \n",
       "Coloring book moana                                    967   14M     500,000+   \n",
       "U Launcher Lite – FREE Live Cool Themes, Hide Apps   87510  8.7M   5,000,000+   \n",
       "Sketch - Draw & Paint                               215644   25M  50,000,000+   \n",
       "Pixel Draw - Number Art Coloring Book                  967  2.8M     100,000+   \n",
       "\n",
       "                                                   Price Content Rating  \\\n",
       "App                                                                       \n",
       "Photo Editor & Candy Camera & Grid & ScrapBook         0       Everyone   \n",
       "Coloring book moana                                    0       Everyone   \n",
       "U Launcher Lite – FREE Live Cool Themes, Hide Apps     0       Everyone   \n",
       "Sketch - Draw & Paint                                  0           Teen   \n",
       "Pixel Draw - Number Art Coloring Book                  0       Everyone   \n",
       "\n",
       "                                                                       Genres  \\\n",
       "App                                                                             \n",
       "Photo Editor & Candy Camera & Grid & ScrapBook                   Art & Design   \n",
       "Coloring book moana                                 Art & Design;Pretend Play   \n",
       "U Launcher Lite – FREE Live Cool Themes, Hide Apps               Art & Design   \n",
       "Sketch - Draw & Paint                                            Art & Design   \n",
       "Pixel Draw - Number Art Coloring Book                 Art & Design;Creativity   \n",
       "\n",
       "                                                        Last Updated  \n",
       "App                                                                   \n",
       "Photo Editor & Candy Camera & Grid & ScrapBook       January 7, 2018  \n",
       "Coloring book moana                                 January 15, 2018  \n",
       "U Launcher Lite – FREE Live Cool Themes, Hide Apps    August 1, 2018  \n",
       "Sketch - Draw & Paint                                   June 8, 2018  \n",
       "Pixel Draw - Number Art Coloring Book                  June 20, 2018  "
      ]
     },
     "execution_count": 12,
     "metadata": {},
     "output_type": "execute_result"
    }
   ],
   "source": [
    "app_info.head()"
   ]
  },
  {
   "cell_type": "code",
   "execution_count": 13,
   "id": "b36ad661",
   "metadata": {},
   "outputs": [
    {
     "data": {
      "text/plain": [
       "array(['10,000+', '500,000+', '5,000,000+', '50,000,000+', '100,000+',\n",
       "       '50,000+', '1,000,000+', '10,000,000+', '5,000+', '100,000,000+',\n",
       "       '1,000,000,000+', '1,000+', '500,000,000+', '50+', '100+', '500+',\n",
       "       '10+', '1+', '5+', '0+', '0'], dtype=object)"
      ]
     },
     "execution_count": 13,
     "metadata": {},
     "output_type": "execute_result"
    }
   ],
   "source": [
    "app_info['Installs'].unique()"
   ]
  },
  {
   "cell_type": "code",
   "execution_count": 14,
   "id": "2e1aa938",
   "metadata": {},
   "outputs": [],
   "source": [
    "def size_converter(x):\n",
    "    if 'M' in x:\n",
    "        return(float(x[:-1])*1000000)\n",
    "    elif 'k' in x:\n",
    "        return(float(x[:-1])*1000)\n",
    "    else:\n",
    "        return np.nan\n",
    "\n",
    "def price_converter(x):\n",
    "    if x != '0':\n",
    "        return (float(x[1:]))\n",
    "    else:\n",
    "        return(0)\n",
    "def install_converter(x):\n",
    "    return float(x.replace('+','').replace(',',''))"
   ]
  },
  {
   "cell_type": "code",
   "execution_count": 15,
   "id": "626e6f82",
   "metadata": {},
   "outputs": [],
   "source": [
    "app_info['Size']= app_info['Size'].apply(size_converter)\n",
    "app_info['Price'] = app_info['Price'].apply(price_converter)\n",
    "app_info['Installs'] = app_info['Installs'].apply(install_converter)"
   ]
  },
  {
   "cell_type": "code",
   "execution_count": 16,
   "id": "d6273a10",
   "metadata": {},
   "outputs": [
    {
     "data": {
      "text/html": [
       "<div>\n",
       "<style scoped>\n",
       "    .dataframe tbody tr th:only-of-type {\n",
       "        vertical-align: middle;\n",
       "    }\n",
       "\n",
       "    .dataframe tbody tr th {\n",
       "        vertical-align: top;\n",
       "    }\n",
       "\n",
       "    .dataframe thead th {\n",
       "        text-align: right;\n",
       "    }\n",
       "</style>\n",
       "<table border=\"1\" class=\"dataframe\">\n",
       "  <thead>\n",
       "    <tr style=\"text-align: right;\">\n",
       "      <th></th>\n",
       "      <th>Category</th>\n",
       "      <th>Rating</th>\n",
       "      <th>Reviews</th>\n",
       "      <th>Size</th>\n",
       "      <th>Installs</th>\n",
       "      <th>Price</th>\n",
       "      <th>Content Rating</th>\n",
       "      <th>Genres</th>\n",
       "      <th>Last Updated</th>\n",
       "    </tr>\n",
       "    <tr>\n",
       "      <th>App</th>\n",
       "      <th></th>\n",
       "      <th></th>\n",
       "      <th></th>\n",
       "      <th></th>\n",
       "      <th></th>\n",
       "      <th></th>\n",
       "      <th></th>\n",
       "      <th></th>\n",
       "      <th></th>\n",
       "    </tr>\n",
       "  </thead>\n",
       "  <tbody>\n",
       "    <tr>\n",
       "      <th>Photo Editor &amp; Candy Camera &amp; Grid &amp; ScrapBook</th>\n",
       "      <td>ART_AND_DESIGN</td>\n",
       "      <td>4.1</td>\n",
       "      <td>159</td>\n",
       "      <td>19000000.0</td>\n",
       "      <td>10000.0</td>\n",
       "      <td>0.0</td>\n",
       "      <td>Everyone</td>\n",
       "      <td>Art &amp; Design</td>\n",
       "      <td>January 7, 2018</td>\n",
       "    </tr>\n",
       "    <tr>\n",
       "      <th>Coloring book moana</th>\n",
       "      <td>ART_AND_DESIGN</td>\n",
       "      <td>3.9</td>\n",
       "      <td>967</td>\n",
       "      <td>14000000.0</td>\n",
       "      <td>500000.0</td>\n",
       "      <td>0.0</td>\n",
       "      <td>Everyone</td>\n",
       "      <td>Art &amp; Design;Pretend Play</td>\n",
       "      <td>January 15, 2018</td>\n",
       "    </tr>\n",
       "    <tr>\n",
       "      <th>U Launcher Lite – FREE Live Cool Themes, Hide Apps</th>\n",
       "      <td>ART_AND_DESIGN</td>\n",
       "      <td>4.7</td>\n",
       "      <td>87510</td>\n",
       "      <td>8700000.0</td>\n",
       "      <td>5000000.0</td>\n",
       "      <td>0.0</td>\n",
       "      <td>Everyone</td>\n",
       "      <td>Art &amp; Design</td>\n",
       "      <td>August 1, 2018</td>\n",
       "    </tr>\n",
       "    <tr>\n",
       "      <th>Sketch - Draw &amp; Paint</th>\n",
       "      <td>ART_AND_DESIGN</td>\n",
       "      <td>4.5</td>\n",
       "      <td>215644</td>\n",
       "      <td>25000000.0</td>\n",
       "      <td>50000000.0</td>\n",
       "      <td>0.0</td>\n",
       "      <td>Teen</td>\n",
       "      <td>Art &amp; Design</td>\n",
       "      <td>June 8, 2018</td>\n",
       "    </tr>\n",
       "    <tr>\n",
       "      <th>Pixel Draw - Number Art Coloring Book</th>\n",
       "      <td>ART_AND_DESIGN</td>\n",
       "      <td>4.3</td>\n",
       "      <td>967</td>\n",
       "      <td>2800000.0</td>\n",
       "      <td>100000.0</td>\n",
       "      <td>0.0</td>\n",
       "      <td>Everyone</td>\n",
       "      <td>Art &amp; Design;Creativity</td>\n",
       "      <td>June 20, 2018</td>\n",
       "    </tr>\n",
       "    <tr>\n",
       "      <th>...</th>\n",
       "      <td>...</td>\n",
       "      <td>...</td>\n",
       "      <td>...</td>\n",
       "      <td>...</td>\n",
       "      <td>...</td>\n",
       "      <td>...</td>\n",
       "      <td>...</td>\n",
       "      <td>...</td>\n",
       "      <td>...</td>\n",
       "    </tr>\n",
       "    <tr>\n",
       "      <th>Sya9a Maroc - FR</th>\n",
       "      <td>FAMILY</td>\n",
       "      <td>4.5</td>\n",
       "      <td>38</td>\n",
       "      <td>53000000.0</td>\n",
       "      <td>5000.0</td>\n",
       "      <td>0.0</td>\n",
       "      <td>Everyone</td>\n",
       "      <td>Education</td>\n",
       "      <td>July 25, 2017</td>\n",
       "    </tr>\n",
       "    <tr>\n",
       "      <th>Fr. Mike Schmitz Audio Teachings</th>\n",
       "      <td>FAMILY</td>\n",
       "      <td>5.0</td>\n",
       "      <td>4</td>\n",
       "      <td>3600000.0</td>\n",
       "      <td>100.0</td>\n",
       "      <td>0.0</td>\n",
       "      <td>Everyone</td>\n",
       "      <td>Education</td>\n",
       "      <td>July 6, 2018</td>\n",
       "    </tr>\n",
       "    <tr>\n",
       "      <th>Parkinson Exercices FR</th>\n",
       "      <td>MEDICAL</td>\n",
       "      <td>NaN</td>\n",
       "      <td>3</td>\n",
       "      <td>9500000.0</td>\n",
       "      <td>1000.0</td>\n",
       "      <td>0.0</td>\n",
       "      <td>Everyone</td>\n",
       "      <td>Medical</td>\n",
       "      <td>January 20, 2017</td>\n",
       "    </tr>\n",
       "    <tr>\n",
       "      <th>The SCP Foundation DB fr nn5n</th>\n",
       "      <td>BOOKS_AND_REFERENCE</td>\n",
       "      <td>4.5</td>\n",
       "      <td>114</td>\n",
       "      <td>NaN</td>\n",
       "      <td>1000.0</td>\n",
       "      <td>0.0</td>\n",
       "      <td>Mature 17+</td>\n",
       "      <td>Books &amp; Reference</td>\n",
       "      <td>January 19, 2015</td>\n",
       "    </tr>\n",
       "    <tr>\n",
       "      <th>iHoroscope - 2018 Daily Horoscope &amp; Astrology</th>\n",
       "      <td>LIFESTYLE</td>\n",
       "      <td>4.5</td>\n",
       "      <td>398307</td>\n",
       "      <td>19000000.0</td>\n",
       "      <td>10000000.0</td>\n",
       "      <td>0.0</td>\n",
       "      <td>Everyone</td>\n",
       "      <td>Lifestyle</td>\n",
       "      <td>July 25, 2018</td>\n",
       "    </tr>\n",
       "  </tbody>\n",
       "</table>\n",
       "<p>10840 rows × 9 columns</p>\n",
       "</div>"
      ],
      "text/plain": [
       "                                                               Category  \\\n",
       "App                                                                       \n",
       "Photo Editor & Candy Camera & Grid & ScrapBook           ART_AND_DESIGN   \n",
       "Coloring book moana                                      ART_AND_DESIGN   \n",
       "U Launcher Lite – FREE Live Cool Themes, Hide Apps       ART_AND_DESIGN   \n",
       "Sketch - Draw & Paint                                    ART_AND_DESIGN   \n",
       "Pixel Draw - Number Art Coloring Book                    ART_AND_DESIGN   \n",
       "...                                                                 ...   \n",
       "Sya9a Maroc - FR                                                 FAMILY   \n",
       "Fr. Mike Schmitz Audio Teachings                                 FAMILY   \n",
       "Parkinson Exercices FR                                          MEDICAL   \n",
       "The SCP Foundation DB fr nn5n                       BOOKS_AND_REFERENCE   \n",
       "iHoroscope - 2018 Daily Horoscope & Astrology                 LIFESTYLE   \n",
       "\n",
       "                                                    Rating Reviews  \\\n",
       "App                                                                  \n",
       "Photo Editor & Candy Camera & Grid & ScrapBook         4.1     159   \n",
       "Coloring book moana                                    3.9     967   \n",
       "U Launcher Lite – FREE Live Cool Themes, Hide Apps     4.7   87510   \n",
       "Sketch - Draw & Paint                                  4.5  215644   \n",
       "Pixel Draw - Number Art Coloring Book                  4.3     967   \n",
       "...                                                    ...     ...   \n",
       "Sya9a Maroc - FR                                       4.5      38   \n",
       "Fr. Mike Schmitz Audio Teachings                       5.0       4   \n",
       "Parkinson Exercices FR                                 NaN       3   \n",
       "The SCP Foundation DB fr nn5n                          4.5     114   \n",
       "iHoroscope - 2018 Daily Horoscope & Astrology          4.5  398307   \n",
       "\n",
       "                                                          Size    Installs  \\\n",
       "App                                                                          \n",
       "Photo Editor & Candy Camera & Grid & ScrapBook      19000000.0     10000.0   \n",
       "Coloring book moana                                 14000000.0    500000.0   \n",
       "U Launcher Lite – FREE Live Cool Themes, Hide Apps   8700000.0   5000000.0   \n",
       "Sketch - Draw & Paint                               25000000.0  50000000.0   \n",
       "Pixel Draw - Number Art Coloring Book                2800000.0    100000.0   \n",
       "...                                                        ...         ...   \n",
       "Sya9a Maroc - FR                                    53000000.0      5000.0   \n",
       "Fr. Mike Schmitz Audio Teachings                     3600000.0       100.0   \n",
       "Parkinson Exercices FR                               9500000.0      1000.0   \n",
       "The SCP Foundation DB fr nn5n                              NaN      1000.0   \n",
       "iHoroscope - 2018 Daily Horoscope & Astrology       19000000.0  10000000.0   \n",
       "\n",
       "                                                    Price Content Rating  \\\n",
       "App                                                                        \n",
       "Photo Editor & Candy Camera & Grid & ScrapBook        0.0       Everyone   \n",
       "Coloring book moana                                   0.0       Everyone   \n",
       "U Launcher Lite – FREE Live Cool Themes, Hide Apps    0.0       Everyone   \n",
       "Sketch - Draw & Paint                                 0.0           Teen   \n",
       "Pixel Draw - Number Art Coloring Book                 0.0       Everyone   \n",
       "...                                                   ...            ...   \n",
       "Sya9a Maroc - FR                                      0.0       Everyone   \n",
       "Fr. Mike Schmitz Audio Teachings                      0.0       Everyone   \n",
       "Parkinson Exercices FR                                0.0       Everyone   \n",
       "The SCP Foundation DB fr nn5n                         0.0     Mature 17+   \n",
       "iHoroscope - 2018 Daily Horoscope & Astrology         0.0       Everyone   \n",
       "\n",
       "                                                                       Genres  \\\n",
       "App                                                                             \n",
       "Photo Editor & Candy Camera & Grid & ScrapBook                   Art & Design   \n",
       "Coloring book moana                                 Art & Design;Pretend Play   \n",
       "U Launcher Lite – FREE Live Cool Themes, Hide Apps               Art & Design   \n",
       "Sketch - Draw & Paint                                            Art & Design   \n",
       "Pixel Draw - Number Art Coloring Book                 Art & Design;Creativity   \n",
       "...                                                                       ...   \n",
       "Sya9a Maroc - FR                                                    Education   \n",
       "Fr. Mike Schmitz Audio Teachings                                    Education   \n",
       "Parkinson Exercices FR                                                Medical   \n",
       "The SCP Foundation DB fr nn5n                               Books & Reference   \n",
       "iHoroscope - 2018 Daily Horoscope & Astrology                       Lifestyle   \n",
       "\n",
       "                                                        Last Updated  \n",
       "App                                                                   \n",
       "Photo Editor & Candy Camera & Grid & ScrapBook       January 7, 2018  \n",
       "Coloring book moana                                 January 15, 2018  \n",
       "U Launcher Lite – FREE Live Cool Themes, Hide Apps    August 1, 2018  \n",
       "Sketch - Draw & Paint                                   June 8, 2018  \n",
       "Pixel Draw - Number Art Coloring Book                  June 20, 2018  \n",
       "...                                                              ...  \n",
       "Sya9a Maroc - FR                                       July 25, 2017  \n",
       "Fr. Mike Schmitz Audio Teachings                        July 6, 2018  \n",
       "Parkinson Exercices FR                              January 20, 2017  \n",
       "The SCP Foundation DB fr nn5n                       January 19, 2015  \n",
       "iHoroscope - 2018 Daily Horoscope & Astrology          July 25, 2018  \n",
       "\n",
       "[10840 rows x 9 columns]"
      ]
     },
     "execution_count": 16,
     "metadata": {},
     "output_type": "execute_result"
    }
   ],
   "source": [
    "app_info"
   ]
  },
  {
   "cell_type": "code",
   "execution_count": null,
   "id": "d75df657",
   "metadata": {},
   "outputs": [],
   "source": [
    "# 전처리된 파일 저장\n",
    "# app_info.to_csv(path_info[:-4]+'_preprocessed.csv')\n",
    "# app_review.to_csv(path_info[:-4]+'_preprocessed.csv')"
   ]
  },
  {
   "cell_type": "code",
   "execution_count": 17,
   "id": "0e74f151",
   "metadata": {},
   "outputs": [
    {
     "name": "stdout",
     "output_type": "stream",
     "text": [
      "<class 'pandas.core.frame.DataFrame'>\n",
      "Index: 10840 entries, Photo Editor & Candy Camera & Grid & ScrapBook to iHoroscope - 2018 Daily Horoscope & Astrology\n",
      "Data columns (total 9 columns):\n",
      " #   Column          Non-Null Count  Dtype  \n",
      "---  ------          --------------  -----  \n",
      " 0   Category        10840 non-null  object \n",
      " 1   Rating          9366 non-null   float64\n",
      " 2   Reviews         10840 non-null  object \n",
      " 3   Size            9145 non-null   float64\n",
      " 4   Installs        10840 non-null  float64\n",
      " 5   Price           10840 non-null  float64\n",
      " 6   Content Rating  10840 non-null  object \n",
      " 7   Genres          10840 non-null  object \n",
      " 8   Last Updated    10840 non-null  object \n",
      "dtypes: float64(4), object(5)\n",
      "memory usage: 846.9+ KB\n"
     ]
    }
   ],
   "source": [
    "app_info.info()"
   ]
  },
  {
   "cell_type": "markdown",
   "id": "8f50a05e",
   "metadata": {},
   "source": [
    "### 1-3. fill size null"
   ]
  },
  {
   "cell_type": "code",
   "execution_count": 206,
   "id": "ab7ad3f9",
   "metadata": {},
   "outputs": [],
   "source": [
    "app_info['Size'].replace('Varies with device', np.nan, inplace=True)"
   ]
  },
  {
   "cell_type": "code",
   "execution_count": 211,
   "id": "ebc920d0",
   "metadata": {},
   "outputs": [],
   "source": [
    "app_info['Size']=app_info['Size'].astype(str)\n",
    "\n",
    "def k_to_m(x):\n",
    "    if 'k' in x:\n",
    "        return float(x.replace('k', ''))/1000\n",
    "    else: return str(x)\n",
    "\n",
    "app_info['Size']=app_info['Size'].apply(k_to_m)\n",
    "\n",
    "app_info['Size']=app_info['Size'].apply(lambda x: x.replace('M',''))\n",
    "\n",
    "app_info['Size']=app_info['Size'].apply(lambda x: float(x))"
   ]
  },
  {
   "cell_type": "code",
   "execution_count": 214,
   "id": "fe4d386d",
   "metadata": {},
   "outputs": [],
   "source": [
    "app_info['Size'].fillna(app_info.groupby('Category')['Size'].transform('mean'),inplace = True)\n",
    "app_info['Size']=np.round(app_info['Size'],decimals=1)"
   ]
  },
  {
   "cell_type": "code",
   "execution_count": null,
   "id": "1c014931",
   "metadata": {},
   "outputs": [],
   "source": []
  },
  {
   "cell_type": "code",
   "execution_count": null,
   "id": "447e53d1",
   "metadata": {},
   "outputs": [],
   "source": []
  },
  {
   "cell_type": "markdown",
   "id": "31f1723f",
   "metadata": {},
   "source": [
    "# 2. 기초 분석"
   ]
  },
  {
   "cell_type": "code",
   "execution_count": 52,
   "id": "4bad4fb6",
   "metadata": {},
   "outputs": [],
   "source": [
    "# 저장한 전처리 파일 다시 load\n",
    "path_info_preprocessed = '../archive_googleplaystore/googleplaystore_preprocessed.csv'\n",
    "path_review_preprocessed = '../archive_googleplaystore/googleplaystore_user_reviews_preprocessed.csv'\n",
    "app_info = pd.read_csv(path_info_preprocessed)\n",
    "app_review = pd.read_csv(path_review_preprocessed)"
   ]
  },
  {
   "cell_type": "code",
   "execution_count": 53,
   "id": "25cbb6d5",
   "metadata": {},
   "outputs": [],
   "source": [
    "# top 10 Reviews 어플\n",
    "data_r_rank = app_info.sort_values(by = 'Reviews', ascending = False)\n",
    "data_r_rank = data_r_rank.head(30)"
   ]
  },
  {
   "cell_type": "code",
   "execution_count": 54,
   "id": "812c3266",
   "metadata": {},
   "outputs": [
    {
     "data": {
      "image/png": "[encoded data removed]",
      "text/plain": [
       "<Figure size 1080x360 with 1 Axes>"
      ]
     },
     "metadata": {
      "needs_background": "light"
     },
     "output_type": "display_data"
    }
   ],
   "source": [
    "plt.figure(figsize = (15, 5))\n",
    "sns.barplot(x='App', y='Reviews', data = data_r_rank)\n",
    "plt.xticks(rotation = 90)\n",
    "plt.ylabel('Reviews')\n",
    "plt.title('Top 10 Apps that Have the Most Number of Reviews')\n",
    "plt.show()"
   ]
  },
  {
   "cell_type": "code",
   "execution_count": 55,
   "id": "fa90d5d6",
   "metadata": {},
   "outputs": [
    {
     "data": {
      "image/png": "[encoded data removed]",
      "text/plain": [
       "<Figure size 432x288 with 1 Axes>"
      ]
     },
     "metadata": {},
     "output_type": "display_data"
    }
   ],
   "source": [
    "# 유료 앱 비중\n",
    "price_app = ( app_info.Price.value_counts() / app_info.Price.value_counts().sum() ) * 100\n",
    "price_app.plot.pie(autopct='%1.2f%%')\n",
    "\n",
    "plt.ylabel('')\n",
    "plt.title('Price for Apps', pad = 10)\n",
    "plt.axis('equal')\n",
    "plt.show()"
   ]
  },
  {
   "cell_type": "code",
   "execution_count": 56,
   "id": "77145987",
   "metadata": {},
   "outputs": [
    {
     "name": "stdout",
     "output_type": "stream",
     "text": [
      "주목할 점:\n",
      " 1.Installs 와 Reviews의 상관관계 ↑\n",
      " 2.Installs 와 Rating의 상관관계는 의외로 매우 낮다. -> 평점이 좋다고 다운로드가 높지 않다!\n"
     ]
    },
    {
     "data": {
      "image/png": "[encoded data removed]",
      "text/plain": [
       "<Figure size 576x576 with 2 Axes>"
      ]
     },
     "metadata": {
      "needs_background": "light"
     },
     "output_type": "display_data"
    }
   ],
   "source": [
    "# 상관관계\n",
    "plt.figure(figsize=(8, 8))\n",
    "sns.heatmap(data = app_info.corr(), annot=True, fmt = '.4f', linewidths=.5)\n",
    "\n",
    "print('주목할 점:\\n 1.Installs 와 Reviews의 상관관계 ↑\\n 2.Installs 와 Rating의 상관관계는 의외로 매우 낮다. -> 평점이 좋다고 다운로드가 높지 않다!')"
   ]
  },
  {
   "cell_type": "code",
   "execution_count": 75,
   "id": "1f3ce9d7",
   "metadata": {},
   "outputs": [
    {
     "name": "stdout",
     "output_type": "stream",
     "text": [
      "상위, 하위의 평점이 오히려 반대가 된걸 보면, 평점을 높인다고 다운로드가 올라갈 것으로 보이지는 않음!\n"
     ]
    },
    {
     "name": "stderr",
     "output_type": "stream",
     "text": [
      "C:\\Users\\82107\\AppData\\Local\\Temp/ipykernel_20716/458229815.py:2: FutureWarning: Dropping of nuisance columns in DataFrame reductions (with 'numeric_only=None') is deprecated; in a future version this will raise TypeError.  Select only valid columns before calling the reduction.\n",
      "  top_total = app_info.sort_values('Installs', ascending = False).head(1000).mean()\n",
      "C:\\Users\\82107\\AppData\\Local\\Temp/ipykernel_20716/458229815.py:3: FutureWarning: Dropping of nuisance columns in DataFrame reductions (with 'numeric_only=None') is deprecated; in a future version this will raise TypeError.  Select only valid columns before calling the reduction.\n",
      "  bot_total = app_info.sort_values('Installs',ascending = False).tail(1000).mean()\n"
     ]
    },
    {
     "data": {
      "text/html": [
       "<div>\n",
       "<style scoped>\n",
       "    .dataframe tbody tr th:only-of-type {\n",
       "        vertical-align: middle;\n",
       "    }\n",
       "\n",
       "    .dataframe tbody tr th {\n",
       "        vertical-align: top;\n",
       "    }\n",
       "\n",
       "    .dataframe thead th {\n",
       "        text-align: right;\n",
       "    }\n",
       "</style>\n",
       "<table border=\"1\" class=\"dataframe\">\n",
       "  <thead>\n",
       "    <tr style=\"text-align: right;\">\n",
       "      <th></th>\n",
       "      <th>상위 10 %</th>\n",
       "      <th>하위 10 %</th>\n",
       "    </tr>\n",
       "  </thead>\n",
       "  <tbody>\n",
       "    <tr>\n",
       "      <th>Rating</th>\n",
       "      <td>4.368200e+00</td>\n",
       "      <td>4.471774e+00</td>\n",
       "    </tr>\n",
       "    <tr>\n",
       "      <th>Size</th>\n",
       "      <td>4.272308e+07</td>\n",
       "      <td>1.423177e+07</td>\n",
       "    </tr>\n",
       "    <tr>\n",
       "      <th>Installs</th>\n",
       "      <td>1.510700e+08</td>\n",
       "      <td>3.908700e+01</td>\n",
       "    </tr>\n",
       "    <tr>\n",
       "      <th>Price</th>\n",
       "      <td>0.000000e+00</td>\n",
       "      <td>2.148680e+00</td>\n",
       "    </tr>\n",
       "  </tbody>\n",
       "</table>\n",
       "</div>"
      ],
      "text/plain": [
       "               상위 10 %       하위 10 %\n",
       "Rating    4.368200e+00  4.471774e+00\n",
       "Size      4.272308e+07  1.423177e+07\n",
       "Installs  1.510700e+08  3.908700e+01\n",
       "Price     0.000000e+00  2.148680e+00"
      ]
     },
     "metadata": {},
     "output_type": "display_data"
    }
   ],
   "source": [
    "# Installs 상위권과 하위권 비교\n",
    "top_total = app_info.sort_values('Installs', ascending = False).head(1000).mean()\n",
    "bot_total = app_info.sort_values('Installs',ascending = False).tail(1000).mean()\n",
    "\n",
    "a = pd.DataFrame(top_t).rename(columns={0:'상위 10 %'})\n",
    "b = pd.DataFrame(bot_t).rename(columns={0:'하위 10 %'})\n",
    "c =pd.concat([a,b], axis = 1).drop('Reviews', axis =0 )\n",
    "print('상위, 하위의 평점이 오히려 반대가 된걸 보면, 평점을 높인다고 다운로드가 올라갈 것으로 보이지는 않음!')\n",
    "display(c)\n",
    "\n",
    "# c.loc['Rating'] = c.loc['Rating'].apply(lambda x : round(x, 2) )\n",
    "# c.loc['Size'] = c.loc['Size'].apply(lambda x: ((x // 1e+6) * 1e+6))\n",
    "# c.loc['Installs']['상위 10 %'] = (c.loc['Installs']['상위 10 %']) // 1e+6 * 1e+6\n",
    "# c.loc['Installs']['하위 10 %'] = (c.loc['Installs']['하위 10 %']) // 10 * 10\n",
    "# c.loc['Price']= c.loc['Price'].apply(lambda x : x // 0.1 * 0.1)"
   ]
  },
  {
   "cell_type": "code",
   "execution_count": 57,
   "id": "96ada48a",
   "metadata": {},
   "outputs": [
    {
     "name": "stderr",
     "output_type": "stream",
     "text": [
      "C:\\Users\\82107\\AppData\\Local\\Temp/ipykernel_20716/4214194599.py:3: FutureWarning: Indexing with multiple keys (implicitly converted to a tuple of keys) will be deprecated, use a list instead.\n",
      "  category_mean = app_info.groupby(['Category'])['Installs','Reviews'].mean()\n"
     ]
    },
    {
     "name": "stdout",
     "output_type": "stream",
     "text": [
      "카테고리별 성공지표(installs)가 상이하므로 카테고리별로 분석해보자!\n"
     ]
    },
    {
     "data": {
      "image/png": "[encoded data removed]",
      "text/plain": [
       "<Figure size 1080x504 with 2 Axes>"
      ]
     },
     "metadata": {
      "needs_background": "light"
     },
     "output_type": "display_data"
    }
   ],
   "source": [
    "# 카테고리별 어플의 평균 Installs, Reviews\n",
    "\n",
    "category_mean = app_info.groupby(['Category'])['Installs','Reviews'].mean()\n",
    "\n",
    "fig = plt.figure(figsize =(15,7))\n",
    "ax = fig.add_subplot(111) # Create matplotlib axes\n",
    "ax2 = ax.twinx()\n",
    "width =0.3\n",
    "category_mean['Installs'].plot(kind='bar',color='chocolate',ax=ax,width=width, position=0,)\n",
    "category_mean['Reviews'].plot(kind='bar',color='darkorange', ax=ax2,width = width,position=1)\n",
    "ax.set_ylabel('Installs')\n",
    "ax2.set_ylabel('Reviews')\n",
    "\n",
    "print('카테고리별 성공지표(installs)가 상이하므로 카테고리별로 분석해보자!')"
   ]
  },
  {
   "cell_type": "markdown",
   "id": "3d28d27f",
   "metadata": {},
   "source": [
    "### ※ 그렇다면 여기서 평균 다운로드가 높은 시장이 성공하기 좋은 시장일까?\n",
    "### --> NO! 극 상위권의 독점시장인 카테고리도 존재"
   ]
  },
  {
   "cell_type": "code",
   "execution_count": 170,
   "id": "772bcace",
   "metadata": {},
   "outputs": [
    {
     "data": {
      "image/png": "[encoded data removed]",
      "text/plain": [
       "<Figure size 1152x504 with 3 Axes>"
      ]
     },
     "metadata": {
      "needs_background": "light"
     },
     "output_type": "display_data"
    },
    {
     "name": "stdout",
     "output_type": "stream",
     "text": [
      "+ 추가적인 조사로 독점적인 카테고리가 있을거라고 판단!--> 이상치 제거하고 다시 비교\n"
     ]
    }
   ],
   "source": [
    "## Communication의 분포 확인!!\n",
    "fig, axs = plt.subplots(1,3)\n",
    "fig.set_figwidth(16)\n",
    "fig.set_figheight(7)\n",
    "axs[0].hist(app_info.Installs, alpha=0.5,color = 'blue', density=True)\n",
    "axs[0].set_title('All')\n",
    "axs[1].hist(app_info[app_info['Category']== 'SOCIAL'].Installs, alpha=0.5,color = 'red', density=True)\n",
    "axs[1].set_title('COMMUNICATION')\n",
    "\n",
    "sns.boxplot(y = app_info[app_info['Category']== 'PHOTOGRAPHY'].Installs,ax=axs[2])\n",
    "axs[2].set_title(\"COMMUNICATION_Boxplot\")\n",
    "\n",
    "\n",
    "plt.show()\n",
    "\n",
    "print('+ 추가적인 조사로 독점적인 카테고리가 있을거라고 판단!--> 이상치 제거하고 다시 비교')"
   ]
  },
  {
   "cell_type": "markdown",
   "id": "487575d6",
   "metadata": {},
   "source": [
    "### 이상치(Outlier) 제거 후 평균 installs"
   ]
  },
  {
   "cell_type": "code",
   "execution_count": 184,
   "id": "3620bd17",
   "metadata": {},
   "outputs": [],
   "source": [
    "def out_remove_installs(category):\n",
    "    install_lst=[]\n",
    "    app_lst=[]\n",
    "    for x in range(0,len(app_info)):\n",
    "        if app_info.Category[x] == category:\n",
    "            app_lst.append(app_info.App[x])\n",
    "            install_lst.append(app_info.Installs[x])\n",
    "    a = np.array(install_lst)\n",
    "    q1,q3= np.percentile(a,[25,75])\n",
    "    IQR = q3 - q1\n",
    "    lower = q1 - (IQR*1.5)\n",
    "    upper = q3 + (IQR*1.5) \n",
    "    \n",
    "    return (a[np.where((lower<a) & (a<upper))])"
   ]
  },
  {
   "cell_type": "code",
   "execution_count": 186,
   "id": "5463aed3",
   "metadata": {
    "collapsed": true
   },
   "outputs": [
    {
     "data": {
      "text/plain": [
       "Category\n",
       "ART_AND_DESIGN         1.912894e+06\n",
       "AUTO_AND_VEHICLES      6.250613e+05\n",
       "BEAUTY                 5.131519e+05\n",
       "BOOKS_AND_REFERENCE    8.318050e+06\n",
       "BUSINESS               2.178076e+06\n",
       "COMICS                 9.347692e+05\n",
       "COMMUNICATION          8.435989e+07\n",
       "DATING                 1.129533e+06\n",
       "EDUCATION              5.586231e+06\n",
       "ENTERTAINMENT          1.925611e+07\n",
       "EVENTS                 2.495806e+05\n",
       "FAMILY                 5.201959e+06\n",
       "FINANCE                2.395215e+06\n",
       "FOOD_AND_DRINK         2.156683e+06\n",
       "GAME                   3.066960e+07\n",
       "HEALTH_AND_FITNESS     4.642441e+06\n",
       "HOUSE_AND_HOME         1.917187e+06\n",
       "LIBRARIES_AND_DEMO     7.411284e+05\n",
       "LIFESTYLE              1.407444e+06\n",
       "MAPS_AND_NAVIGATION    5.286729e+06\n",
       "MEDICAL                1.150269e+05\n",
       "NEWS_AND_MAGAZINES     2.648876e+07\n",
       "PARENTING              5.253518e+05\n",
       "PERSONALIZATION        5.932385e+06\n",
       "PHOTOGRAPHY            3.011417e+07\n",
       "PRODUCTIVITY           3.343418e+07\n",
       "SHOPPING               1.249173e+07\n",
       "SOCIAL                 4.769447e+07\n",
       "SPORTS                 4.560350e+06\n",
       "TOOLS                  1.358573e+07\n",
       "TRAVEL_AND_LOCAL       2.662359e+07\n",
       "VIDEO_PLAYERS          3.555430e+07\n",
       "WEATHER                5.196348e+06\n",
       "Name: Installs, dtype: float64"
      ]
     },
     "metadata": {},
     "output_type": "display_data"
    },
    {
     "data": {
      "text/plain": [
       "ART_AND_DESIGN         1.667518e+05\n",
       "AUTO_AND_VEHICLES      2.266276e+05\n",
       "BEAUTY                 2.391578e+05\n",
       "BOOKS_AND_REFERENCE    1.656293e+05\n",
       "BUSINESS               1.400246e+04\n",
       "COMICS                 2.978917e+05\n",
       "COMMUNICATION          2.474425e+06\n",
       "DATING                 2.370712e+05\n",
       "EDUCATION              3.101658e+06\n",
       "ENTERTAINMENT          4.655338e+06\n",
       "EVENTS                 2.584493e+04\n",
       "FINANCE                2.410338e+05\n",
       "FOOD_AND_DRINK         4.010181e+05\n",
       "HEALTH_AND_FITNESS     2.194828e+06\n",
       "HOUSE_AND_HOME         4.682286e+05\n",
       "LIBRARIES_AND_DEMO     3.070631e+04\n",
       "LIFESTYLE              1.847892e+05\n",
       "GAME                   3.306782e+06\n",
       "FAMILY                 2.276087e+05\n",
       "MEDICAL                1.838255e+04\n",
       "SOCIAL                 2.679472e+06\n",
       "SHOPPING               3.468908e+06\n",
       "PHOTOGRAPHY            3.527247e+06\n",
       "SPORTS                 2.300472e+06\n",
       "TRAVEL_AND_LOCAL       2.400368e+06\n",
       "TOOLS                  1.950716e+05\n",
       "PERSONALIZATION        1.932741e+05\n",
       "PRODUCTIVITY           1.888523e+06\n",
       "PARENTING              2.848467e+05\n",
       "WEATHER                2.287020e+06\n",
       "VIDEO_PLAYERS          2.480018e+06\n",
       "NEWS_AND_MAGAZINES     2.725234e+05\n",
       "MAPS_AND_NAVIGATION    2.842902e+05\n",
       "Name: removed, dtype: float64"
      ]
     },
     "metadata": {},
     "output_type": "display_data"
    }
   ],
   "source": [
    "s3 = app_info.groupby('Category').Installs.mean()\n",
    "s4_dict = {}\n",
    "for category in app_info.Category.unique():\n",
    "    s4_dict[category] = out_remove_installs(category).mean()\n",
    "s4= pd.Series(s4_dict, name='removed')"
   ]
  },
  {
   "cell_type": "code",
   "execution_count": 187,
   "id": "aa7539d3",
   "metadata": {},
   "outputs": [
    {
     "data": {
      "text/html": [
       "<div>\n",
       "<style scoped>\n",
       "    .dataframe tbody tr th:only-of-type {\n",
       "        vertical-align: middle;\n",
       "    }\n",
       "\n",
       "    .dataframe tbody tr th {\n",
       "        vertical-align: top;\n",
       "    }\n",
       "\n",
       "    .dataframe thead th {\n",
       "        text-align: right;\n",
       "    }\n",
       "</style>\n",
       "<table border=\"1\" class=\"dataframe\">\n",
       "  <thead>\n",
       "    <tr style=\"text-align: right;\">\n",
       "      <th></th>\n",
       "      <th>Installs</th>\n",
       "      <th>removed</th>\n",
       "      <th>Before_rank</th>\n",
       "      <th>After_rank</th>\n",
       "    </tr>\n",
       "  </thead>\n",
       "  <tbody>\n",
       "    <tr>\n",
       "      <th>ART_AND_DESIGN</th>\n",
       "      <td>1.912894e+06</td>\n",
       "      <td>1.667518e+05</td>\n",
       "      <td>24.0</td>\n",
       "      <td>28.0</td>\n",
       "    </tr>\n",
       "    <tr>\n",
       "      <th>AUTO_AND_VEHICLES</th>\n",
       "      <td>6.250613e+05</td>\n",
       "      <td>2.266276e+05</td>\n",
       "      <td>29.0</td>\n",
       "      <td>24.0</td>\n",
       "    </tr>\n",
       "    <tr>\n",
       "      <th>BEAUTY</th>\n",
       "      <td>5.131519e+05</td>\n",
       "      <td>2.391578e+05</td>\n",
       "      <td>31.0</td>\n",
       "      <td>21.0</td>\n",
       "    </tr>\n",
       "    <tr>\n",
       "      <th>BOOKS_AND_REFERENCE</th>\n",
       "      <td>8.318050e+06</td>\n",
       "      <td>1.656293e+05</td>\n",
       "      <td>12.0</td>\n",
       "      <td>29.0</td>\n",
       "    </tr>\n",
       "    <tr>\n",
       "      <th>BUSINESS</th>\n",
       "      <td>2.178076e+06</td>\n",
       "      <td>1.400246e+04</td>\n",
       "      <td>21.0</td>\n",
       "      <td>33.0</td>\n",
       "    </tr>\n",
       "    <tr>\n",
       "      <th>COMICS</th>\n",
       "      <td>9.347692e+05</td>\n",
       "      <td>2.978917e+05</td>\n",
       "      <td>27.0</td>\n",
       "      <td>16.0</td>\n",
       "    </tr>\n",
       "    <tr>\n",
       "      <th>COMMUNICATION</th>\n",
       "      <td>8.435989e+07</td>\n",
       "      <td>2.474425e+06</td>\n",
       "      <td>1.0</td>\n",
       "      <td>8.0</td>\n",
       "    </tr>\n",
       "    <tr>\n",
       "      <th>DATING</th>\n",
       "      <td>1.129533e+06</td>\n",
       "      <td>2.370712e+05</td>\n",
       "      <td>26.0</td>\n",
       "      <td>22.0</td>\n",
       "    </tr>\n",
       "    <tr>\n",
       "      <th>EDUCATION</th>\n",
       "      <td>5.586231e+06</td>\n",
       "      <td>3.101658e+06</td>\n",
       "      <td>14.0</td>\n",
       "      <td>5.0</td>\n",
       "    </tr>\n",
       "    <tr>\n",
       "      <th>ENTERTAINMENT</th>\n",
       "      <td>1.925611e+07</td>\n",
       "      <td>4.655338e+06</td>\n",
       "      <td>9.0</td>\n",
       "      <td>1.0</td>\n",
       "    </tr>\n",
       "    <tr>\n",
       "      <th>EVENTS</th>\n",
       "      <td>2.495806e+05</td>\n",
       "      <td>2.584493e+04</td>\n",
       "      <td>32.0</td>\n",
       "      <td>31.0</td>\n",
       "    </tr>\n",
       "    <tr>\n",
       "      <th>FAMILY</th>\n",
       "      <td>5.201959e+06</td>\n",
       "      <td>2.276087e+05</td>\n",
       "      <td>16.0</td>\n",
       "      <td>23.0</td>\n",
       "    </tr>\n",
       "    <tr>\n",
       "      <th>FINANCE</th>\n",
       "      <td>2.395215e+06</td>\n",
       "      <td>2.410338e+05</td>\n",
       "      <td>20.0</td>\n",
       "      <td>20.0</td>\n",
       "    </tr>\n",
       "    <tr>\n",
       "      <th>FOOD_AND_DRINK</th>\n",
       "      <td>2.156683e+06</td>\n",
       "      <td>4.010181e+05</td>\n",
       "      <td>22.0</td>\n",
       "      <td>15.0</td>\n",
       "    </tr>\n",
       "    <tr>\n",
       "      <th>GAME</th>\n",
       "      <td>3.066960e+07</td>\n",
       "      <td>3.306782e+06</td>\n",
       "      <td>5.0</td>\n",
       "      <td>4.0</td>\n",
       "    </tr>\n",
       "    <tr>\n",
       "      <th>HEALTH_AND_FITNESS</th>\n",
       "      <td>4.642441e+06</td>\n",
       "      <td>2.194828e+06</td>\n",
       "      <td>18.0</td>\n",
       "      <td>12.0</td>\n",
       "    </tr>\n",
       "    <tr>\n",
       "      <th>HOUSE_AND_HOME</th>\n",
       "      <td>1.917187e+06</td>\n",
       "      <td>4.682286e+05</td>\n",
       "      <td>23.0</td>\n",
       "      <td>14.0</td>\n",
       "    </tr>\n",
       "    <tr>\n",
       "      <th>LIBRARIES_AND_DEMO</th>\n",
       "      <td>7.411284e+05</td>\n",
       "      <td>3.070631e+04</td>\n",
       "      <td>28.0</td>\n",
       "      <td>30.0</td>\n",
       "    </tr>\n",
       "    <tr>\n",
       "      <th>LIFESTYLE</th>\n",
       "      <td>1.407444e+06</td>\n",
       "      <td>1.847892e+05</td>\n",
       "      <td>25.0</td>\n",
       "      <td>27.0</td>\n",
       "    </tr>\n",
       "    <tr>\n",
       "      <th>MAPS_AND_NAVIGATION</th>\n",
       "      <td>5.286729e+06</td>\n",
       "      <td>2.842902e+05</td>\n",
       "      <td>15.0</td>\n",
       "      <td>18.0</td>\n",
       "    </tr>\n",
       "    <tr>\n",
       "      <th>MEDICAL</th>\n",
       "      <td>1.150269e+05</td>\n",
       "      <td>1.838255e+04</td>\n",
       "      <td>33.0</td>\n",
       "      <td>32.0</td>\n",
       "    </tr>\n",
       "    <tr>\n",
       "      <th>NEWS_AND_MAGAZINES</th>\n",
       "      <td>2.648876e+07</td>\n",
       "      <td>2.725234e+05</td>\n",
       "      <td>8.0</td>\n",
       "      <td>19.0</td>\n",
       "    </tr>\n",
       "    <tr>\n",
       "      <th>PARENTING</th>\n",
       "      <td>5.253518e+05</td>\n",
       "      <td>2.848467e+05</td>\n",
       "      <td>30.0</td>\n",
       "      <td>17.0</td>\n",
       "    </tr>\n",
       "    <tr>\n",
       "      <th>PERSONALIZATION</th>\n",
       "      <td>5.932385e+06</td>\n",
       "      <td>1.932741e+05</td>\n",
       "      <td>13.0</td>\n",
       "      <td>26.0</td>\n",
       "    </tr>\n",
       "    <tr>\n",
       "      <th>PHOTOGRAPHY</th>\n",
       "      <td>3.011417e+07</td>\n",
       "      <td>3.527247e+06</td>\n",
       "      <td>6.0</td>\n",
       "      <td>2.0</td>\n",
       "    </tr>\n",
       "    <tr>\n",
       "      <th>PRODUCTIVITY</th>\n",
       "      <td>3.343418e+07</td>\n",
       "      <td>1.888523e+06</td>\n",
       "      <td>4.0</td>\n",
       "      <td>13.0</td>\n",
       "    </tr>\n",
       "    <tr>\n",
       "      <th>SHOPPING</th>\n",
       "      <td>1.249173e+07</td>\n",
       "      <td>3.468908e+06</td>\n",
       "      <td>11.0</td>\n",
       "      <td>3.0</td>\n",
       "    </tr>\n",
       "    <tr>\n",
       "      <th>SOCIAL</th>\n",
       "      <td>4.769447e+07</td>\n",
       "      <td>2.679472e+06</td>\n",
       "      <td>2.0</td>\n",
       "      <td>6.0</td>\n",
       "    </tr>\n",
       "    <tr>\n",
       "      <th>SPORTS</th>\n",
       "      <td>4.560350e+06</td>\n",
       "      <td>2.300472e+06</td>\n",
       "      <td>19.0</td>\n",
       "      <td>10.0</td>\n",
       "    </tr>\n",
       "    <tr>\n",
       "      <th>TOOLS</th>\n",
       "      <td>1.358573e+07</td>\n",
       "      <td>1.950716e+05</td>\n",
       "      <td>10.0</td>\n",
       "      <td>25.0</td>\n",
       "    </tr>\n",
       "    <tr>\n",
       "      <th>TRAVEL_AND_LOCAL</th>\n",
       "      <td>2.662359e+07</td>\n",
       "      <td>2.400368e+06</td>\n",
       "      <td>7.0</td>\n",
       "      <td>9.0</td>\n",
       "    </tr>\n",
       "    <tr>\n",
       "      <th>VIDEO_PLAYERS</th>\n",
       "      <td>3.555430e+07</td>\n",
       "      <td>2.480018e+06</td>\n",
       "      <td>3.0</td>\n",
       "      <td>7.0</td>\n",
       "    </tr>\n",
       "    <tr>\n",
       "      <th>WEATHER</th>\n",
       "      <td>5.196348e+06</td>\n",
       "      <td>2.287020e+06</td>\n",
       "      <td>17.0</td>\n",
       "      <td>11.0</td>\n",
       "    </tr>\n",
       "  </tbody>\n",
       "</table>\n",
       "</div>"
      ],
      "text/plain": [
       "                         Installs       removed  Before_rank  After_rank\n",
       "ART_AND_DESIGN       1.912894e+06  1.667518e+05         24.0        28.0\n",
       "AUTO_AND_VEHICLES    6.250613e+05  2.266276e+05         29.0        24.0\n",
       "BEAUTY               5.131519e+05  2.391578e+05         31.0        21.0\n",
       "BOOKS_AND_REFERENCE  8.318050e+06  1.656293e+05         12.0        29.0\n",
       "BUSINESS             2.178076e+06  1.400246e+04         21.0        33.0\n",
       "COMICS               9.347692e+05  2.978917e+05         27.0        16.0\n",
       "COMMUNICATION        8.435989e+07  2.474425e+06          1.0         8.0\n",
       "DATING               1.129533e+06  2.370712e+05         26.0        22.0\n",
       "EDUCATION            5.586231e+06  3.101658e+06         14.0         5.0\n",
       "ENTERTAINMENT        1.925611e+07  4.655338e+06          9.0         1.0\n",
       "EVENTS               2.495806e+05  2.584493e+04         32.0        31.0\n",
       "FAMILY               5.201959e+06  2.276087e+05         16.0        23.0\n",
       "FINANCE              2.395215e+06  2.410338e+05         20.0        20.0\n",
       "FOOD_AND_DRINK       2.156683e+06  4.010181e+05         22.0        15.0\n",
       "GAME                 3.066960e+07  3.306782e+06          5.0         4.0\n",
       "HEALTH_AND_FITNESS   4.642441e+06  2.194828e+06         18.0        12.0\n",
       "HOUSE_AND_HOME       1.917187e+06  4.682286e+05         23.0        14.0\n",
       "LIBRARIES_AND_DEMO   7.411284e+05  3.070631e+04         28.0        30.0\n",
       "LIFESTYLE            1.407444e+06  1.847892e+05         25.0        27.0\n",
       "MAPS_AND_NAVIGATION  5.286729e+06  2.842902e+05         15.0        18.0\n",
       "MEDICAL              1.150269e+05  1.838255e+04         33.0        32.0\n",
       "NEWS_AND_MAGAZINES   2.648876e+07  2.725234e+05          8.0        19.0\n",
       "PARENTING            5.253518e+05  2.848467e+05         30.0        17.0\n",
       "PERSONALIZATION      5.932385e+06  1.932741e+05         13.0        26.0\n",
       "PHOTOGRAPHY          3.011417e+07  3.527247e+06          6.0         2.0\n",
       "PRODUCTIVITY         3.343418e+07  1.888523e+06          4.0        13.0\n",
       "SHOPPING             1.249173e+07  3.468908e+06         11.0         3.0\n",
       "SOCIAL               4.769447e+07  2.679472e+06          2.0         6.0\n",
       "SPORTS               4.560350e+06  2.300472e+06         19.0        10.0\n",
       "TOOLS                1.358573e+07  1.950716e+05         10.0        25.0\n",
       "TRAVEL_AND_LOCAL     2.662359e+07  2.400368e+06          7.0         9.0\n",
       "VIDEO_PLAYERS        3.555430e+07  2.480018e+06          3.0         7.0\n",
       "WEATHER              5.196348e+06  2.287020e+06         17.0        11.0"
      ]
     },
     "execution_count": 187,
     "metadata": {},
     "output_type": "execute_result"
    }
   ],
   "source": [
    "outlier_removed = pd.concat([s3,s4], axis=1)\n",
    "outlier_removed['Before_rank'] = outlier_removed['Installs'].rank(ascending=False)\n",
    "outlier_removed['After_rank'] = outlier_removed['removed'].rank(ascending=False)\n",
    "outlier_removed"
   ]
  },
  {
   "cell_type": "code",
   "execution_count": 188,
   "id": "54422195",
   "metadata": {},
   "outputs": [
    {
     "data": {
      "text/plain": [
       "<AxesSubplot:>"
      ]
     },
     "execution_count": 188,
     "metadata": {},
     "output_type": "execute_result"
    },
    {
     "data": {
      "image/png": "[encoded data removed]",
      "text/plain": [
       "<Figure size 1080x504 with 2 Axes>"
      ]
     },
     "metadata": {
      "needs_background": "light"
     },
     "output_type": "display_data"
    }
   ],
   "source": [
    "#이상치 제거후의 평균 installs \n",
    "fig = plt.figure(figsize =(15,7))\n",
    "ax = fig.add_subplot(111) # Create matplotlib axes\n",
    "ax2 = ax.twinx()\n",
    "width =0.3\n",
    "outlier_removed.sort_values('After_rank')['removed'].plot(kind='bar',color='chocolate',ax=ax,width=width, position=0,)\n"
   ]
  },
  {
   "cell_type": "code",
   "execution_count": 189,
   "id": "3578d8f4",
   "metadata": {},
   "outputs": [
    {
     "data": {
      "image/png": "[encoded data removed]",
      "text/plain": [
       "<Figure size 1080x288 with 2 Axes>"
      ]
     },
     "metadata": {
      "needs_background": "light"
     },
     "output_type": "display_data"
    },
    {
     "name": "stdout",
     "output_type": "stream",
     "text": [
      "독점적인 시장이 줄어듬\n"
     ]
    }
   ],
   "source": [
    "# 이상치 제거 전 후의 비교\n",
    "fig , axs = plt.subplots(1,2)\n",
    "fig.set_figwidth(15)\n",
    "\n",
    "sns.boxplot(data = app_info[(app_info.Category =='COMMUNICATION')|(app_info.Category =='SOCIAL')|(app_info.Category =='VIDEO_PLAYERS')|(app_info.Category =='PHOTOGRAPHY')|(app_info.Category =='GAME')], x = 'Category', y = 'Installs',ax = axs[0])\n",
    "sns.boxplot(data = app_info[(app_info.Category =='ENTERTAINMENT')|(app_info.Category =='PHOTOGRAPHY')|(app_info.Category =='SHOPPING')|(app_info.Category =='GAME')|(app_info.Category =='EDUCATION')], x = 'Category', y = 'Installs',ax = axs[1])\n",
    "# 범주형 다운로드수라 제일 높은 이상치는 모두 1e+9로 동일 하므로 y 범주 제한\n",
    "axs[0].set_ylim(0,0.6e+9)\n",
    "axs[1].set_ylim(0,0.6e+9)\n",
    "plt.suptitle('Installs top 5')\n",
    "axs[0].set_title('Befor removing Outlier ')\n",
    "axs[1].set_title('AFter removing Outlier')\n",
    "\n",
    "plt.show()\n",
    "\n",
    "print('독점적인 시장이 줄어듬')"
   ]
  },
  {
   "cell_type": "code",
   "execution_count": null,
   "id": "584ebc78",
   "metadata": {},
   "outputs": [],
   "source": []
  },
  {
   "cell_type": "markdown",
   "id": "f43b0472",
   "metadata": {},
   "source": [
    "### 위의 상위 5개를 독점시장이 아니면서 성공률이 높은 카테고리로 판단, 분석 "
   ]
  },
  {
   "cell_type": "markdown",
   "id": "f6636a46",
   "metadata": {},
   "source": [
    "# 3. 카테고리별 분석"
   ]
  },
  {
   "cell_type": "markdown",
   "id": "b97f2487",
   "metadata": {},
   "source": [
    "  ##   3-1. 앱 데이터 분석"
   ]
  },
  {
   "cell_type": "code",
   "execution_count": 78,
   "id": "b405ac32",
   "metadata": {},
   "outputs": [],
   "source": [
    "# 카테고리별 Content rating, one hot encoding\n",
    "def content_rating_1_hot(category_name):\n",
    "    df = app_info[app_info['Category']== category_name]\n",
    "    df = pd.concat([pd.get_dummies(df,columns = ['Content Rating']), df['Content Rating']], axis = 1)\n",
    "    return df"
   ]
  },
  {
   "cell_type": "code",
   "execution_count": 77,
   "id": "a86b86ce",
   "metadata": {},
   "outputs": [],
   "source": [
    "ent = content_rating_1_hot('ENTERTAINMENT')\n",
    "edu = content_rating_1_hot('EDUCATION')\n",
    "game =content_rating_1_hot('GAME')\n",
    "photo = content_rating_1_hot('PHTOGRAPHY')\n",
    "shop = content_rating_1_hot('SHOPPING')"
   ]
  },
  {
   "cell_type": "markdown",
   "id": "744e1193",
   "metadata": {},
   "source": [
    "### 3-1.  Entertainment:\n"
   ]
  },
  {
   "cell_type": "code",
   "execution_count": 205,
   "id": "8c53b1e1",
   "metadata": {},
   "outputs": [
    {
     "data": {
      "text/plain": [
       "Text(0, 0.5, 'price')"
      ]
     },
     "execution_count": 205,
     "metadata": {},
     "output_type": "execute_result"
    },
    {
     "data": {
      "image/png": "[encoded data removed]",
      "text/plain": [
       "<Figure size 432x288 with 1 Axes>"
      ]
     },
     "metadata": {
      "needs_background": "light"
     },
     "output_type": "display_data"
    }
   ],
   "source": [
    "ent.groupby('Installs').mean()['Price'].plot(kind = 'bar')\n",
    "plt.ylabel('price')"
   ]
  },
  {
   "cell_type": "markdown",
   "id": "6d9f36ba",
   "metadata": {},
   "source": [
    "### 3-1.  GAME:\n"
   ]
  },
  {
   "cell_type": "code",
   "execution_count": 98,
   "id": "549feb42",
   "metadata": {},
   "outputs": [
    {
     "data": {
      "text/plain": [
       "Text(0.5, 1.0, 'Game')"
      ]
     },
     "execution_count": 98,
     "metadata": {},
     "output_type": "execute_result"
    },
    {
     "data": {
      "image/png": "[encoded data removed]",
      "text/plain": [
       "<Figure size 432x288 with 1 Axes>"
      ]
     },
     "metadata": {
      "needs_background": "light"
     },
     "output_type": "display_data"
    }
   ],
   "source": [
    "# game에서\n",
    "game.groupby(\"Installs\").mean()['Size'].plot(kind = 'bar', color = 'g')\n",
    "plt.ylabel('Size')\n",
    "plt.title('Game')"
   ]
  },
  {
   "cell_type": "code",
   "execution_count": 99,
   "id": "ccc40fba",
   "metadata": {},
   "outputs": [
    {
     "data": {
      "text/html": [
       "<div>\n",
       "<style scoped>\n",
       "    .dataframe tbody tr th:only-of-type {\n",
       "        vertical-align: middle;\n",
       "    }\n",
       "\n",
       "    .dataframe tbody tr th {\n",
       "        vertical-align: top;\n",
       "    }\n",
       "\n",
       "    .dataframe thead th {\n",
       "        text-align: right;\n",
       "    }\n",
       "</style>\n",
       "<table border=\"1\" class=\"dataframe\">\n",
       "  <thead>\n",
       "    <tr style=\"text-align: right;\">\n",
       "      <th></th>\n",
       "      <th>Installs</th>\n",
       "    </tr>\n",
       "    <tr>\n",
       "      <th>Content Rating</th>\n",
       "      <th></th>\n",
       "    </tr>\n",
       "  </thead>\n",
       "  <tbody>\n",
       "    <tr>\n",
       "      <th>Everyone</th>\n",
       "      <td>3.421633e+07</td>\n",
       "    </tr>\n",
       "    <tr>\n",
       "      <th>Everyone 10+</th>\n",
       "      <td>7.198366e+07</td>\n",
       "    </tr>\n",
       "    <tr>\n",
       "      <th>Mature 17+</th>\n",
       "      <td>1.438679e+07</td>\n",
       "    </tr>\n",
       "    <tr>\n",
       "      <th>Teen</th>\n",
       "      <td>1.144415e+07</td>\n",
       "    </tr>\n",
       "  </tbody>\n",
       "</table>\n",
       "</div>"
      ],
      "text/plain": [
       "                    Installs\n",
       "Content Rating              \n",
       "Everyone        3.421633e+07\n",
       "Everyone 10+    7.198366e+07\n",
       "Mature 17+      1.438679e+07\n",
       "Teen            1.144415e+07"
      ]
     },
     "metadata": {},
     "output_type": "display_data"
    },
    {
     "data": {
      "text/plain": [
       "Text(0.5, 1.0, 'Game')"
      ]
     },
     "execution_count": 99,
     "metadata": {},
     "output_type": "execute_result"
    },
    {
     "data": {
      "image/png": "[encoded data removed]",
      "text/plain": [
       "<Figure size 432x288 with 1 Axes>"
      ]
     },
     "metadata": {
      "needs_background": "light"
     },
     "output_type": "display_data"
    }
   ],
   "source": [
    "# 평균 다운로드와 연령제한의 관계\n",
    "game_cr = pd.DataFrame(game.groupby('Content Rating').mean()['Installs'])\n",
    "game_cr.plot(kind ='bar', color = 'g')\n",
    "display(game_cr)\n",
    "plt.title('Game')"
   ]
  },
  {
   "cell_type": "markdown",
   "id": "6e2ce475",
   "metadata": {},
   "source": [
    "### 3-1. EDUCATION:"
   ]
  },
  {
   "cell_type": "code",
   "execution_count": 191,
   "id": "161611e3",
   "metadata": {},
   "outputs": [
    {
     "data": {
      "text/plain": [
       "Text(0.5, 1.0, 'Education')"
      ]
     },
     "execution_count": 191,
     "metadata": {},
     "output_type": "execute_result"
    },
    {
     "data": {
      "image/png": "[encoded data removed]",
      "text/plain": [
       "<Figure size 432x288 with 1 Axes>"
      ]
     },
     "metadata": {
      "needs_background": "light"
     },
     "output_type": "display_data"
    }
   ],
   "source": [
    "# Education 에서는 RAting과 installs의 상관관계가 강하다!\n",
    "pd.DataFrame(edu.groupby('Installs').mean()['Rating'].iloc[1:]).plot(kind = 'bar', color = 'orange')\n",
    "plt.ylim(3,5)\n",
    "plt.ylabel('Rating')\n",
    "plt.title('Education')"
   ]
  },
  {
   "cell_type": "markdown",
   "id": "70808137",
   "metadata": {},
   "source": [
    "## 3-2. 리뷰 데이터 + 카테고리별 리뷰데이터 분석"
   ]
  },
  {
   "cell_type": "markdown",
   "id": "64b9b0a9",
   "metadata": {},
   "source": [
    "### 전체 리뷰 Word Cloud"
   ]
  },
  {
   "cell_type": "code",
   "execution_count": null,
   "id": "00ac7d16",
   "metadata": {},
   "outputs": [],
   "source": [
    "from wordcloud import WordCloud, ImageColorGenerator\n",
    "# 폰트, 이미지 저장\n",
    "FONT_PATH='../archive_googleplaystore/Product Sans Regular.ttf'\n",
    "mask=np.array(Image.open(\"../archive_googleplaystore/googleplaystore.jpg\"))"
   ]
  },
  {
   "cell_type": "code",
   "execution_count": 230,
   "id": "f4268e2b",
   "metadata": {},
   "outputs": [
    {
     "ename": "KeyboardInterrupt",
     "evalue": "",
     "output_type": "error",
     "traceback": [
      "\u001b[1;31m---------------------------------------------------------------------------\u001b[0m",
      "\u001b[1;31mKeyboardInterrupt\u001b[0m                         Traceback (most recent call last)",
      "\u001b[1;32m~\\AppData\\Local\\Temp/ipykernel_20716/3209186553.py\u001b[0m in \u001b[0;36m<module>\u001b[1;34m\u001b[0m\n\u001b[0;32m     11\u001b[0m \u001b[1;32mfrom\u001b[0m \u001b[0mnltk\u001b[0m\u001b[1;33m.\u001b[0m\u001b[0mcorpus\u001b[0m \u001b[1;32mimport\u001b[0m \u001b[0mstopwords\u001b[0m\u001b[1;33m\u001b[0m\u001b[1;33m\u001b[0m\u001b[0m\n\u001b[0;32m     12\u001b[0m \u001b[0mall_text\u001b[0m\u001b[1;33m=\u001b[0m\u001b[0mnltk\u001b[0m\u001b[1;33m.\u001b[0m\u001b[0mword_tokenize\u001b[0m\u001b[1;33m(\u001b[0m\u001b[0mall_text\u001b[0m\u001b[1;33m)\u001b[0m \u001b[1;31m#Tokenize\u001b[0m\u001b[1;33m\u001b[0m\u001b[1;33m\u001b[0m\u001b[0m\n\u001b[1;32m---> 13\u001b[1;33m \u001b[0mall_text_filtered\u001b[0m\u001b[1;33m=\u001b[0m\u001b[1;33m[\u001b[0m\u001b[0mword\u001b[0m \u001b[1;32mfor\u001b[0m \u001b[0mword\u001b[0m \u001b[1;32min\u001b[0m \u001b[0mall_text\u001b[0m \u001b[1;32mif\u001b[0m \u001b[0mword\u001b[0m \u001b[1;32mnot\u001b[0m \u001b[1;32min\u001b[0m \u001b[0mstopwords\u001b[0m\u001b[1;33m.\u001b[0m\u001b[0mwords\u001b[0m\u001b[1;33m(\u001b[0m\u001b[1;34m'english'\u001b[0m\u001b[1;33m)\u001b[0m\u001b[1;33m]\u001b[0m \u001b[1;31m#Stopwords 제거\u001b[0m\u001b[1;33m\u001b[0m\u001b[1;33m\u001b[0m\u001b[0m\n\u001b[0m\u001b[0;32m     14\u001b[0m \u001b[1;33m\u001b[0m\u001b[0m\n\u001b[0;32m     15\u001b[0m \u001b[1;32mimport\u001b[0m \u001b[0mnltk\u001b[0m \u001b[1;32mas\u001b[0m \u001b[0mnlp\u001b[0m\u001b[1;33m\u001b[0m\u001b[1;33m\u001b[0m\u001b[0m\n",
      "\u001b[1;32m~\\AppData\\Local\\Temp/ipykernel_20716/3209186553.py\u001b[0m in \u001b[0;36m<listcomp>\u001b[1;34m(.0)\u001b[0m\n\u001b[0;32m     11\u001b[0m \u001b[1;32mfrom\u001b[0m \u001b[0mnltk\u001b[0m\u001b[1;33m.\u001b[0m\u001b[0mcorpus\u001b[0m \u001b[1;32mimport\u001b[0m \u001b[0mstopwords\u001b[0m\u001b[1;33m\u001b[0m\u001b[1;33m\u001b[0m\u001b[0m\n\u001b[0;32m     12\u001b[0m \u001b[0mall_text\u001b[0m\u001b[1;33m=\u001b[0m\u001b[0mnltk\u001b[0m\u001b[1;33m.\u001b[0m\u001b[0mword_tokenize\u001b[0m\u001b[1;33m(\u001b[0m\u001b[0mall_text\u001b[0m\u001b[1;33m)\u001b[0m \u001b[1;31m#Tokenize\u001b[0m\u001b[1;33m\u001b[0m\u001b[1;33m\u001b[0m\u001b[0m\n\u001b[1;32m---> 13\u001b[1;33m \u001b[0mall_text_filtered\u001b[0m\u001b[1;33m=\u001b[0m\u001b[1;33m[\u001b[0m\u001b[0mword\u001b[0m \u001b[1;32mfor\u001b[0m \u001b[0mword\u001b[0m \u001b[1;32min\u001b[0m \u001b[0mall_text\u001b[0m \u001b[1;32mif\u001b[0m \u001b[0mword\u001b[0m \u001b[1;32mnot\u001b[0m \u001b[1;32min\u001b[0m \u001b[0mstopwords\u001b[0m\u001b[1;33m.\u001b[0m\u001b[0mwords\u001b[0m\u001b[1;33m(\u001b[0m\u001b[1;34m'english'\u001b[0m\u001b[1;33m)\u001b[0m\u001b[1;33m]\u001b[0m \u001b[1;31m#Stopwords 제거\u001b[0m\u001b[1;33m\u001b[0m\u001b[1;33m\u001b[0m\u001b[0m\n\u001b[0m\u001b[0;32m     14\u001b[0m \u001b[1;33m\u001b[0m\u001b[0m\n\u001b[0;32m     15\u001b[0m \u001b[1;32mimport\u001b[0m \u001b[0mnltk\u001b[0m \u001b[1;32mas\u001b[0m \u001b[0mnlp\u001b[0m\u001b[1;33m\u001b[0m\u001b[1;33m\u001b[0m\u001b[0m\n",
      "\u001b[1;32m~\\anaconda3\\lib\\site-packages\\nltk\\corpus\\reader\\wordlist.py\u001b[0m in \u001b[0;36mwords\u001b[1;34m(self, fileids, ignore_lines_startswith)\u001b[0m\n\u001b[0;32m     19\u001b[0m         return [\n\u001b[0;32m     20\u001b[0m             \u001b[0mline\u001b[0m\u001b[1;33m\u001b[0m\u001b[1;33m\u001b[0m\u001b[0m\n\u001b[1;32m---> 21\u001b[1;33m             \u001b[1;32mfor\u001b[0m \u001b[0mline\u001b[0m \u001b[1;32min\u001b[0m \u001b[0mline_tokenize\u001b[0m\u001b[1;33m(\u001b[0m\u001b[0mself\u001b[0m\u001b[1;33m.\u001b[0m\u001b[0mraw\u001b[0m\u001b[1;33m(\u001b[0m\u001b[0mfileids\u001b[0m\u001b[1;33m)\u001b[0m\u001b[1;33m)\u001b[0m\u001b[1;33m\u001b[0m\u001b[1;33m\u001b[0m\u001b[0m\n\u001b[0m\u001b[0;32m     22\u001b[0m             \u001b[1;32mif\u001b[0m \u001b[1;32mnot\u001b[0m \u001b[0mline\u001b[0m\u001b[1;33m.\u001b[0m\u001b[0mstartswith\u001b[0m\u001b[1;33m(\u001b[0m\u001b[0mignore_lines_startswith\u001b[0m\u001b[1;33m)\u001b[0m\u001b[1;33m\u001b[0m\u001b[1;33m\u001b[0m\u001b[0m\n\u001b[0;32m     23\u001b[0m         ]\n",
      "\u001b[1;32m~\\anaconda3\\lib\\site-packages\\nltk\\corpus\\reader\\api.py\u001b[0m in \u001b[0;36mraw\u001b[1;34m(self, fileids)\u001b[0m\n\u001b[0;32m    215\u001b[0m         \u001b[0mcontents\u001b[0m \u001b[1;33m=\u001b[0m \u001b[1;33m[\u001b[0m\u001b[1;33m]\u001b[0m\u001b[1;33m\u001b[0m\u001b[1;33m\u001b[0m\u001b[0m\n\u001b[0;32m    216\u001b[0m         \u001b[1;32mfor\u001b[0m \u001b[0mf\u001b[0m \u001b[1;32min\u001b[0m \u001b[0mfileids\u001b[0m\u001b[1;33m:\u001b[0m\u001b[1;33m\u001b[0m\u001b[1;33m\u001b[0m\u001b[0m\n\u001b[1;32m--> 217\u001b[1;33m             \u001b[1;32mwith\u001b[0m \u001b[0mself\u001b[0m\u001b[1;33m.\u001b[0m\u001b[0mopen\u001b[0m\u001b[1;33m(\u001b[0m\u001b[0mf\u001b[0m\u001b[1;33m)\u001b[0m \u001b[1;32mas\u001b[0m \u001b[0mfp\u001b[0m\u001b[1;33m:\u001b[0m\u001b[1;33m\u001b[0m\u001b[1;33m\u001b[0m\u001b[0m\n\u001b[0m\u001b[0;32m    218\u001b[0m                 \u001b[0mcontents\u001b[0m\u001b[1;33m.\u001b[0m\u001b[0mappend\u001b[0m\u001b[1;33m(\u001b[0m\u001b[0mfp\u001b[0m\u001b[1;33m.\u001b[0m\u001b[0mread\u001b[0m\u001b[1;33m(\u001b[0m\u001b[1;33m)\u001b[0m\u001b[1;33m)\u001b[0m\u001b[1;33m\u001b[0m\u001b[1;33m\u001b[0m\u001b[0m\n\u001b[0;32m    219\u001b[0m         \u001b[1;32mreturn\u001b[0m \u001b[0mconcat\u001b[0m\u001b[1;33m(\u001b[0m\u001b[0mcontents\u001b[0m\u001b[1;33m)\u001b[0m\u001b[1;33m\u001b[0m\u001b[1;33m\u001b[0m\u001b[0m\n",
      "\u001b[1;32m~\\anaconda3\\lib\\site-packages\\nltk\\corpus\\reader\\api.py\u001b[0m in \u001b[0;36mopen\u001b[1;34m(self, file)\u001b[0m\n\u001b[0;32m    228\u001b[0m         \"\"\"\n\u001b[0;32m    229\u001b[0m         \u001b[0mencoding\u001b[0m \u001b[1;33m=\u001b[0m \u001b[0mself\u001b[0m\u001b[1;33m.\u001b[0m\u001b[0mencoding\u001b[0m\u001b[1;33m(\u001b[0m\u001b[0mfile\u001b[0m\u001b[1;33m)\u001b[0m\u001b[1;33m\u001b[0m\u001b[1;33m\u001b[0m\u001b[0m\n\u001b[1;32m--> 230\u001b[1;33m         \u001b[0mstream\u001b[0m \u001b[1;33m=\u001b[0m \u001b[0mself\u001b[0m\u001b[1;33m.\u001b[0m\u001b[0m_root\u001b[0m\u001b[1;33m.\u001b[0m\u001b[0mjoin\u001b[0m\u001b[1;33m(\u001b[0m\u001b[0mfile\u001b[0m\u001b[1;33m)\u001b[0m\u001b[1;33m.\u001b[0m\u001b[0mopen\u001b[0m\u001b[1;33m(\u001b[0m\u001b[0mencoding\u001b[0m\u001b[1;33m)\u001b[0m\u001b[1;33m\u001b[0m\u001b[1;33m\u001b[0m\u001b[0m\n\u001b[0m\u001b[0;32m    231\u001b[0m         \u001b[1;32mreturn\u001b[0m \u001b[0mstream\u001b[0m\u001b[1;33m\u001b[0m\u001b[1;33m\u001b[0m\u001b[0m\n\u001b[0;32m    232\u001b[0m \u001b[1;33m\u001b[0m\u001b[0m\n",
      "\u001b[1;32m~\\anaconda3\\lib\\site-packages\\nltk\\data.py\u001b[0m in \u001b[0;36mjoin\u001b[1;34m(self, fileid)\u001b[0m\n\u001b[0;32m    332\u001b[0m     \u001b[1;32mdef\u001b[0m \u001b[0mjoin\u001b[0m\u001b[1;33m(\u001b[0m\u001b[0mself\u001b[0m\u001b[1;33m,\u001b[0m \u001b[0mfileid\u001b[0m\u001b[1;33m)\u001b[0m\u001b[1;33m:\u001b[0m\u001b[1;33m\u001b[0m\u001b[1;33m\u001b[0m\u001b[0m\n\u001b[0;32m    333\u001b[0m         \u001b[0m_path\u001b[0m \u001b[1;33m=\u001b[0m \u001b[0mos\u001b[0m\u001b[1;33m.\u001b[0m\u001b[0mpath\u001b[0m\u001b[1;33m.\u001b[0m\u001b[0mjoin\u001b[0m\u001b[1;33m(\u001b[0m\u001b[0mself\u001b[0m\u001b[1;33m.\u001b[0m\u001b[0m_path\u001b[0m\u001b[1;33m,\u001b[0m \u001b[0mfileid\u001b[0m\u001b[1;33m)\u001b[0m\u001b[1;33m\u001b[0m\u001b[1;33m\u001b[0m\u001b[0m\n\u001b[1;32m--> 334\u001b[1;33m         \u001b[1;32mreturn\u001b[0m \u001b[0mFileSystemPathPointer\u001b[0m\u001b[1;33m(\u001b[0m\u001b[0m_path\u001b[0m\u001b[1;33m)\u001b[0m\u001b[1;33m\u001b[0m\u001b[1;33m\u001b[0m\u001b[0m\n\u001b[0m\u001b[0;32m    335\u001b[0m \u001b[1;33m\u001b[0m\u001b[0m\n\u001b[0;32m    336\u001b[0m     \u001b[1;32mdef\u001b[0m \u001b[0m__repr__\u001b[0m\u001b[1;33m(\u001b[0m\u001b[0mself\u001b[0m\u001b[1;33m)\u001b[0m\u001b[1;33m:\u001b[0m\u001b[1;33m\u001b[0m\u001b[1;33m\u001b[0m\u001b[0m\n",
      "\u001b[1;32m~\\anaconda3\\lib\\site-packages\\nltk\\compat.py\u001b[0m in \u001b[0;36m_decorator\u001b[1;34m(*args, **kwargs)\u001b[0m\n\u001b[0;32m     39\u001b[0m     \u001b[1;32mdef\u001b[0m \u001b[0m_decorator\u001b[0m\u001b[1;33m(\u001b[0m\u001b[1;33m*\u001b[0m\u001b[0margs\u001b[0m\u001b[1;33m,\u001b[0m \u001b[1;33m**\u001b[0m\u001b[0mkwargs\u001b[0m\u001b[1;33m)\u001b[0m\u001b[1;33m:\u001b[0m\u001b[1;33m\u001b[0m\u001b[1;33m\u001b[0m\u001b[0m\n\u001b[0;32m     40\u001b[0m         \u001b[0margs\u001b[0m \u001b[1;33m=\u001b[0m \u001b[1;33m(\u001b[0m\u001b[0margs\u001b[0m\u001b[1;33m[\u001b[0m\u001b[1;36m0\u001b[0m\u001b[1;33m]\u001b[0m\u001b[1;33m,\u001b[0m \u001b[0madd_py3_data\u001b[0m\u001b[1;33m(\u001b[0m\u001b[0margs\u001b[0m\u001b[1;33m[\u001b[0m\u001b[1;36m1\u001b[0m\u001b[1;33m]\u001b[0m\u001b[1;33m)\u001b[0m\u001b[1;33m)\u001b[0m \u001b[1;33m+\u001b[0m \u001b[0margs\u001b[0m\u001b[1;33m[\u001b[0m\u001b[1;36m2\u001b[0m\u001b[1;33m:\u001b[0m\u001b[1;33m]\u001b[0m\u001b[1;33m\u001b[0m\u001b[1;33m\u001b[0m\u001b[0m\n\u001b[1;32m---> 41\u001b[1;33m         \u001b[1;32mreturn\u001b[0m \u001b[0minit_func\u001b[0m\u001b[1;33m(\u001b[0m\u001b[1;33m*\u001b[0m\u001b[0margs\u001b[0m\u001b[1;33m,\u001b[0m \u001b[1;33m**\u001b[0m\u001b[0mkwargs\u001b[0m\u001b[1;33m)\u001b[0m\u001b[1;33m\u001b[0m\u001b[1;33m\u001b[0m\u001b[0m\n\u001b[0m\u001b[0;32m     42\u001b[0m \u001b[1;33m\u001b[0m\u001b[0m\n\u001b[0;32m     43\u001b[0m     \u001b[1;32mreturn\u001b[0m \u001b[0mwraps\u001b[0m\u001b[1;33m(\u001b[0m\u001b[0minit_func\u001b[0m\u001b[1;33m)\u001b[0m\u001b[1;33m(\u001b[0m\u001b[0m_decorator\u001b[0m\u001b[1;33m)\u001b[0m\u001b[1;33m\u001b[0m\u001b[1;33m\u001b[0m\u001b[0m\n",
      "\u001b[1;32m~\\anaconda3\\lib\\site-packages\\nltk\\data.py\u001b[0m in \u001b[0;36m__init__\u001b[1;34m(self, _path)\u001b[0m\n\u001b[0;32m    309\u001b[0m \u001b[1;33m\u001b[0m\u001b[0m\n\u001b[0;32m    310\u001b[0m         \u001b[0m_path\u001b[0m \u001b[1;33m=\u001b[0m \u001b[0mos\u001b[0m\u001b[1;33m.\u001b[0m\u001b[0mpath\u001b[0m\u001b[1;33m.\u001b[0m\u001b[0mabspath\u001b[0m\u001b[1;33m(\u001b[0m\u001b[0m_path\u001b[0m\u001b[1;33m)\u001b[0m\u001b[1;33m\u001b[0m\u001b[1;33m\u001b[0m\u001b[0m\n\u001b[1;32m--> 311\u001b[1;33m         \u001b[1;32mif\u001b[0m \u001b[1;32mnot\u001b[0m \u001b[0mos\u001b[0m\u001b[1;33m.\u001b[0m\u001b[0mpath\u001b[0m\u001b[1;33m.\u001b[0m\u001b[0mexists\u001b[0m\u001b[1;33m(\u001b[0m\u001b[0m_path\u001b[0m\u001b[1;33m)\u001b[0m\u001b[1;33m:\u001b[0m\u001b[1;33m\u001b[0m\u001b[1;33m\u001b[0m\u001b[0m\n\u001b[0m\u001b[0;32m    312\u001b[0m             \u001b[1;32mraise\u001b[0m \u001b[0mOSError\u001b[0m\u001b[1;33m(\u001b[0m\u001b[1;34m\"No such file or directory: %r\"\u001b[0m \u001b[1;33m%\u001b[0m \u001b[0m_path\u001b[0m\u001b[1;33m)\u001b[0m\u001b[1;33m\u001b[0m\u001b[1;33m\u001b[0m\u001b[0m\n\u001b[0;32m    313\u001b[0m         \u001b[0mself\u001b[0m\u001b[1;33m.\u001b[0m\u001b[0m_path\u001b[0m \u001b[1;33m=\u001b[0m \u001b[0m_path\u001b[0m\u001b[1;33m\u001b[0m\u001b[1;33m\u001b[0m\u001b[0m\n",
      "\u001b[1;32m~\\anaconda3\\lib\\genericpath.py\u001b[0m in \u001b[0;36mexists\u001b[1;34m(path)\u001b[0m\n\u001b[0;32m     17\u001b[0m     \u001b[1;34m\"\"\"Test whether a path exists.  Returns False for broken symbolic links\"\"\"\u001b[0m\u001b[1;33m\u001b[0m\u001b[1;33m\u001b[0m\u001b[0m\n\u001b[0;32m     18\u001b[0m     \u001b[1;32mtry\u001b[0m\u001b[1;33m:\u001b[0m\u001b[1;33m\u001b[0m\u001b[1;33m\u001b[0m\u001b[0m\n\u001b[1;32m---> 19\u001b[1;33m         \u001b[0mos\u001b[0m\u001b[1;33m.\u001b[0m\u001b[0mstat\u001b[0m\u001b[1;33m(\u001b[0m\u001b[0mpath\u001b[0m\u001b[1;33m)\u001b[0m\u001b[1;33m\u001b[0m\u001b[1;33m\u001b[0m\u001b[0m\n\u001b[0m\u001b[0;32m     20\u001b[0m     \u001b[1;32mexcept\u001b[0m \u001b[1;33m(\u001b[0m\u001b[0mOSError\u001b[0m\u001b[1;33m,\u001b[0m \u001b[0mValueError\u001b[0m\u001b[1;33m)\u001b[0m\u001b[1;33m:\u001b[0m\u001b[1;33m\u001b[0m\u001b[1;33m\u001b[0m\u001b[0m\n\u001b[0;32m     21\u001b[0m         \u001b[1;32mreturn\u001b[0m \u001b[1;32mFalse\u001b[0m\u001b[1;33m\u001b[0m\u001b[1;33m\u001b[0m\u001b[0m\n",
      "\u001b[1;31mKeyboardInterrupt\u001b[0m: "
     ]
    }
   ],
   "source": [
    "all_rev=app_review['Translated_Review'].tolist()\n",
    "\n",
    "all_rev=' '.join(all_rev)\n",
    "\n",
    "import re\n",
    "all_text=re.sub(\"[^a-zA-Z]\",\" \", all_rev) #문자를 제외한 나머지 요소 공백으로 바꿈\n",
    "all_text=all_text.lower() #소문자화\n",
    "\n",
    "\n",
    "import nltk\n",
    "from nltk.corpus import stopwords\n",
    "all_text=nltk.word_tokenize(all_text) #Tokenize\n",
    "all_text_filtered=[word for word in all_text if word not in stopwords.words('english')] #Stopwords 제거\n",
    "\n",
    "import nltk as nlp\n",
    "lemma=nlp.WordNetLemmatizer() #Lemmatization (apps -> app 이런 식으로)\n",
    "all_text_lemma=[lemma.lemmatize(i) for i in all_text_filtered]\n",
    "all_text=[\" \".join(all_text_lemma)]\n",
    "\n",
    "plt.subplots(figsize=(10,10))\n",
    "wordcloud=WordCloud(\n",
    "    background_color=\"white\",\n",
    "    width=300,\n",
    "    height=300,\n",
    "    font_path=FONT_PATH,\n",
    "    color_func=ImageColorGenerator(mask),\n",
    "    mask=mask).generate_from_text(\" \".join(all_text))\n",
    "plt.imshow(wordcloud)\n",
    "plt.axis(\"off\")\n",
    "plt.show()"
   ]
  },
  {
   "cell_type": "markdown",
   "id": "9499be86",
   "metadata": {},
   "source": [
    "### Sentiment별 Word Cloud"
   ]
  },
  {
   "cell_type": "code",
   "execution_count": null,
   "id": "d8bdf0e1",
   "metadata": {},
   "outputs": [],
   "source": [
    "sent_dct = {}\n",
    "for sent in app_review.Sentiment.unique().tolist():\n",
    "\n",
    "    print(sent)\n",
    "    sent_reviews =app_review[app_review['Sentiment'] == sent]\n",
    "    \n",
    "    all_rev=app_review['Translated_Review'].tolist()\n",
    "\n",
    "    all_rev=' '.join(all_rev)\n",
    "\n",
    "    import re\n",
    "    all_text=re.sub(\"[^a-zA-Z]\",\" \", all_rev) \n",
    "    all_text=all_text.lower() \n",
    "\n",
    "    import nltk\n",
    "    from nltk.corpus import stopwords\n",
    "    all_text=nltk.word_tokenize(all_text)\n",
    "    all_text_filtered=[word for word in all_text if word not in stopwords.words('english')]\n",
    "\n",
    "    import nltk as nlp\n",
    "    lemma=nlp.WordNetLemmatizer()\n",
    "    all_text_lemma=[lemma.lemmatize(i) for i in all_text_filtered] \n",
    "    all_text=[\" \".join(all_text_lemma)]\n",
    "\n",
    "\n",
    "#Word Cloud 생성\n",
    "\n",
    "plt.subplots(figsize=(10,10))\n",
    "wordcloud=WordCloud(\n",
    "    background_color=\"white\",\n",
    "    width=300,\n",
    "    height=300,\n",
    "    font_path=FONT_PATH,\n",
    "    color_func=ImageColorGenerator(mask),\n",
    "    mask=mask).generate_from_text(\" \".join(all_text))\n",
    "plt.imshow(wordcloud)\n",
    "plt.axis(\"off\")\n",
    "plt.show()"
   ]
  },
  {
   "cell_type": "markdown",
   "id": "483afa8c",
   "metadata": {},
   "source": [
    "### 카테고리별 WordCloud"
   ]
  },
  {
   "cell_type": "code",
   "execution_count": null,
   "id": "1d921f58",
   "metadata": {},
   "outputs": [],
   "source": [
    "review2=app_review.groupby('App').mean()\n",
    "\n",
    "review_apps=review2.index.tolist()\n",
    "app_with_reviews=[]\n",
    "for name in review_apps:\n",
    "    if name in app_info['App'].unique().tolist():\n",
    "        app_with_reviews.append(name)\n",
    "        \n",
    "drop_lst=[]\n",
    "for x in range(0,len(app_info)):\n",
    "    if app_info.App[x] not in app_with_reviews or app_info.App[x] in app_info.App.iloc[:x].values:\n",
    "        drop_lst.append(x)\n",
    "appdata2=app_info.drop(index=drop_lst).reset_index(drop=True)\n",
    "\n",
    "\n",
    "drop_lst2=[]\n",
    "for x in range(0,len(review2)):\n",
    "    if review2.index[x] not in app_with_reviews:\n",
    "        drop_lst2.append(review2.index[x])\n",
    "review3=review2.drop(index=drop_lst2)\n",
    "        \n",
    "data=pd.merge(appdata2,review3, left_on='App', right_on='App')\n",
    "        \n",
    "        \n",
    "df_review_only=app_review.drop(columns=['Sentiment', 'Sentiment_Polarity', 'Sentiment_Subjectivity'])\n",
    "\n",
    "df_review_only2=df_review_only.drop(df_review_only[~df_review_only['App'].isin(app_with_reviews)].index)\n",
    "\n",
    "\n",
    "review_only3=df_review_only2.groupby(['App'], as_index=False).agg({'Translated_Review':' '.join})\n",
    "\n",
    "lst=[]\n",
    "for k in review_only3.App:\n",
    "    for index in range(0,len(data)):\n",
    "        if data.App[index] == k:\n",
    "            lst.append(data.Category[index])\n",
    "s1 = pd.Series(lst)\n",
    "\n",
    "review_only3['Category']=s1\n",
    "review_only3=review_only3[['App', 'Category', 'Translated_Review']]"
   ]
  },
  {
   "cell_type": "code",
   "execution_count": null,
   "id": "d6a6c637",
   "metadata": {},
   "outputs": [],
   "source": [
    "cat_dct = {}\n",
    "for cat in app_info.Category.unique().tolist():\n",
    "\n",
    "    print(cat)\n",
    "    category_reviews=review_only3[review_only3['Category']==cat]\n",
    "    cat_rev=category_reviews['Translated_Review'].tolist()\n",
    "    cat_rev=' '.join(cat_rev)\n",
    "    for k in ['love','app','great','work','time','good','really','like','thank']:\n",
    "        cat_rev=cat_rev.replace(k,'')\n",
    "\n",
    "    cat_text=re.sub(\"[^a-zA-Z]\",\" \", cat_rev) #문자를 제외한 나머지 요소 공백으로 바꿈\n",
    "    cat_text=cat_text.lower() #소문자화\n",
    "\n",
    "    cat_text=nltk.word_tokenize(cat_text)\n",
    "    cat_text_filtered=[word for word in cat_text if word not in stopwords.words('english')]\n",
    "    \n",
    "    lemma=nltk.WordNetLemmatizer()\n",
    "    cat_text_lemma=[lemma.lemmatize(i) for i in cat_text_filtered]\n",
    "    cat_text=[\" \".join(cat_text_lemma)]\n",
    "       \n",
    "    plt.subplots(figsize=(10,10))\n",
    "    wordcloud=WordCloud(\n",
    "        background_color=\"white\",\n",
    "        width=300,\n",
    "        height=300,\n",
    "        font_path=FONT_PATH,\n",
    "        color_func=ImageColorGenerator(mask),\n",
    "        mask=mask).generate_from_text(\" \".join(cat_text))\n",
    "    plt.imshow(wordcloud)\n",
    "    plt.axis(\"off\")\n",
    "    plt.show()"
   ]
  },
  {
   "cell_type": "markdown",
   "id": "77e9aeef",
   "metadata": {},
   "source": [
    "### 1. 카테고리 명, 2. 상위권 리뷰, 3. 중위권 리뷰 WordCloud"
   ]
  },
  {
   "cell_type": "code",
   "execution_count": null,
   "id": "a70322b6",
   "metadata": {},
   "outputs": [],
   "source": [
    "#리뷰 존재하는 상위권(upper outlier) 앱 추출\n",
    "def out_with_reviews(category):\n",
    "    a_lst=[]\n",
    "    install_lst=[]\n",
    "    app_lst=[]\n",
    "    index_lst=[]\n",
    "    for x in range(0,len(app_info)):\n",
    "        if app_info.Category[x] == category:\n",
    "            app_lst.append(app_info.App[x])\n",
    "            install_lst.append(app_info.Installs[x])\n",
    "    a = np.array(install_lst)\n",
    "    q1,q3= np.percentile(a,[25,75])\n",
    "    IQR = q3 - q1\n",
    "    lower = q1 - (IQR*1.5)\n",
    "    upper = q3 + (IQR*1.5)\n",
    "    \n",
    "    for index,value in enumerate(a):\n",
    "        if (value >= upper):\n",
    "            if app_lst[index] in (app_with_reviews):\n",
    "                a_lst.append(app_lst[index])\n",
    "\n",
    "    for k in range(0,len(review_only3)):\n",
    "        if review_only3.App[k] in a_lst:\n",
    "            index_lst.append(True)\n",
    "        else:\n",
    "            index_lst.append(False)\n",
    "    \n",
    "    return(np.array(index_lst))\n",
    "                \n",
    "    return a_lst "
   ]
  },
  {
   "cell_type": "code",
   "execution_count": null,
   "id": "b2037599",
   "metadata": {},
   "outputs": [],
   "source": [
    "#리뷰 존재하는 outlier 아닌 앱 추출\n",
    "def out_removed_reviews(category):\n",
    "    a_lst=[]\n",
    "    install_lst=[]\n",
    "    app_lst=[]\n",
    "    index_lst=[]\n",
    "    for x in range(0,len(app_info)):\n",
    "        if app_info.Category[x] == category:\n",
    "            app_lst.append(app_info.App[x])\n",
    "            install_lst.append(app_info.Installs[x])\n",
    "    a = np.array(install_lst)\n",
    "    q1,q3= np.percentile(a,[25,75])\n",
    "    IQR = q3 - q1\n",
    "    lower = q1 - (IQR*1.5)\n",
    "    upper = q3 + (IQR*1.5)\n",
    "    \n",
    "    for index,value in enumerate(a):\n",
    "        if (lower<= value <= upper):\n",
    "            if app_lst[index] in (app_with_reviews):\n",
    "                a_lst.append(app_lst[index])\n",
    "    \n",
    "    for k in range(0,len(review_only3)):\n",
    "        if review_only3.App[k] in a_lst:\n",
    "            index_lst.append(True)\n",
    "        else:\n",
    "            index_lst.append(False)\n",
    "    \n",
    "    return(np.array(index_lst))\n",
    "\n",
    "    return (a_lst)"
   ]
  },
  {
   "cell_type": "code",
   "execution_count": null,
   "id": "26a98144",
   "metadata": {},
   "outputs": [],
   "source": [
    "cat_dct = {}\n",
    "for cat in app_info.Category.unique().tolist():\n",
    "\n",
    "    print(cat)\n",
    "    category_reviews=review_only3[out_with_reviews(cat)]\n",
    "    cat_rev=category_reviews['Translated_Review'].tolist()\n",
    "    cat_rev=' '.join(cat_rev)\n",
    "    for k in ['love','app','great','work','time','good','really','like','thank']:\n",
    "        cat_rev=cat_rev.replace(k,'')\n",
    "\n",
    "    cat_text=re.sub(\"[^a-zA-Z]\",\" \", cat_rev) #문자를 제외한 나머지 요소 공백으로 바꿈\n",
    "    cat_text=cat_text.lower() #소문자화\n",
    "\n",
    "    cat_text=nltk.word_tokenize(cat_text)\n",
    "    cat_text_filtered=[word for word in cat_text if word not in stopwords.words('english')]\n",
    "    \n",
    "    lemma=nltk.WordNetLemmatizer()\n",
    "    cat_text_lemma=[lemma.lemmatize(i) for i in cat_text_filtered]\n",
    "    cat_text=[\" \".join(cat_text_lemma)]\n",
    "    \n",
    "    try:\n",
    "        plt.subplots(figsize=(10,10))\n",
    "        wordcloud=WordCloud(\n",
    "            background_color=\"white\",\n",
    "            width=300,\n",
    "            height=300,\n",
    "            font_path=FONT_PATH,\n",
    "            color_func=ImageColorGenerator(mask),\n",
    "            mask=mask).generate_from_text(\" \".join(cat_text))\n",
    "        plt.imshow(wordcloud)\n",
    "        plt.axis(\"off\")\n",
    "        plt.show()\n",
    "    except:\n",
    "        print('결과 없음')\n",
    "        pass\n",
    "    \n",
    "    dog_reviews=review_only3[out_removed_reviews(cat)]\n",
    "    dog_rev=dog_reviews['Translated_Review'].tolist()\n",
    "    dog_rev=' '.join(dog_rev)\n",
    "    for k in ['love','app','great','work','time','good','really','like','thank']:\n",
    "        dog_rev=dog_rev.replace(k,'')\n",
    "\n",
    "    dog_text=re.sub(\"[^a-zA-Z]\",\" \", dog_rev)\n",
    "    dog_text=dog_text.lower()\n",
    "\n",
    "    dog_text=nltk.word_tokenize(dog_text)\n",
    "    dog_text_filtered=[word for word in dog_text if word not in stopwords.words('english')]\n",
    "    \n",
    "    lemma=nltk.WordNetLemmatizer()\n",
    "    dog_text_lemma=[lemma.lemmatize(i) for i in dog_text_filtered]\n",
    "    dog_text=[\" \".join(dog_text_lemma)]\n",
    "    \n",
    "    try:\n",
    "        plt.subplots(figsize=(10,10))\n",
    "        wordcloud=WordCloud(\n",
    "            background_color=\"white\",\n",
    "            width=300,\n",
    "            height=300,\n",
    "            font_path=FONT_PATH,\n",
    "            color_func=ImageColorGenerator(mask),\n",
    "            mask=mask).generate_from_text(\" \".join(dog_text))\n",
    "        plt.imshow(wordcloud)\n",
    "        plt.axis(\"off\")\n",
    "        plt.show()\n",
    "    except:\n",
    "        print('결과 없음')\n",
    "        pass"
   ]
  }
 ],
 "metadata": {
  "kernelspec": {
   "display_name": "Python 3 (ipykernel)",
   "language": "python",
   "name": "python3"
  },
  "language_info": {
   "codemirror_mode": {
    "name": "ipython",
    "version": 3
   },
   "file_extension": ".py",
   "mimetype": "text/x-python",
   "name": "python",
   "nbconvert_exporter": "python",
   "pygments_lexer": "ipython3",
   "version": "3.9.7"
  }
 },
 "nbformat": 4,
 "nbformat_minor": 5
}
