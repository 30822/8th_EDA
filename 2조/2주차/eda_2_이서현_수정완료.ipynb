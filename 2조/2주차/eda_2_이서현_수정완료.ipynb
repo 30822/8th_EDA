{
 "cells": [
  {
   "cell_type": "code",
   "execution_count": 2,
   "id": "a8bff14c-a44b-4e51-946d-5920f3bc80d1",
   "metadata": {},
   "outputs": [
    {
     "name": "stdout",
     "output_type": "stream",
     "text": [
      "Requirement already satisfied: selenium in c:\\users\\user\\anaconda5\\lib\\site-packages (4.3.0)\n",
      "Requirement already satisfied: trio-websocket~=0.9 in c:\\users\\user\\anaconda5\\lib\\site-packages (from selenium) (0.9.2)\n",
      "Requirement already satisfied: trio~=0.17 in c:\\users\\user\\anaconda5\\lib\\site-packages (from selenium) (0.21.0)\n",
      "Requirement already satisfied: urllib3[secure,socks]~=1.26 in c:\\users\\user\\anaconda5\\lib\\site-packages (from selenium) (1.26.9)\n",
      "Requirement already satisfied: outcome in c:\\users\\user\\anaconda5\\lib\\site-packages (from trio~=0.17->selenium) (1.2.0)\n",
      "Requirement already satisfied: sortedcontainers in c:\\users\\user\\anaconda5\\lib\\site-packages (from trio~=0.17->selenium) (2.4.0)\n",
      "Requirement already satisfied: attrs>=19.2.0 in c:\\users\\user\\anaconda5\\lib\\site-packages (from trio~=0.17->selenium) (21.4.0)\n",
      "Requirement already satisfied: idna in c:\\users\\user\\anaconda5\\lib\\site-packages (from trio~=0.17->selenium) (3.3)\n",
      "Requirement already satisfied: async-generator>=1.9 in c:\\users\\user\\anaconda5\\lib\\site-packages (from trio~=0.17->selenium) (1.10)\n",
      "Requirement already satisfied: sniffio in c:\\users\\user\\anaconda5\\lib\\site-packages (from trio~=0.17->selenium) (1.2.0)\n",
      "Requirement already satisfied: cffi>=1.14 in c:\\users\\user\\anaconda5\\lib\\site-packages (from trio~=0.17->selenium) (1.15.0)\n",
      "Requirement already satisfied: pycparser in c:\\users\\user\\anaconda5\\lib\\site-packages (from cffi>=1.14->trio~=0.17->selenium) (2.21)\n",
      "Requirement already satisfied: wsproto>=0.14 in c:\\users\\user\\anaconda5\\lib\\site-packages (from trio-websocket~=0.9->selenium) (1.1.0)\n",
      "Requirement already satisfied: PySocks!=1.5.7,<2.0,>=1.5.6 in c:\\users\\user\\anaconda5\\lib\\site-packages (from urllib3[secure,socks]~=1.26->selenium) (1.7.1)\n",
      "Requirement already satisfied: cryptography>=1.3.4 in c:\\users\\user\\anaconda5\\lib\\site-packages (from urllib3[secure,socks]~=1.26->selenium) (3.4.8)\n",
      "Requirement already satisfied: pyOpenSSL>=0.14 in c:\\users\\user\\anaconda5\\lib\\site-packages (from urllib3[secure,socks]~=1.26->selenium) (21.0.0)\n",
      "Requirement already satisfied: certifi in c:\\users\\user\\anaconda5\\lib\\site-packages (from urllib3[secure,socks]~=1.26->selenium) (2021.10.8)\n",
      "Requirement already satisfied: six>=1.5.2 in c:\\users\\user\\anaconda5\\lib\\site-packages (from pyOpenSSL>=0.14->urllib3[secure,socks]~=1.26->selenium) (1.16.0)\n",
      "Requirement already satisfied: h11<1,>=0.9.0 in c:\\users\\user\\anaconda5\\lib\\site-packages (from wsproto>=0.14->trio-websocket~=0.9->selenium) (0.13.0)\n",
      "Note: you may need to restart the kernel to use updated packages.\n"
     ]
    }
   ],
   "source": [
    "pip install selenium"
   ]
  },
  {
   "cell_type": "code",
   "execution_count": 3,
   "id": "6455f867-48aa-4d2e-ab17-c640b904ac4b",
   "metadata": {},
   "outputs": [],
   "source": [
    "import sys\n",
    "sys.path.insert(0,'chromedriver.exe')\n",
    "from selenium import webdriver"
   ]
  },
  {
   "cell_type": "code",
   "execution_count": 4,
   "id": "fce212c3-33c6-42cb-af66-bf38e24a7c0e",
   "metadata": {
    "tags": []
   },
   "outputs": [
    {
     "name": "stdout",
     "output_type": "stream",
     "text": [
      "Requirement already satisfied: webdriver_manager in c:\\users\\user\\anaconda5\\lib\\site-packages (3.8.2)\n",
      "Requirement already satisfied: python-dotenv in c:\\users\\user\\anaconda5\\lib\\site-packages (from webdriver_manager) (0.20.0)\n",
      "Requirement already satisfied: requests in c:\\users\\user\\anaconda5\\lib\\site-packages (from webdriver_manager) (2.27.1)\n",
      "Requirement already satisfied: charset-normalizer~=2.0.0 in c:\\users\\user\\anaconda5\\lib\\site-packages (from requests->webdriver_manager) (2.0.4)\n",
      "Requirement already satisfied: idna<4,>=2.5 in c:\\users\\user\\anaconda5\\lib\\site-packages (from requests->webdriver_manager) (3.3)\n",
      "Requirement already satisfied: urllib3<1.27,>=1.21.1 in c:\\users\\user\\anaconda5\\lib\\site-packages (from requests->webdriver_manager) (1.26.9)\n",
      "Requirement already satisfied: certifi>=2017.4.17 in c:\\users\\user\\anaconda5\\lib\\site-packages (from requests->webdriver_manager) (2021.10.8)\n",
      "Note: you may need to restart the kernel to use updated packages.\n"
     ]
    }
   ],
   "source": [
    "pip install webdriver_manager"
   ]
  },
  {
   "cell_type": "code",
   "execution_count": 6,
   "id": "1f88caef-8bf6-44c6-a2ca-2da037fc7b03",
   "metadata": {},
   "outputs": [],
   "source": [
    "from selenium import webdriver\n",
    "from selenium.webdriver.chrome.service import Service\n",
    "from selenium.webdriver.support.ui import WebDriverWait\n",
    "from selenium.webdriver.support import expected_conditions as EC\n",
    "from selenium.webdriver.common.by import By\n",
    "options = webdriver.ChromeOptions()\n",
    "options.add_argument('-headless')\n",
    "options.add_argument('-no-sandbox')\n",
    "options.add_argument('-disable-dev-shm-usage')\n",
    "options.add_argument(\"start-maximized\")"
   ]
  },
  {
   "cell_type": "code",
   "execution_count": 7,
   "id": "65584b76-01d7-4ecc-8eb6-fb547873c5c3",
   "metadata": {
    "tags": []
   },
   "outputs": [],
   "source": [
    "from webdriver_manager.chrome import ChromeDriverManager"
   ]
  },
  {
   "cell_type": "code",
   "execution_count": 73,
   "id": "fa346c9f-b910-446e-955f-5c25f0a03eeb",
   "metadata": {},
   "outputs": [
    {
     "name": "stdout",
     "output_type": "stream",
     "text": [
      "\n"
     ]
    }
   ],
   "source": [
    "browser = webdriver.Chrome(service = Service(ChromeDriverManager().install()))"
   ]
  },
  {
   "cell_type": "code",
   "execution_count": 72,
   "id": "5daab5c5-f74c-4278-bf39-44ceaf1fe7f6",
   "metadata": {},
   "outputs": [],
   "source": [
    "import pandas as pd\n",
    "data = pd.DataFrame(data=[],columns=['Review'])"
   ]
  },
  {
   "cell_type": "code",
   "execution_count": 74,
   "id": "2a8d92c8-ab95-434f-a0ec-9f860891489b",
   "metadata": {},
   "outputs": [],
   "source": [
    "browser.get(\"https://play.google.com/store/apps/details?id=com.king.candycrushsaga&hl=ko&gl=KR\")"
   ]
  },
  {
   "cell_type": "code",
   "execution_count": 75,
   "id": "9fc1d844-5a8c-4037-8071-b6726ac75ec6",
   "metadata": {},
   "outputs": [],
   "source": [
    "browser.find_element(by = By.XPATH,value = '//*[@id=\"yDmH0d\"]/c-wiz[2]/div/div/div[1]/div[2]/div/div[1]/c-wiz[4]/section/div/div/div[5]/div/div/button/span').click()\n",
    "#리뷰모두보기클릭"
   ]
  },
  {
   "cell_type": "code",
   "execution_count": 76,
   "id": "2d3f823e-2eef-4c18-a284-4de46b5cd693",
   "metadata": {},
   "outputs": [],
   "source": [
    "#스크롤 시 이미지가 더 많이 생성되므로 자동으로 스크롤 하는 반복문 생성\n",
    "while True:\n",
    "    \n",
    "    #현재 문서의 스크롤 높이를 저장\n",
    "    now_scroll = browser.execute_script('return document.body.scrollHeight')\n",
    "    \n",
    "    #페이지 최하단으로 스크롤\n",
    "    browser.execute_script('window.scrollTo(0, document.body.scrollHeight);')\n",
    "    \n",
    "    #페이지 로딩 대기\n",
    "    time.sleep(1)\n",
    "    \n",
    "    #스크롤 한 문서의 스크롤 높이를 저장\n",
    "    last_scroll = browser.execute_script('return document.body.scrollHeight')\n",
    "    \n",
    "    #현재 높이와 이전 높이가 같은 경우 반복문을 탈출하는 조건문 생성\n",
    "    if now_scroll == last_scroll:\n",
    "        \n",
    "        #더보기 버튼이 있는 경우 클릭 후 탈출 그 외는 그냥 탈출\n",
    "        try:\n",
    "            browser.find_element(by = By.CSS_SELECTOR,value = '.mye4qd').click()\n",
    "            break\n",
    "        except:\n",
    "            break"
   ]
  },
  {
   "cell_type": "code",
   "execution_count": 85,
   "id": "1e9505d9-796d-4d08-a11f-52043c86dc27",
   "metadata": {},
   "outputs": [
    {
     "name": "stdout",
     "output_type": "stream",
     "text": [
      "없어그딴거\n"
     ]
    }
   ],
   "source": [
    "rvw =  browser.find_elements(by= By.CLASS_NAME,value = 'h3YV2d')\n",
    "try : \n",
    "    for i in range(200) :\n",
    "        asdf = []\n",
    "        asdf.append(rvw[i].text)\n",
    "        asdf = pd.DataFrame(data=[asdf],columns=data.columns)\n",
    "        data = pd.concat([data,asdf])\n",
    "except IndexError :\n",
    "    print('없어그딴거')\n",
    "#100개의 리뷰를 수집했습니다.\n",
    "#리뷰없는건 예외처리"
   ]
  },
  {
   "cell_type": "code",
   "execution_count": 86,
   "id": "ef3ba4f2-9974-4646-8aab-25c7751da5be",
   "metadata": {},
   "outputs": [
    {
     "data": {
      "text/html": [
       "<div>\n",
       "<style scoped>\n",
       "    .dataframe tbody tr th:only-of-type {\n",
       "        vertical-align: middle;\n",
       "    }\n",
       "\n",
       "    .dataframe tbody tr th {\n",
       "        vertical-align: top;\n",
       "    }\n",
       "\n",
       "    .dataframe thead th {\n",
       "        text-align: right;\n",
       "    }\n",
       "</style>\n",
       "<table border=\"1\" class=\"dataframe\">\n",
       "  <thead>\n",
       "    <tr style=\"text-align: right;\">\n",
       "      <th></th>\n",
       "      <th>Review</th>\n",
       "    </tr>\n",
       "  </thead>\n",
       "  <tbody>\n",
       "    <tr>\n",
       "      <th>0</th>\n",
       "      <td></td>\n",
       "    </tr>\n",
       "    <tr>\n",
       "      <th>0</th>\n",
       "      <td></td>\n",
       "    </tr>\n",
       "    <tr>\n",
       "      <th>0</th>\n",
       "      <td></td>\n",
       "    </tr>\n",
       "    <tr>\n",
       "      <th>0</th>\n",
       "      <td>아이템 사기시작하면 지옥!! 어찌어찌 11800렙 달성. 10400렙대에서는 난이도...</td>\n",
       "    </tr>\n",
       "    <tr>\n",
       "      <th>0</th>\n",
       "      <td>이상하게 쉬운 레벨은 너무 쉽고 어려운 레벨은 너무 어렵습니다.(특히 악몽처럼 어려...</td>\n",
       "    </tr>\n",
       "    <tr>\n",
       "      <th>...</th>\n",
       "      <td>...</td>\n",
       "    </tr>\n",
       "    <tr>\n",
       "      <th>0</th>\n",
       "      <td>제가 이 게임을 오늘 처음 설치한게 아니라 어렸을때부터 제 핸드폰에 깔려있던 게임 ...</td>\n",
       "    </tr>\n",
       "    <tr>\n",
       "      <th>0</th>\n",
       "      <td>장난하냐진짜... 400스테이지 넘어갈때부터 현금없이 넘어갈수있는 스테이지가 얼마나...</td>\n",
       "    </tr>\n",
       "    <tr>\n",
       "      <th>0</th>\n",
       "      <td>안녕하세요. 캔디크러쉬사가 900탄 플레이어인데요. 와ㅡㅡ 정말 어렵습니다. 물론 ...</td>\n",
       "    </tr>\n",
       "    <tr>\n",
       "      <th>0</th>\n",
       "      <td>2200레벨까지 하다가 페이스북 연동 아이디를 삭제하는바람에 다시 1레벨부터 시작중...</td>\n",
       "    </tr>\n",
       "    <tr>\n",
       "      <th>0</th>\n",
       "      <td>11월18일에게임상에서 골드바를구매후 취소가뜨길래결재가안된줄알았는데 결재완료문자와주...</td>\n",
       "    </tr>\n",
       "  </tbody>\n",
       "</table>\n",
       "<p>172 rows × 1 columns</p>\n",
       "</div>"
      ],
      "text/plain": [
       "                                               Review\n",
       "0                                                    \n",
       "0                                                    \n",
       "0                                                    \n",
       "0   아이템 사기시작하면 지옥!! 어찌어찌 11800렙 달성. 10400렙대에서는 난이도...\n",
       "0   이상하게 쉬운 레벨은 너무 쉽고 어려운 레벨은 너무 어렵습니다.(특히 악몽처럼 어려...\n",
       "..                                                ...\n",
       "0   제가 이 게임을 오늘 처음 설치한게 아니라 어렸을때부터 제 핸드폰에 깔려있던 게임 ...\n",
       "0   장난하냐진짜... 400스테이지 넘어갈때부터 현금없이 넘어갈수있는 스테이지가 얼마나...\n",
       "0   안녕하세요. 캔디크러쉬사가 900탄 플레이어인데요. 와ㅡㅡ 정말 어렵습니다. 물론 ...\n",
       "0   2200레벨까지 하다가 페이스북 연동 아이디를 삭제하는바람에 다시 1레벨부터 시작중...\n",
       "0   11월18일에게임상에서 골드바를구매후 취소가뜨길래결재가안된줄알았는데 결재완료문자와주...\n",
       "\n",
       "[172 rows x 1 columns]"
      ]
     },
     "execution_count": 86,
     "metadata": {},
     "output_type": "execute_result"
    }
   ],
   "source": [
    "data"
   ]
  },
  {
   "cell_type": "code",
   "execution_count": 87,
   "id": "6c0e29d6-b515-4c7a-a04b-2480bb41b684",
   "metadata": {},
   "outputs": [],
   "source": [
    "data.to_csv('캔디크러쉬사가_리뷰.csv',encoding='utf-8')\n",
    "#csv로저장합니다"
   ]
  }
 ],
 "metadata": {
  "kernelspec": {
   "display_name": "Python 3 (ipykernel)",
   "language": "python",
   "name": "python3"
  },
  "language_info": {
   "codemirror_mode": {
    "name": "ipython",
    "version": 3
   },
   "file_extension": ".py",
   "mimetype": "text/x-python",
   "name": "python",
   "nbconvert_exporter": "python",
   "pygments_lexer": "ipython3",
   "version": "3.9.12"
  }
 },
 "nbformat": 4,
 "nbformat_minor": 5
}
